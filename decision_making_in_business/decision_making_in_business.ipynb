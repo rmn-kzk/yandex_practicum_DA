{
 "cells": [
  {
   "cell_type": "markdown",
   "metadata": {},
   "source": [
    "# Принятие решений в бизнесе"
   ]
  },
  {
   "cell_type": "markdown",
   "metadata": {},
   "source": [
    "### Описание проекта"
   ]
  },
  {
   "cell_type": "markdown",
   "metadata": {},
   "source": [
    "Вместе с отделом маркетинга был подготовлен список гипотез для увеличения выручки  крупного интернет-магазина.\n",
    "Приоритезируем гипотезы, запустим A/B-тест и проанализируем результаты. \n",
    "\n",
    "**Часть 1. Приоритизация гипотез.**\n",
    "\n",
    "В файле `/datasets/hypothesis.csv` 9 гипотез по увеличению выручки интернет-магазина с указанными параметрами Reach, Impact, Confidence, Effort.\n",
    "\n",
    "**Задача**\n",
    "\n",
    "- Примените фреймворк ICE для приоритизации гипотез. Отсортируйте их по убыванию приоритета.\n",
    "- Примените фреймворк RICE для приоритизации гипотез. Отсортируйте их по убыванию приоритета.\n",
    "- Укажите, как изменилась приоритизация гипотез при применении RICE вместо ICE. Объясните, почему так произошло.\n",
    "\n",
    "**Часть 2. Анализ A/B-теста**\n",
    "\n",
    "Провели A/B-тест и получили результаты, которые описаны в файлах `/datasets/orders.csv` и `/datasets/visitors.csv`.\n",
    "\n",
    "**Задача**\n",
    "\n",
    "Проанализируйте A/B-тест:\n",
    "- Постройте график кумулятивной выручки по группам. Сделайте выводы и предположения.\n",
    "- Постройте график кумулятивного среднего чека по группам. Сделайте выводы и предположения.\n",
    "- Постройте график относительного изменения кумулятивного среднего чека группы B к группе A. Сделайте выводы и предположения.\n",
    "- Постройте график кумулятивного среднего количества заказов на посетителя по группам. Сделайте выводы и предположения.\n",
    "- Постройте график относительного изменения кумулятивного среднего количества заказов на посетителя группы B к группе A. Сделайте выводы и предположения.\n",
    "- Постройте точечный график количества заказов по пользователям. Сделайте выводы и предположения.\n",
    "- Посчитайте 95-й и 99-й перцентили количества заказов на пользователя. Выберите границу для определения аномальных пользователей.\n",
    "- Постройте точечный график стоимостей заказов. Сделайте выводы и предположения.\n",
    "- Посчитайте 95-й и 99-й перцентили стоимости заказов. Выберите границу для определения аномальных заказов.\n",
    "- Посчитайте статистическую значимость различий в среднем количестве заказов на посетителя между группами по «сырым» данным. Сделайте выводы и предположения.\n",
    "- Посчитайте статистическую значимость различий в среднем чеке заказа между группами по «сырым» данным. Сделайте выводы и предположения.\n",
    "- Посчитайте статистическую значимость различий в среднем количестве заказов на посетителя между группами по «очищенным» данным. Сделайте выводы и предположения.\n",
    "- Посчитайте статистическую значимость различий в среднем чеке заказа между группами по «очищенным» данным. Сделайте выводы и предположения.\n",
    "- Примите решение по результатам теста и объясните его. Варианты решений:\n",
    "    1. Остановить тест, зафиксировать победу одной из групп.\n",
    "    2. Остановить тест, зафиксировать отсутствие различий между группами.\n",
    "    3. Продолжить тест."
   ]
  },
  {
   "cell_type": "markdown",
   "metadata": {},
   "source": [
    "#### Описание данных"
   ]
  },
  {
   "cell_type": "markdown",
   "metadata": {},
   "source": [
    "**Данные для первой части**\n",
    "\n",
    "Файл `/datasets/hypothesis.csv.`\n",
    "\n",
    "- `Hypothesis` — краткое описание гипотезы;\n",
    "- `Reach` — охват пользователей по 10-балльной шкале;\n",
    "- `Impact` — влияние на пользователей по 10-балльной шкале;\n",
    "- `Confidence` — уверенность в гипотезе по 10-балльной шкале;\n",
    "- `Efforts` — затраты ресурсов на проверку гипотезы по 10-балльной шкале. Чем больше значение Efforts, тем дороже проверка гипотезы.\n",
    "\n",
    "**Данные для второй части**\n",
    "\n",
    "Файл `/datasets/orders.csv.`\n",
    "\n",
    "- `transactionId` — идентификатор заказа;\n",
    "- `visitorId` — идентификатор пользователя, совершившего заказ;\n",
    "- `date` — дата, когда был совершён заказ;\n",
    "- `revenue` — выручка заказа;\n",
    "- `group` — группа A/B-теста, в которую попал заказ.\n",
    "\n",
    "Файл `/datasets/visitors.csv.`\n",
    "\n",
    "- `date` — дата;\n",
    "- `group` — группа A/B-теста;\n",
    "- `visitors` — количество пользователей в указанную дату в указанной группе A/B-теста"
   ]
  },
  {
   "cell_type": "markdown",
   "metadata": {},
   "source": [
    "### Знакомство с данными и предобработка"
   ]
  },
  {
   "cell_type": "markdown",
   "metadata": {},
   "source": [
    "Загрузим данные"
   ]
  },
  {
   "cell_type": "code",
   "execution_count": 1,
   "metadata": {},
   "outputs": [],
   "source": [
    "# импортируем библиотеки\n",
    "\n",
    "import pandas as pd\n",
    "import numpy as np\n",
    "import matplotlib.pyplot as plt\n",
    "import matplotlib as mpl\n",
    "import seaborn as sns\n",
    "import math\n",
    "import datetime as dt\n",
    "import scipy.stats as stats\n",
    "\n",
    "from scipy import stats as st\n",
    "\n",
    "# убираем scientific notation\n",
    "pd.set_option('display.float_format', lambda x: '%.3f' % x)\n",
    "\n",
    "# снимаем ограничение на количество столбцов и их ширину\n",
    "pd.set_option('display.max_columns', None)\n",
    "pd.set_option('display.max_colwidth', None)"
   ]
  },
  {
   "cell_type": "code",
   "execution_count": 2,
   "metadata": {},
   "outputs": [],
   "source": [
    "hypothesis, orders, visitors = (\n",
    "        pd.read_csv('/datasets/hypothesis.csv'),\n",
    "        pd.read_csv('/datasets/orders.csv'),\n",
    "        pd.read_csv('/datasets/visitors.csv')\n",
    "    )"
   ]
  },
  {
   "cell_type": "markdown",
   "metadata": {},
   "source": [
    "Посмотрим на датасеты"
   ]
  },
  {
   "cell_type": "code",
   "execution_count": 3,
   "metadata": {},
   "outputs": [
    {
     "data": {
      "text/html": [
       "<div>\n",
       "<style scoped>\n",
       "    .dataframe tbody tr th:only-of-type {\n",
       "        vertical-align: middle;\n",
       "    }\n",
       "\n",
       "    .dataframe tbody tr th {\n",
       "        vertical-align: top;\n",
       "    }\n",
       "\n",
       "    .dataframe thead th {\n",
       "        text-align: right;\n",
       "    }\n",
       "</style>\n",
       "<table border=\"1\" class=\"dataframe\">\n",
       "  <thead>\n",
       "    <tr style=\"text-align: right;\">\n",
       "      <th></th>\n",
       "      <th>Hypothesis</th>\n",
       "      <th>Reach</th>\n",
       "      <th>Impact</th>\n",
       "      <th>Confidence</th>\n",
       "      <th>Efforts</th>\n",
       "    </tr>\n",
       "  </thead>\n",
       "  <tbody>\n",
       "    <tr>\n",
       "      <th>0</th>\n",
       "      <td>Добавить два новых канала привлечения трафика, что позволит привлекать на 30% больше пользователей</td>\n",
       "      <td>3</td>\n",
       "      <td>10</td>\n",
       "      <td>8</td>\n",
       "      <td>6</td>\n",
       "    </tr>\n",
       "    <tr>\n",
       "      <th>1</th>\n",
       "      <td>Запустить собственную службу доставки, что сократит срок доставки заказов</td>\n",
       "      <td>2</td>\n",
       "      <td>5</td>\n",
       "      <td>4</td>\n",
       "      <td>10</td>\n",
       "    </tr>\n",
       "    <tr>\n",
       "      <th>2</th>\n",
       "      <td>Добавить блоки рекомендаций товаров на сайт интернет магазина, чтобы повысить конверсию и средний чек заказа</td>\n",
       "      <td>8</td>\n",
       "      <td>3</td>\n",
       "      <td>7</td>\n",
       "      <td>3</td>\n",
       "    </tr>\n",
       "    <tr>\n",
       "      <th>3</th>\n",
       "      <td>Изменить структура категорий, что увеличит конверсию, т.к. пользователи быстрее найдут нужный товар</td>\n",
       "      <td>8</td>\n",
       "      <td>3</td>\n",
       "      <td>3</td>\n",
       "      <td>8</td>\n",
       "    </tr>\n",
       "    <tr>\n",
       "      <th>4</th>\n",
       "      <td>Изменить цвет фона главной страницы, чтобы увеличить вовлеченность пользователей</td>\n",
       "      <td>3</td>\n",
       "      <td>1</td>\n",
       "      <td>1</td>\n",
       "      <td>1</td>\n",
       "    </tr>\n",
       "    <tr>\n",
       "      <th>5</th>\n",
       "      <td>Добавить страницу отзывов клиентов о магазине, что позволит увеличить количество заказов</td>\n",
       "      <td>3</td>\n",
       "      <td>2</td>\n",
       "      <td>2</td>\n",
       "      <td>3</td>\n",
       "    </tr>\n",
       "    <tr>\n",
       "      <th>6</th>\n",
       "      <td>Показать на главной странице баннеры с актуальными акциями и распродажами, чтобы увеличить конверсию</td>\n",
       "      <td>5</td>\n",
       "      <td>3</td>\n",
       "      <td>8</td>\n",
       "      <td>3</td>\n",
       "    </tr>\n",
       "    <tr>\n",
       "      <th>7</th>\n",
       "      <td>Добавить форму подписки на все основные страницы, чтобы собрать базу клиентов для email-рассылок</td>\n",
       "      <td>10</td>\n",
       "      <td>7</td>\n",
       "      <td>8</td>\n",
       "      <td>5</td>\n",
       "    </tr>\n",
       "    <tr>\n",
       "      <th>8</th>\n",
       "      <td>Запустить акцию, дающую скидку на товар в день рождения</td>\n",
       "      <td>1</td>\n",
       "      <td>9</td>\n",
       "      <td>9</td>\n",
       "      <td>5</td>\n",
       "    </tr>\n",
       "  </tbody>\n",
       "</table>\n",
       "</div>"
      ],
      "text/plain": [
       "                                                                                                     Hypothesis  \\\n",
       "0            Добавить два новых канала привлечения трафика, что позволит привлекать на 30% больше пользователей   \n",
       "1                                     Запустить собственную службу доставки, что сократит срок доставки заказов   \n",
       "2  Добавить блоки рекомендаций товаров на сайт интернет магазина, чтобы повысить конверсию и средний чек заказа   \n",
       "3           Изменить структура категорий, что увеличит конверсию, т.к. пользователи быстрее найдут нужный товар   \n",
       "4                              Изменить цвет фона главной страницы, чтобы увеличить вовлеченность пользователей   \n",
       "5                      Добавить страницу отзывов клиентов о магазине, что позволит увеличить количество заказов   \n",
       "6          Показать на главной странице баннеры с актуальными акциями и распродажами, чтобы увеличить конверсию   \n",
       "7              Добавить форму подписки на все основные страницы, чтобы собрать базу клиентов для email-рассылок   \n",
       "8                                                       Запустить акцию, дающую скидку на товар в день рождения   \n",
       "\n",
       "   Reach  Impact  Confidence  Efforts  \n",
       "0      3      10           8        6  \n",
       "1      2       5           4       10  \n",
       "2      8       3           7        3  \n",
       "3      8       3           3        8  \n",
       "4      3       1           1        1  \n",
       "5      3       2           2        3  \n",
       "6      5       3           8        3  \n",
       "7     10       7           8        5  \n",
       "8      1       9           9        5  "
      ]
     },
     "execution_count": 3,
     "metadata": {},
     "output_type": "execute_result"
    }
   ],
   "source": [
    "hypothesis"
   ]
  },
  {
   "cell_type": "markdown",
   "metadata": {},
   "source": [
    "Датасет `hypothesis` содержит 9 гипотез по увеличению выручки интернет-магазина с указанными параметрами Reach, Impact, Confidence, Effort."
   ]
  },
  {
   "cell_type": "code",
   "execution_count": 4,
   "metadata": {},
   "outputs": [
    {
     "data": {
      "text/html": [
       "<div>\n",
       "<style scoped>\n",
       "    .dataframe tbody tr th:only-of-type {\n",
       "        vertical-align: middle;\n",
       "    }\n",
       "\n",
       "    .dataframe tbody tr th {\n",
       "        vertical-align: top;\n",
       "    }\n",
       "\n",
       "    .dataframe thead th {\n",
       "        text-align: right;\n",
       "    }\n",
       "</style>\n",
       "<table border=\"1\" class=\"dataframe\">\n",
       "  <thead>\n",
       "    <tr style=\"text-align: right;\">\n",
       "      <th></th>\n",
       "      <th>transactionId</th>\n",
       "      <th>visitorId</th>\n",
       "      <th>date</th>\n",
       "      <th>revenue</th>\n",
       "      <th>group</th>\n",
       "    </tr>\n",
       "  </thead>\n",
       "  <tbody>\n",
       "    <tr>\n",
       "      <th>693</th>\n",
       "      <td>3244441077</td>\n",
       "      <td>3803269165</td>\n",
       "      <td>2019-08-09</td>\n",
       "      <td>590</td>\n",
       "      <td>B</td>\n",
       "    </tr>\n",
       "    <tr>\n",
       "      <th>584</th>\n",
       "      <td>1126146019</td>\n",
       "      <td>2705308997</td>\n",
       "      <td>2019-08-20</td>\n",
       "      <td>50</td>\n",
       "      <td>A</td>\n",
       "    </tr>\n",
       "    <tr>\n",
       "      <th>1143</th>\n",
       "      <td>3551685910</td>\n",
       "      <td>2397025226</td>\n",
       "      <td>2019-08-13</td>\n",
       "      <td>910</td>\n",
       "      <td>B</td>\n",
       "    </tr>\n",
       "    <tr>\n",
       "      <th>1060</th>\n",
       "      <td>2518195580</td>\n",
       "      <td>4163850406</td>\n",
       "      <td>2019-08-11</td>\n",
       "      <td>8950</td>\n",
       "      <td>A</td>\n",
       "    </tr>\n",
       "    <tr>\n",
       "      <th>975</th>\n",
       "      <td>3492564891</td>\n",
       "      <td>228221722</td>\n",
       "      <td>2019-08-22</td>\n",
       "      <td>12336</td>\n",
       "      <td>B</td>\n",
       "    </tr>\n",
       "  </tbody>\n",
       "</table>\n",
       "</div>"
      ],
      "text/plain": [
       "      transactionId   visitorId        date  revenue group\n",
       "693      3244441077  3803269165  2019-08-09      590     B\n",
       "584      1126146019  2705308997  2019-08-20       50     A\n",
       "1143     3551685910  2397025226  2019-08-13      910     B\n",
       "1060     2518195580  4163850406  2019-08-11     8950     A\n",
       "975      3492564891   228221722  2019-08-22    12336     B"
      ]
     },
     "execution_count": 4,
     "metadata": {},
     "output_type": "execute_result"
    }
   ],
   "source": [
    "orders.sample(5)"
   ]
  },
  {
   "cell_type": "markdown",
   "metadata": {},
   "source": [
    "Здесь данные о заказах и их стомости "
   ]
  },
  {
   "cell_type": "code",
   "execution_count": 5,
   "metadata": {},
   "outputs": [
    {
     "data": {
      "text/html": [
       "<div>\n",
       "<style scoped>\n",
       "    .dataframe tbody tr th:only-of-type {\n",
       "        vertical-align: middle;\n",
       "    }\n",
       "\n",
       "    .dataframe tbody tr th {\n",
       "        vertical-align: top;\n",
       "    }\n",
       "\n",
       "    .dataframe thead th {\n",
       "        text-align: right;\n",
       "    }\n",
       "</style>\n",
       "<table border=\"1\" class=\"dataframe\">\n",
       "  <thead>\n",
       "    <tr style=\"text-align: right;\">\n",
       "      <th></th>\n",
       "      <th>date</th>\n",
       "      <th>group</th>\n",
       "      <th>visitors</th>\n",
       "    </tr>\n",
       "  </thead>\n",
       "  <tbody>\n",
       "    <tr>\n",
       "      <th>8</th>\n",
       "      <td>2019-08-09</td>\n",
       "      <td>A</td>\n",
       "      <td>617</td>\n",
       "    </tr>\n",
       "    <tr>\n",
       "      <th>26</th>\n",
       "      <td>2019-08-27</td>\n",
       "      <td>A</td>\n",
       "      <td>711</td>\n",
       "    </tr>\n",
       "    <tr>\n",
       "      <th>23</th>\n",
       "      <td>2019-08-24</td>\n",
       "      <td>A</td>\n",
       "      <td>395</td>\n",
       "    </tr>\n",
       "    <tr>\n",
       "      <th>46</th>\n",
       "      <td>2019-08-16</td>\n",
       "      <td>B</td>\n",
       "      <td>413</td>\n",
       "    </tr>\n",
       "    <tr>\n",
       "      <th>16</th>\n",
       "      <td>2019-08-17</td>\n",
       "      <td>A</td>\n",
       "      <td>412</td>\n",
       "    </tr>\n",
       "  </tbody>\n",
       "</table>\n",
       "</div>"
      ],
      "text/plain": [
       "          date group  visitors\n",
       "8   2019-08-09     A       617\n",
       "26  2019-08-27     A       711\n",
       "23  2019-08-24     A       395\n",
       "46  2019-08-16     B       413\n",
       "16  2019-08-17     A       412"
      ]
     },
     "execution_count": 5,
     "metadata": {},
     "output_type": "execute_result"
    }
   ],
   "source": [
    "visitors.sample(5)"
   ]
  },
  {
   "cell_type": "markdown",
   "metadata": {},
   "source": [
    "Данные о посещениях.\n",
    "\n",
    "В датасетах `orders` и `visitors` хранятся резулььтаты A/B теста."
   ]
  },
  {
   "cell_type": "markdown",
   "metadata": {},
   "source": [
    "#### Проверка полных дубликатов"
   ]
  },
  {
   "cell_type": "code",
   "execution_count": 6,
   "metadata": {},
   "outputs": [
    {
     "name": "stdout",
     "output_type": "stream",
     "text": [
      "Количество полных дубликатов в orders 0\n",
      "Количество полных дубликатов в visitors 0\n"
     ]
    }
   ],
   "source": [
    "print('Количество полных дубликатов в orders', orders.duplicated().sum())\n",
    "print('Количество полных дубликатов в visitors', visitors.duplicated().sum())"
   ]
  },
  {
   "cell_type": "markdown",
   "metadata": {},
   "source": [
    "Как мы видим, в данных нет дубликатов\n",
    "\n"
   ]
  },
  {
   "cell_type": "markdown",
   "metadata": {},
   "source": [
    "#### Предобработка данных"
   ]
  },
  {
   "cell_type": "markdown",
   "metadata": {},
   "source": [
    "Проверим формат данных"
   ]
  },
  {
   "cell_type": "code",
   "execution_count": 7,
   "metadata": {},
   "outputs": [
    {
     "name": "stdout",
     "output_type": "stream",
     "text": [
      "<class 'pandas.core.frame.DataFrame'>\n",
      "RangeIndex: 9 entries, 0 to 8\n",
      "Data columns (total 5 columns):\n",
      " #   Column      Non-Null Count  Dtype \n",
      "---  ------      --------------  ----- \n",
      " 0   Hypothesis  9 non-null      object\n",
      " 1   Reach       9 non-null      int64 \n",
      " 2   Impact      9 non-null      int64 \n",
      " 3   Confidence  9 non-null      int64 \n",
      " 4   Efforts     9 non-null      int64 \n",
      "dtypes: int64(4), object(1)\n",
      "memory usage: 488.0+ bytes\n"
     ]
    },
    {
     "data": {
      "text/plain": [
       "None"
      ]
     },
     "metadata": {},
     "output_type": "display_data"
    },
    {
     "name": "stdout",
     "output_type": "stream",
     "text": [
      "<class 'pandas.core.frame.DataFrame'>\n",
      "RangeIndex: 1197 entries, 0 to 1196\n",
      "Data columns (total 5 columns):\n",
      " #   Column         Non-Null Count  Dtype \n",
      "---  ------         --------------  ----- \n",
      " 0   transactionId  1197 non-null   int64 \n",
      " 1   visitorId      1197 non-null   int64 \n",
      " 2   date           1197 non-null   object\n",
      " 3   revenue        1197 non-null   int64 \n",
      " 4   group          1197 non-null   object\n",
      "dtypes: int64(3), object(2)\n",
      "memory usage: 46.9+ KB\n"
     ]
    },
    {
     "data": {
      "text/plain": [
       "None"
      ]
     },
     "metadata": {},
     "output_type": "display_data"
    },
    {
     "name": "stdout",
     "output_type": "stream",
     "text": [
      "<class 'pandas.core.frame.DataFrame'>\n",
      "RangeIndex: 62 entries, 0 to 61\n",
      "Data columns (total 3 columns):\n",
      " #   Column    Non-Null Count  Dtype \n",
      "---  ------    --------------  ----- \n",
      " 0   date      62 non-null     object\n",
      " 1   group     62 non-null     object\n",
      " 2   visitors  62 non-null     int64 \n",
      "dtypes: int64(1), object(2)\n",
      "memory usage: 1.6+ KB\n"
     ]
    },
    {
     "data": {
      "text/plain": [
       "None"
      ]
     },
     "metadata": {},
     "output_type": "display_data"
    }
   ],
   "source": [
    "display(hypothesis.info())\n",
    "display(orders.info())\n",
    "display(visitors.info())"
   ]
  },
  {
   "cell_type": "markdown",
   "metadata": {},
   "source": [
    "Изменим формат для столбцов с датами"
   ]
  },
  {
   "cell_type": "code",
   "execution_count": 8,
   "metadata": {},
   "outputs": [],
   "source": [
    "orders['date'] = pd.to_datetime(orders['date'])\n",
    "visitors['date'] = pd.to_datetime(visitors['date'])"
   ]
  },
  {
   "cell_type": "markdown",
   "metadata": {},
   "source": [
    "Изменим формат названия столбцов, а также уберем из них пробелы (заменим их на '_')"
   ]
  },
  {
   "cell_type": "code",
   "execution_count": 9,
   "metadata": {},
   "outputs": [],
   "source": [
    "hypothesis.columns = [name.lower().replace(' ', '_') for name in hypothesis.columns]\n",
    "orders.columns = [name.lower().replace(' ', '_') for name in orders.columns]\n",
    "visitors.columns = [name.lower().replace(' ', '_') for name in visitors.columns]"
   ]
  },
  {
   "cell_type": "markdown",
   "metadata": {},
   "source": [
    "Проверим названия столбцов еще раз"
   ]
  },
  {
   "cell_type": "code",
   "execution_count": 10,
   "metadata": {},
   "outputs": [
    {
     "data": {
      "text/plain": [
       "Index(['hypothesis', 'reach', 'impact', 'confidence', 'efforts'], dtype='object')"
      ]
     },
     "metadata": {},
     "output_type": "display_data"
    },
    {
     "data": {
      "text/plain": [
       "Index(['transactionid', 'visitorid', 'date', 'revenue', 'group'], dtype='object')"
      ]
     },
     "metadata": {},
     "output_type": "display_data"
    },
    {
     "data": {
      "text/plain": [
       "Index(['date', 'group', 'visitors'], dtype='object')"
      ]
     },
     "metadata": {},
     "output_type": "display_data"
    }
   ],
   "source": [
    "display(hypothesis.columns)\n",
    "display(orders.columns)\n",
    "display(visitors.columns)"
   ]
  },
  {
   "cell_type": "markdown",
   "metadata": {},
   "source": [
    "В данном разделе исправил форматы данных для дат, а также изменил названия столбцов на нижний регистр.\n",
    "После проверки данных, мы видим, что в данных нет полных дубликатов."
   ]
  },
  {
   "cell_type": "markdown",
   "metadata": {},
   "source": [
    "### Часть 1. Приоритизация гипотез."
   ]
  },
  {
   "cell_type": "markdown",
   "metadata": {},
   "source": [
    "Посмотрим на список гипотез, полученный от отдела маркетинга."
   ]
  },
  {
   "cell_type": "code",
   "execution_count": 11,
   "metadata": {},
   "outputs": [
    {
     "data": {
      "text/html": [
       "<div>\n",
       "<style scoped>\n",
       "    .dataframe tbody tr th:only-of-type {\n",
       "        vertical-align: middle;\n",
       "    }\n",
       "\n",
       "    .dataframe tbody tr th {\n",
       "        vertical-align: top;\n",
       "    }\n",
       "\n",
       "    .dataframe thead th {\n",
       "        text-align: right;\n",
       "    }\n",
       "</style>\n",
       "<table border=\"1\" class=\"dataframe\">\n",
       "  <thead>\n",
       "    <tr style=\"text-align: right;\">\n",
       "      <th></th>\n",
       "      <th>hypothesis</th>\n",
       "      <th>reach</th>\n",
       "      <th>impact</th>\n",
       "      <th>confidence</th>\n",
       "      <th>efforts</th>\n",
       "    </tr>\n",
       "  </thead>\n",
       "  <tbody>\n",
       "    <tr>\n",
       "      <th>0</th>\n",
       "      <td>Добавить два новых канала привлечения трафика, что позволит привлекать на 30% больше пользователей</td>\n",
       "      <td>3</td>\n",
       "      <td>10</td>\n",
       "      <td>8</td>\n",
       "      <td>6</td>\n",
       "    </tr>\n",
       "    <tr>\n",
       "      <th>1</th>\n",
       "      <td>Запустить собственную службу доставки, что сократит срок доставки заказов</td>\n",
       "      <td>2</td>\n",
       "      <td>5</td>\n",
       "      <td>4</td>\n",
       "      <td>10</td>\n",
       "    </tr>\n",
       "    <tr>\n",
       "      <th>2</th>\n",
       "      <td>Добавить блоки рекомендаций товаров на сайт интернет магазина, чтобы повысить конверсию и средний чек заказа</td>\n",
       "      <td>8</td>\n",
       "      <td>3</td>\n",
       "      <td>7</td>\n",
       "      <td>3</td>\n",
       "    </tr>\n",
       "    <tr>\n",
       "      <th>3</th>\n",
       "      <td>Изменить структура категорий, что увеличит конверсию, т.к. пользователи быстрее найдут нужный товар</td>\n",
       "      <td>8</td>\n",
       "      <td>3</td>\n",
       "      <td>3</td>\n",
       "      <td>8</td>\n",
       "    </tr>\n",
       "    <tr>\n",
       "      <th>4</th>\n",
       "      <td>Изменить цвет фона главной страницы, чтобы увеличить вовлеченность пользователей</td>\n",
       "      <td>3</td>\n",
       "      <td>1</td>\n",
       "      <td>1</td>\n",
       "      <td>1</td>\n",
       "    </tr>\n",
       "    <tr>\n",
       "      <th>5</th>\n",
       "      <td>Добавить страницу отзывов клиентов о магазине, что позволит увеличить количество заказов</td>\n",
       "      <td>3</td>\n",
       "      <td>2</td>\n",
       "      <td>2</td>\n",
       "      <td>3</td>\n",
       "    </tr>\n",
       "    <tr>\n",
       "      <th>6</th>\n",
       "      <td>Показать на главной странице баннеры с актуальными акциями и распродажами, чтобы увеличить конверсию</td>\n",
       "      <td>5</td>\n",
       "      <td>3</td>\n",
       "      <td>8</td>\n",
       "      <td>3</td>\n",
       "    </tr>\n",
       "    <tr>\n",
       "      <th>7</th>\n",
       "      <td>Добавить форму подписки на все основные страницы, чтобы собрать базу клиентов для email-рассылок</td>\n",
       "      <td>10</td>\n",
       "      <td>7</td>\n",
       "      <td>8</td>\n",
       "      <td>5</td>\n",
       "    </tr>\n",
       "    <tr>\n",
       "      <th>8</th>\n",
       "      <td>Запустить акцию, дающую скидку на товар в день рождения</td>\n",
       "      <td>1</td>\n",
       "      <td>9</td>\n",
       "      <td>9</td>\n",
       "      <td>5</td>\n",
       "    </tr>\n",
       "  </tbody>\n",
       "</table>\n",
       "</div>"
      ],
      "text/plain": [
       "                                                                                                     hypothesis  \\\n",
       "0            Добавить два новых канала привлечения трафика, что позволит привлекать на 30% больше пользователей   \n",
       "1                                     Запустить собственную службу доставки, что сократит срок доставки заказов   \n",
       "2  Добавить блоки рекомендаций товаров на сайт интернет магазина, чтобы повысить конверсию и средний чек заказа   \n",
       "3           Изменить структура категорий, что увеличит конверсию, т.к. пользователи быстрее найдут нужный товар   \n",
       "4                              Изменить цвет фона главной страницы, чтобы увеличить вовлеченность пользователей   \n",
       "5                      Добавить страницу отзывов клиентов о магазине, что позволит увеличить количество заказов   \n",
       "6          Показать на главной странице баннеры с актуальными акциями и распродажами, чтобы увеличить конверсию   \n",
       "7              Добавить форму подписки на все основные страницы, чтобы собрать базу клиентов для email-рассылок   \n",
       "8                                                       Запустить акцию, дающую скидку на товар в день рождения   \n",
       "\n",
       "   reach  impact  confidence  efforts  \n",
       "0      3      10           8        6  \n",
       "1      2       5           4       10  \n",
       "2      8       3           7        3  \n",
       "3      8       3           3        8  \n",
       "4      3       1           1        1  \n",
       "5      3       2           2        3  \n",
       "6      5       3           8        3  \n",
       "7     10       7           8        5  \n",
       "8      1       9           9        5  "
      ]
     },
     "metadata": {},
     "output_type": "display_data"
    }
   ],
   "source": [
    "display(hypothesis)"
   ]
  },
  {
   "cell_type": "markdown",
   "metadata": {},
   "source": [
    "Мы видим, что гипотезы оценили по модели RICE - (Reach, Impact, Confidence, Effort). В процессе приоритизации, мы можем использовать как фреймворк RICE, так и ICE, который не учитывает параметр Reach. Проведем расчет с помощью каждого из фреймворков и сравним результаты."
   ]
  },
  {
   "cell_type": "markdown",
   "metadata": {},
   "source": [
    "#### Применим фреймворк ICE для приоритизации гипотез."
   ]
  },
  {
   "cell_type": "code",
   "execution_count": 12,
   "metadata": {},
   "outputs": [
    {
     "data": {
      "text/html": [
       "<div>\n",
       "<style scoped>\n",
       "    .dataframe tbody tr th:only-of-type {\n",
       "        vertical-align: middle;\n",
       "    }\n",
       "\n",
       "    .dataframe tbody tr th {\n",
       "        vertical-align: top;\n",
       "    }\n",
       "\n",
       "    .dataframe thead th {\n",
       "        text-align: right;\n",
       "    }\n",
       "</style>\n",
       "<table border=\"1\" class=\"dataframe\">\n",
       "  <thead>\n",
       "    <tr style=\"text-align: right;\">\n",
       "      <th></th>\n",
       "      <th>hypothesis</th>\n",
       "      <th>ice</th>\n",
       "    </tr>\n",
       "  </thead>\n",
       "  <tbody>\n",
       "    <tr>\n",
       "      <th>8</th>\n",
       "      <td>Запустить акцию, дающую скидку на товар в день рождения</td>\n",
       "      <td>16.200</td>\n",
       "    </tr>\n",
       "    <tr>\n",
       "      <th>0</th>\n",
       "      <td>Добавить два новых канала привлечения трафика, что позволит привлекать на 30% больше пользователей</td>\n",
       "      <td>13.333</td>\n",
       "    </tr>\n",
       "    <tr>\n",
       "      <th>7</th>\n",
       "      <td>Добавить форму подписки на все основные страницы, чтобы собрать базу клиентов для email-рассылок</td>\n",
       "      <td>11.200</td>\n",
       "    </tr>\n",
       "    <tr>\n",
       "      <th>6</th>\n",
       "      <td>Показать на главной странице баннеры с актуальными акциями и распродажами, чтобы увеличить конверсию</td>\n",
       "      <td>8.000</td>\n",
       "    </tr>\n",
       "    <tr>\n",
       "      <th>2</th>\n",
       "      <td>Добавить блоки рекомендаций товаров на сайт интернет магазина, чтобы повысить конверсию и средний чек заказа</td>\n",
       "      <td>7.000</td>\n",
       "    </tr>\n",
       "    <tr>\n",
       "      <th>1</th>\n",
       "      <td>Запустить собственную службу доставки, что сократит срок доставки заказов</td>\n",
       "      <td>2.000</td>\n",
       "    </tr>\n",
       "    <tr>\n",
       "      <th>5</th>\n",
       "      <td>Добавить страницу отзывов клиентов о магазине, что позволит увеличить количество заказов</td>\n",
       "      <td>1.333</td>\n",
       "    </tr>\n",
       "    <tr>\n",
       "      <th>3</th>\n",
       "      <td>Изменить структура категорий, что увеличит конверсию, т.к. пользователи быстрее найдут нужный товар</td>\n",
       "      <td>1.125</td>\n",
       "    </tr>\n",
       "    <tr>\n",
       "      <th>4</th>\n",
       "      <td>Изменить цвет фона главной страницы, чтобы увеличить вовлеченность пользователей</td>\n",
       "      <td>1.000</td>\n",
       "    </tr>\n",
       "  </tbody>\n",
       "</table>\n",
       "</div>"
      ],
      "text/plain": [
       "                                                                                                     hypothesis  \\\n",
       "8                                                       Запустить акцию, дающую скидку на товар в день рождения   \n",
       "0            Добавить два новых канала привлечения трафика, что позволит привлекать на 30% больше пользователей   \n",
       "7              Добавить форму подписки на все основные страницы, чтобы собрать базу клиентов для email-рассылок   \n",
       "6          Показать на главной странице баннеры с актуальными акциями и распродажами, чтобы увеличить конверсию   \n",
       "2  Добавить блоки рекомендаций товаров на сайт интернет магазина, чтобы повысить конверсию и средний чек заказа   \n",
       "1                                     Запустить собственную службу доставки, что сократит срок доставки заказов   \n",
       "5                      Добавить страницу отзывов клиентов о магазине, что позволит увеличить количество заказов   \n",
       "3           Изменить структура категорий, что увеличит конверсию, т.к. пользователи быстрее найдут нужный товар   \n",
       "4                              Изменить цвет фона главной страницы, чтобы увеличить вовлеченность пользователей   \n",
       "\n",
       "     ice  \n",
       "8 16.200  \n",
       "0 13.333  \n",
       "7 11.200  \n",
       "6  8.000  \n",
       "2  7.000  \n",
       "1  2.000  \n",
       "5  1.333  \n",
       "3  1.125  \n",
       "4  1.000  "
      ]
     },
     "execution_count": 12,
     "metadata": {},
     "output_type": "execute_result"
    }
   ],
   "source": [
    "hypothesis['ice'] = hypothesis['impact'] * hypothesis['confidence'] / hypothesis['efforts']\n",
    "\n",
    "hypothesis[['hypothesis', 'ice']].sort_values(by='ice', ascending=False)"
   ]
  },
  {
   "cell_type": "markdown",
   "metadata": {},
   "source": [
    "Используя фреймворк ICE мы получили ТОП 5 гипотез"
   ]
  },
  {
   "cell_type": "markdown",
   "metadata": {},
   "source": [
    "#### Применим фреймворк RICE для приоритизации гипотез."
   ]
  },
  {
   "cell_type": "code",
   "execution_count": 13,
   "metadata": {},
   "outputs": [
    {
     "data": {
      "text/html": [
       "<div>\n",
       "<style scoped>\n",
       "    .dataframe tbody tr th:only-of-type {\n",
       "        vertical-align: middle;\n",
       "    }\n",
       "\n",
       "    .dataframe tbody tr th {\n",
       "        vertical-align: top;\n",
       "    }\n",
       "\n",
       "    .dataframe thead th {\n",
       "        text-align: right;\n",
       "    }\n",
       "</style>\n",
       "<table border=\"1\" class=\"dataframe\">\n",
       "  <thead>\n",
       "    <tr style=\"text-align: right;\">\n",
       "      <th></th>\n",
       "      <th>hypothesis</th>\n",
       "      <th>ice</th>\n",
       "    </tr>\n",
       "  </thead>\n",
       "  <tbody>\n",
       "    <tr>\n",
       "      <th>7</th>\n",
       "      <td>Добавить форму подписки на все основные страницы, чтобы собрать базу клиентов для email-рассылок</td>\n",
       "      <td>112.000</td>\n",
       "    </tr>\n",
       "    <tr>\n",
       "      <th>2</th>\n",
       "      <td>Добавить блоки рекомендаций товаров на сайт интернет магазина, чтобы повысить конверсию и средний чек заказа</td>\n",
       "      <td>56.000</td>\n",
       "    </tr>\n",
       "    <tr>\n",
       "      <th>0</th>\n",
       "      <td>Добавить два новых канала привлечения трафика, что позволит привлекать на 30% больше пользователей</td>\n",
       "      <td>40.000</td>\n",
       "    </tr>\n",
       "    <tr>\n",
       "      <th>6</th>\n",
       "      <td>Показать на главной странице баннеры с актуальными акциями и распродажами, чтобы увеличить конверсию</td>\n",
       "      <td>40.000</td>\n",
       "    </tr>\n",
       "    <tr>\n",
       "      <th>8</th>\n",
       "      <td>Запустить акцию, дающую скидку на товар в день рождения</td>\n",
       "      <td>16.200</td>\n",
       "    </tr>\n",
       "    <tr>\n",
       "      <th>3</th>\n",
       "      <td>Изменить структура категорий, что увеличит конверсию, т.к. пользователи быстрее найдут нужный товар</td>\n",
       "      <td>9.000</td>\n",
       "    </tr>\n",
       "    <tr>\n",
       "      <th>1</th>\n",
       "      <td>Запустить собственную службу доставки, что сократит срок доставки заказов</td>\n",
       "      <td>4.000</td>\n",
       "    </tr>\n",
       "    <tr>\n",
       "      <th>5</th>\n",
       "      <td>Добавить страницу отзывов клиентов о магазине, что позволит увеличить количество заказов</td>\n",
       "      <td>4.000</td>\n",
       "    </tr>\n",
       "    <tr>\n",
       "      <th>4</th>\n",
       "      <td>Изменить цвет фона главной страницы, чтобы увеличить вовлеченность пользователей</td>\n",
       "      <td>3.000</td>\n",
       "    </tr>\n",
       "  </tbody>\n",
       "</table>\n",
       "</div>"
      ],
      "text/plain": [
       "                                                                                                     hypothesis  \\\n",
       "7              Добавить форму подписки на все основные страницы, чтобы собрать базу клиентов для email-рассылок   \n",
       "2  Добавить блоки рекомендаций товаров на сайт интернет магазина, чтобы повысить конверсию и средний чек заказа   \n",
       "0            Добавить два новых канала привлечения трафика, что позволит привлекать на 30% больше пользователей   \n",
       "6          Показать на главной странице баннеры с актуальными акциями и распродажами, чтобы увеличить конверсию   \n",
       "8                                                       Запустить акцию, дающую скидку на товар в день рождения   \n",
       "3           Изменить структура категорий, что увеличит конверсию, т.к. пользователи быстрее найдут нужный товар   \n",
       "1                                     Запустить собственную службу доставки, что сократит срок доставки заказов   \n",
       "5                      Добавить страницу отзывов клиентов о магазине, что позволит увеличить количество заказов   \n",
       "4                              Изменить цвет фона главной страницы, чтобы увеличить вовлеченность пользователей   \n",
       "\n",
       "      ice  \n",
       "7 112.000  \n",
       "2  56.000  \n",
       "0  40.000  \n",
       "6  40.000  \n",
       "8  16.200  \n",
       "3   9.000  \n",
       "1   4.000  \n",
       "5   4.000  \n",
       "4   3.000  "
      ]
     },
     "execution_count": 13,
     "metadata": {},
     "output_type": "execute_result"
    }
   ],
   "source": [
    "hypothesis['ice'] = hypothesis['reach'] * hypothesis['impact'] * hypothesis['confidence'] / hypothesis['efforts']\n",
    "\n",
    "hypothesis[['hypothesis', 'ice']].sort_values(by='ice', ascending=False)"
   ]
  },
  {
   "cell_type": "markdown",
   "metadata": {},
   "source": [
    "#### Как изменилась приоритизация гипотез при применении RICE вместо ICE. Объясните, почему так произошло."
   ]
  },
  {
   "cell_type": "markdown",
   "metadata": {},
   "source": [
    "ТОП 5 гипотез, полученный фреймворком RICE сильно отличается от того, который мы видели в ICE.\n",
    "Напримр, гипотеза №1 в ICE при расчете через RICE опустилась на последнее место.\n",
    "Такие изменения можно связать с тем, что у этой гипотезы был маленький показатель reach относительно остальных гипотез."
   ]
  },
  {
   "cell_type": "markdown",
   "metadata": {},
   "source": [
    "### Часть 2. Анализ A/B-теста"
   ]
  },
  {
   "cell_type": "markdown",
   "metadata": {},
   "source": [
    "В данном разделе мы рассмотрим результаты A/B-теста которые описаны в файлах `/datasets/orders.csv` и `/datasets/visitors.csv`."
   ]
  },
  {
   "cell_type": "markdown",
   "metadata": {},
   "source": [
    "#### Построим графики кумулятивных метрик"
   ]
  },
  {
   "cell_type": "markdown",
   "metadata": {},
   "source": [
    "##### График кумулятивной выручки по группам"
   ]
  },
  {
   "cell_type": "code",
   "execution_count": 14,
   "metadata": {},
   "outputs": [
    {
     "name": "stdout",
     "output_type": "stream",
     "text": [
      "        date group  orders  buyers  revenue  visitors  conversion\n",
      "0 2019-08-01     A      24      20   148579       719       0.033\n",
      "1 2019-08-01     B      21      20   101217       713       0.029\n",
      "2 2019-08-02     A      44      38   242401      1338       0.033\n",
      "3 2019-08-02     B      45      43   266748      1294       0.035\n",
      "4 2019-08-03     A      68      62   354874      1845       0.037\n"
     ]
    }
   ],
   "source": [
    "# создаем массив уникальных пар значений дат и групп теста\n",
    "datesGroups = orders[['date','group']].drop_duplicates()\n",
    "\n",
    "# получаем агрегированные кумулятивные по дням данные о заказах \n",
    "ordersAggregated = datesGroups.apply(\n",
    "    lambda x: orders[np.logical_and(orders['date'] <= x['date'], \n",
    "                                    orders['group'] == x['group']\n",
    "                                   )].agg({'date' : 'max', \n",
    "                                           'group' : 'max', \n",
    "                                           'transactionid' : 'nunique', \n",
    "                                           'visitorid' : 'nunique', \n",
    "                                           'revenue' : 'sum'}), axis=1).sort_values(by=['date','group'])\n",
    "\n",
    "# получаем агрегированные кумулятивные по дням данные о посетителях интернет-магазина \n",
    "visitorsAggregated = datesGroups.apply(\n",
    "    lambda x: visitors[np.logical_and(visitors['date'] <= x['date'], \n",
    "                                      visitors['group'] == x['group']\n",
    "                                     )].agg({'date' : 'max', \n",
    "                                             'group' : 'max', \n",
    "                                             'visitors' : 'sum'}), axis=1).sort_values(by=['date','group'])\n",
    "\n",
    "# объединяем кумулятивные данные в одной таблице и присваиваем ее столбцам понятные названия\n",
    "cumulativeData = ordersAggregated.merge(visitorsAggregated, \n",
    "                                        left_on=['date', 'group'], \n",
    "                                        right_on=['date', 'group'])\n",
    "cumulativeData.columns = ['date', 'group', 'orders', 'buyers', 'revenue', 'visitors']\n",
    "\n",
    "# считаем кумулятивную конверсию\n",
    "cumulativeData['conversion'] = cumulativeData['orders'] / cumulativeData['visitors']\n",
    "\n",
    "print(cumulativeData.head(5)) "
   ]
  },
  {
   "cell_type": "code",
   "execution_count": 15,
   "metadata": {},
   "outputs": [
    {
     "data": {
      "image/png": "[encoded data removed]",
      "text/plain": [
       "<Figure size 864x576 with 1 Axes>"
      ]
     },
     "metadata": {
      "needs_background": "light"
     },
     "output_type": "display_data"
    }
   ],
   "source": [
    "# датафрейм с кумулятивным количеством заказов и кумулятивной выручкой по дням в группе А\n",
    "cumulativeRevenueA = cumulativeData[cumulativeData['group']=='A'][['date',\n",
    "                                                                   'revenue', \n",
    "                                                                   'orders']]\n",
    "\n",
    "# датафрейм с кумулятивным количеством заказов и кумулятивной выручкой по дням в группе B\n",
    "cumulativeRevenueB = cumulativeData[cumulativeData['group']=='B'][['date',\n",
    "                                                                   'revenue', \n",
    "                                                                   'orders']]\n",
    "\n",
    "# Строим график выручки группы А\n",
    "plt.figure(figsize=(12, 8))\n",
    "plt.plot(cumulativeRevenueA['date'], cumulativeRevenueA['revenue'], label='A')\n",
    "\n",
    "# Строим график выручки группы B\n",
    "plt.plot(cumulativeRevenueB['date'], cumulativeRevenueB['revenue'], label='B')\n",
    "\n",
    "plt.legend() \n",
    "plt.xlabel('дата')\n",
    "plt.ylabel('вырручка')\n",
    "plt.title('График кумулятивной выручки')\n",
    "plt.grid(True)\n",
    "plt.xticks(rotation=30)\n",
    "plt.show()"
   ]
  },
  {
   "cell_type": "markdown",
   "metadata": {},
   "source": [
    "На графике мы видим, что кумулятивная выручка группы A растет равномерно, тогда как показатель группы B испытал сильный скачек 2019.08.18.\n",
    "\n",
    "Это может означать, что в этот день был сделан большой заказ, либо количество заказов резко возросло. Так или иначе, это свидетельствует об аномальных данных в выборке"
   ]
  },
  {
   "cell_type": "markdown",
   "metadata": {},
   "source": [
    "##### График кумулятивного среднего чека по группам"
   ]
  },
  {
   "cell_type": "code",
   "execution_count": 16,
   "metadata": {},
   "outputs": [
    {
     "data": {
      "image/png": "[encoded data removed]",
      "text/plain": [
       "<Figure size 864x576 with 1 Axes>"
      ]
     },
     "metadata": {
      "needs_background": "light"
     },
     "output_type": "display_data"
    }
   ],
   "source": [
    "plt.figure(figsize=(12, 8))\n",
    "plt.plot(cumulativeRevenueA['date'], \n",
    "         cumulativeRevenueA['revenue'] / cumulativeRevenueA['orders'], \n",
    "         label = 'A')\n",
    "\n",
    "plt.plot(cumulativeRevenueB['date'], \n",
    "         cumulativeRevenueB['revenue'] / cumulativeRevenueB['orders'], \n",
    "         label = 'B')\n",
    "\n",
    "plt.legend()\n",
    "plt.xlabel('дата')\n",
    "plt.ylabel('средний чек')\n",
    "plt.title('График кумулятивного среднего чека')\n",
    "plt.grid(True)\n",
    "plt.xticks(rotation=30)\n",
    "plt.legend()\n",
    "plt.show()"
   ]
  },
  {
   "cell_type": "markdown",
   "metadata": {},
   "source": [
    "Изучив график можно сделать вывод, что показатель группы A сильно колебался в начале теста, но к 2017.08.09 стабилизировался. \n",
    "\n",
    "Что касается группы B, здесь мы снова (как и при анализе кумулятивной выручки) видим сильный скачок 2019.08.18. Скорее всего дело крупных заказах, которые были сделаны в этот день."
   ]
  },
  {
   "cell_type": "markdown",
   "metadata": {},
   "source": [
    "##### График относительного изменения кумулятивного среднего чека группы B к группе A"
   ]
  },
  {
   "cell_type": "code",
   "execution_count": 17,
   "metadata": {},
   "outputs": [
    {
     "data": {
      "image/png": "[encoded data removed]",
      "text/plain": [
       "<Figure size 864x576 with 1 Axes>"
      ]
     },
     "metadata": {
      "needs_background": "light"
     },
     "output_type": "display_data"
    }
   ],
   "source": [
    "# объединим таблицы с результатами группы A и B\n",
    "mergedCumulativeRevenue = cumulativeRevenueA.merge(\n",
    "    cumulativeRevenueB, \n",
    "    left_on='date', \n",
    "    right_on='date', \n",
    "    how='left', \n",
    "    suffixes=['A', 'B']\n",
    ")\n",
    "\n",
    "# cтроим отношение средних чеков\n",
    "plt.figure(figsize=(12, 8))\n",
    "plt.plot(\n",
    "    mergedCumulativeRevenue['date'], \n",
    "    (mergedCumulativeRevenue['revenueB']\n",
    "     /mergedCumulativeRevenue['ordersB'])\n",
    "    /(mergedCumulativeRevenue['revenueA']\n",
    "      /mergedCumulativeRevenue['ordersA'])-1\n",
    "        )\n",
    "\n",
    "# добавляем ось X\n",
    "plt.axhline(y=0, color='black', linestyle='--') \n",
    "plt.xlabel('дата')\n",
    "plt.title('График относительного изменения кумулятивного среднего чека группы B к группе A')\n",
    "plt.grid(True)\n",
    "plt.xticks(rotation=30)\n",
    "plt.show()"
   ]
  },
  {
   "cell_type": "markdown",
   "metadata": {},
   "source": [
    "Резкие изменения между сегментами, которые мы видим на графике, означают, что в выборках присутствуют аномальные значения"
   ]
  },
  {
   "cell_type": "markdown",
   "metadata": {},
   "source": [
    "##### График кумулятивного среднего количества заказов на посетителя по группам"
   ]
  },
  {
   "cell_type": "markdown",
   "metadata": {},
   "source": [
    "Построим график кумулятивного среднего количества заказов на посетителя по группам "
   ]
  },
  {
   "cell_type": "code",
   "execution_count": 18,
   "metadata": {},
   "outputs": [
    {
     "data": {
      "image/png": "[encoded data removed]",
      "text/plain": [
       "<Figure size 864x576 with 1 Axes>"
      ]
     },
     "metadata": {
      "needs_background": "light"
     },
     "output_type": "display_data"
    }
   ],
   "source": [
    "# датафрейм с кумулятивным количеством заказов на посетителя в группе A\n",
    "cumulativeOrderVisitorA = cumulativeData[cumulativeData['group']=='A'][['date', \n",
    "                                                                 'orders', \n",
    "                                                                 'visitors', \n",
    "                                                                 'group']]\n",
    "\n",
    "# датафрейм с кумулятивным количеством заказов на посетителя в группе B\n",
    "cumulativeOrderVisitorB = cumulativeData[cumulativeData['group']=='B'][['date', \n",
    "                                                                 'orders', \n",
    "                                                                 'visitors', \n",
    "                                                                 'group']]\n",
    "\n",
    "\n",
    "# Строим график с кумулятивным количеством заказов на посетителя в группе A\n",
    "plt.figure(figsize=(12, 8))\n",
    "plt.plot(\n",
    "    cumulativeOrderVisitorA['date'], \n",
    "    cumulativeOrderVisitorA['orders']\n",
    "    /cumulativeOrderVisitorA['visitors'], \n",
    "    label='A')\n",
    "\n",
    "# Строим график с кумулятивным количеством заказов на посетителя в группе B\n",
    "plt.plot(\n",
    "    cumulativeOrderVisitorB['date'], \n",
    "    cumulativeOrderVisitorB['orders']\n",
    "    /cumulativeOrderVisitorB['visitors'], \n",
    "    label='B')\n",
    "\n",
    "plt.legend() \n",
    "plt.xlabel('дата')\n",
    "plt.ylabel('Заказы')\n",
    "plt.title('График кумулятивного среднего количества заказов на посетителя')\n",
    "plt.grid(True)\n",
    "plt.xticks(rotation=30)\n",
    "plt.show()"
   ]
  },
  {
   "cell_type": "markdown",
   "metadata": {},
   "source": [
    "На графике видно, что количество заказов в для группы B значительно превышает количество заказов для группы A. С 2019.08.05 мы видим, что заказы в группе B начинают расти, тогда как заказы в A падают."
   ]
  },
  {
   "cell_type": "markdown",
   "metadata": {},
   "source": [
    "##### График относительного изменения кумулятивного среднего количества заказов на посетителя группы B к группе A"
   ]
  },
  {
   "cell_type": "code",
   "execution_count": 19,
   "metadata": {},
   "outputs": [
    {
     "data": {
      "image/png": "[encoded data removed]",
      "text/plain": [
       "<Figure size 864x576 with 1 Axes>"
      ]
     },
     "metadata": {
      "needs_background": "light"
     },
     "output_type": "display_data"
    }
   ],
   "source": [
    "# объединим таблицы с результатами группы A и B\n",
    "mergedCumulativeOrder = cumulativeOrderVisitorA.merge(\n",
    "    cumulativeOrderVisitorB, \n",
    "    left_on='date', \n",
    "    right_on='date', \n",
    "    how='left', \n",
    "    suffixes=['A', 'B']\n",
    ")\n",
    "\n",
    "# cтроим отношение средних заказов\n",
    "plt.figure(figsize=(12, 8))\n",
    "plt.plot(\n",
    "    mergedCumulativeOrder['date'], \n",
    "    (mergedCumulativeOrder['ordersB'] \n",
    "     / mergedCumulativeOrder['visitorsB']) \n",
    "    / ((mergedCumulativeOrder['ordersA'] \n",
    "        / mergedCumulativeOrder['visitorsA'])-1)\n",
    ")\n",
    "\n",
    "# добавляем ось X\n",
    "# plt.axhline(y=0, color='black', linestyle='--') \n",
    "plt.xlabel('Дата')\n",
    "plt.ylabel('Заказы')\n",
    "plt.title('График относительного изменения кумулятивного среднего чека группы B к группе A')\n",
    "plt.grid(True)\n",
    "plt.xticks(rotation=30)\n",
    "plt.show()"
   ]
  },
  {
   "cell_type": "markdown",
   "metadata": {},
   "source": [
    "Видно, что показатели группы B колеблется в диапазоне 5 - 15% ниже, чем у A. К концу наблюдаемого периода разница составляет ~10%"
   ]
  },
  {
   "cell_type": "markdown",
   "metadata": {},
   "source": [
    "На графике видно, что группа B отстает от A по среднему чеку, на начало теста разрыв составлял ~3%. На конец наблюдаемого периода группа B отстает от A на 3.5%"
   ]
  },
  {
   "cell_type": "markdown",
   "metadata": {},
   "source": [
    "#### Постройте точечный график количества заказов по пользователям. Сделайте выводы и предположения"
   ]
  },
  {
   "cell_type": "code",
   "execution_count": 21,
   "metadata": {},
   "outputs": [],
   "source": [
    "ordersByUsers  = (\n",
    "    orders.groupby('visitorid', as_index=False)\n",
    "    .agg({'transactionid': 'nunique'})\n",
    ")\n",
    "ordersByUsers .columns =  ['visitorid', 'orders']"
   ]
  },
  {
   "cell_type": "code",
   "execution_count": 22,
   "metadata": {},
   "outputs": [
    {
     "name": "stdout",
     "output_type": "stream",
     "text": [
      "       visitorid  orders\n",
      "1023  4256040402      11\n",
      "591   2458001652      11\n",
      "569   2378935119       9\n",
      "487   2038680547       8\n",
      "44     199603092       5\n",
      "744   3062433592       5\n",
      "55     237748145       5\n",
      "917   3803269165       5\n",
      "299   1230306981       5\n",
      "897   3717692402       5\n"
     ]
    }
   ],
   "source": [
    "print(ordersByUsers.sort_values(by='orders', ascending=False).head(10)) "
   ]
  },
  {
   "cell_type": "markdown",
   "metadata": {},
   "source": [
    "Есть пользователи, которые совершали больше 5 заказов.\n",
    "\n",
    "Построим гистограмму распределения количества заказов."
   ]
  },
  {
   "cell_type": "code",
   "execution_count": 23,
   "metadata": {},
   "outputs": [
    {
     "data": {
      "image/png": "[encoded data removed]",
      "text/plain": [
       "<Figure size 432x288 with 1 Axes>"
      ]
     },
     "metadata": {
      "needs_background": "light"
     },
     "output_type": "display_data"
    }
   ],
   "source": [
    "plt.hist(ordersByUsers['orders']) \n",
    "plt.xlabel('Кол-во заказов')\n",
    "plt.ylabel('кол-во пользователей')\n",
    "plt.title('Распределение значений \"orders\"')\n",
    "plt.grid(True)\n",
    "plt.show()"
   ]
  },
  {
   "cell_type": "markdown",
   "metadata": {},
   "source": [
    "На гистограмме видно, что большинство пользователей совершили 1 - 3 заказа, Но есть и исключения, пользователи сделавшие больше 5 заказов"
   ]
  },
  {
   "cell_type": "code",
   "execution_count": 24,
   "metadata": {},
   "outputs": [
    {
     "data": {
      "image/png": "[encoded data removed]",
      "text/plain": [
       "<Figure size 432x288 with 1 Axes>"
      ]
     },
     "metadata": {
      "needs_background": "light"
     },
     "output_type": "display_data"
    }
   ],
   "source": [
    "x_values = pd.Series(range(0,len(ordersByUsers['orders'])))\n",
    "plt.scatter(x_values, ordersByUsers['orders']) \n",
    "plt.xlabel('Пользователи')\n",
    "plt.ylabel('Кол-во заказов')\n",
    "plt.title('График количества заказов по пользователям')\n",
    "plt.grid(True)\n",
    "plt.show()"
   ]
  },
  {
   "cell_type": "markdown",
   "metadata": {},
   "source": [
    "Как и на гистограмме выше, мы видим, что большинство пользователей делают от 1 до 4 заказов. 5 и более заказов - это редкость. Чтобы окончательно понять, какие значения считать выбросами, посчитаем процентили."
   ]
  },
  {
   "cell_type": "markdown",
   "metadata": {},
   "source": [
    "#### 95-й и 99-й перцентили количества заказов на пользователя. Выбор границы для определения аномальных пользователей"
   ]
  },
  {
   "cell_type": "markdown",
   "metadata": {},
   "source": [
    "Рассчитаем 90 и 95 процентиль"
   ]
  },
  {
   "cell_type": "code",
   "execution_count": 25,
   "metadata": {},
   "outputs": [
    {
     "data": {
      "text/plain": [
       "array([2., 4.])"
      ]
     },
     "execution_count": 25,
     "metadata": {},
     "output_type": "execute_result"
    }
   ],
   "source": [
    "np.percentile(ordersByUsers['orders'], [95, 99])"
   ]
  },
  {
   "cell_type": "markdown",
   "metadata": {},
   "source": [
    "Получается, что не более 5% пользователей сделали больше 2 заказов и только 1% больше 4 (включительно).\n",
    "\n",
    "Обозначим верхний предел количества заказов для одного пользователя как 4"
   ]
  },
  {
   "cell_type": "markdown",
   "metadata": {},
   "source": [
    "#### Точечный график стоимостей заказов"
   ]
  },
  {
   "cell_type": "markdown",
   "metadata": {},
   "source": [
    "Как и в предыдущем разделе, построим гистограмму."
   ]
  },
  {
   "cell_type": "code",
   "execution_count": 26,
   "metadata": {},
   "outputs": [
    {
     "data": {
      "image/png": "[encoded data removed]",
      "text/plain": [
       "<Figure size 432x288 with 1 Axes>"
      ]
     },
     "metadata": {
      "needs_background": "light"
     },
     "output_type": "display_data"
    }
   ],
   "source": [
    "plt.hist(orders['revenue']) \n",
    "plt.xlabel('Стоимость')\n",
    "plt.ylabel('Кол-во заказов')\n",
    "plt.title('Гистограмма стоимости заказов')\n",
    "plt.grid(True)\n",
    "plt.show()"
   ]
  },
  {
   "cell_type": "markdown",
   "metadata": {},
   "source": [
    "Не самая наглядная гистограмма, воспользуемся диаграммой рассеяния"
   ]
  },
  {
   "cell_type": "code",
   "execution_count": 27,
   "metadata": {},
   "outputs": [
    {
     "data": {
      "image/png": "[encoded data removed]",
      "text/plain": [
       "<Figure size 432x288 with 1 Axes>"
      ]
     },
     "metadata": {
      "needs_background": "light"
     },
     "output_type": "display_data"
    }
   ],
   "source": [
    "x_values = pd.Series(range(0,len(orders['revenue'])))\n",
    "plt.scatter(x_values, orders['revenue']) \n",
    "plt.xlabel('Заказы')\n",
    "plt.ylabel('Стоимость')\n",
    "plt.title('Точечный график стоимостей заказов')\n",
    "plt.grid(True)\n",
    "plt.show()"
   ]
  },
  {
   "cell_type": "markdown",
   "metadata": {},
   "source": [
    "Мы видим заказ почти на 1.3 млн. из-за этого диаграмма получается ненаглядной. Добавим ограничение по оси Y, чтобы было проще читать график"
   ]
  },
  {
   "cell_type": "code",
   "execution_count": 28,
   "metadata": {},
   "outputs": [
    {
     "data": {
      "image/png": "[encoded data removed]",
      "text/plain": [
       "<Figure size 432x288 with 1 Axes>"
      ]
     },
     "metadata": {
      "needs_background": "light"
     },
     "output_type": "display_data"
    }
   ],
   "source": [
    "x_values = pd.Series(range(0,len(orders['revenue'])))\n",
    "plt.scatter(x_values, orders['revenue']) \n",
    "plt.xlabel('Заказы')\n",
    "plt.ylabel('Стоимость')\n",
    "plt.title('Точечный график стоимостей заказов')\n",
    "plt.ylim(0, 100000)\n",
    "plt.grid(True)\n",
    "plt.show()"
   ]
  },
  {
   "cell_type": "markdown",
   "metadata": {},
   "source": [
    "Большинство заказов находится в промежутке до 20000. Совсем немного заказов обходятся для пользователей больше, чем в 60000"
   ]
  },
  {
   "cell_type": "markdown",
   "metadata": {},
   "source": [
    "#### 95-й и 99-й перцентили стоимости заказов. Выбор границы для определения аномальных заказов"
   ]
  },
  {
   "cell_type": "code",
   "execution_count": 29,
   "metadata": {},
   "outputs": [
    {
     "data": {
      "text/plain": [
       "array([28000. , 58233.2])"
      ]
     },
     "execution_count": 29,
     "metadata": {},
     "output_type": "execute_result"
    }
   ],
   "source": [
    "np.percentile(orders['revenue'], [95, 99])"
   ]
  },
  {
   "cell_type": "markdown",
   "metadata": {},
   "source": [
    "Посмотрев на процентили и диаграмму рассеяния, ограничим данные по 99 процентилю -  **58233.2**"
   ]
  },
  {
   "cell_type": "markdown",
   "metadata": {},
   "source": [
    "#### Статистическая значимость различий в среднем количестве заказов на посетителя между группами по «сырым» данным"
   ]
  },
  {
   "cell_type": "markdown",
   "metadata": {},
   "source": [
    "В предыдущих разделах проекта мы изучали результаты A/B теста. Общий вывод - в данных есть выбросы, аномальные значения.\n",
    "\n",
    "В данном разделе проверим, как влияют и влияют ли вообще эти выбросы на конверсию в группах.\n",
    "\n",
    "Начнем с расчета статистической значимости по сырым данным - т.е. по тем, из которых мы не удаляли аномальные значения.\n",
    "\n",
    "Сформулируем нулевую и альтернативную гипотезы:\n",
    "\n",
    "- **H0** - между группами нет различий в среднем количестве заказов\n",
    "- **H1** - между группами есть различий в среднем количестве заказов\n",
    "\n",
    "Начнем с подготовки данных. Как известно, данные о продажах и средних редко бывают распределены нормально, поэтому, для проверки гипотез воспользуемся непараметрическим тестом Уилкоксона-Манна-Уитни.\n",
    "\n",
    "Уровень значимости установим как 0.05"
   ]
  },
  {
   "cell_type": "code",
   "execution_count": 30,
   "metadata": {
    "scrolled": true
   },
   "outputs": [
    {
     "data": {
      "text/html": [
       "<div>\n",
       "<style scoped>\n",
       "    .dataframe tbody tr th:only-of-type {\n",
       "        vertical-align: middle;\n",
       "    }\n",
       "\n",
       "    .dataframe tbody tr th {\n",
       "        vertical-align: top;\n",
       "    }\n",
       "\n",
       "    .dataframe thead th {\n",
       "        text-align: right;\n",
       "    }\n",
       "</style>\n",
       "<table border=\"1\" class=\"dataframe\">\n",
       "  <thead>\n",
       "    <tr style=\"text-align: right;\">\n",
       "      <th></th>\n",
       "      <th>date</th>\n",
       "      <th>ordersPerDateA</th>\n",
       "      <th>revenuePerDateA</th>\n",
       "      <th>ordersPerDateB</th>\n",
       "      <th>revenuePerDateB</th>\n",
       "      <th>ordersCummulativeA</th>\n",
       "      <th>revenueCummulativeA</th>\n",
       "      <th>ordersCummulativeB</th>\n",
       "      <th>revenueCummulativeB</th>\n",
       "      <th>visitorsPerDateA</th>\n",
       "      <th>visitorsPerDateB</th>\n",
       "      <th>visitorsCummulativeA</th>\n",
       "      <th>visitorsCummulativeB</th>\n",
       "    </tr>\n",
       "  </thead>\n",
       "  <tbody>\n",
       "    <tr>\n",
       "      <th>0</th>\n",
       "      <td>2019-08-01</td>\n",
       "      <td>24</td>\n",
       "      <td>148579</td>\n",
       "      <td>21</td>\n",
       "      <td>101217</td>\n",
       "      <td>24</td>\n",
       "      <td>148579</td>\n",
       "      <td>21</td>\n",
       "      <td>101217</td>\n",
       "      <td>719</td>\n",
       "      <td>713</td>\n",
       "      <td>719</td>\n",
       "      <td>713</td>\n",
       "    </tr>\n",
       "    <tr>\n",
       "      <th>1</th>\n",
       "      <td>2019-08-02</td>\n",
       "      <td>20</td>\n",
       "      <td>93822</td>\n",
       "      <td>24</td>\n",
       "      <td>165531</td>\n",
       "      <td>44</td>\n",
       "      <td>242401</td>\n",
       "      <td>45</td>\n",
       "      <td>266748</td>\n",
       "      <td>619</td>\n",
       "      <td>581</td>\n",
       "      <td>1338</td>\n",
       "      <td>1294</td>\n",
       "    </tr>\n",
       "    <tr>\n",
       "      <th>2</th>\n",
       "      <td>2019-08-03</td>\n",
       "      <td>24</td>\n",
       "      <td>112473</td>\n",
       "      <td>16</td>\n",
       "      <td>114248</td>\n",
       "      <td>68</td>\n",
       "      <td>354874</td>\n",
       "      <td>61</td>\n",
       "      <td>380996</td>\n",
       "      <td>507</td>\n",
       "      <td>509</td>\n",
       "      <td>1845</td>\n",
       "      <td>1803</td>\n",
       "    </tr>\n",
       "    <tr>\n",
       "      <th>3</th>\n",
       "      <td>2019-08-04</td>\n",
       "      <td>16</td>\n",
       "      <td>70825</td>\n",
       "      <td>17</td>\n",
       "      <td>108571</td>\n",
       "      <td>84</td>\n",
       "      <td>425699</td>\n",
       "      <td>78</td>\n",
       "      <td>489567</td>\n",
       "      <td>717</td>\n",
       "      <td>770</td>\n",
       "      <td>2562</td>\n",
       "      <td>2573</td>\n",
       "    </tr>\n",
       "    <tr>\n",
       "      <th>4</th>\n",
       "      <td>2019-08-05</td>\n",
       "      <td>25</td>\n",
       "      <td>124218</td>\n",
       "      <td>23</td>\n",
       "      <td>92428</td>\n",
       "      <td>109</td>\n",
       "      <td>549917</td>\n",
       "      <td>101</td>\n",
       "      <td>581995</td>\n",
       "      <td>756</td>\n",
       "      <td>707</td>\n",
       "      <td>3318</td>\n",
       "      <td>3280</td>\n",
       "    </tr>\n",
       "  </tbody>\n",
       "</table>\n",
       "</div>"
      ],
      "text/plain": [
       "        date  ordersPerDateA  revenuePerDateA  ordersPerDateB  \\\n",
       "0 2019-08-01              24           148579              21   \n",
       "1 2019-08-02              20            93822              24   \n",
       "2 2019-08-03              24           112473              16   \n",
       "3 2019-08-04              16            70825              17   \n",
       "4 2019-08-05              25           124218              23   \n",
       "\n",
       "   revenuePerDateB  ordersCummulativeA  revenueCummulativeA  \\\n",
       "0           101217                  24               148579   \n",
       "1           165531                  44               242401   \n",
       "2           114248                  68               354874   \n",
       "3           108571                  84               425699   \n",
       "4            92428                 109               549917   \n",
       "\n",
       "   ordersCummulativeB  revenueCummulativeB  visitorsPerDateA  \\\n",
       "0                  21               101217               719   \n",
       "1                  45               266748               619   \n",
       "2                  61               380996               507   \n",
       "3                  78               489567               717   \n",
       "4                 101               581995               756   \n",
       "\n",
       "   visitorsPerDateB  visitorsCummulativeA  visitorsCummulativeB  \n",
       "0               713                   719                   713  \n",
       "1               581                  1338                  1294  \n",
       "2               509                  1845                  1803  \n",
       "3               770                  2562                  2573  \n",
       "4               707                  3318                  3280  "
      ]
     },
     "metadata": {},
     "output_type": "display_data"
    }
   ],
   "source": [
    "visitorsADaily = visitors[visitors['group'] == 'A'][['date', 'visitors']]\n",
    "visitorsADaily.columns = ['date', 'visitorsPerDateA']\n",
    "\n",
    "visitorsACummulative = visitorsADaily.apply(\n",
    "    lambda x: visitorsADaily[visitorsADaily['date'] <= x['date']].agg(\n",
    "        {'date': 'max', 'visitorsPerDateA': 'sum'}\n",
    "    ),\n",
    "    axis=1,\n",
    ")\n",
    "visitorsACummulative.columns = ['date', 'visitorsCummulativeA']\n",
    "\n",
    "visitorsBDaily = visitors[visitors['group'] == 'B'][['date', 'visitors']]\n",
    "visitorsBDaily.columns = ['date', 'visitorsPerDateB']\n",
    "\n",
    "visitorsBCummulative = visitorsBDaily.apply(\n",
    "    lambda x: visitorsBDaily[visitorsBDaily['date'] <= x['date']].agg(\n",
    "        {'date': 'max', 'visitorsPerDateB': 'sum'}\n",
    "    ),\n",
    "    axis=1,\n",
    ")\n",
    "visitorsBCummulative.columns = ['date', 'visitorsCummulativeB']\n",
    "\n",
    "ordersADaily = (\n",
    "    orders[orders['group'] == 'A'][['date', 'transactionid', 'visitorid', 'revenue']]\n",
    "    .groupby('date', as_index=False)\n",
    "    .agg({'transactionid': pd.Series.nunique, 'revenue': 'sum'})\n",
    ")\n",
    "ordersADaily.columns = ['date', 'ordersPerDateA', 'revenuePerDateA']\n",
    "\n",
    "ordersACummulative = ordersADaily.apply(\n",
    "    lambda x: ordersADaily[ordersADaily['date'] <= x['date']].agg(\n",
    "        {'date': 'max', 'ordersPerDateA': 'sum', 'revenuePerDateA': 'sum'}\n",
    "    ),\n",
    "    axis=1,\n",
    ").sort_values(by=['date'])\n",
    "ordersACummulative.columns = [\n",
    "    'date',\n",
    "    'ordersCummulativeA',\n",
    "    'revenueCummulativeA',\n",
    "]\n",
    "\n",
    "ordersBDaily = (\n",
    "    orders[orders['group'] == 'B'][['date', 'transactionid', 'visitorid', 'revenue']]\n",
    "    .groupby('date', as_index=False)\n",
    "    .agg({'transactionid': pd.Series.nunique, 'revenue': 'sum'})\n",
    ")\n",
    "ordersBDaily.columns = ['date', 'ordersPerDateB', 'revenuePerDateB']\n",
    "\n",
    "ordersBCummulative = ordersBDaily.apply(\n",
    "    lambda x: ordersBDaily[ordersBDaily['date'] <= x['date']].agg(\n",
    "        {'date': 'max', 'ordersPerDateB': 'sum', 'revenuePerDateB': 'sum'}\n",
    "    ),\n",
    "    axis=1,\n",
    ").sort_values(by=['date'])\n",
    "ordersBCummulative.columns = [\n",
    "    'date',\n",
    "    'ordersCummulativeB',\n",
    "    'revenueCummulativeB',\n",
    "]\n",
    "\n",
    "data = (\n",
    "    ordersADaily.merge(\n",
    "        ordersBDaily, left_on='date', right_on='date', how='left'\n",
    "    )\n",
    "    .merge(ordersACummulative, left_on='date', right_on='date', how='left')\n",
    "    .merge(ordersBCummulative, left_on='date', right_on='date', how='left')\n",
    "    .merge(visitorsADaily, left_on='date', right_on='date', how='left')\n",
    "    .merge(visitorsBDaily, left_on='date', right_on='date', how='left')\n",
    "    .merge(visitorsACummulative, left_on='date', right_on='date', how='left')\n",
    "    .merge(visitorsBCummulative, left_on='date', right_on='date', how='left')\n",
    ")\n",
    "\n",
    "display(data.head(5)) "
   ]
  },
  {
   "cell_type": "markdown",
   "metadata": {},
   "source": [
    "Напомним названия столбцов данных:\n",
    "- `date` — дата;\n",
    "- `ordersPerDateA` — количество заказов в выбранную дату в группе A;\n",
    "- `revenuePerDateA` — суммарная выручка в выбранную дату в группе A;\n",
    "- `ordersPerDateB` — количество заказов в выбранную дату в группе B;\n",
    "- `revenuePerDateB` — суммарная выручка в выбранную дату в группе B;\n",
    "- `ordersCummulativeA` — суммарное число заказов до выбранной даты включительно в группе A;\n",
    "- `revenueCummulativeA` — суммарная выручка до выбранной даты включительно в группе A;\n",
    "- `ordersCummulativeB` — суммарное количество заказов до выбранной даты включительно в группе B;\n",
    "- `revenueCummulativeB` — суммарная выручка до выбранной даты включительно в группе B;\n",
    "- `visitorsPerDateA` — количество пользователей в выбранную дату в группе A;\n",
    "- `visitorsPerDateB` — количество пользователей в выбранную дату в группе B;\n",
    "- `visitorsCummulativeA`  — количество пользователей до выбранной даты включительно в группе A;\n",
    "- `visitorsCummulativeB` — количество пользователей до выбранной даты включительно в группе B.\n",
    "\n",
    "\n",
    "Посчитаем статистическую значимость различия в среднем количестве заказов между группами."
   ]
  },
  {
   "cell_type": "markdown",
   "metadata": {},
   "source": [
    "Создадим переменные `ordersByUsersA` и `ordersByUsersB` со столбцами `['visitorsid', 'transactionid']`. В них для пользователей, которые заказывали хотя бы 1 раз, укажем число совершённых заказов. "
   ]
  },
  {
   "cell_type": "code",
   "execution_count": 31,
   "metadata": {},
   "outputs": [],
   "source": [
    "ordersByUsersA = (\n",
    "    orders[orders['group'] == 'A']\n",
    "    .groupby('visitorid', as_index=False)\n",
    "    .agg({'transactionid': pd.Series.nunique})\n",
    ")\n",
    "ordersByUsersA.columns = ['visitorid', 'orders']\n",
    "\n",
    "ordersByUsersB = (\n",
    "    orders[orders['group'] == 'B']\n",
    "    .groupby('visitorid', as_index=False)\n",
    "    .agg({'transactionid': pd.Series.nunique})\n",
    ")\n",
    "ordersByUsersB.columns = ['visitorid', 'orders'] "
   ]
  },
  {
   "cell_type": "markdown",
   "metadata": {},
   "source": [
    "Объявим переменные `sampleA` и `sampleB`, в которых пользователям из разных групп будет соответствовать количество заказов. Тем, кто ничего не заказал, будут соответствовать нули. Это нужно, чтобы подготовить выборки к проверке критерием Манна-Уитни."
   ]
  },
  {
   "cell_type": "code",
   "execution_count": 32,
   "metadata": {},
   "outputs": [],
   "source": [
    "sampleA = pd.concat([ordersByUsersA['orders'],\n",
    "                     pd.Series(0, \n",
    "                               index=np.arange(\n",
    "                                   data['visitorsPerDateA'].sum() - \n",
    "                                   len(ordersByUsersA['orders'])), \n",
    "                               name='orders')],axis=0)\n",
    "\n",
    "sampleB = pd.concat([ordersByUsersB['orders'],\n",
    "                     pd.Series(0, \n",
    "                               index=np.arange(\n",
    "                                   data['visitorsPerDateB'].sum() - \n",
    "                                   len(ordersByUsersB['orders'])), \n",
    "                               name='orders')],axis=0) "
   ]
  },
  {
   "cell_type": "markdown",
   "metadata": {},
   "source": [
    "Применим критерий и отформатируем p-value, округлив его до трёх знаков после запятой\n",
    "\n",
    "Гипотезы:\n",
    "- **H0** - между группами нет различий в среднем количестве заказов\n",
    "- **H1** - между группами есть различий в среднем количестве заказов"
   ]
  },
  {
   "cell_type": "code",
   "execution_count": 33,
   "metadata": {},
   "outputs": [
    {
     "name": "stdout",
     "output_type": "stream",
     "text": [
      "p-значение:  0.017\n",
      "Отвергаем нулевую гипотезу\n",
      "относительный выигрыш группы B: 0.138\n"
     ]
    }
   ],
   "source": [
    "alpha = .05 \n",
    "results = stats.mannwhitneyu(sampleA, sampleB)\n",
    "\n",
    "\n",
    "print('p-значение: ', \"{0:.3f}\".format(results.pvalue))\n",
    "\n",
    "if results.pvalue < alpha:\n",
    "    print(\"Отвергаем нулевую гипотезу\")\n",
    "else:\n",
    "    print(\"Не получилось отвергнуть нулевую гипотезу\") \n",
    "\n",
    "print('относительный выигрыш группы B:', \"{0:.3f}\".format(sampleB.mean() / sampleA.mean() - 1))"
   ]
  },
  {
   "cell_type": "markdown",
   "metadata": {},
   "source": [
    "Анализируя различия в количестве заказов между группами мы видим, что нулевая гипотеза отвергнута, т.е. между группами есть разница в количестве заказов.\n",
    "Относительный выигрыш группы B - 0.138, т.е. группа B получила на 13.8% больше заказов на посетителя"
   ]
  },
  {
   "cell_type": "markdown",
   "metadata": {},
   "source": [
    "#### Статистическая значимость различий в среднем чеке заказа между группами по «сырым» данным"
   ]
  },
  {
   "cell_type": "markdown",
   "metadata": {},
   "source": [
    "Как и блоке выше, посчитаем статистическую значимость по \"сырым\" данным - т.е. не удаляя аномалии\n",
    "\n",
    "Сформулируем нулевую и альтернативную гипотезы:\n",
    "\n",
    "- **H0** - между группами нет различий в среднем чеке\n",
    "- **H1** - между группами есть различий в среднем чеке\n",
    "\n",
    "Уровень значимости установим как 0.05"
   ]
  },
  {
   "cell_type": "code",
   "execution_count": 34,
   "metadata": {},
   "outputs": [
    {
     "name": "stdout",
     "output_type": "stream",
     "text": [
      "p-значение:  0.729\n",
      "Не получилось отвергнуть нулевую гипотезу\n",
      "относительный выигрыш группы B: 0.259\n"
     ]
    }
   ],
   "source": [
    "alpha = .05 \n",
    "results = stats.mannwhitneyu(orders[orders['group']=='A']['revenue'], orders[orders['group']=='B']['revenue'])\n",
    "\n",
    "\n",
    "print('p-значение: ', \"{0:.3f}\".format(results.pvalue))\n",
    "\n",
    "if results.pvalue < alpha:\n",
    "    print(\"Отвергаем нулевую гипотезу\")\n",
    "else:\n",
    "    print(\"Не получилось отвергнуть нулевую гипотезу\") \n",
    "\n",
    "print('относительный выигрыш группы B:', \"{0:.3f}\".format(\n",
    "    orders[orders['group']=='B']['revenue']\n",
    "    .mean()/orders[orders['group']=='A']['revenue']\n",
    "    .mean()-1)\n",
    "     )                                                                                                                              "
   ]
  },
  {
   "cell_type": "markdown",
   "metadata": {},
   "source": [
    "Анализируя \"сырые\" данные мы видим, что нулевую гипотезу не получилось опровергнуть, между группами нет разницы.\n",
    "При этом относительный выигрыш группы B составил 25.9%"
   ]
  },
  {
   "cell_type": "markdown",
   "metadata": {},
   "source": [
    "#### Статистическая значимость различий в среднем количестве заказов на посетителя между группами по «очищенным» данным"
   ]
  },
  {
   "cell_type": "markdown",
   "metadata": {},
   "source": [
    "Сделаем аналогичные расчеты, но уже по очищенным данным - т.е. отфильтруем их так, чтобы исключить аномальные значения, которые мы определили ранее."
   ]
  },
  {
   "cell_type": "markdown",
   "metadata": {},
   "source": [
    "Примем за аномальных пользователей тех, кто совершил от 4 заказов или совершил заказ дороже 58233.2 рублей. \n",
    "\n",
    "Сделаем срезы пользователей с числом заказов больше 4 — **usersWithManyOrders** и пользователей, совершивших заказы дороже 58233.2 — **usersWithExpensiveOrders**. \n",
    "\n",
    "Объединим их в таблице **abnormalUsers**. \n",
    "\n",
    "Узнаем, сколько всего аномальных пользователей атрибутом shape"
   ]
  },
  {
   "cell_type": "code",
   "execution_count": 35,
   "metadata": {},
   "outputs": [
    {
     "name": "stdout",
     "output_type": "stream",
     "text": [
      "1099     148427295\n",
      "949      887908475\n",
      "744      888512513\n",
      "1103    1164614297\n",
      "1136    1307669133\n",
      "Name: visitorid, dtype: int64\n",
      "15\n"
     ]
    }
   ],
   "source": [
    "usersWithManyOrders = pd.concat(\n",
    "    [\n",
    "        ordersByUsersA[ordersByUsersA['orders'] > 4]['visitorid'],\n",
    "        ordersByUsersB[ordersByUsersB['orders'] > 4]['visitorid'],\n",
    "    ],\n",
    "    axis=0,\n",
    ")\n",
    "usersWithExpensiveOrders = orders[orders['revenue'] > 58233.2]['visitorid']\n",
    "abnormalUsers = (\n",
    "    pd.concat([usersWithManyOrders, usersWithExpensiveOrders], axis=0)\n",
    "    .drop_duplicates()\n",
    "    .sort_values()\n",
    ")\n",
    "print(abnormalUsers.head(5))\n",
    "print(abnormalUsers.shape[0])"
   ]
  },
  {
   "cell_type": "markdown",
   "metadata": {},
   "source": [
    "Выше мы видим, что из всего массива пользователей лишь 15 подпадают под критерии аномальности (больше 4 заказов и стоимость заказов больше 58233.2). Исключим этих пользователей из результатов теста и проведем расчеты статистической значимости еще раз. Посмотрим, как изменятся и изменятся ли результаты.\n",
    "\n",
    "Как и в предыдущих разделах, создадим переменные с выборками, но на этот раз фильтруем их так, чтобы исключить аномальных пользователей."
   ]
  },
  {
   "cell_type": "code",
   "execution_count": 36,
   "metadata": {},
   "outputs": [],
   "source": [
    "sampleAFiltered = pd.concat(\n",
    "    [\n",
    "        ordersByUsersA[\n",
    "            np.logical_not(ordersByUsersA['visitorid'].isin(abnormalUsers))\n",
    "        ]['orders'],\n",
    "        pd.Series(\n",
    "            0,\n",
    "            index=np.arange(\n",
    "                data['visitorsPerDateA'].sum() - len(ordersByUsersA['orders'])\n",
    "            ),\n",
    "            name='orders',\n",
    "        ),\n",
    "    ],\n",
    "    axis=0,\n",
    ")\n",
    "\n",
    "sampleBFiltered = pd.concat(\n",
    "    [\n",
    "        ordersByUsersB[\n",
    "            np.logical_not(ordersByUsersB['visitorid'].isin(abnormalUsers))\n",
    "        ]['orders'],\n",
    "        pd.Series(\n",
    "            0,\n",
    "            index=np.arange(\n",
    "                data['visitorsPerDateB'].sum() - len(ordersByUsersB['orders'])\n",
    "            ),\n",
    "            name='orders',\n",
    "        ),\n",
    "    ],\n",
    "    axis=0,\n",
    ") "
   ]
  },
  {
   "cell_type": "markdown",
   "metadata": {},
   "source": [
    "Применим статистический критерий Манна-Уитни к полученным выборкам:"
   ]
  },
  {
   "cell_type": "markdown",
   "metadata": {},
   "source": [
    "Гипотезы:\n",
    "- H0 - между группами нет различий в среднем количестве заказов\n",
    "- H1 - между группами есть различий в среднем количестве заказов"
   ]
  },
  {
   "cell_type": "code",
   "execution_count": 37,
   "metadata": {},
   "outputs": [
    {
     "name": "stdout",
     "output_type": "stream",
     "text": [
      "p-значение:  0.014\n",
      "Отвергаем нулевую гипотезу\n",
      "относительный выигрыш группы B: 0.153\n"
     ]
    }
   ],
   "source": [
    "sampleAFiltered = pd.concat(\n",
    "    [\n",
    "        ordersByUsersA[\n",
    "            np.logical_not(ordersByUsersA['visitorid'].isin(abnormalUsers))\n",
    "        ]['orders'],\n",
    "        pd.Series(\n",
    "            0,\n",
    "            index=np.arange(\n",
    "                data['visitorsPerDateA'].sum() - len(ordersByUsersA['orders'])\n",
    "            ),\n",
    "            name='orders',\n",
    "        ),\n",
    "    ],\n",
    "    axis=0,\n",
    ")\n",
    "\n",
    "sampleBFiltered = pd.concat(\n",
    "    [\n",
    "        ordersByUsersB[\n",
    "            np.logical_not(ordersByUsersB['visitorid'].isin(abnormalUsers))\n",
    "        ]['orders'],\n",
    "        pd.Series(\n",
    "            0,\n",
    "            index=np.arange(\n",
    "                data['visitorsPerDateB'].sum() - len(ordersByUsersB['orders'])\n",
    "            ),\n",
    "            name='orders',\n",
    "        ),\n",
    "    ],\n",
    "    axis=0,\n",
    ")\n",
    "\n",
    "\n",
    "alpha = .05 \n",
    "results = stats.mannwhitneyu(sampleAFiltered, sampleBFiltered)\n",
    "\n",
    "\n",
    "print('p-значение: ', \"{0:.3f}\".format(results.pvalue))\n",
    "\n",
    "if results.pvalue < alpha:\n",
    "    print(\"Отвергаем нулевую гипотезу\")\n",
    "else:\n",
    "    print(\"Не получилось отвергнуть нулевую гипотезу\") \n",
    "\n",
    "print('относительный выигрыш группы B:', \"{0:.3f}\".format(sampleBFiltered.mean()/sampleAFiltered.mean()-1))"
   ]
  },
  {
   "cell_type": "markdown",
   "metadata": {},
   "source": [
    "По результатам теста с \"очищенными\" данными, мы видим, что между группами есть различия в количестве заказов. Выигрыш группы B составил 15.3%\n",
    "\n",
    "При анализе \"сырых\" данных выигрыш B составил 13.8%, мы видим, что после очистки данных, показатели группы B улучшились"
   ]
  },
  {
   "cell_type": "markdown",
   "metadata": {},
   "source": [
    "#### Статистическая значимость различий в среднем чеке заказа между группами по «очищенным» данным\n"
   ]
  },
  {
   "cell_type": "markdown",
   "metadata": {},
   "source": [
    "- H0 - между группами нет различий в среднем чеке\n",
    "- H1 - между группами есть различий в среднем чеке"
   ]
  },
  {
   "cell_type": "code",
   "execution_count": 38,
   "metadata": {},
   "outputs": [
    {
     "name": "stdout",
     "output_type": "stream",
     "text": [
      "p-значение:  0.851\n",
      "Не получилось отвергнуть нулевую гипотезу\n",
      "отношение средний чек группы B / средний чек группы A: -0.006\n"
     ]
    }
   ],
   "source": [
    "\n",
    "alpha = .05 \n",
    "results = stats.mannwhitneyu(\n",
    "            orders[\n",
    "                np.logical_and(\n",
    "                    orders['group'] == 'A',\n",
    "                    np.logical_not(orders['visitorid'].isin(abnormalUsers)),\n",
    "                )\n",
    "            ]['revenue'],\n",
    "            orders[\n",
    "                np.logical_and(\n",
    "                    orders['group'] == 'B',\n",
    "                    np.logical_not(orders['visitorid'].isin(abnormalUsers)),\n",
    "                )\n",
    "            ]['revenue'],\n",
    "        )\n",
    "\n",
    "print('p-значение: ', \"{0:.3f}\".format(results.pvalue))\n",
    "if results.pvalue < alpha:\n",
    "    print(\"Отвергаем нулевую гипотезу\")\n",
    "else:\n",
    "    print(\"Не получилось отвергнуть нулевую гипотезу\") \n",
    "print('отношение средний чек группы B / средний чек группы A:',\n",
    "    \"{0:.3f}\".format(\n",
    "        orders[\n",
    "            np.logical_and(\n",
    "                orders['group'] == 'B',\n",
    "                np.logical_not(orders['visitorid'].isin(abnormalUsers)),\n",
    "            )\n",
    "        ]['revenue'].mean()\n",
    "        / orders[\n",
    "            np.logical_and(\n",
    "                orders['group'] == 'A',\n",
    "                np.logical_not(orders['visitorid'].isin(abnormalUsers)),\n",
    "            )\n",
    "        ]['revenue'].mean()\n",
    "        - 1\n",
    "    )\n",
    ")"
   ]
  },
  {
   "cell_type": "markdown",
   "metadata": {},
   "source": [
    "Между группами нет статистически значимых различий в среднем чеке\n",
    "\n",
    "Средний чек в группе B на 0.6% меньше, чем в A\n",
    "\n",
    "Сравним отношение группы B к A при анализе сырых и очищенных данных:\n",
    "- Сырые данные - группа B получила ~25.9% выше средний чек\n",
    "- Очищенные данные - средний чек в группе B на 0.6% меньше, чем в A. Это свидетельствует о том, что до очистки именно в группе B было много аномальных данных, что в свою очередь может означать, что деление на группы происходит неравномерно и в группу B попали посетители, склонные к крупным заказам."
   ]
  },
  {
   "cell_type": "markdown",
   "metadata": {},
   "source": [
    "#### Решение по результатам теста"
   ]
  },
  {
   "cell_type": "markdown",
   "metadata": {},
   "source": [
    "Какие мы видим результаты в рамках A/B теста?\n",
    "Еще раз посмотрим на выводы, разделим их на результаты по \"сырым\" и \"очищенным\" данным.\n",
    "\n",
    "**Сырые данные**\n",
    "\n",
    "Различия в среднем количестве заказов на посетителя:\n",
    "- Между группами есть различия в кол-ве заказов, относительный выигрыш группы B: 0.138\n",
    "\n",
    "Различия в среднем чеке заказа:\n",
    "- Здесь не обнаружили различий между группами\n",
    "\n",
    "\n",
    "**Очищенные данные**\n",
    "\n",
    "Различия в среднем количестве заказов на посетителя:\n",
    "- Здесь опять видим различия между группами, относительный выигрыш группы B: 0.153\n",
    "\n",
    "Различия в среднем чеке заказа:\n",
    "- По \"очищенным\" данным видим изменения, хоть и незначительные, в среднем чеке в пользу группы A\n",
    "\n",
    "Проанализировав обе группы, мы видим, что группа B лидирует по числу заказов, при этом статистически значимых различий в среднем чеке между группами нет.\n",
    "\n",
    "По результатам тестирования видно, что группа B показывает положительные результаты. Предлагаю на этом остановить тест."
   ]
  },
  {
   "cell_type": "markdown",
   "metadata": {},
   "source": [
    "### Общий вывод"
   ]
  },
  {
   "cell_type": "markdown",
   "metadata": {},
   "source": [
    "#### Часть 1"
   ]
  },
  {
   "cell_type": "markdown",
   "metadata": {},
   "source": [
    "В первой части проекта стояла задача приоритизировать список гипотез через фреймворки ICE и RICE.\n",
    "В результате, получили ТОП 5 гипотез в рамках каждого фреймворка.\n",
    "\n",
    "**ICE:**\n",
    "- Запустить акцию, дающую скидку на товар в день рождения (ICE Score 16.200)\n",
    "- Добавить два новых канала привлечения трафика, что позволит привлекать на 30% больше пользователей (ICE Score 13.333)\n",
    "- Добавить форму подписки на все основные страницы, чтобы собрать базу клиентов для email-рассылок (ICE Score 11.200)\n",
    "\n",
    "**RICE:**\n",
    "- Добавить форму подписки на все основные страницы, чтобы собрать базу клиентов для email-рассылок (RICE Score 112.000\n",
    "- Добавить блоки рекомендаций товаров на сайт интернет магазина, чтобы повысить конверсию и средний чек заказа (RICE Score 56.000)\n",
    "- Добавить два новых канала привлечения трафика, что позволит привлекать на 30% больше пользователей (RICE Score 40.000)"
   ]
  },
  {
   "cell_type": "markdown",
   "metadata": {},
   "source": [
    "#### Часть 2"
   ]
  },
  {
   "cell_type": "markdown",
   "metadata": {},
   "source": [
    "В рамках проекта были проанализированы результаты A/B теста.\n",
    "Анализ результатов проводился как по \"сырым\", так и по \"очищенным\" от аномальных значений данным.\n",
    "На момент исследования, различия между группами по количеству заказова оказались достаточно ощутимыми, чтобы предложить завершить тестирование."
   ]
  }
 ],
 "metadata": {
  "ExecuteTimeLog": [
   {
    "duration": 1275,
    "start_time": "2023-01-13T13:24:50.897Z"
   },
   {
    "duration": 3,
    "start_time": "2023-01-13T13:25:08.456Z"
   },
   {
    "duration": 4,
    "start_time": "2023-01-13T13:27:38.703Z"
   },
   {
    "duration": 188,
    "start_time": "2023-01-13T13:27:58.531Z"
   },
   {
    "duration": 74,
    "start_time": "2023-01-13T13:28:19.005Z"
   },
   {
    "duration": 14,
    "start_time": "2023-01-13T13:28:23.037Z"
   },
   {
    "duration": 12,
    "start_time": "2023-01-13T13:31:19.491Z"
   },
   {
    "duration": 7,
    "start_time": "2023-01-13T13:31:30.907Z"
   },
   {
    "duration": 8,
    "start_time": "2023-01-13T13:33:09.619Z"
   },
   {
    "duration": 7,
    "start_time": "2023-01-13T13:34:55.640Z"
   },
   {
    "duration": 44,
    "start_time": "2023-01-13T13:35:38.151Z"
   },
   {
    "duration": 7,
    "start_time": "2023-01-13T13:35:43.469Z"
   },
   {
    "duration": 8,
    "start_time": "2023-01-13T13:35:59.201Z"
   },
   {
    "duration": 42,
    "start_time": "2023-01-13T13:36:19.402Z"
   },
   {
    "duration": 2,
    "start_time": "2023-01-13T13:37:14.372Z"
   },
   {
    "duration": 48,
    "start_time": "2023-01-13T13:38:25.338Z"
   },
   {
    "duration": 4,
    "start_time": "2023-01-13T13:39:29.600Z"
   },
   {
    "duration": 5,
    "start_time": "2023-01-13T13:39:59.643Z"
   },
   {
    "duration": 31,
    "start_time": "2023-01-13T13:43:50.076Z"
   },
   {
    "duration": 42,
    "start_time": "2023-01-13T13:44:24.735Z"
   },
   {
    "duration": 7,
    "start_time": "2023-01-13T13:45:24.701Z"
   },
   {
    "duration": 8,
    "start_time": "2023-01-13T13:46:53.747Z"
   },
   {
    "duration": 86,
    "start_time": "2023-01-13T13:47:46.123Z"
   },
   {
    "duration": 11,
    "start_time": "2023-01-13T13:51:50.834Z"
   },
   {
    "duration": 11,
    "start_time": "2023-01-13T13:53:57.224Z"
   },
   {
    "duration": 46,
    "start_time": "2023-01-13T14:01:16.471Z"
   },
   {
    "duration": 10,
    "start_time": "2023-01-13T14:02:11.921Z"
   },
   {
    "duration": 10,
    "start_time": "2023-01-13T14:02:20.734Z"
   },
   {
    "duration": 3,
    "start_time": "2023-01-13T14:03:52.240Z"
   },
   {
    "duration": 3,
    "start_time": "2023-01-13T14:05:51.170Z"
   },
   {
    "duration": 70,
    "start_time": "2023-01-13T14:19:23.032Z"
   },
   {
    "duration": 111,
    "start_time": "2023-01-13T14:19:26.160Z"
   },
   {
    "duration": 13,
    "start_time": "2023-01-13T14:19:45.831Z"
   },
   {
    "duration": 8,
    "start_time": "2023-01-13T14:19:56.559Z"
   },
   {
    "duration": 8,
    "start_time": "2023-01-13T14:20:04.610Z"
   },
   {
    "duration": 267,
    "start_time": "2023-01-13T14:20:46.939Z"
   },
   {
    "duration": 241,
    "start_time": "2023-01-13T14:27:59.215Z"
   },
   {
    "duration": 178,
    "start_time": "2023-01-13T14:28:08.249Z"
   },
   {
    "duration": 167,
    "start_time": "2023-01-13T14:28:43.698Z"
   },
   {
    "duration": 229,
    "start_time": "2023-01-13T14:32:14.896Z"
   },
   {
    "duration": 174,
    "start_time": "2023-01-13T14:33:19.925Z"
   },
   {
    "duration": 140,
    "start_time": "2023-01-13T14:34:10.710Z"
   },
   {
    "duration": 166,
    "start_time": "2023-01-13T14:34:14.810Z"
   },
   {
    "duration": 261,
    "start_time": "2023-01-13T14:34:25.958Z"
   },
   {
    "duration": 171,
    "start_time": "2023-01-13T14:34:30.773Z"
   },
   {
    "duration": 3,
    "start_time": "2023-01-13T14:35:10.344Z"
   },
   {
    "duration": 264,
    "start_time": "2023-01-13T14:35:14.961Z"
   },
   {
    "duration": 261,
    "start_time": "2023-01-13T14:35:17.003Z"
   },
   {
    "duration": 263,
    "start_time": "2023-01-13T14:35:41.271Z"
   },
   {
    "duration": 268,
    "start_time": "2023-01-13T14:51:40.420Z"
   },
   {
    "duration": 282,
    "start_time": "2023-01-13T14:52:31.890Z"
   },
   {
    "duration": 263,
    "start_time": "2023-01-13T14:53:09.124Z"
   },
   {
    "duration": 250,
    "start_time": "2023-01-13T14:53:18.640Z"
   },
   {
    "duration": 11,
    "start_time": "2023-01-13T15:00:31.548Z"
   },
   {
    "duration": 258,
    "start_time": "2023-01-13T15:00:58.987Z"
   },
   {
    "duration": 249,
    "start_time": "2023-01-13T15:03:10.450Z"
   },
   {
    "duration": 263,
    "start_time": "2023-01-13T15:04:17.097Z"
   },
   {
    "duration": 5,
    "start_time": "2023-01-13T15:12:51.034Z"
   },
   {
    "duration": 84,
    "start_time": "2023-01-13T15:12:51.041Z"
   },
   {
    "duration": 7,
    "start_time": "2023-01-13T15:12:51.127Z"
   },
   {
    "duration": 16,
    "start_time": "2023-01-13T15:12:51.136Z"
   },
   {
    "duration": 10,
    "start_time": "2023-01-13T15:12:51.154Z"
   },
   {
    "duration": 11,
    "start_time": "2023-01-13T15:12:51.165Z"
   },
   {
    "duration": 24,
    "start_time": "2023-01-13T15:12:51.178Z"
   },
   {
    "duration": 5,
    "start_time": "2023-01-13T15:12:51.203Z"
   },
   {
    "duration": 6,
    "start_time": "2023-01-13T15:12:51.210Z"
   },
   {
    "duration": 11,
    "start_time": "2023-01-13T15:12:51.218Z"
   },
   {
    "duration": 49,
    "start_time": "2023-01-13T15:12:51.230Z"
   },
   {
    "duration": 0,
    "start_time": "2023-01-13T15:12:51.280Z"
   },
   {
    "duration": 0,
    "start_time": "2023-01-13T15:12:51.281Z"
   },
   {
    "duration": 0,
    "start_time": "2023-01-13T15:12:51.282Z"
   },
   {
    "duration": 0,
    "start_time": "2023-01-13T15:12:51.283Z"
   },
   {
    "duration": 0,
    "start_time": "2023-01-13T15:12:51.285Z"
   },
   {
    "duration": 0,
    "start_time": "2023-01-13T15:12:51.286Z"
   },
   {
    "duration": 258,
    "start_time": "2023-01-13T15:12:57.564Z"
   },
   {
    "duration": 326,
    "start_time": "2023-01-13T15:13:04.273Z"
   },
   {
    "duration": 8,
    "start_time": "2023-01-13T15:13:20.725Z"
   },
   {
    "duration": 4,
    "start_time": "2023-01-13T15:13:23.280Z"
   },
   {
    "duration": 80,
    "start_time": "2023-01-13T15:13:23.285Z"
   },
   {
    "duration": 7,
    "start_time": "2023-01-13T15:13:23.367Z"
   },
   {
    "duration": 11,
    "start_time": "2023-01-13T15:13:23.376Z"
   },
   {
    "duration": 9,
    "start_time": "2023-01-13T15:13:23.389Z"
   },
   {
    "duration": 8,
    "start_time": "2023-01-13T15:13:23.399Z"
   },
   {
    "duration": 26,
    "start_time": "2023-01-13T15:13:23.409Z"
   },
   {
    "duration": 6,
    "start_time": "2023-01-13T15:13:23.438Z"
   },
   {
    "duration": 4,
    "start_time": "2023-01-13T15:13:23.478Z"
   },
   {
    "duration": 10,
    "start_time": "2023-01-13T15:13:23.483Z"
   },
   {
    "duration": 8,
    "start_time": "2023-01-13T15:13:23.495Z"
   },
   {
    "duration": 31,
    "start_time": "2023-01-13T15:13:23.504Z"
   },
   {
    "duration": 13,
    "start_time": "2023-01-13T15:13:23.537Z"
   },
   {
    "duration": 283,
    "start_time": "2023-01-13T15:13:23.551Z"
   },
   {
    "duration": 261,
    "start_time": "2023-01-13T15:13:23.835Z"
   },
   {
    "duration": 358,
    "start_time": "2023-01-13T15:13:24.098Z"
   },
   {
    "duration": 233,
    "start_time": "2023-01-13T15:13:50.078Z"
   },
   {
    "duration": 252,
    "start_time": "2023-01-13T15:13:57.781Z"
   },
   {
    "duration": 268,
    "start_time": "2023-01-13T15:15:03.485Z"
   },
   {
    "duration": 286,
    "start_time": "2023-01-13T15:15:08.486Z"
   },
   {
    "duration": 76,
    "start_time": "2023-01-13T15:15:34.320Z"
   },
   {
    "duration": 9,
    "start_time": "2023-01-13T15:15:34.398Z"
   },
   {
    "duration": 10,
    "start_time": "2023-01-13T15:15:34.409Z"
   },
   {
    "duration": 11,
    "start_time": "2023-01-13T15:15:34.420Z"
   },
   {
    "duration": 6,
    "start_time": "2023-01-13T15:15:34.434Z"
   },
   {
    "duration": 37,
    "start_time": "2023-01-13T15:15:34.442Z"
   },
   {
    "duration": 4,
    "start_time": "2023-01-13T15:15:34.481Z"
   },
   {
    "duration": 8,
    "start_time": "2023-01-13T15:15:34.487Z"
   },
   {
    "duration": 11,
    "start_time": "2023-01-13T15:15:34.496Z"
   },
   {
    "duration": 10,
    "start_time": "2023-01-13T15:15:34.509Z"
   },
   {
    "duration": 11,
    "start_time": "2023-01-13T15:15:34.521Z"
   },
   {
    "duration": 11,
    "start_time": "2023-01-13T15:15:34.534Z"
   },
   {
    "duration": 304,
    "start_time": "2023-01-13T15:15:34.547Z"
   },
   {
    "duration": 343,
    "start_time": "2023-01-13T15:15:34.854Z"
   },
   {
    "duration": 323,
    "start_time": "2023-01-13T15:15:35.199Z"
   },
   {
    "duration": 264,
    "start_time": "2023-01-13T15:15:38.384Z"
   },
   {
    "duration": 4,
    "start_time": "2023-01-13T15:15:52.231Z"
   },
   {
    "duration": 5,
    "start_time": "2023-01-13T15:17:24.961Z"
   },
   {
    "duration": 267,
    "start_time": "2023-01-13T15:17:30.402Z"
   },
   {
    "duration": 298,
    "start_time": "2023-01-13T15:17:35.350Z"
   },
   {
    "duration": 270,
    "start_time": "2023-01-13T15:17:42.130Z"
   },
   {
    "duration": 4,
    "start_time": "2023-01-13T15:17:57.080Z"
   },
   {
    "duration": 4,
    "start_time": "2023-01-13T15:18:00.527Z"
   },
   {
    "duration": 113,
    "start_time": "2023-01-13T15:18:00.533Z"
   },
   {
    "duration": 9,
    "start_time": "2023-01-13T15:18:00.648Z"
   },
   {
    "duration": 25,
    "start_time": "2023-01-13T15:18:00.659Z"
   },
   {
    "duration": 27,
    "start_time": "2023-01-13T15:18:00.686Z"
   },
   {
    "duration": 20,
    "start_time": "2023-01-13T15:18:00.714Z"
   },
   {
    "duration": 124,
    "start_time": "2023-01-13T15:18:00.735Z"
   },
   {
    "duration": 35,
    "start_time": "2023-01-13T15:18:00.860Z"
   },
   {
    "duration": 17,
    "start_time": "2023-01-13T15:18:00.897Z"
   },
   {
    "duration": 39,
    "start_time": "2023-01-13T15:18:00.915Z"
   },
   {
    "duration": 41,
    "start_time": "2023-01-13T15:18:00.956Z"
   },
   {
    "duration": 23,
    "start_time": "2023-01-13T15:18:00.998Z"
   },
   {
    "duration": 28,
    "start_time": "2023-01-13T15:18:01.022Z"
   },
   {
    "duration": 297,
    "start_time": "2023-01-13T15:18:01.052Z"
   },
   {
    "duration": 328,
    "start_time": "2023-01-13T15:18:01.350Z"
   },
   {
    "duration": 302,
    "start_time": "2023-01-13T15:18:01.679Z"
   },
   {
    "duration": 355,
    "start_time": "2023-01-13T15:18:08.470Z"
   },
   {
    "duration": 9,
    "start_time": "2023-01-13T15:26:26.709Z"
   },
   {
    "duration": 7,
    "start_time": "2023-01-13T15:27:03.578Z"
   },
   {
    "duration": 53,
    "start_time": "2023-01-13T15:27:17.980Z"
   },
   {
    "duration": 5,
    "start_time": "2023-01-13T15:27:21.523Z"
   },
   {
    "duration": 179,
    "start_time": "2023-01-13T15:27:25.630Z"
   },
   {
    "duration": 245,
    "start_time": "2023-01-13T15:28:07.348Z"
   },
   {
    "duration": 15,
    "start_time": "2023-01-13T15:28:16.550Z"
   },
   {
    "duration": 57,
    "start_time": "2023-01-13T15:28:20.422Z"
   },
   {
    "duration": 241,
    "start_time": "2023-01-13T15:28:23.292Z"
   },
   {
    "duration": 260,
    "start_time": "2023-01-13T15:28:35.957Z"
   },
   {
    "duration": 203,
    "start_time": "2023-01-13T15:29:12.986Z"
   },
   {
    "duration": 214,
    "start_time": "2023-01-13T15:29:25.551Z"
   },
   {
    "duration": 211,
    "start_time": "2023-01-13T15:29:37.461Z"
   },
   {
    "duration": 317,
    "start_time": "2023-01-13T15:29:49.546Z"
   },
   {
    "duration": 215,
    "start_time": "2023-01-13T15:31:08.301Z"
   },
   {
    "duration": 231,
    "start_time": "2023-01-13T15:31:11.873Z"
   },
   {
    "duration": 237,
    "start_time": "2023-01-13T15:31:45.644Z"
   },
   {
    "duration": 225,
    "start_time": "2023-01-13T15:32:25.334Z"
   },
   {
    "duration": 10,
    "start_time": "2023-01-13T15:34:48.358Z"
   },
   {
    "duration": 5,
    "start_time": "2023-01-13T15:34:51.483Z"
   },
   {
    "duration": 4,
    "start_time": "2023-01-13T15:34:56.444Z"
   },
   {
    "duration": 303,
    "start_time": "2023-01-13T15:35:04.784Z"
   },
   {
    "duration": 10,
    "start_time": "2023-01-13T15:37:34.610Z"
   },
   {
    "duration": 3,
    "start_time": "2023-01-13T15:37:39.291Z"
   },
   {
    "duration": 3,
    "start_time": "2023-01-13T15:38:26.021Z"
   },
   {
    "duration": 242,
    "start_time": "2023-01-13T15:40:53.202Z"
   },
   {
    "duration": 249,
    "start_time": "2023-01-13T15:40:59.750Z"
   },
   {
    "duration": 4,
    "start_time": "2023-01-13T15:41:15.880Z"
   },
   {
    "duration": 78,
    "start_time": "2023-01-13T15:41:16.305Z"
   },
   {
    "duration": 3,
    "start_time": "2023-01-13T15:44:32.947Z"
   },
   {
    "duration": 243,
    "start_time": "2023-01-13T15:44:38.963Z"
   },
   {
    "duration": 9,
    "start_time": "2023-01-13T15:45:54.942Z"
   },
   {
    "duration": 127,
    "start_time": "2023-01-13T15:47:11.678Z"
   },
   {
    "duration": 3,
    "start_time": "2023-01-13T15:47:58.762Z"
   },
   {
    "duration": 236,
    "start_time": "2023-01-13T15:48:09.040Z"
   },
   {
    "duration": 4,
    "start_time": "2023-01-13T15:48:31.324Z"
   },
   {
    "duration": 85,
    "start_time": "2023-01-13T15:48:31.330Z"
   },
   {
    "duration": 7,
    "start_time": "2023-01-13T15:48:31.417Z"
   },
   {
    "duration": 30,
    "start_time": "2023-01-13T15:48:31.426Z"
   },
   {
    "duration": 18,
    "start_time": "2023-01-13T15:48:31.458Z"
   },
   {
    "duration": 16,
    "start_time": "2023-01-13T15:48:31.478Z"
   },
   {
    "duration": 116,
    "start_time": "2023-01-13T15:48:31.496Z"
   },
   {
    "duration": 5,
    "start_time": "2023-01-13T15:48:31.614Z"
   },
   {
    "duration": 7,
    "start_time": "2023-01-13T15:48:31.620Z"
   },
   {
    "duration": 17,
    "start_time": "2023-01-13T15:48:31.628Z"
   },
   {
    "duration": 7,
    "start_time": "2023-01-13T15:48:31.647Z"
   },
   {
    "duration": 23,
    "start_time": "2023-01-13T15:48:31.656Z"
   },
   {
    "duration": 12,
    "start_time": "2023-01-13T15:48:31.681Z"
   },
   {
    "duration": 261,
    "start_time": "2023-01-13T15:48:31.694Z"
   },
   {
    "duration": 222,
    "start_time": "2023-01-13T15:48:31.956Z"
   },
   {
    "duration": 228,
    "start_time": "2023-01-13T15:48:32.179Z"
   },
   {
    "duration": 1050,
    "start_time": "2023-01-13T15:48:43.110Z"
   },
   {
    "duration": 74,
    "start_time": "2023-01-13T15:48:44.161Z"
   },
   {
    "duration": 10,
    "start_time": "2023-01-13T15:48:44.237Z"
   },
   {
    "duration": 8,
    "start_time": "2023-01-13T15:48:44.249Z"
   },
   {
    "duration": 8,
    "start_time": "2023-01-13T15:48:44.259Z"
   },
   {
    "duration": 7,
    "start_time": "2023-01-13T15:48:44.269Z"
   },
   {
    "duration": 23,
    "start_time": "2023-01-13T15:48:44.278Z"
   },
   {
    "duration": 4,
    "start_time": "2023-01-13T15:48:44.303Z"
   },
   {
    "duration": 6,
    "start_time": "2023-01-13T15:48:44.309Z"
   },
   {
    "duration": 8,
    "start_time": "2023-01-13T15:48:44.317Z"
   },
   {
    "duration": 7,
    "start_time": "2023-01-13T15:48:44.326Z"
   },
   {
    "duration": 42,
    "start_time": "2023-01-13T15:48:44.335Z"
   },
   {
    "duration": 9,
    "start_time": "2023-01-13T15:48:44.378Z"
   },
   {
    "duration": 268,
    "start_time": "2023-01-13T15:48:44.389Z"
   },
   {
    "duration": 300,
    "start_time": "2023-01-13T15:48:44.659Z"
   },
   {
    "duration": 208,
    "start_time": "2023-01-13T15:48:44.961Z"
   },
   {
    "duration": 275,
    "start_time": "2023-01-13T15:57:21.189Z"
   },
   {
    "duration": 284,
    "start_time": "2023-01-13T15:57:34.382Z"
   },
   {
    "duration": 294,
    "start_time": "2023-01-13T15:58:18.622Z"
   },
   {
    "duration": 322,
    "start_time": "2023-01-13T15:58:26.392Z"
   },
   {
    "duration": 319,
    "start_time": "2023-01-13T15:58:34.470Z"
   },
   {
    "duration": 271,
    "start_time": "2023-01-13T15:58:48.746Z"
   },
   {
    "duration": 204,
    "start_time": "2023-01-13T15:58:57.862Z"
   },
   {
    "duration": 335,
    "start_time": "2023-01-13T15:59:04.535Z"
   },
   {
    "duration": 314,
    "start_time": "2023-01-13T15:59:20.900Z"
   },
   {
    "duration": 267,
    "start_time": "2023-01-13T16:07:32.226Z"
   },
   {
    "duration": 45,
    "start_time": "2023-01-13T16:07:59.432Z"
   },
   {
    "duration": 45,
    "start_time": "2023-01-13T16:08:09.189Z"
   },
   {
    "duration": 298,
    "start_time": "2023-01-13T16:08:12.026Z"
   },
   {
    "duration": 323,
    "start_time": "2023-01-13T16:08:30.182Z"
   },
   {
    "duration": 278,
    "start_time": "2023-01-13T16:08:41.122Z"
   },
   {
    "duration": 280,
    "start_time": "2023-01-13T16:09:04.126Z"
   },
   {
    "duration": 331,
    "start_time": "2023-01-13T16:09:50.570Z"
   },
   {
    "duration": 290,
    "start_time": "2023-01-13T16:09:56.713Z"
   },
   {
    "duration": 9,
    "start_time": "2023-01-13T16:26:08.074Z"
   },
   {
    "duration": 9,
    "start_time": "2023-01-13T16:26:19.007Z"
   },
   {
    "duration": 6,
    "start_time": "2023-01-13T16:30:41.036Z"
   },
   {
    "duration": 9,
    "start_time": "2023-01-13T16:30:46.701Z"
   },
   {
    "duration": 12,
    "start_time": "2023-01-13T16:31:12.983Z"
   },
   {
    "duration": 262,
    "start_time": "2023-01-13T16:34:01.895Z"
   },
   {
    "duration": 225,
    "start_time": "2023-01-13T16:34:31.985Z"
   },
   {
    "duration": 237,
    "start_time": "2023-01-13T16:34:49.096Z"
   },
   {
    "duration": 218,
    "start_time": "2023-01-13T16:35:26.943Z"
   },
   {
    "duration": 194,
    "start_time": "2023-01-13T16:36:18.870Z"
   },
   {
    "duration": 10,
    "start_time": "2023-01-13T16:37:17.543Z"
   },
   {
    "duration": 5,
    "start_time": "2023-01-13T16:37:32.242Z"
   },
   {
    "duration": 5,
    "start_time": "2023-01-13T16:37:49.948Z"
   },
   {
    "duration": 10,
    "start_time": "2023-01-13T16:38:03.507Z"
   },
   {
    "duration": 10,
    "start_time": "2023-01-13T16:38:09.077Z"
   },
   {
    "duration": 226,
    "start_time": "2023-01-13T16:40:53.464Z"
   },
   {
    "duration": 237,
    "start_time": "2023-01-13T16:43:35.607Z"
   },
   {
    "duration": 221,
    "start_time": "2023-01-13T16:45:04.243Z"
   },
   {
    "duration": 210,
    "start_time": "2023-01-13T16:45:25.891Z"
   },
   {
    "duration": 239,
    "start_time": "2023-01-13T16:46:00.946Z"
   },
   {
    "duration": 332,
    "start_time": "2023-01-13T16:47:09.165Z"
   },
   {
    "duration": 361,
    "start_time": "2023-01-13T17:18:29.054Z"
   },
   {
    "duration": 294,
    "start_time": "2023-01-13T17:19:03.141Z"
   },
   {
    "duration": 4,
    "start_time": "2023-01-13T18:28:09.303Z"
   },
   {
    "duration": 78,
    "start_time": "2023-01-13T18:28:09.309Z"
   },
   {
    "duration": 7,
    "start_time": "2023-01-13T18:28:09.389Z"
   },
   {
    "duration": 9,
    "start_time": "2023-01-13T18:28:09.398Z"
   },
   {
    "duration": 9,
    "start_time": "2023-01-13T18:28:09.408Z"
   },
   {
    "duration": 10,
    "start_time": "2023-01-13T18:28:09.418Z"
   },
   {
    "duration": 25,
    "start_time": "2023-01-13T18:28:09.429Z"
   },
   {
    "duration": 21,
    "start_time": "2023-01-13T18:28:09.455Z"
   },
   {
    "duration": 6,
    "start_time": "2023-01-13T18:28:09.479Z"
   },
   {
    "duration": 8,
    "start_time": "2023-01-13T18:28:09.486Z"
   },
   {
    "duration": 10,
    "start_time": "2023-01-13T18:28:09.496Z"
   },
   {
    "duration": 18,
    "start_time": "2023-01-13T18:28:09.508Z"
   },
   {
    "duration": 14,
    "start_time": "2023-01-13T18:28:09.527Z"
   },
   {
    "duration": 272,
    "start_time": "2023-01-13T18:28:09.543Z"
   },
   {
    "duration": 211,
    "start_time": "2023-01-13T18:28:09.817Z"
   },
   {
    "duration": 106,
    "start_time": "2023-01-13T18:28:10.029Z"
   },
   {
    "duration": 0,
    "start_time": "2023-01-13T18:28:10.137Z"
   },
   {
    "duration": 0,
    "start_time": "2023-01-13T18:28:10.138Z"
   },
   {
    "duration": 0,
    "start_time": "2023-01-13T18:28:10.139Z"
   },
   {
    "duration": 311,
    "start_time": "2023-01-13T18:28:20.483Z"
   },
   {
    "duration": 13,
    "start_time": "2023-01-13T18:28:27.634Z"
   },
   {
    "duration": 196,
    "start_time": "2023-01-13T18:28:30.915Z"
   },
   {
    "duration": 3,
    "start_time": "2023-01-13T18:28:49.218Z"
   },
   {
    "duration": 87,
    "start_time": "2023-01-13T18:28:49.223Z"
   },
   {
    "duration": 8,
    "start_time": "2023-01-13T18:28:49.312Z"
   },
   {
    "duration": 11,
    "start_time": "2023-01-13T18:28:49.321Z"
   },
   {
    "duration": 10,
    "start_time": "2023-01-13T18:28:49.334Z"
   },
   {
    "duration": 14,
    "start_time": "2023-01-13T18:28:49.345Z"
   },
   {
    "duration": 30,
    "start_time": "2023-01-13T18:28:49.361Z"
   },
   {
    "duration": 5,
    "start_time": "2023-01-13T18:28:49.392Z"
   },
   {
    "duration": 9,
    "start_time": "2023-01-13T18:28:49.398Z"
   },
   {
    "duration": 13,
    "start_time": "2023-01-13T18:28:49.408Z"
   },
   {
    "duration": 16,
    "start_time": "2023-01-13T18:28:49.423Z"
   },
   {
    "duration": 15,
    "start_time": "2023-01-13T18:28:49.440Z"
   },
   {
    "duration": 9,
    "start_time": "2023-01-13T18:28:49.457Z"
   },
   {
    "duration": 268,
    "start_time": "2023-01-13T18:28:49.468Z"
   },
   {
    "duration": 215,
    "start_time": "2023-01-13T18:28:49.738Z"
   },
   {
    "duration": 210,
    "start_time": "2023-01-13T18:28:49.955Z"
   },
   {
    "duration": 320,
    "start_time": "2023-01-13T18:28:50.167Z"
   },
   {
    "duration": 223,
    "start_time": "2023-01-13T18:28:50.489Z"
   },
   {
    "duration": 278,
    "start_time": "2023-01-13T18:28:50.713Z"
   },
   {
    "duration": 10,
    "start_time": "2023-01-13T18:31:45.736Z"
   },
   {
    "duration": 9,
    "start_time": "2023-01-13T18:33:47.910Z"
   },
   {
    "duration": 13,
    "start_time": "2023-01-13T18:35:03.486Z"
   },
   {
    "duration": 54,
    "start_time": "2023-01-13T18:35:16.417Z"
   },
   {
    "duration": 13,
    "start_time": "2023-01-13T18:35:28.549Z"
   },
   {
    "duration": 12,
    "start_time": "2023-01-13T18:35:41.301Z"
   },
   {
    "duration": 6,
    "start_time": "2023-01-13T18:35:51.121Z"
   },
   {
    "duration": 8,
    "start_time": "2023-01-13T18:35:57.477Z"
   },
   {
    "duration": 917,
    "start_time": "2023-01-13T18:36:07.446Z"
   },
   {
    "duration": 7,
    "start_time": "2023-01-13T18:37:05.285Z"
   },
   {
    "duration": 8,
    "start_time": "2023-01-13T18:37:29.036Z"
   },
   {
    "duration": 12,
    "start_time": "2023-01-13T18:37:30.749Z"
   },
   {
    "duration": 11,
    "start_time": "2023-01-13T18:37:35.868Z"
   },
   {
    "duration": 12,
    "start_time": "2023-01-13T18:37:40.661Z"
   },
   {
    "duration": 6,
    "start_time": "2023-01-13T18:37:43.748Z"
   },
   {
    "duration": 7,
    "start_time": "2023-01-13T18:37:45.725Z"
   },
   {
    "duration": 7,
    "start_time": "2023-01-13T18:45:44.846Z"
   },
   {
    "duration": 97,
    "start_time": "2023-01-13T18:45:47.223Z"
   },
   {
    "duration": 5,
    "start_time": "2023-01-13T18:46:03.807Z"
   },
   {
    "duration": 5,
    "start_time": "2023-01-13T18:46:12.223Z"
   },
   {
    "duration": 123,
    "start_time": "2023-01-13T18:46:51.471Z"
   },
   {
    "duration": 96,
    "start_time": "2023-01-13T18:46:58.846Z"
   },
   {
    "duration": 58,
    "start_time": "2023-01-13T18:49:51.116Z"
   },
   {
    "duration": 4,
    "start_time": "2023-01-13T20:11:37.470Z"
   },
   {
    "duration": 103,
    "start_time": "2023-01-13T20:11:37.475Z"
   },
   {
    "duration": 8,
    "start_time": "2023-01-13T20:11:37.579Z"
   },
   {
    "duration": 9,
    "start_time": "2023-01-13T20:11:37.590Z"
   },
   {
    "duration": 11,
    "start_time": "2023-01-13T20:11:37.601Z"
   },
   {
    "duration": 14,
    "start_time": "2023-01-13T20:11:37.613Z"
   },
   {
    "duration": 52,
    "start_time": "2023-01-13T20:11:37.628Z"
   },
   {
    "duration": 5,
    "start_time": "2023-01-13T20:11:37.681Z"
   },
   {
    "duration": 7,
    "start_time": "2023-01-13T20:11:37.689Z"
   },
   {
    "duration": 9,
    "start_time": "2023-01-13T20:11:37.697Z"
   },
   {
    "duration": 8,
    "start_time": "2023-01-13T20:11:37.708Z"
   },
   {
    "duration": 11,
    "start_time": "2023-01-13T20:11:37.718Z"
   },
   {
    "duration": 52,
    "start_time": "2023-01-13T20:11:37.730Z"
   },
   {
    "duration": 282,
    "start_time": "2023-01-13T20:11:37.783Z"
   },
   {
    "duration": 251,
    "start_time": "2023-01-13T20:11:38.067Z"
   },
   {
    "duration": 240,
    "start_time": "2023-01-13T20:11:38.320Z"
   },
   {
    "duration": 348,
    "start_time": "2023-01-13T20:11:38.561Z"
   },
   {
    "duration": 236,
    "start_time": "2023-01-13T20:11:38.910Z"
   },
   {
    "duration": 355,
    "start_time": "2023-01-13T20:11:39.148Z"
   },
   {
    "duration": 6,
    "start_time": "2023-01-13T20:11:39.505Z"
   },
   {
    "duration": 8,
    "start_time": "2023-01-13T20:11:39.513Z"
   },
   {
    "duration": 131,
    "start_time": "2023-01-13T20:11:39.523Z"
   },
   {
    "duration": 124,
    "start_time": "2023-01-13T20:12:16.204Z"
   },
   {
    "duration": 105,
    "start_time": "2023-01-13T20:12:22.891Z"
   },
   {
    "duration": 99,
    "start_time": "2023-01-13T20:12:26.309Z"
   },
   {
    "duration": 168,
    "start_time": "2023-01-13T20:12:29.611Z"
   },
   {
    "duration": 115,
    "start_time": "2023-01-13T20:12:55.507Z"
   },
   {
    "duration": 99,
    "start_time": "2023-01-13T20:13:07.763Z"
   },
   {
    "duration": 104,
    "start_time": "2023-01-13T20:13:16.491Z"
   },
   {
    "duration": 103,
    "start_time": "2023-01-13T20:13:20.657Z"
   },
   {
    "duration": 102,
    "start_time": "2023-01-13T20:13:25.899Z"
   },
   {
    "duration": 5,
    "start_time": "2023-01-13T20:20:07.750Z"
   },
   {
    "duration": 48,
    "start_time": "2023-01-13T20:24:35.459Z"
   },
   {
    "duration": 55,
    "start_time": "2023-01-13T20:26:05.274Z"
   },
   {
    "duration": 48,
    "start_time": "2023-01-13T20:26:08.617Z"
   },
   {
    "duration": 104,
    "start_time": "2023-01-13T20:26:45.001Z"
   },
   {
    "duration": 796,
    "start_time": "2023-01-13T20:26:52.985Z"
   },
   {
    "duration": 681,
    "start_time": "2023-01-13T20:27:07.609Z"
   },
   {
    "duration": 8,
    "start_time": "2023-01-13T20:27:21.738Z"
   },
   {
    "duration": 116,
    "start_time": "2023-01-13T20:27:42.649Z"
   },
   {
    "duration": 11,
    "start_time": "2023-01-13T20:27:51.025Z"
   },
   {
    "duration": 138,
    "start_time": "2023-01-13T20:29:07.178Z"
   },
   {
    "duration": 121,
    "start_time": "2023-01-13T20:29:10.828Z"
   },
   {
    "duration": 126,
    "start_time": "2023-01-13T20:29:14.792Z"
   },
   {
    "duration": 133,
    "start_time": "2023-01-13T20:29:33.704Z"
   },
   {
    "duration": 117,
    "start_time": "2023-01-13T20:29:37.855Z"
   },
   {
    "duration": 115,
    "start_time": "2023-01-13T20:29:44.033Z"
   },
   {
    "duration": 219,
    "start_time": "2023-01-13T20:29:48.328Z"
   },
   {
    "duration": 130,
    "start_time": "2023-01-13T20:29:52.767Z"
   },
   {
    "duration": 53,
    "start_time": "2023-01-13T20:42:41.510Z"
   },
   {
    "duration": 119,
    "start_time": "2023-01-13T20:45:03.892Z"
   },
   {
    "duration": 6,
    "start_time": "2023-01-13T20:48:51.481Z"
   },
   {
    "duration": 110,
    "start_time": "2023-01-13T20:50:43.952Z"
   },
   {
    "duration": 115,
    "start_time": "2023-01-13T20:50:49.311Z"
   },
   {
    "duration": 116,
    "start_time": "2023-01-13T20:50:53.464Z"
   },
   {
    "duration": 105,
    "start_time": "2023-01-13T20:50:56.967Z"
   },
   {
    "duration": 119,
    "start_time": "2023-01-13T20:51:12.351Z"
   },
   {
    "duration": 122,
    "start_time": "2023-01-13T20:51:18.071Z"
   },
   {
    "duration": 112,
    "start_time": "2023-01-13T20:51:22.791Z"
   },
   {
    "duration": 55,
    "start_time": "2023-01-13T20:53:53.981Z"
   },
   {
    "duration": 42,
    "start_time": "2023-01-13T21:03:58.598Z"
   },
   {
    "duration": 97,
    "start_time": "2023-01-13T21:16:51.100Z"
   },
   {
    "duration": 10,
    "start_time": "2023-01-13T21:17:16.716Z"
   },
   {
    "duration": 13,
    "start_time": "2023-01-13T21:17:26.308Z"
   },
   {
    "duration": 196,
    "start_time": "2023-01-13T21:18:13.308Z"
   },
   {
    "duration": 220,
    "start_time": "2023-01-13T21:18:19.299Z"
   },
   {
    "duration": 12,
    "start_time": "2023-01-13T21:34:24.909Z"
   },
   {
    "duration": 13,
    "start_time": "2023-01-13T21:34:40.734Z"
   },
   {
    "duration": 7,
    "start_time": "2023-01-13T21:35:19.596Z"
   },
   {
    "duration": 148,
    "start_time": "2023-01-13T21:35:36.813Z"
   },
   {
    "duration": 129,
    "start_time": "2023-01-13T21:35:40.259Z"
   },
   {
    "duration": 719,
    "start_time": "2023-01-13T21:43:16.198Z"
   },
   {
    "duration": 120,
    "start_time": "2023-01-13T21:44:02.485Z"
   },
   {
    "duration": 761,
    "start_time": "2023-01-13T21:44:13.669Z"
   },
   {
    "duration": 139,
    "start_time": "2023-01-13T21:44:20.317Z"
   },
   {
    "duration": 775,
    "start_time": "2023-01-13T21:44:35.434Z"
   },
   {
    "duration": 9,
    "start_time": "2023-01-13T21:44:49.626Z"
   },
   {
    "duration": 119,
    "start_time": "2023-01-13T21:44:59.877Z"
   },
   {
    "duration": 6,
    "start_time": "2023-01-13T21:45:01.438Z"
   },
   {
    "duration": 137,
    "start_time": "2023-01-13T21:45:11.268Z"
   },
   {
    "duration": 121,
    "start_time": "2023-01-13T21:45:29.156Z"
   },
   {
    "duration": 863,
    "start_time": "2023-01-13T21:45:30.260Z"
   },
   {
    "duration": 757,
    "start_time": "2023-01-13T21:45:38.012Z"
   },
   {
    "duration": 133,
    "start_time": "2023-01-13T21:45:52.396Z"
   },
   {
    "duration": 6,
    "start_time": "2023-01-13T21:45:54.340Z"
   },
   {
    "duration": 7,
    "start_time": "2023-01-13T21:45:58.946Z"
   },
   {
    "duration": 36,
    "start_time": "2023-01-13T21:47:31.954Z"
   },
   {
    "duration": 48,
    "start_time": "2023-01-13T21:48:35.001Z"
   },
   {
    "duration": 9,
    "start_time": "2023-01-13T21:53:26.247Z"
   },
   {
    "duration": 42,
    "start_time": "2023-01-13T21:54:33.877Z"
   },
   {
    "duration": 55,
    "start_time": "2023-01-13T21:55:26.604Z"
   },
   {
    "duration": 11,
    "start_time": "2023-01-13T21:56:22.997Z"
   },
   {
    "duration": 51,
    "start_time": "2023-01-13T21:57:33.900Z"
   },
   {
    "duration": 1338,
    "start_time": "2023-01-14T19:57:41.843Z"
   },
   {
    "duration": 232,
    "start_time": "2023-01-14T19:57:43.183Z"
   },
   {
    "duration": 19,
    "start_time": "2023-01-14T19:57:43.417Z"
   },
   {
    "duration": 24,
    "start_time": "2023-01-14T19:57:43.438Z"
   },
   {
    "duration": 11,
    "start_time": "2023-01-14T19:57:43.464Z"
   },
   {
    "duration": 11,
    "start_time": "2023-01-14T19:57:43.476Z"
   },
   {
    "duration": 27,
    "start_time": "2023-01-14T19:57:43.489Z"
   },
   {
    "duration": 12,
    "start_time": "2023-01-14T19:57:43.518Z"
   },
   {
    "duration": 27,
    "start_time": "2023-01-14T19:57:43.532Z"
   },
   {
    "duration": 9,
    "start_time": "2023-01-14T19:57:43.561Z"
   },
   {
    "duration": 10,
    "start_time": "2023-01-14T19:57:43.572Z"
   },
   {
    "duration": 12,
    "start_time": "2023-01-14T19:57:43.583Z"
   },
   {
    "duration": 9,
    "start_time": "2023-01-14T19:57:43.597Z"
   },
   {
    "duration": 302,
    "start_time": "2023-01-14T19:57:43.609Z"
   },
   {
    "duration": 369,
    "start_time": "2023-01-14T19:57:43.913Z"
   },
   {
    "duration": 271,
    "start_time": "2023-01-14T19:57:44.285Z"
   },
   {
    "duration": 365,
    "start_time": "2023-01-14T19:57:44.557Z"
   },
   {
    "duration": 252,
    "start_time": "2023-01-14T19:57:44.932Z"
   },
   {
    "duration": 366,
    "start_time": "2023-01-14T19:57:45.186Z"
   },
   {
    "duration": 7,
    "start_time": "2023-01-14T19:57:45.553Z"
   },
   {
    "duration": 8,
    "start_time": "2023-01-14T19:57:45.562Z"
   },
   {
    "duration": 136,
    "start_time": "2023-01-14T19:57:45.571Z"
   },
   {
    "duration": 150,
    "start_time": "2023-01-14T19:57:45.708Z"
   },
   {
    "duration": 5,
    "start_time": "2023-01-14T19:57:45.860Z"
   },
   {
    "duration": 232,
    "start_time": "2023-01-14T19:57:45.867Z"
   },
   {
    "duration": 144,
    "start_time": "2023-01-14T19:57:46.100Z"
   },
   {
    "duration": 121,
    "start_time": "2023-01-14T19:57:46.248Z"
   },
   {
    "duration": 4,
    "start_time": "2023-01-14T19:57:46.371Z"
   },
   {
    "duration": 238,
    "start_time": "2023-01-14T19:57:46.377Z"
   },
   {
    "duration": 165,
    "start_time": "2023-01-14T19:57:46.623Z"
   },
   {
    "duration": 6,
    "start_time": "2023-01-14T19:57:46.789Z"
   },
   {
    "duration": 46,
    "start_time": "2023-01-14T19:57:46.797Z"
   },
   {
    "duration": 12,
    "start_time": "2023-01-14T19:57:46.845Z"
   },
   {
    "duration": 11,
    "start_time": "2023-01-14T20:01:05.177Z"
   },
   {
    "duration": 1209,
    "start_time": "2023-01-14T21:06:09.188Z"
   },
   {
    "duration": 7,
    "start_time": "2023-01-14T21:06:24.468Z"
   },
   {
    "duration": 1076,
    "start_time": "2023-01-14T21:07:24.363Z"
   },
   {
    "duration": 8,
    "start_time": "2023-01-14T21:07:36.795Z"
   },
   {
    "duration": 133,
    "start_time": "2023-01-14T21:07:57.835Z"
   },
   {
    "duration": 118,
    "start_time": "2023-01-14T21:08:18.539Z"
   },
   {
    "duration": 6,
    "start_time": "2023-01-14T21:08:25.355Z"
   },
   {
    "duration": 20,
    "start_time": "2023-01-14T21:08:27.315Z"
   },
   {
    "duration": 10,
    "start_time": "2023-01-14T21:08:29.708Z"
   },
   {
    "duration": 9,
    "start_time": "2023-01-14T21:08:32.131Z"
   },
   {
    "duration": 11,
    "start_time": "2023-01-14T21:08:43.604Z"
   },
   {
    "duration": 8,
    "start_time": "2023-01-14T21:08:47.148Z"
   },
   {
    "duration": 8,
    "start_time": "2023-01-14T21:08:54.332Z"
   },
   {
    "duration": 10,
    "start_time": "2023-01-14T21:10:37.214Z"
   },
   {
    "duration": 82,
    "start_time": "2023-01-14T21:44:57.039Z"
   },
   {
    "duration": 1115,
    "start_time": "2023-01-14T21:53:33.000Z"
   },
   {
    "duration": 9,
    "start_time": "2023-01-14T21:53:44.384Z"
   },
   {
    "duration": 8,
    "start_time": "2023-01-14T21:53:59.545Z"
   },
   {
    "duration": 80,
    "start_time": "2023-01-14T21:54:39.264Z"
   },
   {
    "duration": 21,
    "start_time": "2023-01-14T21:54:42.831Z"
   },
   {
    "duration": 20,
    "start_time": "2023-01-14T21:55:13.880Z"
   },
   {
    "duration": 21,
    "start_time": "2023-01-14T21:55:32.679Z"
   },
   {
    "duration": 78,
    "start_time": "2023-01-14T21:56:44.022Z"
   },
   {
    "duration": 10,
    "start_time": "2023-01-14T21:59:40.588Z"
   },
   {
    "duration": 9,
    "start_time": "2023-01-14T21:59:42.756Z"
   },
   {
    "duration": 9,
    "start_time": "2023-01-14T21:59:48.748Z"
   },
   {
    "duration": 13,
    "start_time": "2023-01-14T22:01:41.084Z"
   },
   {
    "duration": 1111,
    "start_time": "2023-01-14T22:02:42.954Z"
   },
   {
    "duration": 14,
    "start_time": "2023-01-14T22:02:56.890Z"
   },
   {
    "duration": 7,
    "start_time": "2023-01-14T22:03:15.561Z"
   },
   {
    "duration": 1140,
    "start_time": "2023-01-14T22:03:45.065Z"
   },
   {
    "duration": 26,
    "start_time": "2023-01-14T22:03:57.425Z"
   },
   {
    "duration": 26,
    "start_time": "2023-01-14T22:05:14.377Z"
   },
   {
    "duration": 71,
    "start_time": "2023-01-14T22:05:58.736Z"
   },
   {
    "duration": 15,
    "start_time": "2023-01-14T22:07:11.735Z"
   },
   {
    "duration": 85,
    "start_time": "2023-01-14T22:07:47.490Z"
   },
   {
    "duration": 14,
    "start_time": "2023-01-14T22:28:20.490Z"
   },
   {
    "duration": 16,
    "start_time": "2023-01-14T22:28:30.402Z"
   },
   {
    "duration": 4,
    "start_time": "2023-01-14T22:38:30.646Z"
   },
   {
    "duration": 92,
    "start_time": "2023-01-14T22:38:30.652Z"
   },
   {
    "duration": 8,
    "start_time": "2023-01-14T22:38:30.747Z"
   },
   {
    "duration": 33,
    "start_time": "2023-01-14T22:38:30.758Z"
   },
   {
    "duration": 44,
    "start_time": "2023-01-14T22:38:30.792Z"
   },
   {
    "duration": 28,
    "start_time": "2023-01-14T22:38:30.837Z"
   },
   {
    "duration": 33,
    "start_time": "2023-01-14T22:38:30.867Z"
   },
   {
    "duration": 6,
    "start_time": "2023-01-14T22:38:30.902Z"
   },
   {
    "duration": 25,
    "start_time": "2023-01-14T22:38:30.910Z"
   },
   {
    "duration": 31,
    "start_time": "2023-01-14T22:38:30.937Z"
   },
   {
    "duration": 12,
    "start_time": "2023-01-14T22:38:30.970Z"
   },
   {
    "duration": 22,
    "start_time": "2023-01-14T22:38:30.984Z"
   },
   {
    "duration": 32,
    "start_time": "2023-01-14T22:38:31.009Z"
   },
   {
    "duration": 320,
    "start_time": "2023-01-14T22:38:31.043Z"
   },
   {
    "duration": 235,
    "start_time": "2023-01-14T22:38:31.364Z"
   },
   {
    "duration": 228,
    "start_time": "2023-01-14T22:38:31.600Z"
   },
   {
    "duration": 319,
    "start_time": "2023-01-14T22:38:31.829Z"
   },
   {
    "duration": 234,
    "start_time": "2023-01-14T22:38:32.150Z"
   },
   {
    "duration": 337,
    "start_time": "2023-01-14T22:38:32.385Z"
   },
   {
    "duration": 6,
    "start_time": "2023-01-14T22:38:32.723Z"
   },
   {
    "duration": 9,
    "start_time": "2023-01-14T22:38:32.731Z"
   },
   {
    "duration": 120,
    "start_time": "2023-01-14T22:38:32.741Z"
   },
   {
    "duration": 123,
    "start_time": "2023-01-14T22:38:32.863Z"
   },
   {
    "duration": 5,
    "start_time": "2023-01-14T22:38:32.988Z"
   },
   {
    "duration": 224,
    "start_time": "2023-01-14T22:38:32.994Z"
   },
   {
    "duration": 132,
    "start_time": "2023-01-14T22:38:33.221Z"
   },
   {
    "duration": 127,
    "start_time": "2023-01-14T22:38:33.354Z"
   },
   {
    "duration": 5,
    "start_time": "2023-01-14T22:38:33.482Z"
   },
   {
    "duration": 226,
    "start_time": "2023-01-14T22:38:33.488Z"
   },
   {
    "duration": 149,
    "start_time": "2023-01-14T22:38:33.716Z"
   },
   {
    "duration": 6,
    "start_time": "2023-01-14T22:38:33.867Z"
   },
   {
    "duration": 26,
    "start_time": "2023-01-14T22:38:33.875Z"
   },
   {
    "duration": 25,
    "start_time": "2023-01-14T22:38:33.903Z"
   },
   {
    "duration": 8,
    "start_time": "2023-01-14T22:38:33.930Z"
   },
   {
    "duration": 14,
    "start_time": "2023-01-14T22:38:33.939Z"
   },
   {
    "duration": 26,
    "start_time": "2023-01-14T22:38:33.954Z"
   },
   {
    "duration": 42,
    "start_time": "2023-01-14T22:38:33.982Z"
   },
   {
    "duration": 1286,
    "start_time": "2023-01-15T22:02:59.864Z"
   },
   {
    "duration": 184,
    "start_time": "2023-01-15T22:03:01.152Z"
   },
   {
    "duration": 11,
    "start_time": "2023-01-15T22:03:01.338Z"
   },
   {
    "duration": 19,
    "start_time": "2023-01-15T22:03:01.351Z"
   },
   {
    "duration": 25,
    "start_time": "2023-01-15T22:03:01.372Z"
   },
   {
    "duration": 18,
    "start_time": "2023-01-15T22:03:01.399Z"
   },
   {
    "duration": 33,
    "start_time": "2023-01-15T22:03:01.419Z"
   },
   {
    "duration": 16,
    "start_time": "2023-01-15T22:03:01.454Z"
   },
   {
    "duration": 28,
    "start_time": "2023-01-15T22:03:01.472Z"
   },
   {
    "duration": 15,
    "start_time": "2023-01-15T22:03:01.502Z"
   },
   {
    "duration": 9,
    "start_time": "2023-01-15T22:03:01.519Z"
   },
   {
    "duration": 18,
    "start_time": "2023-01-15T22:03:01.530Z"
   },
   {
    "duration": 26,
    "start_time": "2023-01-15T22:03:01.551Z"
   },
   {
    "duration": 296,
    "start_time": "2023-01-15T22:03:01.582Z"
   },
   {
    "duration": 346,
    "start_time": "2023-01-15T22:03:01.880Z"
   },
   {
    "duration": 267,
    "start_time": "2023-01-15T22:03:02.235Z"
   },
   {
    "duration": 426,
    "start_time": "2023-01-15T22:03:02.505Z"
   },
   {
    "duration": 269,
    "start_time": "2023-01-15T22:03:02.935Z"
   },
   {
    "duration": 378,
    "start_time": "2023-01-15T22:03:03.206Z"
   },
   {
    "duration": 7,
    "start_time": "2023-01-15T22:03:03.586Z"
   },
   {
    "duration": 25,
    "start_time": "2023-01-15T22:03:03.595Z"
   },
   {
    "duration": 138,
    "start_time": "2023-01-15T22:03:03.623Z"
   },
   {
    "duration": 124,
    "start_time": "2023-01-15T22:03:03.763Z"
   },
   {
    "duration": 5,
    "start_time": "2023-01-15T22:03:03.889Z"
   },
   {
    "duration": 231,
    "start_time": "2023-01-15T22:03:03.896Z"
   },
   {
    "duration": 145,
    "start_time": "2023-01-15T22:03:04.136Z"
   },
   {
    "duration": 135,
    "start_time": "2023-01-15T22:03:04.283Z"
   },
   {
    "duration": 5,
    "start_time": "2023-01-15T22:03:04.420Z"
   },
   {
    "duration": 226,
    "start_time": "2023-01-15T22:03:04.435Z"
   },
   {
    "duration": 138,
    "start_time": "2023-01-15T22:03:04.663Z"
   },
   {
    "duration": 6,
    "start_time": "2023-01-15T22:03:04.802Z"
   },
   {
    "duration": 36,
    "start_time": "2023-01-15T22:03:04.810Z"
   },
   {
    "duration": 11,
    "start_time": "2023-01-15T22:03:04.848Z"
   },
   {
    "duration": 8,
    "start_time": "2023-01-15T22:03:04.861Z"
   },
   {
    "duration": 14,
    "start_time": "2023-01-15T22:03:04.871Z"
   },
   {
    "duration": 49,
    "start_time": "2023-01-15T22:03:04.887Z"
   },
   {
    "duration": 16,
    "start_time": "2023-01-15T22:03:04.938Z"
   },
   {
    "duration": 1337,
    "start_time": "2023-01-16T07:50:35.339Z"
   },
   {
    "duration": 186,
    "start_time": "2023-01-16T07:50:36.678Z"
   },
   {
    "duration": 11,
    "start_time": "2023-01-16T07:50:36.865Z"
   },
   {
    "duration": 8,
    "start_time": "2023-01-16T07:50:36.878Z"
   },
   {
    "duration": 8,
    "start_time": "2023-01-16T07:50:36.888Z"
   },
   {
    "duration": 10,
    "start_time": "2023-01-16T07:50:36.897Z"
   },
   {
    "duration": 26,
    "start_time": "2023-01-16T07:50:36.909Z"
   },
   {
    "duration": 5,
    "start_time": "2023-01-16T07:50:36.937Z"
   },
   {
    "duration": 34,
    "start_time": "2023-01-16T07:50:36.944Z"
   },
   {
    "duration": 9,
    "start_time": "2023-01-16T07:50:36.980Z"
   },
   {
    "duration": 7,
    "start_time": "2023-01-16T07:50:36.991Z"
   },
   {
    "duration": 19,
    "start_time": "2023-01-16T07:50:36.999Z"
   },
   {
    "duration": 9,
    "start_time": "2023-01-16T07:50:37.019Z"
   },
   {
    "duration": 298,
    "start_time": "2023-01-16T07:50:37.030Z"
   },
   {
    "duration": 302,
    "start_time": "2023-01-16T07:50:37.330Z"
   },
   {
    "duration": 245,
    "start_time": "2023-01-16T07:50:37.634Z"
   },
   {
    "duration": 418,
    "start_time": "2023-01-16T07:50:37.881Z"
   },
   {
    "duration": 257,
    "start_time": "2023-01-16T07:50:38.301Z"
   },
   {
    "duration": 354,
    "start_time": "2023-01-16T07:50:38.560Z"
   },
   {
    "duration": 7,
    "start_time": "2023-01-16T07:50:38.915Z"
   },
   {
    "duration": 7,
    "start_time": "2023-01-16T07:50:38.923Z"
   },
   {
    "duration": 248,
    "start_time": "2023-01-16T07:50:38.931Z"
   },
   {
    "duration": 227,
    "start_time": "2023-01-16T07:50:39.180Z"
   },
   {
    "duration": 5,
    "start_time": "2023-01-16T07:50:39.409Z"
   },
   {
    "duration": 463,
    "start_time": "2023-01-16T07:50:39.415Z"
   },
   {
    "duration": 240,
    "start_time": "2023-01-16T07:50:39.879Z"
   },
   {
    "duration": 293,
    "start_time": "2023-01-16T07:50:40.121Z"
   },
   {
    "duration": 59,
    "start_time": "2023-01-16T07:50:40.418Z"
   },
   {
    "duration": 320,
    "start_time": "2023-01-16T07:50:40.479Z"
   },
   {
    "duration": 141,
    "start_time": "2023-01-16T07:50:40.800Z"
   },
   {
    "duration": 7,
    "start_time": "2023-01-16T07:50:40.942Z"
   },
   {
    "duration": 36,
    "start_time": "2023-01-16T07:50:40.951Z"
   },
   {
    "duration": 15,
    "start_time": "2023-01-16T07:50:40.989Z"
   },
   {
    "duration": 11,
    "start_time": "2023-01-16T07:50:41.006Z"
   },
   {
    "duration": 10,
    "start_time": "2023-01-16T07:50:41.019Z"
   },
   {
    "duration": 53,
    "start_time": "2023-01-16T07:50:41.031Z"
   },
   {
    "duration": 14,
    "start_time": "2023-01-16T07:50:41.085Z"
   },
   {
    "duration": 47,
    "start_time": "2023-01-16T07:51:11.466Z"
   },
   {
    "duration": 68,
    "start_time": "2023-01-16T07:53:36.121Z"
   },
   {
    "duration": 9,
    "start_time": "2023-01-16T07:54:11.105Z"
   },
   {
    "duration": 13,
    "start_time": "2023-01-16T07:54:38.848Z"
   },
   {
    "duration": 933,
    "start_time": "2023-01-16T12:25:59.983Z"
   },
   {
    "duration": 4,
    "start_time": "2023-01-16T12:26:03.989Z"
   },
   {
    "duration": 97,
    "start_time": "2023-01-16T12:26:03.996Z"
   },
   {
    "duration": 7,
    "start_time": "2023-01-16T12:26:04.094Z"
   },
   {
    "duration": 10,
    "start_time": "2023-01-16T12:26:04.103Z"
   },
   {
    "duration": 10,
    "start_time": "2023-01-16T12:26:04.115Z"
   },
   {
    "duration": 14,
    "start_time": "2023-01-16T12:26:04.127Z"
   },
   {
    "duration": 43,
    "start_time": "2023-01-16T12:26:04.142Z"
   },
   {
    "duration": 5,
    "start_time": "2023-01-16T12:26:04.187Z"
   },
   {
    "duration": 8,
    "start_time": "2023-01-16T12:26:04.194Z"
   },
   {
    "duration": 10,
    "start_time": "2023-01-16T12:26:04.203Z"
   },
   {
    "duration": 8,
    "start_time": "2023-01-16T12:26:04.215Z"
   },
   {
    "duration": 11,
    "start_time": "2023-01-16T12:26:04.225Z"
   },
   {
    "duration": 43,
    "start_time": "2023-01-16T12:26:04.237Z"
   },
   {
    "duration": 288,
    "start_time": "2023-01-16T12:26:04.282Z"
   },
   {
    "duration": 278,
    "start_time": "2023-01-16T12:26:04.576Z"
   },
   {
    "duration": 306,
    "start_time": "2023-01-16T12:26:04.856Z"
   },
   {
    "duration": 352,
    "start_time": "2023-01-16T12:26:05.164Z"
   },
   {
    "duration": 14,
    "start_time": "2023-01-16T12:26:05.519Z"
   },
   {
    "duration": 273,
    "start_time": "2023-01-16T12:26:05.535Z"
   },
   {
    "duration": 891,
    "start_time": "2023-01-16T12:26:05.810Z"
   },
   {
    "duration": 0,
    "start_time": "2023-01-16T12:26:06.703Z"
   },
   {
    "duration": 0,
    "start_time": "2023-01-16T12:26:06.705Z"
   },
   {
    "duration": 0,
    "start_time": "2023-01-16T12:26:06.706Z"
   },
   {
    "duration": 0,
    "start_time": "2023-01-16T12:26:06.707Z"
   },
   {
    "duration": 0,
    "start_time": "2023-01-16T12:26:06.709Z"
   },
   {
    "duration": 0,
    "start_time": "2023-01-16T12:26:06.710Z"
   },
   {
    "duration": 0,
    "start_time": "2023-01-16T12:26:06.712Z"
   },
   {
    "duration": 0,
    "start_time": "2023-01-16T12:26:06.714Z"
   },
   {
    "duration": 0,
    "start_time": "2023-01-16T12:26:06.715Z"
   },
   {
    "duration": 0,
    "start_time": "2023-01-16T12:26:06.716Z"
   },
   {
    "duration": 0,
    "start_time": "2023-01-16T12:26:06.718Z"
   },
   {
    "duration": 0,
    "start_time": "2023-01-16T12:26:06.720Z"
   },
   {
    "duration": 0,
    "start_time": "2023-01-16T12:26:06.721Z"
   },
   {
    "duration": 0,
    "start_time": "2023-01-16T12:26:06.723Z"
   },
   {
    "duration": 0,
    "start_time": "2023-01-16T12:26:06.724Z"
   },
   {
    "duration": 0,
    "start_time": "2023-01-16T12:26:06.726Z"
   },
   {
    "duration": 1,
    "start_time": "2023-01-16T12:26:06.727Z"
   },
   {
    "duration": 0,
    "start_time": "2023-01-16T12:26:06.729Z"
   },
   {
    "duration": 0,
    "start_time": "2023-01-16T12:26:06.730Z"
   },
   {
    "duration": 10,
    "start_time": "2023-01-16T12:26:32.614Z"
   },
   {
    "duration": 274,
    "start_time": "2023-01-16T12:27:13.044Z"
   },
   {
    "duration": 9,
    "start_time": "2023-01-16T12:30:47.787Z"
   },
   {
    "duration": 7,
    "start_time": "2023-01-16T12:30:48.537Z"
   },
   {
    "duration": 123,
    "start_time": "2023-01-16T12:30:51.209Z"
   },
   {
    "duration": 140,
    "start_time": "2023-01-16T12:30:52.970Z"
   },
   {
    "duration": 44,
    "start_time": "2023-01-16T12:31:29.513Z"
   },
   {
    "duration": 185,
    "start_time": "2023-01-16T12:31:46.881Z"
   },
   {
    "duration": 47,
    "start_time": "2023-01-16T12:32:11.503Z"
   },
   {
    "duration": 118,
    "start_time": "2023-01-16T12:32:30.231Z"
   },
   {
    "duration": 4,
    "start_time": "2023-01-16T12:32:38.508Z"
   },
   {
    "duration": 76,
    "start_time": "2023-01-16T12:32:38.514Z"
   },
   {
    "duration": 7,
    "start_time": "2023-01-16T12:32:38.592Z"
   },
   {
    "duration": 10,
    "start_time": "2023-01-16T12:32:38.601Z"
   },
   {
    "duration": 11,
    "start_time": "2023-01-16T12:32:38.613Z"
   },
   {
    "duration": 10,
    "start_time": "2023-01-16T12:32:38.625Z"
   },
   {
    "duration": 53,
    "start_time": "2023-01-16T12:32:38.637Z"
   },
   {
    "duration": 5,
    "start_time": "2023-01-16T12:32:38.691Z"
   },
   {
    "duration": 6,
    "start_time": "2023-01-16T12:32:38.699Z"
   },
   {
    "duration": 15,
    "start_time": "2023-01-16T12:32:38.706Z"
   },
   {
    "duration": 10,
    "start_time": "2023-01-16T12:32:38.723Z"
   },
   {
    "duration": 15,
    "start_time": "2023-01-16T12:32:38.734Z"
   },
   {
    "duration": 34,
    "start_time": "2023-01-16T12:32:38.751Z"
   },
   {
    "duration": 262,
    "start_time": "2023-01-16T12:32:38.787Z"
   },
   {
    "duration": 251,
    "start_time": "2023-01-16T12:32:39.051Z"
   },
   {
    "duration": 243,
    "start_time": "2023-01-16T12:32:39.304Z"
   },
   {
    "duration": 369,
    "start_time": "2023-01-16T12:32:39.549Z"
   },
   {
    "duration": 251,
    "start_time": "2023-01-16T12:32:39.919Z"
   },
   {
    "duration": 357,
    "start_time": "2023-01-16T12:32:40.171Z"
   },
   {
    "duration": 7,
    "start_time": "2023-01-16T12:32:40.529Z"
   },
   {
    "duration": 25,
    "start_time": "2023-01-16T12:32:40.537Z"
   },
   {
    "duration": 123,
    "start_time": "2023-01-16T12:32:40.564Z"
   },
   {
    "duration": 121,
    "start_time": "2023-01-16T12:32:40.689Z"
   },
   {
    "duration": 7,
    "start_time": "2023-01-16T12:32:40.813Z"
   },
   {
    "duration": 146,
    "start_time": "2023-01-16T12:32:40.822Z"
   },
   {
    "duration": 230,
    "start_time": "2023-01-16T12:32:40.970Z"
   },
   {
    "duration": 133,
    "start_time": "2023-01-16T12:32:41.202Z"
   },
   {
    "duration": 5,
    "start_time": "2023-01-16T12:32:41.336Z"
   },
   {
    "duration": 228,
    "start_time": "2023-01-16T12:32:41.342Z"
   },
   {
    "duration": 135,
    "start_time": "2023-01-16T12:32:41.571Z"
   },
   {
    "duration": 7,
    "start_time": "2023-01-16T12:32:41.707Z"
   },
   {
    "duration": 26,
    "start_time": "2023-01-16T12:32:41.715Z"
   },
   {
    "duration": 11,
    "start_time": "2023-01-16T12:32:41.742Z"
   },
   {
    "duration": 29,
    "start_time": "2023-01-16T12:32:41.755Z"
   },
   {
    "duration": 7,
    "start_time": "2023-01-16T12:32:41.786Z"
   },
   {
    "duration": 29,
    "start_time": "2023-01-16T12:32:41.795Z"
   },
   {
    "duration": 15,
    "start_time": "2023-01-16T12:32:41.827Z"
   },
   {
    "duration": 56,
    "start_time": "2023-01-16T12:33:30.742Z"
   },
   {
    "duration": 82,
    "start_time": "2023-01-16T13:28:13.554Z"
   },
   {
    "duration": 44,
    "start_time": "2023-01-16T14:15:13.767Z"
   },
   {
    "duration": 47,
    "start_time": "2023-01-16T14:18:14.630Z"
   },
   {
    "duration": 51,
    "start_time": "2023-01-16T14:18:20.709Z"
   },
   {
    "duration": 3,
    "start_time": "2023-01-16T14:18:57.573Z"
   },
   {
    "duration": 1260,
    "start_time": "2023-01-16T23:35:50.224Z"
   },
   {
    "duration": 202,
    "start_time": "2023-01-16T23:35:51.486Z"
   },
   {
    "duration": 12,
    "start_time": "2023-01-16T23:35:51.691Z"
   },
   {
    "duration": 8,
    "start_time": "2023-01-16T23:35:51.705Z"
   },
   {
    "duration": 36,
    "start_time": "2023-01-16T23:35:51.715Z"
   },
   {
    "duration": 12,
    "start_time": "2023-01-16T23:35:51.753Z"
   },
   {
    "duration": 33,
    "start_time": "2023-01-16T23:35:51.767Z"
   },
   {
    "duration": 7,
    "start_time": "2023-01-16T23:35:51.802Z"
   },
   {
    "duration": 38,
    "start_time": "2023-01-16T23:35:51.810Z"
   },
   {
    "duration": 8,
    "start_time": "2023-01-16T23:35:51.852Z"
   },
   {
    "duration": 14,
    "start_time": "2023-01-16T23:35:51.862Z"
   },
   {
    "duration": 18,
    "start_time": "2023-01-16T23:35:51.878Z"
   },
   {
    "duration": 25,
    "start_time": "2023-01-16T23:35:51.898Z"
   },
   {
    "duration": 326,
    "start_time": "2023-01-16T23:35:51.925Z"
   },
   {
    "duration": 343,
    "start_time": "2023-01-16T23:35:52.253Z"
   },
   {
    "duration": 291,
    "start_time": "2023-01-16T23:35:52.598Z"
   },
   {
    "duration": 364,
    "start_time": "2023-01-16T23:35:52.890Z"
   },
   {
    "duration": 310,
    "start_time": "2023-01-16T23:35:53.256Z"
   },
   {
    "duration": 117,
    "start_time": "2023-01-16T23:35:53.569Z"
   },
   {
    "duration": 0,
    "start_time": "2023-01-16T23:35:53.688Z"
   },
   {
    "duration": 0,
    "start_time": "2023-01-16T23:35:53.689Z"
   },
   {
    "duration": 0,
    "start_time": "2023-01-16T23:35:53.690Z"
   },
   {
    "duration": 0,
    "start_time": "2023-01-16T23:35:53.691Z"
   },
   {
    "duration": 0,
    "start_time": "2023-01-16T23:35:53.692Z"
   },
   {
    "duration": 0,
    "start_time": "2023-01-16T23:35:53.694Z"
   },
   {
    "duration": 0,
    "start_time": "2023-01-16T23:35:53.695Z"
   },
   {
    "duration": 0,
    "start_time": "2023-01-16T23:35:53.697Z"
   },
   {
    "duration": 0,
    "start_time": "2023-01-16T23:35:53.698Z"
   },
   {
    "duration": 0,
    "start_time": "2023-01-16T23:35:53.700Z"
   },
   {
    "duration": 0,
    "start_time": "2023-01-16T23:35:53.701Z"
   },
   {
    "duration": 1,
    "start_time": "2023-01-16T23:35:53.702Z"
   },
   {
    "duration": 0,
    "start_time": "2023-01-16T23:35:53.703Z"
   },
   {
    "duration": 0,
    "start_time": "2023-01-16T23:35:53.705Z"
   },
   {
    "duration": 0,
    "start_time": "2023-01-16T23:35:53.706Z"
   },
   {
    "duration": 0,
    "start_time": "2023-01-16T23:35:53.737Z"
   },
   {
    "duration": 0,
    "start_time": "2023-01-16T23:35:53.738Z"
   },
   {
    "duration": 0,
    "start_time": "2023-01-16T23:35:53.739Z"
   },
   {
    "duration": 7,
    "start_time": "2023-01-16T23:37:35.224Z"
   },
   {
    "duration": 23,
    "start_time": "2023-01-16T23:37:35.233Z"
   },
   {
    "duration": 143,
    "start_time": "2023-01-16T23:37:35.257Z"
   },
   {
    "duration": 149,
    "start_time": "2023-01-16T23:37:35.403Z"
   },
   {
    "duration": 6,
    "start_time": "2023-01-16T23:37:35.554Z"
   },
   {
    "duration": 149,
    "start_time": "2023-01-16T23:37:35.561Z"
   },
   {
    "duration": 265,
    "start_time": "2023-01-16T23:37:35.712Z"
   },
   {
    "duration": 172,
    "start_time": "2023-01-16T23:37:35.979Z"
   },
   {
    "duration": 6,
    "start_time": "2023-01-16T23:37:36.154Z"
   },
   {
    "duration": 238,
    "start_time": "2023-01-16T23:37:36.162Z"
   },
   {
    "duration": 143,
    "start_time": "2023-01-16T23:37:36.401Z"
   },
   {
    "duration": 8,
    "start_time": "2023-01-16T23:37:36.546Z"
   },
   {
    "duration": 33,
    "start_time": "2023-01-16T23:37:36.555Z"
   },
   {
    "duration": 12,
    "start_time": "2023-01-16T23:37:36.590Z"
   },
   {
    "duration": 14,
    "start_time": "2023-01-16T23:37:36.604Z"
   },
   {
    "duration": 29,
    "start_time": "2023-01-16T23:37:36.620Z"
   },
   {
    "duration": 28,
    "start_time": "2023-01-16T23:37:36.651Z"
   },
   {
    "duration": 13,
    "start_time": "2023-01-16T23:37:36.681Z"
   },
   {
    "duration": 1371,
    "start_time": "2023-01-17T06:55:07.347Z"
   },
   {
    "duration": 191,
    "start_time": "2023-01-17T06:55:08.721Z"
   },
   {
    "duration": 15,
    "start_time": "2023-01-17T06:55:08.915Z"
   },
   {
    "duration": 10,
    "start_time": "2023-01-17T06:55:08.933Z"
   },
   {
    "duration": 35,
    "start_time": "2023-01-17T06:55:08.945Z"
   },
   {
    "duration": 31,
    "start_time": "2023-01-17T06:55:08.982Z"
   },
   {
    "duration": 37,
    "start_time": "2023-01-17T06:55:09.015Z"
   },
   {
    "duration": 15,
    "start_time": "2023-01-17T06:55:09.055Z"
   },
   {
    "duration": 23,
    "start_time": "2023-01-17T06:55:09.072Z"
   },
   {
    "duration": 35,
    "start_time": "2023-01-17T06:55:09.097Z"
   },
   {
    "duration": 25,
    "start_time": "2023-01-17T06:55:09.133Z"
   },
   {
    "duration": 37,
    "start_time": "2023-01-17T06:55:09.160Z"
   },
   {
    "duration": 20,
    "start_time": "2023-01-17T06:55:09.198Z"
   },
   {
    "duration": 306,
    "start_time": "2023-01-17T06:55:09.219Z"
   },
   {
    "duration": 324,
    "start_time": "2023-01-17T06:55:09.527Z"
   },
   {
    "duration": 243,
    "start_time": "2023-01-17T06:55:09.853Z"
   },
   {
    "duration": 418,
    "start_time": "2023-01-17T06:55:10.097Z"
   },
   {
    "duration": 259,
    "start_time": "2023-01-17T06:55:10.517Z"
   },
   {
    "duration": 113,
    "start_time": "2023-01-17T06:55:10.778Z"
   },
   {
    "duration": 0,
    "start_time": "2023-01-17T06:55:10.893Z"
   },
   {
    "duration": 0,
    "start_time": "2023-01-17T06:55:10.894Z"
   },
   {
    "duration": 0,
    "start_time": "2023-01-17T06:55:10.895Z"
   },
   {
    "duration": 0,
    "start_time": "2023-01-17T06:55:10.896Z"
   },
   {
    "duration": 0,
    "start_time": "2023-01-17T06:55:10.897Z"
   },
   {
    "duration": 0,
    "start_time": "2023-01-17T06:55:10.898Z"
   },
   {
    "duration": 0,
    "start_time": "2023-01-17T06:55:10.899Z"
   },
   {
    "duration": 0,
    "start_time": "2023-01-17T06:55:10.900Z"
   },
   {
    "duration": 0,
    "start_time": "2023-01-17T06:55:10.901Z"
   },
   {
    "duration": 0,
    "start_time": "2023-01-17T06:55:10.902Z"
   },
   {
    "duration": 0,
    "start_time": "2023-01-17T06:55:10.903Z"
   },
   {
    "duration": 0,
    "start_time": "2023-01-17T06:55:10.904Z"
   },
   {
    "duration": 0,
    "start_time": "2023-01-17T06:55:10.906Z"
   },
   {
    "duration": 0,
    "start_time": "2023-01-17T06:55:10.907Z"
   },
   {
    "duration": 0,
    "start_time": "2023-01-17T06:55:10.937Z"
   },
   {
    "duration": 0,
    "start_time": "2023-01-17T06:55:10.938Z"
   },
   {
    "duration": 0,
    "start_time": "2023-01-17T06:55:10.940Z"
   },
   {
    "duration": 0,
    "start_time": "2023-01-17T06:55:10.941Z"
   },
   {
    "duration": 12,
    "start_time": "2023-01-17T06:55:36.125Z"
   },
   {
    "duration": 10,
    "start_time": "2023-01-17T06:56:11.110Z"
   },
   {
    "duration": 10,
    "start_time": "2023-01-17T06:56:15.861Z"
   },
   {
    "duration": 1171,
    "start_time": "2023-01-17T07:05:52.262Z"
   },
   {
    "duration": 1154,
    "start_time": "2023-01-17T07:06:45.239Z"
   },
   {
    "duration": 316,
    "start_time": "2023-01-17T07:07:23.135Z"
   },
   {
    "duration": 339,
    "start_time": "2023-01-17T07:08:26.509Z"
   },
   {
    "duration": 318,
    "start_time": "2023-01-17T07:08:37.997Z"
   },
   {
    "duration": 301,
    "start_time": "2023-01-17T08:03:39.149Z"
   },
   {
    "duration": 1169,
    "start_time": "2023-01-17T08:07:43.106Z"
   },
   {
    "duration": 303,
    "start_time": "2023-01-17T08:08:15.177Z"
   },
   {
    "duration": 370,
    "start_time": "2023-01-17T08:08:55.712Z"
   },
   {
    "duration": 227,
    "start_time": "2023-01-17T08:09:04.025Z"
   },
   {
    "duration": 11,
    "start_time": "2023-01-17T08:26:31.296Z"
   },
   {
    "duration": 8,
    "start_time": "2023-01-17T08:26:50.470Z"
   },
   {
    "duration": 7,
    "start_time": "2023-01-17T08:27:15.093Z"
   },
   {
    "duration": 6,
    "start_time": "2023-01-17T08:27:16.557Z"
   },
   {
    "duration": 123,
    "start_time": "2023-01-17T08:27:17.981Z"
   },
   {
    "duration": 223,
    "start_time": "2023-01-17T08:28:19.158Z"
   },
   {
    "duration": 127,
    "start_time": "2023-01-17T08:28:26.476Z"
   },
   {
    "duration": 5,
    "start_time": "2023-01-17T08:50:53.179Z"
   },
   {
    "duration": 70,
    "start_time": "2023-01-17T08:50:53.186Z"
   },
   {
    "duration": 8,
    "start_time": "2023-01-17T08:50:53.258Z"
   },
   {
    "duration": 10,
    "start_time": "2023-01-17T08:50:53.268Z"
   },
   {
    "duration": 11,
    "start_time": "2023-01-17T08:50:53.280Z"
   },
   {
    "duration": 9,
    "start_time": "2023-01-17T08:50:53.293Z"
   },
   {
    "duration": 45,
    "start_time": "2023-01-17T08:50:53.303Z"
   },
   {
    "duration": 5,
    "start_time": "2023-01-17T08:50:53.350Z"
   },
   {
    "duration": 10,
    "start_time": "2023-01-17T08:50:53.357Z"
   },
   {
    "duration": 10,
    "start_time": "2023-01-17T08:50:53.368Z"
   },
   {
    "duration": 8,
    "start_time": "2023-01-17T08:50:53.379Z"
   },
   {
    "duration": 13,
    "start_time": "2023-01-17T08:50:53.388Z"
   },
   {
    "duration": 41,
    "start_time": "2023-01-17T08:50:53.403Z"
   },
   {
    "duration": 302,
    "start_time": "2023-01-17T08:50:53.446Z"
   },
   {
    "duration": 275,
    "start_time": "2023-01-17T08:50:53.750Z"
   },
   {
    "duration": 344,
    "start_time": "2023-01-17T08:50:54.027Z"
   },
   {
    "duration": 360,
    "start_time": "2023-01-17T08:50:54.372Z"
   },
   {
    "duration": 276,
    "start_time": "2023-01-17T08:50:54.737Z"
   },
   {
    "duration": 9,
    "start_time": "2023-01-17T08:50:55.015Z"
   },
   {
    "duration": 244,
    "start_time": "2023-01-17T08:50:55.038Z"
   },
   {
    "duration": 8,
    "start_time": "2023-01-17T08:50:55.285Z"
   },
   {
    "duration": 13,
    "start_time": "2023-01-17T08:50:55.294Z"
   },
   {
    "duration": 159,
    "start_time": "2023-01-17T08:50:55.308Z"
   },
   {
    "duration": 151,
    "start_time": "2023-01-17T08:50:55.471Z"
   },
   {
    "duration": 15,
    "start_time": "2023-01-17T08:50:55.624Z"
   },
   {
    "duration": 156,
    "start_time": "2023-01-17T08:50:55.641Z"
   },
   {
    "duration": 163,
    "start_time": "2023-01-17T08:50:55.799Z"
   },
   {
    "duration": 153,
    "start_time": "2023-01-17T08:50:55.964Z"
   },
   {
    "duration": 5,
    "start_time": "2023-01-17T08:50:56.118Z"
   },
   {
    "duration": 243,
    "start_time": "2023-01-17T08:50:56.124Z"
   },
   {
    "duration": 214,
    "start_time": "2023-01-17T08:50:56.369Z"
   },
   {
    "duration": 56,
    "start_time": "2023-01-17T08:50:56.585Z"
   },
   {
    "duration": 37,
    "start_time": "2023-01-17T08:50:56.643Z"
   },
   {
    "duration": 62,
    "start_time": "2023-01-17T08:50:56.682Z"
   },
   {
    "duration": 12,
    "start_time": "2023-01-17T08:50:56.746Z"
   },
   {
    "duration": 29,
    "start_time": "2023-01-17T08:50:56.760Z"
   },
   {
    "duration": 33,
    "start_time": "2023-01-17T08:50:56.837Z"
   },
   {
    "duration": 73,
    "start_time": "2023-01-17T08:50:56.872Z"
   },
   {
    "duration": 140,
    "start_time": "2023-01-17T08:52:53.221Z"
   },
   {
    "duration": 220,
    "start_time": "2023-01-17T08:53:02.398Z"
   },
   {
    "duration": 141,
    "start_time": "2023-01-17T08:53:09.828Z"
   },
   {
    "duration": 83,
    "start_time": "2023-01-17T08:53:21.740Z"
   },
   {
    "duration": 153,
    "start_time": "2023-01-17T08:54:42.082Z"
   },
   {
    "duration": 150,
    "start_time": "2023-01-17T08:55:00.219Z"
   },
   {
    "duration": 141,
    "start_time": "2023-01-17T08:55:30.099Z"
   },
   {
    "duration": 161,
    "start_time": "2023-01-17T08:55:45.818Z"
   },
   {
    "duration": 147,
    "start_time": "2023-01-17T08:55:51.579Z"
   },
   {
    "duration": 146,
    "start_time": "2023-01-17T08:56:01.801Z"
   },
   {
    "duration": 1158,
    "start_time": "2023-01-18T01:42:51.035Z"
   },
   {
    "duration": 180,
    "start_time": "2023-01-18T01:42:52.195Z"
   },
   {
    "duration": 12,
    "start_time": "2023-01-18T01:42:52.377Z"
   },
   {
    "duration": 8,
    "start_time": "2023-01-18T01:42:52.391Z"
   },
   {
    "duration": 9,
    "start_time": "2023-01-18T01:42:52.400Z"
   },
   {
    "duration": 10,
    "start_time": "2023-01-18T01:42:52.410Z"
   },
   {
    "duration": 33,
    "start_time": "2023-01-18T01:42:52.421Z"
   },
   {
    "duration": 5,
    "start_time": "2023-01-18T01:42:52.455Z"
   },
   {
    "duration": 7,
    "start_time": "2023-01-18T01:42:52.462Z"
   },
   {
    "duration": 12,
    "start_time": "2023-01-18T01:42:52.471Z"
   },
   {
    "duration": 14,
    "start_time": "2023-01-18T01:42:52.485Z"
   },
   {
    "duration": 11,
    "start_time": "2023-01-18T01:42:52.513Z"
   },
   {
    "duration": 9,
    "start_time": "2023-01-18T01:42:52.526Z"
   },
   {
    "duration": 297,
    "start_time": "2023-01-18T01:42:52.536Z"
   },
   {
    "duration": 309,
    "start_time": "2023-01-18T01:42:52.834Z"
   },
   {
    "duration": 227,
    "start_time": "2023-01-18T01:42:53.145Z"
   },
   {
    "duration": 312,
    "start_time": "2023-01-18T01:42:53.374Z"
   },
   {
    "duration": 247,
    "start_time": "2023-01-18T01:42:53.688Z"
   },
   {
    "duration": 216,
    "start_time": "2023-01-18T01:42:53.937Z"
   },
   {
    "duration": 6,
    "start_time": "2023-01-18T01:42:54.155Z"
   },
   {
    "duration": 9,
    "start_time": "2023-01-18T01:42:54.162Z"
   },
   {
    "duration": 135,
    "start_time": "2023-01-18T01:42:54.173Z"
   },
   {
    "duration": 131,
    "start_time": "2023-01-18T01:42:54.310Z"
   },
   {
    "duration": 5,
    "start_time": "2023-01-18T01:42:54.443Z"
   },
   {
    "duration": 237,
    "start_time": "2023-01-18T01:42:54.450Z"
   },
   {
    "duration": 152,
    "start_time": "2023-01-18T01:42:54.689Z"
   },
   {
    "duration": 152,
    "start_time": "2023-01-18T01:42:54.843Z"
   },
   {
    "duration": 4,
    "start_time": "2023-01-18T01:42:54.998Z"
   },
   {
    "duration": 226,
    "start_time": "2023-01-18T01:42:55.004Z"
   },
   {
    "duration": 139,
    "start_time": "2023-01-18T01:42:55.232Z"
   },
   {
    "duration": 6,
    "start_time": "2023-01-18T01:42:55.373Z"
   },
   {
    "duration": 34,
    "start_time": "2023-01-18T01:42:55.380Z"
   },
   {
    "duration": 12,
    "start_time": "2023-01-18T01:42:55.416Z"
   },
   {
    "duration": 11,
    "start_time": "2023-01-18T01:42:55.430Z"
   },
   {
    "duration": 11,
    "start_time": "2023-01-18T01:42:55.443Z"
   },
   {
    "duration": 26,
    "start_time": "2023-01-18T01:42:55.455Z"
   },
   {
    "duration": 36,
    "start_time": "2023-01-18T01:42:55.483Z"
   },
   {
    "duration": 180,
    "start_time": "2023-01-18T01:45:12.288Z"
   },
   {
    "duration": 252,
    "start_time": "2023-01-18T01:46:12.608Z"
   },
   {
    "duration": 174,
    "start_time": "2023-01-18T01:46:46.015Z"
   },
   {
    "duration": 5,
    "start_time": "2023-01-18T01:47:02.678Z"
   },
   {
    "duration": 130,
    "start_time": "2023-01-18T01:47:52.470Z"
   },
   {
    "duration": 11,
    "start_time": "2023-01-18T01:49:05.125Z"
   },
   {
    "duration": 181,
    "start_time": "2023-01-18T01:51:05.799Z"
   },
   {
    "duration": 11,
    "start_time": "2023-01-18T02:00:57.569Z"
   },
   {
    "duration": 172,
    "start_time": "2023-01-18T02:01:55.071Z"
   },
   {
    "duration": 179,
    "start_time": "2023-01-18T02:03:55.042Z"
   },
   {
    "duration": 175,
    "start_time": "2023-01-18T02:06:35.070Z"
   },
   {
    "duration": 178,
    "start_time": "2023-01-18T02:07:26.082Z"
   },
   {
    "duration": 227,
    "start_time": "2023-01-18T02:08:04.641Z"
   },
   {
    "duration": 48,
    "start_time": "2023-01-18T08:01:40.025Z"
   },
   {
    "duration": 1270,
    "start_time": "2023-01-18T08:01:43.739Z"
   },
   {
    "duration": 246,
    "start_time": "2023-01-18T08:01:45.011Z"
   },
   {
    "duration": 10,
    "start_time": "2023-01-18T08:01:45.259Z"
   },
   {
    "duration": 12,
    "start_time": "2023-01-18T08:01:45.271Z"
   },
   {
    "duration": 14,
    "start_time": "2023-01-18T08:01:45.285Z"
   },
   {
    "duration": 11,
    "start_time": "2023-01-18T08:01:45.300Z"
   },
   {
    "duration": 38,
    "start_time": "2023-01-18T08:01:45.313Z"
   },
   {
    "duration": 6,
    "start_time": "2023-01-18T08:01:45.353Z"
   },
   {
    "duration": 66,
    "start_time": "2023-01-18T08:01:45.361Z"
   },
   {
    "duration": 49,
    "start_time": "2023-01-18T08:01:45.430Z"
   },
   {
    "duration": 14,
    "start_time": "2023-01-18T08:01:45.481Z"
   },
   {
    "duration": 34,
    "start_time": "2023-01-18T08:01:45.497Z"
   },
   {
    "duration": 31,
    "start_time": "2023-01-18T08:01:45.533Z"
   },
   {
    "duration": 315,
    "start_time": "2023-01-18T08:01:45.566Z"
   },
   {
    "duration": 289,
    "start_time": "2023-01-18T08:01:45.883Z"
   },
   {
    "duration": 204,
    "start_time": "2023-01-18T08:01:46.174Z"
   },
   {
    "duration": 367,
    "start_time": "2023-01-18T08:01:46.379Z"
   },
   {
    "duration": 229,
    "start_time": "2023-01-18T08:01:46.748Z"
   },
   {
    "duration": 213,
    "start_time": "2023-01-18T08:01:46.978Z"
   },
   {
    "duration": 8,
    "start_time": "2023-01-18T08:01:47.193Z"
   },
   {
    "duration": 6,
    "start_time": "2023-01-18T08:01:47.203Z"
   },
   {
    "duration": 160,
    "start_time": "2023-01-18T08:01:47.211Z"
   },
   {
    "duration": 136,
    "start_time": "2023-01-18T08:01:47.373Z"
   },
   {
    "duration": 5,
    "start_time": "2023-01-18T08:01:47.510Z"
   },
   {
    "duration": 205,
    "start_time": "2023-01-18T08:01:47.516Z"
   },
   {
    "duration": 137,
    "start_time": "2023-01-18T08:01:47.723Z"
   },
   {
    "duration": 134,
    "start_time": "2023-01-18T08:01:47.862Z"
   },
   {
    "duration": 4,
    "start_time": "2023-01-18T08:01:47.999Z"
   },
   {
    "duration": 224,
    "start_time": "2023-01-18T08:01:48.005Z"
   },
   {
    "duration": 133,
    "start_time": "2023-01-18T08:01:48.231Z"
   },
   {
    "duration": 6,
    "start_time": "2023-01-18T08:01:48.365Z"
   },
   {
    "duration": 29,
    "start_time": "2023-01-18T08:01:48.372Z"
   },
   {
    "duration": 11,
    "start_time": "2023-01-18T08:01:48.402Z"
   },
   {
    "duration": 33,
    "start_time": "2023-01-18T08:01:48.414Z"
   },
   {
    "duration": 14,
    "start_time": "2023-01-18T08:01:48.449Z"
   },
   {
    "duration": 27,
    "start_time": "2023-01-18T08:01:48.464Z"
   },
   {
    "duration": 14,
    "start_time": "2023-01-18T08:01:48.492Z"
   },
   {
    "duration": 192,
    "start_time": "2023-01-18T08:02:55.796Z"
   },
   {
    "duration": 322,
    "start_time": "2023-01-18T09:28:33.012Z"
   },
   {
    "duration": 322,
    "start_time": "2023-01-18T09:28:43.824Z"
   },
   {
    "duration": 247,
    "start_time": "2023-01-18T10:09:24.597Z"
   },
   {
    "duration": 52,
    "start_time": "2023-01-18T10:47:07.026Z"
   },
   {
    "duration": 1321,
    "start_time": "2023-01-18T10:47:12.370Z"
   },
   {
    "duration": 212,
    "start_time": "2023-01-18T10:47:13.693Z"
   },
   {
    "duration": 12,
    "start_time": "2023-01-18T10:47:13.906Z"
   },
   {
    "duration": 9,
    "start_time": "2023-01-18T10:47:13.920Z"
   },
   {
    "duration": 26,
    "start_time": "2023-01-18T10:47:13.930Z"
   },
   {
    "duration": 12,
    "start_time": "2023-01-18T10:47:13.958Z"
   },
   {
    "duration": 38,
    "start_time": "2023-01-18T10:47:13.972Z"
   },
   {
    "duration": 6,
    "start_time": "2023-01-18T10:47:14.012Z"
   },
   {
    "duration": 8,
    "start_time": "2023-01-18T10:47:14.020Z"
   },
   {
    "duration": 15,
    "start_time": "2023-01-18T10:47:14.030Z"
   },
   {
    "duration": 33,
    "start_time": "2023-01-18T10:47:14.047Z"
   },
   {
    "duration": 28,
    "start_time": "2023-01-18T10:47:14.081Z"
   },
   {
    "duration": 15,
    "start_time": "2023-01-18T10:47:14.111Z"
   },
   {
    "duration": 296,
    "start_time": "2023-01-18T10:47:14.128Z"
   },
   {
    "duration": 306,
    "start_time": "2023-01-18T10:47:14.426Z"
   },
   {
    "duration": 222,
    "start_time": "2023-01-18T10:47:14.733Z"
   },
   {
    "duration": 381,
    "start_time": "2023-01-18T10:47:14.957Z"
   },
   {
    "duration": 249,
    "start_time": "2023-01-18T10:47:15.340Z"
   },
   {
    "duration": 233,
    "start_time": "2023-01-18T10:47:15.590Z"
   },
   {
    "duration": 161,
    "start_time": "2023-01-18T10:47:15.825Z"
   },
   {
    "duration": 6,
    "start_time": "2023-01-18T10:47:15.988Z"
   },
   {
    "duration": 27,
    "start_time": "2023-01-18T10:47:15.996Z"
   },
   {
    "duration": 157,
    "start_time": "2023-01-18T10:47:16.025Z"
   },
   {
    "duration": 199,
    "start_time": "2023-01-18T10:47:16.183Z"
   },
   {
    "duration": 4,
    "start_time": "2023-01-18T10:47:16.384Z"
   },
   {
    "duration": 156,
    "start_time": "2023-01-18T10:47:16.389Z"
   },
   {
    "duration": 133,
    "start_time": "2023-01-18T10:47:16.546Z"
   },
   {
    "duration": 136,
    "start_time": "2023-01-18T10:47:16.682Z"
   },
   {
    "duration": 5,
    "start_time": "2023-01-18T10:47:16.820Z"
   },
   {
    "duration": 226,
    "start_time": "2023-01-18T10:47:16.826Z"
   },
   {
    "duration": 144,
    "start_time": "2023-01-18T10:47:17.054Z"
   },
   {
    "duration": 6,
    "start_time": "2023-01-18T10:47:17.200Z"
   },
   {
    "duration": 96,
    "start_time": "2023-01-18T10:47:17.207Z"
   },
   {
    "duration": 39,
    "start_time": "2023-01-18T10:47:17.304Z"
   },
   {
    "duration": 47,
    "start_time": "2023-01-18T10:47:17.344Z"
   },
   {
    "duration": 63,
    "start_time": "2023-01-18T10:47:17.393Z"
   },
   {
    "duration": 51,
    "start_time": "2023-01-18T10:47:17.458Z"
   },
   {
    "duration": 13,
    "start_time": "2023-01-18T10:47:17.511Z"
   },
   {
    "duration": 169,
    "start_time": "2023-01-18T10:48:20.161Z"
   },
   {
    "duration": 152,
    "start_time": "2023-01-18T10:52:46.857Z"
   },
   {
    "duration": 140,
    "start_time": "2023-01-18T10:54:40.154Z"
   },
   {
    "duration": 144,
    "start_time": "2023-01-18T10:56:59.389Z"
   }
  ],
  "kernelspec": {
   "display_name": "Python 3 (ipykernel)",
   "language": "python",
   "name": "python3"
  },
  "language_info": {
   "codemirror_mode": {
    "name": "ipython",
    "version": 3
   },
   "file_extension": ".py",
   "mimetype": "text/x-python",
   "name": "python",
   "nbconvert_exporter": "python",
   "pygments_lexer": "ipython3",
   "version": "3.9.7"
  },
  "toc": {
   "base_numbering": 1,
   "nav_menu": {},
   "number_sections": true,
   "sideBar": true,
   "skip_h1_title": true,
   "title_cell": "Table of Contents",
   "title_sidebar": "Contents",
   "toc_cell": false,
   "toc_position": {
    "height": "calc(100% - 180px)",
    "left": "10px",
    "top": "150px",
    "width": "614.219px"
   },
   "toc_section_display": true,
   "toc_window_display": true
  }
 },
 "nbformat": 4,
 "nbformat_minor": 2
}
