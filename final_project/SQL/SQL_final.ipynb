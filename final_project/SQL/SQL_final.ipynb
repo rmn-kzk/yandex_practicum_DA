{
 "cells": [
  {
   "cell_type": "markdown",
   "id": "6f9917c0",
   "metadata": {
    "id": "6f9917c0"
   },
   "source": [
    "# SQL\n",
    "\n",
    "Коронавирус застал мир врасплох, изменив привычный порядок вещей. В свободное время жители городов больше не выходят на улицу, не посещают кафе и торговые центры. Зато стало больше времени для книг. Это заметили стартаперы — и бросились создавать приложения для тех, кто любит читать.\n",
    "\n",
    "Ваша компания решила быть на волне и купила крупный сервис для чтения книг по подписке. Ваша первая задача как аналитика — проанализировать базу данных.\n",
    "В ней — информация о книгах, издательствах, авторах, а также пользовательские обзоры книг. Эти данные помогут сформулировать ценностное предложение для нового продукта.\n",
    "\n",
    "## Описание данных\n",
    "\n",
    "**Таблица `books`**\n",
    "\n",
    "Содержит данные о книгах:\n",
    "\n",
    "- `book_id` — идентификатор книги;\n",
    "- `author_id` — идентификатор автора;\n",
    "- `title` — название книги;\n",
    "- `num_pages` — количество страниц;\n",
    "- `publication_date` — дата публикации книги;\n",
    "- `publisher_id` — идентификатор издателя.\n",
    "\n",
    "**Таблица `authors`**\n",
    "\n",
    "Содержит данные об авторах:\n",
    "\n",
    "- `author_id` — идентификатор автора;\n",
    "- `author` — имя автора.\n",
    "\n",
    "**Таблица `publishers`**\n",
    "\n",
    "Содержит данные об издательствах:\n",
    "\n",
    "- `publisher_id` — идентификатор издательства;\n",
    "- `publisher` — название издательства;\n",
    "\n",
    "**Таблица `ratings`**\n",
    "\n",
    "Содержит данные о пользовательских оценках книг:\n",
    "\n",
    "- `rating_id` — идентификатор оценки;\n",
    "- `book_id` — идентификатор книги;\n",
    "- `username` — имя пользователя, оставившего оценку;\n",
    "- `rating` — оценка книги.\n",
    "\n",
    "**Таблица `reviews`**\n",
    "\n",
    "Содержит данные о пользовательских обзорах на книги:\n",
    "\n",
    "- `review_id` — идентификатор обзора;\n",
    "- `book_id` — идентификатор книги;\n",
    "- `username` — имя пользователя, написавшего обзор;\n",
    "- `text` — текст обзора."
   ]
  },
  {
   "cell_type": "markdown",
   "id": "4e0e975a",
   "metadata": {
    "id": "4e0e975a"
   },
   "source": [
    "## Задания\n",
    "\n",
    "- Посчитайте, сколько книг вышло после 1 января 2000 года;\n",
    "- Для каждой книги посчитайте количество обзоров и среднюю оценку;\n",
    "- Определите издательство, которое выпустило наибольшее число книг толще 50 страниц — так вы исключите из анализа брошюры;\n",
    "- Определите автора с самой высокой средней оценкой книг — учитывайте только книги с 50 и более оценками;\n",
    "- Посчитайте среднее количество обзоров от пользователей, которые поставили больше 50 оценок."
   ]
  },
  {
   "cell_type": "markdown",
   "id": "4c5e84c6",
   "metadata": {
    "id": "4c5e84c6"
   },
   "source": [
    "# Анализ базы данных"
   ]
  },
  {
   "cell_type": "code",
   "execution_count": 1,
   "id": "c6fba657",
   "metadata": {
    "id": "c6fba657"
   },
   "outputs": [],
   "source": [
    "# импортируем библиотеки\n",
    "import pandas as pd\n",
    "from sqlalchemy import create_engine\n",
    "\n",
    "# устанавливаем параметры\n",
    "db_config = {'user': 'praktikum_student', # имя пользователя\n",
    "'pwd': 'Sdf4$2;d-d30pp', # пароль\n",
    "'host': 'rc1b-wcoijxj3yxfsf3fs.mdb.yandexcloud.net',\n",
    "'port': 6432, # порт подключения\n",
    "'db': 'data-analyst-final-project-db'} # название базы данных\n",
    "\n",
    "connection_string = 'postgresql://{}:{}@{}:{}/{}'.format(db_config['user'],\n",
    " db_config['pwd'],\n",
    " db_config['host'],\n",
    " db_config['port'],\n",
    " db_config['db'])\n",
    "\n",
    "# сохраняем коннектор\n",
    "engine = create_engine(connection_string, connect_args={'sslmode':'require'}) "
   ]
  },
  {
   "cell_type": "markdown",
   "id": "b6790e65",
   "metadata": {
    "id": "b6790e65"
   },
   "source": [
    "Начнем с анализа отдельных таблиц."
   ]
  },
  {
   "cell_type": "markdown",
   "id": "b031a91d",
   "metadata": {
    "id": "b031a91d"
   },
   "source": [
    "## Таблица books"
   ]
  },
  {
   "cell_type": "code",
   "execution_count": 2,
   "id": "1bcd9604",
   "metadata": {
    "colab": {
     "base_uri": "https://localhost:8080/",
     "height": 432
    },
    "id": "1bcd9604",
    "outputId": "84dbb4cc-3fe7-4d74-b8e6-ee887cd841c9"
   },
   "outputs": [
    {
     "data": {
      "text/html": [
       "<div>\n",
       "<style scoped>\n",
       "    .dataframe tbody tr th:only-of-type {\n",
       "        vertical-align: middle;\n",
       "    }\n",
       "\n",
       "    .dataframe tbody tr th {\n",
       "        vertical-align: top;\n",
       "    }\n",
       "\n",
       "    .dataframe thead th {\n",
       "        text-align: right;\n",
       "    }\n",
       "</style>\n",
       "<table border=\"1\" class=\"dataframe\">\n",
       "  <thead>\n",
       "    <tr style=\"text-align: right;\">\n",
       "      <th></th>\n",
       "      <th>book_id</th>\n",
       "      <th>author_id</th>\n",
       "      <th>title</th>\n",
       "      <th>num_pages</th>\n",
       "      <th>publication_date</th>\n",
       "      <th>publisher_id</th>\n",
       "    </tr>\n",
       "  </thead>\n",
       "  <tbody>\n",
       "    <tr>\n",
       "      <th>0</th>\n",
       "      <td>1</td>\n",
       "      <td>546</td>\n",
       "      <td>'Salem's Lot</td>\n",
       "      <td>594</td>\n",
       "      <td>2005-11-01</td>\n",
       "      <td>93</td>\n",
       "    </tr>\n",
       "    <tr>\n",
       "      <th>1</th>\n",
       "      <td>2</td>\n",
       "      <td>465</td>\n",
       "      <td>1 000 Places to See Before You Die</td>\n",
       "      <td>992</td>\n",
       "      <td>2003-05-22</td>\n",
       "      <td>336</td>\n",
       "    </tr>\n",
       "    <tr>\n",
       "      <th>2</th>\n",
       "      <td>3</td>\n",
       "      <td>407</td>\n",
       "      <td>13 Little Blue Envelopes (Little Blue Envelope...</td>\n",
       "      <td>322</td>\n",
       "      <td>2010-12-21</td>\n",
       "      <td>135</td>\n",
       "    </tr>\n",
       "    <tr>\n",
       "      <th>3</th>\n",
       "      <td>4</td>\n",
       "      <td>82</td>\n",
       "      <td>1491: New Revelations of the Americas Before C...</td>\n",
       "      <td>541</td>\n",
       "      <td>2006-10-10</td>\n",
       "      <td>309</td>\n",
       "    </tr>\n",
       "    <tr>\n",
       "      <th>4</th>\n",
       "      <td>5</td>\n",
       "      <td>125</td>\n",
       "      <td>1776</td>\n",
       "      <td>386</td>\n",
       "      <td>2006-07-04</td>\n",
       "      <td>268</td>\n",
       "    </tr>\n",
       "  </tbody>\n",
       "</table>\n",
       "</div>"
      ],
      "text/plain": [
       "   book_id  author_id                                              title  \\\n",
       "0        1        546                                       'Salem's Lot   \n",
       "1        2        465                 1 000 Places to See Before You Die   \n",
       "2        3        407  13 Little Blue Envelopes (Little Blue Envelope...   \n",
       "3        4         82  1491: New Revelations of the Americas Before C...   \n",
       "4        5        125                                               1776   \n",
       "\n",
       "   num_pages publication_date  publisher_id  \n",
       "0        594       2005-11-01            93  \n",
       "1        992       2003-05-22           336  \n",
       "2        322       2010-12-21           135  \n",
       "3        541       2006-10-10           309  \n",
       "4        386       2006-07-04           268  "
      ]
     },
     "metadata": {},
     "output_type": "display_data"
    },
    {
     "name": "stdout",
     "output_type": "stream",
     "text": [
      "<class 'pandas.core.frame.DataFrame'>\n",
      "RangeIndex: 1000 entries, 0 to 999\n",
      "Data columns (total 6 columns):\n",
      " #   Column            Non-Null Count  Dtype \n",
      "---  ------            --------------  ----- \n",
      " 0   book_id           1000 non-null   int64 \n",
      " 1   author_id         1000 non-null   int64 \n",
      " 2   title             1000 non-null   object\n",
      " 3   num_pages         1000 non-null   int64 \n",
      " 4   publication_date  1000 non-null   object\n",
      " 5   publisher_id      1000 non-null   int64 \n",
      "dtypes: int64(4), object(2)\n",
      "memory usage: 47.0+ KB\n"
     ]
    }
   ],
   "source": [
    "query = '''\n",
    "            SELECT * \n",
    "            FROM books\n",
    "        '''\n",
    "books = pd.io.sql.read_sql(query, con = engine)\n",
    "\n",
    "display(books.head())\n",
    "books.info()"
   ]
  },
  {
   "cell_type": "markdown",
   "id": "8heUfGPEGwmy",
   "metadata": {
    "id": "8heUfGPEGwmy"
   },
   "source": [
    "## Таблица authors"
   ]
  },
  {
   "cell_type": "code",
   "execution_count": 3,
   "id": "XSreo08LHcg0",
   "metadata": {
    "colab": {
     "base_uri": "https://localhost:8080/",
     "height": 362
    },
    "id": "XSreo08LHcg0",
    "outputId": "6be75391-ed96-41fd-d525-5b87c80dfa81"
   },
   "outputs": [
    {
     "data": {
      "text/html": [
       "<div>\n",
       "<style scoped>\n",
       "    .dataframe tbody tr th:only-of-type {\n",
       "        vertical-align: middle;\n",
       "    }\n",
       "\n",
       "    .dataframe tbody tr th {\n",
       "        vertical-align: top;\n",
       "    }\n",
       "\n",
       "    .dataframe thead th {\n",
       "        text-align: right;\n",
       "    }\n",
       "</style>\n",
       "<table border=\"1\" class=\"dataframe\">\n",
       "  <thead>\n",
       "    <tr style=\"text-align: right;\">\n",
       "      <th></th>\n",
       "      <th>author_id</th>\n",
       "      <th>author</th>\n",
       "    </tr>\n",
       "  </thead>\n",
       "  <tbody>\n",
       "    <tr>\n",
       "      <th>0</th>\n",
       "      <td>1</td>\n",
       "      <td>A.S. Byatt</td>\n",
       "    </tr>\n",
       "    <tr>\n",
       "      <th>1</th>\n",
       "      <td>2</td>\n",
       "      <td>Aesop/Laura Harris/Laura Gibbs</td>\n",
       "    </tr>\n",
       "    <tr>\n",
       "      <th>2</th>\n",
       "      <td>3</td>\n",
       "      <td>Agatha Christie</td>\n",
       "    </tr>\n",
       "    <tr>\n",
       "      <th>3</th>\n",
       "      <td>4</td>\n",
       "      <td>Alan Brennert</td>\n",
       "    </tr>\n",
       "    <tr>\n",
       "      <th>4</th>\n",
       "      <td>5</td>\n",
       "      <td>Alan Moore/David   Lloyd</td>\n",
       "    </tr>\n",
       "  </tbody>\n",
       "</table>\n",
       "</div>"
      ],
      "text/plain": [
       "   author_id                          author\n",
       "0          1                      A.S. Byatt\n",
       "1          2  Aesop/Laura Harris/Laura Gibbs\n",
       "2          3                 Agatha Christie\n",
       "3          4                   Alan Brennert\n",
       "4          5        Alan Moore/David   Lloyd"
      ]
     },
     "metadata": {},
     "output_type": "display_data"
    },
    {
     "name": "stdout",
     "output_type": "stream",
     "text": [
      "<class 'pandas.core.frame.DataFrame'>\n",
      "RangeIndex: 636 entries, 0 to 635\n",
      "Data columns (total 2 columns):\n",
      " #   Column     Non-Null Count  Dtype \n",
      "---  ------     --------------  ----- \n",
      " 0   author_id  636 non-null    int64 \n",
      " 1   author     636 non-null    object\n",
      "dtypes: int64(1), object(1)\n",
      "memory usage: 10.1+ KB\n"
     ]
    }
   ],
   "source": [
    "query = '''\n",
    "            SELECT * \n",
    "            FROM authors\n",
    "        '''\n",
    "authors = pd.io.sql.read_sql(query, con = engine)\n",
    "\n",
    "display(authors.head())\n",
    "authors.info()"
   ]
  },
  {
   "cell_type": "markdown",
   "id": "WEfE9v9MHAR4",
   "metadata": {
    "id": "WEfE9v9MHAR4"
   },
   "source": [
    "## Таблица publishers"
   ]
  },
  {
   "cell_type": "code",
   "execution_count": 4,
   "id": "pjP81n0rHk1Q",
   "metadata": {
    "colab": {
     "base_uri": "https://localhost:8080/",
     "height": 362
    },
    "id": "pjP81n0rHk1Q",
    "outputId": "094da1ad-6b07-4712-ae4c-7e45281ce693"
   },
   "outputs": [
    {
     "data": {
      "text/html": [
       "<div>\n",
       "<style scoped>\n",
       "    .dataframe tbody tr th:only-of-type {\n",
       "        vertical-align: middle;\n",
       "    }\n",
       "\n",
       "    .dataframe tbody tr th {\n",
       "        vertical-align: top;\n",
       "    }\n",
       "\n",
       "    .dataframe thead th {\n",
       "        text-align: right;\n",
       "    }\n",
       "</style>\n",
       "<table border=\"1\" class=\"dataframe\">\n",
       "  <thead>\n",
       "    <tr style=\"text-align: right;\">\n",
       "      <th></th>\n",
       "      <th>publisher_id</th>\n",
       "      <th>publisher</th>\n",
       "    </tr>\n",
       "  </thead>\n",
       "  <tbody>\n",
       "    <tr>\n",
       "      <th>0</th>\n",
       "      <td>1</td>\n",
       "      <td>Ace</td>\n",
       "    </tr>\n",
       "    <tr>\n",
       "      <th>1</th>\n",
       "      <td>2</td>\n",
       "      <td>Ace Book</td>\n",
       "    </tr>\n",
       "    <tr>\n",
       "      <th>2</th>\n",
       "      <td>3</td>\n",
       "      <td>Ace Books</td>\n",
       "    </tr>\n",
       "    <tr>\n",
       "      <th>3</th>\n",
       "      <td>4</td>\n",
       "      <td>Ace Hardcover</td>\n",
       "    </tr>\n",
       "    <tr>\n",
       "      <th>4</th>\n",
       "      <td>5</td>\n",
       "      <td>Addison Wesley Publishing Company</td>\n",
       "    </tr>\n",
       "  </tbody>\n",
       "</table>\n",
       "</div>"
      ],
      "text/plain": [
       "   publisher_id                          publisher\n",
       "0             1                                Ace\n",
       "1             2                           Ace Book\n",
       "2             3                          Ace Books\n",
       "3             4                      Ace Hardcover\n",
       "4             5  Addison Wesley Publishing Company"
      ]
     },
     "metadata": {},
     "output_type": "display_data"
    },
    {
     "name": "stdout",
     "output_type": "stream",
     "text": [
      "<class 'pandas.core.frame.DataFrame'>\n",
      "RangeIndex: 340 entries, 0 to 339\n",
      "Data columns (total 2 columns):\n",
      " #   Column        Non-Null Count  Dtype \n",
      "---  ------        --------------  ----- \n",
      " 0   publisher_id  340 non-null    int64 \n",
      " 1   publisher     340 non-null    object\n",
      "dtypes: int64(1), object(1)\n",
      "memory usage: 5.4+ KB\n"
     ]
    }
   ],
   "source": [
    "query = '''\n",
    "            SELECT * \n",
    "            FROM publishers\n",
    "        '''\n",
    "publishers = pd.io.sql.read_sql(query, con = engine)\n",
    "\n",
    "display(publishers.head())\n",
    "publishers.info()"
   ]
  },
  {
   "cell_type": "markdown",
   "id": "DD0EZbibHAf4",
   "metadata": {
    "id": "DD0EZbibHAf4"
   },
   "source": [
    "## Таблица ratings"
   ]
  },
  {
   "cell_type": "code",
   "execution_count": 5,
   "id": "R_DJ9WhDHooC",
   "metadata": {
    "colab": {
     "base_uri": "https://localhost:8080/",
     "height": 397
    },
    "id": "R_DJ9WhDHooC",
    "outputId": "58f4ead1-6165-4dfe-a404-e108d32087b9"
   },
   "outputs": [
    {
     "data": {
      "text/html": [
       "<div>\n",
       "<style scoped>\n",
       "    .dataframe tbody tr th:only-of-type {\n",
       "        vertical-align: middle;\n",
       "    }\n",
       "\n",
       "    .dataframe tbody tr th {\n",
       "        vertical-align: top;\n",
       "    }\n",
       "\n",
       "    .dataframe thead th {\n",
       "        text-align: right;\n",
       "    }\n",
       "</style>\n",
       "<table border=\"1\" class=\"dataframe\">\n",
       "  <thead>\n",
       "    <tr style=\"text-align: right;\">\n",
       "      <th></th>\n",
       "      <th>rating_id</th>\n",
       "      <th>book_id</th>\n",
       "      <th>username</th>\n",
       "      <th>rating</th>\n",
       "    </tr>\n",
       "  </thead>\n",
       "  <tbody>\n",
       "    <tr>\n",
       "      <th>0</th>\n",
       "      <td>1</td>\n",
       "      <td>1</td>\n",
       "      <td>ryanfranco</td>\n",
       "      <td>4</td>\n",
       "    </tr>\n",
       "    <tr>\n",
       "      <th>1</th>\n",
       "      <td>2</td>\n",
       "      <td>1</td>\n",
       "      <td>grantpatricia</td>\n",
       "      <td>2</td>\n",
       "    </tr>\n",
       "    <tr>\n",
       "      <th>2</th>\n",
       "      <td>3</td>\n",
       "      <td>1</td>\n",
       "      <td>brandtandrea</td>\n",
       "      <td>5</td>\n",
       "    </tr>\n",
       "    <tr>\n",
       "      <th>3</th>\n",
       "      <td>4</td>\n",
       "      <td>2</td>\n",
       "      <td>lorichen</td>\n",
       "      <td>3</td>\n",
       "    </tr>\n",
       "    <tr>\n",
       "      <th>4</th>\n",
       "      <td>5</td>\n",
       "      <td>2</td>\n",
       "      <td>mariokeller</td>\n",
       "      <td>2</td>\n",
       "    </tr>\n",
       "  </tbody>\n",
       "</table>\n",
       "</div>"
      ],
      "text/plain": [
       "   rating_id  book_id       username  rating\n",
       "0          1        1     ryanfranco       4\n",
       "1          2        1  grantpatricia       2\n",
       "2          3        1   brandtandrea       5\n",
       "3          4        2       lorichen       3\n",
       "4          5        2    mariokeller       2"
      ]
     },
     "metadata": {},
     "output_type": "display_data"
    },
    {
     "name": "stdout",
     "output_type": "stream",
     "text": [
      "<class 'pandas.core.frame.DataFrame'>\n",
      "RangeIndex: 6456 entries, 0 to 6455\n",
      "Data columns (total 4 columns):\n",
      " #   Column     Non-Null Count  Dtype \n",
      "---  ------     --------------  ----- \n",
      " 0   rating_id  6456 non-null   int64 \n",
      " 1   book_id    6456 non-null   int64 \n",
      " 2   username   6456 non-null   object\n",
      " 3   rating     6456 non-null   int64 \n",
      "dtypes: int64(3), object(1)\n",
      "memory usage: 201.9+ KB\n"
     ]
    }
   ],
   "source": [
    "query = '''\n",
    "            SELECT * \n",
    "            FROM ratings\n",
    "        '''\n",
    "ratings = pd.io.sql.read_sql(query, con = engine)\n",
    "\n",
    "display(ratings.head())\n",
    "ratings.info()"
   ]
  },
  {
   "cell_type": "markdown",
   "id": "gr5mJxX3HApY",
   "metadata": {
    "id": "gr5mJxX3HApY"
   },
   "source": [
    "## Таблица reviews"
   ]
  },
  {
   "cell_type": "code",
   "execution_count": 6,
   "id": "b1cbSdMFHsyg",
   "metadata": {
    "colab": {
     "base_uri": "https://localhost:8080/",
     "height": 397
    },
    "id": "b1cbSdMFHsyg",
    "outputId": "206a853b-91fa-4711-e02c-7fdfddc7b5a7"
   },
   "outputs": [
    {
     "data": {
      "text/html": [
       "<div>\n",
       "<style scoped>\n",
       "    .dataframe tbody tr th:only-of-type {\n",
       "        vertical-align: middle;\n",
       "    }\n",
       "\n",
       "    .dataframe tbody tr th {\n",
       "        vertical-align: top;\n",
       "    }\n",
       "\n",
       "    .dataframe thead th {\n",
       "        text-align: right;\n",
       "    }\n",
       "</style>\n",
       "<table border=\"1\" class=\"dataframe\">\n",
       "  <thead>\n",
       "    <tr style=\"text-align: right;\">\n",
       "      <th></th>\n",
       "      <th>rating_id</th>\n",
       "      <th>book_id</th>\n",
       "      <th>username</th>\n",
       "      <th>rating</th>\n",
       "    </tr>\n",
       "  </thead>\n",
       "  <tbody>\n",
       "    <tr>\n",
       "      <th>0</th>\n",
       "      <td>1</td>\n",
       "      <td>1</td>\n",
       "      <td>ryanfranco</td>\n",
       "      <td>4</td>\n",
       "    </tr>\n",
       "    <tr>\n",
       "      <th>1</th>\n",
       "      <td>2</td>\n",
       "      <td>1</td>\n",
       "      <td>grantpatricia</td>\n",
       "      <td>2</td>\n",
       "    </tr>\n",
       "    <tr>\n",
       "      <th>2</th>\n",
       "      <td>3</td>\n",
       "      <td>1</td>\n",
       "      <td>brandtandrea</td>\n",
       "      <td>5</td>\n",
       "    </tr>\n",
       "    <tr>\n",
       "      <th>3</th>\n",
       "      <td>4</td>\n",
       "      <td>2</td>\n",
       "      <td>lorichen</td>\n",
       "      <td>3</td>\n",
       "    </tr>\n",
       "    <tr>\n",
       "      <th>4</th>\n",
       "      <td>5</td>\n",
       "      <td>2</td>\n",
       "      <td>mariokeller</td>\n",
       "      <td>2</td>\n",
       "    </tr>\n",
       "  </tbody>\n",
       "</table>\n",
       "</div>"
      ],
      "text/plain": [
       "   rating_id  book_id       username  rating\n",
       "0          1        1     ryanfranco       4\n",
       "1          2        1  grantpatricia       2\n",
       "2          3        1   brandtandrea       5\n",
       "3          4        2       lorichen       3\n",
       "4          5        2    mariokeller       2"
      ]
     },
     "metadata": {},
     "output_type": "display_data"
    },
    {
     "name": "stdout",
     "output_type": "stream",
     "text": [
      "<class 'pandas.core.frame.DataFrame'>\n",
      "RangeIndex: 6456 entries, 0 to 6455\n",
      "Data columns (total 4 columns):\n",
      " #   Column     Non-Null Count  Dtype \n",
      "---  ------     --------------  ----- \n",
      " 0   rating_id  6456 non-null   int64 \n",
      " 1   book_id    6456 non-null   int64 \n",
      " 2   username   6456 non-null   object\n",
      " 3   rating     6456 non-null   int64 \n",
      "dtypes: int64(3), object(1)\n",
      "memory usage: 201.9+ KB\n"
     ]
    }
   ],
   "source": [
    "query = '''\n",
    "            SELECT * \n",
    "            FROM ratings\n",
    "        '''\n",
    "reviews = pd.io.sql.read_sql(query, con = engine)\n",
    "\n",
    "display(reviews.head())\n",
    "reviews.info()"
   ]
  },
  {
   "cell_type": "markdown",
   "id": "GY_yebThHwnQ",
   "metadata": {
    "id": "GY_yebThHwnQ"
   },
   "source": [
    "# Задания"
   ]
  },
  {
   "cell_type": "markdown",
   "id": "xq0Hh5m4IDmA",
   "metadata": {
    "id": "xq0Hh5m4IDmA"
   },
   "source": [
    "## Посчитайте, сколько книг вышло после 1 января 2000 года"
   ]
  },
  {
   "cell_type": "code",
   "execution_count": 7,
   "id": "zTfaVWGAIujY",
   "metadata": {
    "colab": {
     "base_uri": "https://localhost:8080/",
     "height": 81
    },
    "id": "zTfaVWGAIujY",
    "outputId": "aa293842-3d8e-4172-fe69-fe7f66908d54"
   },
   "outputs": [
    {
     "data": {
      "text/html": [
       "<div>\n",
       "<style scoped>\n",
       "    .dataframe tbody tr th:only-of-type {\n",
       "        vertical-align: middle;\n",
       "    }\n",
       "\n",
       "    .dataframe tbody tr th {\n",
       "        vertical-align: top;\n",
       "    }\n",
       "\n",
       "    .dataframe thead th {\n",
       "        text-align: right;\n",
       "    }\n",
       "</style>\n",
       "<table border=\"1\" class=\"dataframe\">\n",
       "  <thead>\n",
       "    <tr style=\"text-align: right;\">\n",
       "      <th></th>\n",
       "      <th>count_of_books</th>\n",
       "    </tr>\n",
       "  </thead>\n",
       "  <tbody>\n",
       "    <tr>\n",
       "      <th>0</th>\n",
       "      <td>819</td>\n",
       "    </tr>\n",
       "  </tbody>\n",
       "</table>\n",
       "</div>"
      ],
      "text/plain": [
       "   count_of_books\n",
       "0             819"
      ]
     },
     "execution_count": 7,
     "metadata": {},
     "output_type": "execute_result"
    }
   ],
   "source": [
    "query = '''\n",
    "            SELECT COUNT(book_id) AS count_of_books\n",
    "            FROM books \n",
    "            WHERE publication_date > '01-01-2000'\n",
    "        '''\n",
    "\n",
    "pd.io.sql.read_sql(query, con = engine)"
   ]
  },
  {
   "cell_type": "markdown",
   "id": "nmffI98AOdwD",
   "metadata": {
    "id": "nmffI98AOdwD"
   },
   "source": [
    "В таблице `books` содержится 819 книг, вышедших после 1 января 2000 года"
   ]
  },
  {
   "cell_type": "markdown",
   "id": "Rm21GyA5IJle",
   "metadata": {
    "id": "Rm21GyA5IJle"
   },
   "source": [
    "## Для каждой книги посчитайте количество обзоров и среднюю оценку\n"
   ]
  },
  {
   "cell_type": "code",
   "execution_count": 8,
   "id": "u4OnljokObE6",
   "metadata": {
    "colab": {
     "base_uri": "https://localhost:8080/",
     "height": 363
    },
    "id": "u4OnljokObE6",
    "outputId": "f00a61e8-cd06-4f54-e46f-eabff3c114e7"
   },
   "outputs": [
    {
     "data": {
      "text/html": [
       "<div>\n",
       "<style scoped>\n",
       "    .dataframe tbody tr th:only-of-type {\n",
       "        vertical-align: middle;\n",
       "    }\n",
       "\n",
       "    .dataframe tbody tr th {\n",
       "        vertical-align: top;\n",
       "    }\n",
       "\n",
       "    .dataframe thead th {\n",
       "        text-align: right;\n",
       "    }\n",
       "</style>\n",
       "<table border=\"1\" class=\"dataframe\">\n",
       "  <thead>\n",
       "    <tr style=\"text-align: right;\">\n",
       "      <th></th>\n",
       "      <th>title</th>\n",
       "      <th>book_id</th>\n",
       "      <th>avg_rating</th>\n",
       "      <th>review_count</th>\n",
       "    </tr>\n",
       "  </thead>\n",
       "  <tbody>\n",
       "    <tr>\n",
       "      <th>0</th>\n",
       "      <td>A Dirty Job (Grim Reaper  #1)</td>\n",
       "      <td>17</td>\n",
       "      <td>5.00</td>\n",
       "      <td>4.0</td>\n",
       "    </tr>\n",
       "    <tr>\n",
       "      <th>1</th>\n",
       "      <td>Tai-Pan (Asian Saga  #2)</td>\n",
       "      <td>610</td>\n",
       "      <td>5.00</td>\n",
       "      <td>2.0</td>\n",
       "    </tr>\n",
       "    <tr>\n",
       "      <th>2</th>\n",
       "      <td>School's Out—Forever (Maximum Ride  #2)</td>\n",
       "      <td>553</td>\n",
       "      <td>5.00</td>\n",
       "      <td>3.0</td>\n",
       "    </tr>\n",
       "    <tr>\n",
       "      <th>3</th>\n",
       "      <td>Piercing the Darkness (Darkness  #2)</td>\n",
       "      <td>513</td>\n",
       "      <td>5.00</td>\n",
       "      <td>2.0</td>\n",
       "    </tr>\n",
       "    <tr>\n",
       "      <th>4</th>\n",
       "      <td>The War of Art: Break Through the Blocks &amp; Win...</td>\n",
       "      <td>902</td>\n",
       "      <td>5.00</td>\n",
       "      <td>2.0</td>\n",
       "    </tr>\n",
       "    <tr>\n",
       "      <th>...</th>\n",
       "      <td>...</td>\n",
       "      <td>...</td>\n",
       "      <td>...</td>\n",
       "      <td>...</td>\n",
       "    </tr>\n",
       "    <tr>\n",
       "      <th>995</th>\n",
       "      <td>The World Is Flat: A Brief History of the Twen...</td>\n",
       "      <td>915</td>\n",
       "      <td>2.25</td>\n",
       "      <td>3.0</td>\n",
       "    </tr>\n",
       "    <tr>\n",
       "      <th>996</th>\n",
       "      <td>His Excellency: George Washington</td>\n",
       "      <td>316</td>\n",
       "      <td>2.00</td>\n",
       "      <td>2.0</td>\n",
       "    </tr>\n",
       "    <tr>\n",
       "      <th>997</th>\n",
       "      <td>Junky</td>\n",
       "      <td>371</td>\n",
       "      <td>2.00</td>\n",
       "      <td>2.0</td>\n",
       "    </tr>\n",
       "    <tr>\n",
       "      <th>998</th>\n",
       "      <td>Drowning Ruth</td>\n",
       "      <td>202</td>\n",
       "      <td>2.00</td>\n",
       "      <td>3.0</td>\n",
       "    </tr>\n",
       "    <tr>\n",
       "      <th>999</th>\n",
       "      <td>Harvesting the Heart</td>\n",
       "      <td>303</td>\n",
       "      <td>1.50</td>\n",
       "      <td>2.0</td>\n",
       "    </tr>\n",
       "  </tbody>\n",
       "</table>\n",
       "<p>1000 rows × 4 columns</p>\n",
       "</div>"
      ],
      "text/plain": [
       "                                                 title  book_id  avg_rating  \\\n",
       "0                        A Dirty Job (Grim Reaper  #1)       17        5.00   \n",
       "1                             Tai-Pan (Asian Saga  #2)      610        5.00   \n",
       "2              School's Out—Forever (Maximum Ride  #2)      553        5.00   \n",
       "3                 Piercing the Darkness (Darkness  #2)      513        5.00   \n",
       "4    The War of Art: Break Through the Blocks & Win...      902        5.00   \n",
       "..                                                 ...      ...         ...   \n",
       "995  The World Is Flat: A Brief History of the Twen...      915        2.25   \n",
       "996                  His Excellency: George Washington      316        2.00   \n",
       "997                                              Junky      371        2.00   \n",
       "998                                      Drowning Ruth      202        2.00   \n",
       "999                               Harvesting the Heart      303        1.50   \n",
       "\n",
       "     review_count  \n",
       "0             4.0  \n",
       "1             2.0  \n",
       "2             3.0  \n",
       "3             2.0  \n",
       "4             2.0  \n",
       "..            ...  \n",
       "995           3.0  \n",
       "996           2.0  \n",
       "997           2.0  \n",
       "998           3.0  \n",
       "999           2.0  \n",
       "\n",
       "[1000 rows x 4 columns]"
      ]
     },
     "execution_count": 8,
     "metadata": {},
     "output_type": "execute_result"
    }
   ],
   "source": [
    "query = '''\n",
    "            WITH book_rating AS\n",
    "            (SELECT book_id,\n",
    "            AVG(rating) AS avg_rating\n",
    "            FROM ratings\n",
    "            GROUP BY book_id),\n",
    "\n",
    "            book_review AS\n",
    "            (SELECT book_id,\n",
    "            COUNT(*) AS review_count\n",
    "            FROM reviews\n",
    "            GROUP BY book_id)\n",
    "            \n",
    "            \n",
    "            SELECT b.title, b.book_id, avg_rating, review_count\n",
    "            FROM books AS b\n",
    "            LEFT JOIN book_rating AS b_rat ON b.book_id = b_rat.book_id\n",
    "            LEFT JOIN book_review AS b_rev ON b.book_id = b_rev.book_id\n",
    "            ORDER BY avg_rating DESC\n",
    "            \n",
    "        '''\n",
    "\n",
    "pd.io.sql.read_sql(query, con = engine)"
   ]
  },
  {
   "cell_type": "markdown",
   "id": "DDnOicV2IJgs",
   "metadata": {
    "id": "DDnOicV2IJgs"
   },
   "source": [
    "## Определите издательство, которое выпустило наибольшее число книг толще 50 страниц — так вы исключите из анализа брошюры"
   ]
  },
  {
   "cell_type": "code",
   "execution_count": 9,
   "id": "otIip9_PObZ6",
   "metadata": {
    "colab": {
     "base_uri": "https://localhost:8080/",
     "height": 81
    },
    "id": "otIip9_PObZ6",
    "outputId": "0d423152-bd18-49b0-a073-47bb6c22f19c"
   },
   "outputs": [
    {
     "data": {
      "text/html": [
       "<div>\n",
       "<style scoped>\n",
       "    .dataframe tbody tr th:only-of-type {\n",
       "        vertical-align: middle;\n",
       "    }\n",
       "\n",
       "    .dataframe tbody tr th {\n",
       "        vertical-align: top;\n",
       "    }\n",
       "\n",
       "    .dataframe thead th {\n",
       "        text-align: right;\n",
       "    }\n",
       "</style>\n",
       "<table border=\"1\" class=\"dataframe\">\n",
       "  <thead>\n",
       "    <tr style=\"text-align: right;\">\n",
       "      <th></th>\n",
       "      <th>publisher</th>\n",
       "      <th>count</th>\n",
       "    </tr>\n",
       "  </thead>\n",
       "  <tbody>\n",
       "    <tr>\n",
       "      <th>0</th>\n",
       "      <td>Penguin Books</td>\n",
       "      <td>42</td>\n",
       "    </tr>\n",
       "  </tbody>\n",
       "</table>\n",
       "</div>"
      ],
      "text/plain": [
       "       publisher  count\n",
       "0  Penguin Books     42"
      ]
     },
     "execution_count": 9,
     "metadata": {},
     "output_type": "execute_result"
    }
   ],
   "source": [
    "query = '''\n",
    "            SELECT publisher, COUNT(book_id)\n",
    "            FROM books AS b\n",
    "            LEFT JOIN publishers AS p ON p.publisher_id = b.publisher_id\n",
    "            WHERE num_pages > 50\n",
    "            GROUP BY publisher\n",
    "            ORDER BY count DESC\n",
    "            LIMIT 1\n",
    "        '''\n",
    "\n",
    "pd.io.sql.read_sql(query, con = engine)"
   ]
  },
  {
   "cell_type": "markdown",
   "id": "e1ZDp-IMIJXk",
   "metadata": {
    "id": "e1ZDp-IMIJXk"
   },
   "source": [
    "## Определите автора с самой высокой средней оценкой книг — учитывайте только книги с 50 и более оценками"
   ]
  },
  {
   "cell_type": "code",
   "execution_count": 12,
   "id": "u_wdsl8WObwy",
   "metadata": {
    "colab": {
     "base_uri": "https://localhost:8080/",
     "height": 81
    },
    "id": "u_wdsl8WObwy",
    "outputId": "9e42e541-adbb-4dcf-9034-e5e2c3c1a277"
   },
   "outputs": [
    {
     "data": {
      "text/html": [
       "<div>\n",
       "<style scoped>\n",
       "    .dataframe tbody tr th:only-of-type {\n",
       "        vertical-align: middle;\n",
       "    }\n",
       "\n",
       "    .dataframe tbody tr th {\n",
       "        vertical-align: top;\n",
       "    }\n",
       "\n",
       "    .dataframe thead th {\n",
       "        text-align: right;\n",
       "    }\n",
       "</style>\n",
       "<table border=\"1\" class=\"dataframe\">\n",
       "  <thead>\n",
       "    <tr style=\"text-align: right;\">\n",
       "      <th></th>\n",
       "      <th>author</th>\n",
       "      <th>avg</th>\n",
       "    </tr>\n",
       "  </thead>\n",
       "  <tbody>\n",
       "    <tr>\n",
       "      <th>0</th>\n",
       "      <td>J.K. Rowling/Mary GrandPré</td>\n",
       "      <td>4.283844</td>\n",
       "    </tr>\n",
       "  </tbody>\n",
       "</table>\n",
       "</div>"
      ],
      "text/plain": [
       "                       author       avg\n",
       "0  J.K. Rowling/Mary GrandPré  4.283844"
      ]
     },
     "execution_count": 12,
     "metadata": {},
     "output_type": "execute_result"
    }
   ],
   "source": [
    "query = '''\n",
    "            WITH rating AS\n",
    "            (SELECT book_id, AVG(rating) ratings\n",
    "            FROM ratings\n",
    "            GROUP BY book_id\n",
    "            HAVING COUNT(*) >= 50)\n",
    "            \n",
    "            SELECT a.author, AVG(ratings)\n",
    "            FROM rating\n",
    "            JOIN (SELECT book_id, author_id FROM books) AS b ON rating.book_id=b.book_id\n",
    "            JOIN (SELECT author_id, author FROM authors) AS a ON b.author_id=a.author_id\n",
    "            GROUP BY a.author\n",
    "            ORDER BY avg(ratings) DESC\n",
    "            LIMIT 1 \n",
    "        '''\n",
    "pd.io.sql.read_sql(query, con = engine)"
   ]
  },
  {
   "cell_type": "markdown",
   "id": "WEmLsETNIJJM",
   "metadata": {
    "id": "WEmLsETNIJJM"
   },
   "source": [
    "## Посчитайте среднее количество обзоров от пользователей, которые поставили больше 50 оценок"
   ]
  },
  {
   "cell_type": "code",
   "execution_count": 11,
   "id": "Z2v6qe5XOcE6",
   "metadata": {
    "colab": {
     "base_uri": "https://localhost:8080/",
     "height": 81
    },
    "id": "Z2v6qe5XOcE6",
    "outputId": "997ef61b-7bda-4323-c560-98667481d750"
   },
   "outputs": [
    {
     "data": {
      "text/html": [
       "<div>\n",
       "<style scoped>\n",
       "    .dataframe tbody tr th:only-of-type {\n",
       "        vertical-align: middle;\n",
       "    }\n",
       "\n",
       "    .dataframe tbody tr th {\n",
       "        vertical-align: top;\n",
       "    }\n",
       "\n",
       "    .dataframe thead th {\n",
       "        text-align: right;\n",
       "    }\n",
       "</style>\n",
       "<table border=\"1\" class=\"dataframe\">\n",
       "  <thead>\n",
       "    <tr style=\"text-align: right;\">\n",
       "      <th></th>\n",
       "      <th>avg</th>\n",
       "    </tr>\n",
       "  </thead>\n",
       "  <tbody>\n",
       "    <tr>\n",
       "      <th>0</th>\n",
       "      <td>24.333333</td>\n",
       "    </tr>\n",
       "  </tbody>\n",
       "</table>\n",
       "</div>"
      ],
      "text/plain": [
       "         avg\n",
       "0  24.333333"
      ]
     },
     "execution_count": 11,
     "metadata": {},
     "output_type": "execute_result"
    }
   ],
   "source": [
    "query = '''\n",
    "            SELECT AVG(reviews_quantity)\n",
    "            FROM\n",
    "            (SELECT username, COUNT(review_id) reviews_quantity\n",
    "            FROM reviews\n",
    "            WHERE username IN(\n",
    "            SELECT username\n",
    "            FROM\n",
    "            (SELECT username, COUNT(rating_id) ratings_quantity\n",
    "            FROM ratings\n",
    "            GROUP BY username) AS t\n",
    "            WHERE ratings_quantity > 50)\n",
    "            GROUP BY username) AS tt\n",
    "        '''\n",
    "pd.io.sql.read_sql(query, con = engine)"
   ]
  },
  {
   "cell_type": "markdown",
   "id": "_4JhkjmdINdM",
   "metadata": {
    "id": "_4JhkjmdINdM"
   },
   "source": [
    "# Заключение"
   ]
  },
  {
   "cell_type": "markdown",
   "id": "MXdU9fGTZrCu",
   "metadata": {
    "id": "MXdU9fGTZrCu"
   },
   "source": [
    "В рамках проекта мы узнали:\n",
    "- База данных содержит информацию о 1000 книг\n",
    "- 819 книг было издано после 1 января 2020 года\n",
    "- Больше всего книг длиннее 50 страниц выпустило издательство Penguin Books -\t42 книги\n",
    "- Автор с самой высокой средней оценкой книг - J.K. Rowling/Mary GrandPré (Mary GrandPré - иллюстратор книг о Гарри Поттере)\n",
    "- Среднее количество обзоров от пользователей, которые поставили больше 50 оценок - 24"
   ]
  }
 ],
 "metadata": {
  "ExecuteTimeLog": [
   {
    "duration": 6449,
    "start_time": "2023-03-09T00:01:15.001Z"
   },
   {
    "duration": 339,
    "start_time": "2023-03-09T00:01:21.453Z"
   },
   {
    "duration": 93,
    "start_time": "2023-03-09T00:01:21.794Z"
   },
   {
    "duration": 94,
    "start_time": "2023-03-09T00:01:21.890Z"
   },
   {
    "duration": 122,
    "start_time": "2023-03-09T00:01:21.986Z"
   },
   {
    "duration": 107,
    "start_time": "2023-03-09T00:01:22.110Z"
   },
   {
    "duration": 83,
    "start_time": "2023-03-09T00:01:22.219Z"
   },
   {
    "duration": 89,
    "start_time": "2023-03-09T00:01:22.304Z"
   },
   {
    "duration": 85,
    "start_time": "2023-03-09T00:01:22.395Z"
   },
   {
    "duration": 79,
    "start_time": "2023-03-09T00:01:22.489Z"
   },
   {
    "duration": 87,
    "start_time": "2023-03-09T00:01:22.570Z"
   },
   {
    "duration": 6708,
    "start_time": "2023-03-09T00:02:57.418Z"
   },
   {
    "duration": 327,
    "start_time": "2023-03-09T00:03:04.128Z"
   },
   {
    "duration": 88,
    "start_time": "2023-03-09T00:03:04.457Z"
   },
   {
    "duration": 98,
    "start_time": "2023-03-09T00:03:04.547Z"
   },
   {
    "duration": 124,
    "start_time": "2023-03-09T00:03:04.647Z"
   },
   {
    "duration": 117,
    "start_time": "2023-03-09T00:03:04.776Z"
   },
   {
    "duration": 77,
    "start_time": "2023-03-09T00:03:04.895Z"
   },
   {
    "duration": 91,
    "start_time": "2023-03-09T00:03:04.974Z"
   },
   {
    "duration": 81,
    "start_time": "2023-03-09T00:03:05.067Z"
   },
   {
    "duration": 88,
    "start_time": "2023-03-09T00:03:05.151Z"
   },
   {
    "duration": 85,
    "start_time": "2023-03-09T00:03:05.241Z"
   },
   {
    "duration": 93,
    "start_time": "2023-03-09T00:03:43.996Z"
   }
  ],
  "colab": {
   "provenance": []
  },
  "kernelspec": {
   "display_name": "Python 3 (ipykernel)",
   "language": "python",
   "name": "python3"
  },
  "language_info": {
   "codemirror_mode": {
    "name": "ipython",
    "version": 3
   },
   "file_extension": ".py",
   "mimetype": "text/x-python",
   "name": "python",
   "nbconvert_exporter": "python",
   "pygments_lexer": "ipython3",
   "version": "3.9.5"
  },
  "toc": {
   "base_numbering": 1,
   "nav_menu": {},
   "number_sections": true,
   "sideBar": true,
   "skip_h1_title": true,
   "title_cell": "Table of Contents",
   "title_sidebar": "Contents",
   "toc_cell": false,
   "toc_position": {},
   "toc_section_display": true,
   "toc_window_display": false
  }
 },
 "nbformat": 4,
 "nbformat_minor": 5
}
