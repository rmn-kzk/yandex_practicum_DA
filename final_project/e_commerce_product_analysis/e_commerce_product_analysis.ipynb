{
 "cells": [
  {
   "cell_type": "markdown",
   "id": "d8e2fb47-03fd-411b-b42b-492bcf5e939a",
   "metadata": {},
   "source": [
    "# E-commerce — Анализ товарного ассортимента\n",
    "\n",
    "**Заказчик** - менеджер отвечающий за актуальность товарного ассортимента\n",
    "\n",
    "**Задача** - выделить основной и дополнительный товарные ассортименты.\n",
    "\n",
    "**Подход 1**\n",
    "\n",
    "Разделение товаров по особенностям продажи:\n",
    "- Основным товарным ассортиментом могут считаться те товары, которые продаются сами по себе\n",
    "- Дополнительным - те товары, которые продаются только вместе с другими\n",
    "\n",
    "**Подход 2**\n",
    "\n",
    "ABC анализ:\n",
    "\n",
    "- Разделим товары на группы по количеству продаж и по сумме выручки.\n",
    "\n",
    "- Получим 3 категории, которые будут занимать 80%, 15%, 5%, товарного ассортимента\n",
    "\n",
    "- На основе этого деления мы сможем определить товары в основной и дополнительный ассортимент.\n",
    "\n",
    "- Также сможем изучить соотношение товаров из разных групп в разных категориях\n",
    "\n",
    "**Ход проекта**\n",
    "- Подготовить данные:\n",
    "    - проверить форматы\n",
    "    - проверить дубликаты (явные и неявные)\n",
    "    - обработать дубликаты и обосновать свое решение\n",
    "    - выделить месяцы из дат в отдельную колонку\n",
    "- Проведите исследовательский анализ данных:\n",
    "    - изучить распределение значений (аномалии и выбросы)\n",
    "    - изучить динамику продаж (по дням, часам, месяцам)\n",
    "- Проанализируйте торговый ассортимент:\n",
    "    - выделить товарные категории\n",
    "    - анализ товарных категорий\n",
    "- Сформулируйте и проверьте статистические гипотезы:\n",
    "    - изучить разницу в средних чеках между категориями\n",
    "    - изучить разницу в динамике продаж между разными временами года"
   ]
  },
  {
   "cell_type": "markdown",
   "id": "3126f4b6-fb12-4c5f-aff5-e2bfaaaca0f1",
   "metadata": {},
   "source": [
    "# Описание данных:\n",
    "\n",
    "Датасет описывает транзакции интернет-магазина товаров для дома и быта «Пока все ещё тут».\n",
    "\n",
    "Колонки в  *ecommerce_dataset.csv* :\n",
    "\n",
    "- `date` — дата заказа;\n",
    "- `customer_id` — идентификатор покупателя;\n",
    "- `order_id` — идентификатор заказа;\n",
    "- `product` — наименование товара;\n",
    "- `quantity` — количество товара в заказе;\n",
    "- `price` — цена товара."
   ]
  },
  {
   "cell_type": "markdown",
   "id": "b809b88b-1d58-4cfc-92a4-f72cbfb4a6cc",
   "metadata": {},
   "source": [
    "# Загрузка и предобработка данных"
   ]
  },
  {
   "cell_type": "code",
   "execution_count": 93,
   "id": "c631c6f6",
   "metadata": {},
   "outputs": [],
   "source": [
    "import pandas as pd\n",
    "pd.set_option('display.max_rows', 1000)\n",
    "pd.set_option('display.max_columns', 500)\n",
    "pd.set_option('max_colwidth', 1000)\n",
    "pd.set_option('display.expand_frame_repr', False)\n",
    "\n",
    "# отключаем warnings\n",
    "pd.options.mode.chained_assignment = None  # default='warn'\n",
    "\n",
    "# убираю scientific notation\n",
    "pd.set_option('display.float_format', lambda x: '%.3f' % x)\n",
    "\n",
    "# библиотеки для визуализации\n",
    "import matplotlib.pyplot as plt\n",
    "import plotly.express as px\n",
    "from plotly import graph_objects as go\n",
    "import seaborn as sns\n",
    "\n",
    "import numpy as np\n",
    "from scipy.stats import ttest_ind\n",
    "from scipy import stats as st\n",
    "\n",
    "import os"
   ]
  },
  {
   "cell_type": "code",
   "execution_count": 94,
   "id": "e7ef98f5",
   "metadata": {},
   "outputs": [],
   "source": [
    "# загрузка данных\n",
    "if os.path.exists(r'C:\\Users\\Roma\\Desktop\\projects\\e_commerce_product_analysis\\ecommerce_dataset.csv'):\n",
    "    df = pd.read_csv(r'C:\\Users\\Roma\\Desktop\\projects\\e_commerce_product_analysis\\ecommerce_dataset.csv')\n",
    "elif os.path.exists(r'/datasets/ecommerce_dataset.csv'):\n",
    "    df = pd.read_csv('/datasets/ecommerce_dataset.csv')\n",
    "else:\n",
    "    print('Ошибка в пути файла')"
   ]
  },
  {
   "cell_type": "code",
   "execution_count": 95,
   "id": "08a89c8e",
   "metadata": {},
   "outputs": [
    {
     "data": {
      "text/html": [
       "<div>\n",
       "<style scoped>\n",
       "    .dataframe tbody tr th:only-of-type {\n",
       "        vertical-align: middle;\n",
       "    }\n",
       "\n",
       "    .dataframe tbody tr th {\n",
       "        vertical-align: top;\n",
       "    }\n",
       "\n",
       "    .dataframe thead th {\n",
       "        text-align: right;\n",
       "    }\n",
       "</style>\n",
       "<table border=\"1\" class=\"dataframe\">\n",
       "  <thead>\n",
       "    <tr style=\"text-align: right;\">\n",
       "      <th></th>\n",
       "      <th>date</th>\n",
       "      <th>customer_id</th>\n",
       "      <th>order_id</th>\n",
       "      <th>product</th>\n",
       "      <th>quantity</th>\n",
       "      <th>price</th>\n",
       "    </tr>\n",
       "  </thead>\n",
       "  <tbody>\n",
       "    <tr>\n",
       "      <th>2205</th>\n",
       "      <td>2019030611</td>\n",
       "      <td>036edc2c-d0ad-4c71-99f6-226db1b883f4</td>\n",
       "      <td>70463</td>\n",
       "      <td>Салатник Luminarc ПОЭМА АНИС 12 см J1349</td>\n",
       "      <td>1</td>\n",
       "      <td>239.000</td>\n",
       "    </tr>\n",
       "    <tr>\n",
       "      <th>3825</th>\n",
       "      <td>2019051518</td>\n",
       "      <td>967b53b4-0c48-4f71-98e2-121a0b568424</td>\n",
       "      <td>71400</td>\n",
       "      <td>Сумка-тележка хозяйственная GIMI Argo голубая</td>\n",
       "      <td>1</td>\n",
       "      <td>1087.000</td>\n",
       "    </tr>\n",
       "    <tr>\n",
       "      <th>3259</th>\n",
       "      <td>2019042817</td>\n",
       "      <td>cce13789-408b-44e1-8147-3c74dc393bf1</td>\n",
       "      <td>14701</td>\n",
       "      <td>Колеус рассада однолетних цветов в кассете по 10 шт</td>\n",
       "      <td>2</td>\n",
       "      <td>210.000</td>\n",
       "    </tr>\n",
       "    <tr>\n",
       "      <th>447</th>\n",
       "      <td>2018102714</td>\n",
       "      <td>ae051113-e14d-4c7a-8974-444692951513</td>\n",
       "      <td>68770</td>\n",
       "      <td>Таз пластмассовый 20,0 л пищевой (Минеральные воды), 1404045</td>\n",
       "      <td>1</td>\n",
       "      <td>277.000</td>\n",
       "    </tr>\n",
       "    <tr>\n",
       "      <th>3459</th>\n",
       "      <td>2019050813</td>\n",
       "      <td>d35ce92b-08ec-46a5-87c5-2ef42c65ed3e</td>\n",
       "      <td>14735</td>\n",
       "      <td>Подвесное кашпо Калибрахоа Aloha Kona Dark Red красная объем 4 л</td>\n",
       "      <td>1</td>\n",
       "      <td>488.000</td>\n",
       "    </tr>\n",
       "  </tbody>\n",
       "</table>\n",
       "</div>"
      ],
      "text/plain": [
       "            date                           customer_id  order_id                                                           product  quantity    price\n",
       "2205  2019030611  036edc2c-d0ad-4c71-99f6-226db1b883f4     70463                          Салатник Luminarc ПОЭМА АНИС 12 см J1349         1  239.000\n",
       "3825  2019051518  967b53b4-0c48-4f71-98e2-121a0b568424     71400                     Сумка-тележка хозяйственная GIMI Argo голубая         1 1087.000\n",
       "3259  2019042817  cce13789-408b-44e1-8147-3c74dc393bf1     14701               Колеус рассада однолетних цветов в кассете по 10 шт         2  210.000\n",
       "447   2018102714  ae051113-e14d-4c7a-8974-444692951513     68770      Таз пластмассовый 20,0 л пищевой (Минеральные воды), 1404045         1  277.000\n",
       "3459  2019050813  d35ce92b-08ec-46a5-87c5-2ef42c65ed3e     14735  Подвесное кашпо Калибрахоа Aloha Kona Dark Red красная объем 4 л         1  488.000"
      ]
     },
     "execution_count": 95,
     "metadata": {},
     "output_type": "execute_result"
    }
   ],
   "source": [
    "df.sample(5)"
   ]
  },
  {
   "cell_type": "code",
   "execution_count": 96,
   "id": "dd246fc5",
   "metadata": {},
   "outputs": [
    {
     "name": "stdout",
     "output_type": "stream",
     "text": [
      "<class 'pandas.core.frame.DataFrame'>\n",
      "RangeIndex: 6737 entries, 0 to 6736\n",
      "Data columns (total 6 columns):\n",
      " #   Column       Non-Null Count  Dtype  \n",
      "---  ------       --------------  -----  \n",
      " 0   date         6737 non-null   int64  \n",
      " 1   customer_id  6737 non-null   object \n",
      " 2   order_id     6737 non-null   int64  \n",
      " 3   product      6737 non-null   object \n",
      " 4   quantity     6737 non-null   int64  \n",
      " 5   price        6737 non-null   float64\n",
      "dtypes: float64(1), int64(3), object(2)\n",
      "memory usage: 315.9+ KB\n"
     ]
    }
   ],
   "source": [
    "df.info()"
   ]
  },
  {
   "cell_type": "markdown",
   "id": "63eed0d2",
   "metadata": {},
   "source": [
    "Нужно исправить формат для столбца `date`"
   ]
  },
  {
   "cell_type": "code",
   "execution_count": 97,
   "id": "6a1f812d",
   "metadata": {},
   "outputs": [],
   "source": [
    "df['date'] = pd.to_datetime(df['date'], format='%Y%m%d%H')"
   ]
  },
  {
   "cell_type": "markdown",
   "id": "e5a54961-5268-4ce0-8d7c-8ae3949c8b4b",
   "metadata": {},
   "source": [
    "Посмотрим на столбце с датами еще раз"
   ]
  },
  {
   "cell_type": "code",
   "execution_count": 98,
   "id": "27f84c38-82ad-43d5-b707-a823565c22dd",
   "metadata": {},
   "outputs": [
    {
     "data": {
      "text/html": [
       "<div>\n",
       "<style scoped>\n",
       "    .dataframe tbody tr th:only-of-type {\n",
       "        vertical-align: middle;\n",
       "    }\n",
       "\n",
       "    .dataframe tbody tr th {\n",
       "        vertical-align: top;\n",
       "    }\n",
       "\n",
       "    .dataframe thead th {\n",
       "        text-align: right;\n",
       "    }\n",
       "</style>\n",
       "<table border=\"1\" class=\"dataframe\">\n",
       "  <thead>\n",
       "    <tr style=\"text-align: right;\">\n",
       "      <th></th>\n",
       "      <th>date</th>\n",
       "      <th>customer_id</th>\n",
       "      <th>order_id</th>\n",
       "      <th>product</th>\n",
       "      <th>quantity</th>\n",
       "      <th>price</th>\n",
       "    </tr>\n",
       "  </thead>\n",
       "  <tbody>\n",
       "    <tr>\n",
       "      <th>3383</th>\n",
       "      <td>2019-05-02 16:00:00</td>\n",
       "      <td>760aa067-90c3-4794-b7a9-a8831197388b</td>\n",
       "      <td>14715</td>\n",
       "      <td>Цикламен комнатный D15 см H20 см белый</td>\n",
       "      <td>1</td>\n",
       "      <td>195.000</td>\n",
       "    </tr>\n",
       "    <tr>\n",
       "      <th>5610</th>\n",
       "      <td>2019-07-01 11:00:00</td>\n",
       "      <td>2505619e-8c79-46d9-af14-08115a00d318</td>\n",
       "      <td>71837</td>\n",
       "      <td>Стеллаж для обуви светлый TELIO-350 OPT-350S</td>\n",
       "      <td>1</td>\n",
       "      <td>1087.000</td>\n",
       "    </tr>\n",
       "    <tr>\n",
       "      <th>374</th>\n",
       "      <td>2018-10-23 11:00:00</td>\n",
       "      <td>4d93d3f6-8b24-403b-a74b-f5173e40d7db</td>\n",
       "      <td>68726</td>\n",
       "      <td>Штора для ванной комнаты Cannetto 240х200 см коричневая, Bacchetta, 4061</td>\n",
       "      <td>1</td>\n",
       "      <td>1199.000</td>\n",
       "    </tr>\n",
       "  </tbody>\n",
       "</table>\n",
       "</div>"
      ],
      "text/plain": [
       "                    date                           customer_id  order_id                                                                   product  quantity    price\n",
       "3383 2019-05-02 16:00:00  760aa067-90c3-4794-b7a9-a8831197388b     14715                                    Цикламен комнатный D15 см H20 см белый         1  195.000\n",
       "5610 2019-07-01 11:00:00  2505619e-8c79-46d9-af14-08115a00d318     71837                              Стеллаж для обуви светлый TELIO-350 OPT-350S         1 1087.000\n",
       "374  2018-10-23 11:00:00  4d93d3f6-8b24-403b-a74b-f5173e40d7db     68726  Штора для ванной комнаты Cannetto 240х200 см коричневая, Bacchetta, 4061         1 1199.000"
      ]
     },
     "execution_count": 98,
     "metadata": {},
     "output_type": "execute_result"
    }
   ],
   "source": [
    "df.sample(3)"
   ]
  },
  {
   "cell_type": "markdown",
   "id": "2d16d317-9b2e-4b19-8b32-3a03fdc98ce3",
   "metadata": {},
   "source": [
    "Также приведем значения названий товаров к нижнему регистру"
   ]
  },
  {
   "cell_type": "code",
   "execution_count": 99,
   "id": "45cdcdd1-0756-4401-8d24-b0e016901a5f",
   "metadata": {},
   "outputs": [],
   "source": [
    "df['product'] = df['product'].str.lower()\n"
   ]
  },
  {
   "cell_type": "code",
   "execution_count": 100,
   "id": "6adf8971",
   "metadata": {},
   "outputs": [
    {
     "data": {
      "image/png": "[encoded data removed]",
      "text/plain": [
       "<Figure size 1000x1000 with 4 Axes>"
      ]
     },
     "metadata": {},
     "output_type": "display_data"
    }
   ],
   "source": [
    "df.hist(figsize=(10,10))\n",
    "plt.show()"
   ]
  },
  {
   "cell_type": "markdown",
   "id": "70bec25f",
   "metadata": {},
   "source": [
    "Что мы видим на гистограммах:\n",
    "- больше всего заказов сделали в период с марта по апрель 2019 года\n",
    "- большинство товаров продаются в количестве до 100 штук\n",
    "- стоимость большинства товаров лежит в промежутке до 2000 рублей"
   ]
  },
  {
   "cell_type": "markdown",
   "id": "d1d9a2fd",
   "metadata": {},
   "source": [
    "## Проверка на пропуски"
   ]
  },
  {
   "cell_type": "code",
   "execution_count": 101,
   "id": "2244e234",
   "metadata": {},
   "outputs": [
    {
     "data": {
      "text/html": [
       "<style type=\"text/css\">\n",
       "#T_ce95b_row0_col0, #T_ce95b_row1_col0, #T_ce95b_row2_col0, #T_ce95b_row3_col0, #T_ce95b_row4_col0, #T_ce95b_row5_col0 {\n",
       "  background-color: #3b4cc0;\n",
       "  color: #f1f1f1;\n",
       "}\n",
       "</style>\n",
       "<table id=\"T_ce95b\">\n",
       "  <thead>\n",
       "    <tr>\n",
       "      <th class=\"blank level0\" >&nbsp;</th>\n",
       "      <th id=\"T_ce95b_level0_col0\" class=\"col_heading level0 col0\" >0</th>\n",
       "    </tr>\n",
       "  </thead>\n",
       "  <tbody>\n",
       "    <tr>\n",
       "      <th id=\"T_ce95b_level0_row0\" class=\"row_heading level0 row0\" >date</th>\n",
       "      <td id=\"T_ce95b_row0_col0\" class=\"data row0 col0\" >0.000000</td>\n",
       "    </tr>\n",
       "    <tr>\n",
       "      <th id=\"T_ce95b_level0_row1\" class=\"row_heading level0 row1\" >customer_id</th>\n",
       "      <td id=\"T_ce95b_row1_col0\" class=\"data row1 col0\" >0.000000</td>\n",
       "    </tr>\n",
       "    <tr>\n",
       "      <th id=\"T_ce95b_level0_row2\" class=\"row_heading level0 row2\" >order_id</th>\n",
       "      <td id=\"T_ce95b_row2_col0\" class=\"data row2 col0\" >0.000000</td>\n",
       "    </tr>\n",
       "    <tr>\n",
       "      <th id=\"T_ce95b_level0_row3\" class=\"row_heading level0 row3\" >product</th>\n",
       "      <td id=\"T_ce95b_row3_col0\" class=\"data row3 col0\" >0.000000</td>\n",
       "    </tr>\n",
       "    <tr>\n",
       "      <th id=\"T_ce95b_level0_row4\" class=\"row_heading level0 row4\" >quantity</th>\n",
       "      <td id=\"T_ce95b_row4_col0\" class=\"data row4 col0\" >0.000000</td>\n",
       "    </tr>\n",
       "    <tr>\n",
       "      <th id=\"T_ce95b_level0_row5\" class=\"row_heading level0 row5\" >price</th>\n",
       "      <td id=\"T_ce95b_row5_col0\" class=\"data row5 col0\" >0.000000</td>\n",
       "    </tr>\n",
       "  </tbody>\n",
       "</table>\n"
      ],
      "text/plain": [
       "<pandas.io.formats.style.Styler at 0x2256fed1400>"
      ]
     },
     "execution_count": 101,
     "metadata": {},
     "output_type": "execute_result"
    }
   ],
   "source": [
    "pd.DataFrame(round(df.isna().mean()*100,)).style.background_gradient('coolwarm')"
   ]
  },
  {
   "cell_type": "markdown",
   "id": "2eac5607",
   "metadata": {},
   "source": [
    "В датасете нет пропусков"
   ]
  },
  {
   "cell_type": "markdown",
   "id": "2e3fd9b9-bf3a-414e-a417-90e9b8e5ffc0",
   "metadata": {},
   "source": [
    "## Проверка на дубликаты"
   ]
  },
  {
   "cell_type": "markdown",
   "id": "0957a251-9da6-4663-80de-910c77666973",
   "metadata": {},
   "source": [
    "Посмотрим на количество полных дубликатов в датасете"
   ]
  },
  {
   "cell_type": "code",
   "execution_count": 102,
   "id": "7631b3cb-715e-4b3b-b5d1-9db2c02ba9a1",
   "metadata": {},
   "outputs": [
    {
     "name": "stdout",
     "output_type": "stream",
     "text": [
      "Количество полных дубликатов 0\n",
      "Доля полных дубликатов 0.0\n"
     ]
    }
   ],
   "source": [
    "print('Количество полных дубликатов', df.duplicated().sum())\n",
    "print('Доля полных дубликатов', df.duplicated().sum() / len(df))"
   ]
  },
  {
   "cell_type": "markdown",
   "id": "25402e0c-7690-47d0-87a4-0bda307e54cd",
   "metadata": {},
   "source": [
    "Изучим дубликаты без учета даты"
   ]
  },
  {
   "cell_type": "code",
   "execution_count": 103,
   "id": "72dbba9f-1040-48e0-bc02-4c1aafa94d49",
   "metadata": {},
   "outputs": [
    {
     "name": "stdout",
     "output_type": "stream",
     "text": [
      "Количество полных дубликатов без учета даты 1864\n",
      "Доля полных дубликатов без учета даты 0.27668101528870415\n"
     ]
    }
   ],
   "source": [
    "print('Количество полных дубликатов без учета даты', df.loc[:, df.columns != 'date'].duplicated().sum())\n",
    "print('Доля полных дубликатов без учета даты', df.loc[:, df.columns != 'date'].duplicated().sum() / len(df))"
   ]
  },
  {
   "cell_type": "markdown",
   "id": "63332088-ba69-4941-aeda-fdef5793f0ed",
   "metadata": {},
   "source": [
    "Теперь мы видим, что дубликаты составляют порядка 27% значений датасета.\n",
    "\n",
    "Можно предположить, что данные были некорректно загружены и из-за этого появились дубликаты.\n",
    "\n",
    "Для корректного изучения данных, необходимо удалить дубликаты"
   ]
  },
  {
   "cell_type": "code",
   "execution_count": 104,
   "id": "3aaf533b-15e7-4217-a76e-4e88098f941f",
   "metadata": {},
   "outputs": [],
   "source": [
    "# сохраним датасет до удаления дубликатов в новую переменную\n",
    "df_with_dubs = df"
   ]
  },
  {
   "cell_type": "code",
   "execution_count": 105,
   "id": "b2bcfa42-4436-4ada-94bb-a94ea6ee0e7c",
   "metadata": {},
   "outputs": [],
   "source": [
    "# удалим полные дубликаты без учета даты\n",
    "#drop_duplicates(subset=[тут указываешь столбцы, по которым дублируется])\n",
    "\n",
    "df = df.drop_duplicates(subset=['customer_id', 'order_id', 'product', 'quantity', 'price'])"
   ]
  },
  {
   "cell_type": "code",
   "execution_count": 106,
   "id": "078385ae-b3eb-4373-881e-790a2f5ab329",
   "metadata": {},
   "outputs": [
    {
     "data": {
      "text/plain": [
       "1864"
      ]
     },
     "execution_count": 106,
     "metadata": {},
     "output_type": "execute_result"
    }
   ],
   "source": [
    "# проверим очищенный датасет еще раз.\n",
    "# вычтем из неочищенного датасета очищенные, должны получить 1864\n",
    "len(df_with_dubs) - len(df)"
   ]
  },
  {
   "cell_type": "markdown",
   "id": "4cf494ec-0838-434b-b2dc-f6f14b791ffa",
   "metadata": {},
   "source": [
    "Мы удалили порядка 27% датасета. Это, несомненно, большая часть датасета, но дубликаты могут привести к сильному искажению результатов исследования."
   ]
  },
  {
   "cell_type": "markdown",
   "id": "bd49fa47-ddda-4a06-a80d-332ab7855087",
   "metadata": {},
   "source": [
    "## Добавляем дополнительные столбцы"
   ]
  },
  {
   "cell_type": "markdown",
   "id": "c8b6a7b0-26b9-48d3-9ae6-a79cbd60505c",
   "metadata": {},
   "source": [
    "Добавим новые столбцы для дат, а также для полной стоимости каждого товара (price * quantity)\n",
    "\n",
    "Изучим временной промежуток"
   ]
  },
  {
   "cell_type": "code",
   "execution_count": 107,
   "id": "b09b82ec-30fc-474e-bb34-e5b2ab136665",
   "metadata": {},
   "outputs": [
    {
     "name": "stdout",
     "output_type": "stream",
     "text": [
      "Начало изучаемого периода:  2018-10-01 00:00:00\n",
      "Конец изучаемого периода:  2019-10-31 14:00:00\n"
     ]
    }
   ],
   "source": [
    "print('Начало изучаемого периода: ', df['date'].min())\n",
    "print('Конец изучаемого периода: ', df['date'].max())"
   ]
  },
  {
   "cell_type": "markdown",
   "id": "8ff751f3-13e6-4752-af59-d6bf616353f5",
   "metadata": {},
   "source": [
    "Так как временной промежуток больше 12 месяцев, выделим месяц и год в отдельный столбец, чтобы избежать путоницы с месяцами в разных годах"
   ]
  },
  {
   "cell_type": "code",
   "execution_count": 108,
   "id": "4e22b4d2-d94e-4c39-a010-1938182e1fae",
   "metadata": {},
   "outputs": [],
   "source": [
    "df['mon_year'] = df['date'].dt.strftime('%Y-%m')"
   ]
  },
  {
   "cell_type": "markdown",
   "id": "ca118b1d-4b5e-4f81-bc07-0969ddc3d751",
   "metadata": {},
   "source": [
    "Выделим дни недели"
   ]
  },
  {
   "cell_type": "code",
   "execution_count": 109,
   "id": "8890d691-9d82-4458-92a3-d3632caae741",
   "metadata": {},
   "outputs": [],
   "source": [
    "df['day'] = df['date'].dt.strftime('%Y-%m-%d')"
   ]
  },
  {
   "cell_type": "code",
   "execution_count": 110,
   "id": "777bec67-46f7-49e9-a57b-d3d419e2b376",
   "metadata": {},
   "outputs": [
    {
     "data": {
      "text/html": [
       "<div>\n",
       "<style scoped>\n",
       "    .dataframe tbody tr th:only-of-type {\n",
       "        vertical-align: middle;\n",
       "    }\n",
       "\n",
       "    .dataframe tbody tr th {\n",
       "        vertical-align: top;\n",
       "    }\n",
       "\n",
       "    .dataframe thead th {\n",
       "        text-align: right;\n",
       "    }\n",
       "</style>\n",
       "<table border=\"1\" class=\"dataframe\">\n",
       "  <thead>\n",
       "    <tr style=\"text-align: right;\">\n",
       "      <th></th>\n",
       "      <th>date</th>\n",
       "      <th>customer_id</th>\n",
       "      <th>order_id</th>\n",
       "      <th>product</th>\n",
       "      <th>quantity</th>\n",
       "      <th>price</th>\n",
       "      <th>mon_year</th>\n",
       "      <th>day</th>\n",
       "    </tr>\n",
       "  </thead>\n",
       "  <tbody>\n",
       "    <tr>\n",
       "      <th>0</th>\n",
       "      <td>2018-10-01 00:00:00</td>\n",
       "      <td>ee47d746-6d2f-4d3c-9622-c31412542920</td>\n",
       "      <td>68477</td>\n",
       "      <td>комнатное растение в горшке алое вера, d12, h30</td>\n",
       "      <td>1</td>\n",
       "      <td>142.000</td>\n",
       "      <td>2018-10</td>\n",
       "      <td>2018-10-01</td>\n",
       "    </tr>\n",
       "    <tr>\n",
       "      <th>1</th>\n",
       "      <td>2018-10-01 00:00:00</td>\n",
       "      <td>ee47d746-6d2f-4d3c-9622-c31412542920</td>\n",
       "      <td>68477</td>\n",
       "      <td>комнатное растение в горшке кофе арабика, d12, h25</td>\n",
       "      <td>1</td>\n",
       "      <td>194.000</td>\n",
       "      <td>2018-10</td>\n",
       "      <td>2018-10-01</td>\n",
       "    </tr>\n",
       "    <tr>\n",
       "      <th>2</th>\n",
       "      <td>2018-10-01 00:00:00</td>\n",
       "      <td>ee47d746-6d2f-4d3c-9622-c31412542920</td>\n",
       "      <td>68477</td>\n",
       "      <td>радермахера d-12 см h-20 см</td>\n",
       "      <td>1</td>\n",
       "      <td>112.000</td>\n",
       "      <td>2018-10</td>\n",
       "      <td>2018-10-01</td>\n",
       "    </tr>\n",
       "    <tr>\n",
       "      <th>3</th>\n",
       "      <td>2018-10-01 00:00:00</td>\n",
       "      <td>ee47d746-6d2f-4d3c-9622-c31412542920</td>\n",
       "      <td>68477</td>\n",
       "      <td>хризолидокарпус лутесценс d-9 см</td>\n",
       "      <td>1</td>\n",
       "      <td>179.000</td>\n",
       "      <td>2018-10</td>\n",
       "      <td>2018-10-01</td>\n",
       "    </tr>\n",
       "    <tr>\n",
       "      <th>4</th>\n",
       "      <td>2018-10-01 00:00:00</td>\n",
       "      <td>ee47d746-6d2f-4d3c-9622-c31412542920</td>\n",
       "      <td>68477</td>\n",
       "      <td>циперус зумула d-12 см h-25 см</td>\n",
       "      <td>1</td>\n",
       "      <td>112.000</td>\n",
       "      <td>2018-10</td>\n",
       "      <td>2018-10-01</td>\n",
       "    </tr>\n",
       "    <tr>\n",
       "      <th>...</th>\n",
       "      <td>...</td>\n",
       "      <td>...</td>\n",
       "      <td>...</td>\n",
       "      <td>...</td>\n",
       "      <td>...</td>\n",
       "      <td>...</td>\n",
       "      <td>...</td>\n",
       "      <td>...</td>\n",
       "    </tr>\n",
       "    <tr>\n",
       "      <th>6731</th>\n",
       "      <td>2019-10-31 11:00:00</td>\n",
       "      <td>f17ed857-178e-45e1-a662-0a9dd3b58c5f</td>\n",
       "      <td>73155</td>\n",
       "      <td>мимоза стыдливая d-9 см</td>\n",
       "      <td>1</td>\n",
       "      <td>329.000</td>\n",
       "      <td>2019-10</td>\n",
       "      <td>2019-10-31</td>\n",
       "    </tr>\n",
       "    <tr>\n",
       "      <th>6732</th>\n",
       "      <td>2019-10-31 11:00:00</td>\n",
       "      <td>73d1cd35-5e5f-4629-8cf2-3fda829d4e58</td>\n",
       "      <td>73156</td>\n",
       "      <td>таз пластмассовый 40,0 л пищевой овальный (иж), 1404094</td>\n",
       "      <td>1</td>\n",
       "      <td>404.000</td>\n",
       "      <td>2019-10</td>\n",
       "      <td>2019-10-31</td>\n",
       "    </tr>\n",
       "    <tr>\n",
       "      <th>6733</th>\n",
       "      <td>2019-10-31 12:00:00</td>\n",
       "      <td>1f0a7f35-7459-4f23-b468-5e45bf481dd1</td>\n",
       "      <td>73158</td>\n",
       "      <td>сумка-тележка 2-х колесная gimi argo синяя</td>\n",
       "      <td>1</td>\n",
       "      <td>1087.000</td>\n",
       "      <td>2019-10</td>\n",
       "      <td>2019-10-31</td>\n",
       "    </tr>\n",
       "    <tr>\n",
       "      <th>6734</th>\n",
       "      <td>2019-10-31 13:00:00</td>\n",
       "      <td>25df96a7-c453-4708-9cea-a3dfc7c342ea</td>\n",
       "      <td>73162</td>\n",
       "      <td>герань домашняя (пеларгония зональная) цветущая d12, h25-30, малиновая с красным, полумахровая</td>\n",
       "      <td>1</td>\n",
       "      <td>157.000</td>\n",
       "      <td>2019-10</td>\n",
       "      <td>2019-10-31</td>\n",
       "    </tr>\n",
       "    <tr>\n",
       "      <th>6735</th>\n",
       "      <td>2019-10-31 14:00:00</td>\n",
       "      <td>73d1cd35-5e5f-4629-8cf2-3fda829d4e58</td>\n",
       "      <td>73164</td>\n",
       "      <td>таз пластмассовый со стиральной доской (иж), 1404021</td>\n",
       "      <td>1</td>\n",
       "      <td>397.000</td>\n",
       "      <td>2019-10</td>\n",
       "      <td>2019-10-31</td>\n",
       "    </tr>\n",
       "  </tbody>\n",
       "</table>\n",
       "<p>4873 rows × 8 columns</p>\n",
       "</div>"
      ],
      "text/plain": [
       "                    date                           customer_id  order_id                                                                                         product  quantity    price mon_year         day\n",
       "0    2018-10-01 00:00:00  ee47d746-6d2f-4d3c-9622-c31412542920     68477                                                 комнатное растение в горшке алое вера, d12, h30         1  142.000  2018-10  2018-10-01\n",
       "1    2018-10-01 00:00:00  ee47d746-6d2f-4d3c-9622-c31412542920     68477                                              комнатное растение в горшке кофе арабика, d12, h25         1  194.000  2018-10  2018-10-01\n",
       "2    2018-10-01 00:00:00  ee47d746-6d2f-4d3c-9622-c31412542920     68477                                                                     радермахера d-12 см h-20 см         1  112.000  2018-10  2018-10-01\n",
       "3    2018-10-01 00:00:00  ee47d746-6d2f-4d3c-9622-c31412542920     68477                                                                хризолидокарпус лутесценс d-9 см         1  179.000  2018-10  2018-10-01\n",
       "4    2018-10-01 00:00:00  ee47d746-6d2f-4d3c-9622-c31412542920     68477                                                                  циперус зумула d-12 см h-25 см         1  112.000  2018-10  2018-10-01\n",
       "...                  ...                                   ...       ...                                                                                             ...       ...      ...      ...         ...\n",
       "6731 2019-10-31 11:00:00  f17ed857-178e-45e1-a662-0a9dd3b58c5f     73155                                                                         мимоза стыдливая d-9 см         1  329.000  2019-10  2019-10-31\n",
       "6732 2019-10-31 11:00:00  73d1cd35-5e5f-4629-8cf2-3fda829d4e58     73156                                         таз пластмассовый 40,0 л пищевой овальный (иж), 1404094         1  404.000  2019-10  2019-10-31\n",
       "6733 2019-10-31 12:00:00  1f0a7f35-7459-4f23-b468-5e45bf481dd1     73158                                                      сумка-тележка 2-х колесная gimi argo синяя         1 1087.000  2019-10  2019-10-31\n",
       "6734 2019-10-31 13:00:00  25df96a7-c453-4708-9cea-a3dfc7c342ea     73162  герань домашняя (пеларгония зональная) цветущая d12, h25-30, малиновая с красным, полумахровая         1  157.000  2019-10  2019-10-31\n",
       "6735 2019-10-31 14:00:00  73d1cd35-5e5f-4629-8cf2-3fda829d4e58     73164                                            таз пластмассовый со стиральной доской (иж), 1404021         1  397.000  2019-10  2019-10-31\n",
       "\n",
       "[4873 rows x 8 columns]"
      ]
     },
     "execution_count": 110,
     "metadata": {},
     "output_type": "execute_result"
    }
   ],
   "source": [
    "df"
   ]
  },
  {
   "cell_type": "code",
   "execution_count": 111,
   "id": "dab7a5d4-1db0-415e-a519-12844a7bdb1a",
   "metadata": {},
   "outputs": [],
   "source": [
    "df['weekday'] = df['date'].dt.dayofweek + 1"
   ]
  },
  {
   "cell_type": "markdown",
   "id": "7524f378-1c13-461e-9f16-61beb7028915",
   "metadata": {},
   "source": [
    "Также выделим часы"
   ]
  },
  {
   "cell_type": "code",
   "execution_count": 112,
   "id": "57a1d864-d12b-4b57-a4ef-fe2a0c3274f5",
   "metadata": {},
   "outputs": [],
   "source": [
    "df['hour'] = df['date'].dt.hour"
   ]
  },
  {
   "cell_type": "markdown",
   "id": "5d23de70-eead-439a-a12e-4912e42d3c46",
   "metadata": {},
   "source": [
    "Также добавим столбец с временами года"
   ]
  },
  {
   "cell_type": "code",
   "execution_count": 113,
   "id": "1cea128e-c2a5-413e-9d3a-e92ce07e4ee7",
   "metadata": {},
   "outputs": [],
   "source": [
    "df['season'] = (df['date'].dt.month%12 + 3)//3\n",
    "\n",
    "seasons = {\n",
    "             1: 'Зима',\n",
    "             2: 'Весна',\n",
    "             3: 'Лето',\n",
    "             4: 'Осень'\n",
    "}\n",
    "\n",
    "df['season_name'] = df['season'].map(seasons)"
   ]
  },
  {
   "cell_type": "markdown",
   "id": "228209d7-fe5b-4039-8165-3b68cc46a990",
   "metadata": {},
   "source": [
    "Теперь добавим столбец с полной стоимостью товара. В датасете в строке с товаром указана стоимость одной единицы (столбец price) и количество единиц (quantity).\n",
    "\n",
    "Добавим столбец с полной стоимостью."
   ]
  },
  {
   "cell_type": "code",
   "execution_count": 114,
   "id": "235bd9b8-fd35-453e-983e-565795b31380",
   "metadata": {},
   "outputs": [],
   "source": [
    "df['total_cost'] = df['price'] * df['quantity']"
   ]
  },
  {
   "cell_type": "code",
   "execution_count": 115,
   "id": "fec71b1c-ea4c-43f2-bc53-87cceb7dca2b",
   "metadata": {},
   "outputs": [
    {
     "data": {
      "text/html": [
       "<div>\n",
       "<style scoped>\n",
       "    .dataframe tbody tr th:only-of-type {\n",
       "        vertical-align: middle;\n",
       "    }\n",
       "\n",
       "    .dataframe tbody tr th {\n",
       "        vertical-align: top;\n",
       "    }\n",
       "\n",
       "    .dataframe thead th {\n",
       "        text-align: right;\n",
       "    }\n",
       "</style>\n",
       "<table border=\"1\" class=\"dataframe\">\n",
       "  <thead>\n",
       "    <tr style=\"text-align: right;\">\n",
       "      <th></th>\n",
       "      <th>date</th>\n",
       "      <th>customer_id</th>\n",
       "      <th>order_id</th>\n",
       "      <th>product</th>\n",
       "      <th>quantity</th>\n",
       "      <th>price</th>\n",
       "      <th>mon_year</th>\n",
       "      <th>day</th>\n",
       "      <th>weekday</th>\n",
       "      <th>hour</th>\n",
       "      <th>season</th>\n",
       "      <th>season_name</th>\n",
       "      <th>total_cost</th>\n",
       "    </tr>\n",
       "  </thead>\n",
       "  <tbody>\n",
       "    <tr>\n",
       "      <th>3890</th>\n",
       "      <td>2019-05-17 18:00:00</td>\n",
       "      <td>b6095dc9-1580-4d1f-8ba3-a554a8dab3bd</td>\n",
       "      <td>14789</td>\n",
       "      <td>арбуз волгоградец р-9</td>\n",
       "      <td>5</td>\n",
       "      <td>38.000</td>\n",
       "      <td>2019-05</td>\n",
       "      <td>2019-05-17</td>\n",
       "      <td>5</td>\n",
       "      <td>18</td>\n",
       "      <td>2</td>\n",
       "      <td>Весна</td>\n",
       "      <td>190.000</td>\n",
       "    </tr>\n",
       "    <tr>\n",
       "      <th>6324</th>\n",
       "      <td>2019-09-13 14:00:00</td>\n",
       "      <td>c8d2d608-b612-4ab0-95e1-7e994e1a06ea</td>\n",
       "      <td>72621</td>\n",
       "      <td>герань домашняя (пеларгония зональная) цветущая d12, h25-30, лососевая, махровая</td>\n",
       "      <td>1</td>\n",
       "      <td>157.000</td>\n",
       "      <td>2019-09</td>\n",
       "      <td>2019-09-13</td>\n",
       "      <td>5</td>\n",
       "      <td>14</td>\n",
       "      <td>4</td>\n",
       "      <td>Осень</td>\n",
       "      <td>157.000</td>\n",
       "    </tr>\n",
       "    <tr>\n",
       "      <th>6011</th>\n",
       "      <td>2019-08-01 10:00:00</td>\n",
       "      <td>bf969368-ffae-40a0-89e1-cc88f4a3100b</td>\n",
       "      <td>72168</td>\n",
       "      <td>мята махито japanosche mojito minze d-7 см h-10 см укорененный черенок</td>\n",
       "      <td>1</td>\n",
       "      <td>74.000</td>\n",
       "      <td>2019-08</td>\n",
       "      <td>2019-08-01</td>\n",
       "      <td>4</td>\n",
       "      <td>10</td>\n",
       "      <td>3</td>\n",
       "      <td>Лето</td>\n",
       "      <td>74.000</td>\n",
       "    </tr>\n",
       "  </tbody>\n",
       "</table>\n",
       "</div>"
      ],
      "text/plain": [
       "                    date                           customer_id  order_id                                                                           product  quantity   price mon_year         day  weekday  hour  season season_name  total_cost\n",
       "3890 2019-05-17 18:00:00  b6095dc9-1580-4d1f-8ba3-a554a8dab3bd     14789                                                             арбуз волгоградец р-9         5  38.000  2019-05  2019-05-17        5    18       2       Весна     190.000\n",
       "6324 2019-09-13 14:00:00  c8d2d608-b612-4ab0-95e1-7e994e1a06ea     72621  герань домашняя (пеларгония зональная) цветущая d12, h25-30, лососевая, махровая         1 157.000  2019-09  2019-09-13        5    14       4       Осень     157.000\n",
       "6011 2019-08-01 10:00:00  bf969368-ffae-40a0-89e1-cc88f4a3100b     72168            мята махито japanosche mojito minze d-7 см h-10 см укорененный черенок         1  74.000  2019-08  2019-08-01        4    10       3        Лето      74.000"
      ]
     },
     "execution_count": 115,
     "metadata": {},
     "output_type": "execute_result"
    }
   ],
   "source": [
    "df.sample(3)"
   ]
  },
  {
   "cell_type": "markdown",
   "id": "7cb16c33-06da-434e-ae91-a28b93f6cdf3",
   "metadata": {},
   "source": [
    "# Исследовательский анализ данных"
   ]
  },
  {
   "cell_type": "markdown",
   "id": "98e1058a-dec3-420b-8ec2-ee46769aae94",
   "metadata": {},
   "source": [
    "## Изучить распределение значений (аномалии и выбросы)"
   ]
  },
  {
   "cell_type": "markdown",
   "id": "2507718d-c3f5-4029-85af-2fcc010f7559",
   "metadata": {},
   "source": [
    "Посмотрим на общее распределение значений"
   ]
  },
  {
   "cell_type": "code",
   "execution_count": 116,
   "id": "6e707fe8-a1b0-492c-bc45-136d1d0682fa",
   "metadata": {},
   "outputs": [
    {
     "data": {
      "image/png": "[encoded data removed]",
      "text/plain": [
       "<Figure size 1000x1000 with 9 Axes>"
      ]
     },
     "metadata": {},
     "output_type": "display_data"
    }
   ],
   "source": [
    "df.hist(figsize=(10,10))\n",
    "plt.show()"
   ]
  },
  {
   "cell_type": "markdown",
   "id": "a8dd27ea-7280-451e-a0ef-6ec0ceadd987",
   "metadata": {},
   "source": [
    "Изучим значения из каждого столбца подробнее\n",
    "\n",
    "Проанализируем customer id. Посмотрим на количество уникальных пользователей в датасете"
   ]
  },
  {
   "cell_type": "code",
   "execution_count": 117,
   "id": "d044557a-a06b-4645-9df6-9a2a7cb22868",
   "metadata": {},
   "outputs": [
    {
     "name": "stdout",
     "output_type": "stream",
     "text": [
      "Количество уникальных id 2451\n",
      "Доля уникальных id 0.5029755797250154\n"
     ]
    }
   ],
   "source": [
    "print('Количество уникальных id', df['customer_id'].nunique())\n",
    "print('Доля уникальных id', df['customer_id'].nunique() / len(df['customer_id']))"
   ]
  },
  {
   "cell_type": "markdown",
   "id": "bc1594f1-b26f-4029-ae35-b73cc2769b2a",
   "metadata": {},
   "source": [
    "Мы видим, что уникальные customer id составляют примерно 50% от всех значений в этом столбце.\n",
    "\n",
    "Можно предположить, что большинство пользователей совершает несколько заказов\n",
    "\n",
    "Посмотрим на столбец `quantity`"
   ]
  },
  {
   "cell_type": "code",
   "execution_count": 118,
   "id": "09d53bbe-8ba5-44b2-803d-f28a64d0da49",
   "metadata": {},
   "outputs": [
    {
     "data": {
      "image/png": "[encoded data removed]",
      "text/plain": [
       "<Figure size 1000x500 with 1 Axes>"
      ]
     },
     "metadata": {},
     "output_type": "display_data"
    }
   ],
   "source": [
    "df['quantity'].hist(figsize=(10,5))\n",
    "plt.show()"
   ]
  },
  {
   "cell_type": "code",
   "execution_count": 119,
   "id": "bf49c413-395f-41a4-ac7f-1b8ac589a125",
   "metadata": {},
   "outputs": [
    {
     "data": {
      "image/png": "[encoded data removed]",
      "text/plain": [
       "<Figure size 1000x500 with 1 Axes>"
      ]
     },
     "metadata": {},
     "output_type": "display_data"
    }
   ],
   "source": [
    "df['quantity'][df['quantity'] <= 25].hist(figsize=(10,5))\n",
    "plt.show()"
   ]
  },
  {
   "cell_type": "code",
   "execution_count": 120,
   "id": "bf1a3d61-ae82-42f6-8cce-baef8f370d88",
   "metadata": {},
   "outputs": [
    {
     "data": {
      "text/plain": [
       "count   4873.000\n",
       "mean       2.837\n",
       "std       17.607\n",
       "min        1.000\n",
       "25%        1.000\n",
       "50%        1.000\n",
       "75%        1.000\n",
       "max     1000.000\n",
       "Name: quantity, dtype: float64"
      ]
     },
     "execution_count": 120,
     "metadata": {},
     "output_type": "execute_result"
    }
   ],
   "source": [
    "df['quantity'].describe()"
   ]
  },
  {
   "cell_type": "markdown",
   "id": "03dadeee-1140-4a50-b875-0f2f7b9f6095",
   "metadata": {},
   "source": [
    "В среднем товары берут по 2 штуки\n",
    "\n",
    "Наибольшее значение - 1000, посмотрим, какой товар берут в таком количестве"
   ]
  },
  {
   "cell_type": "code",
   "execution_count": 121,
   "id": "1e9e8533-85d7-451f-b6cd-ba378c2130cb",
   "metadata": {},
   "outputs": [
    {
     "data": {
      "text/html": [
       "<div>\n",
       "<style scoped>\n",
       "    .dataframe tbody tr th:only-of-type {\n",
       "        vertical-align: middle;\n",
       "    }\n",
       "\n",
       "    .dataframe tbody tr th {\n",
       "        vertical-align: top;\n",
       "    }\n",
       "\n",
       "    .dataframe thead th {\n",
       "        text-align: right;\n",
       "    }\n",
       "</style>\n",
       "<table border=\"1\" class=\"dataframe\">\n",
       "  <thead>\n",
       "    <tr style=\"text-align: right;\">\n",
       "      <th></th>\n",
       "      <th>date</th>\n",
       "      <th>customer_id</th>\n",
       "      <th>order_id</th>\n",
       "      <th>product</th>\n",
       "      <th>quantity</th>\n",
       "      <th>price</th>\n",
       "      <th>mon_year</th>\n",
       "      <th>day</th>\n",
       "      <th>weekday</th>\n",
       "      <th>hour</th>\n",
       "      <th>season</th>\n",
       "      <th>season_name</th>\n",
       "      <th>total_cost</th>\n",
       "    </tr>\n",
       "  </thead>\n",
       "  <tbody>\n",
       "    <tr>\n",
       "      <th>5456</th>\n",
       "      <td>2019-06-18 15:00:00</td>\n",
       "      <td>312e9a3e-5fca-43ff-a6a1-892d2b2d5ba6</td>\n",
       "      <td>71743</td>\n",
       "      <td>вантуз с деревянной ручкой d14 см красный, burstenmann, 0522/0000</td>\n",
       "      <td>1000</td>\n",
       "      <td>675.000</td>\n",
       "      <td>2019-06</td>\n",
       "      <td>2019-06-18</td>\n",
       "      <td>2</td>\n",
       "      <td>15</td>\n",
       "      <td>3</td>\n",
       "      <td>Лето</td>\n",
       "      <td>675000.000</td>\n",
       "    </tr>\n",
       "  </tbody>\n",
       "</table>\n",
       "</div>"
      ],
      "text/plain": [
       "                    date                           customer_id  order_id                                                            product  quantity   price mon_year         day  weekday  hour  season season_name  total_cost\n",
       "5456 2019-06-18 15:00:00  312e9a3e-5fca-43ff-a6a1-892d2b2d5ba6     71743  вантуз с деревянной ручкой d14 см красный, burstenmann, 0522/0000      1000 675.000  2019-06  2019-06-18        2    15       3        Лето  675000.000"
      ]
     },
     "execution_count": 121,
     "metadata": {},
     "output_type": "execute_result"
    }
   ],
   "source": [
    "df[df['quantity'] >= 1000]"
   ]
  },
  {
   "cell_type": "markdown",
   "id": "9bdc4cd7-2f57-4c92-9d74-5f07057f7065",
   "metadata": {},
   "source": [
    "1000 вантузов - похоже на оптовый заказ, предлагаю удалить его из датафрейма"
   ]
  },
  {
   "cell_type": "code",
   "execution_count": 122,
   "id": "9ed9463a-f999-4f40-8ff3-d0918f9ad4ed",
   "metadata": {},
   "outputs": [],
   "source": [
    "df = df[df['quantity'] != 1000]"
   ]
  },
  {
   "cell_type": "markdown",
   "id": "25e43525-79a4-4624-aab0-a141bb9abc0b",
   "metadata": {},
   "source": [
    "## Анализ динамики продаж (по дням, часам, месяцам)"
   ]
  },
  {
   "cell_type": "markdown",
   "id": "af726506-c562-484c-bc68-ca0a391d089b",
   "metadata": {},
   "source": [
    "### Анализ динамики продаж по часам"
   ]
  },
  {
   "cell_type": "code",
   "execution_count": 123,
   "id": "7342a510-9c81-4584-ab94-7eba8fd4c6a6",
   "metadata": {},
   "outputs": [
    {
     "data": {
      "text/html": [
       "<div>\n",
       "<style scoped>\n",
       "    .dataframe tbody tr th:only-of-type {\n",
       "        vertical-align: middle;\n",
       "    }\n",
       "\n",
       "    .dataframe tbody tr th {\n",
       "        vertical-align: top;\n",
       "    }\n",
       "\n",
       "    .dataframe thead th {\n",
       "        text-align: right;\n",
       "    }\n",
       "</style>\n",
       "<table border=\"1\" class=\"dataframe\">\n",
       "  <thead>\n",
       "    <tr style=\"text-align: right;\">\n",
       "      <th></th>\n",
       "      <th>hour</th>\n",
       "      <th>customer_id</th>\n",
       "    </tr>\n",
       "  </thead>\n",
       "  <tbody>\n",
       "    <tr>\n",
       "      <th>0</th>\n",
       "      <td>13</td>\n",
       "      <td>438</td>\n",
       "    </tr>\n",
       "    <tr>\n",
       "      <th>1</th>\n",
       "      <td>11</td>\n",
       "      <td>394</td>\n",
       "    </tr>\n",
       "    <tr>\n",
       "      <th>2</th>\n",
       "      <td>14</td>\n",
       "      <td>383</td>\n",
       "    </tr>\n",
       "    <tr>\n",
       "      <th>3</th>\n",
       "      <td>12</td>\n",
       "      <td>352</td>\n",
       "    </tr>\n",
       "    <tr>\n",
       "      <th>4</th>\n",
       "      <td>16</td>\n",
       "      <td>349</td>\n",
       "    </tr>\n",
       "    <tr>\n",
       "      <th>5</th>\n",
       "      <td>10</td>\n",
       "      <td>336</td>\n",
       "    </tr>\n",
       "    <tr>\n",
       "      <th>6</th>\n",
       "      <td>9</td>\n",
       "      <td>320</td>\n",
       "    </tr>\n",
       "    <tr>\n",
       "      <th>7</th>\n",
       "      <td>15</td>\n",
       "      <td>306</td>\n",
       "    </tr>\n",
       "    <tr>\n",
       "      <th>8</th>\n",
       "      <td>17</td>\n",
       "      <td>298</td>\n",
       "    </tr>\n",
       "    <tr>\n",
       "      <th>9</th>\n",
       "      <td>19</td>\n",
       "      <td>261</td>\n",
       "    </tr>\n",
       "    <tr>\n",
       "      <th>10</th>\n",
       "      <td>8</td>\n",
       "      <td>240</td>\n",
       "    </tr>\n",
       "    <tr>\n",
       "      <th>11</th>\n",
       "      <td>21</td>\n",
       "      <td>237</td>\n",
       "    </tr>\n",
       "    <tr>\n",
       "      <th>12</th>\n",
       "      <td>22</td>\n",
       "      <td>236</td>\n",
       "    </tr>\n",
       "    <tr>\n",
       "      <th>13</th>\n",
       "      <td>20</td>\n",
       "      <td>200</td>\n",
       "    </tr>\n",
       "    <tr>\n",
       "      <th>14</th>\n",
       "      <td>18</td>\n",
       "      <td>163</td>\n",
       "    </tr>\n",
       "    <tr>\n",
       "      <th>15</th>\n",
       "      <td>7</td>\n",
       "      <td>83</td>\n",
       "    </tr>\n",
       "    <tr>\n",
       "      <th>16</th>\n",
       "      <td>23</td>\n",
       "      <td>73</td>\n",
       "    </tr>\n",
       "    <tr>\n",
       "      <th>17</th>\n",
       "      <td>0</td>\n",
       "      <td>50</td>\n",
       "    </tr>\n",
       "    <tr>\n",
       "      <th>18</th>\n",
       "      <td>1</td>\n",
       "      <td>41</td>\n",
       "    </tr>\n",
       "    <tr>\n",
       "      <th>19</th>\n",
       "      <td>5</td>\n",
       "      <td>36</td>\n",
       "    </tr>\n",
       "    <tr>\n",
       "      <th>20</th>\n",
       "      <td>6</td>\n",
       "      <td>28</td>\n",
       "    </tr>\n",
       "    <tr>\n",
       "      <th>21</th>\n",
       "      <td>4</td>\n",
       "      <td>25</td>\n",
       "    </tr>\n",
       "    <tr>\n",
       "      <th>22</th>\n",
       "      <td>2</td>\n",
       "      <td>16</td>\n",
       "    </tr>\n",
       "    <tr>\n",
       "      <th>23</th>\n",
       "      <td>3</td>\n",
       "      <td>7</td>\n",
       "    </tr>\n",
       "  </tbody>\n",
       "</table>\n",
       "</div>"
      ],
      "text/plain": [
       "    hour  customer_id\n",
       "0     13          438\n",
       "1     11          394\n",
       "2     14          383\n",
       "3     12          352\n",
       "4     16          349\n",
       "5     10          336\n",
       "6      9          320\n",
       "7     15          306\n",
       "8     17          298\n",
       "9     19          261\n",
       "10     8          240\n",
       "11    21          237\n",
       "12    22          236\n",
       "13    20          200\n",
       "14    18          163\n",
       "15     7           83\n",
       "16    23           73\n",
       "17     0           50\n",
       "18     1           41\n",
       "19     5           36\n",
       "20     6           28\n",
       "21     4           25\n",
       "22     2           16\n",
       "23     3            7"
      ]
     },
     "metadata": {},
     "output_type": "display_data"
    }
   ],
   "source": [
    "hour_customer_id_pivot = (\n",
    "    df\n",
    "    .pivot_table(\n",
    "        index='hour', \n",
    "        values='customer_id', \n",
    "        aggfunc='count'\n",
    "    )\n",
    "    .sort_values(\n",
    "        by='customer_id', \n",
    "        ascending=False\n",
    "    )\n",
    "    .rename_axis(\n",
    "        None, \n",
    "        axis=1\n",
    "    ).reset_index())\n",
    "\n",
    "display(hour_customer_id_pivot)"
   ]
  },
  {
   "cell_type": "code",
   "execution_count": 124,
   "id": "580fa330-307f-42a3-85e7-b5770c6d49a0",
   "metadata": {},
   "outputs": [
    {
     "data": {
      "image/png": "[encoded data removed]",
      "text/plain": [
       "<Figure size 800x700 with 1 Axes>"
      ]
     },
     "metadata": {},
     "output_type": "display_data"
    }
   ],
   "source": [
    "f, ax = plt.subplots(figsize = (8, 7))\n",
    "ax = sns.barplot(x = hour_customer_id_pivot['hour'], y = 'customer_id', \\\n",
    "                 data = hour_customer_id_pivot.sort_values('customer_id', ascending = False), \\\n",
    "                 orient = 'v')\n",
    "plt.title('Анализ количества посетителей')\n",
    "#plt.xticks(rotation=45)\n",
    "ax.set_xlabel('Час') \n",
    "ax.set_ylabel('Количество посетителей')\n",
    "plt.grid()\n",
    "sns.despine()\n",
    "plt.show()"
   ]
  },
  {
   "cell_type": "markdown",
   "id": "f264ab1d-b872-4092-ab5c-d16aea7a907d",
   "metadata": {},
   "source": [
    "Наибольшее число посетителей приходится на промежуток с 9 утра по 16 часов дня.\n",
    "\n",
    "до 8 утра сайт заказы почти не совершаются"
   ]
  },
  {
   "cell_type": "markdown",
   "id": "0077e2d2-7ccd-4803-9a9d-c0af1e0bf297",
   "metadata": {},
   "source": [
    "### Анализ динамики продаж по дням недели"
   ]
  },
  {
   "cell_type": "code",
   "execution_count": 125,
   "id": "c03bc5ea-b809-4288-9c05-f13bf096f144",
   "metadata": {},
   "outputs": [
    {
     "data": {
      "text/html": [
       "<div>\n",
       "<style scoped>\n",
       "    .dataframe tbody tr th:only-of-type {\n",
       "        vertical-align: middle;\n",
       "    }\n",
       "\n",
       "    .dataframe tbody tr th {\n",
       "        vertical-align: top;\n",
       "    }\n",
       "\n",
       "    .dataframe thead th {\n",
       "        text-align: right;\n",
       "    }\n",
       "</style>\n",
       "<table border=\"1\" class=\"dataframe\">\n",
       "  <thead>\n",
       "    <tr style=\"text-align: right;\">\n",
       "      <th></th>\n",
       "      <th>weekday</th>\n",
       "      <th>customer_id</th>\n",
       "    </tr>\n",
       "  </thead>\n",
       "  <tbody>\n",
       "    <tr>\n",
       "      <th>0</th>\n",
       "      <td>1</td>\n",
       "      <td>870</td>\n",
       "    </tr>\n",
       "    <tr>\n",
       "      <th>1</th>\n",
       "      <td>2</td>\n",
       "      <td>805</td>\n",
       "    </tr>\n",
       "    <tr>\n",
       "      <th>2</th>\n",
       "      <td>4</td>\n",
       "      <td>786</td>\n",
       "    </tr>\n",
       "    <tr>\n",
       "      <th>3</th>\n",
       "      <td>3</td>\n",
       "      <td>717</td>\n",
       "    </tr>\n",
       "    <tr>\n",
       "      <th>4</th>\n",
       "      <td>5</td>\n",
       "      <td>633</td>\n",
       "    </tr>\n",
       "    <tr>\n",
       "      <th>5</th>\n",
       "      <td>7</td>\n",
       "      <td>588</td>\n",
       "    </tr>\n",
       "    <tr>\n",
       "      <th>6</th>\n",
       "      <td>6</td>\n",
       "      <td>473</td>\n",
       "    </tr>\n",
       "  </tbody>\n",
       "</table>\n",
       "</div>"
      ],
      "text/plain": [
       "   weekday  customer_id\n",
       "0        1          870\n",
       "1        2          805\n",
       "2        4          786\n",
       "3        3          717\n",
       "4        5          633\n",
       "5        7          588\n",
       "6        6          473"
      ]
     },
     "metadata": {},
     "output_type": "display_data"
    }
   ],
   "source": [
    "weekday_customer_id_pivot = (\n",
    "    df\n",
    "    .pivot_table(\n",
    "        index='weekday', \n",
    "        values='customer_id', \n",
    "        aggfunc='count'\n",
    "    )\n",
    "    .sort_values(\n",
    "        by='customer_id', \n",
    "        ascending=False\n",
    "    )\n",
    "    .rename_axis(\n",
    "        None, \n",
    "        axis=1\n",
    "    ).reset_index())\n",
    "\n",
    "display(weekday_customer_id_pivot)"
   ]
  },
  {
   "cell_type": "code",
   "execution_count": 126,
   "id": "bb2e4c6d-3cf0-4acc-bb0d-f86aa98ba527",
   "metadata": {},
   "outputs": [
    {
     "data": {
      "image/png": "[encoded data removed]",
      "text/plain": [
       "<Figure size 800x700 with 1 Axes>"
      ]
     },
     "metadata": {},
     "output_type": "display_data"
    }
   ],
   "source": [
    "f, ax = plt.subplots(figsize = (8, 7))\n",
    "ax = sns.barplot(x = weekday_customer_id_pivot['weekday'], y = 'customer_id', \\\n",
    "                 data = weekday_customer_id_pivot.sort_values('customer_id', ascending = False), \\\n",
    "                 orient = 'v')\n",
    "plt.title('Анализ количества посетителей по дням недели')\n",
    "#plt.xticks(rotation=45)\n",
    "ax.set_xlabel('День недели') \n",
    "ax.set_ylabel('Количество посетителей')\n",
    "plt.grid()\n",
    "sns.despine()\n",
    "plt.show()"
   ]
  },
  {
   "cell_type": "markdown",
   "id": "fdaba148-f4c5-467d-8a7a-9de8d22ee3cc",
   "metadata": {},
   "source": [
    "Больше всего посетителей приходится на:\n",
    "- понедельник\n",
    "- вторник\n",
    "- четверг\n",
    "\n",
    "Меньше всего посетителей в субботу."
   ]
  },
  {
   "cell_type": "markdown",
   "id": "79a4d089-2498-4754-b4d1-047d2fc49d92",
   "metadata": {},
   "source": [
    "### Анализ динамики продаж по месяцам"
   ]
  },
  {
   "cell_type": "code",
   "execution_count": 127,
   "id": "24b7058c-8011-4111-b3f0-2387d26102c2",
   "metadata": {},
   "outputs": [
    {
     "data": {
      "text/html": [
       "<div>\n",
       "<style scoped>\n",
       "    .dataframe tbody tr th:only-of-type {\n",
       "        vertical-align: middle;\n",
       "    }\n",
       "\n",
       "    .dataframe tbody tr th {\n",
       "        vertical-align: top;\n",
       "    }\n",
       "\n",
       "    .dataframe thead th {\n",
       "        text-align: right;\n",
       "    }\n",
       "</style>\n",
       "<table border=\"1\" class=\"dataframe\">\n",
       "  <thead>\n",
       "    <tr style=\"text-align: right;\">\n",
       "      <th></th>\n",
       "      <th>mon_year</th>\n",
       "      <th>customer_id</th>\n",
       "    </tr>\n",
       "  </thead>\n",
       "  <tbody>\n",
       "    <tr>\n",
       "      <th>0</th>\n",
       "      <td>2018-10</td>\n",
       "      <td>181</td>\n",
       "    </tr>\n",
       "    <tr>\n",
       "      <th>1</th>\n",
       "      <td>2018-11</td>\n",
       "      <td>178</td>\n",
       "    </tr>\n",
       "    <tr>\n",
       "      <th>2</th>\n",
       "      <td>2018-12</td>\n",
       "      <td>238</td>\n",
       "    </tr>\n",
       "    <tr>\n",
       "      <th>3</th>\n",
       "      <td>2019-01</td>\n",
       "      <td>152</td>\n",
       "    </tr>\n",
       "    <tr>\n",
       "      <th>4</th>\n",
       "      <td>2019-02</td>\n",
       "      <td>248</td>\n",
       "    </tr>\n",
       "    <tr>\n",
       "      <th>5</th>\n",
       "      <td>2019-03</td>\n",
       "      <td>237</td>\n",
       "    </tr>\n",
       "    <tr>\n",
       "      <th>6</th>\n",
       "      <td>2019-04</td>\n",
       "      <td>239</td>\n",
       "    </tr>\n",
       "    <tr>\n",
       "      <th>7</th>\n",
       "      <td>2019-05</td>\n",
       "      <td>173</td>\n",
       "    </tr>\n",
       "    <tr>\n",
       "      <th>8</th>\n",
       "      <td>2019-06</td>\n",
       "      <td>155</td>\n",
       "    </tr>\n",
       "    <tr>\n",
       "      <th>9</th>\n",
       "      <td>2019-07</td>\n",
       "      <td>186</td>\n",
       "    </tr>\n",
       "    <tr>\n",
       "      <th>10</th>\n",
       "      <td>2019-08</td>\n",
       "      <td>166</td>\n",
       "    </tr>\n",
       "    <tr>\n",
       "      <th>11</th>\n",
       "      <td>2019-09</td>\n",
       "      <td>175</td>\n",
       "    </tr>\n",
       "    <tr>\n",
       "      <th>12</th>\n",
       "      <td>2019-10</td>\n",
       "      <td>174</td>\n",
       "    </tr>\n",
       "  </tbody>\n",
       "</table>\n",
       "</div>"
      ],
      "text/plain": [
       "   mon_year  customer_id\n",
       "0   2018-10          181\n",
       "1   2018-11          178\n",
       "2   2018-12          238\n",
       "3   2019-01          152\n",
       "4   2019-02          248\n",
       "5   2019-03          237\n",
       "6   2019-04          239\n",
       "7   2019-05          173\n",
       "8   2019-06          155\n",
       "9   2019-07          186\n",
       "10  2019-08          166\n",
       "11  2019-09          175\n",
       "12  2019-10          174"
      ]
     },
     "metadata": {},
     "output_type": "display_data"
    }
   ],
   "source": [
    "month_customer_id_pivot = (\n",
    "    df\n",
    "    .pivot_table(\n",
    "        index='mon_year', \n",
    "        values='customer_id', \n",
    "        aggfunc='nunique'\n",
    "    )\n",
    "    .sort_values(\n",
    "        by='mon_year', \n",
    "        ascending=True\n",
    "    )\n",
    "    .rename_axis(\n",
    "        None, \n",
    "        axis=1\n",
    "    ).reset_index())\n",
    "\n",
    "display(month_customer_id_pivot)"
   ]
  },
  {
   "cell_type": "code",
   "execution_count": 128,
   "id": "55e071ec-30eb-4a8f-99a0-728c03f4b6bd",
   "metadata": {},
   "outputs": [
    {
     "data": {
      "image/png": "[encoded data removed]",
      "text/plain": [
       "<Figure size 800x700 with 1 Axes>"
      ]
     },
     "metadata": {},
     "output_type": "display_data"
    }
   ],
   "source": [
    "f, ax = plt.subplots(figsize = (8, 7))\n",
    "ax = sns.barplot(x = month_customer_id_pivot['mon_year'], y = 'customer_id', \\\n",
    "                 data = month_customer_id_pivot.sort_values('mon_year', ascending = True), \\\n",
    "                 orient = 'v')\n",
    "plt.title('Анализ продаж по месяцам')\n",
    "plt.xticks(rotation=45)\n",
    "ax.set_xlabel('Месяц') \n",
    "ax.set_ylabel('Количество уникальных посетителей')\n",
    "plt.grid()\n",
    "sns.despine()\n",
    "plt.show()"
   ]
  },
  {
   "cell_type": "markdown",
   "id": "b4af94f5-189d-479d-961c-90438feec49e",
   "metadata": {},
   "source": [
    "Больше всего уникальных посетителей было в декабре 2018, феврале 2019 и апреле 2019.\n",
    "\n",
    "А теперь посмотрим на суммарную выручку в разрезе месяцев"
   ]
  },
  {
   "cell_type": "code",
   "execution_count": 129,
   "id": "1e9ee090-81df-482c-aa0e-3f76332f626c",
   "metadata": {},
   "outputs": [
    {
     "data": {
      "text/html": [
       "<div>\n",
       "<style scoped>\n",
       "    .dataframe tbody tr th:only-of-type {\n",
       "        vertical-align: middle;\n",
       "    }\n",
       "\n",
       "    .dataframe tbody tr th {\n",
       "        vertical-align: top;\n",
       "    }\n",
       "\n",
       "    .dataframe thead th {\n",
       "        text-align: right;\n",
       "    }\n",
       "</style>\n",
       "<table border=\"1\" class=\"dataframe\">\n",
       "  <thead>\n",
       "    <tr style=\"text-align: right;\">\n",
       "      <th></th>\n",
       "      <th>mon_year</th>\n",
       "      <th>total_cost</th>\n",
       "    </tr>\n",
       "  </thead>\n",
       "  <tbody>\n",
       "    <tr>\n",
       "      <th>0</th>\n",
       "      <td>2018-10</td>\n",
       "      <td>351910.000</td>\n",
       "    </tr>\n",
       "    <tr>\n",
       "      <th>1</th>\n",
       "      <td>2018-11</td>\n",
       "      <td>359348.000</td>\n",
       "    </tr>\n",
       "    <tr>\n",
       "      <th>2</th>\n",
       "      <td>2018-12</td>\n",
       "      <td>357044.000</td>\n",
       "    </tr>\n",
       "    <tr>\n",
       "      <th>3</th>\n",
       "      <td>2019-01</td>\n",
       "      <td>235671.000</td>\n",
       "    </tr>\n",
       "    <tr>\n",
       "      <th>4</th>\n",
       "      <td>2019-02</td>\n",
       "      <td>308055.000</td>\n",
       "    </tr>\n",
       "    <tr>\n",
       "      <th>5</th>\n",
       "      <td>2019-03</td>\n",
       "      <td>256348.000</td>\n",
       "    </tr>\n",
       "    <tr>\n",
       "      <th>6</th>\n",
       "      <td>2019-04</td>\n",
       "      <td>318171.000</td>\n",
       "    </tr>\n",
       "    <tr>\n",
       "      <th>7</th>\n",
       "      <td>2019-05</td>\n",
       "      <td>242375.000</td>\n",
       "    </tr>\n",
       "    <tr>\n",
       "      <th>8</th>\n",
       "      <td>2019-06</td>\n",
       "      <td>231270.000</td>\n",
       "    </tr>\n",
       "    <tr>\n",
       "      <th>9</th>\n",
       "      <td>2019-07</td>\n",
       "      <td>235410.000</td>\n",
       "    </tr>\n",
       "    <tr>\n",
       "      <th>10</th>\n",
       "      <td>2019-08</td>\n",
       "      <td>172443.000</td>\n",
       "    </tr>\n",
       "    <tr>\n",
       "      <th>11</th>\n",
       "      <td>2019-09</td>\n",
       "      <td>181082.000</td>\n",
       "    </tr>\n",
       "    <tr>\n",
       "      <th>12</th>\n",
       "      <td>2019-10</td>\n",
       "      <td>218027.000</td>\n",
       "    </tr>\n",
       "  </tbody>\n",
       "</table>\n",
       "</div>"
      ],
      "text/plain": [
       "   mon_year  total_cost\n",
       "0   2018-10  351910.000\n",
       "1   2018-11  359348.000\n",
       "2   2018-12  357044.000\n",
       "3   2019-01  235671.000\n",
       "4   2019-02  308055.000\n",
       "5   2019-03  256348.000\n",
       "6   2019-04  318171.000\n",
       "7   2019-05  242375.000\n",
       "8   2019-06  231270.000\n",
       "9   2019-07  235410.000\n",
       "10  2019-08  172443.000\n",
       "11  2019-09  181082.000\n",
       "12  2019-10  218027.000"
      ]
     },
     "metadata": {},
     "output_type": "display_data"
    }
   ],
   "source": [
    "month_price_pivot = (\n",
    "    df\n",
    "    .pivot_table(\n",
    "        index='mon_year', \n",
    "        values='total_cost', \n",
    "        aggfunc='sum'\n",
    "    )\n",
    "    .sort_values(\n",
    "        by='mon_year', \n",
    "        ascending=True\n",
    "    )\n",
    "    .rename_axis(\n",
    "        None, \n",
    "        axis=1\n",
    "    ).reset_index())\n",
    "\n",
    "display(month_price_pivot)"
   ]
  },
  {
   "cell_type": "code",
   "execution_count": 130,
   "id": "6fbce41c-4063-417f-bcda-f2b4ebb7ec33",
   "metadata": {},
   "outputs": [
    {
     "data": {
      "image/png": "[encoded data removed]",
      "text/plain": [
       "<Figure size 800x700 with 1 Axes>"
      ]
     },
     "metadata": {},
     "output_type": "display_data"
    }
   ],
   "source": [
    "f, ax = plt.subplots(figsize = (8, 7))\n",
    "ax = sns.barplot(x = month_price_pivot['mon_year'], y = 'total_cost', \\\n",
    "                 data = month_price_pivot.sort_values('mon_year', ascending = True), \\\n",
    "                 orient = 'v')\n",
    "plt.title('Анализ суммы стоимости заказов')\n",
    "plt.xticks(rotation=45)\n",
    "ax.set_xlabel('Месяц') \n",
    "ax.set_ylabel('Суммарная стоимость заказов')\n",
    "plt.grid()\n",
    "sns.despine()\n",
    "plt.show()"
   ]
  },
  {
   "cell_type": "markdown",
   "id": "5557d872-ef27-4622-8eee-16e348e74449",
   "metadata": {},
   "source": [
    "График показывает картину, аналогичную предыдущему. Мы видим спад в суммарной стоимости заказов"
   ]
  },
  {
   "cell_type": "markdown",
   "id": "469a01ba-094b-49ae-afb1-6be32c8c7bad",
   "metadata": {},
   "source": [
    "### Анализ динамики продаж по временам года"
   ]
  },
  {
   "cell_type": "markdown",
   "id": "68ef6bf0-3878-4a24-9ccc-2e8c8a40a94a",
   "metadata": {},
   "source": [
    "Посмотрим на продажи по временам года"
   ]
  },
  {
   "cell_type": "code",
   "execution_count": 131,
   "id": "d19cbb48-a149-4f21-9773-6e0d6e3adf17",
   "metadata": {},
   "outputs": [
    {
     "data": {
      "text/html": [
       "<div>\n",
       "<style scoped>\n",
       "    .dataframe tbody tr th:only-of-type {\n",
       "        vertical-align: middle;\n",
       "    }\n",
       "\n",
       "    .dataframe tbody tr th {\n",
       "        vertical-align: top;\n",
       "    }\n",
       "\n",
       "    .dataframe thead th {\n",
       "        text-align: right;\n",
       "    }\n",
       "</style>\n",
       "<table border=\"1\" class=\"dataframe\">\n",
       "  <thead>\n",
       "    <tr style=\"text-align: right;\">\n",
       "      <th></th>\n",
       "      <th>date</th>\n",
       "      <th>customer_id</th>\n",
       "      <th>order_id</th>\n",
       "      <th>product</th>\n",
       "      <th>quantity</th>\n",
       "      <th>price</th>\n",
       "      <th>mon_year</th>\n",
       "      <th>day</th>\n",
       "      <th>weekday</th>\n",
       "      <th>hour</th>\n",
       "      <th>season</th>\n",
       "      <th>season_name</th>\n",
       "      <th>total_cost</th>\n",
       "    </tr>\n",
       "  </thead>\n",
       "  <tbody>\n",
       "    <tr>\n",
       "      <th>0</th>\n",
       "      <td>2018-10-01</td>\n",
       "      <td>ee47d746-6d2f-4d3c-9622-c31412542920</td>\n",
       "      <td>68477</td>\n",
       "      <td>комнатное растение в горшке алое вера, d12, h30</td>\n",
       "      <td>1</td>\n",
       "      <td>142.000</td>\n",
       "      <td>2018-10</td>\n",
       "      <td>2018-10-01</td>\n",
       "      <td>1</td>\n",
       "      <td>0</td>\n",
       "      <td>4</td>\n",
       "      <td>Осень</td>\n",
       "      <td>142.000</td>\n",
       "    </tr>\n",
       "    <tr>\n",
       "      <th>1</th>\n",
       "      <td>2018-10-01</td>\n",
       "      <td>ee47d746-6d2f-4d3c-9622-c31412542920</td>\n",
       "      <td>68477</td>\n",
       "      <td>комнатное растение в горшке кофе арабика, d12, h25</td>\n",
       "      <td>1</td>\n",
       "      <td>194.000</td>\n",
       "      <td>2018-10</td>\n",
       "      <td>2018-10-01</td>\n",
       "      <td>1</td>\n",
       "      <td>0</td>\n",
       "      <td>4</td>\n",
       "      <td>Осень</td>\n",
       "      <td>194.000</td>\n",
       "    </tr>\n",
       "  </tbody>\n",
       "</table>\n",
       "</div>"
      ],
      "text/plain": [
       "        date                           customer_id  order_id                                             product  quantity   price mon_year         day  weekday  hour  season season_name  total_cost\n",
       "0 2018-10-01  ee47d746-6d2f-4d3c-9622-c31412542920     68477     комнатное растение в горшке алое вера, d12, h30         1 142.000  2018-10  2018-10-01        1     0       4       Осень     142.000\n",
       "1 2018-10-01  ee47d746-6d2f-4d3c-9622-c31412542920     68477  комнатное растение в горшке кофе арабика, d12, h25         1 194.000  2018-10  2018-10-01        1     0       4       Осень     194.000"
      ]
     },
     "execution_count": 131,
     "metadata": {},
     "output_type": "execute_result"
    }
   ],
   "source": [
    "df.head(2)"
   ]
  },
  {
   "cell_type": "code",
   "execution_count": 132,
   "id": "8122e28e-fe9c-4fd8-ae64-7d9e5c2a3d61",
   "metadata": {},
   "outputs": [
    {
     "data": {
      "text/html": [
       "<div>\n",
       "<style scoped>\n",
       "    .dataframe tbody tr th:only-of-type {\n",
       "        vertical-align: middle;\n",
       "    }\n",
       "\n",
       "    .dataframe tbody tr th {\n",
       "        vertical-align: top;\n",
       "    }\n",
       "\n",
       "    .dataframe thead th {\n",
       "        text-align: right;\n",
       "    }\n",
       "</style>\n",
       "<table border=\"1\" class=\"dataframe\">\n",
       "  <thead>\n",
       "    <tr style=\"text-align: right;\">\n",
       "      <th></th>\n",
       "      <th>season_name</th>\n",
       "      <th>total_cost</th>\n",
       "    </tr>\n",
       "  </thead>\n",
       "  <tbody>\n",
       "    <tr>\n",
       "      <th>0</th>\n",
       "      <td>Осень</td>\n",
       "      <td>1110367.000</td>\n",
       "    </tr>\n",
       "    <tr>\n",
       "      <th>1</th>\n",
       "      <td>Зима</td>\n",
       "      <td>900770.000</td>\n",
       "    </tr>\n",
       "    <tr>\n",
       "      <th>2</th>\n",
       "      <td>Весна</td>\n",
       "      <td>816894.000</td>\n",
       "    </tr>\n",
       "    <tr>\n",
       "      <th>3</th>\n",
       "      <td>Лето</td>\n",
       "      <td>639123.000</td>\n",
       "    </tr>\n",
       "  </tbody>\n",
       "</table>\n",
       "</div>"
      ],
      "text/plain": [
       "  season_name  total_cost\n",
       "0       Осень 1110367.000\n",
       "1        Зима  900770.000\n",
       "2       Весна  816894.000\n",
       "3        Лето  639123.000"
      ]
     },
     "metadata": {},
     "output_type": "display_data"
    }
   ],
   "source": [
    "season_price_pivot = (\n",
    "    df\n",
    "    .pivot_table(\n",
    "        index='season_name', \n",
    "        values='total_cost', \n",
    "        aggfunc='sum'\n",
    "    )\n",
    "    .sort_values(\n",
    "        by='total_cost', \n",
    "        ascending=False\n",
    "    )\n",
    "    .rename_axis(\n",
    "        None, \n",
    "        axis=1\n",
    "    ).reset_index())\n",
    "\n",
    "display(season_price_pivot)"
   ]
  },
  {
   "cell_type": "code",
   "execution_count": 133,
   "id": "adaac191-5feb-4aed-bdbd-6ac53f316b98",
   "metadata": {},
   "outputs": [
    {
     "data": {
      "image/png": "[encoded data removed]",
      "text/plain": [
       "<Figure size 800x700 with 1 Axes>"
      ]
     },
     "metadata": {},
     "output_type": "display_data"
    }
   ],
   "source": [
    "f, ax = plt.subplots(figsize = (8, 7))\n",
    "ax = sns.barplot(x = season_price_pivot['season_name'], y = 'total_cost', \\\n",
    "                 data = season_price_pivot.sort_values('total_cost', ascending = False), \\\n",
    "                 orient = 'v')\n",
    "plt.title('Анализ продаж по сезонам')\n",
    "plt.xticks(rotation=45)\n",
    "ax.set_xlabel('Время года') \n",
    "ax.set_ylabel('Суммарная стоимость заказов')\n",
    "plt.grid()\n",
    "sns.despine()\n",
    "plt.show()"
   ]
  },
  {
   "cell_type": "markdown",
   "id": "89271abb-a74e-4610-91be-ace42c6f151d",
   "metadata": {},
   "source": [
    "Больше всего покупателя тратят осенью."
   ]
  },
  {
   "cell_type": "markdown",
   "id": "2b3e373f-3994-475f-9b3d-d7f196b80f56",
   "metadata": {},
   "source": [
    "# Проанализируйте товарный ассортимент"
   ]
  },
  {
   "cell_type": "markdown",
   "id": "77a06f46-216d-48de-ae66-18aa688a753f",
   "metadata": {},
   "source": [
    "## Определение товарных категорий"
   ]
  },
  {
   "cell_type": "markdown",
   "id": "0019e772-e186-40e7-907e-3f512e5bb3ae",
   "metadata": {},
   "source": [
    "В датасете указаны названия товаров, но отсутствуют категории.\n",
    "\n",
    "Определив категории товаров, мы сможем провести более детальный анализ, изучить какие категории составляют первичный и вторичный товарный ассортимент, а также сможем узнать как меняется динамика продаж по разным категориям в изучаемый период.\n",
    "\n",
    "Сначала изучим, как устроены названия товаров в столбце `product`."
   ]
  },
  {
   "cell_type": "code",
   "execution_count": 134,
   "id": "576e9a95-9a64-429c-81f7-09bbbdc943da",
   "metadata": {},
   "outputs": [
    {
     "data": {
      "text/html": [
       "<div>\n",
       "<style scoped>\n",
       "    .dataframe tbody tr th:only-of-type {\n",
       "        vertical-align: middle;\n",
       "    }\n",
       "\n",
       "    .dataframe tbody tr th {\n",
       "        vertical-align: top;\n",
       "    }\n",
       "\n",
       "    .dataframe thead th {\n",
       "        text-align: right;\n",
       "    }\n",
       "</style>\n",
       "<table border=\"1\" class=\"dataframe\">\n",
       "  <thead>\n",
       "    <tr style=\"text-align: right;\">\n",
       "      <th></th>\n",
       "      <th>date</th>\n",
       "      <th>customer_id</th>\n",
       "      <th>order_id</th>\n",
       "      <th>product</th>\n",
       "      <th>quantity</th>\n",
       "      <th>price</th>\n",
       "      <th>mon_year</th>\n",
       "      <th>day</th>\n",
       "      <th>weekday</th>\n",
       "      <th>hour</th>\n",
       "      <th>season</th>\n",
       "      <th>season_name</th>\n",
       "      <th>total_cost</th>\n",
       "    </tr>\n",
       "  </thead>\n",
       "  <tbody>\n",
       "    <tr>\n",
       "      <th>2769</th>\n",
       "      <td>2019-04-10 14:00:00</td>\n",
       "      <td>5cdbdfcf-e204-4836-be84-8485d4e4e100</td>\n",
       "      <td>14631</td>\n",
       "      <td>вербена микс wicked wich смесь окрасок объем 0,5 л</td>\n",
       "      <td>1</td>\n",
       "      <td>90.000</td>\n",
       "      <td>2019-04</td>\n",
       "      <td>2019-04-10</td>\n",
       "      <td>3</td>\n",
       "      <td>14</td>\n",
       "      <td>2</td>\n",
       "      <td>Весна</td>\n",
       "      <td>90.000</td>\n",
       "    </tr>\n",
       "    <tr>\n",
       "      <th>573</th>\n",
       "      <td>2018-11-01 16:00:00</td>\n",
       "      <td>fb9704c7-8106-4e7a-a2a4-70a97550deb4</td>\n",
       "      <td>68822</td>\n",
       "      <td>муляж вишня 3 см 10 шт полиуретан</td>\n",
       "      <td>1</td>\n",
       "      <td>74.000</td>\n",
       "      <td>2018-11</td>\n",
       "      <td>2018-11-01</td>\n",
       "      <td>4</td>\n",
       "      <td>16</td>\n",
       "      <td>4</td>\n",
       "      <td>Осень</td>\n",
       "      <td>74.000</td>\n",
       "    </tr>\n",
       "    <tr>\n",
       "      <th>1799</th>\n",
       "      <td>2019-02-12 11:00:00</td>\n",
       "      <td>df0ca4d7-34b7-40ba-a3b7-f7ed82c07220</td>\n",
       "      <td>70223</td>\n",
       "      <td>эвкалипт гунни d-17 см h-60 см</td>\n",
       "      <td>1</td>\n",
       "      <td>1409.000</td>\n",
       "      <td>2019-02</td>\n",
       "      <td>2019-02-12</td>\n",
       "      <td>2</td>\n",
       "      <td>11</td>\n",
       "      <td>1</td>\n",
       "      <td>Зима</td>\n",
       "      <td>1409.000</td>\n",
       "    </tr>\n",
       "  </tbody>\n",
       "</table>\n",
       "</div>"
      ],
      "text/plain": [
       "                    date                           customer_id  order_id                                             product  quantity    price mon_year         day  weekday  hour  season season_name  total_cost\n",
       "2769 2019-04-10 14:00:00  5cdbdfcf-e204-4836-be84-8485d4e4e100     14631  вербена микс wicked wich смесь окрасок объем 0,5 л         1   90.000  2019-04  2019-04-10        3    14       2       Весна      90.000\n",
       "573  2018-11-01 16:00:00  fb9704c7-8106-4e7a-a2a4-70a97550deb4     68822                   муляж вишня 3 см 10 шт полиуретан         1   74.000  2018-11  2018-11-01        4    16       4       Осень      74.000\n",
       "1799 2019-02-12 11:00:00  df0ca4d7-34b7-40ba-a3b7-f7ed82c07220     70223                      эвкалипт гунни d-17 см h-60 см         1 1409.000  2019-02  2019-02-12        2    11       1        Зима    1409.000"
      ]
     },
     "execution_count": 134,
     "metadata": {},
     "output_type": "execute_result"
    }
   ],
   "source": [
    "df.sample(3)"
   ]
  },
  {
   "cell_type": "markdown",
   "id": "f666c387-d964-4261-9c40-10945833950b",
   "metadata": {},
   "source": [
    "Мы видим, что название продукта находится в самом начале строки, далее расположена дополнительная информация (размер, материал, цвет и т.д.)\n",
    "\n",
    "Начнем с того, что выделим первые два слова из столбца `product` в новую колонку"
   ]
  },
  {
   "cell_type": "code",
   "execution_count": 135,
   "id": "ecf6df95-eae1-42f4-951d-476290414059",
   "metadata": {},
   "outputs": [],
   "source": [
    "df['prodct_name_split'] = df['product'].str.split(pat = ' ').str[:2]"
   ]
  },
  {
   "cell_type": "code",
   "execution_count": 136,
   "id": "2a7ad42e-7bd0-4650-98ec-70d31e56c5fe",
   "metadata": {},
   "outputs": [
    {
     "data": {
      "text/html": [
       "<div>\n",
       "<style scoped>\n",
       "    .dataframe tbody tr th:only-of-type {\n",
       "        vertical-align: middle;\n",
       "    }\n",
       "\n",
       "    .dataframe tbody tr th {\n",
       "        vertical-align: top;\n",
       "    }\n",
       "\n",
       "    .dataframe thead th {\n",
       "        text-align: right;\n",
       "    }\n",
       "</style>\n",
       "<table border=\"1\" class=\"dataframe\">\n",
       "  <thead>\n",
       "    <tr style=\"text-align: right;\">\n",
       "      <th></th>\n",
       "      <th>date</th>\n",
       "      <th>customer_id</th>\n",
       "      <th>order_id</th>\n",
       "      <th>product</th>\n",
       "      <th>quantity</th>\n",
       "      <th>price</th>\n",
       "      <th>mon_year</th>\n",
       "      <th>day</th>\n",
       "      <th>weekday</th>\n",
       "      <th>hour</th>\n",
       "      <th>season</th>\n",
       "      <th>season_name</th>\n",
       "      <th>total_cost</th>\n",
       "      <th>prodct_name_split</th>\n",
       "    </tr>\n",
       "  </thead>\n",
       "  <tbody>\n",
       "    <tr>\n",
       "      <th>4596</th>\n",
       "      <td>2019-06-05 09:00:00</td>\n",
       "      <td>7d5d5657-5fdc-40d1-b7b6-bb04ede92b53</td>\n",
       "      <td>14848</td>\n",
       "      <td>роза садовая чайногибридная в горшке лимбо</td>\n",
       "      <td>1</td>\n",
       "      <td>188.000</td>\n",
       "      <td>2019-06</td>\n",
       "      <td>2019-06-05</td>\n",
       "      <td>3</td>\n",
       "      <td>9</td>\n",
       "      <td>3</td>\n",
       "      <td>Лето</td>\n",
       "      <td>188.000</td>\n",
       "      <td>[роза, садовая]</td>\n",
       "    </tr>\n",
       "    <tr>\n",
       "      <th>1928</th>\n",
       "      <td>2019-02-21 08:00:00</td>\n",
       "      <td>f15bc6a0-b20d-4aee-bdcf-080070e5b1bf</td>\n",
       "      <td>70378</td>\n",
       "      <td>тарелка обеденная стелла шоколад 25 см j1762 luminarc</td>\n",
       "      <td>5</td>\n",
       "      <td>217.000</td>\n",
       "      <td>2019-02</td>\n",
       "      <td>2019-02-21</td>\n",
       "      <td>4</td>\n",
       "      <td>8</td>\n",
       "      <td>1</td>\n",
       "      <td>Зима</td>\n",
       "      <td>1085.000</td>\n",
       "      <td>[тарелка, обеденная]</td>\n",
       "    </tr>\n",
       "    <tr>\n",
       "      <th>5368</th>\n",
       "      <td>2019-06-16 09:00:00</td>\n",
       "      <td>5699cf84-adae-4465-9831-ead94c9ecee6</td>\n",
       "      <td>71716</td>\n",
       "      <td>коврик придверный mohawk mansonry foliage листопад 58,5х89 см 5412</td>\n",
       "      <td>1</td>\n",
       "      <td>1649.000</td>\n",
       "      <td>2019-06</td>\n",
       "      <td>2019-06-16</td>\n",
       "      <td>7</td>\n",
       "      <td>9</td>\n",
       "      <td>3</td>\n",
       "      <td>Лето</td>\n",
       "      <td>1649.000</td>\n",
       "      <td>[коврик, придверный]</td>\n",
       "    </tr>\n",
       "  </tbody>\n",
       "</table>\n",
       "</div>"
      ],
      "text/plain": [
       "                    date                           customer_id  order_id                                                             product  quantity    price mon_year         day  weekday  hour  season season_name  total_cost     prodct_name_split\n",
       "4596 2019-06-05 09:00:00  7d5d5657-5fdc-40d1-b7b6-bb04ede92b53     14848                          роза садовая чайногибридная в горшке лимбо         1  188.000  2019-06  2019-06-05        3     9       3        Лето     188.000       [роза, садовая]\n",
       "1928 2019-02-21 08:00:00  f15bc6a0-b20d-4aee-bdcf-080070e5b1bf     70378               тарелка обеденная стелла шоколад 25 см j1762 luminarc         5  217.000  2019-02  2019-02-21        4     8       1        Зима    1085.000  [тарелка, обеденная]\n",
       "5368 2019-06-16 09:00:00  5699cf84-adae-4465-9831-ead94c9ecee6     71716  коврик придверный mohawk mansonry foliage листопад 58,5х89 см 5412         1 1649.000  2019-06  2019-06-16        7     9       3        Лето    1649.000  [коврик, придверный]"
      ]
     },
     "execution_count": 136,
     "metadata": {},
     "output_type": "execute_result"
    }
   ],
   "source": [
    "df.sample(3)"
   ]
  },
  {
   "cell_type": "markdown",
   "id": "524f4c0b-a5b1-46b1-b50d-cd7aff6e9880",
   "metadata": {},
   "source": [
    "Мы получили новый столбец `prodct_name_split`, но значения в нем находятся в списках. Исправим это"
   ]
  },
  {
   "cell_type": "code",
   "execution_count": 137,
   "id": "c1d0112f-2455-404e-b192-2aa78e09845a",
   "metadata": {},
   "outputs": [],
   "source": [
    "df['prodct_name_split'] = df['prodct_name_split'].apply(lambda x: ' '.join(x))"
   ]
  },
  {
   "cell_type": "code",
   "execution_count": 138,
   "id": "87f85ab2-7699-43b8-a2c1-4b2bd9b9d7cc",
   "metadata": {},
   "outputs": [
    {
     "data": {
      "text/html": [
       "<div>\n",
       "<style scoped>\n",
       "    .dataframe tbody tr th:only-of-type {\n",
       "        vertical-align: middle;\n",
       "    }\n",
       "\n",
       "    .dataframe tbody tr th {\n",
       "        vertical-align: top;\n",
       "    }\n",
       "\n",
       "    .dataframe thead th {\n",
       "        text-align: right;\n",
       "    }\n",
       "</style>\n",
       "<table border=\"1\" class=\"dataframe\">\n",
       "  <thead>\n",
       "    <tr style=\"text-align: right;\">\n",
       "      <th></th>\n",
       "      <th>date</th>\n",
       "      <th>customer_id</th>\n",
       "      <th>order_id</th>\n",
       "      <th>product</th>\n",
       "      <th>quantity</th>\n",
       "      <th>price</th>\n",
       "      <th>mon_year</th>\n",
       "      <th>day</th>\n",
       "      <th>weekday</th>\n",
       "      <th>hour</th>\n",
       "      <th>season</th>\n",
       "      <th>season_name</th>\n",
       "      <th>total_cost</th>\n",
       "      <th>prodct_name_split</th>\n",
       "    </tr>\n",
       "  </thead>\n",
       "  <tbody>\n",
       "    <tr>\n",
       "      <th>0</th>\n",
       "      <td>2018-10-01</td>\n",
       "      <td>ee47d746-6d2f-4d3c-9622-c31412542920</td>\n",
       "      <td>68477</td>\n",
       "      <td>комнатное растение в горшке алое вера, d12, h30</td>\n",
       "      <td>1</td>\n",
       "      <td>142.000</td>\n",
       "      <td>2018-10</td>\n",
       "      <td>2018-10-01</td>\n",
       "      <td>1</td>\n",
       "      <td>0</td>\n",
       "      <td>4</td>\n",
       "      <td>Осень</td>\n",
       "      <td>142.000</td>\n",
       "      <td>комнатное растение</td>\n",
       "    </tr>\n",
       "    <tr>\n",
       "      <th>1</th>\n",
       "      <td>2018-10-01</td>\n",
       "      <td>ee47d746-6d2f-4d3c-9622-c31412542920</td>\n",
       "      <td>68477</td>\n",
       "      <td>комнатное растение в горшке кофе арабика, d12, h25</td>\n",
       "      <td>1</td>\n",
       "      <td>194.000</td>\n",
       "      <td>2018-10</td>\n",
       "      <td>2018-10-01</td>\n",
       "      <td>1</td>\n",
       "      <td>0</td>\n",
       "      <td>4</td>\n",
       "      <td>Осень</td>\n",
       "      <td>194.000</td>\n",
       "      <td>комнатное растение</td>\n",
       "    </tr>\n",
       "    <tr>\n",
       "      <th>2</th>\n",
       "      <td>2018-10-01</td>\n",
       "      <td>ee47d746-6d2f-4d3c-9622-c31412542920</td>\n",
       "      <td>68477</td>\n",
       "      <td>радермахера d-12 см h-20 см</td>\n",
       "      <td>1</td>\n",
       "      <td>112.000</td>\n",
       "      <td>2018-10</td>\n",
       "      <td>2018-10-01</td>\n",
       "      <td>1</td>\n",
       "      <td>0</td>\n",
       "      <td>4</td>\n",
       "      <td>Осень</td>\n",
       "      <td>112.000</td>\n",
       "      <td>радермахера d-12</td>\n",
       "    </tr>\n",
       "  </tbody>\n",
       "</table>\n",
       "</div>"
      ],
      "text/plain": [
       "        date                           customer_id  order_id                                             product  quantity   price mon_year         day  weekday  hour  season season_name  total_cost   prodct_name_split\n",
       "0 2018-10-01  ee47d746-6d2f-4d3c-9622-c31412542920     68477     комнатное растение в горшке алое вера, d12, h30         1 142.000  2018-10  2018-10-01        1     0       4       Осень     142.000  комнатное растение\n",
       "1 2018-10-01  ee47d746-6d2f-4d3c-9622-c31412542920     68477  комнатное растение в горшке кофе арабика, d12, h25         1 194.000  2018-10  2018-10-01        1     0       4       Осень     194.000  комнатное растение\n",
       "2 2018-10-01  ee47d746-6d2f-4d3c-9622-c31412542920     68477                         радермахера d-12 см h-20 см         1 112.000  2018-10  2018-10-01        1     0       4       Осень     112.000    радермахера d-12"
      ]
     },
     "execution_count": 138,
     "metadata": {},
     "output_type": "execute_result"
    }
   ],
   "source": [
    "df.head(3)"
   ]
  },
  {
   "cell_type": "markdown",
   "id": "443df4b2-f59a-410c-afea-9cab7ee58cb6",
   "metadata": {},
   "source": [
    "Теперь посчитаем количество уникальных значений в столбце `prodct_name_split`"
   ]
  },
  {
   "cell_type": "code",
   "execution_count": 139,
   "id": "ec463542-bdae-48cb-b6ba-94a0e8df4bcb",
   "metadata": {},
   "outputs": [
    {
     "data": {
      "text/plain": [
       "926"
      ]
     },
     "execution_count": 139,
     "metadata": {},
     "output_type": "execute_result"
    }
   ],
   "source": [
    "# строчка для вывода всех уникальных значений на экран\n",
    "#list(df['prodct_name_split'].unique())\n",
    "\n",
    "len(df['prodct_name_split'].unique())"
   ]
  },
  {
   "cell_type": "markdown",
   "id": "288f74b6-dec0-4ed3-9025-2905c0e84eef",
   "metadata": {},
   "source": [
    "Изучим полученные значения.\n",
    "\n",
    "В целях того, чтобы тетрадку проекта было проще читать, я выведу на экран только первые 5 строчек "
   ]
  },
  {
   "cell_type": "code",
   "execution_count": 140,
   "id": "90b2a732-6c87-4479-8413-fb653bc5f33a",
   "metadata": {},
   "outputs": [
    {
     "data": {
      "text/plain": [
       "prodct_name_split\n",
       "пеларгония зональная     375\n",
       "сушилка для              272\n",
       "пеларгония розебудная    249\n",
       "рассада зелени           220\n",
       "томата (помидор)         142\n",
       "Name: customer_id, dtype: int64"
      ]
     },
     "execution_count": 140,
     "metadata": {},
     "output_type": "execute_result"
    }
   ],
   "source": [
    "df.groupby(['prodct_name_split'])['customer_id'].count().sort_values(ascending=False).head(5)"
   ]
  },
  {
   "cell_type": "markdown",
   "id": "2dd127ca-d8b4-4075-907d-038321ca706b",
   "metadata": {},
   "source": [
    "Обозначим, на какие категории будем делить товары\n",
    "\n",
    "Предлагаю разделить товары а следующие категории:\n",
    "\n",
    "- Бытовая химия, товары для уборки\n",
    "- Ванная\n",
    "- Декор / текстиль\n",
    "- Инструменты / товары для ремонта\n",
    "- Кухня\n",
    "- Товары для сада/растения\n",
    "- Хранение / Мебель"
   ]
  },
  {
   "cell_type": "markdown",
   "id": "881ef49a-baac-4a63-8d0d-f903d7c55e08",
   "metadata": {},
   "source": [
    "Теперь сформируем списки, которые будут содержать слова из столбца `prodct_name_split`, которые позволят обозначить категорию для продуктов"
   ]
  },
  {
   "cell_type": "code",
   "execution_count": 141,
   "id": "05a417a9-a536-4dbf-b365-c9706fea5d62",
   "metadata": {},
   "outputs": [],
   "source": [
    "# Бытовая химия, товары для уборки\n",
    "cleaning = [\n",
    "'Автоматическая щетка',\n",
    "'Вантуз с', 'Вантуз черный', 'Ведро AMPARI', 'Ведро без', 'Ведро для', 'Ведро овальное', 'Ведро пластиковое', 'Ведро Полимербыт',\n",
    "'Ведро резинопластиковое', 'Веник для', 'Веник сорго', 'Губка спираль', 'Ерш для', 'Ёрш для', 'Ёрш радиаторный', 'Ёрш унитазный', 'Жидкое мыло', \n",
    "'Кондиционер для', 'Мыло жидкое', 'Мыло ручной', 'Мыло-скраб с', 'Мыльница пластмассовая', 'Насадка-моп ROZENBAL', 'Насадка-отжим пластиковая',\n",
    "'Настенная сушилка', 'Окномойка с', 'Ополаскиватель для', 'Отбеливатель Пероксоль', 'Отжим для', 'Пылесос DELTA', 'Средство для', 'Средство против',\n",
    "'Стиральный биопорошок', 'Универсальное средство', 'Чистящий крем', 'Швабра Leifheit', 'Швабра для', 'Швабра многофункциональная,',\n",
    "'Швабра многофункциональная', 'Швабра САЛЬСА', 'Швабра хозяйственная', 'Щётка для', 'Щетка палубная',\n",
    "'Щетка универсальная', 'Щетка хозяйственная', 'Щетка-сметка 3-х', 'Щетка-сметка 4-х', 'Щетка-сметка с', 'Щетка-утюжок с'\n",
    "]\n",
    "\n",
    "# Ванная\n",
    "bathroom =[\n",
    "'Бальзам для', 'Ванна 70', 'Весы напольные', 'Дозатор для', 'Зубная паста', 'Коврик влаговпитывающий', 'Комплект махровых',\n",
    "'Махровое полотенце', 'Махровый халат', 'Паста для', 'Паста зубная', 'Пена для', 'Полотенце махровое', 'Сиденье в', 'Сиденье для', \n",
    "'Таз алюминиевый,', 'Таз пластмассовый', 'Увлажняющая маска', 'Халат вафельный'\n",
    "]\n",
    "\n",
    "# Декор / текстиль\n",
    "decoration = [\n",
    "    'Готовая скатерть', 'Двуспальное постельное', 'Декоративная композиция', 'Декоративная коробка', 'Искусственная композиция',\n",
    "'Искусственная лиана', 'Искусственный лист', 'Искусственный цветок', 'Карниз алюминиевый', 'Карниз для', 'Ковер придверный', 'Ковёр придверный',\n",
    "'Коврик Bacchetta', 'Коврик Dasch', 'Коврик Sochi', 'Коврик в', 'Коврик ворсовый', 'Коврик для', 'Коврик интерьерный', 'Коврик кухонный',\n",
    "'Коврик придверный,', 'Коврик придверный', 'Коврик противоскользящий', 'Коврик резиновый', 'Коврик хлопковый', 'Комплект постельного',\n",
    "'Котовник Блю', 'Муляж \"Райские', 'Муляж Ананас', 'Муляж Апельсин', 'Муляж Баклажан', 'Муляж Банан,', 'Муляж Банан', 'Муляж Булка',\n",
    "'Муляж Виноград,', 'Муляж Виноград', 'Муляж Вишня,', 'Муляж Вишня', 'Муляж ГРАНАТ', 'Муляж Гранат', 'Муляж Груша,', 'Муляж Груша',\n",
    "'Муляж Долька', 'Муляж Желудь', 'Муляж Зеленое', 'Муляж Клубника', 'Муляж Красное', 'Муляж Лайм', 'Муляж Лимон,', 'Муляж Лимон', 'Муляж Манго',\n",
    "'Муляж Мандарин,', 'Муляж Мандарин', 'Муляж Морковь', 'Муляж Оранжевое', 'Муляж Перец,', 'Муляж Перец', 'Муляж Персик,', 'Муляж Персик',\n",
    "'Муляж Персики', 'Муляж Томат,', 'Муляж Томат', 'Муляж Тыквы', 'Муляж Хлеб', 'Муляж ЧЕРЕШНЯ', 'Муляж Черешня', 'Муляж Чеснок', 'Муляж Яблоко,',\n",
    "'Муляж Яблоко', 'Муляж ЯБЛОКО', 'Набор Vileda', 'Набор ковров', 'Набор махровых', 'Набор прецизионных', 'Наволочка Wellness', 'Наматрасник Wellness',\n",
    "'Наматрацник Natures', 'Наматрицник-чехол Natures', 'Новогоднее дерево', 'Одеяло Silver', 'Одеяло Wellness', 'Основание для', 'Плед флисовый', \n",
    "'Подарочный набор', 'Подголовник Bacchetta', 'Подголовник для', 'Подкладка под', 'Пододеяльник 214х150', 'Подставка для',\n",
    "'Подушка 40х40', 'Подушка декоративная', 'Покрывало KARNA', 'Покрывало жаккард', 'Покрывало стеганый', 'Покрытие для', 'Простынь вафельная', \n",
    "'Простыня двуспальная', 'Простыня на', 'Простыня сатиновая', 'Ручка мебельная', 'Ручка-скоба РС-100', 'Светильник настольный', 'Ткань для', \n",
    "'Ткань универсальная', 'Фиксатор-шар хром', 'Фоторамка Alparaisa', 'Штора для', 'Штора со', 'Штора текстильная', 'Щетка для', 'Ящик почтовый'\n",
    "]\n",
    "\n",
    "# Инструменты / товары для ремонта\n",
    "tools = ['Вкладыши для', 'Завертка форточная', 'Запасная насадка', 'Защитный экран', 'Измерительный алюминиевый', 'Измерительный угольник,',\n",
    "'Ковш пластмассовый', 'Кольца для', 'Комплект для', 'Лестница стремянка', 'Лестница-стремянка Dogrular', 'Лестница-стремянка Sarayli',\n",
    "'Лестница-стремянка Примус', 'Многофункциональный инструмент', 'Набор для', 'Набор инструментов', 'Набор сверел', 'Насадка для', 'Насадка к',\n",
    "'Насадка на', 'Ножеточка универсальная', 'Перчатки Extra', 'Перчатки Fabrikators', 'Перчатки Latex', 'Перчатки латексные', 'Перчатки резиновые',\n",
    "'Пружина дверная', 'Пьезозажигалка с', 'Рассекатель пламени', 'Решетка вентиляционная', 'Ролик для', 'Сверло по', 'Сверло-фреза, 6', 'Сверло-фреза, 8',\n",
    "'Скребок 44', 'Скребок для', 'Сменная насадка', 'Сменный блок', 'Сметка с', 'Совок для', 'Совок и', 'Совок металический', 'Стремянка 5', 'Стремянка 7',\n",
    "'Стремянка Colombo', 'Стремянка COLOMBO', 'Стремянка DOGRULAR', 'Стремянка Eurogold', 'Стремянка FRAMAR', 'Стремянка Framar', 'Стремянка Scab',\n",
    "'Стремянка алюминиевая', 'Стремянка бытовая', 'Стремянка металлическая', 'Стремянка-табурет алюминиевая', 'Стремянки Colombo', 'Стяжка оконная',\n",
    "'Стяжки для', 'Тележка багажная', 'Тележка хозяйственная', 'Уголок оконный', 'Холодная сварка', 'Шило с', 'Шнур резиновый', 'Шнур хозяйственный',\n",
    "'Шпагат полипропиленовый', 'Шпингалет 80', 'Штанга для', 'Штангенциркуль 150']\n",
    "\n",
    "# Кухня\n",
    "kitchen = [\n",
    "'Tepмокружка AVEX', 'Блюдо Pasabahce', 'Блюдце УТРО', 'Венчик с', 'Весы настольные', 'Весы электронные', 'Вилка столовая', 'Доска разделочная',\n",
    "'Ёрш бутылочный', 'Измельчитель овощей', 'Капуста цветная', 'Картофелемялка металлическая', 'Кастрюля алюминиевая', 'Кастрюля круглая', 'Кастрюля чугунная',\n",
    "'Кастрюля эмалированная,', 'Кастрюля эмалированная', 'Кипятильник электрический', 'Кисточка силиконовая', 'Кофе Арабика', 'Кружка 350', 'Кружка Luminarc',\n",
    "'Кружка БАМБУК', 'Кружка для', 'Кружка МАРЛИ', 'Кружка мерная', 'Кружка НОРДИК', 'Кружка О', 'Кружка прозрачная', 'Кружка с', 'Кружка ТАЧКИ', \n",
    "'Кувшин Luminarc', 'Кувшин пластмассовый', 'Кухонное полотенце', 'Кухонные ножницы', 'Ложка кухонная', 'Ложка столовая', 'Ложка чайная', \n",
    "'Лопатка Attribute', 'Лопатка c', 'Лоток KNIT', 'Лоток для', 'Мантоварка алюминиевая', 'Мантоварка-пароварка WEBBER', 'Масленка КОРОВКА', 'Мерный стакан', \n",
    "'Миксер DELTA', 'Миксер ВАСИЛИСА', 'Миксер электрический', 'Мини-сковорода Marmiton', 'Миска для', 'Миска пластмассовая', 'Миска Фазенда', 'Модульная стеклянная',\n",
    "'Набор бокалов', 'Набор кружек', 'Набор кухонных', 'Набор ножей', 'Набор посуды', 'Набор стаканов', 'Набор столовых', 'Набор форм', 'Набор фужеров',\n",
    "'Набор эмалированных', 'Нетканые салфетки', 'Нож для', 'Нож кухонный', 'Нож поварской', 'Нож столовый', 'Нож универсальный', 'Овощеварка алюминиевая',\n",
    "'Овощечистка с', 'Отделитель косточек', 'Половник Attribute', 'Полотенце кухонное', 'Полотенце прессованное', 'Пресс для', 'Просеиватель для', \n",
    "'Противень прямоугольный', 'Разделочная доска', 'Рукав для', 'Рыбочистка металлическая,', 'Рыбочистка с', 'Салатник Luminarc', 'Салатник АМОРИ', \n",
    "'Салатник АСПЕН', 'Салатник ВОЛАРЭ', 'Салатник КАРИН', 'Салатник КОЛОРАМА', 'Салатник РАПСОДИ', 'Салатник РОМАНТИК', 'Салатник ЭМПИЛАБЛЬ', \n",
    "'Салфетка Protec', 'Салфетка Камушки', 'Салфетка махровая', 'Салфетка на', 'Салфетница металлическая', 'Сахарница фарфоровая', 'Сервировочная салфетка',\n",
    "'Сетка для', 'Сито WEBBER', 'Скалка силиконовая,', 'Скатерть 150х120', 'Скатерть 180', 'Скатерть 350х150', 'Скатерть 350х180', 'Скатерть Dasch', \n",
    "'Скатерть Meiwa', 'Скатерть Towa', 'Скатерть Ажурная', 'Скатерть Азалия', 'Скатерть Арлет', 'Скатерть Беатрис', 'Скатерть виниловая', 'Скатерть Джулия', \n",
    "'Скатерть Династия', 'Скатерть Жаклин', 'Скатерть из', 'Скатерть круглая', 'Скатерть Лувр', 'Скатерть Муза', 'Скатерть прямоугольная', 'Скатерть Рим', \n",
    "'Скатерть Сидней', 'Складная картонная', 'Складной детский', 'Сковорода HARD', 'Сковорода Scovo', 'Сковорода алюминиевая', 'Скребок кондитерский', \n",
    "'Соковарка WEBBER', 'Соковарка алюминиевая', 'Соковыжималка для', 'Сотейник алюминиевый', 'Стакан для', 'Стакан низкий', 'Стакан пластмассовый', \n",
    "'Стеклянная крышка', 'Столовая ложка', 'Столовый нож', 'Сушилка Meliconi', 'Сушилка для', 'Сушилка МУЛЬТИ', 'Тарелка десертная', 'Тарелка обеденная', \n",
    "'Тарелка суповая', 'Терка WEBBER', 'Терка для', 'Термокружка Alpenkok', 'Термокружка вакуумная', 'Термокружка Забава', 'Термокружка Яромир', \n",
    "'Термометр на', 'Термометр уличный', 'Термос 1л', 'Термос со', 'Термостакан WEBBER', 'Толкушка деревянная', 'Толкушка для', 'Тортница CURVER', \n",
    "'Тряпка для', 'Тряпкодержатель с', 'Универсальный нож', 'Форма АLPENKOK', 'Форма для', 'Хлебница Webber', 'Хлебница деревянная', 'Хлебница пластмасовая', \n",
    "'Чайная ложка', 'Чайник заварочный', 'Чайник со', 'Чайник электрический', 'Чайник эмалированный', 'Чайный набор', 'Шприц кондитерский', \n",
    "'Электроштопор QWERTY'\n",
    "]\n",
    "\n",
    "# Товары для сада/растения\n",
    "garden = ['Агератум рассада', 'Адиантум Лиза', 'Азалия индика', 'Азалия Индика', 'Аквилегия махровая', 'Аквилегия обыкновенная',\n",
    "'Алиссум (лобулярия)', 'Алиссум рассада', 'Алиссум Скальный', 'Алоэ Вера', 'Альбука Спиралис', 'Амариллис Red', 'Анемона белый',\n",
    "'Антижир POSH', 'Антинакипин для', 'Антуриум андрианум', 'Антуриум Андрианум', 'Антуриум Тропик', 'Аптения d-10', 'Аптения d-12',\n",
    "'Арбуз Волгоградец', 'Арбуз Огонек', 'Арбуз Сибирские', 'Арбуз Холодок', 'Арбуз Шуга', 'Аргирантерум рассада', 'Ароматизированное средство',\n",
    "'Артемизия (Полынь', 'Аспарагус d-12', 'Аспарагус Спренжери', 'Астра альпийская', 'Астра рассада', 'Афеляндра скуарроса', 'Бадан Сердцелистный',\n",
    "'Базилик Застольный', 'Базилик зеленый', 'Базилик Овощной', 'Базилик овощной', 'Базилик Пурпурные', 'Базилик Смесь', 'Баклажан Самурай',\n",
    "'Бакопа ампельная,', 'Бакопа ампельная', 'Бальзамин Валера', 'Бальзамин новогвинейский', 'Барвинок синий', 'Бархатцы Веселая', 'Бегония ампельная,',\n",
    "'Бегония вечноцветущая', 'Бегония клубневая', 'Бегония Элатиор,', 'Бензин для', 'Буддлея Вейера', 'Бузульник Пржевальского', 'Бульонница Luminarc',\n",
    "'Валериана лекарственная', 'Вербейник монетчатый', 'Вербена Fuhcsia', 'Вербена Red', 'Вербена White', 'Вербена ампельная,', 'Вербена крупноцветковая',\n",
    "'Вербена микс', 'Вербена рассада', 'Веревка полипропиленовая', 'Вероника колосковая', 'Вигна Лилиана', 'Виола рассада', 'Виола рогатая',\n",
    "'Газания рассада', 'Гайлардия крупноцветковая', 'Гардения d-9', 'Гвоздика садовая', 'Гвоздика стандартная', 'Гвоздика Травянка', 'Гвоздика турецкая',\n",
    "'Георгина Черная', 'Герань домашняя', 'Гербера d-13', 'Гербера комнатная', 'Гиацинт Blue', 'Гимнокалициум Микс', 'Гиностемма укорененный',\n",
    "'Гипоаллергенный концентрированный', 'Гипсофила Аврора', 'Глоксиния d-13', 'Годеция Рембранд', 'Горох Амброзия', 'Гортензия метельчатая',\n",
    "'Гортензия Микс', 'Девичий виноград', 'Декабрист в', 'Дендробиум Санок', 'Дендробиум Фиолетовый', 'Дендробиум Яблоневый', 'Джункус Пенсил',\n",
    "'Диффенбахия d-12', 'Диффенбахия Камилла', 'Драцена фрагранс', 'Душица обыкновенная', 'Дыня Алтайская', 'Дыня Дина', 'Дыня Золотой', 'Дыня Колхозница',\n",
    "'Дыня Медовый', 'Дыня Млада', 'Дыня Награда', 'Дыня Симпатия', 'Ель канадская', 'Замиокулькас d-15', 'Защитная соль', 'Зверобой продырявленный',\n",
    "'Земляника Барон', 'Земляника садовая', 'Змееголовник молдавский', 'Импатиенс Нью', 'Иссоп лекарственный', 'Кабачок Изумруд', 'Каланхое каландива',\n",
    "'Калатея Кроката', 'Калатея Микс', 'Календула Бронзовая', 'Календула Пинк', 'Календула Суприм', 'Калибрахоа Aloha', 'Калибрахоа Bloomtastic',\n",
    "'Калибрахоа Mini', 'Калибрахоа Rave', 'Калибрахоа Sweet', 'Калибрахоа ампельная,', 'Калла крупноцветковая', 'Каллуна Гарден', 'Калоцефалус Брауни',\n",
    "'Камнеломка Арендса', 'Камнеломка тенистая', 'Кампанула махровая', 'Капсикум Сальса', 'Капуста белокочанная', 'Капуста брокколи', 'Капуста брюссельская',\n",
    "'Капуста декоративная', 'Капуста кольраби', 'Кипарисовик лавсона', 'Клен ложноплатановый', 'Клубника Альба', 'Клубника Мара', 'Клубника Хоней',\n",
    "'Кодонанта укорененный', 'Колеус рассада', 'Колокольчик Карпатский', 'Колокольчик персиколистный', 'Комнатное растение', 'Кореопсис Золотой',\n",
    "'Кореопсис Толл', 'Кориандр в', 'Кориандр Стимул', 'Космея Клюквенный', 'Космея Кэнди', 'Космея Лимонад', 'Космея Очаровашка', 'Космея Попсокс',\n",
    "'Космея Снежный', 'Крассула d-17', 'Крассула овата', 'Крокусы Pickwick', 'Лаванда d-9', 'Лаванда в', 'Лаванда Торх', 'Лаватера Монт', 'Лавр d-9',\n",
    "'Лавр в', 'Лавр нобилис', 'Лантана d-13', 'Лантана в', 'Лапчатка Огненное', 'Лапчатка травянистая', 'Левкой рассада', 'Лен Небесная', \n",
    "'Лилейник высокорослый', 'Линейка, длина', 'Литопс Микс' 'Лобелия ампельная,', 'Лобелия рассада', 'Лобелия Регатта', 'Лук порей', 'Львиный зев',\n",
    "'Любисток Удалец', 'Маттиола Ночная', 'Мединилла Магнифика', 'Мелисса лекарственная', 'Мимоза стыдливая', 'Мирт d-20', 'Мирт d-9', 'Многолетнее растение',\n",
    "'Молодило в', 'Молодило Микс', 'Монарда в', 'Монарда гибридная', 'Морковь Детская', 'Муррайя d-9', 'Мускари White', 'Мята Aura', 'Мята d-9', 'Мята колосистая',\n",
    "'Мята Махито', 'Мята перечная', 'Настурция Драгоценность', 'Настурция Лунный', 'Настурция Орхидное', 'Незабудка смесь', 'Нефролепис Бостон', 'Нивянник (Ромашка)',\n",
    "'Нолина в', 'Овсянница сизая', 'Огурец Алтай', 'Огурец Аристократ', 'Огурец Багратион', 'Огурец Боярский', 'Огурец Закусочный', 'Огурец Засолочный',\n",
    "'Однолетнее растение', 'Орехоколка VIVA,', 'Осина обыкновенная,', 'Папоротник страусник', 'Патиссон Диск', 'Патиссон Зонтик', 'Патиссон НЛО', 'Пахира Акватика',\n",
    "'Пеларгония Angeleyes', 'Пеларгония d-13', 'Пеларгония Toscana', 'Пеларгония Грандифлора', 'Пеларгония душистая', 'Пеларгония зональная', 'Пеларгония плющелистная',\n",
    "'Пеларгония розебудная', 'Пеларгония розоцветная', 'Пеларгония тюльпановидная', 'Пеперомия d-12', 'Петрушка Итальянский', 'Петрушка корневая',\n",
    "'Петрушка листовая', 'Петуния Baby', 'Петуния Bordeaux', 'Петуния Crazytunia', 'Петуния Orange', 'Петуния Pegasus', 'Петуния Potunia', 'Петуния Sanguna',\n",
    "'Петуния Sky', 'Петуния Surfinia', 'Петуния Surprice', 'Петуния Surprise', 'Петуния Sweetunia', 'Петуния ампельная', 'Петуния гибридная', 'Петуния изи',\n",
    "'Петуния Каскад', 'Петуния крупноцветковая', 'Петуния махровая', 'Петуния простая', 'Петуния рассада', 'Петуния Свитуния', 'Пиретрум Робинсон',\n",
    "'Платикодон махровый', 'Подвесное кашпо', 'Подсолнечник низкорослый', 'Портулак рассада', 'Примула акаулис', 'Примула желтая', 'Примула комнатная',\n",
    "'Примула рассада', 'Пряные травы', 'Пуансетия d-12', 'Пуансеттия d-12', 'Пуансеттия d-15', 'Пуансеттия d-23', 'Пуансеттия в', 'Радермахера d-12', 'Ранункулус Клуни',\n",
    "'Рассада Арбуза', 'Рассада в', 'Рассада Дыни', 'Рассада зелени', 'Рассада Кабачка', 'Рассада Кабачок', 'Рассада Капусты', 'Рассада клубники',\n",
    "'Рассада Огурец', 'Рассада Огурца', 'Рассада Остеоспермум', 'Рассада Патиссона', 'Рассада Пеларгония', 'Рассада перца', 'Рассада пряной', 'Рассада томата',\n",
    "'Рассада Тыквы', 'Роза кордана', 'Роза Кордана', 'Роза кустовая', 'Роза мини', 'Роза одноголовая', 'Роза Палас', 'Роза патио', 'Роза Патио', 'Роза садовая',\n",
    "'Роза чайно-гибридная', 'Розмарин d-12', 'Розмарин d-9', 'Розмарин в', 'Рудбекия Тайгер', 'Салат Рукола', 'Сальвия рассада', 'Сантолина d-9', 'Седум (очиток)',\n",
    "'Седум почвопокровный', 'Сельдерей листовой', 'Синнингия (глоксиния)', 'Скиммия японская', 'Смолевка Звездный', 'Соланум d-10', 'Солидаго желтый',\n",
    "'Спатифиллум d-7', 'Спатифиллум Свит', 'Спатифиллум Шопен', 'Суккулент Микс', 'Сушилка уличная', 'Сциндапсус в', 'Табак бордовый', 'Табак душистый',\n",
    "'Табак курительный', 'Тагетис крупноцветковый', 'Тимьян d-9', 'Тимьян в', 'Тимьян крымский', 'Тимьян овощной', 'Томат Балконное', 'Томат Государь',\n",
    "'Томат детерминантный', 'томата (помидор)', 'Тыква крупноплодная', 'Тюльпан Louvre', 'Укроп Обильнолистный', 'Урна уличная', 'Урна-пепельница из',\n",
    "'Фал капроновый', 'Фаленопсис желтый', 'Фаленопсис королевский', 'Фаленопсис Люкс', 'Фарфоровая кружка', 'Фатсия d-17', 'Фатсия японская',\n",
    "'Фен дорожный', 'Фиалка d-11', 'Фиалка d-9', 'Фиалка Карнавал', 'Фиалка махровая', 'Фиалка Микс', 'Фиалка Химера', 'Физостегия Вергинская',\n",
    "'Фикус каучуконосный', 'Фиттония Скелетон', 'Флокс друммонда', 'Флокс метельчатый', 'Флокс Растопыренный', 'Фуксия Bella', 'Фуксия Blue',\n",
    "'Фуксия Dark', 'Фуксия E4', 'Фуксия Swingtime', 'Фуксия ампельная,', 'Фуксия ампельная', 'Фуксия прямостоячая', 'Хамедорея d-12', 'Хлорофитум d-13',\n",
    "'Хлорофитум d-7', 'Хоста микс', 'Хризантема Белая', 'Хризантема Корейская', 'Хризантема Космо', 'Хризантема Красная', 'Хризантема кустовая',\n",
    "'Хризантема сиреневая', 'Хризолидокарпус Лутесценс', 'Цветок искусственный', 'Цветущее комнатное', 'Целозия гребенчатая', 'Цикламен d-12',\n",
    "'Цикламен d-13', 'Цикламен d-15', 'Цикламен комнатный', 'Цикламен розовый', 'Цикламен, цвет', 'Цинерания рассада', 'Цинерария Серебряная',\n",
    "'Цинерария серебряная', 'Циния рассада', 'Цинния Ацтек', 'Цинния Коралловая', 'Цинния Оранжевый', 'Цинния хаага', 'Циперус Зумула',\n",
    "'Цитрофортунелла Кумкват', 'Чабер Bolero', 'Шалфей овощной', 'Шеффлера Голд', 'Шеффлера Лузеана', 'Эвкалипт Гунни', 'Эвкалипт Сильвердроп', \n",
    "'Энотера Миссурийская', 'Эпипремнум Ауреум', 'Эхеверия Лила', 'Эхеверия Микс', 'Эхеверия Перл', 'Эхинацея микс', 'Эхинокактус Грузони',\n",
    "'Эшшольция Карминный', 'Юкка нитчатая', 'Ясколка Войлочная']\n",
    "\n",
    "# Хранение / Мебель\n",
    "storage = ['Бак для', 'Банка из', 'Банка РОНДО', 'Банка с', 'Банка со', 'Банка стеклянная', 'Бельевые прищепки', 'Бидон пластмассовый',\n",
    "'Ваза МАСКАРАД', 'Вакуумный пакет', 'Вешалка -', 'Вешалка Valiant', 'Вешалка гардеробная', 'Вешалка деревянная',\n",
    "'Вешалка для', 'Вешалка металлическая', 'Вешалка надверная', 'Вешалка напольная', 'Вешалка настенная', 'Вешалка НИКА',\n",
    "'Вешалка с', 'Вешалка самоклеющая', 'Вешалка-перекладина Valiant', 'Вешалка-плечики 3', 'Вешалка-плечики без',\n",
    "'Вешалка-стойка №', 'Вешалка-стойка Сакура', 'Вешалка-сушилка Gimi', 'Вешалки мягкие', 'Гладильная доска-стремянка', 'Гладильная доска',\n",
    "'Держатель для', 'Доска гладильная', 'Емкость для', 'Жестяная банка', 'Ключница Картина', 'Комод Эльфпласт', 'Контейнер герметичный',\n",
    "'Контейнер для', 'Концентрат для', 'Корзина CITY', 'Корзина для', 'Корзина мягкая', 'Корзина на','Корзина пластиковая', \n",
    "'Корзинка с', 'Короб стеллажный', 'Коробка INFINITY', 'Коробка для', 'Коробка прямоугольная', 'Корыто оцинкованное', 'Котел алюминиевый',\n",
    "'Кофр для', 'Кофр малый', 'Крепеж для', 'Крышка оцинкованная', 'Крючок одежный', 'Крючок проволочный', 'Мешок для', 'Мусорный контейнер',\n",
    "'Набор вешалок', 'Набор прищепок', 'Настольная гладильная', 'Обувница-3 Квадро', 'Петля приварная', 'Петля рояльная', 'Петля-стрела ПС-286',\n",
    "'Плечики пластмассовые', 'Подрукавник Gimi', 'Подрукавник Leifheit', 'Подрукавник складной', 'Полка для', 'Полки QWERTY', 'Прищепки для',\n",
    "'Пробка для', 'Стеллаж для', 'Сумка для', 'Сумка хозяйственная', 'Сумка-тележка 2-х', 'Сумка-тележка 3-х', 'Сумка-тележка Brava', 'Сумка-тележка DELTA',\n",
    "'Сумка-тележка GIMI', 'Сумка-тележка TWIN', 'Сумка-тележка хозяйственная', 'Утюг DELTA', 'Утюг электрический', 'Чехол Eurogold',\n",
    "'Чехол для', 'Этажерка 2', 'Этажерка для', 'Этажерка цветочная', 'Ящик для']\n"
   ]
  },
  {
   "cell_type": "markdown",
   "id": "3a860c0e-ef30-4504-bfa4-3477dfb0c263",
   "metadata": {},
   "source": [
    "Приведем значения в списках к нижнему регистру"
   ]
  },
  {
   "cell_type": "code",
   "execution_count": 142,
   "id": "490d9cf7-c0d2-48ba-80c4-7e252123e3e0",
   "metadata": {},
   "outputs": [],
   "source": [
    "# функция для приведения значений в списках к нижнему регистру\n",
    "def all_lower(my_list):\n",
    "    return list(map(lambda x: x.lower(), my_list))"
   ]
  },
  {
   "cell_type": "code",
   "execution_count": 143,
   "id": "62bf73da-9e11-4c14-83ce-c57fa1c80eb0",
   "metadata": {},
   "outputs": [],
   "source": [
    "# Бытовая химия, товары для уборки\n",
    "cleaning = all_lower(cleaning)\n",
    "\n",
    "# Ванная\n",
    "bathroom = all_lower(bathroom)\n",
    "\n",
    "# Декор / текстиль\n",
    "decoration = all_lower(decoration) \n",
    "\n",
    "# Инструменты / товары для ремонта\n",
    "tools = all_lower(tools)\n",
    "\n",
    "# Кухня\n",
    "kitchen = all_lower(kitchen)\n",
    "\n",
    "# Товары для сада/растения\n",
    "garden = all_lower(garden)\n",
    "\n",
    "# Хранение / Мебель\n",
    "storage = all_lower(storage)"
   ]
  },
  {
   "cell_type": "code",
   "execution_count": 144,
   "id": "c66a7633-cc7a-44d4-918a-74a639719b18",
   "metadata": {},
   "outputs": [
    {
     "data": {
      "text/html": [
       "<div>\n",
       "<style scoped>\n",
       "    .dataframe tbody tr th:only-of-type {\n",
       "        vertical-align: middle;\n",
       "    }\n",
       "\n",
       "    .dataframe tbody tr th {\n",
       "        vertical-align: top;\n",
       "    }\n",
       "\n",
       "    .dataframe thead th {\n",
       "        text-align: right;\n",
       "    }\n",
       "</style>\n",
       "<table border=\"1\" class=\"dataframe\">\n",
       "  <thead>\n",
       "    <tr style=\"text-align: right;\">\n",
       "      <th></th>\n",
       "      <th>date</th>\n",
       "      <th>customer_id</th>\n",
       "      <th>order_id</th>\n",
       "      <th>product</th>\n",
       "      <th>quantity</th>\n",
       "      <th>price</th>\n",
       "      <th>mon_year</th>\n",
       "      <th>day</th>\n",
       "      <th>weekday</th>\n",
       "      <th>hour</th>\n",
       "      <th>season</th>\n",
       "      <th>season_name</th>\n",
       "      <th>total_cost</th>\n",
       "      <th>prodct_name_split</th>\n",
       "    </tr>\n",
       "  </thead>\n",
       "  <tbody>\n",
       "    <tr>\n",
       "      <th>0</th>\n",
       "      <td>2018-10-01</td>\n",
       "      <td>ee47d746-6d2f-4d3c-9622-c31412542920</td>\n",
       "      <td>68477</td>\n",
       "      <td>комнатное растение в горшке алое вера, d12, h30</td>\n",
       "      <td>1</td>\n",
       "      <td>142.000</td>\n",
       "      <td>2018-10</td>\n",
       "      <td>2018-10-01</td>\n",
       "      <td>1</td>\n",
       "      <td>0</td>\n",
       "      <td>4</td>\n",
       "      <td>Осень</td>\n",
       "      <td>142.000</td>\n",
       "      <td>комнатное растение</td>\n",
       "    </tr>\n",
       "    <tr>\n",
       "      <th>1</th>\n",
       "      <td>2018-10-01</td>\n",
       "      <td>ee47d746-6d2f-4d3c-9622-c31412542920</td>\n",
       "      <td>68477</td>\n",
       "      <td>комнатное растение в горшке кофе арабика, d12, h25</td>\n",
       "      <td>1</td>\n",
       "      <td>194.000</td>\n",
       "      <td>2018-10</td>\n",
       "      <td>2018-10-01</td>\n",
       "      <td>1</td>\n",
       "      <td>0</td>\n",
       "      <td>4</td>\n",
       "      <td>Осень</td>\n",
       "      <td>194.000</td>\n",
       "      <td>комнатное растение</td>\n",
       "    </tr>\n",
       "    <tr>\n",
       "      <th>2</th>\n",
       "      <td>2018-10-01</td>\n",
       "      <td>ee47d746-6d2f-4d3c-9622-c31412542920</td>\n",
       "      <td>68477</td>\n",
       "      <td>радермахера d-12 см h-20 см</td>\n",
       "      <td>1</td>\n",
       "      <td>112.000</td>\n",
       "      <td>2018-10</td>\n",
       "      <td>2018-10-01</td>\n",
       "      <td>1</td>\n",
       "      <td>0</td>\n",
       "      <td>4</td>\n",
       "      <td>Осень</td>\n",
       "      <td>112.000</td>\n",
       "      <td>радермахера d-12</td>\n",
       "    </tr>\n",
       "  </tbody>\n",
       "</table>\n",
       "</div>"
      ],
      "text/plain": [
       "        date                           customer_id  order_id                                             product  quantity   price mon_year         day  weekday  hour  season season_name  total_cost   prodct_name_split\n",
       "0 2018-10-01  ee47d746-6d2f-4d3c-9622-c31412542920     68477     комнатное растение в горшке алое вера, d12, h30         1 142.000  2018-10  2018-10-01        1     0       4       Осень     142.000  комнатное растение\n",
       "1 2018-10-01  ee47d746-6d2f-4d3c-9622-c31412542920     68477  комнатное растение в горшке кофе арабика, d12, h25         1 194.000  2018-10  2018-10-01        1     0       4       Осень     194.000  комнатное растение\n",
       "2 2018-10-01  ee47d746-6d2f-4d3c-9622-c31412542920     68477                         радермахера d-12 см h-20 см         1 112.000  2018-10  2018-10-01        1     0       4       Осень     112.000    радермахера d-12"
      ]
     },
     "execution_count": 144,
     "metadata": {},
     "output_type": "execute_result"
    }
   ],
   "source": [
    "df.head(3)"
   ]
  },
  {
   "cell_type": "markdown",
   "id": "4cae7589-027b-4ba9-af8d-a37aba6b850a",
   "metadata": {},
   "source": [
    "Теперь напишем функцию для обозначения категории товаров"
   ]
  },
  {
   "cell_type": "code",
   "execution_count": 145,
   "id": "4abe98f5-6158-4539-b07e-0795fa4c4a08",
   "metadata": {},
   "outputs": [],
   "source": [
    "def category_func(row):\n",
    "    prodct_name_split = row['prodct_name_split']\n",
    "    for x in cleaning:\n",
    "        if x in prodct_name_split:\n",
    "            row['category'] = 'бытовая химия, товары для уборки'\n",
    "        else:\n",
    "            continue\n",
    "    for x in bathroom:\n",
    "        if x in prodct_name_split:\n",
    "            row['category'] = 'ванная'\n",
    "        else:\n",
    "            continue\n",
    "    for x in decoration:\n",
    "        if x in prodct_name_split:\n",
    "            row['category'] = 'декор / текстиль'\n",
    "        else:\n",
    "            continue\n",
    "    for x in tools:\n",
    "        if x in prodct_name_split:\n",
    "            row['category'] = 'инструменты / товары для ремонта'\n",
    "        else:\n",
    "            continue\n",
    "    for x in kitchen:\n",
    "        if x in prodct_name_split:\n",
    "            row['category'] = 'кухня'\n",
    "        else:\n",
    "            continue\n",
    "    for x in garden:\n",
    "        if x in prodct_name_split:\n",
    "            row['category'] = 'товары для сада / растения'\n",
    "        else:\n",
    "            continue\n",
    "    for x in storage:\n",
    "        if x in prodct_name_split:\n",
    "            row['category'] = 'хранение / мебель'\n",
    "        else:\n",
    "            continue\n",
    "    return row"
   ]
  },
  {
   "cell_type": "code",
   "execution_count": 146,
   "id": "eda1f281-702d-493e-af2f-937a74d31d15",
   "metadata": {},
   "outputs": [],
   "source": [
    "# создадим столбец `category` и запишем в него значение 'другое'\n",
    "# Так, для товаров, для которых не получится определить категорию с помощью функции, будет указана категория 'другое'\n",
    "df['category'] = 'другое'"
   ]
  },
  {
   "cell_type": "code",
   "execution_count": 147,
   "id": "d515e579-cc9f-47b2-836e-a0477a588f77",
   "metadata": {},
   "outputs": [],
   "source": [
    "# Применим функцию\n",
    "df = df.apply(category_func, axis=1)"
   ]
  },
  {
   "cell_type": "markdown",
   "id": "f995bb1a-5506-462f-9de6-315d0e8ae32d",
   "metadata": {},
   "source": [
    "проверим датафрейм"
   ]
  },
  {
   "cell_type": "code",
   "execution_count": 148,
   "id": "37095fe5-43e3-4b5e-bee5-70017a2ae54a",
   "metadata": {},
   "outputs": [
    {
     "data": {
      "text/html": [
       "<div>\n",
       "<style scoped>\n",
       "    .dataframe tbody tr th:only-of-type {\n",
       "        vertical-align: middle;\n",
       "    }\n",
       "\n",
       "    .dataframe tbody tr th {\n",
       "        vertical-align: top;\n",
       "    }\n",
       "\n",
       "    .dataframe thead th {\n",
       "        text-align: right;\n",
       "    }\n",
       "</style>\n",
       "<table border=\"1\" class=\"dataframe\">\n",
       "  <thead>\n",
       "    <tr style=\"text-align: right;\">\n",
       "      <th></th>\n",
       "      <th>date</th>\n",
       "      <th>customer_id</th>\n",
       "      <th>order_id</th>\n",
       "      <th>product</th>\n",
       "      <th>quantity</th>\n",
       "      <th>price</th>\n",
       "      <th>mon_year</th>\n",
       "      <th>day</th>\n",
       "      <th>weekday</th>\n",
       "      <th>hour</th>\n",
       "      <th>season</th>\n",
       "      <th>season_name</th>\n",
       "      <th>total_cost</th>\n",
       "      <th>prodct_name_split</th>\n",
       "      <th>category</th>\n",
       "    </tr>\n",
       "  </thead>\n",
       "  <tbody>\n",
       "    <tr>\n",
       "      <th>1294</th>\n",
       "      <td>2018-12-21 12:00:00</td>\n",
       "      <td>8dbed656-0c92-4ea2-961a-798ce1bb35fd</td>\n",
       "      <td>69497</td>\n",
       "      <td>герань домашняя (пеларгония зональная) цветущая d12, h25-30, коралловая, полумахровая</td>\n",
       "      <td>1</td>\n",
       "      <td>149.000</td>\n",
       "      <td>2018-12</td>\n",
       "      <td>2018-12-21</td>\n",
       "      <td>5</td>\n",
       "      <td>12</td>\n",
       "      <td>1</td>\n",
       "      <td>Зима</td>\n",
       "      <td>149.000</td>\n",
       "      <td>герань домашняя</td>\n",
       "      <td>товары для сада / растения</td>\n",
       "    </tr>\n",
       "    <tr>\n",
       "      <th>5731</th>\n",
       "      <td>2019-07-09 12:00:00</td>\n",
       "      <td>9e1d3499-acff-4a46-a4ec-1aecb4f69bb9</td>\n",
       "      <td>71918</td>\n",
       "      <td>вилка столовая 3 предмета кокос свк102</td>\n",
       "      <td>1</td>\n",
       "      <td>164.000</td>\n",
       "      <td>2019-07</td>\n",
       "      <td>2019-07-09</td>\n",
       "      <td>2</td>\n",
       "      <td>12</td>\n",
       "      <td>3</td>\n",
       "      <td>Лето</td>\n",
       "      <td>164.000</td>\n",
       "      <td>вилка столовая</td>\n",
       "      <td>кухня</td>\n",
       "    </tr>\n",
       "    <tr>\n",
       "      <th>4146</th>\n",
       "      <td>2019-05-30 22:00:00</td>\n",
       "      <td>35bf6304-20ea-47fd-a5a5-2d74459b2eef</td>\n",
       "      <td>14830</td>\n",
       "      <td>пеларгония angeleyes orange укорененный черенок</td>\n",
       "      <td>1</td>\n",
       "      <td>135.000</td>\n",
       "      <td>2019-05</td>\n",
       "      <td>2019-05-30</td>\n",
       "      <td>4</td>\n",
       "      <td>22</td>\n",
       "      <td>2</td>\n",
       "      <td>Весна</td>\n",
       "      <td>135.000</td>\n",
       "      <td>пеларгония angeleyes</td>\n",
       "      <td>товары для сада / растения</td>\n",
       "    </tr>\n",
       "    <tr>\n",
       "      <th>2840</th>\n",
       "      <td>2019-04-14 15:00:00</td>\n",
       "      <td>a0ebfd6b-934d-4a58-bc56-2e63fe7e07ea</td>\n",
       "      <td>71138</td>\n",
       "      <td>сушилка для белья настенная, раздвижная лиана 0,8 м 1703019</td>\n",
       "      <td>1</td>\n",
       "      <td>300.000</td>\n",
       "      <td>2019-04</td>\n",
       "      <td>2019-04-14</td>\n",
       "      <td>7</td>\n",
       "      <td>15</td>\n",
       "      <td>2</td>\n",
       "      <td>Весна</td>\n",
       "      <td>300.000</td>\n",
       "      <td>сушилка для</td>\n",
       "      <td>кухня</td>\n",
       "    </tr>\n",
       "    <tr>\n",
       "      <th>1764</th>\n",
       "      <td>2019-02-09 20:00:00</td>\n",
       "      <td>b827d1a8-5e5d-4a44-9813-2bd669471a73</td>\n",
       "      <td>70114</td>\n",
       "      <td>вешалка-плечики без эссенции цвет тёмно-розовый fwm-002/quartz pink</td>\n",
       "      <td>30</td>\n",
       "      <td>40.000</td>\n",
       "      <td>2019-02</td>\n",
       "      <td>2019-02-09</td>\n",
       "      <td>6</td>\n",
       "      <td>20</td>\n",
       "      <td>1</td>\n",
       "      <td>Зима</td>\n",
       "      <td>1200.000</td>\n",
       "      <td>вешалка-плечики без</td>\n",
       "      <td>хранение / мебель</td>\n",
       "    </tr>\n",
       "  </tbody>\n",
       "</table>\n",
       "</div>"
      ],
      "text/plain": [
       "                    date                           customer_id  order_id                                                                                product  quantity   price mon_year         day  weekday  hour  season season_name  total_cost     prodct_name_split                    category\n",
       "1294 2018-12-21 12:00:00  8dbed656-0c92-4ea2-961a-798ce1bb35fd     69497  герань домашняя (пеларгония зональная) цветущая d12, h25-30, коралловая, полумахровая         1 149.000  2018-12  2018-12-21        5    12       1        Зима     149.000       герань домашняя  товары для сада / растения\n",
       "5731 2019-07-09 12:00:00  9e1d3499-acff-4a46-a4ec-1aecb4f69bb9     71918                                                 вилка столовая 3 предмета кокос свк102         1 164.000  2019-07  2019-07-09        2    12       3        Лето     164.000        вилка столовая                       кухня\n",
       "4146 2019-05-30 22:00:00  35bf6304-20ea-47fd-a5a5-2d74459b2eef     14830                                        пеларгония angeleyes orange укорененный черенок         1 135.000  2019-05  2019-05-30        4    22       2       Весна     135.000  пеларгония angeleyes  товары для сада / растения\n",
       "2840 2019-04-14 15:00:00  a0ebfd6b-934d-4a58-bc56-2e63fe7e07ea     71138                            сушилка для белья настенная, раздвижная лиана 0,8 м 1703019         1 300.000  2019-04  2019-04-14        7    15       2       Весна     300.000           сушилка для                       кухня\n",
       "1764 2019-02-09 20:00:00  b827d1a8-5e5d-4a44-9813-2bd669471a73     70114                    вешалка-плечики без эссенции цвет тёмно-розовый fwm-002/quartz pink        30  40.000  2019-02  2019-02-09        6    20       1        Зима    1200.000   вешалка-плечики без           хранение / мебель"
      ]
     },
     "execution_count": 148,
     "metadata": {},
     "output_type": "execute_result"
    }
   ],
   "source": [
    "df.sample(5)"
   ]
  },
  {
   "cell_type": "markdown",
   "id": "9e9819a1-9263-4f8a-a217-bcdf4fa0af32",
   "metadata": {},
   "source": [
    "## Анализ товарных категорий"
   ]
  },
  {
   "cell_type": "markdown",
   "id": "bb6c2cca-5f1d-4e21-8e9e-c6c3edd5a9ae",
   "metadata": {},
   "source": [
    "Начнем с анализа числа продуктов в каждой категории "
   ]
  },
  {
   "cell_type": "code",
   "execution_count": 149,
   "id": "06206620-0b81-4bb9-a7e8-e045c2ba1f16",
   "metadata": {},
   "outputs": [
    {
     "data": {
      "text/html": [
       "<div>\n",
       "<style scoped>\n",
       "    .dataframe tbody tr th:only-of-type {\n",
       "        vertical-align: middle;\n",
       "    }\n",
       "\n",
       "    .dataframe tbody tr th {\n",
       "        vertical-align: top;\n",
       "    }\n",
       "\n",
       "    .dataframe thead th {\n",
       "        text-align: right;\n",
       "    }\n",
       "</style>\n",
       "<table border=\"1\" class=\"dataframe\">\n",
       "  <thead>\n",
       "    <tr style=\"text-align: right;\">\n",
       "      <th></th>\n",
       "      <th>category</th>\n",
       "      <th>product</th>\n",
       "    </tr>\n",
       "  </thead>\n",
       "  <tbody>\n",
       "    <tr>\n",
       "      <th>0</th>\n",
       "      <td>товары для сада / растения</td>\n",
       "      <td>2523</td>\n",
       "    </tr>\n",
       "    <tr>\n",
       "      <th>1</th>\n",
       "      <td>хранение / мебель</td>\n",
       "      <td>708</td>\n",
       "    </tr>\n",
       "    <tr>\n",
       "      <th>2</th>\n",
       "      <td>кухня</td>\n",
       "      <td>650</td>\n",
       "    </tr>\n",
       "    <tr>\n",
       "      <th>3</th>\n",
       "      <td>декор / текстиль</td>\n",
       "      <td>555</td>\n",
       "    </tr>\n",
       "    <tr>\n",
       "      <th>4</th>\n",
       "      <td>инструменты / товары для ремонта</td>\n",
       "      <td>221</td>\n",
       "    </tr>\n",
       "    <tr>\n",
       "      <th>5</th>\n",
       "      <td>ванная</td>\n",
       "      <td>106</td>\n",
       "    </tr>\n",
       "    <tr>\n",
       "      <th>6</th>\n",
       "      <td>бытовая химия, товары для уборки</td>\n",
       "      <td>102</td>\n",
       "    </tr>\n",
       "    <tr>\n",
       "      <th>7</th>\n",
       "      <td>другое</td>\n",
       "      <td>7</td>\n",
       "    </tr>\n",
       "  </tbody>\n",
       "</table>\n",
       "</div>"
      ],
      "text/plain": [
       "                           category  product\n",
       "0        товары для сада / растения     2523\n",
       "1                 хранение / мебель      708\n",
       "2                             кухня      650\n",
       "3                  декор / текстиль      555\n",
       "4  инструменты / товары для ремонта      221\n",
       "5                            ванная      106\n",
       "6  бытовая химия, товары для уборки      102\n",
       "7                            другое        7"
      ]
     },
     "metadata": {},
     "output_type": "display_data"
    }
   ],
   "source": [
    "category_count_pivot = (\n",
    "    df\n",
    "    .pivot_table(\n",
    "        index='category', \n",
    "        values='product', \n",
    "        aggfunc='count'\n",
    "    )\n",
    "    .sort_values(\n",
    "        by='product', \n",
    "        ascending=False\n",
    "    )\n",
    "    .rename_axis(\n",
    "        None, \n",
    "        axis=1\n",
    "    ).reset_index())\n",
    "\n",
    "display(category_count_pivot)"
   ]
  },
  {
   "cell_type": "code",
   "execution_count": 150,
   "id": "b6bcb8e0-f3b5-45f9-bddd-4a94fa5cfb1e",
   "metadata": {},
   "outputs": [
    {
     "data": {
      "image/png": "[encoded data removed]",
      "text/plain": [
       "<Figure size 800x700 with 1 Axes>"
      ]
     },
     "metadata": {},
     "output_type": "display_data"
    }
   ],
   "source": [
    "f, ax = plt.subplots(figsize = (8, 7))\n",
    "ax = sns.barplot(x = 'product', y = category_count_pivot['category'] , \\\n",
    "                 data = category_count_pivot.sort_values('product', ascending = False), \\\n",
    "                 orient = 'h')\n",
    "plt.title('Анализ объема категорий')\n",
    "#plt.xticks(rotation=45)\n",
    "ax.set_xlabel('Количество товаров') \n",
    "ax.set_ylabel('Категория')\n",
    "plt.grid()\n",
    "sns.despine()\n",
    "plt.show()"
   ]
  },
  {
   "cell_type": "markdown",
   "id": "beab4b07-0298-428c-924d-620b31eece99",
   "metadata": {},
   "source": [
    "Теперь проанализируем сумму стоимостей товаров в каждой из категорий"
   ]
  },
  {
   "cell_type": "code",
   "execution_count": 151,
   "id": "832c82a3-1c4c-499c-835f-363185c83f90",
   "metadata": {},
   "outputs": [
    {
     "data": {
      "text/html": [
       "<div>\n",
       "<style scoped>\n",
       "    .dataframe tbody tr th:only-of-type {\n",
       "        vertical-align: middle;\n",
       "    }\n",
       "\n",
       "    .dataframe tbody tr th {\n",
       "        vertical-align: top;\n",
       "    }\n",
       "\n",
       "    .dataframe thead th {\n",
       "        text-align: right;\n",
       "    }\n",
       "</style>\n",
       "<table border=\"1\" class=\"dataframe\">\n",
       "  <thead>\n",
       "    <tr style=\"text-align: right;\">\n",
       "      <th></th>\n",
       "      <th>category</th>\n",
       "      <th>total_cost</th>\n",
       "    </tr>\n",
       "  </thead>\n",
       "  <tbody>\n",
       "    <tr>\n",
       "      <th>0</th>\n",
       "      <td>хранение / мебель</td>\n",
       "      <td>1258445.000</td>\n",
       "    </tr>\n",
       "    <tr>\n",
       "      <th>1</th>\n",
       "      <td>кухня</td>\n",
       "      <td>636384.000</td>\n",
       "    </tr>\n",
       "    <tr>\n",
       "      <th>2</th>\n",
       "      <td>товары для сада / растения</td>\n",
       "      <td>576075.000</td>\n",
       "    </tr>\n",
       "    <tr>\n",
       "      <th>3</th>\n",
       "      <td>декор / текстиль</td>\n",
       "      <td>543665.000</td>\n",
       "    </tr>\n",
       "    <tr>\n",
       "      <th>4</th>\n",
       "      <td>инструменты / товары для ремонта</td>\n",
       "      <td>274342.000</td>\n",
       "    </tr>\n",
       "    <tr>\n",
       "      <th>5</th>\n",
       "      <td>бытовая химия, товары для уборки</td>\n",
       "      <td>111814.000</td>\n",
       "    </tr>\n",
       "    <tr>\n",
       "      <th>6</th>\n",
       "      <td>ванная</td>\n",
       "      <td>65653.000</td>\n",
       "    </tr>\n",
       "    <tr>\n",
       "      <th>7</th>\n",
       "      <td>другое</td>\n",
       "      <td>776.000</td>\n",
       "    </tr>\n",
       "  </tbody>\n",
       "</table>\n",
       "</div>"
      ],
      "text/plain": [
       "                           category  total_cost\n",
       "0                 хранение / мебель 1258445.000\n",
       "1                             кухня  636384.000\n",
       "2        товары для сада / растения  576075.000\n",
       "3                  декор / текстиль  543665.000\n",
       "4  инструменты / товары для ремонта  274342.000\n",
       "5  бытовая химия, товары для уборки  111814.000\n",
       "6                            ванная   65653.000\n",
       "7                            другое     776.000"
      ]
     },
     "metadata": {},
     "output_type": "display_data"
    }
   ],
   "source": [
    "category_profit_pivot = (\n",
    "    df\n",
    "    .pivot_table(\n",
    "        index='category', \n",
    "        values='total_cost', \n",
    "        aggfunc='sum'\n",
    "    )\n",
    "    .sort_values(\n",
    "        by='total_cost', \n",
    "        ascending=False\n",
    "    )\n",
    "    .rename_axis(\n",
    "        None, \n",
    "        axis=1\n",
    "    ).reset_index())\n",
    "\n",
    "display(category_profit_pivot)"
   ]
  },
  {
   "cell_type": "code",
   "execution_count": 152,
   "id": "b68c9b67-5341-445d-a4a0-914db3cebcd7",
   "metadata": {},
   "outputs": [
    {
     "data": {
      "image/png": "[encoded data removed]",
      "text/plain": [
       "<Figure size 800x700 with 1 Axes>"
      ]
     },
     "metadata": {},
     "output_type": "display_data"
    }
   ],
   "source": [
    "f, ax = plt.subplots(figsize = (8, 7))\n",
    "ax = sns.barplot(x = 'total_cost', y = category_profit_pivot['category'] , \\\n",
    "                 data = category_profit_pivot.sort_values('total_cost', ascending = False), \\\n",
    "                 orient = 'h')\n",
    "plt.title('Анализ объема категорий')\n",
    "#plt.xticks(rotation=45)\n",
    "ax.set_xlabel('Количество товаров') \n",
    "ax.set_ylabel('Категория')\n",
    "plt.grid()\n",
    "sns.despine()\n",
    "plt.show()"
   ]
  },
  {
   "cell_type": "markdown",
   "id": "7ebe4d6f-b007-4b81-aa6e-91b231d9ea1d",
   "metadata": {},
   "source": [
    "Также посмотрим на среднее количество едениц в заказе для товаров из каждой категории"
   ]
  },
  {
   "cell_type": "code",
   "execution_count": 153,
   "id": "38b59410-3f2b-46ba-8c8e-be489f340a0f",
   "metadata": {},
   "outputs": [
    {
     "data": {
      "text/html": [
       "<div>\n",
       "<style scoped>\n",
       "    .dataframe tbody tr th:only-of-type {\n",
       "        vertical-align: middle;\n",
       "    }\n",
       "\n",
       "    .dataframe tbody tr th {\n",
       "        vertical-align: top;\n",
       "    }\n",
       "\n",
       "    .dataframe thead th {\n",
       "        text-align: right;\n",
       "    }\n",
       "</style>\n",
       "<table border=\"1\" class=\"dataframe\">\n",
       "  <thead>\n",
       "    <tr style=\"text-align: right;\">\n",
       "      <th></th>\n",
       "      <th>category</th>\n",
       "      <th>quantity</th>\n",
       "    </tr>\n",
       "  </thead>\n",
       "  <tbody>\n",
       "    <tr>\n",
       "      <th>0</th>\n",
       "      <td>декор / текстиль</td>\n",
       "      <td>5.724</td>\n",
       "    </tr>\n",
       "    <tr>\n",
       "      <th>1</th>\n",
       "      <td>бытовая химия, товары для уборки</td>\n",
       "      <td>5.078</td>\n",
       "    </tr>\n",
       "    <tr>\n",
       "      <th>2</th>\n",
       "      <td>инструменты / товары для ремонта</td>\n",
       "      <td>3.824</td>\n",
       "    </tr>\n",
       "    <tr>\n",
       "      <th>3</th>\n",
       "      <td>хранение / мебель</td>\n",
       "      <td>3.356</td>\n",
       "    </tr>\n",
       "    <tr>\n",
       "      <th>4</th>\n",
       "      <td>кухня</td>\n",
       "      <td>2.451</td>\n",
       "    </tr>\n",
       "    <tr>\n",
       "      <th>5</th>\n",
       "      <td>ванная</td>\n",
       "      <td>2.283</td>\n",
       "    </tr>\n",
       "    <tr>\n",
       "      <th>6</th>\n",
       "      <td>товары для сада / растения</td>\n",
       "      <td>1.613</td>\n",
       "    </tr>\n",
       "    <tr>\n",
       "      <th>7</th>\n",
       "      <td>другое</td>\n",
       "      <td>1.000</td>\n",
       "    </tr>\n",
       "  </tbody>\n",
       "</table>\n",
       "</div>"
      ],
      "text/plain": [
       "                           category  quantity\n",
       "0                  декор / текстиль     5.724\n",
       "1  бытовая химия, товары для уборки     5.078\n",
       "2  инструменты / товары для ремонта     3.824\n",
       "3                 хранение / мебель     3.356\n",
       "4                             кухня     2.451\n",
       "5                            ванная     2.283\n",
       "6        товары для сада / растения     1.613\n",
       "7                            другое     1.000"
      ]
     },
     "metadata": {},
     "output_type": "display_data"
    }
   ],
   "source": [
    "category_quantity_pivot = (\n",
    "    df\n",
    "    .pivot_table(\n",
    "        index='category', \n",
    "        values='quantity', \n",
    "        aggfunc='mean'\n",
    "    )\n",
    "    .sort_values(\n",
    "        by='quantity', \n",
    "        ascending=False\n",
    "    )\n",
    "    .rename_axis(\n",
    "        None, \n",
    "        axis=1\n",
    "    ).reset_index())\n",
    "\n",
    "display(category_quantity_pivot)"
   ]
  },
  {
   "cell_type": "code",
   "execution_count": 154,
   "id": "9b8664f1-c381-42d4-b1f4-bc835f0a3b6c",
   "metadata": {},
   "outputs": [
    {
     "data": {
      "image/png": "[encoded data removed]",
      "text/plain": [
       "<Figure size 800x700 with 1 Axes>"
      ]
     },
     "metadata": {},
     "output_type": "display_data"
    }
   ],
   "source": [
    "f, ax = plt.subplots(figsize = (8, 7))\n",
    "ax = sns.barplot(x = 'quantity', y = category_quantity_pivot['category'] , \\\n",
    "                 data = category_quantity_pivot.sort_values('quantity', ascending = False), \\\n",
    "                 orient = 'h')\n",
    "plt.title('Анализ объема категорий')\n",
    "#plt.xticks(rotation=45)\n",
    "ax.set_xlabel('Количество товаров') \n",
    "ax.set_ylabel('Категория')\n",
    "plt.grid()\n",
    "sns.despine()\n",
    "plt.show()"
   ]
  },
  {
   "cell_type": "markdown",
   "id": "e6599f63-d286-408d-8f36-0610dd11efb9",
   "metadata": {},
   "source": [
    "## Выделение первичного и вторичного товарного ассортимента"
   ]
  },
  {
   "cell_type": "markdown",
   "id": "249f0d5b-9167-430f-bc07-a7a7f3bc0a90",
   "metadata": {},
   "source": [
    "Проведем ABC  анализ, разделим товары в датасете на группы относительно их количества и суммарной стоимости.\n",
    "\n",
    "Далее проанализируем полученные группы и определим первичный и вторичный товарные ассортименты.\n",
    "\n",
    "Для успешного определения групп, нам нужно рассчитать кумулятивную сумму продаж и процент который составляет от этой суммы каждый товар из датасета.\n",
    "\n",
    "У нас уже обозначен столбец 'total_cost'. отсортируем значения по убыванию этого столбца"
   ]
  },
  {
   "cell_type": "code",
   "execution_count": 155,
   "id": "3a31f55d-c8e0-44d7-ab4b-3bf313e67908",
   "metadata": {},
   "outputs": [],
   "source": [
    "df = df.sort_values(by=['total_cost'], ascending=False)"
   ]
  },
  {
   "cell_type": "markdown",
   "id": "261e1b77-c8b8-4439-83da-6f01f347e6da",
   "metadata": {},
   "source": [
    "добавим 'сквозной' столбец с накопленной суммой `run_cum_cost`"
   ]
  },
  {
   "cell_type": "code",
   "execution_count": 156,
   "id": "e4c235df-fbb5-4412-ae93-7cb23de26e8e",
   "metadata": {},
   "outputs": [],
   "source": [
    "df['run_cum_cost'] = df['total_cost'].cumsum()"
   ]
  },
  {
   "cell_type": "markdown",
   "id": "499b40d1-cb97-4f17-88a9-ba3e067d1267",
   "metadata": {},
   "source": [
    "Теперь добавим столбец, который будет содержать полную сумму стоимости `total_cost_sum`"
   ]
  },
  {
   "cell_type": "code",
   "execution_count": 157,
   "id": "0f14e7a5-d1c2-4206-acd3-5652ebd22390",
   "metadata": {},
   "outputs": [],
   "source": [
    "df['total_cost_sum'] = df['total_cost'].sum()"
   ]
  },
  {
   "cell_type": "markdown",
   "id": "ac501aaf-a9a5-49d4-93cf-9462d95859ec",
   "metadata": {},
   "source": [
    "Теперь посчитаем процент"
   ]
  },
  {
   "cell_type": "code",
   "execution_count": 158,
   "id": "5545ea60-7eaa-42e3-921e-0dd765d6e579",
   "metadata": {},
   "outputs": [],
   "source": [
    "df['run_perc_cost'] = df['run_cum_cost'] / df['total_cost_sum']"
   ]
  },
  {
   "cell_type": "markdown",
   "id": "90b57e23-7ab7-445c-8fe0-1f10ca223540",
   "metadata": {},
   "source": [
    "Определим функцию для определения группы"
   ]
  },
  {
   "cell_type": "code",
   "execution_count": 159,
   "id": "82945422-6eaa-4ee1-9b51-82f7fbde271c",
   "metadata": {},
   "outputs": [],
   "source": [
    "# создадим 3 группы A,B,C на основе on the 'run_perc_cost' (A-80%,B-15%,C-5%)\n",
    "def ABC_segmentation_cost(run_perc_cost):\n",
    "    if run_perc_cost > 0 and run_perc_cost < 0.8:\n",
    "        return 'A'\n",
    "    elif run_perc_cost >=0.8 and run_perc_cost < 0.95:\n",
    "        return 'B'\n",
    "    elif run_perc_cost >=0.95:\n",
    "        return 'C'"
   ]
  },
  {
   "cell_type": "markdown",
   "id": "e8e18b1c-eddb-4475-8efe-7080d8ba680c",
   "metadata": {},
   "source": [
    "Применим функцию к столбцу `run_perc`"
   ]
  },
  {
   "cell_type": "code",
   "execution_count": 160,
   "id": "71226362-30d5-4784-9a59-872eb8af2728",
   "metadata": {},
   "outputs": [],
   "source": [
    "df['abc_cost'] = df['run_perc_cost'].apply(ABC_segmentation_cost)"
   ]
  },
  {
   "cell_type": "code",
   "execution_count": 161,
   "id": "48037070-11fa-4d19-a822-96934465cc5e",
   "metadata": {},
   "outputs": [
    {
     "data": {
      "text/html": [
       "<div>\n",
       "<style scoped>\n",
       "    .dataframe tbody tr th:only-of-type {\n",
       "        vertical-align: middle;\n",
       "    }\n",
       "\n",
       "    .dataframe tbody tr th {\n",
       "        vertical-align: top;\n",
       "    }\n",
       "\n",
       "    .dataframe thead th {\n",
       "        text-align: right;\n",
       "    }\n",
       "</style>\n",
       "<table border=\"1\" class=\"dataframe\">\n",
       "  <thead>\n",
       "    <tr style=\"text-align: right;\">\n",
       "      <th></th>\n",
       "      <th>date</th>\n",
       "      <th>customer_id</th>\n",
       "      <th>order_id</th>\n",
       "      <th>product</th>\n",
       "      <th>quantity</th>\n",
       "      <th>price</th>\n",
       "      <th>mon_year</th>\n",
       "      <th>day</th>\n",
       "      <th>weekday</th>\n",
       "      <th>hour</th>\n",
       "      <th>season</th>\n",
       "      <th>season_name</th>\n",
       "      <th>total_cost</th>\n",
       "      <th>prodct_name_split</th>\n",
       "      <th>category</th>\n",
       "      <th>run_cum_cost</th>\n",
       "      <th>total_cost_sum</th>\n",
       "      <th>run_perc_cost</th>\n",
       "      <th>abc_cost</th>\n",
       "    </tr>\n",
       "  </thead>\n",
       "  <tbody>\n",
       "    <tr>\n",
       "      <th>1731</th>\n",
       "      <td>2019-02-07 14:00:00</td>\n",
       "      <td>4b7b0e7e-ea25-4717-bbc7-7d01abf62854</td>\n",
       "      <td>70142</td>\n",
       "      <td>муляж перец чили в связке, красный, 60 см, полиуретан, fancy fair/ff rp60</td>\n",
       "      <td>1</td>\n",
       "      <td>187.000</td>\n",
       "      <td>2019-02</td>\n",
       "      <td>2019-02-07</td>\n",
       "      <td>4</td>\n",
       "      <td>14</td>\n",
       "      <td>1</td>\n",
       "      <td>Зима</td>\n",
       "      <td>187.000</td>\n",
       "      <td>муляж перец</td>\n",
       "      <td>декор / текстиль</td>\n",
       "      <td>3236016.000</td>\n",
       "      <td>3467154.000</td>\n",
       "      <td>0.933</td>\n",
       "      <td>B</td>\n",
       "    </tr>\n",
       "    <tr>\n",
       "      <th>4169</th>\n",
       "      <td>2019-05-31 13:00:00</td>\n",
       "      <td>e0535076-6270-4df2-8621-cb06264a94fa</td>\n",
       "      <td>71565</td>\n",
       "      <td>окномойка с пластмассовой ручкой 42 см щетка 21 см разборная 57575 1804050</td>\n",
       "      <td>1</td>\n",
       "      <td>217.000</td>\n",
       "      <td>2019-05</td>\n",
       "      <td>2019-05-31</td>\n",
       "      <td>5</td>\n",
       "      <td>13</td>\n",
       "      <td>2</td>\n",
       "      <td>Весна</td>\n",
       "      <td>217.000</td>\n",
       "      <td>окномойка с</td>\n",
       "      <td>бытовая химия, товары для уборки</td>\n",
       "      <td>3165683.000</td>\n",
       "      <td>3467154.000</td>\n",
       "      <td>0.913</td>\n",
       "      <td>B</td>\n",
       "    </tr>\n",
       "    <tr>\n",
       "      <th>3074</th>\n",
       "      <td>2019-04-24 10:00:00</td>\n",
       "      <td>fab08789-42e0-4c9a-922f-bdeceed62ed4</td>\n",
       "      <td>71265</td>\n",
       "      <td>сушилка для белья потолочная лиана люкс 300 см 300-ldn</td>\n",
       "      <td>1</td>\n",
       "      <td>787.000</td>\n",
       "      <td>2019-04</td>\n",
       "      <td>2019-04-24</td>\n",
       "      <td>3</td>\n",
       "      <td>10</td>\n",
       "      <td>2</td>\n",
       "      <td>Весна</td>\n",
       "      <td>787.000</td>\n",
       "      <td>сушилка для</td>\n",
       "      <td>кухня</td>\n",
       "      <td>2607996.000</td>\n",
       "      <td>3467154.000</td>\n",
       "      <td>0.752</td>\n",
       "      <td>A</td>\n",
       "    </tr>\n",
       "  </tbody>\n",
       "</table>\n",
       "</div>"
      ],
      "text/plain": [
       "                    date                           customer_id  order_id                                                                     product  quantity   price mon_year         day  weekday  hour  season season_name  total_cost prodct_name_split                          category  run_cum_cost  total_cost_sum  run_perc_cost abc_cost\n",
       "1731 2019-02-07 14:00:00  4b7b0e7e-ea25-4717-bbc7-7d01abf62854     70142   муляж перец чили в связке, красный, 60 см, полиуретан, fancy fair/ff rp60         1 187.000  2019-02  2019-02-07        4    14       1        Зима     187.000       муляж перец                  декор / текстиль   3236016.000     3467154.000          0.933        B\n",
       "4169 2019-05-31 13:00:00  e0535076-6270-4df2-8621-cb06264a94fa     71565  окномойка с пластмассовой ручкой 42 см щетка 21 см разборная 57575 1804050         1 217.000  2019-05  2019-05-31        5    13       2       Весна     217.000       окномойка с  бытовая химия, товары для уборки   3165683.000     3467154.000          0.913        B\n",
       "3074 2019-04-24 10:00:00  fab08789-42e0-4c9a-922f-bdeceed62ed4     71265                      сушилка для белья потолочная лиана люкс 300 см 300-ldn         1 787.000  2019-04  2019-04-24        3    10       2       Весна     787.000       сушилка для                             кухня   2607996.000     3467154.000          0.752        A"
      ]
     },
     "execution_count": 161,
     "metadata": {},
     "output_type": "execute_result"
    }
   ],
   "source": [
    "df.sample(3)"
   ]
  },
  {
   "cell_type": "markdown",
   "id": "cbfa0333-f898-44a7-a1a8-7d8b8a9c8889",
   "metadata": {},
   "source": [
    "Теперь мы можем провести ABC не относительно стоимости, а относительно количества товаров"
   ]
  },
  {
   "cell_type": "code",
   "execution_count": 162,
   "id": "ec10ebab-5949-4d6f-852b-5d2bb4438db5",
   "metadata": {},
   "outputs": [],
   "source": [
    "df = df.sort_values(by=['quantity'], ascending=False)"
   ]
  },
  {
   "cell_type": "code",
   "execution_count": 163,
   "id": "b2dada1e-6253-4f3e-95d3-5bc770534dc4",
   "metadata": {},
   "outputs": [],
   "source": [
    "df['run_cum_quant'] = df['quantity'].cumsum()"
   ]
  },
  {
   "cell_type": "code",
   "execution_count": 164,
   "id": "dc5d7439-a379-4348-bb7a-4eea564300a6",
   "metadata": {},
   "outputs": [],
   "source": [
    "df['total_quant_sum'] = df['quantity'].sum()"
   ]
  },
  {
   "cell_type": "code",
   "execution_count": 165,
   "id": "f75c8d05-897c-4fc6-af12-9e01fc1dfe32",
   "metadata": {},
   "outputs": [],
   "source": [
    "df['run_perc_quant'] = df['run_cum_quant'] / df['total_quant_sum']"
   ]
  },
  {
   "cell_type": "code",
   "execution_count": 166,
   "id": "0788a618-b1f2-4420-bcc6-2e2b01156554",
   "metadata": {},
   "outputs": [],
   "source": [
    "# создадим 3 группы A,B,C на основе on the 'run_perc_quant' (A-80%,B-15%,C-5%)\n",
    "def ABC_segmentation_quant(run_perc_quant):\n",
    "    if run_perc_quant > 0 and run_perc_quant < 0.8:\n",
    "        return 'A'\n",
    "    elif run_perc_quant >=0.8 and run_perc_quant < 0.95:\n",
    "        return 'B'\n",
    "    elif run_perc_quant >=0.95:\n",
    "        return 'C'"
   ]
  },
  {
   "cell_type": "code",
   "execution_count": 167,
   "id": "0910836a-98fd-405d-9502-af58c652a4f8",
   "metadata": {},
   "outputs": [],
   "source": [
    "df['abc_quant'] = df['run_perc_quant'].apply(ABC_segmentation_quant)"
   ]
  },
  {
   "cell_type": "code",
   "execution_count": 168,
   "id": "72e61431-ab65-4a28-8a87-acd4c182eef6",
   "metadata": {},
   "outputs": [
    {
     "data": {
      "text/html": [
       "<div>\n",
       "<style scoped>\n",
       "    .dataframe tbody tr th:only-of-type {\n",
       "        vertical-align: middle;\n",
       "    }\n",
       "\n",
       "    .dataframe tbody tr th {\n",
       "        vertical-align: top;\n",
       "    }\n",
       "\n",
       "    .dataframe thead th {\n",
       "        text-align: right;\n",
       "    }\n",
       "</style>\n",
       "<table border=\"1\" class=\"dataframe\">\n",
       "  <thead>\n",
       "    <tr style=\"text-align: right;\">\n",
       "      <th></th>\n",
       "      <th>date</th>\n",
       "      <th>customer_id</th>\n",
       "      <th>order_id</th>\n",
       "      <th>product</th>\n",
       "      <th>quantity</th>\n",
       "      <th>price</th>\n",
       "      <th>mon_year</th>\n",
       "      <th>day</th>\n",
       "      <th>weekday</th>\n",
       "      <th>hour</th>\n",
       "      <th>season</th>\n",
       "      <th>season_name</th>\n",
       "      <th>total_cost</th>\n",
       "      <th>prodct_name_split</th>\n",
       "      <th>category</th>\n",
       "      <th>run_cum_cost</th>\n",
       "      <th>total_cost_sum</th>\n",
       "      <th>run_perc_cost</th>\n",
       "      <th>abc_cost</th>\n",
       "      <th>run_cum_quant</th>\n",
       "      <th>total_quant_sum</th>\n",
       "      <th>run_perc_quant</th>\n",
       "      <th>abc_quant</th>\n",
       "    </tr>\n",
       "  </thead>\n",
       "  <tbody>\n",
       "    <tr>\n",
       "      <th>4428</th>\n",
       "      <td>2019-06-03 21:00:00</td>\n",
       "      <td>dd1d60fe-b537-491e-af72-bfd11493e920</td>\n",
       "      <td>14842</td>\n",
       "      <td>пеларгония розебудная red pandora укорененный черенок</td>\n",
       "      <td>1</td>\n",
       "      <td>135.000</td>\n",
       "      <td>2019-06</td>\n",
       "      <td>2019-06-03</td>\n",
       "      <td>1</td>\n",
       "      <td>21</td>\n",
       "      <td>3</td>\n",
       "      <td>Лето</td>\n",
       "      <td>135.000</td>\n",
       "      <td>пеларгония розебудная</td>\n",
       "      <td>товары для сада / растения</td>\n",
       "      <td>3320076.000</td>\n",
       "      <td>3467154.000</td>\n",
       "      <td>0.958</td>\n",
       "      <td>C</td>\n",
       "      <td>9862</td>\n",
       "      <td>12827</td>\n",
       "      <td>0.769</td>\n",
       "      <td>A</td>\n",
       "    </tr>\n",
       "    <tr>\n",
       "      <th>1948</th>\n",
       "      <td>2019-02-22 10:00:00</td>\n",
       "      <td>a479e857-7300-43d4-833c-55dc5bb65c83</td>\n",
       "      <td>70399</td>\n",
       "      <td>форма аlpenkok ak-6062s для выпечки love розовый 21,5*24,5*4 см</td>\n",
       "      <td>1</td>\n",
       "      <td>194.000</td>\n",
       "      <td>2019-02</td>\n",
       "      <td>2019-02-22</td>\n",
       "      <td>5</td>\n",
       "      <td>10</td>\n",
       "      <td>1</td>\n",
       "      <td>Зима</td>\n",
       "      <td>194.000</td>\n",
       "      <td>форма аlpenkok</td>\n",
       "      <td>кухня</td>\n",
       "      <td>3188304.000</td>\n",
       "      <td>3467154.000</td>\n",
       "      <td>0.920</td>\n",
       "      <td>B</td>\n",
       "      <td>12681</td>\n",
       "      <td>12827</td>\n",
       "      <td>0.989</td>\n",
       "      <td>C</td>\n",
       "    </tr>\n",
       "    <tr>\n",
       "      <th>388</th>\n",
       "      <td>2018-10-23 21:00:00</td>\n",
       "      <td>aad8e182-8789-4c16-a85e-5750edd1099f</td>\n",
       "      <td>68733</td>\n",
       "      <td>сушилка для белья настенная zalger prima 510-720 веревочная 7 линий 25 м</td>\n",
       "      <td>1</td>\n",
       "      <td>299.000</td>\n",
       "      <td>2018-10</td>\n",
       "      <td>2018-10-23</td>\n",
       "      <td>2</td>\n",
       "      <td>21</td>\n",
       "      <td>4</td>\n",
       "      <td>Осень</td>\n",
       "      <td>299.000</td>\n",
       "      <td>сушилка для</td>\n",
       "      <td>кухня</td>\n",
       "      <td>3095217.000</td>\n",
       "      <td>3467154.000</td>\n",
       "      <td>0.893</td>\n",
       "      <td>B</td>\n",
       "      <td>12488</td>\n",
       "      <td>12827</td>\n",
       "      <td>0.974</td>\n",
       "      <td>C</td>\n",
       "    </tr>\n",
       "    <tr>\n",
       "      <th>2237</th>\n",
       "      <td>2019-03-07 10:00:00</td>\n",
       "      <td>0184f535-b60a-4914-a982-231e3f615206</td>\n",
       "      <td>14566</td>\n",
       "      <td>пеларгония розебудная margaretha укорененный черенок</td>\n",
       "      <td>1</td>\n",
       "      <td>135.000</td>\n",
       "      <td>2019-03</td>\n",
       "      <td>2019-03-07</td>\n",
       "      <td>4</td>\n",
       "      <td>10</td>\n",
       "      <td>2</td>\n",
       "      <td>Весна</td>\n",
       "      <td>135.000</td>\n",
       "      <td>пеларгония розебудная</td>\n",
       "      <td>товары для сада / растения</td>\n",
       "      <td>3332766.000</td>\n",
       "      <td>3467154.000</td>\n",
       "      <td>0.961</td>\n",
       "      <td>C</td>\n",
       "      <td>9744</td>\n",
       "      <td>12827</td>\n",
       "      <td>0.760</td>\n",
       "      <td>A</td>\n",
       "    </tr>\n",
       "    <tr>\n",
       "      <th>3901</th>\n",
       "      <td>2019-05-18 15:00:00</td>\n",
       "      <td>2459fe55-74d9-4e11-b82a-5265594f255e</td>\n",
       "      <td>14791</td>\n",
       "      <td>декабрист в горшке d12 цвет фуксии</td>\n",
       "      <td>1</td>\n",
       "      <td>139.000</td>\n",
       "      <td>2019-05</td>\n",
       "      <td>2019-05-18</td>\n",
       "      <td>6</td>\n",
       "      <td>15</td>\n",
       "      <td>2</td>\n",
       "      <td>Весна</td>\n",
       "      <td>139.000</td>\n",
       "      <td>декабрист в</td>\n",
       "      <td>товары для сада / растения</td>\n",
       "      <td>3312918.000</td>\n",
       "      <td>3467154.000</td>\n",
       "      <td>0.956</td>\n",
       "      <td>C</td>\n",
       "      <td>9536</td>\n",
       "      <td>12827</td>\n",
       "      <td>0.743</td>\n",
       "      <td>A</td>\n",
       "    </tr>\n",
       "  </tbody>\n",
       "</table>\n",
       "</div>"
      ],
      "text/plain": [
       "                    date                           customer_id  order_id                                                                   product  quantity   price mon_year         day  weekday  hour  season season_name  total_cost      prodct_name_split                    category  run_cum_cost  total_cost_sum  run_perc_cost abc_cost  run_cum_quant  total_quant_sum  run_perc_quant abc_quant\n",
       "4428 2019-06-03 21:00:00  dd1d60fe-b537-491e-af72-bfd11493e920     14842                     пеларгония розебудная red pandora укорененный черенок         1 135.000  2019-06  2019-06-03        1    21       3        Лето     135.000  пеларгония розебудная  товары для сада / растения   3320076.000     3467154.000          0.958        C           9862            12827           0.769         A\n",
       "1948 2019-02-22 10:00:00  a479e857-7300-43d4-833c-55dc5bb65c83     70399           форма аlpenkok ak-6062s для выпечки love розовый 21,5*24,5*4 см         1 194.000  2019-02  2019-02-22        5    10       1        Зима     194.000         форма аlpenkok                       кухня   3188304.000     3467154.000          0.920        B          12681            12827           0.989         C\n",
       "388  2018-10-23 21:00:00  aad8e182-8789-4c16-a85e-5750edd1099f     68733  сушилка для белья настенная zalger prima 510-720 веревочная 7 линий 25 м         1 299.000  2018-10  2018-10-23        2    21       4       Осень     299.000            сушилка для                       кухня   3095217.000     3467154.000          0.893        B          12488            12827           0.974         C\n",
       "2237 2019-03-07 10:00:00  0184f535-b60a-4914-a982-231e3f615206     14566                      пеларгония розебудная margaretha укорененный черенок         1 135.000  2019-03  2019-03-07        4    10       2       Весна     135.000  пеларгония розебудная  товары для сада / растения   3332766.000     3467154.000          0.961        C           9744            12827           0.760         A\n",
       "3901 2019-05-18 15:00:00  2459fe55-74d9-4e11-b82a-5265594f255e     14791                                        декабрист в горшке d12 цвет фуксии         1 139.000  2019-05  2019-05-18        6    15       2       Весна     139.000            декабрист в  товары для сада / растения   3312918.000     3467154.000          0.956        C           9536            12827           0.743         A"
      ]
     },
     "execution_count": 168,
     "metadata": {},
     "output_type": "execute_result"
    }
   ],
   "source": [
    "df.sample(5)"
   ]
  },
  {
   "cell_type": "markdown",
   "id": "c69345af-2d9f-4d7a-8dbf-bc1e1c42485a",
   "metadata": {},
   "source": [
    "Теперь обозначим первичный и вторичный ассортимент\n",
    "\n",
    "Для удобства объединим значения из `abc_cost` и `abc_quant` в один столбец"
   ]
  },
  {
   "cell_type": "code",
   "execution_count": 169,
   "id": "31a32554-8ab8-4e5d-8017-6822e7e626b9",
   "metadata": {},
   "outputs": [],
   "source": [
    "df['abc_cost_and_quant'] = df['abc_cost'] + df['abc_quant']"
   ]
  },
  {
   "cell_type": "code",
   "execution_count": 170,
   "id": "ab6880ae-961e-4cc0-ad3d-667b7382b89b",
   "metadata": {},
   "outputs": [
    {
     "data": {
      "text/html": [
       "<div>\n",
       "<style scoped>\n",
       "    .dataframe tbody tr th:only-of-type {\n",
       "        vertical-align: middle;\n",
       "    }\n",
       "\n",
       "    .dataframe tbody tr th {\n",
       "        vertical-align: top;\n",
       "    }\n",
       "\n",
       "    .dataframe thead th {\n",
       "        text-align: right;\n",
       "    }\n",
       "</style>\n",
       "<table border=\"1\" class=\"dataframe\">\n",
       "  <thead>\n",
       "    <tr style=\"text-align: right;\">\n",
       "      <th></th>\n",
       "      <th>date</th>\n",
       "      <th>customer_id</th>\n",
       "      <th>order_id</th>\n",
       "      <th>product</th>\n",
       "      <th>quantity</th>\n",
       "      <th>price</th>\n",
       "      <th>mon_year</th>\n",
       "      <th>day</th>\n",
       "      <th>weekday</th>\n",
       "      <th>hour</th>\n",
       "      <th>season</th>\n",
       "      <th>season_name</th>\n",
       "      <th>total_cost</th>\n",
       "      <th>prodct_name_split</th>\n",
       "      <th>category</th>\n",
       "      <th>run_cum_cost</th>\n",
       "      <th>total_cost_sum</th>\n",
       "      <th>run_perc_cost</th>\n",
       "      <th>abc_cost</th>\n",
       "      <th>run_cum_quant</th>\n",
       "      <th>total_quant_sum</th>\n",
       "      <th>run_perc_quant</th>\n",
       "      <th>abc_quant</th>\n",
       "      <th>abc_cost_and_quant</th>\n",
       "    </tr>\n",
       "  </thead>\n",
       "  <tbody>\n",
       "    <tr>\n",
       "      <th>3757</th>\n",
       "      <td>2019-05-14 11:00:00</td>\n",
       "      <td>daef5362-af6c-4a0e-b838-831dc927475d</td>\n",
       "      <td>14770</td>\n",
       "      <td>рассада капусты кольраби сорт гулливер кассета 6 шт e6</td>\n",
       "      <td>1</td>\n",
       "      <td>120.000</td>\n",
       "      <td>2019-05</td>\n",
       "      <td>2019-05-14</td>\n",
       "      <td>2</td>\n",
       "      <td>11</td>\n",
       "      <td>2</td>\n",
       "      <td>Весна</td>\n",
       "      <td>120.000</td>\n",
       "      <td>рассада капусты</td>\n",
       "      <td>товары для сада / растения</td>\n",
       "      <td>3374811.000</td>\n",
       "      <td>3467154.000</td>\n",
       "      <td>0.973</td>\n",
       "      <td>C</td>\n",
       "      <td>9385</td>\n",
       "      <td>12827</td>\n",
       "      <td>0.732</td>\n",
       "      <td>A</td>\n",
       "      <td>CA</td>\n",
       "    </tr>\n",
       "    <tr>\n",
       "      <th>1801</th>\n",
       "      <td>2019-02-12 16:00:00</td>\n",
       "      <td>b8435301-8737-46c2-8db0-02a0570f0971</td>\n",
       "      <td>70228</td>\n",
       "      <td>сумка-тележка хозяйственная rolser jet joy серебро, jet016 plata joy</td>\n",
       "      <td>1</td>\n",
       "      <td>3329.000</td>\n",
       "      <td>2019-02</td>\n",
       "      <td>2019-02-12</td>\n",
       "      <td>2</td>\n",
       "      <td>16</td>\n",
       "      <td>1</td>\n",
       "      <td>Зима</td>\n",
       "      <td>3329.000</td>\n",
       "      <td>сумка-тележка хозяйственная</td>\n",
       "      <td>хранение / мебель</td>\n",
       "      <td>1171806.000</td>\n",
       "      <td>3467154.000</td>\n",
       "      <td>0.338</td>\n",
       "      <td>A</td>\n",
       "      <td>9299</td>\n",
       "      <td>12827</td>\n",
       "      <td>0.725</td>\n",
       "      <td>A</td>\n",
       "      <td>AA</td>\n",
       "    </tr>\n",
       "    <tr>\n",
       "      <th>3248</th>\n",
       "      <td>2019-04-28 13:00:00</td>\n",
       "      <td>b6da6f7a-d2a3-424a-878e-1876c8b88126</td>\n",
       "      <td>14700</td>\n",
       "      <td>дыня симпатия р-9</td>\n",
       "      <td>2</td>\n",
       "      <td>38.000</td>\n",
       "      <td>2019-04</td>\n",
       "      <td>2019-04-28</td>\n",
       "      <td>7</td>\n",
       "      <td>13</td>\n",
       "      <td>2</td>\n",
       "      <td>Весна</td>\n",
       "      <td>76.000</td>\n",
       "      <td>дыня симпатия</td>\n",
       "      <td>товары для сада / растения</td>\n",
       "      <td>3439721.000</td>\n",
       "      <td>3467154.000</td>\n",
       "      <td>0.992</td>\n",
       "      <td>C</td>\n",
       "      <td>8515</td>\n",
       "      <td>12827</td>\n",
       "      <td>0.664</td>\n",
       "      <td>A</td>\n",
       "      <td>CA</td>\n",
       "    </tr>\n",
       "  </tbody>\n",
       "</table>\n",
       "</div>"
      ],
      "text/plain": [
       "                    date                           customer_id  order_id                                                               product  quantity    price mon_year         day  weekday  hour  season season_name  total_cost            prodct_name_split                    category  run_cum_cost  total_cost_sum  run_perc_cost abc_cost  run_cum_quant  total_quant_sum  run_perc_quant abc_quant abc_cost_and_quant\n",
       "3757 2019-05-14 11:00:00  daef5362-af6c-4a0e-b838-831dc927475d     14770                рассада капусты кольраби сорт гулливер кассета 6 шт e6         1  120.000  2019-05  2019-05-14        2    11       2       Весна     120.000              рассада капусты  товары для сада / растения   3374811.000     3467154.000          0.973        C           9385            12827           0.732         A                 CA\n",
       "1801 2019-02-12 16:00:00  b8435301-8737-46c2-8db0-02a0570f0971     70228  сумка-тележка хозяйственная rolser jet joy серебро, jet016 plata joy         1 3329.000  2019-02  2019-02-12        2    16       1        Зима    3329.000  сумка-тележка хозяйственная           хранение / мебель   1171806.000     3467154.000          0.338        A           9299            12827           0.725         A                 AA\n",
       "3248 2019-04-28 13:00:00  b6da6f7a-d2a3-424a-878e-1876c8b88126     14700                                                     дыня симпатия р-9         2   38.000  2019-04  2019-04-28        7    13       2       Весна      76.000                дыня симпатия  товары для сада / растения   3439721.000     3467154.000          0.992        C           8515            12827           0.664         A                 CA"
      ]
     },
     "execution_count": 170,
     "metadata": {},
     "output_type": "execute_result"
    }
   ],
   "source": [
    "df.sample(3)"
   ]
  },
  {
   "cell_type": "code",
   "execution_count": 171,
   "id": "a81f87ab-c637-4745-a459-d3d947ae0040",
   "metadata": {},
   "outputs": [
    {
     "data": {
      "text/html": [
       "<div>\n",
       "<style scoped>\n",
       "    .dataframe tbody tr th:only-of-type {\n",
       "        vertical-align: middle;\n",
       "    }\n",
       "\n",
       "    .dataframe tbody tr th {\n",
       "        vertical-align: top;\n",
       "    }\n",
       "\n",
       "    .dataframe thead th {\n",
       "        text-align: right;\n",
       "    }\n",
       "</style>\n",
       "<table border=\"1\" class=\"dataframe\">\n",
       "  <thead>\n",
       "    <tr style=\"text-align: right;\">\n",
       "      <th></th>\n",
       "      <th>abc_cost_and_quant</th>\n",
       "      <th>total_cost</th>\n",
       "      <th>cost_share</th>\n",
       "    </tr>\n",
       "  </thead>\n",
       "  <tbody>\n",
       "    <tr>\n",
       "      <th>0</th>\n",
       "      <td>AA</td>\n",
       "      <td>1353844.000</td>\n",
       "      <td>0.390</td>\n",
       "    </tr>\n",
       "    <tr>\n",
       "      <th>1</th>\n",
       "      <td>AB</td>\n",
       "      <td>955477.000</td>\n",
       "      <td>0.276</td>\n",
       "    </tr>\n",
       "    <tr>\n",
       "      <th>2</th>\n",
       "      <td>AC</td>\n",
       "      <td>463844.000</td>\n",
       "      <td>0.134</td>\n",
       "    </tr>\n",
       "    <tr>\n",
       "      <th>3</th>\n",
       "      <td>BB</td>\n",
       "      <td>250734.000</td>\n",
       "      <td>0.072</td>\n",
       "    </tr>\n",
       "    <tr>\n",
       "      <th>4</th>\n",
       "      <td>BA</td>\n",
       "      <td>184251.000</td>\n",
       "      <td>0.053</td>\n",
       "    </tr>\n",
       "    <tr>\n",
       "      <th>5</th>\n",
       "      <td>CA</td>\n",
       "      <td>132365.000</td>\n",
       "      <td>0.038</td>\n",
       "    </tr>\n",
       "    <tr>\n",
       "      <th>6</th>\n",
       "      <td>BC</td>\n",
       "      <td>85615.000</td>\n",
       "      <td>0.025</td>\n",
       "    </tr>\n",
       "    <tr>\n",
       "      <th>7</th>\n",
       "      <td>CB</td>\n",
       "      <td>41015.000</td>\n",
       "      <td>0.012</td>\n",
       "    </tr>\n",
       "    <tr>\n",
       "      <th>8</th>\n",
       "      <td>CC</td>\n",
       "      <td>9.000</td>\n",
       "      <td>0.000</td>\n",
       "    </tr>\n",
       "  </tbody>\n",
       "</table>\n",
       "</div>"
      ],
      "text/plain": [
       "  abc_cost_and_quant  total_cost  cost_share\n",
       "0                 AA 1353844.000       0.390\n",
       "1                 AB  955477.000       0.276\n",
       "2                 AC  463844.000       0.134\n",
       "3                 BB  250734.000       0.072\n",
       "4                 BA  184251.000       0.053\n",
       "5                 CA  132365.000       0.038\n",
       "6                 BC   85615.000       0.025\n",
       "7                 CB   41015.000       0.012\n",
       "8                 CC       9.000       0.000"
      ]
     },
     "metadata": {},
     "output_type": "display_data"
    }
   ],
   "source": [
    "abc_total_cost_pivot = (\n",
    "    df\n",
    "    .pivot_table(\n",
    "        index='abc_cost_and_quant', \n",
    "        values='total_cost', \n",
    "        aggfunc='sum'\n",
    "    )\n",
    "    .sort_values(\n",
    "        by='total_cost', \n",
    "        ascending=False\n",
    "    )\n",
    "    .rename_axis(\n",
    "        None, \n",
    "        axis=1\n",
    "    ).reset_index())\n",
    "\n",
    "abc_total_cost_pivot['cost_share'] = abc_total_cost_pivot['total_cost'] / df['total_cost'].sum()\n",
    "display(abc_total_cost_pivot.sort_values(by='cost_share', ascending=False))"
   ]
  },
  {
   "cell_type": "markdown",
   "id": "aa8679a0-d028-438e-850e-4c937af1edfa",
   "metadata": {},
   "source": [
    "Большую часть от всего объема выручки составляют товары групп \n",
    "- AA - 39%\n",
    "- AB - 27%\n",
    "\n",
    "Эти товары можно считать основным товарным ассортиментом\n",
    "\n",
    "Что касается дополнительного товарного ассортимента - то это товары:\n",
    "- AC - 13%\n",
    "- BB - 7%\n",
    "- BA - 5%"
   ]
  },
  {
   "cell_type": "markdown",
   "id": "eb4c2eab-8a6e-4532-a085-3b7daf32db0c",
   "metadata": {},
   "source": [
    "# Сформулируйте и проверьте статистические гипотезы:"
   ]
  },
  {
   "cell_type": "markdown",
   "id": "a92e7532-a1b9-4346-a07b-f7648fb8b08d",
   "metadata": {},
   "source": [
    "### Анализ разницы в средних чеках между категориями"
   ]
  },
  {
   "cell_type": "markdown",
   "id": "6cf26c83-0fe4-4ce0-9810-e7f5b7207e88",
   "metadata": {},
   "source": [
    "Посмотрим на ТОП 4 категории по выручке"
   ]
  },
  {
   "cell_type": "code",
   "execution_count": 172,
   "id": "4a76a859-7e63-4d52-b7d2-16e6c781b36b",
   "metadata": {},
   "outputs": [
    {
     "data": {
      "text/html": [
       "<div>\n",
       "<style scoped>\n",
       "    .dataframe tbody tr th:only-of-type {\n",
       "        vertical-align: middle;\n",
       "    }\n",
       "\n",
       "    .dataframe tbody tr th {\n",
       "        vertical-align: top;\n",
       "    }\n",
       "\n",
       "    .dataframe thead th {\n",
       "        text-align: right;\n",
       "    }\n",
       "</style>\n",
       "<table border=\"1\" class=\"dataframe\">\n",
       "  <thead>\n",
       "    <tr style=\"text-align: right;\">\n",
       "      <th></th>\n",
       "      <th>category</th>\n",
       "      <th>total_cost</th>\n",
       "    </tr>\n",
       "  </thead>\n",
       "  <tbody>\n",
       "    <tr>\n",
       "      <th>0</th>\n",
       "      <td>хранение / мебель</td>\n",
       "      <td>1258445.000</td>\n",
       "    </tr>\n",
       "    <tr>\n",
       "      <th>1</th>\n",
       "      <td>кухня</td>\n",
       "      <td>636384.000</td>\n",
       "    </tr>\n",
       "    <tr>\n",
       "      <th>2</th>\n",
       "      <td>товары для сада / растения</td>\n",
       "      <td>576075.000</td>\n",
       "    </tr>\n",
       "    <tr>\n",
       "      <th>3</th>\n",
       "      <td>декор / текстиль</td>\n",
       "      <td>543665.000</td>\n",
       "    </tr>\n",
       "  </tbody>\n",
       "</table>\n",
       "</div>"
      ],
      "text/plain": [
       "                     category  total_cost\n",
       "0           хранение / мебель 1258445.000\n",
       "1                       кухня  636384.000\n",
       "2  товары для сада / растения  576075.000\n",
       "3            декор / текстиль  543665.000"
      ]
     },
     "execution_count": 172,
     "metadata": {},
     "output_type": "execute_result"
    }
   ],
   "source": [
    "category_profit_pivot.head(4)"
   ]
  },
  {
   "cell_type": "markdown",
   "id": "3caa4197-2b77-4090-baae-82fd5b2da3da",
   "metadata": {},
   "source": [
    "Сформулируем гипотезы:\n",
    "- **H0** - средние чеки ТОП 4 между категориями не отличаются\n",
    "- **H1** - между чеками категорий ТОП 4 есть различия\n",
    "\n",
    "Теперь выберем значения из датасета и создадим новые датафреймы под каждую категорию"
   ]
  },
  {
   "cell_type": "code",
   "execution_count": 173,
   "id": "14a49a68-9b88-4810-b16e-ff59595047e5",
   "metadata": {},
   "outputs": [],
   "source": [
    "# Хранение / Мебель\n",
    "storage_df = df[df['category'] == 'хранение / мебель']['total_cost']\n",
    "\n",
    "# Кухня\n",
    "kitchen_df = df[df['category'] == 'кухня']['total_cost']\n",
    "\n",
    "# Товары для сада/растения\n",
    "garden_df = df[df['category'] == 'товары для сада / растения']['total_cost']\n",
    "\n",
    "# Декор / текстиль\n",
    "decoration_df = df[df['category'] == 'декор / текстиль']['total_cost']"
   ]
  },
  {
   "cell_type": "markdown",
   "id": "7ce2c7fa-c3cb-4394-80e6-2d43ae7ea8be",
   "metadata": {},
   "source": [
    "Составим план проверок:\n",
    "- storage_df - kitchen_df\n",
    "- storage_df - garden_df\n",
    "- storage_df - decoration_df\n",
    "- kitchen_df - garden_df\n",
    "- kitchen_df - decoration_df\n",
    "- garden_df - decoration_df\n",
    "\n",
    "Получается 6 проверок."
   ]
  },
  {
   "cell_type": "code",
   "execution_count": 174,
   "id": "1d6c1d0a-a6f8-4eaa-98f5-c593347d934c",
   "metadata": {},
   "outputs": [
    {
     "name": "stdout",
     "output_type": "stream",
     "text": [
      "p-value = 0.000000000000000000000000000051\n",
      "0.815495\n"
     ]
    }
   ],
   "source": [
    "# storage_df - kitchen_df\n",
    "print ('p-value =', '{0:.30f}'.format(st.mannwhitneyu(storage_df, kitchen_df) [1]))\n",
    "print('{0:.6f}'.format(storage_df.mean() / kitchen_df.mean () -1))"
   ]
  },
  {
   "cell_type": "code",
   "execution_count": 175,
   "id": "9c9f47d7-b0a1-4a1a-bfc8-fb19e7531745",
   "metadata": {},
   "outputs": [
    {
     "name": "stdout",
     "output_type": "stream",
     "text": [
      "p-value = 0.000000000000000000000000000000\n",
      "6.784652\n"
     ]
    }
   ],
   "source": [
    "# storage_df - garden_df\n",
    "print ('p-value =', '{0:.30f}'.format(st.mannwhitneyu(storage_df, garden_df) [1]))\n",
    "print('{0:.6f}'.format(storage_df.mean() / garden_df.mean () -1))"
   ]
  },
  {
   "cell_type": "code",
   "execution_count": 176,
   "id": "40a67f2e-a84e-42ed-a8d5-ebdb05016261",
   "metadata": {},
   "outputs": [
    {
     "name": "stdout",
     "output_type": "stream",
     "text": [
      "p-value = 0.000000000000000000000000000000\n",
      "0.814523\n"
     ]
    }
   ],
   "source": [
    "# storage_df - decoration_df\n",
    "print ('p-value =', '{0:.30f}'.format(st.mannwhitneyu(storage_df, decoration_df) [1]))\n",
    "print('{0:.6f}'.format(storage_df.mean() / decoration_df.mean () -1))"
   ]
  },
  {
   "cell_type": "code",
   "execution_count": 177,
   "id": "5c9e834f-97de-4bac-9950-f452fdef7a62",
   "metadata": {},
   "outputs": [
    {
     "name": "stdout",
     "output_type": "stream",
     "text": [
      "p-value = 0.000000000000000000000000000000\n",
      "3.287895\n"
     ]
    }
   ],
   "source": [
    "# kitchen_df - garden_df\n",
    "print ('p-value =', '{0:.30f}'.format(st.mannwhitneyu(kitchen_df, garden_df) [1]))\n",
    "print('{0:.6f}'.format(kitchen_df.mean() / garden_df.mean () -1))"
   ]
  },
  {
   "cell_type": "code",
   "execution_count": 178,
   "id": "c805cce9-9b62-4a4e-b48a-f66f330695b8",
   "metadata": {},
   "outputs": [
    {
     "name": "stdout",
     "output_type": "stream",
     "text": [
      "p-value = 0.000000765100102069418626336296\n",
      "-0.000535\n"
     ]
    }
   ],
   "source": [
    "# kitchen_df - decoration_df\n",
    "print ('p-value =', '{0:.30f}'.format(st.mannwhitneyu(kitchen_df, decoration_df) [1]))\n",
    "print('{0:.6f}'.format(kitchen_df.mean() / decoration_df.mean () -1))"
   ]
  },
  {
   "cell_type": "code",
   "execution_count": 179,
   "id": "ac560103-a4a0-4ed5-a951-963dd4b9a566",
   "metadata": {},
   "outputs": [
    {
     "name": "stdout",
     "output_type": "stream",
     "text": [
      "p-value = 0.000000000000000000000000000000\n",
      "-0.766910\n"
     ]
    }
   ],
   "source": [
    "# garden_df - decoration_df\n",
    "print ('p-value =', '{0:.30f}'.format(st.mannwhitneyu(garden_df, decoration_df) [1]))\n",
    "print('{0:.6f}'.format(garden_df.mean() / decoration_df.mean () -1))"
   ]
  },
  {
   "cell_type": "markdown",
   "id": "e84766f1-7f58-46ba-94cb-d9e239d5c8ac",
   "metadata": {},
   "source": [
    "В рамках проверки мы видим, что между средними чеками ТОП 4 категорий есть статистически значимые различия"
   ]
  },
  {
   "cell_type": "markdown",
   "id": "1a201476-11d0-42c1-82a0-d20775581f18",
   "metadata": {},
   "source": [
    "### Анализ разницы в динамике продаж между разными временами года"
   ]
  },
  {
   "cell_type": "markdown",
   "id": "fabf8e14-d6f7-4c03-bb30-6bf7f7d956e4",
   "metadata": {},
   "source": [
    "Сформулируем гипотезы:\n",
    "- **H0** - средний чек в октябре 2018 не отличается от среднего чека в октябре 2019 года\n",
    "- **H1** - между средними чеками в октябре 2018 и 2019 года есть различия\n",
    "\n",
    "Сначала создадим датасеты с данными за соответствующие периоды"
   ]
  },
  {
   "cell_type": "code",
   "execution_count": 180,
   "id": "4a5d9d88-fe32-4c13-80ab-042f5c9f7faf",
   "metadata": {},
   "outputs": [],
   "source": [
    "# данные за октябрь 2018\n",
    "october_2018 = df[df['mon_year'] == '2018-10']\n",
    "\n",
    "# данные за октябрь 2019\n",
    "october_2019 = df[df['mon_year'] == '2019-10']"
   ]
  },
  {
   "cell_type": "code",
   "execution_count": 181,
   "id": "a8900451-532c-491c-95a2-381485b18106",
   "metadata": {},
   "outputs": [
    {
     "data": {
      "text/html": [
       "<div>\n",
       "<style scoped>\n",
       "    .dataframe tbody tr th:only-of-type {\n",
       "        vertical-align: middle;\n",
       "    }\n",
       "\n",
       "    .dataframe tbody tr th {\n",
       "        vertical-align: top;\n",
       "    }\n",
       "\n",
       "    .dataframe thead th {\n",
       "        text-align: right;\n",
       "    }\n",
       "</style>\n",
       "<table border=\"1\" class=\"dataframe\">\n",
       "  <thead>\n",
       "    <tr style=\"text-align: right;\">\n",
       "      <th></th>\n",
       "      <th>date</th>\n",
       "      <th>customer_id</th>\n",
       "      <th>order_id</th>\n",
       "      <th>product</th>\n",
       "      <th>quantity</th>\n",
       "      <th>price</th>\n",
       "      <th>mon_year</th>\n",
       "      <th>day</th>\n",
       "      <th>weekday</th>\n",
       "      <th>hour</th>\n",
       "      <th>season</th>\n",
       "      <th>season_name</th>\n",
       "      <th>total_cost</th>\n",
       "      <th>prodct_name_split</th>\n",
       "      <th>category</th>\n",
       "      <th>run_cum_cost</th>\n",
       "      <th>total_cost_sum</th>\n",
       "      <th>run_perc_cost</th>\n",
       "      <th>abc_cost</th>\n",
       "      <th>run_cum_quant</th>\n",
       "      <th>total_quant_sum</th>\n",
       "      <th>run_perc_quant</th>\n",
       "      <th>abc_quant</th>\n",
       "      <th>abc_cost_and_quant</th>\n",
       "    </tr>\n",
       "  </thead>\n",
       "  <tbody>\n",
       "    <tr>\n",
       "      <th>5071</th>\n",
       "      <td>2019-06-11 07:00:00</td>\n",
       "      <td>146cd9bf-a95c-4afb-915b-5f6684b17444</td>\n",
       "      <td>71668</td>\n",
       "      <td>вешалки мягкие для деликатных вещей 3 шт шоколад</td>\n",
       "      <td>334</td>\n",
       "      <td>148.000</td>\n",
       "      <td>2019-06</td>\n",
       "      <td>2019-06-11</td>\n",
       "      <td>2</td>\n",
       "      <td>7</td>\n",
       "      <td>3</td>\n",
       "      <td>Лето</td>\n",
       "      <td>49432.000</td>\n",
       "      <td>вешалки мягкие</td>\n",
       "      <td>хранение / мебель</td>\n",
       "      <td>49432.000</td>\n",
       "      <td>3467154.000</td>\n",
       "      <td>0.014</td>\n",
       "      <td>A</td>\n",
       "      <td>334</td>\n",
       "      <td>12827</td>\n",
       "      <td>0.026</td>\n",
       "      <td>A</td>\n",
       "      <td>AA</td>\n",
       "    </tr>\n",
       "    <tr>\n",
       "      <th>3961</th>\n",
       "      <td>2019-05-20 21:00:00</td>\n",
       "      <td>5d189e88-d4d6-4eac-ab43-fa65a3c4d106</td>\n",
       "      <td>71478</td>\n",
       "      <td>муляж яблоко 9 см красное</td>\n",
       "      <td>300</td>\n",
       "      <td>51.000</td>\n",
       "      <td>2019-05</td>\n",
       "      <td>2019-05-20</td>\n",
       "      <td>1</td>\n",
       "      <td>21</td>\n",
       "      <td>2</td>\n",
       "      <td>Весна</td>\n",
       "      <td>15300.000</td>\n",
       "      <td>муляж яблоко</td>\n",
       "      <td>декор / текстиль</td>\n",
       "      <td>230669.000</td>\n",
       "      <td>3467154.000</td>\n",
       "      <td>0.067</td>\n",
       "      <td>A</td>\n",
       "      <td>634</td>\n",
       "      <td>12827</td>\n",
       "      <td>0.049</td>\n",
       "      <td>A</td>\n",
       "      <td>AA</td>\n",
       "    </tr>\n",
       "    <tr>\n",
       "      <th>1158</th>\n",
       "      <td>2018-12-10 14:00:00</td>\n",
       "      <td>a984c5b7-ff7e-4647-b84e-ef0b85a2762d</td>\n",
       "      <td>69289</td>\n",
       "      <td>ручка-скоба рс-100 белая *трибатрон*, 1108035</td>\n",
       "      <td>200</td>\n",
       "      <td>29.000</td>\n",
       "      <td>2018-12</td>\n",
       "      <td>2018-12-10</td>\n",
       "      <td>1</td>\n",
       "      <td>14</td>\n",
       "      <td>1</td>\n",
       "      <td>Зима</td>\n",
       "      <td>5800.000</td>\n",
       "      <td>ручка-скоба рс-100</td>\n",
       "      <td>декор / текстиль</td>\n",
       "      <td>622110.000</td>\n",
       "      <td>3467154.000</td>\n",
       "      <td>0.179</td>\n",
       "      <td>A</td>\n",
       "      <td>834</td>\n",
       "      <td>12827</td>\n",
       "      <td>0.065</td>\n",
       "      <td>A</td>\n",
       "      <td>AA</td>\n",
       "    </tr>\n",
       "  </tbody>\n",
       "</table>\n",
       "</div>"
      ],
      "text/plain": [
       "                    date                           customer_id  order_id                                           product  quantity   price mon_year         day  weekday  hour  season season_name  total_cost   prodct_name_split           category  run_cum_cost  total_cost_sum  run_perc_cost abc_cost  run_cum_quant  total_quant_sum  run_perc_quant abc_quant abc_cost_and_quant\n",
       "5071 2019-06-11 07:00:00  146cd9bf-a95c-4afb-915b-5f6684b17444     71668  вешалки мягкие для деликатных вещей 3 шт шоколад       334 148.000  2019-06  2019-06-11        2     7       3        Лето   49432.000      вешалки мягкие  хранение / мебель     49432.000     3467154.000          0.014        A            334            12827           0.026         A                 AA\n",
       "3961 2019-05-20 21:00:00  5d189e88-d4d6-4eac-ab43-fa65a3c4d106     71478                         муляж яблоко 9 см красное       300  51.000  2019-05  2019-05-20        1    21       2       Весна   15300.000        муляж яблоко   декор / текстиль    230669.000     3467154.000          0.067        A            634            12827           0.049         A                 AA\n",
       "1158 2018-12-10 14:00:00  a984c5b7-ff7e-4647-b84e-ef0b85a2762d     69289     ручка-скоба рс-100 белая *трибатрон*, 1108035       200  29.000  2018-12  2018-12-10        1    14       1        Зима    5800.000  ручка-скоба рс-100   декор / текстиль    622110.000     3467154.000          0.179        A            834            12827           0.065         A                 AA"
      ]
     },
     "execution_count": 181,
     "metadata": {},
     "output_type": "execute_result"
    }
   ],
   "source": [
    "df.head(3)"
   ]
  },
  {
   "cell_type": "code",
   "execution_count": 182,
   "id": "a20c2bb7-6c41-4001-8571-7575d303df62",
   "metadata": {},
   "outputs": [
    {
     "name": "stdout",
     "output_type": "stream",
     "text": [
      "p-значение: 0.00825464952447862\n",
      "Отвергаем нулевую гипотезу\n",
      "Отношение среднего чека в 2019 году к 2018 году: 1.3692410717819223\n"
     ]
    }
   ],
   "source": [
    "alpha = 0.05 #зададим критический уровень статистической значимости в 5%\n",
    "\n",
    "results = st.ttest_ind(\n",
    "    october_2018['total_cost'], \n",
    "    october_2019['total_cost'],\n",
    "    equal_var=False) #предполагаем, что дисперсии не равны\n",
    "\n",
    "print('p-значение:', results.pvalue)\n",
    "\n",
    "if (results.pvalue < alpha):\n",
    "    print(\"Отвергаем нулевую гипотезу\")\n",
    "else:\n",
    "    print(\"Не получилось отвергнуть нулевую гипотезу\") \n",
    "    \n",
    "print('Отношение среднего чека в 2019 году к 2018 году:', october_2019['total_cost'].mean() / october_2018['total_cost'].mean())"
   ]
  },
  {
   "cell_type": "markdown",
   "id": "5083c3df-b1b2-4cf5-92f9-7b9e06bec34c",
   "metadata": {},
   "source": [
    "Так мы видим, что средний чек в 2019 году вырос"
   ]
  },
  {
   "cell_type": "markdown",
   "id": "35eda15d-cb93-4bd6-af7c-a99178f15a37",
   "metadata": {},
   "source": [
    "# Общий вывод"
   ]
  },
  {
   "cell_type": "markdown",
   "id": "9b1cff1c-5ac0-4dc1-a45d-50b459eacdbf",
   "metadata": {},
   "source": [
    "В рамках исследования мы проанализировали данные о заказах интернет магазина товаров для дома.\n",
    "\n",
    "Изучив прибыль и количество заказов в разрезе месяцев мы видим, что число заказов и выручка падают.\n",
    "\n",
    "Также мы изучили наименования товаров и определили категорию для каждого товара. \n",
    "\n",
    "Посмотрим на ТОП 4 категории:\n",
    "\n",
    "1) хранение / мебель\n",
    "2) кухня\n",
    "3) товары для сада / растения\n",
    "4) декор / текстиль\n",
    "\n",
    "Также мы провели ABC анализ на основе выручки и объема проданных товаров.\n",
    "Большую часть от всего объема выручки составляют товары групп \n",
    "- AA - 39%\n",
    "- AB - 27%\n",
    "\n",
    "Эти товары можно считать основным товарным ассортиментом\n",
    "\n",
    "Что касается дополнительного товарного ассортимента - то это товары:\n",
    "- AC - 13%\n",
    "- BB - 7%\n",
    "- BA - 5%\n",
    "\n",
    "Также мы проверили несколько гипотез, в результате этих проверок мы выяснили:\n",
    "Между средними чеками ТОП 4 категорий есть статистически значимая разница.\n",
    "\n",
    "Средние чеки в октябре 2018 и октябре 2019 также имеют статистически значимые отличия. Так средний чек в октябре 2019 года увеличился на 130%\n"
   ]
  },
  {
   "cell_type": "markdown",
   "id": "ee002524-7261-409b-b6db-2e677a1c0136",
   "metadata": {},
   "source": [
    "## Презентация и дашборд"
   ]
  },
  {
   "cell_type": "markdown",
   "id": "a5c0f4c7-f7ed-430e-97c3-3deacfe00b51",
   "metadata": {},
   "source": [
    "[Ссылка на презентацию](https://drive.google.com/file/d/1zMsC6WCnuRwSKENpM3JKZP4tWfmFdxi2/view?usp=share_link)\n",
    "\n",
    "[Ссылка на дашборд](https://public.tableau.com/app/profile/roman2554/viz/Book1_16778396694480/Dashboard1?publish=yes)"
   ]
  }
 ],
 "metadata": {
  "ExecuteTimeLog": [
   {
    "duration": 1435,
    "start_time": "2023-03-12T10:17:45.136Z"
   },
   {
    "duration": 117,
    "start_time": "2023-03-12T10:17:46.574Z"
   },
   {
    "duration": 14,
    "start_time": "2023-03-12T10:17:46.693Z"
   },
   {
    "duration": 17,
    "start_time": "2023-03-12T10:17:46.709Z"
   },
   {
    "duration": 14,
    "start_time": "2023-03-12T10:17:46.728Z"
   },
   {
    "duration": 19,
    "start_time": "2023-03-12T10:17:46.744Z"
   },
   {
    "duration": 29,
    "start_time": "2023-03-12T10:17:46.765Z"
   },
   {
    "duration": 611,
    "start_time": "2023-03-12T10:17:46.796Z"
   },
   {
    "duration": 66,
    "start_time": "2023-03-12T10:17:47.409Z"
   },
   {
    "duration": 16,
    "start_time": "2023-03-12T10:17:47.479Z"
   },
   {
    "duration": 15,
    "start_time": "2023-03-12T10:17:47.496Z"
   },
   {
    "duration": 39,
    "start_time": "2023-03-12T10:17:47.513Z"
   },
   {
    "duration": 21,
    "start_time": "2023-03-12T10:17:47.554Z"
   },
   {
    "duration": 5,
    "start_time": "2023-03-12T10:17:47.577Z"
   },
   {
    "duration": 23,
    "start_time": "2023-03-12T10:17:47.584Z"
   },
   {
    "duration": 26,
    "start_time": "2023-03-12T10:17:47.610Z"
   },
   {
    "duration": 34,
    "start_time": "2023-03-12T10:17:47.638Z"
   },
   {
    "duration": 20,
    "start_time": "2023-03-12T10:17:47.673Z"
   },
   {
    "duration": 7,
    "start_time": "2023-03-12T10:17:47.695Z"
   },
   {
    "duration": 7,
    "start_time": "2023-03-12T10:17:47.704Z"
   },
   {
    "duration": 16,
    "start_time": "2023-03-12T10:17:47.712Z"
   },
   {
    "duration": 26,
    "start_time": "2023-03-12T10:17:47.730Z"
   },
   {
    "duration": 20,
    "start_time": "2023-03-12T10:17:47.758Z"
   },
   {
    "duration": 1082,
    "start_time": "2023-03-12T10:17:47.780Z"
   },
   {
    "duration": 7,
    "start_time": "2023-03-12T10:17:48.863Z"
   },
   {
    "duration": 147,
    "start_time": "2023-03-12T10:17:48.871Z"
   },
   {
    "duration": 139,
    "start_time": "2023-03-12T10:17:49.019Z"
   },
   {
    "duration": 8,
    "start_time": "2023-03-12T10:17:49.164Z"
   },
   {
    "duration": 12,
    "start_time": "2023-03-12T10:17:49.174Z"
   },
   {
    "duration": 6,
    "start_time": "2023-03-12T10:17:49.187Z"
   },
   {
    "duration": 16,
    "start_time": "2023-03-12T10:17:49.194Z"
   },
   {
    "duration": 331,
    "start_time": "2023-03-12T10:17:49.211Z"
   },
   {
    "duration": 18,
    "start_time": "2023-03-12T10:17:49.544Z"
   },
   {
    "duration": 192,
    "start_time": "2023-03-12T10:17:49.563Z"
   },
   {
    "duration": 17,
    "start_time": "2023-03-12T10:17:49.757Z"
   },
   {
    "duration": 272,
    "start_time": "2023-03-12T10:17:49.776Z"
   },
   {
    "duration": 16,
    "start_time": "2023-03-12T10:17:50.050Z"
   },
   {
    "duration": 273,
    "start_time": "2023-03-12T10:17:50.068Z"
   },
   {
    "duration": 14,
    "start_time": "2023-03-12T10:17:50.343Z"
   },
   {
    "duration": 28,
    "start_time": "2023-03-12T10:17:50.359Z"
   },
   {
    "duration": 147,
    "start_time": "2023-03-12T10:17:50.388Z"
   },
   {
    "duration": 18,
    "start_time": "2023-03-12T10:17:50.536Z"
   },
   {
    "duration": 150,
    "start_time": "2023-03-12T10:17:50.557Z"
   },
   {
    "duration": 16,
    "start_time": "2023-03-12T10:17:50.709Z"
   },
   {
    "duration": 7,
    "start_time": "2023-03-12T10:17:50.727Z"
   },
   {
    "duration": 29,
    "start_time": "2023-03-12T10:17:50.735Z"
   },
   {
    "duration": 5,
    "start_time": "2023-03-12T10:17:50.766Z"
   },
   {
    "duration": 9,
    "start_time": "2023-03-12T10:17:50.773Z"
   },
   {
    "duration": 31,
    "start_time": "2023-03-12T10:17:50.784Z"
   },
   {
    "duration": 10,
    "start_time": "2023-03-12T10:17:50.817Z"
   },
   {
    "duration": 4,
    "start_time": "2023-03-12T10:17:50.853Z"
   },
   {
    "duration": 15,
    "start_time": "2023-03-12T10:17:50.859Z"
   },
   {
    "duration": 6,
    "start_time": "2023-03-12T10:17:50.876Z"
   },
   {
    "duration": 9,
    "start_time": "2023-03-12T10:17:50.883Z"
   },
   {
    "duration": 566,
    "start_time": "2023-03-12T10:17:50.893Z"
   },
   {
    "duration": 19,
    "start_time": "2023-03-12T10:17:51.461Z"
   },
   {
    "duration": 17,
    "start_time": "2023-03-12T10:17:51.482Z"
   },
   {
    "duration": 319,
    "start_time": "2023-03-12T10:17:51.500Z"
   },
   {
    "duration": 32,
    "start_time": "2023-03-12T10:17:51.821Z"
   },
   {
    "duration": 242,
    "start_time": "2023-03-12T10:17:51.856Z"
   },
   {
    "duration": 21,
    "start_time": "2023-03-12T10:17:52.100Z"
   },
   {
    "duration": 221,
    "start_time": "2023-03-12T10:17:52.123Z"
   },
   {
    "duration": 10,
    "start_time": "2023-03-12T10:17:52.346Z"
   },
   {
    "duration": 7,
    "start_time": "2023-03-12T10:17:52.358Z"
   },
   {
    "duration": 5,
    "start_time": "2023-03-12T10:17:52.367Z"
   },
   {
    "duration": 5,
    "start_time": "2023-03-12T10:17:52.374Z"
   },
   {
    "duration": 6,
    "start_time": "2023-03-12T10:17:52.382Z"
   },
   {
    "duration": 7,
    "start_time": "2023-03-12T10:17:52.390Z"
   },
   {
    "duration": 21,
    "start_time": "2023-03-12T10:17:52.399Z"
   },
   {
    "duration": 6,
    "start_time": "2023-03-12T10:17:52.453Z"
   },
   {
    "duration": 4,
    "start_time": "2023-03-12T10:17:52.461Z"
   },
   {
    "duration": 6,
    "start_time": "2023-03-12T10:17:52.467Z"
   },
   {
    "duration": 11,
    "start_time": "2023-03-12T10:17:52.475Z"
   },
   {
    "duration": 6,
    "start_time": "2023-03-12T10:17:52.488Z"
   },
   {
    "duration": 6,
    "start_time": "2023-03-12T10:17:52.496Z"
   },
   {
    "duration": 55,
    "start_time": "2023-03-12T10:17:52.504Z"
   },
   {
    "duration": 5,
    "start_time": "2023-03-12T10:17:52.560Z"
   },
   {
    "duration": 20,
    "start_time": "2023-03-12T10:17:52.567Z"
   },
   {
    "duration": 18,
    "start_time": "2023-03-12T10:17:52.589Z"
   },
   {
    "duration": 6,
    "start_time": "2023-03-12T10:17:52.609Z"
   },
   {
    "duration": 48,
    "start_time": "2023-03-12T10:17:52.617Z"
   },
   {
    "duration": 8,
    "start_time": "2023-03-12T10:17:52.671Z"
   },
   {
    "duration": 8,
    "start_time": "2023-03-12T10:17:52.681Z"
   },
   {
    "duration": 8,
    "start_time": "2023-03-12T10:17:52.691Z"
   },
   {
    "duration": 9,
    "start_time": "2023-03-12T10:17:52.700Z"
   },
   {
    "duration": 42,
    "start_time": "2023-03-12T10:17:52.711Z"
   },
   {
    "duration": 8,
    "start_time": "2023-03-12T10:17:52.755Z"
   },
   {
    "duration": 8,
    "start_time": "2023-03-12T10:17:52.766Z"
   },
   {
    "duration": 23,
    "start_time": "2023-03-12T10:17:52.776Z"
   },
   {
    "duration": 7,
    "start_time": "2023-03-12T10:17:52.801Z"
   },
   {
    "duration": 3,
    "start_time": "2023-03-12T10:22:19.934Z"
   },
   {
    "duration": 4,
    "start_time": "2023-03-12T10:30:28.650Z"
   },
   {
    "duration": 5,
    "start_time": "2023-03-12T10:30:30.948Z"
   },
   {
    "duration": 155,
    "start_time": "2023-03-12T10:30:30.956Z"
   },
   {
    "duration": 11,
    "start_time": "2023-03-12T10:30:31.114Z"
   },
   {
    "duration": 39,
    "start_time": "2023-03-12T10:30:31.126Z"
   },
   {
    "duration": 40,
    "start_time": "2023-03-12T10:30:31.167Z"
   },
   {
    "duration": 33,
    "start_time": "2023-03-12T10:30:31.209Z"
   },
   {
    "duration": 38,
    "start_time": "2023-03-12T10:30:31.244Z"
   },
   {
    "duration": 612,
    "start_time": "2023-03-12T10:30:31.284Z"
   },
   {
    "duration": 16,
    "start_time": "2023-03-12T10:30:31.898Z"
   },
   {
    "duration": 25,
    "start_time": "2023-03-12T10:30:31.915Z"
   },
   {
    "duration": 18,
    "start_time": "2023-03-12T10:30:31.954Z"
   },
   {
    "duration": 3,
    "start_time": "2023-03-12T10:30:31.974Z"
   },
   {
    "duration": 41,
    "start_time": "2023-03-12T10:30:31.979Z"
   },
   {
    "duration": 22,
    "start_time": "2023-03-12T10:30:32.023Z"
   },
   {
    "duration": 26,
    "start_time": "2023-03-12T10:30:32.047Z"
   },
   {
    "duration": 44,
    "start_time": "2023-03-12T10:30:32.075Z"
   },
   {
    "duration": 31,
    "start_time": "2023-03-12T10:30:32.121Z"
   },
   {
    "duration": 37,
    "start_time": "2023-03-12T10:30:32.154Z"
   },
   {
    "duration": 19,
    "start_time": "2023-03-12T10:30:32.193Z"
   },
   {
    "duration": 8,
    "start_time": "2023-03-12T10:30:32.214Z"
   },
   {
    "duration": 18,
    "start_time": "2023-03-12T10:30:32.225Z"
   },
   {
    "duration": 16,
    "start_time": "2023-03-12T10:30:32.244Z"
   },
   {
    "duration": 18,
    "start_time": "2023-03-12T10:30:32.262Z"
   },
   {
    "duration": 1107,
    "start_time": "2023-03-12T10:30:32.282Z"
   },
   {
    "duration": 9,
    "start_time": "2023-03-12T10:30:33.391Z"
   },
   {
    "duration": 303,
    "start_time": "2023-03-12T10:30:33.402Z"
   },
   {
    "duration": 158,
    "start_time": "2023-03-12T10:30:33.706Z"
   },
   {
    "duration": 9,
    "start_time": "2023-03-12T10:30:33.866Z"
   },
   {
    "duration": 31,
    "start_time": "2023-03-12T10:30:33.876Z"
   },
   {
    "duration": 8,
    "start_time": "2023-03-12T10:30:33.908Z"
   },
   {
    "duration": 27,
    "start_time": "2023-03-12T10:30:33.918Z"
   },
   {
    "duration": 626,
    "start_time": "2023-03-12T10:30:33.954Z"
   },
   {
    "duration": 74,
    "start_time": "2023-03-12T10:30:34.582Z"
   },
   {
    "duration": 505,
    "start_time": "2023-03-12T10:30:34.658Z"
   },
   {
    "duration": 27,
    "start_time": "2023-03-12T10:30:35.166Z"
   },
   {
    "duration": 758,
    "start_time": "2023-03-12T10:30:35.195Z"
   },
   {
    "duration": 28,
    "start_time": "2023-03-12T10:30:35.956Z"
   },
   {
    "duration": 474,
    "start_time": "2023-03-12T10:30:35.986Z"
   },
   {
    "duration": 12,
    "start_time": "2023-03-12T10:30:36.462Z"
   },
   {
    "duration": 15,
    "start_time": "2023-03-12T10:30:36.476Z"
   },
   {
    "duration": 173,
    "start_time": "2023-03-12T10:30:36.496Z"
   },
   {
    "duration": 19,
    "start_time": "2023-03-12T10:30:36.671Z"
   },
   {
    "duration": 16,
    "start_time": "2023-03-12T10:30:36.692Z"
   },
   {
    "duration": 43,
    "start_time": "2023-03-12T10:30:36.710Z"
   },
   {
    "duration": 7,
    "start_time": "2023-03-12T10:30:36.755Z"
   },
   {
    "duration": 16,
    "start_time": "2023-03-12T10:30:36.763Z"
   },
   {
    "duration": 10,
    "start_time": "2023-03-12T10:30:36.781Z"
   },
   {
    "duration": 15,
    "start_time": "2023-03-12T10:30:36.792Z"
   },
   {
    "duration": 51,
    "start_time": "2023-03-12T10:30:36.809Z"
   },
   {
    "duration": 10,
    "start_time": "2023-03-12T10:30:36.861Z"
   },
   {
    "duration": 8,
    "start_time": "2023-03-12T10:30:36.872Z"
   },
   {
    "duration": 18,
    "start_time": "2023-03-12T10:30:36.882Z"
   },
   {
    "duration": 7,
    "start_time": "2023-03-12T10:30:36.902Z"
   },
   {
    "duration": 14,
    "start_time": "2023-03-12T10:30:36.910Z"
   },
   {
    "duration": 657,
    "start_time": "2023-03-12T10:30:36.926Z"
   },
   {
    "duration": 17,
    "start_time": "2023-03-12T10:30:37.585Z"
   },
   {
    "duration": 14,
    "start_time": "2023-03-12T10:30:37.604Z"
   },
   {
    "duration": 213,
    "start_time": "2023-03-12T10:30:37.620Z"
   },
   {
    "duration": 27,
    "start_time": "2023-03-12T10:30:37.835Z"
   },
   {
    "duration": 213,
    "start_time": "2023-03-12T10:30:37.863Z"
   },
   {
    "duration": 17,
    "start_time": "2023-03-12T10:30:38.077Z"
   },
   {
    "duration": 286,
    "start_time": "2023-03-12T10:30:38.095Z"
   },
   {
    "duration": 7,
    "start_time": "2023-03-12T10:30:38.383Z"
   },
   {
    "duration": 6,
    "start_time": "2023-03-12T10:30:38.391Z"
   },
   {
    "duration": 5,
    "start_time": "2023-03-12T10:30:38.399Z"
   },
   {
    "duration": 6,
    "start_time": "2023-03-12T10:30:38.406Z"
   },
   {
    "duration": 7,
    "start_time": "2023-03-12T10:30:38.413Z"
   },
   {
    "duration": 35,
    "start_time": "2023-03-12T10:30:38.421Z"
   },
   {
    "duration": 20,
    "start_time": "2023-03-12T10:30:38.457Z"
   },
   {
    "duration": 6,
    "start_time": "2023-03-12T10:30:38.479Z"
   },
   {
    "duration": 13,
    "start_time": "2023-03-12T10:30:38.487Z"
   },
   {
    "duration": 10,
    "start_time": "2023-03-12T10:30:38.501Z"
   },
   {
    "duration": 7,
    "start_time": "2023-03-12T10:30:38.514Z"
   },
   {
    "duration": 6,
    "start_time": "2023-03-12T10:30:38.524Z"
   },
   {
    "duration": 10,
    "start_time": "2023-03-12T10:30:38.531Z"
   },
   {
    "duration": 20,
    "start_time": "2023-03-12T10:30:38.554Z"
   },
   {
    "duration": 5,
    "start_time": "2023-03-12T10:30:38.575Z"
   },
   {
    "duration": 21,
    "start_time": "2023-03-12T10:30:38.582Z"
   },
   {
    "duration": 16,
    "start_time": "2023-03-12T10:30:38.605Z"
   },
   {
    "duration": 34,
    "start_time": "2023-03-12T10:30:38.623Z"
   },
   {
    "duration": 11,
    "start_time": "2023-03-12T10:30:38.658Z"
   },
   {
    "duration": 7,
    "start_time": "2023-03-12T10:30:38.671Z"
   },
   {
    "duration": 14,
    "start_time": "2023-03-12T10:30:38.680Z"
   },
   {
    "duration": 11,
    "start_time": "2023-03-12T10:30:38.696Z"
   },
   {
    "duration": 8,
    "start_time": "2023-03-12T10:30:38.709Z"
   },
   {
    "duration": 35,
    "start_time": "2023-03-12T10:30:38.719Z"
   },
   {
    "duration": 8,
    "start_time": "2023-03-12T10:30:38.756Z"
   },
   {
    "duration": 7,
    "start_time": "2023-03-12T10:30:38.765Z"
   },
   {
    "duration": 21,
    "start_time": "2023-03-12T10:30:38.774Z"
   },
   {
    "duration": 9,
    "start_time": "2023-03-12T10:30:38.797Z"
   }
  ],
  "kernelspec": {
   "display_name": "Python 3 (ipykernel)",
   "language": "python",
   "name": "python3"
  },
  "language_info": {
   "codemirror_mode": {
    "name": "ipython",
    "version": 3
   },
   "file_extension": ".py",
   "mimetype": "text/x-python",
   "name": "python",
   "nbconvert_exporter": "python",
   "pygments_lexer": "ipython3",
   "version": "3.9.7"
  },
  "toc": {
   "base_numbering": 1,
   "nav_menu": {},
   "number_sections": true,
   "sideBar": true,
   "skip_h1_title": true,
   "title_cell": "Table of Contents",
   "title_sidebar": "Contents",
   "toc_cell": false,
   "toc_position": {
    "height": "calc(100% - 180px)",
    "left": "10px",
    "top": "150px",
    "width": "366.188px"
   },
   "toc_section_display": true,
   "toc_window_display": true
  },
  "toc-autonumbering": true,
  "toc-showcode": false,
  "toc-showmarkdowntxt": false
 },
 "nbformat": 4,
 "nbformat_minor": 5
}
