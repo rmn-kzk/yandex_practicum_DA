{
 "cells": [
  {
   "cell_type": "markdown",
   "metadata": {},
   "source": [
    "# Исследование объявлений о продаже квартир\n",
    "\n",
    "В вашем распоряжении данные сервиса Яндекс.Недвижимость — архив объявлений о продаже квартир в Санкт-Петербурге и соседних населённых пунктов за несколько лет. Нужно научиться определять рыночную стоимость объектов недвижимости. Ваша задача — установить параметры. Это позволит построить автоматизированную систему: она отследит аномалии и мошенническую деятельность. \n",
    "\n",
    "По каждой квартире на продажу доступны два вида данных. Первые вписаны пользователем, вторые — получены автоматически на основе картографических данных. Например, расстояние до центра, аэропорта, ближайшего парка и водоёма. \n",
    "\n",
    "**Цель проекта**\n",
    "- Изучить данные об объявлениях по продажи квартир.\n",
    "- Изучить основные параметры объявлений (общая площадь, число комнат, расстояние до центра и т.д.)\n",
    "- Изучить, какие факторы влияют на стоимость квартиры больше, а какие меньше.\n",
    "- Выделить 10 локаций с наибольшим числом объявлений и узнать цену квадратного метра для каждой локации\n",
    "- Узнать, как стоимость объекта зависит от расстояния до центра города\n",
    "\n",
    "**Ход проекта**\n",
    "- Загрузить необходимые библиотеки\n",
    "- Скорректировать форматы данных\n",
    "- Обработать явные и неявные дубликаты\n",
    "- Изучить аномальные значения\n",
    "- Добавить в датасет новые столбцы (тип этажа, расстояние до центра в километрах и т.д.)\n",
    "- Описать основные параметры датасета (построить гистограммы, понять, как эти параметры распределены)\n",
    "- Изучить скорость продажи (сколько дней висят объявления)\n",
    "- Изучить зависимость стоимости жилья от разных параметров\n",
    "- Исследовать стоимость одного квадратного метра в 10 населенных пунктах\n",
    "- Установить взаимосвязь между расстоянием до центра города и стоимостью жилья"
   ]
  },
  {
   "cell_type": "markdown",
   "metadata": {},
   "source": [
    "### Откройте файл с данными и изучите общую информацию. "
   ]
  },
  {
   "cell_type": "markdown",
   "metadata": {},
   "source": [
    "#### Импорт библиотек"
   ]
  },
  {
   "cell_type": "code",
   "execution_count": 2,
   "metadata": {},
   "outputs": [],
   "source": [
    "import pandas as pd\n",
    "pd.set_option('display.max_rows', 500)\n",
    "pd.set_option('display.max_columns', 500)\n",
    "pd.set_option('max_colwidth', 1000)\n",
    "pd.set_option('display.expand_frame_repr', False)\n",
    "\n",
    "# убираю scientific notation\n",
    "pd.set_option('display.float_format', lambda x: '%.3f' % x)\n",
    "\n",
    "import matplotlib.pyplot as plt\n",
    "import numpy as np\n",
    "import seaborn as sns"
   ]
  },
  {
   "cell_type": "markdown",
   "metadata": {},
   "source": [
    "#### Загрузка данных"
   ]
  },
  {
   "cell_type": "code",
   "execution_count": 3,
   "metadata": {},
   "outputs": [],
   "source": [
    "df = pd.read_csv('/datasets/real_estate_data.csv', sep='\\t')"
   ]
  },
  {
   "cell_type": "markdown",
   "metadata": {},
   "source": [
    "#### Общая информация о датасете"
   ]
  },
  {
   "cell_type": "markdown",
   "metadata": {},
   "source": [
    "Посмотрим общую информацию"
   ]
  },
  {
   "cell_type": "code",
   "execution_count": 4,
   "metadata": {},
   "outputs": [
    {
     "data": {
      "text/html": [
       "<div>\n",
       "<style scoped>\n",
       "    .dataframe tbody tr th:only-of-type {\n",
       "        vertical-align: middle;\n",
       "    }\n",
       "\n",
       "    .dataframe tbody tr th {\n",
       "        vertical-align: top;\n",
       "    }\n",
       "\n",
       "    .dataframe thead th {\n",
       "        text-align: right;\n",
       "    }\n",
       "</style>\n",
       "<table border=\"1\" class=\"dataframe\">\n",
       "  <thead>\n",
       "    <tr style=\"text-align: right;\">\n",
       "      <th></th>\n",
       "      <th>total_images</th>\n",
       "      <th>last_price</th>\n",
       "      <th>total_area</th>\n",
       "      <th>first_day_exposition</th>\n",
       "      <th>rooms</th>\n",
       "      <th>ceiling_height</th>\n",
       "      <th>floors_total</th>\n",
       "      <th>living_area</th>\n",
       "      <th>floor</th>\n",
       "      <th>is_apartment</th>\n",
       "      <th>studio</th>\n",
       "      <th>open_plan</th>\n",
       "      <th>kitchen_area</th>\n",
       "      <th>balcony</th>\n",
       "      <th>locality_name</th>\n",
       "      <th>airports_nearest</th>\n",
       "      <th>cityCenters_nearest</th>\n",
       "      <th>parks_around3000</th>\n",
       "      <th>parks_nearest</th>\n",
       "      <th>ponds_around3000</th>\n",
       "      <th>ponds_nearest</th>\n",
       "      <th>days_exposition</th>\n",
       "    </tr>\n",
       "  </thead>\n",
       "  <tbody>\n",
       "    <tr>\n",
       "      <th>0</th>\n",
       "      <td>20</td>\n",
       "      <td>13000000.000</td>\n",
       "      <td>108.000</td>\n",
       "      <td>2019-03-07T00:00:00</td>\n",
       "      <td>3</td>\n",
       "      <td>2.700</td>\n",
       "      <td>16.000</td>\n",
       "      <td>51.000</td>\n",
       "      <td>8</td>\n",
       "      <td>NaN</td>\n",
       "      <td>False</td>\n",
       "      <td>False</td>\n",
       "      <td>25.000</td>\n",
       "      <td>NaN</td>\n",
       "      <td>Санкт-Петербург</td>\n",
       "      <td>18863.000</td>\n",
       "      <td>16028.000</td>\n",
       "      <td>1.000</td>\n",
       "      <td>482.000</td>\n",
       "      <td>2.000</td>\n",
       "      <td>755.000</td>\n",
       "      <td>NaN</td>\n",
       "    </tr>\n",
       "    <tr>\n",
       "      <th>1</th>\n",
       "      <td>7</td>\n",
       "      <td>3350000.000</td>\n",
       "      <td>40.400</td>\n",
       "      <td>2018-12-04T00:00:00</td>\n",
       "      <td>1</td>\n",
       "      <td>NaN</td>\n",
       "      <td>11.000</td>\n",
       "      <td>18.600</td>\n",
       "      <td>1</td>\n",
       "      <td>NaN</td>\n",
       "      <td>False</td>\n",
       "      <td>False</td>\n",
       "      <td>11.000</td>\n",
       "      <td>2.000</td>\n",
       "      <td>посёлок Шушары</td>\n",
       "      <td>12817.000</td>\n",
       "      <td>18603.000</td>\n",
       "      <td>0.000</td>\n",
       "      <td>NaN</td>\n",
       "      <td>0.000</td>\n",
       "      <td>NaN</td>\n",
       "      <td>81.000</td>\n",
       "    </tr>\n",
       "    <tr>\n",
       "      <th>2</th>\n",
       "      <td>10</td>\n",
       "      <td>5196000.000</td>\n",
       "      <td>56.000</td>\n",
       "      <td>2015-08-20T00:00:00</td>\n",
       "      <td>2</td>\n",
       "      <td>NaN</td>\n",
       "      <td>5.000</td>\n",
       "      <td>34.300</td>\n",
       "      <td>4</td>\n",
       "      <td>NaN</td>\n",
       "      <td>False</td>\n",
       "      <td>False</td>\n",
       "      <td>8.300</td>\n",
       "      <td>0.000</td>\n",
       "      <td>Санкт-Петербург</td>\n",
       "      <td>21741.000</td>\n",
       "      <td>13933.000</td>\n",
       "      <td>1.000</td>\n",
       "      <td>90.000</td>\n",
       "      <td>2.000</td>\n",
       "      <td>574.000</td>\n",
       "      <td>558.000</td>\n",
       "    </tr>\n",
       "    <tr>\n",
       "      <th>3</th>\n",
       "      <td>0</td>\n",
       "      <td>64900000.000</td>\n",
       "      <td>159.000</td>\n",
       "      <td>2015-07-24T00:00:00</td>\n",
       "      <td>3</td>\n",
       "      <td>NaN</td>\n",
       "      <td>14.000</td>\n",
       "      <td>NaN</td>\n",
       "      <td>9</td>\n",
       "      <td>NaN</td>\n",
       "      <td>False</td>\n",
       "      <td>False</td>\n",
       "      <td>NaN</td>\n",
       "      <td>0.000</td>\n",
       "      <td>Санкт-Петербург</td>\n",
       "      <td>28098.000</td>\n",
       "      <td>6800.000</td>\n",
       "      <td>2.000</td>\n",
       "      <td>84.000</td>\n",
       "      <td>3.000</td>\n",
       "      <td>234.000</td>\n",
       "      <td>424.000</td>\n",
       "    </tr>\n",
       "    <tr>\n",
       "      <th>4</th>\n",
       "      <td>2</td>\n",
       "      <td>10000000.000</td>\n",
       "      <td>100.000</td>\n",
       "      <td>2018-06-19T00:00:00</td>\n",
       "      <td>2</td>\n",
       "      <td>3.030</td>\n",
       "      <td>14.000</td>\n",
       "      <td>32.000</td>\n",
       "      <td>13</td>\n",
       "      <td>NaN</td>\n",
       "      <td>False</td>\n",
       "      <td>False</td>\n",
       "      <td>41.000</td>\n",
       "      <td>NaN</td>\n",
       "      <td>Санкт-Петербург</td>\n",
       "      <td>31856.000</td>\n",
       "      <td>8098.000</td>\n",
       "      <td>2.000</td>\n",
       "      <td>112.000</td>\n",
       "      <td>1.000</td>\n",
       "      <td>48.000</td>\n",
       "      <td>121.000</td>\n",
       "    </tr>\n",
       "  </tbody>\n",
       "</table>\n",
       "</div>"
      ],
      "text/plain": [
       "   total_images   last_price  total_area first_day_exposition  rooms  ceiling_height  floors_total  living_area  floor is_apartment  studio  open_plan  kitchen_area  balcony    locality_name  airports_nearest  cityCenters_nearest  parks_around3000  parks_nearest  ponds_around3000  ponds_nearest  days_exposition\n",
       "0            20 13000000.000     108.000  2019-03-07T00:00:00      3           2.700        16.000       51.000      8          NaN   False      False        25.000      NaN  Санкт-Петербург         18863.000            16028.000             1.000        482.000             2.000        755.000              NaN\n",
       "1             7  3350000.000      40.400  2018-12-04T00:00:00      1             NaN        11.000       18.600      1          NaN   False      False        11.000    2.000   посёлок Шушары         12817.000            18603.000             0.000            NaN             0.000            NaN           81.000\n",
       "2            10  5196000.000      56.000  2015-08-20T00:00:00      2             NaN         5.000       34.300      4          NaN   False      False         8.300    0.000  Санкт-Петербург         21741.000            13933.000             1.000         90.000             2.000        574.000          558.000\n",
       "3             0 64900000.000     159.000  2015-07-24T00:00:00      3             NaN        14.000          NaN      9          NaN   False      False           NaN    0.000  Санкт-Петербург         28098.000             6800.000             2.000         84.000             3.000        234.000          424.000\n",
       "4             2 10000000.000     100.000  2018-06-19T00:00:00      2           3.030        14.000       32.000     13          NaN   False      False        41.000      NaN  Санкт-Петербург         31856.000             8098.000             2.000        112.000             1.000         48.000          121.000"
      ]
     },
     "execution_count": 4,
     "metadata": {},
     "output_type": "execute_result"
    }
   ],
   "source": [
    "df.head(5)"
   ]
  },
  {
   "cell_type": "code",
   "execution_count": 5,
   "metadata": {},
   "outputs": [
    {
     "data": {
      "text/html": [
       "<div>\n",
       "<style scoped>\n",
       "    .dataframe tbody tr th:only-of-type {\n",
       "        vertical-align: middle;\n",
       "    }\n",
       "\n",
       "    .dataframe tbody tr th {\n",
       "        vertical-align: top;\n",
       "    }\n",
       "\n",
       "    .dataframe thead th {\n",
       "        text-align: right;\n",
       "    }\n",
       "</style>\n",
       "<table border=\"1\" class=\"dataframe\">\n",
       "  <thead>\n",
       "    <tr style=\"text-align: right;\">\n",
       "      <th></th>\n",
       "      <th>21782</th>\n",
       "      <th>20777</th>\n",
       "      <th>21983</th>\n",
       "      <th>4538</th>\n",
       "      <th>21359</th>\n",
       "    </tr>\n",
       "  </thead>\n",
       "  <tbody>\n",
       "    <tr>\n",
       "      <th>total_images</th>\n",
       "      <td>5</td>\n",
       "      <td>11</td>\n",
       "      <td>5</td>\n",
       "      <td>13</td>\n",
       "      <td>10</td>\n",
       "    </tr>\n",
       "    <tr>\n",
       "      <th>last_price</th>\n",
       "      <td>7400000.000</td>\n",
       "      <td>4800000.000</td>\n",
       "      <td>3650000.000</td>\n",
       "      <td>5690000.000</td>\n",
       "      <td>6200000.000</td>\n",
       "    </tr>\n",
       "    <tr>\n",
       "      <th>total_area</th>\n",
       "      <td>70.010</td>\n",
       "      <td>35.000</td>\n",
       "      <td>43.200</td>\n",
       "      <td>52.000</td>\n",
       "      <td>42.600</td>\n",
       "    </tr>\n",
       "    <tr>\n",
       "      <th>first_day_exposition</th>\n",
       "      <td>2018-09-07T00:00:00</td>\n",
       "      <td>2019-02-26T00:00:00</td>\n",
       "      <td>2017-08-19T00:00:00</td>\n",
       "      <td>2017-09-04T00:00:00</td>\n",
       "      <td>2018-07-10T00:00:00</td>\n",
       "    </tr>\n",
       "    <tr>\n",
       "      <th>rooms</th>\n",
       "      <td>2</td>\n",
       "      <td>1</td>\n",
       "      <td>1</td>\n",
       "      <td>2</td>\n",
       "      <td>1</td>\n",
       "    </tr>\n",
       "    <tr>\n",
       "      <th>ceiling_height</th>\n",
       "      <td>2.720</td>\n",
       "      <td>2.550</td>\n",
       "      <td>2.800</td>\n",
       "      <td>2.600</td>\n",
       "      <td>2.900</td>\n",
       "    </tr>\n",
       "    <tr>\n",
       "      <th>floors_total</th>\n",
       "      <td>16.000</td>\n",
       "      <td>12.000</td>\n",
       "      <td>22.000</td>\n",
       "      <td>10.000</td>\n",
       "      <td>12.000</td>\n",
       "    </tr>\n",
       "    <tr>\n",
       "      <th>living_area</th>\n",
       "      <td>NaN</td>\n",
       "      <td>18.000</td>\n",
       "      <td>14.000</td>\n",
       "      <td>31.600</td>\n",
       "      <td>23.000</td>\n",
       "    </tr>\n",
       "    <tr>\n",
       "      <th>floor</th>\n",
       "      <td>3</td>\n",
       "      <td>6</td>\n",
       "      <td>2</td>\n",
       "      <td>7</td>\n",
       "      <td>6</td>\n",
       "    </tr>\n",
       "    <tr>\n",
       "      <th>is_apartment</th>\n",
       "      <td>NaN</td>\n",
       "      <td>NaN</td>\n",
       "      <td>NaN</td>\n",
       "      <td>NaN</td>\n",
       "      <td>NaN</td>\n",
       "    </tr>\n",
       "    <tr>\n",
       "      <th>studio</th>\n",
       "      <td>False</td>\n",
       "      <td>False</td>\n",
       "      <td>False</td>\n",
       "      <td>False</td>\n",
       "      <td>False</td>\n",
       "    </tr>\n",
       "    <tr>\n",
       "      <th>open_plan</th>\n",
       "      <td>False</td>\n",
       "      <td>False</td>\n",
       "      <td>False</td>\n",
       "      <td>False</td>\n",
       "      <td>False</td>\n",
       "    </tr>\n",
       "    <tr>\n",
       "      <th>kitchen_area</th>\n",
       "      <td>10.460</td>\n",
       "      <td>8.200</td>\n",
       "      <td>15.000</td>\n",
       "      <td>8.000</td>\n",
       "      <td>8.000</td>\n",
       "    </tr>\n",
       "    <tr>\n",
       "      <th>balcony</th>\n",
       "      <td>2.000</td>\n",
       "      <td>NaN</td>\n",
       "      <td>1.000</td>\n",
       "      <td>NaN</td>\n",
       "      <td>NaN</td>\n",
       "    </tr>\n",
       "    <tr>\n",
       "      <th>locality_name</th>\n",
       "      <td>Санкт-Петербург</td>\n",
       "      <td>Санкт-Петербург</td>\n",
       "      <td>Санкт-Петербург</td>\n",
       "      <td>Санкт-Петербург</td>\n",
       "      <td>Сестрорецк</td>\n",
       "    </tr>\n",
       "    <tr>\n",
       "      <th>airports_nearest</th>\n",
       "      <td>43626.000</td>\n",
       "      <td>31118.000</td>\n",
       "      <td>15377.000</td>\n",
       "      <td>19794.000</td>\n",
       "      <td>57575.000</td>\n",
       "    </tr>\n",
       "    <tr>\n",
       "      <th>cityCenters_nearest</th>\n",
       "      <td>9481.000</td>\n",
       "      <td>7257.000</td>\n",
       "      <td>13486.000</td>\n",
       "      <td>11325.000</td>\n",
       "      <td>34505.000</td>\n",
       "    </tr>\n",
       "    <tr>\n",
       "      <th>parks_around3000</th>\n",
       "      <td>0.000</td>\n",
       "      <td>1.000</td>\n",
       "      <td>0.000</td>\n",
       "      <td>0.000</td>\n",
       "      <td>2.000</td>\n",
       "    </tr>\n",
       "    <tr>\n",
       "      <th>parks_nearest</th>\n",
       "      <td>NaN</td>\n",
       "      <td>241.000</td>\n",
       "      <td>NaN</td>\n",
       "      <td>NaN</td>\n",
       "      <td>428.000</td>\n",
       "    </tr>\n",
       "    <tr>\n",
       "      <th>ponds_around3000</th>\n",
       "      <td>0.000</td>\n",
       "      <td>1.000</td>\n",
       "      <td>1.000</td>\n",
       "      <td>0.000</td>\n",
       "      <td>1.000</td>\n",
       "    </tr>\n",
       "    <tr>\n",
       "      <th>ponds_nearest</th>\n",
       "      <td>NaN</td>\n",
       "      <td>230.000</td>\n",
       "      <td>825.000</td>\n",
       "      <td>NaN</td>\n",
       "      <td>615.000</td>\n",
       "    </tr>\n",
       "    <tr>\n",
       "      <th>days_exposition</th>\n",
       "      <td>60.000</td>\n",
       "      <td>NaN</td>\n",
       "      <td>66.000</td>\n",
       "      <td>95.000</td>\n",
       "      <td>36.000</td>\n",
       "    </tr>\n",
       "  </tbody>\n",
       "</table>\n",
       "</div>"
      ],
      "text/plain": [
       "                                    21782                20777                21983                4538                 21359\n",
       "total_images                            5                   11                    5                   13                   10\n",
       "last_price                    7400000.000          4800000.000          3650000.000          5690000.000          6200000.000\n",
       "total_area                         70.010               35.000               43.200               52.000               42.600\n",
       "first_day_exposition  2018-09-07T00:00:00  2019-02-26T00:00:00  2017-08-19T00:00:00  2017-09-04T00:00:00  2018-07-10T00:00:00\n",
       "rooms                                   2                    1                    1                    2                    1\n",
       "ceiling_height                      2.720                2.550                2.800                2.600                2.900\n",
       "floors_total                       16.000               12.000               22.000               10.000               12.000\n",
       "living_area                           NaN               18.000               14.000               31.600               23.000\n",
       "floor                                   3                    6                    2                    7                    6\n",
       "is_apartment                          NaN                  NaN                  NaN                  NaN                  NaN\n",
       "studio                              False                False                False                False                False\n",
       "open_plan                           False                False                False                False                False\n",
       "kitchen_area                       10.460                8.200               15.000                8.000                8.000\n",
       "balcony                             2.000                  NaN                1.000                  NaN                  NaN\n",
       "locality_name             Санкт-Петербург      Санкт-Петербург      Санкт-Петербург      Санкт-Петербург           Сестрорецк\n",
       "airports_nearest                43626.000            31118.000            15377.000            19794.000            57575.000\n",
       "cityCenters_nearest              9481.000             7257.000            13486.000            11325.000            34505.000\n",
       "parks_around3000                    0.000                1.000                0.000                0.000                2.000\n",
       "parks_nearest                         NaN              241.000                  NaN                  NaN              428.000\n",
       "ponds_around3000                    0.000                1.000                1.000                0.000                1.000\n",
       "ponds_nearest                         NaN              230.000              825.000                  NaN              615.000\n",
       "days_exposition                    60.000                  NaN               66.000               95.000               36.000"
      ]
     },
     "execution_count": 5,
     "metadata": {},
     "output_type": "execute_result"
    }
   ],
   "source": [
    "df.sample(5).T"
   ]
  },
  {
   "cell_type": "code",
   "execution_count": 6,
   "metadata": {},
   "outputs": [
    {
     "name": "stdout",
     "output_type": "stream",
     "text": [
      "<class 'pandas.core.frame.DataFrame'>\n",
      "RangeIndex: 23699 entries, 0 to 23698\n",
      "Data columns (total 22 columns):\n",
      " #   Column                Non-Null Count  Dtype  \n",
      "---  ------                --------------  -----  \n",
      " 0   total_images          23699 non-null  int64  \n",
      " 1   last_price            23699 non-null  float64\n",
      " 2   total_area            23699 non-null  float64\n",
      " 3   first_day_exposition  23699 non-null  object \n",
      " 4   rooms                 23699 non-null  int64  \n",
      " 5   ceiling_height        14504 non-null  float64\n",
      " 6   floors_total          23613 non-null  float64\n",
      " 7   living_area           21796 non-null  float64\n",
      " 8   floor                 23699 non-null  int64  \n",
      " 9   is_apartment          2775 non-null   object \n",
      " 10  studio                23699 non-null  bool   \n",
      " 11  open_plan             23699 non-null  bool   \n",
      " 12  kitchen_area          21421 non-null  float64\n",
      " 13  balcony               12180 non-null  float64\n",
      " 14  locality_name         23650 non-null  object \n",
      " 15  airports_nearest      18157 non-null  float64\n",
      " 16  cityCenters_nearest   18180 non-null  float64\n",
      " 17  parks_around3000      18181 non-null  float64\n",
      " 18  parks_nearest         8079 non-null   float64\n",
      " 19  ponds_around3000      18181 non-null  float64\n",
      " 20  ponds_nearest         9110 non-null   float64\n",
      " 21  days_exposition       20518 non-null  float64\n",
      "dtypes: bool(2), float64(14), int64(3), object(3)\n",
      "memory usage: 3.7+ MB\n"
     ]
    }
   ],
   "source": [
    "df.info()"
   ]
  },
  {
   "cell_type": "code",
   "execution_count": 7,
   "metadata": {},
   "outputs": [
    {
     "data": {
      "image/png": "[encoded data removed]",
      "text/plain": [
       "<Figure size 1080x1080 with 20 Axes>"
      ]
     },
     "metadata": {
      "needs_background": "light"
     },
     "output_type": "display_data"
    }
   ],
   "source": [
    "df.hist(figsize=(15,15))\n",
    "plt.show()"
   ]
  },
  {
   "cell_type": "markdown",
   "metadata": {},
   "source": [
    "#### Промежуточный вывод"
   ]
  },
  {
   "cell_type": "markdown",
   "metadata": {},
   "source": [
    "Проанализировав общую информацию о датасете, мы видим, что в нем присутствуют пропуски, а также не везде корректно обозначен формат данных."
   ]
  },
  {
   "cell_type": "markdown",
   "metadata": {},
   "source": [
    "### Предобработка данных"
   ]
  },
  {
   "cell_type": "markdown",
   "metadata": {},
   "source": [
    "#### Изменение типов данных и заполнение пропусков"
   ]
  },
  {
   "cell_type": "markdown",
   "metadata": {},
   "source": [
    "Проверим данные на наличие пропусков."
   ]
  },
  {
   "cell_type": "code",
   "execution_count": 8,
   "metadata": {},
   "outputs": [
    {
     "data": {
      "text/plain": [
       "total_images                0\n",
       "last_price                  0\n",
       "total_area                  0\n",
       "first_day_exposition        0\n",
       "rooms                       0\n",
       "ceiling_height           9195\n",
       "floors_total               86\n",
       "living_area              1903\n",
       "floor                       0\n",
       "is_apartment            20924\n",
       "studio                      0\n",
       "open_plan                   0\n",
       "kitchen_area             2278\n",
       "balcony                 11519\n",
       "locality_name              49\n",
       "airports_nearest         5542\n",
       "cityCenters_nearest      5519\n",
       "parks_around3000         5518\n",
       "parks_nearest           15620\n",
       "ponds_around3000         5518\n",
       "ponds_nearest           14589\n",
       "days_exposition          3181\n",
       "dtype: int64"
      ]
     },
     "execution_count": 8,
     "metadata": {},
     "output_type": "execute_result"
    }
   ],
   "source": [
    "df.isna().sum()"
   ]
  },
  {
   "cell_type": "markdown",
   "metadata": {},
   "source": [
    "Посмотрим на пропуски в процентных соотношениях"
   ]
  },
  {
   "cell_type": "code",
   "execution_count": 9,
   "metadata": {},
   "outputs": [
    {
     "data": {
      "text/html": [
       "<style  type=\"text/css\" >\n",
       "#T_e5ecc_row0_col0,#T_e5ecc_row1_col0,#T_e5ecc_row2_col0,#T_e5ecc_row3_col0,#T_e5ecc_row4_col0,#T_e5ecc_row6_col0,#T_e5ecc_row8_col0,#T_e5ecc_row10_col0,#T_e5ecc_row11_col0,#T_e5ecc_row14_col0{\n",
       "            background-color:  #3b4cc0;\n",
       "            color:  #f1f1f1;\n",
       "        }#T_e5ecc_row5_col0{\n",
       "            background-color:  #cdd9ec;\n",
       "            color:  #000000;\n",
       "        }#T_e5ecc_row7_col0{\n",
       "            background-color:  #5673e0;\n",
       "            color:  #000000;\n",
       "        }#T_e5ecc_row9_col0{\n",
       "            background-color:  #b40426;\n",
       "            color:  #f1f1f1;\n",
       "        }#T_e5ecc_row12_col0{\n",
       "            background-color:  #5e7de7;\n",
       "            color:  #000000;\n",
       "        }#T_e5ecc_row13_col0{\n",
       "            background-color:  #ead4c8;\n",
       "            color:  #000000;\n",
       "        }#T_e5ecc_row15_col0,#T_e5ecc_row16_col0,#T_e5ecc_row17_col0,#T_e5ecc_row19_col0{\n",
       "            background-color:  #90b2fe;\n",
       "            color:  #000000;\n",
       "        }#T_e5ecc_row18_col0{\n",
       "            background-color:  #f4987a;\n",
       "            color:  #000000;\n",
       "        }#T_e5ecc_row20_col0{\n",
       "            background-color:  #f7aa8c;\n",
       "            color:  #000000;\n",
       "        }#T_e5ecc_row21_col0{\n",
       "            background-color:  #688aef;\n",
       "            color:  #000000;\n",
       "        }</style><table id=\"T_e5ecc_\" ><thead>    <tr>        <th class=\"blank level0\" ></th>        <th class=\"col_heading level0 col0\" >0</th>    </tr></thead><tbody>\n",
       "                <tr>\n",
       "                        <th id=\"T_e5ecc_level0_row0\" class=\"row_heading level0 row0\" >total_images</th>\n",
       "                        <td id=\"T_e5ecc_row0_col0\" class=\"data row0 col0\" >0.000000</td>\n",
       "            </tr>\n",
       "            <tr>\n",
       "                        <th id=\"T_e5ecc_level0_row1\" class=\"row_heading level0 row1\" >last_price</th>\n",
       "                        <td id=\"T_e5ecc_row1_col0\" class=\"data row1 col0\" >0.000000</td>\n",
       "            </tr>\n",
       "            <tr>\n",
       "                        <th id=\"T_e5ecc_level0_row2\" class=\"row_heading level0 row2\" >total_area</th>\n",
       "                        <td id=\"T_e5ecc_row2_col0\" class=\"data row2 col0\" >0.000000</td>\n",
       "            </tr>\n",
       "            <tr>\n",
       "                        <th id=\"T_e5ecc_level0_row3\" class=\"row_heading level0 row3\" >first_day_exposition</th>\n",
       "                        <td id=\"T_e5ecc_row3_col0\" class=\"data row3 col0\" >0.000000</td>\n",
       "            </tr>\n",
       "            <tr>\n",
       "                        <th id=\"T_e5ecc_level0_row4\" class=\"row_heading level0 row4\" >rooms</th>\n",
       "                        <td id=\"T_e5ecc_row4_col0\" class=\"data row4 col0\" >0.000000</td>\n",
       "            </tr>\n",
       "            <tr>\n",
       "                        <th id=\"T_e5ecc_level0_row5\" class=\"row_heading level0 row5\" >ceiling_height</th>\n",
       "                        <td id=\"T_e5ecc_row5_col0\" class=\"data row5 col0\" >39.000000</td>\n",
       "            </tr>\n",
       "            <tr>\n",
       "                        <th id=\"T_e5ecc_level0_row6\" class=\"row_heading level0 row6\" >floors_total</th>\n",
       "                        <td id=\"T_e5ecc_row6_col0\" class=\"data row6 col0\" >0.000000</td>\n",
       "            </tr>\n",
       "            <tr>\n",
       "                        <th id=\"T_e5ecc_level0_row7\" class=\"row_heading level0 row7\" >living_area</th>\n",
       "                        <td id=\"T_e5ecc_row7_col0\" class=\"data row7 col0\" >8.000000</td>\n",
       "            </tr>\n",
       "            <tr>\n",
       "                        <th id=\"T_e5ecc_level0_row8\" class=\"row_heading level0 row8\" >floor</th>\n",
       "                        <td id=\"T_e5ecc_row8_col0\" class=\"data row8 col0\" >0.000000</td>\n",
       "            </tr>\n",
       "            <tr>\n",
       "                        <th id=\"T_e5ecc_level0_row9\" class=\"row_heading level0 row9\" >is_apartment</th>\n",
       "                        <td id=\"T_e5ecc_row9_col0\" class=\"data row9 col0\" >88.000000</td>\n",
       "            </tr>\n",
       "            <tr>\n",
       "                        <th id=\"T_e5ecc_level0_row10\" class=\"row_heading level0 row10\" >studio</th>\n",
       "                        <td id=\"T_e5ecc_row10_col0\" class=\"data row10 col0\" >0.000000</td>\n",
       "            </tr>\n",
       "            <tr>\n",
       "                        <th id=\"T_e5ecc_level0_row11\" class=\"row_heading level0 row11\" >open_plan</th>\n",
       "                        <td id=\"T_e5ecc_row11_col0\" class=\"data row11 col0\" >0.000000</td>\n",
       "            </tr>\n",
       "            <tr>\n",
       "                        <th id=\"T_e5ecc_level0_row12\" class=\"row_heading level0 row12\" >kitchen_area</th>\n",
       "                        <td id=\"T_e5ecc_row12_col0\" class=\"data row12 col0\" >10.000000</td>\n",
       "            </tr>\n",
       "            <tr>\n",
       "                        <th id=\"T_e5ecc_level0_row13\" class=\"row_heading level0 row13\" >balcony</th>\n",
       "                        <td id=\"T_e5ecc_row13_col0\" class=\"data row13 col0\" >49.000000</td>\n",
       "            </tr>\n",
       "            <tr>\n",
       "                        <th id=\"T_e5ecc_level0_row14\" class=\"row_heading level0 row14\" >locality_name</th>\n",
       "                        <td id=\"T_e5ecc_row14_col0\" class=\"data row14 col0\" >0.000000</td>\n",
       "            </tr>\n",
       "            <tr>\n",
       "                        <th id=\"T_e5ecc_level0_row15\" class=\"row_heading level0 row15\" >airports_nearest</th>\n",
       "                        <td id=\"T_e5ecc_row15_col0\" class=\"data row15 col0\" >23.000000</td>\n",
       "            </tr>\n",
       "            <tr>\n",
       "                        <th id=\"T_e5ecc_level0_row16\" class=\"row_heading level0 row16\" >cityCenters_nearest</th>\n",
       "                        <td id=\"T_e5ecc_row16_col0\" class=\"data row16 col0\" >23.000000</td>\n",
       "            </tr>\n",
       "            <tr>\n",
       "                        <th id=\"T_e5ecc_level0_row17\" class=\"row_heading level0 row17\" >parks_around3000</th>\n",
       "                        <td id=\"T_e5ecc_row17_col0\" class=\"data row17 col0\" >23.000000</td>\n",
       "            </tr>\n",
       "            <tr>\n",
       "                        <th id=\"T_e5ecc_level0_row18\" class=\"row_heading level0 row18\" >parks_nearest</th>\n",
       "                        <td id=\"T_e5ecc_row18_col0\" class=\"data row18 col0\" >66.000000</td>\n",
       "            </tr>\n",
       "            <tr>\n",
       "                        <th id=\"T_e5ecc_level0_row19\" class=\"row_heading level0 row19\" >ponds_around3000</th>\n",
       "                        <td id=\"T_e5ecc_row19_col0\" class=\"data row19 col0\" >23.000000</td>\n",
       "            </tr>\n",
       "            <tr>\n",
       "                        <th id=\"T_e5ecc_level0_row20\" class=\"row_heading level0 row20\" >ponds_nearest</th>\n",
       "                        <td id=\"T_e5ecc_row20_col0\" class=\"data row20 col0\" >62.000000</td>\n",
       "            </tr>\n",
       "            <tr>\n",
       "                        <th id=\"T_e5ecc_level0_row21\" class=\"row_heading level0 row21\" >days_exposition</th>\n",
       "                        <td id=\"T_e5ecc_row21_col0\" class=\"data row21 col0\" >13.000000</td>\n",
       "            </tr>\n",
       "    </tbody></table>"
      ],
      "text/plain": [
       "<pandas.io.formats.style.Styler at 0x7f23429caee0>"
      ]
     },
     "execution_count": 9,
     "metadata": {},
     "output_type": "execute_result"
    }
   ],
   "source": [
    "pd.DataFrame(round(df.isna().mean()*100,)).style.background_gradient('coolwarm')"
   ]
  },
  {
   "cell_type": "markdown",
   "metadata": {},
   "source": [
    "Пропуски есть в следующих колонках:\n",
    "- ceiling_height\n",
    "- floors_total\n",
    "- living_area\n",
    "- is_apartment\n",
    "- kitchen_area\n",
    "- balcony\n",
    "- locality_name\n",
    "- airports_nearest\n",
    "- cityCenters_nearest\n",
    "- parks_around3000\n",
    "- parks_nearest\n",
    "- ponds_around3000\n",
    "- ponds_nearest\n",
    "\n",
    "Часть из этих значени й можно будет заполнить на основе других значений.\n",
    "\n",
    "Сначала заполним пропуски, которые не требуют каких-либо расчетов. Также поменяем тип данных для некоторых столбцов, чтобы сделать работу с ними удобнее.\n",
    "\n",
    "Формат 'int' ипользую для тех значений, где встречаются только целые числа (например, этажность дома, число комнат и т.д)"
   ]
  },
  {
   "cell_type": "code",
   "execution_count": 10,
   "metadata": {},
   "outputs": [],
   "source": [
    "df['first_day_exposition'] = pd.to_datetime(df['first_day_exposition'], format = '%Y-%m-%d')\n",
    "\n",
    "df['is_apartment'] = df['is_apartment'].fillna(value = 'False').astype(bool)\n",
    "\n",
    "df['balcony'] = df['balcony'].fillna(0).astype('int')\n",
    "\n",
    "df['parks_around3000'] = df['parks_around3000'].fillna(value=0).astype('int')\n",
    "df['parks_nearest'] = df['parks_nearest'].fillna(value=0).astype('int')\n",
    "\n",
    "df['ponds_around3000'] = df['ponds_around3000'].fillna(0).astype('int')\n",
    "df['ponds_nearest'] = df['ponds_nearest'].fillna(0).astype('int')\n",
    "\n",
    "df['days_exposition'] = df['days_exposition'].fillna(0).astype('int')\n",
    "\n",
    "# Заполню пропуски в столбце 'floors_total'\n",
    "df['floors_total'] = df['floors_total'].fillna(df['floor']).astype('int')"
   ]
  },
  {
   "cell_type": "markdown",
   "metadata": {},
   "source": [
    "Заполню пропуски в 'living_area' медианным значением по групперовке через столбец 'rooms'"
   ]
  },
  {
   "cell_type": "code",
   "execution_count": 11,
   "metadata": {},
   "outputs": [
    {
     "data": {
      "text/plain": [
       "0.8459774567888749"
      ]
     },
     "execution_count": 11,
     "metadata": {},
     "output_type": "execute_result"
    }
   ],
   "source": [
    "# Для этого посчитаю коэффициент корреляции\n",
    "print('Коэффициент корреляции', df['living_area'].corr(df['rooms']))"
   ]
  },
  {
   "cell_type": "code",
   "execution_count": 12,
   "metadata": {},
   "outputs": [],
   "source": [
    "# Заполняю пропуски через группировку\n",
    "df['living_area'] = df.groupby('rooms')['living_area'].apply(lambda x: x.fillna(x.median()))"
   ]
  },
  {
   "cell_type": "markdown",
   "metadata": {},
   "source": [
    "Теперь рассмотрим пропуски в столбце 'kitchen_area'."
   ]
  },
  {
   "cell_type": "code",
   "execution_count": 12,
   "metadata": {},
   "outputs": [
    {
     "data": {
      "text/plain": [
       "0.6091211711198318"
      ]
     },
     "execution_count": 12,
     "metadata": {},
     "output_type": "execute_result"
    }
   ],
   "source": [
    "print('Коэффициент корреляции', df['kitchen_area'].corr(df['total_area']))"
   ]
  },
  {
   "cell_type": "markdown",
   "metadata": {},
   "source": [
    "Мы видим, что присутствует положительная корреляция между 'kitchen_area' и 'total_area'.\n",
    "Посчитаем коэффициент, который опишет зависимость площади кухни от жилой площади."
   ]
  },
  {
   "cell_type": "code",
   "execution_count": 13,
   "metadata": {},
   "outputs": [],
   "source": [
    "kitchen_area_ratio = df['kitchen_area'].mean() / df['total_area'].mean()"
   ]
  },
  {
   "cell_type": "code",
   "execution_count": 14,
   "metadata": {},
   "outputs": [],
   "source": [
    "df['kitchen_area'] = df['kitchen_area'].fillna(kitchen_area_ratio * df['total_area'].mean())"
   ]
  },
  {
   "cell_type": "markdown",
   "metadata": {},
   "source": [
    "Теперь рассмотрим пропуски в столбце 'ceiling_height'."
   ]
  },
  {
   "cell_type": "code",
   "execution_count": 15,
   "metadata": {},
   "outputs": [],
   "source": [
    "df['ceiling_height'] = df['ceiling_height'].fillna(df['ceiling_height'].median())"
   ]
  },
  {
   "cell_type": "markdown",
   "metadata": {},
   "source": [
    "Также пропуски есть в 'locality_name'. Всего 49 пропущенных значений, предлагаю удалить строки с пропусками в 'locality_name'"
   ]
  },
  {
   "cell_type": "code",
   "execution_count": 16,
   "metadata": {},
   "outputs": [],
   "source": [
    "df.dropna(0, how='any', subset = ['locality_name'], inplace=True)"
   ]
  },
  {
   "cell_type": "markdown",
   "metadata": {},
   "source": [
    "Проверим пропуски еще раз."
   ]
  },
  {
   "cell_type": "code",
   "execution_count": 122,
   "metadata": {},
   "outputs": [
    {
     "data": {
      "text/plain": [
       "total_images               0\n",
       "last_price                 0\n",
       "total_area                 0\n",
       "first_day_exposition       0\n",
       "rooms                      0\n",
       "ceiling_height             0\n",
       "floors_total               0\n",
       "living_area                0\n",
       "floor                      0\n",
       "is_apartment               0\n",
       "studio                     0\n",
       "open_plan                  0\n",
       "kitchen_area               0\n",
       "balcony                    0\n",
       "locality_name              0\n",
       "airports_nearest        5534\n",
       "cityCenters_nearest     5511\n",
       "parks_around3000           0\n",
       "parks_nearest              0\n",
       "ponds_around3000           0\n",
       "ponds_nearest              0\n",
       "days_exposition            0\n",
       "dtype: int64"
      ]
     },
     "execution_count": 122,
     "metadata": {},
     "output_type": "execute_result"
    }
   ],
   "source": [
    "df.isna().sum()"
   ]
  },
  {
   "cell_type": "markdown",
   "metadata": {},
   "source": [
    "Что касается пропусков в:\n",
    "1. airports_nearest\n",
    "2. cityCenters_nearest\n",
    "3. locality_name\n",
    "\n",
    "Здесь я не стану заполнять пропуски т.к. нет возможности понять, какие значения лучше использовать для заполнения. \\\n",
    "В случае с airports_nearest, можно было бы использовать медиану по группам locality_name, но я не считаю, что это корректно, т.к.некоторые локации, например Санкт-Петербург, слишком большие и расстояния до аэропорта там сильно разнятся."
   ]
  },
  {
   "cell_type": "code",
   "execution_count": 123,
   "metadata": {},
   "outputs": [
    {
     "name": "stdout",
     "output_type": "stream",
     "text": [
      "<class 'pandas.core.frame.DataFrame'>\n",
      "Int64Index: 23650 entries, 0 to 23698\n",
      "Data columns (total 22 columns):\n",
      " #   Column                Non-Null Count  Dtype         \n",
      "---  ------                --------------  -----         \n",
      " 0   total_images          23650 non-null  int64         \n",
      " 1   last_price            23650 non-null  float64       \n",
      " 2   total_area            23650 non-null  float64       \n",
      " 3   first_day_exposition  23650 non-null  datetime64[ns]\n",
      " 4   rooms                 23650 non-null  int64         \n",
      " 5   ceiling_height        23650 non-null  float64       \n",
      " 6   floors_total          23650 non-null  int64         \n",
      " 7   living_area           23650 non-null  float64       \n",
      " 8   floor                 23650 non-null  int64         \n",
      " 9   is_apartment          23650 non-null  bool          \n",
      " 10  studio                23650 non-null  bool          \n",
      " 11  open_plan             23650 non-null  bool          \n",
      " 12  kitchen_area          23650 non-null  float64       \n",
      " 13  balcony               23650 non-null  int64         \n",
      " 14  locality_name         23650 non-null  object        \n",
      " 15  airports_nearest      18116 non-null  float64       \n",
      " 16  cityCenters_nearest   18139 non-null  float64       \n",
      " 17  parks_around3000      23650 non-null  int64         \n",
      " 18  parks_nearest         23650 non-null  int64         \n",
      " 19  ponds_around3000      23650 non-null  int64         \n",
      " 20  ponds_nearest         23650 non-null  int64         \n",
      " 21  days_exposition       23650 non-null  int64         \n",
      "dtypes: bool(3), datetime64[ns](1), float64(7), int64(10), object(1)\n",
      "memory usage: 3.7+ MB\n"
     ]
    },
    {
     "data": {
      "text/plain": [
       "total_images               0\n",
       "last_price                 0\n",
       "total_area                 0\n",
       "first_day_exposition       0\n",
       "rooms                      0\n",
       "ceiling_height             0\n",
       "floors_total               0\n",
       "living_area                0\n",
       "floor                      0\n",
       "is_apartment               0\n",
       "studio                     0\n",
       "open_plan                  0\n",
       "kitchen_area               0\n",
       "balcony                    0\n",
       "locality_name              0\n",
       "airports_nearest        5534\n",
       "cityCenters_nearest     5511\n",
       "parks_around3000           0\n",
       "parks_nearest              0\n",
       "ponds_around3000           0\n",
       "ponds_nearest              0\n",
       "days_exposition            0\n",
       "dtype: int64"
      ]
     },
     "execution_count": 123,
     "metadata": {},
     "output_type": "execute_result"
    }
   ],
   "source": [
    "# Проверю пропуски и форматы еще раз\n",
    "df.info()\n",
    "df.isna().sum()"
   ]
  },
  {
   "cell_type": "markdown",
   "metadata": {},
   "source": [
    "Теперь все форматы соотвествуют данным. Также я избавился от части пропущенных значений."
   ]
  },
  {
   "cell_type": "markdown",
   "metadata": {},
   "source": [
    "#### Работа с дубликатами"
   ]
  },
  {
   "cell_type": "markdown",
   "metadata": {},
   "source": [
    "**Проверим датасет на наличие дубликатов**"
   ]
  },
  {
   "cell_type": "code",
   "execution_count": 124,
   "metadata": {
    "scrolled": true
   },
   "outputs": [
    {
     "data": {
      "text/plain": [
       "0"
      ]
     },
     "execution_count": 124,
     "metadata": {},
     "output_type": "execute_result"
    }
   ],
   "source": [
    "df.duplicated().sum()"
   ]
  },
  {
   "cell_type": "markdown",
   "metadata": {},
   "source": [
    "Сначала посмотрим на список уникальных значений из столбца 'locality_name'."
   ]
  },
  {
   "cell_type": "code",
   "execution_count": 125,
   "metadata": {},
   "outputs": [
    {
     "data": {
      "text/plain": [
       "array(['Санкт-Петербург', 'посёлок Шушары', 'городской посёлок Янино-1',\n",
       "       'посёлок Парголово', 'посёлок Мурино', 'Ломоносов', 'Сертолово',\n",
       "       'Петергоф', 'Пушкин', 'деревня Кудрово', 'Коммунар', 'Колпино',\n",
       "       'поселок городского типа Красный Бор', 'Гатчина', 'поселок Мурино',\n",
       "       'деревня Фёдоровское', 'Выборг', 'Кронштадт', 'Кировск',\n",
       "       'деревня Новое Девяткино', 'посёлок Металлострой',\n",
       "       'посёлок городского типа Лебяжье',\n",
       "       'посёлок городского типа Сиверский', 'поселок Молодцово',\n",
       "       'поселок городского типа Кузьмоловский',\n",
       "       'садовое товарищество Новая Ропша', 'Павловск',\n",
       "       'деревня Пикколово', 'Всеволожск', 'Волхов', 'Кингисепп',\n",
       "       'Приозерск', 'Сестрорецк', 'деревня Куттузи', 'посёлок Аннино',\n",
       "       'поселок городского типа Ефимовский', 'посёлок Плодовое',\n",
       "       'деревня Заклинье', 'поселок Торковичи', 'поселок Первомайское',\n",
       "       'Красное Село', 'посёлок Понтонный', 'Сясьстрой', 'деревня Старая',\n",
       "       'деревня Лесколово', 'посёлок Новый Свет', 'Сланцы',\n",
       "       'село Путилово', 'Ивангород', 'Мурино', 'Шлиссельбург',\n",
       "       'Никольское', 'Зеленогорск', 'Сосновый Бор', 'поселок Новый Свет',\n",
       "       'деревня Оржицы', 'деревня Кальтино', 'Кудрово',\n",
       "       'поселок Романовка', 'посёлок Бугры', 'поселок Бугры',\n",
       "       'поселок городского типа Рощино', 'Кириши', 'Луга', 'Волосово',\n",
       "       'Отрадное', 'село Павлово', 'поселок Оредеж', 'село Копорье',\n",
       "       'посёлок городского типа Красный Бор', 'посёлок Молодёжное',\n",
       "       'Тихвин', 'посёлок Победа', 'деревня Нурма',\n",
       "       'поселок городского типа Синявино', 'Тосно',\n",
       "       'посёлок городского типа Кузьмоловский', 'посёлок Стрельна',\n",
       "       'Бокситогорск', 'посёлок Александровская', 'деревня Лопухинка',\n",
       "       'Пикалёво', 'поселок Терволово',\n",
       "       'поселок городского типа Советский', 'Подпорожье',\n",
       "       'посёлок Петровское', 'посёлок городского типа Токсово',\n",
       "       'поселок Сельцо', 'посёлок городского типа Вырица',\n",
       "       'деревня Кипень', 'деревня Келози', 'деревня Вартемяги',\n",
       "       'посёлок Тельмана', 'поселок Севастьяново',\n",
       "       'городской поселок Большая Ижора', 'городской посёлок Павлово',\n",
       "       'деревня Агалатово', 'посёлок Новогорелово',\n",
       "       'городской посёлок Лесогорский', 'деревня Лаголово',\n",
       "       'поселок Цвелодубово', 'поселок городского типа Рахья',\n",
       "       'поселок городского типа Вырица', 'деревня Белогорка',\n",
       "       'поселок Заводской', 'городской посёлок Новоселье',\n",
       "       'деревня Большие Колпаны', 'деревня Горбунки', 'деревня Батово',\n",
       "       'деревня Заневка', 'деревня Иссад', 'Приморск',\n",
       "       'городской посёлок Фёдоровское', 'деревня Мистолово',\n",
       "       'Новая Ладога', 'поселок Зимитицы', 'поселок Барышево',\n",
       "       'деревня Разметелево', 'поселок городского типа имени Свердлова',\n",
       "       'деревня Пеники', 'поселок Рябово', 'деревня Пудомяги',\n",
       "       'поселок станции Корнево', 'деревня Низино', 'деревня Бегуницы',\n",
       "       'посёлок Поляны', 'городской посёлок Мга', 'поселок Елизаветино',\n",
       "       'посёлок городского типа Кузнечное', 'деревня Колтуши',\n",
       "       'поселок Запорожское', 'посёлок городского типа Рощино',\n",
       "       'деревня Гостилицы', 'деревня Малое Карлино',\n",
       "       'посёлок Мичуринское', 'посёлок городского типа имени Морозова',\n",
       "       'посёлок Песочный', 'посёлок Сосново', 'деревня Аро',\n",
       "       'поселок Ильичёво', 'посёлок городского типа Тайцы',\n",
       "       'деревня Малое Верево', 'деревня Извара', 'поселок станции Вещево',\n",
       "       'село Паша', 'деревня Калитино',\n",
       "       'посёлок городского типа Ульяновка', 'деревня Чудской Бор',\n",
       "       'поселок городского типа Дубровка', 'деревня Мины',\n",
       "       'поселок Войсковицы', 'посёлок городского типа имени Свердлова',\n",
       "       'деревня Коркино', 'посёлок Ропша',\n",
       "       'поселок городского типа Приладожский', 'посёлок Щеглово',\n",
       "       'посёлок Гаврилово', 'Лодейное Поле', 'деревня Рабитицы',\n",
       "       'поселок городского типа Никольский', 'деревня Кузьмолово',\n",
       "       'деревня Малые Колпаны', 'поселок Тельмана',\n",
       "       'посёлок Петро-Славянка', 'городской посёлок Назия',\n",
       "       'посёлок Репино', 'посёлок Ильичёво', 'поселок Углово',\n",
       "       'поселок Старая Малукса', 'садовое товарищество Рахья',\n",
       "       'поселок Аннино', 'поселок Победа', 'деревня Меньково',\n",
       "       'деревня Старые Бегуницы', 'посёлок Сапёрный', 'поселок Семрино',\n",
       "       'поселок Гаврилово', 'поселок Глажево', 'поселок Кобринское',\n",
       "       'деревня Гарболово', 'деревня Юкки',\n",
       "       'поселок станции Приветнинское', 'деревня Мануйлово',\n",
       "       'деревня Пчева', 'поселок Поляны', 'поселок Цвылёво',\n",
       "       'поселок Мельниково', 'посёлок Пудость', 'посёлок Усть-Луга',\n",
       "       'Светогорск', 'Любань', 'поселок Селезнёво',\n",
       "       'поселок городского типа Рябово', 'Каменногорск', 'деревня Кривко',\n",
       "       'поселок Глебычево', 'деревня Парицы', 'поселок Жилпосёлок',\n",
       "       'посёлок городского типа Мга', 'городской поселок Янино-1',\n",
       "       'посёлок Войскорово', 'село Никольское', 'посёлок Терволово',\n",
       "       'поселок Стеклянный', 'посёлок городского типа Важины',\n",
       "       'посёлок Мыза-Ивановка', 'село Русско-Высоцкое',\n",
       "       'поселок городского типа Лебяжье',\n",
       "       'поселок городского типа Форносово', 'село Старая Ладога',\n",
       "       'поселок Житково', 'городской посёлок Виллози', 'деревня Лампово',\n",
       "       'деревня Шпаньково', 'деревня Лаврики', 'посёлок Сумино',\n",
       "       'посёлок Возрождение', 'деревня Старосиверская',\n",
       "       'посёлок Кикерино', 'поселок Возрождение',\n",
       "       'деревня Старое Хинколово', 'посёлок Пригородный',\n",
       "       'посёлок Торфяное', 'городской посёлок Будогощь',\n",
       "       'поселок Суходолье', 'поселок Красная Долина', 'деревня Хапо-Ое',\n",
       "       'поселок городского типа Дружная Горка', 'поселок Лисий Нос',\n",
       "       'деревня Яльгелево', 'посёлок Стеклянный', 'село Рождествено',\n",
       "       'деревня Старополье', 'посёлок Левашово', 'деревня Сяськелево',\n",
       "       'деревня Камышовка',\n",
       "       'садоводческое некоммерческое товарищество Лесная Поляна',\n",
       "       'деревня Хязельки', 'поселок Жилгородок',\n",
       "       'посёлок городского типа Павлово', 'деревня Ялгино',\n",
       "       'поселок Новый Учхоз', 'городской посёлок Рощино',\n",
       "       'поселок Гончарово', 'поселок Почап', 'посёлок Сапёрное',\n",
       "       'посёлок Платформа 69-й километр', 'поселок Каложицы',\n",
       "       'деревня Фалилеево', 'деревня Пельгора',\n",
       "       'поселок городского типа Лесогорский', 'деревня Торошковичи',\n",
       "       'посёлок Белоостров', 'посёлок Алексеевка', 'поселок Серебрянский',\n",
       "       'поселок Лукаши', 'поселок Петровское', 'деревня Щеглово',\n",
       "       'поселок Мичуринское', 'деревня Тарасово', 'поселок Кингисеппский',\n",
       "       'посёлок при железнодорожной станции Вещево', 'поселок Ушаки',\n",
       "       'деревня Котлы', 'деревня Сижно', 'деревня Торосово',\n",
       "       'посёлок Форт Красная Горка', 'поселок городского типа Токсово',\n",
       "       'деревня Новолисино', 'посёлок станции Громово', 'деревня Глинка',\n",
       "       'посёлок Мельниково', 'поселок городского типа Назия',\n",
       "       'деревня Старая Пустошь', 'поселок Коммунары', 'поселок Починок',\n",
       "       'посёлок городского типа Вознесенье', 'деревня Разбегаево',\n",
       "       'посёлок городского типа Рябово', 'поселок Гладкое',\n",
       "       'посёлок при железнодорожной станции Приветнинское',\n",
       "       'поселок Тёсово-4', 'посёлок Жилгородок', 'деревня Бор',\n",
       "       'посёлок Коробицыно', 'деревня Большая Вруда', 'деревня Курковицы',\n",
       "       'посёлок Лисий Нос', 'городской посёлок Советский',\n",
       "       'посёлок Кобралово', 'деревня Суоранда', 'поселок Кобралово',\n",
       "       'поселок городского типа Кондратьево',\n",
       "       'коттеджный поселок Счастье', 'поселок Любань', 'деревня Реброво',\n",
       "       'деревня Зимитицы', 'деревня Тойворово', 'поселок Семиозерье',\n",
       "       'поселок Лесное', 'поселок Совхозный', 'поселок Усть-Луга',\n",
       "       'посёлок Ленинское', 'посёлок Суйда',\n",
       "       'посёлок городского типа Форносово', 'деревня Нижние Осельки',\n",
       "       'посёлок станции Свирь', 'поселок Перово', 'Высоцк',\n",
       "       'поселок Гарболово', 'село Шум', 'поселок Котельский',\n",
       "       'поселок станции Лужайка', 'деревня Большая Пустомержа',\n",
       "       'поселок Красносельское', 'деревня Вахнова Кара', 'деревня Пижма',\n",
       "       'коттеджный поселок Кивеннапа Север', 'поселок Коробицыно',\n",
       "       'поселок Ромашки', 'посёлок Перово', 'деревня Каськово',\n",
       "       'деревня Куровицы', 'посёлок Плоское', 'поселок Сумино',\n",
       "       'поселок городского типа Большая Ижора', 'поселок Кирпичное',\n",
       "       'деревня Ям-Тесово', 'деревня Раздолье', 'деревня Терпилицы',\n",
       "       'посёлок Шугозеро', 'деревня Ваганово', 'поселок Пушное',\n",
       "       'садовое товарищество Садко', 'посёлок Усть-Ижора',\n",
       "       'деревня Выскатка', 'городской посёлок Свирьстрой',\n",
       "       'поселок Громово', 'деревня Кисельня', 'посёлок Старая Малукса',\n",
       "       'деревня Трубников Бор', 'поселок Калитино',\n",
       "       'посёлок Высокоключевой', 'садовое товарищество Приладожский',\n",
       "       'посёлок Пансионат Зелёный Бор', 'деревня Ненимяки',\n",
       "       'поселок Пансионат Зелёный Бор', 'деревня Снегирёвка',\n",
       "       'деревня Рапполово', 'деревня Пустынка', 'поселок Рабитицы',\n",
       "       'деревня Большой Сабск', 'деревня Русско', 'деревня Лупполово',\n",
       "       'деревня Большое Рейзино', 'деревня Малая Романовка',\n",
       "       'поселок Дружноселье', 'поселок Пчевжа', 'поселок Володарское',\n",
       "       'деревня Нижняя', 'коттеджный посёлок Лесное', 'деревня Тихковицы',\n",
       "       'деревня Борисова Грива', 'посёлок Дзержинского'], dtype=object)"
      ]
     },
     "execution_count": 125,
     "metadata": {},
     "output_type": "execute_result"
    }
   ],
   "source": [
    "df['locality_name'].unique()\n",
    "\n",
    "# Здесь видно, что в названиях локаций присутствуют неявные дубликаты, например:\n",
    "# 'село Павлово', 'городской поселок Павлово', 'поселок городского типа Павлово'. "
   ]
  },
  {
   "cell_type": "code",
   "execution_count": 126,
   "metadata": {},
   "outputs": [],
   "source": [
    "# Чтобы устранить неявные дубликаты в названиях локаций, заменим все буквы 'ё' на 'е'.\n",
    "\n",
    "df['locality_name'] = df['locality_name'].str.replace('ё','е')"
   ]
  },
  {
   "cell_type": "code",
   "execution_count": 127,
   "metadata": {},
   "outputs": [],
   "source": [
    "# Приведем названия локаций к единому виду.\n",
    "# Чтобы сделать это, нужно сначала убрать все пропуски в 'locality_name'\n",
    "\n",
    "df['locality_name'] = df['locality_name'].fillna(value = 'Неизвестно')\n",
    "# я выделил объявления с пропущенной локацией в отдельную группу, заменив пропуск на \"неизвестно\"\n",
    "\n",
    "df['locality_name'] = df['locality_name'].apply(lambda x: x.replace('поселок городского типа', 'поселок'))\n",
    "df['locality_name'] = df['locality_name'].apply(lambda x: x.replace('поселок при железнодорожной станции', 'поселок'))\n",
    "df['locality_name'] = df['locality_name'].apply(lambda x: x.replace('городской поселок', 'поселок'))\n",
    "df['locality_name'] = df['locality_name'].apply(lambda x: x.replace('поселок станции', 'поселок'))\n",
    "df['locality_name'] = (\n",
    "    df['locality_name'].apply(\n",
    "        lambda x: x.replace(\n",
    "            'садоводческое некоммерческое товарищество', \n",
    "            'садоводческое товарищество')\n",
    "    )\n",
    "        )\n"
   ]
  },
  {
   "cell_type": "markdown",
   "metadata": {},
   "source": [
    "#### Работа с аномальными значениями"
   ]
  },
  {
   "cell_type": "markdown",
   "metadata": {},
   "source": [
    "Проверим значения в ceiling_height на аномалии или ошибки."
   ]
  },
  {
   "cell_type": "code",
   "execution_count": 128,
   "metadata": {},
   "outputs": [
    {
     "data": {
      "text/plain": [
       "[1.0,\n",
       " 1.2,\n",
       " 1.75,\n",
       " 2.0,\n",
       " 2.2,\n",
       " 2.25,\n",
       " 2.3,\n",
       " 2.34,\n",
       " 2.4,\n",
       " 2.45,\n",
       " 2.46,\n",
       " 2.47,\n",
       " 2.48,\n",
       " 2.49,\n",
       " 2.5,\n",
       " 2.51,\n",
       " 2.52,\n",
       " 2.53,\n",
       " 2.54,\n",
       " 2.55,\n",
       " 2.56,\n",
       " 2.57,\n",
       " 2.58,\n",
       " 2.59,\n",
       " 2.6,\n",
       " 2.61,\n",
       " 2.62,\n",
       " 2.63,\n",
       " 2.64,\n",
       " 2.65,\n",
       " 2.66,\n",
       " 2.67,\n",
       " 2.68,\n",
       " 2.69,\n",
       " 2.7,\n",
       " 2.71,\n",
       " 2.72,\n",
       " 2.73,\n",
       " 2.74,\n",
       " 2.75,\n",
       " 2.76,\n",
       " 2.77,\n",
       " 2.78,\n",
       " 2.79,\n",
       " 2.8,\n",
       " 2.81,\n",
       " 2.82,\n",
       " 2.83,\n",
       " 2.84,\n",
       " 2.85,\n",
       " 2.86,\n",
       " 2.87,\n",
       " 2.88,\n",
       " 2.89,\n",
       " 2.9,\n",
       " 2.91,\n",
       " 2.92,\n",
       " 2.93,\n",
       " 2.94,\n",
       " 2.95,\n",
       " 2.96,\n",
       " 2.97,\n",
       " 2.98,\n",
       " 2.99,\n",
       " 3.0,\n",
       " 3.01,\n",
       " 3.02,\n",
       " 3.03,\n",
       " 3.04,\n",
       " 3.05,\n",
       " 3.06,\n",
       " 3.07,\n",
       " 3.08,\n",
       " 3.09,\n",
       " 3.1,\n",
       " 3.11,\n",
       " 3.12,\n",
       " 3.13,\n",
       " 3.14,\n",
       " 3.15,\n",
       " 3.16,\n",
       " 3.17,\n",
       " 3.18,\n",
       " 3.2,\n",
       " 3.21,\n",
       " 3.22,\n",
       " 3.23,\n",
       " 3.24,\n",
       " 3.25,\n",
       " 3.26,\n",
       " 3.27,\n",
       " 3.28,\n",
       " 3.29,\n",
       " 3.3,\n",
       " 3.31,\n",
       " 3.32,\n",
       " 3.33,\n",
       " 3.34,\n",
       " 3.35,\n",
       " 3.36,\n",
       " 3.37,\n",
       " 3.38,\n",
       " 3.39,\n",
       " 3.4,\n",
       " 3.42,\n",
       " 3.43,\n",
       " 3.44,\n",
       " 3.45,\n",
       " 3.46,\n",
       " 3.47,\n",
       " 3.48,\n",
       " 3.49,\n",
       " 3.5,\n",
       " 3.51,\n",
       " 3.52,\n",
       " 3.53,\n",
       " 3.54,\n",
       " 3.55,\n",
       " 3.56,\n",
       " 3.57,\n",
       " 3.58,\n",
       " 3.59,\n",
       " 3.6,\n",
       " 3.62,\n",
       " 3.63,\n",
       " 3.65,\n",
       " 3.66,\n",
       " 3.67,\n",
       " 3.68,\n",
       " 3.69,\n",
       " 3.7,\n",
       " 3.75,\n",
       " 3.76,\n",
       " 3.78,\n",
       " 3.8,\n",
       " 3.82,\n",
       " 3.83,\n",
       " 3.84,\n",
       " 3.85,\n",
       " 3.86,\n",
       " 3.87,\n",
       " 3.88,\n",
       " 3.9,\n",
       " 3.93,\n",
       " 3.95,\n",
       " 3.98,\n",
       " 4.0,\n",
       " 4.06,\n",
       " 4.1,\n",
       " 4.14,\n",
       " 4.15,\n",
       " 4.19,\n",
       " 4.2,\n",
       " 4.25,\n",
       " 4.3,\n",
       " 4.37,\n",
       " 4.4,\n",
       " 4.45,\n",
       " 4.5,\n",
       " 4.65,\n",
       " 4.7,\n",
       " 4.8,\n",
       " 4.9,\n",
       " 5.0,\n",
       " 5.2,\n",
       " 5.3,\n",
       " 5.5,\n",
       " 5.6,\n",
       " 5.8,\n",
       " 6.0,\n",
       " 8.0,\n",
       " 8.3,\n",
       " 10.3,\n",
       " 14.0,\n",
       " 20.0,\n",
       " 22.6,\n",
       " 24.0,\n",
       " 25.0,\n",
       " 26.0,\n",
       " 27.0,\n",
       " 27.5,\n",
       " 32.0,\n",
       " 100.0]"
      ]
     },
     "execution_count": 128,
     "metadata": {},
     "output_type": "execute_result"
    }
   ],
   "source": [
    "# Сортирую список уникальных значений столбца 'ceiling_height', чтобы было проще обнаружить аномальные значения.\n",
    "sorted(df['ceiling_height'].unique())"
   ]
  },
  {
   "cell_type": "markdown",
   "metadata": {},
   "source": [
    "Среди значений есть необычно большие значения (например: 27.5). \\\n",
    "Предположим, что эти начения ошибочные. Они могли появиться в результате того, что пользователь поместил запятую не в том месте. \\\n",
    "Чтобы исправить эти значения, разделим из на 10, таким образом мы сдвиним запятую и получим высоту потолка, которая лучше вписывается в наши данные. Но, не во всех случаях, например, есть значение 100, поделив его на 10, мы все равно получим аномальное значение. Поэтому, я предлагаю удалить строки с этими значениями. \\\n",
    "Посмотрим, сколько таких данных в датасете и сколько процентов они составляют."
   ]
  },
  {
   "cell_type": "code",
   "execution_count": 129,
   "metadata": {},
   "outputs": [
    {
     "name": "stdout",
     "output_type": "stream",
     "text": [
      "58\n",
      "0.002452431289640592\n"
     ]
    }
   ],
   "source": [
    "print(len(df[(df['ceiling_height'] < 2.3) | (df['ceiling_height'] > 4.5)]))\n",
    "\n",
    "print(len(df[(df['ceiling_height'] < 2.3) | (df['ceiling_height'] > 4.5)]) / len(df))"
   ]
  },
  {
   "cell_type": "markdown",
   "metadata": {},
   "source": [
    "Мы видим, что очень маленьое количество строк содержат аномальные данные. \\\n",
    "Предлагаю просто избавиться от этих строк, вместо того, чтобы менять их"
   ]
  },
  {
   "cell_type": "code",
   "execution_count": 130,
   "metadata": {},
   "outputs": [],
   "source": [
    "df = df.drop(df[(df.ceiling_height < 2.3) | (df.ceiling_height > 4.5)].index)"
   ]
  },
  {
   "cell_type": "code",
   "execution_count": 131,
   "metadata": {},
   "outputs": [
    {
     "data": {
      "text/plain": [
       "0"
      ]
     },
     "execution_count": 131,
     "metadata": {},
     "output_type": "execute_result"
    }
   ],
   "source": [
    "#проверим удаление\n",
    "\n",
    "len(df[(df['ceiling_height'] < 2.3) | (df['ceiling_height'] > 4.5)])"
   ]
  },
  {
   "cell_type": "code",
   "execution_count": 132,
   "metadata": {},
   "outputs": [
    {
     "data": {
      "text/plain": [
       "[0, 1, 2, 3, 4, 5, 6, 7, 8, 9, 10, 11, 12, 14, 15, 16, 19]"
      ]
     },
     "execution_count": 132,
     "metadata": {},
     "output_type": "execute_result"
    }
   ],
   "source": [
    "# Проверим значения в стобце 'rooms'\n",
    "\n",
    "sorted(df['rooms'].unique())"
   ]
  },
  {
   "cell_type": "markdown",
   "metadata": {},
   "source": [
    "Здесь явно есть аномальные значения, например 0. \\\n",
    "Посмотрим, сколько таких значений содержится в датасете."
   ]
  },
  {
   "cell_type": "code",
   "execution_count": 133,
   "metadata": {},
   "outputs": [
    {
     "name": "stdout",
     "output_type": "stream",
     "text": [
      "195\n",
      "0.008265513733468972\n"
     ]
    }
   ],
   "source": [
    "print(len(df[(df['rooms'] == 0)]))\n",
    "print(len(df[(df['rooms'] == 0)]) / len(df))"
   ]
  },
  {
   "cell_type": "markdown",
   "metadata": {},
   "source": [
    "Ситуация аналагичная с аномалиями в 'ceiling_height'. \\\n",
    "Просто удалим строки с этими значениями."
   ]
  },
  {
   "cell_type": "code",
   "execution_count": 134,
   "metadata": {},
   "outputs": [],
   "source": [
    "df = df.drop(df[(df.rooms == 0)].index)"
   ]
  },
  {
   "cell_type": "markdown",
   "metadata": {},
   "source": [
    "Проверим столбец 'floors_total'"
   ]
  },
  {
   "cell_type": "code",
   "execution_count": 135,
   "metadata": {},
   "outputs": [
    {
     "data": {
      "text/plain": [
       "<AxesSubplot:>"
      ]
     },
     "execution_count": 135,
     "metadata": {},
     "output_type": "execute_result"
    },
    {
     "data": {
      "image/png": "[encoded data removed]",
      "text/plain": [
       "<Figure size 432x288 with 1 Axes>"
      ]
     },
     "metadata": {
      "needs_background": "light"
     },
     "output_type": "display_data"
    }
   ],
   "source": [
    "df['floors_total'].plot.box()"
   ]
  },
  {
   "cell_type": "code",
   "execution_count": 136,
   "metadata": {},
   "outputs": [
    {
     "data": {
      "text/plain": [
       "[1,\n",
       " 2,\n",
       " 3,\n",
       " 4,\n",
       " 5,\n",
       " 6,\n",
       " 7,\n",
       " 8,\n",
       " 9,\n",
       " 10,\n",
       " 11,\n",
       " 12,\n",
       " 13,\n",
       " 14,\n",
       " 15,\n",
       " 16,\n",
       " 17,\n",
       " 18,\n",
       " 19,\n",
       " 20,\n",
       " 21,\n",
       " 22,\n",
       " 23,\n",
       " 24,\n",
       " 25,\n",
       " 26,\n",
       " 27,\n",
       " 28,\n",
       " 29,\n",
       " 33,\n",
       " 34,\n",
       " 35,\n",
       " 36,\n",
       " 52,\n",
       " 60]"
      ]
     },
     "execution_count": 136,
     "metadata": {},
     "output_type": "execute_result"
    }
   ],
   "source": [
    "sorted(df['floors_total'].unique())"
   ]
  },
  {
   "cell_type": "markdown",
   "metadata": {},
   "source": [
    "Есть несколько аномально больших значений.\n",
    "На данный момент, самое высокое жилое здание в СПб - [ЖК «Князь Александр Невский»](https://ru.wikipedia.org/wiki/%D0%A1%D0%BF%D0%B8%D1%81%D0%BE%D0%BA_%D1%81%D0%B0%D0%BC%D1%8B%D1%85_%D0%B2%D1%8B%D1%81%D0%BE%D0%BA%D0%B8%D1%85_%D0%B7%D0%B4%D0%B0%D0%BD%D0%B8%D0%B9_%D0%A1%D0%B0%D0%BD%D0%BA%D1%82-%D0%9F%D0%B5%D1%82%D0%B5%D1%80%D0%B1%D1%83%D1%80%D0%B3%D0%B0) \\\n",
    "В нем 37 этажей. \\\n",
    "Можем предположить, что все значения, которые больше 37 - это аномалии. \\\n",
    "Посмотрим, сколько таких значений в датасете."
   ]
  },
  {
   "cell_type": "code",
   "execution_count": 137,
   "metadata": {},
   "outputs": [
    {
     "name": "stdout",
     "output_type": "stream",
     "text": [
      "2\n"
     ]
    }
   ],
   "source": [
    "print(len(df[(df['floors_total'] > 37)]))"
   ]
  },
  {
   "cell_type": "markdown",
   "metadata": {},
   "source": [
    "Всего две строки содержат аномальные значеним. Удалим эти строки."
   ]
  },
  {
   "cell_type": "code",
   "execution_count": 138,
   "metadata": {},
   "outputs": [],
   "source": [
    "df = df.drop(df[(df.floors_total > 37)].index)"
   ]
  },
  {
   "cell_type": "markdown",
   "metadata": {},
   "source": [
    "**Вывод**\n",
    "\n",
    "Изучив повторы и аномальные данные, я могу сделать вывод, что большенство этих ошибок могут быть связаны с некорректным заполнением со стороны пользователей.\n",
    "Например, пользователь мог ошибиться в этажности дома, не указать число комнат, что привело к 0 комнат в квартире или перепутать запятую при заполнении высоты потолка.\n",
    "Возможно, стоит переработать способ заполнения данных о квартире, например, прадлагать выбирать кол-во комнат из меню или выбирать высоту потолка ползунком."
   ]
  },
  {
   "cell_type": "markdown",
   "metadata": {},
   "source": [
    "### Посчитайте и добавьте в таблицу новые столбцы"
   ]
  },
  {
   "cell_type": "markdown",
   "metadata": {},
   "source": [
    "Посчитаем и добавим в таблицу следующие столбцы:\n",
    "\n",
    "- цена одного квадратного метра\n",
    "- день публикации объявления (0 - понедельник, 1 - вторник и т.д.)\n",
    "- месяц публикации объявления\n",
    "- год публикации объявления\n",
    "- тип этажа квартиры (значения — «первый», «последний», «другой»)\n",
    "- расстояние в км до центра города"
   ]
  },
  {
   "cell_type": "code",
   "execution_count": 139,
   "metadata": {},
   "outputs": [],
   "source": [
    "# цена одного квадратного метра\n",
    "df['sqr_meter_price'] = df['last_price'] / df['total_area'] "
   ]
  },
  {
   "cell_type": "code",
   "execution_count": 140,
   "metadata": {},
   "outputs": [
    {
     "data": {
      "text/html": [
       "<div>\n",
       "<style scoped>\n",
       "    .dataframe tbody tr th:only-of-type {\n",
       "        vertical-align: middle;\n",
       "    }\n",
       "\n",
       "    .dataframe tbody tr th {\n",
       "        vertical-align: top;\n",
       "    }\n",
       "\n",
       "    .dataframe thead th {\n",
       "        text-align: right;\n",
       "    }\n",
       "</style>\n",
       "<table border=\"1\" class=\"dataframe\">\n",
       "  <thead>\n",
       "    <tr style=\"text-align: right;\">\n",
       "      <th></th>\n",
       "      <th>total_images</th>\n",
       "      <th>last_price</th>\n",
       "      <th>total_area</th>\n",
       "      <th>first_day_exposition</th>\n",
       "      <th>rooms</th>\n",
       "      <th>ceiling_height</th>\n",
       "      <th>floors_total</th>\n",
       "      <th>living_area</th>\n",
       "      <th>floor</th>\n",
       "      <th>is_apartment</th>\n",
       "      <th>studio</th>\n",
       "      <th>open_plan</th>\n",
       "      <th>kitchen_area</th>\n",
       "      <th>balcony</th>\n",
       "      <th>locality_name</th>\n",
       "      <th>airports_nearest</th>\n",
       "      <th>cityCenters_nearest</th>\n",
       "      <th>parks_around3000</th>\n",
       "      <th>parks_nearest</th>\n",
       "      <th>ponds_around3000</th>\n",
       "      <th>ponds_nearest</th>\n",
       "      <th>days_exposition</th>\n",
       "      <th>sqr_meter_price</th>\n",
       "      <th>day_of_week</th>\n",
       "    </tr>\n",
       "  </thead>\n",
       "  <tbody>\n",
       "    <tr>\n",
       "      <th>0</th>\n",
       "      <td>20</td>\n",
       "      <td>13000000.000</td>\n",
       "      <td>108.000</td>\n",
       "      <td>2019-03-07</td>\n",
       "      <td>3</td>\n",
       "      <td>2.700</td>\n",
       "      <td>16</td>\n",
       "      <td>51.000</td>\n",
       "      <td>8</td>\n",
       "      <td>True</td>\n",
       "      <td>False</td>\n",
       "      <td>False</td>\n",
       "      <td>25.000</td>\n",
       "      <td>0</td>\n",
       "      <td>Санкт-Петербург</td>\n",
       "      <td>18863.000</td>\n",
       "      <td>16028.000</td>\n",
       "      <td>1</td>\n",
       "      <td>482</td>\n",
       "      <td>2</td>\n",
       "      <td>755</td>\n",
       "      <td>0</td>\n",
       "      <td>120370.370</td>\n",
       "      <td>3</td>\n",
       "    </tr>\n",
       "    <tr>\n",
       "      <th>1</th>\n",
       "      <td>7</td>\n",
       "      <td>3350000.000</td>\n",
       "      <td>40.400</td>\n",
       "      <td>2018-12-04</td>\n",
       "      <td>1</td>\n",
       "      <td>2.650</td>\n",
       "      <td>11</td>\n",
       "      <td>18.600</td>\n",
       "      <td>1</td>\n",
       "      <td>True</td>\n",
       "      <td>False</td>\n",
       "      <td>False</td>\n",
       "      <td>11.000</td>\n",
       "      <td>2</td>\n",
       "      <td>поселок Шушары</td>\n",
       "      <td>12817.000</td>\n",
       "      <td>18603.000</td>\n",
       "      <td>0</td>\n",
       "      <td>0</td>\n",
       "      <td>0</td>\n",
       "      <td>0</td>\n",
       "      <td>81</td>\n",
       "      <td>82920.792</td>\n",
       "      <td>1</td>\n",
       "    </tr>\n",
       "    <tr>\n",
       "      <th>2</th>\n",
       "      <td>10</td>\n",
       "      <td>5196000.000</td>\n",
       "      <td>56.000</td>\n",
       "      <td>2015-08-20</td>\n",
       "      <td>2</td>\n",
       "      <td>2.650</td>\n",
       "      <td>5</td>\n",
       "      <td>34.300</td>\n",
       "      <td>4</td>\n",
       "      <td>True</td>\n",
       "      <td>False</td>\n",
       "      <td>False</td>\n",
       "      <td>8.300</td>\n",
       "      <td>0</td>\n",
       "      <td>Санкт-Петербург</td>\n",
       "      <td>21741.000</td>\n",
       "      <td>13933.000</td>\n",
       "      <td>1</td>\n",
       "      <td>90</td>\n",
       "      <td>2</td>\n",
       "      <td>574</td>\n",
       "      <td>558</td>\n",
       "      <td>92785.714</td>\n",
       "      <td>3</td>\n",
       "    </tr>\n",
       "    <tr>\n",
       "      <th>3</th>\n",
       "      <td>0</td>\n",
       "      <td>64900000.000</td>\n",
       "      <td>159.000</td>\n",
       "      <td>2015-07-24</td>\n",
       "      <td>3</td>\n",
       "      <td>2.650</td>\n",
       "      <td>14</td>\n",
       "      <td>45.000</td>\n",
       "      <td>9</td>\n",
       "      <td>True</td>\n",
       "      <td>False</td>\n",
       "      <td>False</td>\n",
       "      <td>10.570</td>\n",
       "      <td>0</td>\n",
       "      <td>Санкт-Петербург</td>\n",
       "      <td>28098.000</td>\n",
       "      <td>6800.000</td>\n",
       "      <td>2</td>\n",
       "      <td>84</td>\n",
       "      <td>3</td>\n",
       "      <td>234</td>\n",
       "      <td>424</td>\n",
       "      <td>408176.101</td>\n",
       "      <td>4</td>\n",
       "    </tr>\n",
       "    <tr>\n",
       "      <th>4</th>\n",
       "      <td>2</td>\n",
       "      <td>10000000.000</td>\n",
       "      <td>100.000</td>\n",
       "      <td>2018-06-19</td>\n",
       "      <td>2</td>\n",
       "      <td>3.030</td>\n",
       "      <td>14</td>\n",
       "      <td>32.000</td>\n",
       "      <td>13</td>\n",
       "      <td>True</td>\n",
       "      <td>False</td>\n",
       "      <td>False</td>\n",
       "      <td>41.000</td>\n",
       "      <td>0</td>\n",
       "      <td>Санкт-Петербург</td>\n",
       "      <td>31856.000</td>\n",
       "      <td>8098.000</td>\n",
       "      <td>2</td>\n",
       "      <td>112</td>\n",
       "      <td>1</td>\n",
       "      <td>48</td>\n",
       "      <td>121</td>\n",
       "      <td>100000.000</td>\n",
       "      <td>1</td>\n",
       "    </tr>\n",
       "    <tr>\n",
       "      <th>...</th>\n",
       "      <td>...</td>\n",
       "      <td>...</td>\n",
       "      <td>...</td>\n",
       "      <td>...</td>\n",
       "      <td>...</td>\n",
       "      <td>...</td>\n",
       "      <td>...</td>\n",
       "      <td>...</td>\n",
       "      <td>...</td>\n",
       "      <td>...</td>\n",
       "      <td>...</td>\n",
       "      <td>...</td>\n",
       "      <td>...</td>\n",
       "      <td>...</td>\n",
       "      <td>...</td>\n",
       "      <td>...</td>\n",
       "      <td>...</td>\n",
       "      <td>...</td>\n",
       "      <td>...</td>\n",
       "      <td>...</td>\n",
       "      <td>...</td>\n",
       "      <td>...</td>\n",
       "      <td>...</td>\n",
       "      <td>...</td>\n",
       "    </tr>\n",
       "    <tr>\n",
       "      <th>23694</th>\n",
       "      <td>9</td>\n",
       "      <td>9700000.000</td>\n",
       "      <td>133.810</td>\n",
       "      <td>2017-03-21</td>\n",
       "      <td>3</td>\n",
       "      <td>3.700</td>\n",
       "      <td>5</td>\n",
       "      <td>73.300</td>\n",
       "      <td>3</td>\n",
       "      <td>True</td>\n",
       "      <td>False</td>\n",
       "      <td>False</td>\n",
       "      <td>13.830</td>\n",
       "      <td>0</td>\n",
       "      <td>Санкт-Петербург</td>\n",
       "      <td>24665.000</td>\n",
       "      <td>4232.000</td>\n",
       "      <td>1</td>\n",
       "      <td>796</td>\n",
       "      <td>3</td>\n",
       "      <td>381</td>\n",
       "      <td>0</td>\n",
       "      <td>72490.845</td>\n",
       "      <td>1</td>\n",
       "    </tr>\n",
       "    <tr>\n",
       "      <th>23695</th>\n",
       "      <td>14</td>\n",
       "      <td>3100000.000</td>\n",
       "      <td>59.000</td>\n",
       "      <td>2018-01-15</td>\n",
       "      <td>3</td>\n",
       "      <td>2.650</td>\n",
       "      <td>5</td>\n",
       "      <td>38.000</td>\n",
       "      <td>4</td>\n",
       "      <td>True</td>\n",
       "      <td>False</td>\n",
       "      <td>False</td>\n",
       "      <td>8.500</td>\n",
       "      <td>0</td>\n",
       "      <td>Тосно</td>\n",
       "      <td>NaN</td>\n",
       "      <td>NaN</td>\n",
       "      <td>0</td>\n",
       "      <td>0</td>\n",
       "      <td>0</td>\n",
       "      <td>0</td>\n",
       "      <td>45</td>\n",
       "      <td>52542.373</td>\n",
       "      <td>0</td>\n",
       "    </tr>\n",
       "    <tr>\n",
       "      <th>23696</th>\n",
       "      <td>18</td>\n",
       "      <td>2500000.000</td>\n",
       "      <td>56.700</td>\n",
       "      <td>2018-02-11</td>\n",
       "      <td>2</td>\n",
       "      <td>2.650</td>\n",
       "      <td>3</td>\n",
       "      <td>29.700</td>\n",
       "      <td>1</td>\n",
       "      <td>True</td>\n",
       "      <td>False</td>\n",
       "      <td>False</td>\n",
       "      <td>10.570</td>\n",
       "      <td>0</td>\n",
       "      <td>село Рождествено</td>\n",
       "      <td>NaN</td>\n",
       "      <td>NaN</td>\n",
       "      <td>0</td>\n",
       "      <td>0</td>\n",
       "      <td>0</td>\n",
       "      <td>0</td>\n",
       "      <td>0</td>\n",
       "      <td>44091.711</td>\n",
       "      <td>6</td>\n",
       "    </tr>\n",
       "    <tr>\n",
       "      <th>23697</th>\n",
       "      <td>13</td>\n",
       "      <td>11475000.000</td>\n",
       "      <td>76.750</td>\n",
       "      <td>2017-03-28</td>\n",
       "      <td>2</td>\n",
       "      <td>3.000</td>\n",
       "      <td>17</td>\n",
       "      <td>30.500</td>\n",
       "      <td>12</td>\n",
       "      <td>True</td>\n",
       "      <td>False</td>\n",
       "      <td>False</td>\n",
       "      <td>23.300</td>\n",
       "      <td>2</td>\n",
       "      <td>Санкт-Петербург</td>\n",
       "      <td>39140.000</td>\n",
       "      <td>10364.000</td>\n",
       "      <td>2</td>\n",
       "      <td>173</td>\n",
       "      <td>3</td>\n",
       "      <td>196</td>\n",
       "      <td>602</td>\n",
       "      <td>149511.401</td>\n",
       "      <td>1</td>\n",
       "    </tr>\n",
       "    <tr>\n",
       "      <th>23698</th>\n",
       "      <td>4</td>\n",
       "      <td>1350000.000</td>\n",
       "      <td>32.300</td>\n",
       "      <td>2017-07-21</td>\n",
       "      <td>1</td>\n",
       "      <td>2.500</td>\n",
       "      <td>5</td>\n",
       "      <td>12.300</td>\n",
       "      <td>1</td>\n",
       "      <td>True</td>\n",
       "      <td>False</td>\n",
       "      <td>False</td>\n",
       "      <td>9.000</td>\n",
       "      <td>0</td>\n",
       "      <td>поселок Новый Учхоз</td>\n",
       "      <td>NaN</td>\n",
       "      <td>NaN</td>\n",
       "      <td>0</td>\n",
       "      <td>0</td>\n",
       "      <td>0</td>\n",
       "      <td>0</td>\n",
       "      <td>0</td>\n",
       "      <td>41795.666</td>\n",
       "      <td>4</td>\n",
       "    </tr>\n",
       "  </tbody>\n",
       "</table>\n",
       "<p>23395 rows × 24 columns</p>\n",
       "</div>"
      ],
      "text/plain": [
       "       total_images   last_price  total_area first_day_exposition  rooms  ceiling_height  floors_total  living_area  floor  is_apartment  studio  open_plan  kitchen_area  balcony        locality_name  airports_nearest  cityCenters_nearest  parks_around3000  parks_nearest  ponds_around3000  ponds_nearest  days_exposition  sqr_meter_price  day_of_week\n",
       "0                20 13000000.000     108.000           2019-03-07      3           2.700            16       51.000      8          True   False      False        25.000        0      Санкт-Петербург         18863.000            16028.000                 1            482                 2            755                0       120370.370            3\n",
       "1                 7  3350000.000      40.400           2018-12-04      1           2.650            11       18.600      1          True   False      False        11.000        2       поселок Шушары         12817.000            18603.000                 0              0                 0              0               81        82920.792            1\n",
       "2                10  5196000.000      56.000           2015-08-20      2           2.650             5       34.300      4          True   False      False         8.300        0      Санкт-Петербург         21741.000            13933.000                 1             90                 2            574              558        92785.714            3\n",
       "3                 0 64900000.000     159.000           2015-07-24      3           2.650            14       45.000      9          True   False      False        10.570        0      Санкт-Петербург         28098.000             6800.000                 2             84                 3            234              424       408176.101            4\n",
       "4                 2 10000000.000     100.000           2018-06-19      2           3.030            14       32.000     13          True   False      False        41.000        0      Санкт-Петербург         31856.000             8098.000                 2            112                 1             48              121       100000.000            1\n",
       "...             ...          ...         ...                  ...    ...             ...           ...          ...    ...           ...     ...        ...           ...      ...                  ...               ...                  ...               ...            ...               ...            ...              ...              ...          ...\n",
       "23694             9  9700000.000     133.810           2017-03-21      3           3.700             5       73.300      3          True   False      False        13.830        0      Санкт-Петербург         24665.000             4232.000                 1            796                 3            381                0        72490.845            1\n",
       "23695            14  3100000.000      59.000           2018-01-15      3           2.650             5       38.000      4          True   False      False         8.500        0                Тосно               NaN                  NaN                 0              0                 0              0               45        52542.373            0\n",
       "23696            18  2500000.000      56.700           2018-02-11      2           2.650             3       29.700      1          True   False      False        10.570        0     село Рождествено               NaN                  NaN                 0              0                 0              0                0        44091.711            6\n",
       "23697            13 11475000.000      76.750           2017-03-28      2           3.000            17       30.500     12          True   False      False        23.300        2      Санкт-Петербург         39140.000            10364.000                 2            173                 3            196              602       149511.401            1\n",
       "23698             4  1350000.000      32.300           2017-07-21      1           2.500             5       12.300      1          True   False      False         9.000        0  поселок Новый Учхоз               NaN                  NaN                 0              0                 0              0                0        41795.666            4\n",
       "\n",
       "[23395 rows x 24 columns]"
      ]
     },
     "execution_count": 140,
     "metadata": {},
     "output_type": "execute_result"
    }
   ],
   "source": [
    "# день публикации объявления (0 - понедельник, 1 - вторник и т.д.)\n",
    "\n",
    "# достанем день публикации методом dt.day_name() и поменстим в новую колонку\n",
    "df['day_of_week'] = df['first_day_exposition'].dt.day_name()\n",
    "\n",
    "# теперь нам нужно заменить названия дней недели на цифры\n",
    "# Возьмем список дней недели, т.е. уникальных значений 'day_of_week'\n",
    "df['day_of_week'].unique()\n",
    "\n",
    "#Теперь создадим словарь, где каждому дню присвоем номер\n",
    "days_of_week_dict = {'Thursday':3, 'Tuesday':1, 'Friday':4, 'Monday':0, 'Wednesday':2, 'Sunday':6, 'Saturday':5}\n",
    "\n",
    "# Заменим дни недели используя словарь\n",
    "df.replace({'day_of_week': days_of_week_dict})"
   ]
  },
  {
   "cell_type": "code",
   "execution_count": 141,
   "metadata": {},
   "outputs": [],
   "source": [
    "# месяц публикации объявления\n",
    "df['month'] = df['first_day_exposition'].dt.month"
   ]
  },
  {
   "cell_type": "code",
   "execution_count": 142,
   "metadata": {},
   "outputs": [],
   "source": [
    "# год публикации объявления\n",
    "df['year'] = df['first_day_exposition'].dt.year"
   ]
  },
  {
   "cell_type": "code",
   "execution_count": 143,
   "metadata": {},
   "outputs": [],
   "source": [
    "# тип этажа квартиры (значения — «первый», «последний», «другой»)\n",
    "# создадим функцию для категоризации\n",
    "def floor_category(x):\n",
    "    try:\n",
    "        if x['floor'] == 1:\n",
    "            return 'первый'\n",
    "        elif x['floor'] == x['floors_total']:\n",
    "            return 'последний'\n",
    "        else:\n",
    "            return 'другой'\n",
    "    except:\n",
    "        return 'ошибка'\n",
    "\n",
    "df['floor_category'] = df.apply(floor_category, axis=1)"
   ]
  },
  {
   "cell_type": "code",
   "execution_count": 144,
   "metadata": {},
   "outputs": [
    {
     "data": {
      "text/html": [
       "<div>\n",
       "<style scoped>\n",
       "    .dataframe tbody tr th:only-of-type {\n",
       "        vertical-align: middle;\n",
       "    }\n",
       "\n",
       "    .dataframe tbody tr th {\n",
       "        vertical-align: top;\n",
       "    }\n",
       "\n",
       "    .dataframe thead th {\n",
       "        text-align: right;\n",
       "    }\n",
       "</style>\n",
       "<table border=\"1\" class=\"dataframe\">\n",
       "  <thead>\n",
       "    <tr style=\"text-align: right;\">\n",
       "      <th></th>\n",
       "      <th>total_images</th>\n",
       "      <th>last_price</th>\n",
       "      <th>total_area</th>\n",
       "      <th>first_day_exposition</th>\n",
       "      <th>rooms</th>\n",
       "      <th>ceiling_height</th>\n",
       "      <th>floors_total</th>\n",
       "      <th>living_area</th>\n",
       "      <th>floor</th>\n",
       "      <th>is_apartment</th>\n",
       "      <th>studio</th>\n",
       "      <th>open_plan</th>\n",
       "      <th>kitchen_area</th>\n",
       "      <th>balcony</th>\n",
       "      <th>locality_name</th>\n",
       "      <th>airports_nearest</th>\n",
       "      <th>cityCenters_nearest</th>\n",
       "      <th>parks_around3000</th>\n",
       "      <th>parks_nearest</th>\n",
       "      <th>ponds_around3000</th>\n",
       "      <th>ponds_nearest</th>\n",
       "      <th>days_exposition</th>\n",
       "      <th>sqr_meter_price</th>\n",
       "      <th>day_of_week</th>\n",
       "      <th>month</th>\n",
       "      <th>year</th>\n",
       "      <th>floor_category</th>\n",
       "    </tr>\n",
       "  </thead>\n",
       "  <tbody>\n",
       "    <tr>\n",
       "      <th>6193</th>\n",
       "      <td>19</td>\n",
       "      <td>24300000.000</td>\n",
       "      <td>230.000</td>\n",
       "      <td>2016-06-03</td>\n",
       "      <td>4</td>\n",
       "      <td>2.650</td>\n",
       "      <td>3</td>\n",
       "      <td>90.000</td>\n",
       "      <td>2</td>\n",
       "      <td>False</td>\n",
       "      <td>False</td>\n",
       "      <td>False</td>\n",
       "      <td>70.000</td>\n",
       "      <td>0</td>\n",
       "      <td>Санкт-Петербург</td>\n",
       "      <td>39422.000</td>\n",
       "      <td>15354.000</td>\n",
       "      <td>0</td>\n",
       "      <td>0</td>\n",
       "      <td>1</td>\n",
       "      <td>345</td>\n",
       "      <td>397</td>\n",
       "      <td>105652.174</td>\n",
       "      <td>Friday</td>\n",
       "      <td>6</td>\n",
       "      <td>2016</td>\n",
       "      <td>другой</td>\n",
       "    </tr>\n",
       "    <tr>\n",
       "      <th>15126</th>\n",
       "      <td>13</td>\n",
       "      <td>4585000.000</td>\n",
       "      <td>68.600</td>\n",
       "      <td>2018-03-01</td>\n",
       "      <td>2</td>\n",
       "      <td>2.500</td>\n",
       "      <td>10</td>\n",
       "      <td>39.100</td>\n",
       "      <td>10</td>\n",
       "      <td>True</td>\n",
       "      <td>False</td>\n",
       "      <td>False</td>\n",
       "      <td>13.200</td>\n",
       "      <td>0</td>\n",
       "      <td>деревня Новое Девяткино</td>\n",
       "      <td>NaN</td>\n",
       "      <td>NaN</td>\n",
       "      <td>0</td>\n",
       "      <td>0</td>\n",
       "      <td>0</td>\n",
       "      <td>0</td>\n",
       "      <td>60</td>\n",
       "      <td>66836.735</td>\n",
       "      <td>Thursday</td>\n",
       "      <td>3</td>\n",
       "      <td>2018</td>\n",
       "      <td>последний</td>\n",
       "    </tr>\n",
       "    <tr>\n",
       "      <th>6207</th>\n",
       "      <td>9</td>\n",
       "      <td>7300000.000</td>\n",
       "      <td>80.000</td>\n",
       "      <td>2017-07-05</td>\n",
       "      <td>3</td>\n",
       "      <td>3.000</td>\n",
       "      <td>4</td>\n",
       "      <td>47.000</td>\n",
       "      <td>3</td>\n",
       "      <td>True</td>\n",
       "      <td>False</td>\n",
       "      <td>False</td>\n",
       "      <td>8.500</td>\n",
       "      <td>0</td>\n",
       "      <td>Санкт-Петербург</td>\n",
       "      <td>22097.000</td>\n",
       "      <td>6370.000</td>\n",
       "      <td>1</td>\n",
       "      <td>437</td>\n",
       "      <td>2</td>\n",
       "      <td>675</td>\n",
       "      <td>19</td>\n",
       "      <td>91250.000</td>\n",
       "      <td>Wednesday</td>\n",
       "      <td>7</td>\n",
       "      <td>2017</td>\n",
       "      <td>другой</td>\n",
       "    </tr>\n",
       "    <tr>\n",
       "      <th>22034</th>\n",
       "      <td>7</td>\n",
       "      <td>3400000.000</td>\n",
       "      <td>28.000</td>\n",
       "      <td>2017-11-03</td>\n",
       "      <td>1</td>\n",
       "      <td>2.650</td>\n",
       "      <td>24</td>\n",
       "      <td>15.000</td>\n",
       "      <td>5</td>\n",
       "      <td>True</td>\n",
       "      <td>False</td>\n",
       "      <td>False</td>\n",
       "      <td>5.000</td>\n",
       "      <td>0</td>\n",
       "      <td>поселок Парголово</td>\n",
       "      <td>52480.000</td>\n",
       "      <td>18657.000</td>\n",
       "      <td>0</td>\n",
       "      <td>0</td>\n",
       "      <td>0</td>\n",
       "      <td>0</td>\n",
       "      <td>81</td>\n",
       "      <td>121428.571</td>\n",
       "      <td>Friday</td>\n",
       "      <td>11</td>\n",
       "      <td>2017</td>\n",
       "      <td>другой</td>\n",
       "    </tr>\n",
       "    <tr>\n",
       "      <th>10075</th>\n",
       "      <td>13</td>\n",
       "      <td>4200000.000</td>\n",
       "      <td>35.800</td>\n",
       "      <td>2017-10-30</td>\n",
       "      <td>1</td>\n",
       "      <td>2.650</td>\n",
       "      <td>14</td>\n",
       "      <td>17.800</td>\n",
       "      <td>2</td>\n",
       "      <td>True</td>\n",
       "      <td>False</td>\n",
       "      <td>False</td>\n",
       "      <td>8.100</td>\n",
       "      <td>0</td>\n",
       "      <td>Санкт-Петербург</td>\n",
       "      <td>37534.000</td>\n",
       "      <td>12606.000</td>\n",
       "      <td>0</td>\n",
       "      <td>0</td>\n",
       "      <td>0</td>\n",
       "      <td>0</td>\n",
       "      <td>24</td>\n",
       "      <td>117318.436</td>\n",
       "      <td>Monday</td>\n",
       "      <td>10</td>\n",
       "      <td>2017</td>\n",
       "      <td>другой</td>\n",
       "    </tr>\n",
       "    <tr>\n",
       "      <th>21761</th>\n",
       "      <td>14</td>\n",
       "      <td>6900000.000</td>\n",
       "      <td>59.700</td>\n",
       "      <td>2017-02-13</td>\n",
       "      <td>2</td>\n",
       "      <td>2.650</td>\n",
       "      <td>9</td>\n",
       "      <td>33.400</td>\n",
       "      <td>7</td>\n",
       "      <td>True</td>\n",
       "      <td>False</td>\n",
       "      <td>False</td>\n",
       "      <td>8.400</td>\n",
       "      <td>0</td>\n",
       "      <td>Санкт-Петербург</td>\n",
       "      <td>40476.000</td>\n",
       "      <td>12170.000</td>\n",
       "      <td>1</td>\n",
       "      <td>416</td>\n",
       "      <td>2</td>\n",
       "      <td>695</td>\n",
       "      <td>49</td>\n",
       "      <td>115577.889</td>\n",
       "      <td>Monday</td>\n",
       "      <td>2</td>\n",
       "      <td>2017</td>\n",
       "      <td>другой</td>\n",
       "    </tr>\n",
       "    <tr>\n",
       "      <th>12495</th>\n",
       "      <td>6</td>\n",
       "      <td>4440000.000</td>\n",
       "      <td>42.000</td>\n",
       "      <td>2016-11-19</td>\n",
       "      <td>2</td>\n",
       "      <td>2.650</td>\n",
       "      <td>5</td>\n",
       "      <td>24.000</td>\n",
       "      <td>2</td>\n",
       "      <td>True</td>\n",
       "      <td>False</td>\n",
       "      <td>False</td>\n",
       "      <td>7.000</td>\n",
       "      <td>1</td>\n",
       "      <td>Санкт-Петербург</td>\n",
       "      <td>28411.000</td>\n",
       "      <td>7350.000</td>\n",
       "      <td>1</td>\n",
       "      <td>223</td>\n",
       "      <td>2</td>\n",
       "      <td>457</td>\n",
       "      <td>376</td>\n",
       "      <td>105714.286</td>\n",
       "      <td>Saturday</td>\n",
       "      <td>11</td>\n",
       "      <td>2016</td>\n",
       "      <td>другой</td>\n",
       "    </tr>\n",
       "    <tr>\n",
       "      <th>5925</th>\n",
       "      <td>4</td>\n",
       "      <td>4190000.000</td>\n",
       "      <td>49.000</td>\n",
       "      <td>2017-08-28</td>\n",
       "      <td>4</td>\n",
       "      <td>2.600</td>\n",
       "      <td>5</td>\n",
       "      <td>37.100</td>\n",
       "      <td>2</td>\n",
       "      <td>True</td>\n",
       "      <td>False</td>\n",
       "      <td>False</td>\n",
       "      <td>5.300</td>\n",
       "      <td>0</td>\n",
       "      <td>Санкт-Петербург</td>\n",
       "      <td>21854.000</td>\n",
       "      <td>14516.000</td>\n",
       "      <td>0</td>\n",
       "      <td>0</td>\n",
       "      <td>1</td>\n",
       "      <td>241</td>\n",
       "      <td>0</td>\n",
       "      <td>85510.204</td>\n",
       "      <td>Monday</td>\n",
       "      <td>8</td>\n",
       "      <td>2017</td>\n",
       "      <td>другой</td>\n",
       "    </tr>\n",
       "    <tr>\n",
       "      <th>21376</th>\n",
       "      <td>11</td>\n",
       "      <td>2100000.000</td>\n",
       "      <td>59.000</td>\n",
       "      <td>2017-04-28</td>\n",
       "      <td>2</td>\n",
       "      <td>2.500</td>\n",
       "      <td>5</td>\n",
       "      <td>30.000</td>\n",
       "      <td>4</td>\n",
       "      <td>False</td>\n",
       "      <td>False</td>\n",
       "      <td>False</td>\n",
       "      <td>9.000</td>\n",
       "      <td>2</td>\n",
       "      <td>деревня Нурма</td>\n",
       "      <td>NaN</td>\n",
       "      <td>NaN</td>\n",
       "      <td>0</td>\n",
       "      <td>0</td>\n",
       "      <td>0</td>\n",
       "      <td>0</td>\n",
       "      <td>282</td>\n",
       "      <td>35593.220</td>\n",
       "      <td>Friday</td>\n",
       "      <td>4</td>\n",
       "      <td>2017</td>\n",
       "      <td>другой</td>\n",
       "    </tr>\n",
       "    <tr>\n",
       "      <th>13918</th>\n",
       "      <td>13</td>\n",
       "      <td>2130000.000</td>\n",
       "      <td>36.000</td>\n",
       "      <td>2017-11-27</td>\n",
       "      <td>1</td>\n",
       "      <td>3.200</td>\n",
       "      <td>3</td>\n",
       "      <td>18.000</td>\n",
       "      <td>3</td>\n",
       "      <td>True</td>\n",
       "      <td>False</td>\n",
       "      <td>False</td>\n",
       "      <td>10.570</td>\n",
       "      <td>0</td>\n",
       "      <td>поселок Понтонный</td>\n",
       "      <td>30087.000</td>\n",
       "      <td>31799.000</td>\n",
       "      <td>0</td>\n",
       "      <td>0</td>\n",
       "      <td>0</td>\n",
       "      <td>0</td>\n",
       "      <td>131</td>\n",
       "      <td>59166.667</td>\n",
       "      <td>Monday</td>\n",
       "      <td>11</td>\n",
       "      <td>2017</td>\n",
       "      <td>последний</td>\n",
       "    </tr>\n",
       "  </tbody>\n",
       "</table>\n",
       "</div>"
      ],
      "text/plain": [
       "       total_images   last_price  total_area first_day_exposition  rooms  ceiling_height  floors_total  living_area  floor  is_apartment  studio  open_plan  kitchen_area  balcony            locality_name  airports_nearest  cityCenters_nearest  parks_around3000  parks_nearest  ponds_around3000  ponds_nearest  days_exposition  sqr_meter_price day_of_week  month  year floor_category\n",
       "6193             19 24300000.000     230.000           2016-06-03      4           2.650             3       90.000      2         False   False      False        70.000        0          Санкт-Петербург         39422.000            15354.000                 0              0                 1            345              397       105652.174      Friday      6  2016         другой\n",
       "15126            13  4585000.000      68.600           2018-03-01      2           2.500            10       39.100     10          True   False      False        13.200        0  деревня Новое Девяткино               NaN                  NaN                 0              0                 0              0               60        66836.735    Thursday      3  2018      последний\n",
       "6207              9  7300000.000      80.000           2017-07-05      3           3.000             4       47.000      3          True   False      False         8.500        0          Санкт-Петербург         22097.000             6370.000                 1            437                 2            675               19        91250.000   Wednesday      7  2017         другой\n",
       "22034             7  3400000.000      28.000           2017-11-03      1           2.650            24       15.000      5          True   False      False         5.000        0        поселок Парголово         52480.000            18657.000                 0              0                 0              0               81       121428.571      Friday     11  2017         другой\n",
       "10075            13  4200000.000      35.800           2017-10-30      1           2.650            14       17.800      2          True   False      False         8.100        0          Санкт-Петербург         37534.000            12606.000                 0              0                 0              0               24       117318.436      Monday     10  2017         другой\n",
       "21761            14  6900000.000      59.700           2017-02-13      2           2.650             9       33.400      7          True   False      False         8.400        0          Санкт-Петербург         40476.000            12170.000                 1            416                 2            695               49       115577.889      Monday      2  2017         другой\n",
       "12495             6  4440000.000      42.000           2016-11-19      2           2.650             5       24.000      2          True   False      False         7.000        1          Санкт-Петербург         28411.000             7350.000                 1            223                 2            457              376       105714.286    Saturday     11  2016         другой\n",
       "5925              4  4190000.000      49.000           2017-08-28      4           2.600             5       37.100      2          True   False      False         5.300        0          Санкт-Петербург         21854.000            14516.000                 0              0                 1            241                0        85510.204      Monday      8  2017         другой\n",
       "21376            11  2100000.000      59.000           2017-04-28      2           2.500             5       30.000      4         False   False      False         9.000        2            деревня Нурма               NaN                  NaN                 0              0                 0              0              282        35593.220      Friday      4  2017         другой\n",
       "13918            13  2130000.000      36.000           2017-11-27      1           3.200             3       18.000      3          True   False      False        10.570        0        поселок Понтонный         30087.000            31799.000                 0              0                 0              0              131        59166.667      Monday     11  2017      последний"
      ]
     },
     "execution_count": 144,
     "metadata": {},
     "output_type": "execute_result"
    }
   ],
   "source": [
    "df.sample(10)"
   ]
  },
  {
   "cell_type": "code",
   "execution_count": 145,
   "metadata": {},
   "outputs": [],
   "source": [
    "# расстояние в км до центра города\n",
    "# добавим эти данные новый столбец\n",
    "df['cityCenters_nearest_km'] = df['cityCenters_nearest']/1000\n"
   ]
  },
  {
   "cell_type": "code",
   "execution_count": 196,
   "metadata": {},
   "outputs": [],
   "source": [
    "df['cityCenters_nearest_km'] = df['cityCenters_nearest_km'].round(decimals=0)"
   ]
  },
  {
   "cell_type": "code",
   "execution_count": 197,
   "metadata": {},
   "outputs": [
    {
     "data": {
      "text/html": [
       "<div>\n",
       "<style scoped>\n",
       "    .dataframe tbody tr th:only-of-type {\n",
       "        vertical-align: middle;\n",
       "    }\n",
       "\n",
       "    .dataframe tbody tr th {\n",
       "        vertical-align: top;\n",
       "    }\n",
       "\n",
       "    .dataframe thead th {\n",
       "        text-align: right;\n",
       "    }\n",
       "</style>\n",
       "<table border=\"1\" class=\"dataframe\">\n",
       "  <thead>\n",
       "    <tr style=\"text-align: right;\">\n",
       "      <th></th>\n",
       "      <th>total_images</th>\n",
       "      <th>last_price</th>\n",
       "      <th>total_area</th>\n",
       "      <th>first_day_exposition</th>\n",
       "      <th>rooms</th>\n",
       "      <th>ceiling_height</th>\n",
       "      <th>floors_total</th>\n",
       "      <th>living_area</th>\n",
       "      <th>floor</th>\n",
       "      <th>is_apartment</th>\n",
       "      <th>studio</th>\n",
       "      <th>open_plan</th>\n",
       "      <th>kitchen_area</th>\n",
       "      <th>balcony</th>\n",
       "      <th>locality_name</th>\n",
       "      <th>airports_nearest</th>\n",
       "      <th>cityCenters_nearest</th>\n",
       "      <th>parks_around3000</th>\n",
       "      <th>parks_nearest</th>\n",
       "      <th>ponds_around3000</th>\n",
       "      <th>ponds_nearest</th>\n",
       "      <th>days_exposition</th>\n",
       "      <th>sqr_meter_price</th>\n",
       "      <th>day_of_week</th>\n",
       "      <th>month</th>\n",
       "      <th>year</th>\n",
       "      <th>floor_category</th>\n",
       "      <th>cityCenters_nearest_km</th>\n",
       "      <th>last_price_thousand</th>\n",
       "    </tr>\n",
       "  </thead>\n",
       "  <tbody>\n",
       "    <tr>\n",
       "      <th>0</th>\n",
       "      <td>20</td>\n",
       "      <td>13000000.000</td>\n",
       "      <td>108.000</td>\n",
       "      <td>2019-03-07</td>\n",
       "      <td>3</td>\n",
       "      <td>2.700</td>\n",
       "      <td>16</td>\n",
       "      <td>51.000</td>\n",
       "      <td>8</td>\n",
       "      <td>True</td>\n",
       "      <td>False</td>\n",
       "      <td>False</td>\n",
       "      <td>25.000</td>\n",
       "      <td>0</td>\n",
       "      <td>Санкт-Петербург</td>\n",
       "      <td>18863.000</td>\n",
       "      <td>16028.000</td>\n",
       "      <td>1</td>\n",
       "      <td>482</td>\n",
       "      <td>2</td>\n",
       "      <td>755</td>\n",
       "      <td>0</td>\n",
       "      <td>120370.370</td>\n",
       "      <td>Thursday</td>\n",
       "      <td>3</td>\n",
       "      <td>2019</td>\n",
       "      <td>другой</td>\n",
       "      <td>16.000</td>\n",
       "      <td>13000.000</td>\n",
       "    </tr>\n",
       "    <tr>\n",
       "      <th>1</th>\n",
       "      <td>7</td>\n",
       "      <td>3350000.000</td>\n",
       "      <td>40.400</td>\n",
       "      <td>2018-12-04</td>\n",
       "      <td>1</td>\n",
       "      <td>2.650</td>\n",
       "      <td>11</td>\n",
       "      <td>18.600</td>\n",
       "      <td>1</td>\n",
       "      <td>True</td>\n",
       "      <td>False</td>\n",
       "      <td>False</td>\n",
       "      <td>11.000</td>\n",
       "      <td>2</td>\n",
       "      <td>поселок Шушары</td>\n",
       "      <td>12817.000</td>\n",
       "      <td>18603.000</td>\n",
       "      <td>0</td>\n",
       "      <td>0</td>\n",
       "      <td>0</td>\n",
       "      <td>0</td>\n",
       "      <td>81</td>\n",
       "      <td>82920.792</td>\n",
       "      <td>Tuesday</td>\n",
       "      <td>12</td>\n",
       "      <td>2018</td>\n",
       "      <td>первый</td>\n",
       "      <td>19.000</td>\n",
       "      <td>3350.000</td>\n",
       "    </tr>\n",
       "    <tr>\n",
       "      <th>2</th>\n",
       "      <td>10</td>\n",
       "      <td>5196000.000</td>\n",
       "      <td>56.000</td>\n",
       "      <td>2015-08-20</td>\n",
       "      <td>2</td>\n",
       "      <td>2.650</td>\n",
       "      <td>5</td>\n",
       "      <td>34.300</td>\n",
       "      <td>4</td>\n",
       "      <td>True</td>\n",
       "      <td>False</td>\n",
       "      <td>False</td>\n",
       "      <td>8.300</td>\n",
       "      <td>0</td>\n",
       "      <td>Санкт-Петербург</td>\n",
       "      <td>21741.000</td>\n",
       "      <td>13933.000</td>\n",
       "      <td>1</td>\n",
       "      <td>90</td>\n",
       "      <td>2</td>\n",
       "      <td>574</td>\n",
       "      <td>558</td>\n",
       "      <td>92785.714</td>\n",
       "      <td>Thursday</td>\n",
       "      <td>8</td>\n",
       "      <td>2015</td>\n",
       "      <td>другой</td>\n",
       "      <td>14.000</td>\n",
       "      <td>5196.000</td>\n",
       "    </tr>\n",
       "    <tr>\n",
       "      <th>3</th>\n",
       "      <td>0</td>\n",
       "      <td>64900000.000</td>\n",
       "      <td>159.000</td>\n",
       "      <td>2015-07-24</td>\n",
       "      <td>3</td>\n",
       "      <td>2.650</td>\n",
       "      <td>14</td>\n",
       "      <td>45.000</td>\n",
       "      <td>9</td>\n",
       "      <td>True</td>\n",
       "      <td>False</td>\n",
       "      <td>False</td>\n",
       "      <td>10.570</td>\n",
       "      <td>0</td>\n",
       "      <td>Санкт-Петербург</td>\n",
       "      <td>28098.000</td>\n",
       "      <td>6800.000</td>\n",
       "      <td>2</td>\n",
       "      <td>84</td>\n",
       "      <td>3</td>\n",
       "      <td>234</td>\n",
       "      <td>424</td>\n",
       "      <td>408176.101</td>\n",
       "      <td>Friday</td>\n",
       "      <td>7</td>\n",
       "      <td>2015</td>\n",
       "      <td>другой</td>\n",
       "      <td>7.000</td>\n",
       "      <td>64900.000</td>\n",
       "    </tr>\n",
       "    <tr>\n",
       "      <th>4</th>\n",
       "      <td>2</td>\n",
       "      <td>10000000.000</td>\n",
       "      <td>100.000</td>\n",
       "      <td>2018-06-19</td>\n",
       "      <td>2</td>\n",
       "      <td>3.030</td>\n",
       "      <td>14</td>\n",
       "      <td>32.000</td>\n",
       "      <td>13</td>\n",
       "      <td>True</td>\n",
       "      <td>False</td>\n",
       "      <td>False</td>\n",
       "      <td>41.000</td>\n",
       "      <td>0</td>\n",
       "      <td>Санкт-Петербург</td>\n",
       "      <td>31856.000</td>\n",
       "      <td>8098.000</td>\n",
       "      <td>2</td>\n",
       "      <td>112</td>\n",
       "      <td>1</td>\n",
       "      <td>48</td>\n",
       "      <td>121</td>\n",
       "      <td>100000.000</td>\n",
       "      <td>Tuesday</td>\n",
       "      <td>6</td>\n",
       "      <td>2018</td>\n",
       "      <td>другой</td>\n",
       "      <td>8.000</td>\n",
       "      <td>10000.000</td>\n",
       "    </tr>\n",
       "    <tr>\n",
       "      <th>...</th>\n",
       "      <td>...</td>\n",
       "      <td>...</td>\n",
       "      <td>...</td>\n",
       "      <td>...</td>\n",
       "      <td>...</td>\n",
       "      <td>...</td>\n",
       "      <td>...</td>\n",
       "      <td>...</td>\n",
       "      <td>...</td>\n",
       "      <td>...</td>\n",
       "      <td>...</td>\n",
       "      <td>...</td>\n",
       "      <td>...</td>\n",
       "      <td>...</td>\n",
       "      <td>...</td>\n",
       "      <td>...</td>\n",
       "      <td>...</td>\n",
       "      <td>...</td>\n",
       "      <td>...</td>\n",
       "      <td>...</td>\n",
       "      <td>...</td>\n",
       "      <td>...</td>\n",
       "      <td>...</td>\n",
       "      <td>...</td>\n",
       "      <td>...</td>\n",
       "      <td>...</td>\n",
       "      <td>...</td>\n",
       "      <td>...</td>\n",
       "      <td>...</td>\n",
       "    </tr>\n",
       "    <tr>\n",
       "      <th>23694</th>\n",
       "      <td>9</td>\n",
       "      <td>9700000.000</td>\n",
       "      <td>133.810</td>\n",
       "      <td>2017-03-21</td>\n",
       "      <td>3</td>\n",
       "      <td>3.700</td>\n",
       "      <td>5</td>\n",
       "      <td>73.300</td>\n",
       "      <td>3</td>\n",
       "      <td>True</td>\n",
       "      <td>False</td>\n",
       "      <td>False</td>\n",
       "      <td>13.830</td>\n",
       "      <td>0</td>\n",
       "      <td>Санкт-Петербург</td>\n",
       "      <td>24665.000</td>\n",
       "      <td>4232.000</td>\n",
       "      <td>1</td>\n",
       "      <td>796</td>\n",
       "      <td>3</td>\n",
       "      <td>381</td>\n",
       "      <td>0</td>\n",
       "      <td>72490.845</td>\n",
       "      <td>Tuesday</td>\n",
       "      <td>3</td>\n",
       "      <td>2017</td>\n",
       "      <td>другой</td>\n",
       "      <td>4.000</td>\n",
       "      <td>9700.000</td>\n",
       "    </tr>\n",
       "    <tr>\n",
       "      <th>23695</th>\n",
       "      <td>14</td>\n",
       "      <td>3100000.000</td>\n",
       "      <td>59.000</td>\n",
       "      <td>2018-01-15</td>\n",
       "      <td>3</td>\n",
       "      <td>2.650</td>\n",
       "      <td>5</td>\n",
       "      <td>38.000</td>\n",
       "      <td>4</td>\n",
       "      <td>True</td>\n",
       "      <td>False</td>\n",
       "      <td>False</td>\n",
       "      <td>8.500</td>\n",
       "      <td>0</td>\n",
       "      <td>Тосно</td>\n",
       "      <td>NaN</td>\n",
       "      <td>NaN</td>\n",
       "      <td>0</td>\n",
       "      <td>0</td>\n",
       "      <td>0</td>\n",
       "      <td>0</td>\n",
       "      <td>45</td>\n",
       "      <td>52542.373</td>\n",
       "      <td>Monday</td>\n",
       "      <td>1</td>\n",
       "      <td>2018</td>\n",
       "      <td>другой</td>\n",
       "      <td>NaN</td>\n",
       "      <td>3100.000</td>\n",
       "    </tr>\n",
       "    <tr>\n",
       "      <th>23696</th>\n",
       "      <td>18</td>\n",
       "      <td>2500000.000</td>\n",
       "      <td>56.700</td>\n",
       "      <td>2018-02-11</td>\n",
       "      <td>2</td>\n",
       "      <td>2.650</td>\n",
       "      <td>3</td>\n",
       "      <td>29.700</td>\n",
       "      <td>1</td>\n",
       "      <td>True</td>\n",
       "      <td>False</td>\n",
       "      <td>False</td>\n",
       "      <td>10.570</td>\n",
       "      <td>0</td>\n",
       "      <td>село Рождествено</td>\n",
       "      <td>NaN</td>\n",
       "      <td>NaN</td>\n",
       "      <td>0</td>\n",
       "      <td>0</td>\n",
       "      <td>0</td>\n",
       "      <td>0</td>\n",
       "      <td>0</td>\n",
       "      <td>44091.711</td>\n",
       "      <td>Sunday</td>\n",
       "      <td>2</td>\n",
       "      <td>2018</td>\n",
       "      <td>первый</td>\n",
       "      <td>NaN</td>\n",
       "      <td>2500.000</td>\n",
       "    </tr>\n",
       "    <tr>\n",
       "      <th>23697</th>\n",
       "      <td>13</td>\n",
       "      <td>11475000.000</td>\n",
       "      <td>76.750</td>\n",
       "      <td>2017-03-28</td>\n",
       "      <td>2</td>\n",
       "      <td>3.000</td>\n",
       "      <td>17</td>\n",
       "      <td>30.500</td>\n",
       "      <td>12</td>\n",
       "      <td>True</td>\n",
       "      <td>False</td>\n",
       "      <td>False</td>\n",
       "      <td>23.300</td>\n",
       "      <td>2</td>\n",
       "      <td>Санкт-Петербург</td>\n",
       "      <td>39140.000</td>\n",
       "      <td>10364.000</td>\n",
       "      <td>2</td>\n",
       "      <td>173</td>\n",
       "      <td>3</td>\n",
       "      <td>196</td>\n",
       "      <td>602</td>\n",
       "      <td>149511.401</td>\n",
       "      <td>Tuesday</td>\n",
       "      <td>3</td>\n",
       "      <td>2017</td>\n",
       "      <td>другой</td>\n",
       "      <td>10.000</td>\n",
       "      <td>11475.000</td>\n",
       "    </tr>\n",
       "    <tr>\n",
       "      <th>23698</th>\n",
       "      <td>4</td>\n",
       "      <td>1350000.000</td>\n",
       "      <td>32.300</td>\n",
       "      <td>2017-07-21</td>\n",
       "      <td>1</td>\n",
       "      <td>2.500</td>\n",
       "      <td>5</td>\n",
       "      <td>12.300</td>\n",
       "      <td>1</td>\n",
       "      <td>True</td>\n",
       "      <td>False</td>\n",
       "      <td>False</td>\n",
       "      <td>9.000</td>\n",
       "      <td>0</td>\n",
       "      <td>поселок Новый Учхоз</td>\n",
       "      <td>NaN</td>\n",
       "      <td>NaN</td>\n",
       "      <td>0</td>\n",
       "      <td>0</td>\n",
       "      <td>0</td>\n",
       "      <td>0</td>\n",
       "      <td>0</td>\n",
       "      <td>41795.666</td>\n",
       "      <td>Friday</td>\n",
       "      <td>7</td>\n",
       "      <td>2017</td>\n",
       "      <td>первый</td>\n",
       "      <td>NaN</td>\n",
       "      <td>1350.000</td>\n",
       "    </tr>\n",
       "  </tbody>\n",
       "</table>\n",
       "<p>23395 rows × 29 columns</p>\n",
       "</div>"
      ],
      "text/plain": [
       "       total_images   last_price  total_area first_day_exposition  rooms  ceiling_height  floors_total  living_area  floor  is_apartment  studio  open_plan  kitchen_area  balcony        locality_name  airports_nearest  cityCenters_nearest  parks_around3000  parks_nearest  ponds_around3000  ponds_nearest  days_exposition  sqr_meter_price day_of_week  month  year floor_category  cityCenters_nearest_km  last_price_thousand\n",
       "0                20 13000000.000     108.000           2019-03-07      3           2.700            16       51.000      8          True   False      False        25.000        0      Санкт-Петербург         18863.000            16028.000                 1            482                 2            755                0       120370.370    Thursday      3  2019         другой                  16.000            13000.000\n",
       "1                 7  3350000.000      40.400           2018-12-04      1           2.650            11       18.600      1          True   False      False        11.000        2       поселок Шушары         12817.000            18603.000                 0              0                 0              0               81        82920.792     Tuesday     12  2018         первый                  19.000             3350.000\n",
       "2                10  5196000.000      56.000           2015-08-20      2           2.650             5       34.300      4          True   False      False         8.300        0      Санкт-Петербург         21741.000            13933.000                 1             90                 2            574              558        92785.714    Thursday      8  2015         другой                  14.000             5196.000\n",
       "3                 0 64900000.000     159.000           2015-07-24      3           2.650            14       45.000      9          True   False      False        10.570        0      Санкт-Петербург         28098.000             6800.000                 2             84                 3            234              424       408176.101      Friday      7  2015         другой                   7.000            64900.000\n",
       "4                 2 10000000.000     100.000           2018-06-19      2           3.030            14       32.000     13          True   False      False        41.000        0      Санкт-Петербург         31856.000             8098.000                 2            112                 1             48              121       100000.000     Tuesday      6  2018         другой                   8.000            10000.000\n",
       "...             ...          ...         ...                  ...    ...             ...           ...          ...    ...           ...     ...        ...           ...      ...                  ...               ...                  ...               ...            ...               ...            ...              ...              ...         ...    ...   ...            ...                     ...                  ...\n",
       "23694             9  9700000.000     133.810           2017-03-21      3           3.700             5       73.300      3          True   False      False        13.830        0      Санкт-Петербург         24665.000             4232.000                 1            796                 3            381                0        72490.845     Tuesday      3  2017         другой                   4.000             9700.000\n",
       "23695            14  3100000.000      59.000           2018-01-15      3           2.650             5       38.000      4          True   False      False         8.500        0                Тосно               NaN                  NaN                 0              0                 0              0               45        52542.373      Monday      1  2018         другой                     NaN             3100.000\n",
       "23696            18  2500000.000      56.700           2018-02-11      2           2.650             3       29.700      1          True   False      False        10.570        0     село Рождествено               NaN                  NaN                 0              0                 0              0                0        44091.711      Sunday      2  2018         первый                     NaN             2500.000\n",
       "23697            13 11475000.000      76.750           2017-03-28      2           3.000            17       30.500     12          True   False      False        23.300        2      Санкт-Петербург         39140.000            10364.000                 2            173                 3            196              602       149511.401     Tuesday      3  2017         другой                  10.000            11475.000\n",
       "23698             4  1350000.000      32.300           2017-07-21      1           2.500             5       12.300      1          True   False      False         9.000        0  поселок Новый Учхоз               NaN                  NaN                 0              0                 0              0                0        41795.666      Friday      7  2017         первый                     NaN             1350.000\n",
       "\n",
       "[23395 rows x 29 columns]"
      ]
     },
     "execution_count": 197,
     "metadata": {},
     "output_type": "execute_result"
    }
   ],
   "source": [
    "df"
   ]
  },
  {
   "cell_type": "markdown",
   "metadata": {},
   "source": [
    "Чтобы сделать гистограммы с ценам более наглядными, добавим столбец, last_price / 1000 \\\n",
    "Назовем его last_price_thousand"
   ]
  },
  {
   "cell_type": "code",
   "execution_count": 147,
   "metadata": {},
   "outputs": [],
   "source": [
    "df['last_price_thousand'] = df['last_price'] / 1000"
   ]
  },
  {
   "cell_type": "markdown",
   "metadata": {},
   "source": [
    "### Проведите исследовательский анализ данных"
   ]
  },
  {
   "cell_type": "markdown",
   "metadata": {},
   "source": [
    "#### Изучение и описание параметров"
   ]
  },
  {
   "cell_type": "markdown",
   "metadata": {},
   "source": [
    "Изучим и опишем следующие значения:\n",
    "- общая площадь;\n",
    "- жилая площадь;\n",
    "- площадь кухни;\n",
    "- цена объекта;\n",
    "- количество комнат;\n",
    "- высота потолков;\n",
    "- этаж квартиры;\n",
    "- тип этажа квартиры («первый», «последний», «другой»);\n",
    "- общее количество этажей в доме;\n",
    "- расстояние до центра города в метрах;\n",
    "- расстояние до ближайшего аэропорта;\n",
    "- расстояние до ближайшего парка;\n",
    "- день и месяц публикации объявления\n",
    "\n",
    "Для этого построим гистограмму для каждого параметра."
   ]
  },
  {
   "cell_type": "markdown",
   "metadata": {},
   "source": [
    "##### Описание параметра общая площадь ('total_area')"
   ]
  },
  {
   "cell_type": "code",
   "execution_count": 148,
   "metadata": {},
   "outputs": [
    {
     "data": {
      "image/png": "[encoded data removed]",
      "text/plain": [
       "<Figure size 432x288 with 1 Axes>"
      ]
     },
     "metadata": {
      "needs_background": "light"
     },
     "output_type": "display_data"
    }
   ],
   "source": [
    "df['total_area'].hist(bins = 15)\n",
    "plt.show()"
   ]
  },
  {
   "cell_type": "markdown",
   "metadata": {},
   "source": [
    "Из-за разброса данных по оси X, гистограмма плохо читается. Попробуем ограничить ее по оси X."
   ]
  },
  {
   "cell_type": "code",
   "execution_count": 149,
   "metadata": {},
   "outputs": [
    {
     "data": {
      "image/png": "[encoded data removed]",
      "text/plain": [
       "<Figure size 432x288 with 1 Axes>"
      ]
     },
     "metadata": {
      "needs_background": "light"
     },
     "output_type": "display_data"
    }
   ],
   "source": [
    "df['total_area'].plot.hist(xlim=[0,200], bins=15, grid=True)\n",
    "plt.show()"
   ]
  },
  {
   "cell_type": "markdown",
   "metadata": {},
   "source": [
    "Большенство объявлений в датасете - это квартиры площадью менее 75 метров. далее мы наблюдаем резкий спад и видим квартиры в диапазоне от 75 до 125 метров. Квартиры площадью более 125 метров встречаются крайне редко."
   ]
  },
  {
   "cell_type": "code",
   "execution_count": 150,
   "metadata": {},
   "outputs": [
    {
     "data": {
      "text/plain": [
       "count   23395.000\n",
       "mean       60.532\n",
       "std        35.340\n",
       "min        12.000\n",
       "25%        40.155\n",
       "50%        52.000\n",
       "75%        70.000\n",
       "max       900.000\n",
       "Name: total_area, dtype: float64"
      ]
     },
     "execution_count": 150,
     "metadata": {},
     "output_type": "execute_result"
    }
   ],
   "source": [
    "df['total_area'].describe()"
   ]
  },
  {
   "cell_type": "markdown",
   "metadata": {},
   "source": [
    "##### Описание параметра жилая площадь ('living_area')"
   ]
  },
  {
   "cell_type": "code",
   "execution_count": 151,
   "metadata": {},
   "outputs": [
    {
     "data": {
      "image/png": "[encoded data removed]",
      "text/plain": [
       "<Figure size 432x288 with 1 Axes>"
      ]
     },
     "metadata": {
      "needs_background": "light"
     },
     "output_type": "display_data"
    }
   ],
   "source": [
    "df['living_area'].hist(bins = 15)\n",
    "plt.show()"
   ]
  },
  {
   "cell_type": "code",
   "execution_count": 152,
   "metadata": {},
   "outputs": [
    {
     "data": {
      "text/plain": [
       "count   23395.000\n",
       "mean       34.408\n",
       "std        21.580\n",
       "min         2.000\n",
       "25%        18.500\n",
       "50%        30.500\n",
       "75%        42.800\n",
       "max       409.700\n",
       "Name: living_area, dtype: float64"
      ]
     },
     "execution_count": 152,
     "metadata": {},
     "output_type": "execute_result"
    }
   ],
   "source": [
    "df['living_area'].describe()"
   ]
  },
  {
   "cell_type": "markdown",
   "metadata": {},
   "source": [
    "##### Описание параметра площадь кухни ('kitchen_area')"
   ]
  },
  {
   "cell_type": "code",
   "execution_count": 153,
   "metadata": {},
   "outputs": [
    {
     "data": {
      "image/png": "[encoded data removed]",
      "text/plain": [
       "<Figure size 432x288 with 1 Axes>"
      ]
     },
     "metadata": {
      "needs_background": "light"
     },
     "output_type": "display_data"
    }
   ],
   "source": [
    "df['kitchen_area'].hist(bins = 15)\n",
    "plt.show()"
   ]
  },
  {
   "cell_type": "code",
   "execution_count": 154,
   "metadata": {},
   "outputs": [
    {
     "data": {
      "text/plain": [
       "count   23395.000\n",
       "mean       10.562\n",
       "std         5.619\n",
       "min         1.300\n",
       "25%         7.300\n",
       "50%        10.000\n",
       "75%        11.500\n",
       "max       112.000\n",
       "Name: kitchen_area, dtype: float64"
      ]
     },
     "execution_count": 154,
     "metadata": {},
     "output_type": "execute_result"
    }
   ],
   "source": [
    "df['kitchen_area'].describe()"
   ]
  },
  {
   "cell_type": "code",
   "execution_count": null,
   "metadata": {},
   "outputs": [],
   "source": []
  },
  {
   "cell_type": "markdown",
   "metadata": {},
   "source": [
    "##### Описание параметра цена объекта ('last_price')"
   ]
  },
  {
   "cell_type": "code",
   "execution_count": 155,
   "metadata": {},
   "outputs": [
    {
     "data": {
      "image/png": "[encoded data removed]",
      "text/plain": [
       "<Figure size 432x288 with 1 Axes>"
      ]
     },
     "metadata": {
      "needs_background": "light"
     },
     "output_type": "display_data"
    }
   ],
   "source": [
    "df['last_price'].hist(bins = 15)\n",
    "plt.show()"
   ]
  },
  {
   "cell_type": "code",
   "execution_count": 156,
   "metadata": {},
   "outputs": [
    {
     "data": {
      "text/plain": [
       "count       23395.000\n",
       "mean      6541958.217\n",
       "std      10794882.814\n",
       "min         12190.000\n",
       "25%       3450000.000\n",
       "50%       4650000.000\n",
       "75%       6800000.000\n",
       "max     763000000.000\n",
       "Name: last_price, dtype: float64"
      ]
     },
     "execution_count": 156,
     "metadata": {},
     "output_type": "execute_result"
    }
   ],
   "source": [
    "df['last_price'].describe()"
   ]
  },
  {
   "cell_type": "markdown",
   "metadata": {},
   "source": [
    "##### Описание параметра количество комнат ('rooms')"
   ]
  },
  {
   "cell_type": "code",
   "execution_count": 157,
   "metadata": {},
   "outputs": [
    {
     "data": {
      "image/png": "[encoded data removed]",
      "text/plain": [
       "<Figure size 432x288 with 1 Axes>"
      ]
     },
     "metadata": {
      "needs_background": "light"
     },
     "output_type": "display_data"
    }
   ],
   "source": [
    "df['rooms'].hist(bins = 15)\n",
    "plt.show()"
   ]
  },
  {
   "cell_type": "markdown",
   "metadata": {},
   "source": [
    "Ограничим диапазон значений в гистограмме, чтобы сделать ее более наглядной."
   ]
  },
  {
   "cell_type": "code",
   "execution_count": 158,
   "metadata": {},
   "outputs": [
    {
     "data": {
      "image/png": "[encoded data removed]",
      "text/plain": [
       "<Figure size 432x288 with 1 Axes>"
      ]
     },
     "metadata": {
      "needs_background": "light"
     },
     "output_type": "display_data"
    }
   ],
   "source": [
    "df['rooms'].plot.hist(xlim=[0,7], bins=15, grid=True)\n",
    "plt.show()"
   ]
  },
  {
   "cell_type": "code",
   "execution_count": 159,
   "metadata": {},
   "outputs": [
    {
     "data": {
      "text/plain": [
       "count   23395.000\n",
       "mean        2.087\n",
       "std         1.065\n",
       "min         1.000\n",
       "25%         1.000\n",
       "50%         2.000\n",
       "75%         3.000\n",
       "max        19.000\n",
       "Name: rooms, dtype: float64"
      ]
     },
     "execution_count": 159,
     "metadata": {},
     "output_type": "execute_result"
    }
   ],
   "source": [
    "df['rooms'].describe()"
   ]
  },
  {
   "cell_type": "markdown",
   "metadata": {},
   "source": [
    "Большенство квартир в датасете - однакомнатные.\n",
    "Медианное число комнат - 2 \\\n",
    "Квартиры с числом комнат больше 3 встречаются намного реже остальных."
   ]
  },
  {
   "cell_type": "markdown",
   "metadata": {},
   "source": [
    "##### Описание параметра высота потолков ('ceiling_height')"
   ]
  },
  {
   "cell_type": "code",
   "execution_count": 160,
   "metadata": {},
   "outputs": [
    {
     "data": {
      "image/png": "[encoded data removed]",
      "text/plain": [
       "<Figure size 432x288 with 1 Axes>"
      ]
     },
     "metadata": {
      "needs_background": "light"
     },
     "output_type": "display_data"
    }
   ],
   "source": [
    "df['ceiling_height'].hist(bins = 15)\n",
    "plt.show()"
   ]
  },
  {
   "cell_type": "code",
   "execution_count": 161,
   "metadata": {},
   "outputs": [
    {
     "data": {
      "text/plain": [
       "count   23395.000\n",
       "mean        2.696\n",
       "std         0.213\n",
       "min         2.300\n",
       "25%         2.600\n",
       "50%         2.650\n",
       "75%         2.700\n",
       "max         4.500\n",
       "Name: ceiling_height, dtype: float64"
      ]
     },
     "execution_count": 161,
     "metadata": {},
     "output_type": "execute_result"
    }
   ],
   "source": [
    "df['ceiling_height'].describe()"
   ]
  },
  {
   "cell_type": "markdown",
   "metadata": {},
   "source": [
    "Средняя и медианная высота потолка практически одинаковые - это примерно 2.7 метра \\\n",
    "Квартиры сболее высокими или низкими потолками встречаются значительно реже."
   ]
  },
  {
   "cell_type": "markdown",
   "metadata": {},
   "source": [
    "##### Описание параметра этаж квартиры ('floor')"
   ]
  },
  {
   "cell_type": "code",
   "execution_count": 162,
   "metadata": {},
   "outputs": [
    {
     "data": {
      "image/png": "[encoded data removed]",
      "text/plain": [
       "<Figure size 432x288 with 1 Axes>"
      ]
     },
     "metadata": {
      "needs_background": "light"
     },
     "output_type": "display_data"
    }
   ],
   "source": [
    "df['floor'].hist(bins = 15)\n",
    "plt.show()"
   ]
  },
  {
   "cell_type": "code",
   "execution_count": 163,
   "metadata": {
    "scrolled": true
   },
   "outputs": [
    {
     "data": {
      "text/plain": [
       "count   23395.000\n",
       "mean        5.871\n",
       "std         4.863\n",
       "min         1.000\n",
       "25%         2.000\n",
       "50%         4.000\n",
       "75%         8.000\n",
       "max        33.000\n",
       "Name: floor, dtype: float64"
      ]
     },
     "execution_count": 163,
     "metadata": {},
     "output_type": "execute_result"
    }
   ],
   "source": [
    "df['floor'].describe()"
   ]
  },
  {
   "cell_type": "markdown",
   "metadata": {},
   "source": [
    "Здесь мы видим, что болешнство квартир распологается на первых пяти этажах. \\\n",
    "Далее наблюдается резкий спад."
   ]
  },
  {
   "cell_type": "markdown",
   "metadata": {},
   "source": [
    "##### Описание параметра тип этажа квартиры («первый», «последний», «другой») ('floor_category')"
   ]
  },
  {
   "cell_type": "code",
   "execution_count": 164,
   "metadata": {},
   "outputs": [
    {
     "data": {
      "image/png": "[encoded data removed]",
      "text/plain": [
       "<Figure size 432x288 with 1 Axes>"
      ]
     },
     "metadata": {
      "needs_background": "light"
     },
     "output_type": "display_data"
    }
   ],
   "source": [
    "df['floor_category'].hist(bins = 10)\n",
    "plt.show()"
   ]
  },
  {
   "cell_type": "code",
   "execution_count": 165,
   "metadata": {},
   "outputs": [
    {
     "data": {
      "text/plain": [
       "count   23395.000\n",
       "mean        5.871\n",
       "std         4.863\n",
       "min         1.000\n",
       "25%         2.000\n",
       "50%         4.000\n",
       "75%         8.000\n",
       "max        33.000\n",
       "Name: floor, dtype: float64"
      ]
     },
     "execution_count": 165,
     "metadata": {},
     "output_type": "execute_result"
    }
   ],
   "source": [
    "df['floor'].describe()"
   ]
  },
  {
   "cell_type": "markdown",
   "metadata": {},
   "source": [
    "Большенство объявлений - это квартиры не на первых и последних этажах. Первые этажи встречеются немного реже последних. Можно предположить, что это связано с тем, что во многих относительно новых домах на первых этажах часто распологается коммерция."
   ]
  },
  {
   "cell_type": "markdown",
   "metadata": {},
   "source": [
    "##### Описание параметра общее количество этажей в доме ('floors_total')"
   ]
  },
  {
   "cell_type": "code",
   "execution_count": 166,
   "metadata": {},
   "outputs": [
    {
     "data": {
      "image/png": "[encoded data removed]",
      "text/plain": [
       "<Figure size 432x288 with 1 Axes>"
      ]
     },
     "metadata": {
      "needs_background": "light"
     },
     "output_type": "display_data"
    }
   ],
   "source": [
    "df['floors_total'].hist(bins = 10)\n",
    "plt.show()"
   ]
  },
  {
   "cell_type": "code",
   "execution_count": 167,
   "metadata": {},
   "outputs": [
    {
     "data": {
      "text/plain": [
       "count   23395.000\n",
       "mean       10.623\n",
       "std         6.550\n",
       "min         1.000\n",
       "25%         5.000\n",
       "50%         9.000\n",
       "75%        16.000\n",
       "max        36.000\n",
       "Name: floors_total, dtype: float64"
      ]
     },
     "execution_count": 167,
     "metadata": {},
     "output_type": "execute_result"
    }
   ],
   "source": [
    "df['floors_total'].describe()"
   ]
  },
  {
   "cell_type": "markdown",
   "metadata": {},
   "source": [
    "Судя по гистограмме, большенство объявлений - это квартиры в 5 - 10 этажных домах. Дома ниже 5 этажей и ниже 15 встречаются примерно одинаково часто."
   ]
  },
  {
   "cell_type": "markdown",
   "metadata": {},
   "source": [
    "##### Описание параметра расстояние до центра города в метрах ('cityCenters_nearest')"
   ]
  },
  {
   "cell_type": "code",
   "execution_count": 168,
   "metadata": {},
   "outputs": [
    {
     "data": {
      "image/png": "[encoded data removed]",
      "text/plain": [
       "<Figure size 432x288 with 1 Axes>"
      ]
     },
     "metadata": {
      "needs_background": "light"
     },
     "output_type": "display_data"
    }
   ],
   "source": [
    "df['cityCenters_nearest'].hist(bins = 15)\n",
    "plt.show()"
   ]
  },
  {
   "cell_type": "code",
   "execution_count": 169,
   "metadata": {},
   "outputs": [
    {
     "data": {
      "text/plain": [
       "count   17984.000\n",
       "mean    14206.276\n",
       "std      8619.851\n",
       "min       181.000\n",
       "25%      9241.000\n",
       "50%     13104.500\n",
       "75%     16293.000\n",
       "max     65968.000\n",
       "Name: cityCenters_nearest, dtype: float64"
      ]
     },
     "execution_count": 169,
     "metadata": {},
     "output_type": "execute_result"
    }
   ],
   "source": [
    "df['cityCenters_nearest'].describe()"
   ]
  },
  {
   "cell_type": "markdown",
   "metadata": {},
   "source": [
    "Большенство квартир расположены на расстоянии до 2000 метров до центра. Квартиры дальше чем 3500 метров от центра встречаются крайне редко."
   ]
  },
  {
   "cell_type": "markdown",
   "metadata": {},
   "source": [
    "##### Описание параметра расстояние до ближайшего аэропорта ('airports_nearest')"
   ]
  },
  {
   "cell_type": "code",
   "execution_count": 170,
   "metadata": {},
   "outputs": [
    {
     "data": {
      "image/png": "[encoded data removed]",
      "text/plain": [
       "<Figure size 432x288 with 1 Axes>"
      ]
     },
     "metadata": {
      "needs_background": "light"
     },
     "output_type": "display_data"
    }
   ],
   "source": [
    "df['airports_nearest'].hist(bins = 15)\n",
    "plt.show()"
   ]
  },
  {
   "cell_type": "code",
   "execution_count": 171,
   "metadata": {},
   "outputs": [
    {
     "data": {
      "text/plain": [
       "count   17962.000\n",
       "mean    28832.372\n",
       "std     12634.513\n",
       "min         0.000\n",
       "25%     18585.000\n",
       "50%     26772.000\n",
       "75%     37319.750\n",
       "max     84869.000\n",
       "Name: airports_nearest, dtype: float64"
      ]
     },
     "execution_count": 171,
     "metadata": {},
     "output_type": "execute_result"
    }
   ],
   "source": [
    "df['airports_nearest'].describe()"
   ]
  },
  {
   "cell_type": "markdown",
   "metadata": {},
   "source": [
    "##### Описание параметра расстояние до ближайшего парка ('parks_nearest')"
   ]
  },
  {
   "cell_type": "code",
   "execution_count": 172,
   "metadata": {},
   "outputs": [
    {
     "data": {
      "image/png": "[encoded data removed]",
      "text/plain": [
       "<Figure size 432x288 with 1 Axes>"
      ]
     },
     "metadata": {
      "needs_background": "light"
     },
     "output_type": "display_data"
    }
   ],
   "source": [
    "df['parks_nearest'].hist(bins = 15)\n",
    "plt.show()"
   ]
  },
  {
   "cell_type": "code",
   "execution_count": 173,
   "metadata": {},
   "outputs": [
    {
     "data": {
      "image/png": "[encoded data removed]",
      "text/plain": [
       "<Figure size 432x288 with 1 Axes>"
      ]
     },
     "metadata": {
      "needs_background": "light"
     },
     "output_type": "display_data"
    }
   ],
   "source": [
    "df['parks_nearest'][df['parks_nearest'] < 1500].hist(bins = 15)\n",
    "plt.show()"
   ]
  },
  {
   "cell_type": "code",
   "execution_count": 174,
   "metadata": {},
   "outputs": [
    {
     "data": {
      "text/plain": [
       "count   23395.000\n",
       "mean      167.931\n",
       "std       307.266\n",
       "min         0.000\n",
       "25%         0.000\n",
       "50%         0.000\n",
       "75%       303.000\n",
       "max      3190.000\n",
       "Name: parks_nearest, dtype: float64"
      ]
     },
     "execution_count": 174,
     "metadata": {},
     "output_type": "execute_result"
    }
   ],
   "source": [
    "df['parks_nearest'].describe()"
   ]
  },
  {
   "cell_type": "markdown",
   "metadata": {},
   "source": [
    "##### Описание параметра день и месяц публикации объявления"
   ]
  },
  {
   "cell_type": "code",
   "execution_count": 175,
   "metadata": {},
   "outputs": [],
   "source": [
    "#df.hist('day_of_week')"
   ]
  },
  {
   "cell_type": "code",
   "execution_count": 176,
   "metadata": {},
   "outputs": [
    {
     "data": {
      "image/png": "[encoded data removed]",
      "text/plain": [
       "<Figure size 720x360 with 2 Axes>"
      ]
     },
     "metadata": {
      "needs_background": "light"
     },
     "output_type": "display_data"
    }
   ],
   "source": [
    "df.hist(column=['day_of_week', 'month', 'year'], bins = 12, figsize=(10, 5))\n",
    "plt.show()"
   ]
  },
  {
   "cell_type": "code",
   "execution_count": 177,
   "metadata": {},
   "outputs": [
    {
     "data": {
      "text/plain": [
       "count        23395\n",
       "unique           7\n",
       "top       Thursday\n",
       "freq          4233\n",
       "Name: day_of_week, dtype: object"
      ]
     },
     "execution_count": 177,
     "metadata": {},
     "output_type": "execute_result"
    }
   ],
   "source": [
    "df['day_of_week'].describe()"
   ]
  },
  {
   "cell_type": "code",
   "execution_count": 178,
   "metadata": {},
   "outputs": [
    {
     "data": {
      "text/plain": [
       "count   23395.000\n",
       "mean        6.396\n",
       "std         3.491\n",
       "min         1.000\n",
       "25%         3.000\n",
       "50%         6.000\n",
       "75%        10.000\n",
       "max        12.000\n",
       "Name: month, dtype: float64"
      ]
     },
     "execution_count": 178,
     "metadata": {},
     "output_type": "execute_result"
    }
   ],
   "source": [
    "df['month'].describe()"
   ]
  },
  {
   "cell_type": "code",
   "execution_count": 179,
   "metadata": {},
   "outputs": [
    {
     "data": {
      "text/plain": [
       "count   23395.000\n",
       "mean     2017.369\n",
       "std         1.040\n",
       "min      2014.000\n",
       "25%      2017.000\n",
       "50%      2017.000\n",
       "75%      2018.000\n",
       "max      2019.000\n",
       "Name: year, dtype: float64"
      ]
     },
     "execution_count": 179,
     "metadata": {},
     "output_type": "execute_result"
    }
   ],
   "source": [
    "df['year'].describe()"
   ]
  },
  {
   "cell_type": "markdown",
   "metadata": {},
   "source": [
    "#### Задание 1"
   ]
  },
  {
   "cell_type": "markdown",
   "metadata": {},
   "source": [
    "Изучите, как быстро продавались квартиры (столбец days_exposition). Этот параметр показывает, сколько дней «висело» каждое объявление.\n",
    "- Постройте гистограмму.\n",
    "- Посчитайте среднее и медиану.\n",
    "- В ячейке типа markdown опишите, сколько обычно занимает продажа. Какие продажи можно считать быстрыми, а какие — необычно долгими?\""
   ]
  },
  {
   "cell_type": "code",
   "execution_count": 180,
   "metadata": {},
   "outputs": [
    {
     "data": {
      "image/png": "[encoded data removed]",
      "text/plain": [
       "<Figure size 432x288 with 1 Axes>"
      ]
     },
     "metadata": {
      "needs_background": "light"
     },
     "output_type": "display_data"
    }
   ],
   "source": [
    "df['days_exposition'].hist(bins=15)\n",
    "plt.show()"
   ]
  },
  {
   "cell_type": "markdown",
   "metadata": {},
   "source": [
    "Скорректируем диопазон значений по оси X, чтобы сделать гистограмму более наглядной и читаемой."
   ]
  },
  {
   "cell_type": "code",
   "execution_count": 181,
   "metadata": {},
   "outputs": [
    {
     "data": {
      "image/png": "[encoded data removed]",
      "text/plain": [
       "<Figure size 432x288 with 1 Axes>"
      ]
     },
     "metadata": {
      "needs_background": "light"
     },
     "output_type": "display_data"
    }
   ],
   "source": [
    "df['days_exposition'].plot.hist(xlim=[0,100], bins=200, grid=True)\n",
    "plt.show()"
   ]
  },
  {
   "cell_type": "markdown",
   "metadata": {},
   "source": [
    "Гистограмма 2"
   ]
  },
  {
   "cell_type": "code",
   "execution_count": 182,
   "metadata": {},
   "outputs": [
    {
     "data": {
      "text/plain": [
       "count   23395.000\n",
       "mean      156.975\n",
       "std       214.021\n",
       "min         0.000\n",
       "25%        22.000\n",
       "50%        74.000\n",
       "75%       199.000\n",
       "max      1580.000\n",
       "Name: days_exposition, dtype: float64"
      ]
     },
     "execution_count": 182,
     "metadata": {},
     "output_type": "execute_result"
    }
   ],
   "source": [
    "df['days_exposition'].describe()"
   ]
  },
  {
   "cell_type": "markdown",
   "metadata": {},
   "source": [
    "Средняя длительность размещения объвления - 157 дней \\\n",
    "Медианная длительность размещения - 74 дня\n",
    "\n",
    "На гистограмме 2 мы видим пики в районе 10, 40 и 60 дней. Больная часть квартир продается за такой период.\n",
    "Здесь важно понимать, что снятие квартиры с сайта объявлений не обязательно означает продажу.\n",
    "\n",
    "Необычно долгие продажи - это продажи, которые занимают более 200 дней.\n"
   ]
  },
  {
   "cell_type": "markdown",
   "metadata": {},
   "source": [
    "#### Задание 2"
   ]
  },
  {
   "cell_type": "markdown",
   "metadata": {},
   "source": [
    "Какие факторы больше всего влияют на общую (полную) стоимость объекта? Постройте графики, которые покажут зависимость цены от указанных ниже параметров. Для подготовки данных перед визуализацией вы можете использовать сводные таблицы.\"\n",
    "- общей площади;\n",
    "- жилой площади;\n",
    "- площади кухни;\n",
    "- количество комнат;\n",
    "- типа этажа, на котором расположена квартира (первый, последний, другой);\n",
    "- даты размещения (день недели, месяц, год);"
   ]
  },
  {
   "cell_type": "markdown",
   "metadata": {},
   "source": [
    "##### Зависимость стоимости от общей площади"
   ]
  },
  {
   "cell_type": "code",
   "execution_count": 183,
   "metadata": {},
   "outputs": [
    {
     "data": {
      "image/png": "[encoded data removed]",
      "text/plain": [
       "<Figure size 720x360 with 1 Axes>"
      ]
     },
     "metadata": {
      "needs_background": "light"
     },
     "output_type": "display_data"
    }
   ],
   "source": [
    "#Зависимость стоимости от общей площади\n",
    "df.plot(x='total_area', y='last_price_thousand', style='o', xlim=(0, 200), ylim=(0, 200000), grid=True, figsize=(10, 5), alpha=0.3)\n",
    "plt.show()"
   ]
  },
  {
   "cell_type": "code",
   "execution_count": 184,
   "metadata": {},
   "outputs": [
    {
     "data": {
      "text/plain": [
       "0.550209345871693"
      ]
     },
     "execution_count": 184,
     "metadata": {},
     "output_type": "execute_result"
    }
   ],
   "source": [
    "df['living_area'].corr(df['last_price_thousand'])"
   ]
  },
  {
   "cell_type": "markdown",
   "metadata": {},
   "source": [
    "На графике мы видим увеличение стоимости вместе с ростом общей площади квартиры."
   ]
  },
  {
   "cell_type": "markdown",
   "metadata": {},
   "source": [
    "##### Зависимость стоимости от жилой площади"
   ]
  },
  {
   "cell_type": "code",
   "execution_count": 185,
   "metadata": {},
   "outputs": [
    {
     "data": {
      "image/png": "[encoded data removed]",
      "text/plain": [
       "<Figure size 720x360 with 1 Axes>"
      ]
     },
     "metadata": {
      "needs_background": "light"
     },
     "output_type": "display_data"
    }
   ],
   "source": [
    "df.plot(x='living_area', y='last_price_thousand', style='o', xlim=(0, 200), ylim=(0, 200000), grid=True, figsize=(10, 5), alpha=0.3)\n",
    "plt.show()"
   ]
  },
  {
   "cell_type": "code",
   "execution_count": 186,
   "metadata": {},
   "outputs": [
    {
     "data": {
      "text/plain": [
       "0.43781377324603554"
      ]
     },
     "execution_count": 186,
     "metadata": {},
     "output_type": "execute_result"
    }
   ],
   "source": [
    "df['last_price_thousand'].corr(df['kitchen_area'])"
   ]
  },
  {
   "cell_type": "markdown",
   "metadata": {},
   "source": [
    "Здесь мы опять видим влияние жилой площади на стоимость квартыры. Цена квартиры растет вместе с жило площадью."
   ]
  },
  {
   "cell_type": "markdown",
   "metadata": {},
   "source": [
    "##### Зависимость стоимости от площади кухни"
   ]
  },
  {
   "cell_type": "code",
   "execution_count": 187,
   "metadata": {},
   "outputs": [
    {
     "data": {
      "image/png": "[encoded data removed]",
      "text/plain": [
       "<Figure size 720x360 with 1 Axes>"
      ]
     },
     "metadata": {
      "needs_background": "light"
     },
     "output_type": "display_data"
    }
   ],
   "source": [
    "df.plot(x='kitchen_area', y='last_price_thousand', style='o', xlim=(0, 80), ylim=(0, 200000), grid=True, figsize=(10, 5), alpha=0.3)\n",
    "plt.show()"
   ]
  },
  {
   "cell_type": "markdown",
   "metadata": {},
   "source": [
    "##### Зависимость стоимости от количество комнат"
   ]
  },
  {
   "cell_type": "code",
   "execution_count": 188,
   "metadata": {},
   "outputs": [
    {
     "data": {
      "image/png": "[encoded data removed]",
      "text/plain": [
       "<Figure size 720x360 with 1 Axes>"
      ]
     },
     "metadata": {
      "needs_background": "light"
     },
     "output_type": "display_data"
    }
   ],
   "source": [
    "df.plot(x='rooms', y='last_price_thousand', style='o', xlim=(0, 25), ylim=(0, 300000), grid=True, figsize=(10, 5), alpha=0.3)\n",
    "plt.show()"
   ]
  },
  {
   "cell_type": "markdown",
   "metadata": {},
   "source": [
    "Мы видим возрастающую стоимость  при увеличении числа комнал. Однако, квартиры с количеством комнат больше пяти могут стоить и дешевле при большем числе комнат."
   ]
  },
  {
   "cell_type": "markdown",
   "metadata": {},
   "source": [
    "##### Зависимость стоимости от типа этажа, на котором расположена квартира (первый, последний, другой)"
   ]
  },
  {
   "cell_type": "code",
   "execution_count": 189,
   "metadata": {},
   "outputs": [
    {
     "data": {
      "image/png": "[encoded data removed]",
      "text/plain": [
       "<Figure size 432x288 with 1 Axes>"
      ]
     },
     "metadata": {
      "needs_background": "light"
     },
     "output_type": "display_data"
    }
   ],
   "source": [
    "#df.plot(x='floor_category', y='last_price_thousand', kind='bar', ylim=(0, 200000), grid=True, figsize=(10, 5))\n",
    "#\n",
    "\n",
    "df.groupby('floor_category')['last_price_thousand'].mean().plot.bar()\n",
    "plt.show()"
   ]
  },
  {
   "cell_type": "markdown",
   "metadata": {},
   "source": [
    "Здесь мы видим, что квартиры на превом этаже стоят дешевле. при этом последнимй этаж влияет на стоимость больше, чем этажи из категории 'другие'."
   ]
  },
  {
   "cell_type": "markdown",
   "metadata": {},
   "source": [
    "##### Зависимость стоимости от даты размещения (день недели, месяц, год)"
   ]
  },
  {
   "cell_type": "markdown",
   "metadata": {},
   "source": [
    "**Зависимость стоимости от дня размещения**"
   ]
  },
  {
   "cell_type": "code",
   "execution_count": 190,
   "metadata": {},
   "outputs": [
    {
     "data": {
      "image/png": "[encoded data removed]",
      "text/plain": [
       "<Figure size 720x360 with 1 Axes>"
      ]
     },
     "metadata": {
      "needs_background": "light"
     },
     "output_type": "display_data"
    }
   ],
   "source": [
    "df.groupby('day_of_week')['last_price_thousand'].mean().plot(\n",
    "    x='year', \n",
    "    kind='bar', \n",
    "    y='last_price', \n",
    "    style='o', \n",
    "    xlim=(2000, 2018), \n",
    "    grid=True, \n",
    "    figsize=(10, 5))\n",
    "plt.show()"
   ]
  },
  {
   "cell_type": "markdown",
   "metadata": {},
   "source": [
    "**Зависимость стоимости от месяца размещения**"
   ]
  },
  {
   "cell_type": "code",
   "execution_count": 191,
   "metadata": {},
   "outputs": [
    {
     "data": {
      "image/png": "[encoded data removed]",
      "text/plain": [
       "<Figure size 720x360 with 1 Axes>"
      ]
     },
     "metadata": {
      "needs_background": "light"
     },
     "output_type": "display_data"
    }
   ],
   "source": [
    "df.groupby('month')['last_price_thousand'].mean().plot(\n",
    "    x='year', \n",
    "    kind='bar', \n",
    "    y='last_price', \n",
    "    style='o', \n",
    "    xlim=(2000, 2018), \n",
    "    grid=True, \n",
    "    figsize=(10, 5))\n",
    "plt.show()"
   ]
  },
  {
   "cell_type": "markdown",
   "metadata": {},
   "source": [
    "Здесь нет выраженной зависимости между месяцем или днем публикации и стоимостью квартиры."
   ]
  },
  {
   "cell_type": "markdown",
   "metadata": {},
   "source": [
    "**Зависимость стоимости от года размещения**"
   ]
  },
  {
   "cell_type": "code",
   "execution_count": 192,
   "metadata": {},
   "outputs": [
    {
     "data": {
      "image/png": "[encoded data removed]",
      "text/plain": [
       "<Figure size 720x360 with 1 Axes>"
      ]
     },
     "metadata": {
      "needs_background": "light"
     },
     "output_type": "display_data"
    }
   ],
   "source": [
    "df.groupby('year')['last_price_thousand'].mean().plot(\n",
    "    x='year', \n",
    "    kind='bar', \n",
    "    y='last_price_thousand', \n",
    "    style='o', \n",
    "    xlim=(2000, 2018), \n",
    "    grid=True, \n",
    "    figsize=(10, 5))\n",
    "plt.show()"
   ]
  },
  {
   "cell_type": "markdown",
   "metadata": {},
   "source": [
    "#### Задание 3"
   ]
  },
  {
   "cell_type": "markdown",
   "metadata": {},
   "source": [
    "Посчитайте среднюю цену одного квадратного метра в 10 населённых пунктах с наибольшим числом объявлений. Выделите населённые пункты с самой высокой и низкой стоимостью квадратного метра. Эти данные можно найти по имени в столбце `locality_name`.\""
   ]
  },
  {
   "cell_type": "code",
   "execution_count": 193,
   "metadata": {
    "scrolled": false
   },
   "outputs": [
    {
     "name": "stdout",
     "output_type": "stream",
     "text": [
      "10 населенных пунктов с самой высокой стоимость квадратного метра\n"
     ]
    },
    {
     "data": {
      "text/plain": [
       "locality_name\n",
       "Санкт-Петербург     114635.814\n",
       "Пушкин              103125.819\n",
       "деревня Кудрово      92297.219\n",
       "поселок Парголово    90289.778\n",
       "поселок Мурино       85040.965\n",
       "поселок Шушары       78405.738\n",
       "Колпино              75424.579\n",
       "Гатчина              68757.679\n",
       "Всеволожск           68683.762\n",
       "Выборг               58238.143\n",
       "Name: sqr_meter_price, dtype: float64"
      ]
     },
     "execution_count": 193,
     "metadata": {},
     "output_type": "execute_result"
    }
   ],
   "source": [
    "#df.groupby('locality_name')['sqr_meter_price'].mean().sort_values(ascending=False).head(10)\n",
    "\n",
    "print('10 населенных пунктов с самой высокой стоимость квадратного метра')\n",
    "# Таблица с ТОП 10 населенными пунктами по кол-ву объявлений\n",
    "top_city_count = df['locality_name'].value_counts().sort_values(ascending=False).head(10)\n",
    "top_city_count\n",
    "# Теперь узнаем среднюю стоимость метра квадратного для локаций из списка выше\n",
    "top_city_price = df.query('locality_name in @top_city_count.index').pivot_table(index='locality_name', values='sqr_meter_price', aggfunc='mean')\n",
    "top_city_price['sqr_meter_price'].sort_values(ascending=False)"
   ]
  },
  {
   "cell_type": "markdown",
   "metadata": {},
   "source": [
    "#### Задание 4"
   ]
  },
  {
   "cell_type": "markdown",
   "metadata": {},
   "source": [
    "Ранее вы посчитали расстояние до центра в километрах. Теперь выделите квартиры в Санкт-Петербурге с помощью столбца `locality_name` и вычислите среднюю цену каждого километра. Опишите, как стоимость объектов зависит от расстояния до центра города.\""
   ]
  },
  {
   "cell_type": "code",
   "execution_count": 194,
   "metadata": {},
   "outputs": [
    {
     "data": {
      "text/html": [
       "<div>\n",
       "<style scoped>\n",
       "    .dataframe tbody tr th:only-of-type {\n",
       "        vertical-align: middle;\n",
       "    }\n",
       "\n",
       "    .dataframe tbody tr th {\n",
       "        vertical-align: top;\n",
       "    }\n",
       "\n",
       "    .dataframe thead th {\n",
       "        text-align: right;\n",
       "    }\n",
       "</style>\n",
       "<table border=\"1\" class=\"dataframe\">\n",
       "  <thead>\n",
       "    <tr style=\"text-align: right;\">\n",
       "      <th></th>\n",
       "      <th>total_images</th>\n",
       "      <th>last_price</th>\n",
       "      <th>total_area</th>\n",
       "      <th>first_day_exposition</th>\n",
       "      <th>rooms</th>\n",
       "      <th>ceiling_height</th>\n",
       "      <th>floors_total</th>\n",
       "      <th>living_area</th>\n",
       "      <th>floor</th>\n",
       "      <th>is_apartment</th>\n",
       "      <th>studio</th>\n",
       "      <th>open_plan</th>\n",
       "      <th>kitchen_area</th>\n",
       "      <th>balcony</th>\n",
       "      <th>locality_name</th>\n",
       "      <th>airports_nearest</th>\n",
       "      <th>cityCenters_nearest</th>\n",
       "      <th>parks_around3000</th>\n",
       "      <th>parks_nearest</th>\n",
       "      <th>ponds_around3000</th>\n",
       "      <th>ponds_nearest</th>\n",
       "      <th>days_exposition</th>\n",
       "      <th>sqr_meter_price</th>\n",
       "      <th>day_of_week</th>\n",
       "      <th>month</th>\n",
       "      <th>year</th>\n",
       "      <th>floor_category</th>\n",
       "      <th>cityCenters_nearest_km</th>\n",
       "      <th>last_price_thousand</th>\n",
       "    </tr>\n",
       "  </thead>\n",
       "  <tbody>\n",
       "    <tr>\n",
       "      <th>0</th>\n",
       "      <td>20</td>\n",
       "      <td>13000000.000</td>\n",
       "      <td>108.000</td>\n",
       "      <td>2019-03-07</td>\n",
       "      <td>3</td>\n",
       "      <td>2.700</td>\n",
       "      <td>16</td>\n",
       "      <td>51.000</td>\n",
       "      <td>8</td>\n",
       "      <td>True</td>\n",
       "      <td>False</td>\n",
       "      <td>False</td>\n",
       "      <td>25.000</td>\n",
       "      <td>0</td>\n",
       "      <td>Санкт-Петербург</td>\n",
       "      <td>18863.000</td>\n",
       "      <td>16028.000</td>\n",
       "      <td>1</td>\n",
       "      <td>482</td>\n",
       "      <td>2</td>\n",
       "      <td>755</td>\n",
       "      <td>0</td>\n",
       "      <td>120370.370</td>\n",
       "      <td>Thursday</td>\n",
       "      <td>3</td>\n",
       "      <td>2019</td>\n",
       "      <td>другой</td>\n",
       "      <td>16.028</td>\n",
       "      <td>13000.000</td>\n",
       "    </tr>\n",
       "    <tr>\n",
       "      <th>1</th>\n",
       "      <td>7</td>\n",
       "      <td>3350000.000</td>\n",
       "      <td>40.400</td>\n",
       "      <td>2018-12-04</td>\n",
       "      <td>1</td>\n",
       "      <td>2.650</td>\n",
       "      <td>11</td>\n",
       "      <td>18.600</td>\n",
       "      <td>1</td>\n",
       "      <td>True</td>\n",
       "      <td>False</td>\n",
       "      <td>False</td>\n",
       "      <td>11.000</td>\n",
       "      <td>2</td>\n",
       "      <td>поселок Шушары</td>\n",
       "      <td>12817.000</td>\n",
       "      <td>18603.000</td>\n",
       "      <td>0</td>\n",
       "      <td>0</td>\n",
       "      <td>0</td>\n",
       "      <td>0</td>\n",
       "      <td>81</td>\n",
       "      <td>82920.792</td>\n",
       "      <td>Tuesday</td>\n",
       "      <td>12</td>\n",
       "      <td>2018</td>\n",
       "      <td>первый</td>\n",
       "      <td>18.603</td>\n",
       "      <td>3350.000</td>\n",
       "    </tr>\n",
       "    <tr>\n",
       "      <th>2</th>\n",
       "      <td>10</td>\n",
       "      <td>5196000.000</td>\n",
       "      <td>56.000</td>\n",
       "      <td>2015-08-20</td>\n",
       "      <td>2</td>\n",
       "      <td>2.650</td>\n",
       "      <td>5</td>\n",
       "      <td>34.300</td>\n",
       "      <td>4</td>\n",
       "      <td>True</td>\n",
       "      <td>False</td>\n",
       "      <td>False</td>\n",
       "      <td>8.300</td>\n",
       "      <td>0</td>\n",
       "      <td>Санкт-Петербург</td>\n",
       "      <td>21741.000</td>\n",
       "      <td>13933.000</td>\n",
       "      <td>1</td>\n",
       "      <td>90</td>\n",
       "      <td>2</td>\n",
       "      <td>574</td>\n",
       "      <td>558</td>\n",
       "      <td>92785.714</td>\n",
       "      <td>Thursday</td>\n",
       "      <td>8</td>\n",
       "      <td>2015</td>\n",
       "      <td>другой</td>\n",
       "      <td>13.933</td>\n",
       "      <td>5196.000</td>\n",
       "    </tr>\n",
       "  </tbody>\n",
       "</table>\n",
       "</div>"
      ],
      "text/plain": [
       "   total_images   last_price  total_area first_day_exposition  rooms  ceiling_height  floors_total  living_area  floor  is_apartment  studio  open_plan  kitchen_area  balcony    locality_name  airports_nearest  cityCenters_nearest  parks_around3000  parks_nearest  ponds_around3000  ponds_nearest  days_exposition  sqr_meter_price day_of_week  month  year floor_category  cityCenters_nearest_km  last_price_thousand\n",
       "0            20 13000000.000     108.000           2019-03-07      3           2.700            16       51.000      8          True   False      False        25.000        0  Санкт-Петербург         18863.000            16028.000                 1            482                 2            755                0       120370.370    Thursday      3  2019         другой                  16.028            13000.000\n",
       "1             7  3350000.000      40.400           2018-12-04      1           2.650            11       18.600      1          True   False      False        11.000        2   поселок Шушары         12817.000            18603.000                 0              0                 0              0               81        82920.792     Tuesday     12  2018         первый                  18.603             3350.000\n",
       "2            10  5196000.000      56.000           2015-08-20      2           2.650             5       34.300      4          True   False      False         8.300        0  Санкт-Петербург         21741.000            13933.000                 1             90                 2            574              558        92785.714    Thursday      8  2015         другой                  13.933             5196.000"
      ]
     },
     "execution_count": 194,
     "metadata": {},
     "output_type": "execute_result"
    }
   ],
   "source": [
    "df.head(3)"
   ]
  },
  {
   "cell_type": "code",
   "execution_count": 195,
   "metadata": {},
   "outputs": [
    {
     "name": "stdout",
     "output_type": "stream",
     "text": [
      "      cityCenters_nearest_km  last_price_thousand\n",
      "0                      0.181            31099.000\n",
      "1                      0.208             5800.000\n",
      "2                      0.215            10990.000\n",
      "3                      0.287             9590.000\n",
      "4                      0.291            11500.000\n",
      "...                      ...                  ...\n",
      "6274                  28.644             4775.000\n",
      "6275                  28.806             4370.000\n",
      "6276                  29.263             4850.000\n",
      "6277                  29.343             4200.000\n",
      "6278                  29.493             2450.000\n",
      "\n",
      "[6279 rows x 2 columns]\n"
     ]
    },
    {
     "data": {
      "image/png": "[encoded data removed]",
      "text/plain": [
       "<Figure size 720x360 with 1 Axes>"
      ]
     },
     "metadata": {
      "needs_background": "light"
     },
     "output_type": "display_data"
    }
   ],
   "source": [
    "# Создадим таблицу, в которой выберем только локацию 'Санкт-Петербург'.\n",
    "# сгрупперуем цены по расстоянию до центра города в километрах.\n",
    "spb_prices_per_center_km = df[df['locality_name'] == 'Санкт-Петербург'].pivot_table(\n",
    "    index='cityCenters_nearest_km',\n",
    "    values='last_price_thousand',\n",
    "    aggfunc='mean').reset_index()\n",
    "print(spb_prices_per_center_km)\n",
    "\n",
    "spb_prices_per_center_km.plot(x='cityCenters_nearest_km', y='last_price_thousand', style='o',\\\n",
    "                              ylim=(0, 200000), grid=True, figsize=(10, 5), alpha=0.3, title = 'Заголовок')\n",
    "plt.show()"
   ]
  },
  {
   "cell_type": "markdown",
   "metadata": {},
   "source": [
    "На графике видно, что с увеличением расстояния до центра снижается и стоимость квартиры.\n",
    "Приэтом мы видим некоторые объекты, которые имеют высокую стоимость, находясь достаточно далеко от центра. Это могут быть загородные дома.\n",
    "наиболее дорогие предложения расположены примерно в 5 - 7 км от центра."
   ]
  },
  {
   "cell_type": "markdown",
   "metadata": {},
   "source": [
    "### Общий вывод"
   ]
  },
  {
   "cell_type": "markdown",
   "metadata": {},
   "source": [
    "В рамках данного проекта передомной стояло несколько задач:\n",
    "\n",
    "1) Предобработать данные, скорректировать типы данных, избавиться от дубликатов и анамальных значений \\\n",
    "2) Создание новых таблиц с категориями \\\n",
    "3) Провести исследовательский анализ данных\n",
    "\n",
    "**Обнаруженные ошибки**\n",
    "\n",
    "При обработке данных я столкнулся с рядом ошибок и аномальных значений.\n",
    "Например, высота потолков и этажность дома невседа выглядят правдоподобно. Можно предположить, что пользователи могли ошибиться, когда заполняли данные объявления.\n",
    "\n",
    "В названиях населенных пунктов часто используются синонимичные названия (например 'поселок' и 'поселок городского типа').\n",
    "Скорее всего, это ошибка возникает из-за того, что люди заполняют адреса вручную. Это можно исправить, сделав список населенных пунктов из которого пользователь сможет выбрать свой населенный пункт.\n",
    "\n",
    "Также я добавил дополнительные столбцы с категориями: \\\n",
    "1) цена одного квадратного метра \\\n",
    "2) день публикации объявления (0 - понедельник, 1 - вторник и т.д.) \\\n",
    "3) месяц публикации объявления \\\n",
    "4) год публикации объявления \\\n",
    "5) тип этажа квартиры (значения — «первый», «последний», «другой») \\\n",
    "6) расстояние в км до центра города \\\n",
    "\n",
    "Эти столбцы помогут проанализировать механизм формирования стоимости квартиры.\n",
    "\n",
    "**Изучение основных параметров**\n",
    "\n",
    "Посмотрев основные параметры, я сделал следующе выводы: \n",
    "- Площадь большенства квартир не превышает 70 метров квадратных\n",
    "- медианная площадь кухни - 10 метров\n",
    "- средняя стоимость квартиры - 6 541 958.22\n",
    "- большенство квартир - 1 или 2 комнатные\n",
    "- средняя высота потолков - 2.696\n",
    "- большая часть квартир распологается не выше 5 этажа\n",
    "- \n",
    "\n",
    "\n",
    "**Скорость продажи**\n",
    "\n",
    "Средняя длительность размещения объвления - 157 дней\n",
    "Медианная длительность размещения - 74 дня\n",
    "\n",
    "Большенство объявлений достигают продажи до период до 100 дней.\n",
    "\n",
    "**Факторы влияющие на стоимость жилья**\n",
    "\n",
    "Изучая факторы формирования стоимости квартиры, я сделал следующие выводы:\n",
    "- Общая площадь непосредственно влияет на стоимость квартиры. Здесь мы видим достаточно стабильную связь\n",
    "- Аналогичным образом на стоимсть влияют общая жилая площадь и площадь кухни\n",
    "- Нет прямой зависимости между этажем и стоимостью. Здесь можно отметить, что дороже всего квартиры стоят в промежутке до 5 или шестого этажа.\n",
    "\n",
    "**Топ 10 локаций по стоимости квадратного метра**\n",
    "\n",
    "Зеленогорск         115122.79\n",
    "Санкт-Петербург     114635.81\n",
    "поселок Репино      104238.61\n",
    "Пушкин              103125.81\n",
    "Сестрорецк          101757.61\n",
    "поселок Лисий Нос   100660.81\n",
    "Кудрово              99989.42\n",
    "деревня Мистолово    98549.97\n",
    "поселок Левашово     96997.69\n",
    "Мурино               92479.98\n",
    "\n",
    "**Влияние расстояния до центра города в Санкт-петербурге**\n",
    "\n",
    "Изучив зависимость расстояния до центра города в СПБ, я сделал вывод, что наиболее дорогие квартиры, как правило, находятся на расстоянии 5 - 7 км от центра города."
   ]
  },
  {
   "cell_type": "markdown",
   "metadata": {},
   "source": [
    "**Чек-лист готовности проекта**\n",
    "\n",
    "Поставьте 'x' в выполненных пунктах. Далее нажмите Shift+Enter."
   ]
  },
  {
   "cell_type": "markdown",
   "metadata": {},
   "source": [
    "- [x]  открыт файл\n",
    "- [x]  файлы изучены (выведены первые строки, метод `info()`, гистограммы и т.д.)\n",
    "- [x]  определены пропущенные значения\n",
    "- [x]  заполнены пропущенные значения там, где это возможно\n",
    "- [x]  есть пояснение, какие пропущенные значения обнаружены\n",
    "- [x]  изменены типы данных\n",
    "- [x]  есть пояснение, в каких столбцах изменены типы и почему\n",
    "- [x]  устранены неявные дубликаты в названиях населённых пунктов\n",
    "- [x]  устранены редкие и выбивающиеся значения (аномалии) во всех столбцах\n",
    "- [x]  посчитано и добавлено в таблицу: цена одного квадратного метра\n",
    "- [x]  посчитано и добавлено в таблицу: день публикации объявления (0 - понедельник, 1 - вторник и т.д.)\n",
    "- [x]  посчитано и добавлено в таблицу: месяц публикации объявления\n",
    "- [x]  посчитано и добавлено в таблицу: год публикации объявления\n",
    "- [x]  посчитано и добавлено в таблицу: тип этажа квартиры (значения — «первый», «последний», «другой»)\n",
    "- [x]  посчитано и добавлено в таблицу: расстояние в км до центра города\n",
    "- [x]  изучены и описаны следующие параметры:\n",
    "        - общая площадь;\n",
    "        - жилая площадь;\n",
    "        - площадь кухни;\n",
    "        - цена объекта;\n",
    "        - количество комнат;\n",
    "        - высота потолков;\n",
    "        - этаж квартиры;\n",
    "        - тип этажа квартиры («первый», «последний», «другой»);\n",
    "        - общее количество этажей в доме;\n",
    "        - расстояние до центра города в метрах;\n",
    "        - расстояние до ближайшего аэропорта;\n",
    "        - расстояние до ближайшего парка;\n",
    "        - день и месяц публикации объявления\n",
    "- [x]  построены гистограммы для каждого параметра\n",
    "- [x]  выполнено задание: \"Изучите, как быстро продавались квартиры (столбец days_exposition). Этот параметр показывает, сколько дней «висело» каждое объявление.\n",
    "    - Постройте гистограмму.\n",
    "    - Посчитайте среднее и медиану.\n",
    "    - В ячейке типа markdown опишите, сколько обычно занимает продажа. Какие продажи можно считать быстрыми, а какие — необычно долгими?\"\n",
    "- [x]  выполнено задание: \"Какие факторы больше всего влияют на общую (полную) стоимость объекта? Постройте графики, которые покажут зависимость цены от указанных ниже параметров. Для подготовки данных перед визуализацией вы можете использовать сводные таблицы.\"\n",
    "        - общей площади;\n",
    "        - жилой площади;\n",
    "        - площади кухни;\n",
    "        - количество комнат;\n",
    "        - типа этажа, на котором расположена квартира (первый, последний, другой);\n",
    "        - даты размещения (день недели, месяц, год);\n",
    "- [x]  выполнено задание: \"Посчитайте среднюю цену одного квадратного метра в 10 населённых пунктах с наибольшим числом объявлений. Выделите населённые пункты с самой высокой и низкой стоимостью квадратного метра. Эти данные можно найти по имени в столбце `locality_name`.\"\n",
    "- [x]  выполнено задание: \"Ранее вы посчитали расстояние до центра в километрах. Теперь выделите квартиры в Санкт-Петербурге с помощью столбца `locality_name` и вычислите среднюю цену каждого километра. Опишите, как стоимость объектов зависит от расстояния до центра города.\"\n",
    "- [x]  в каждом этапе есть промежуточные выводы\n",
    "- [x]  есть общий вывод"
   ]
  }
 ],
 "metadata": {
  "ExecuteTimeLog": [
   {
    "duration": 56,
    "start_time": "2022-08-16T07:50:25.485Z"
   },
   {
    "duration": 466,
    "start_time": "2022-08-16T07:50:30.898Z"
   },
   {
    "duration": 150,
    "start_time": "2022-08-16T07:55:02.640Z"
   },
   {
    "duration": 336,
    "start_time": "2022-08-16T07:55:18.153Z"
   },
   {
    "duration": 12,
    "start_time": "2022-08-16T07:55:26.057Z"
   },
   {
    "duration": 16,
    "start_time": "2022-08-16T07:59:13.095Z"
   },
   {
    "duration": 141,
    "start_time": "2022-08-16T07:59:52.182Z"
   },
   {
    "duration": 23,
    "start_time": "2022-08-16T07:59:55.310Z"
   },
   {
    "duration": 10,
    "start_time": "2022-08-16T08:00:05.682Z"
   },
   {
    "duration": 86,
    "start_time": "2022-08-16T08:00:31.798Z"
   },
   {
    "duration": 19,
    "start_time": "2022-08-16T08:00:35.717Z"
   },
   {
    "duration": 8,
    "start_time": "2022-08-16T08:01:10.942Z"
   },
   {
    "duration": 471,
    "start_time": "2022-08-16T08:01:21.742Z"
   },
   {
    "duration": 436,
    "start_time": "2022-08-16T08:03:05.700Z"
   },
   {
    "duration": 379,
    "start_time": "2022-08-16T08:03:08.749Z"
   },
   {
    "duration": 427,
    "start_time": "2022-08-16T08:03:16.956Z"
   },
   {
    "duration": 463,
    "start_time": "2022-08-16T08:03:21.220Z"
   },
   {
    "duration": 3,
    "start_time": "2022-08-16T08:05:08.511Z"
   },
   {
    "duration": 17,
    "start_time": "2022-08-16T08:05:11.316Z"
   },
   {
    "duration": 261,
    "start_time": "2022-08-16T08:05:43.219Z"
   },
   {
    "duration": 2,
    "start_time": "2022-08-16T08:08:12.298Z"
   },
   {
    "duration": 2,
    "start_time": "2022-08-16T08:24:09.819Z"
   },
   {
    "duration": 23,
    "start_time": "2022-08-16T12:12:13.583Z"
   },
   {
    "duration": 134,
    "start_time": "2022-08-16T13:56:03.920Z"
   },
   {
    "duration": 40,
    "start_time": "2022-08-16T13:56:10.418Z"
   },
   {
    "duration": 8,
    "start_time": "2022-08-16T14:33:08.299Z"
   },
   {
    "duration": 8,
    "start_time": "2022-08-16T14:33:37.862Z"
   },
   {
    "duration": 8,
    "start_time": "2022-08-16T14:33:41.287Z"
   },
   {
    "duration": 8,
    "start_time": "2022-08-16T14:33:42.879Z"
   },
   {
    "duration": 11,
    "start_time": "2022-08-16T14:33:46.030Z"
   },
   {
    "duration": 14,
    "start_time": "2022-08-16T14:35:01.214Z"
   },
   {
    "duration": 3,
    "start_time": "2022-08-16T14:35:46.486Z"
   },
   {
    "duration": 3,
    "start_time": "2022-08-16T14:36:02.022Z"
   },
   {
    "duration": 3,
    "start_time": "2022-08-16T14:36:09.349Z"
   },
   {
    "duration": 5,
    "start_time": "2022-08-16T14:36:16.269Z"
   },
   {
    "duration": 9,
    "start_time": "2022-08-16T14:36:25.181Z"
   },
   {
    "duration": 26,
    "start_time": "2022-08-16T14:38:26.092Z"
   },
   {
    "duration": 21,
    "start_time": "2022-08-16T14:40:08.604Z"
   },
   {
    "duration": 3,
    "start_time": "2022-08-16T14:41:01.084Z"
   },
   {
    "duration": 14,
    "start_time": "2022-08-16T14:41:17.556Z"
   },
   {
    "duration": 19,
    "start_time": "2022-08-16T14:41:20.628Z"
   },
   {
    "duration": 5,
    "start_time": "2022-08-16T14:42:00.020Z"
   },
   {
    "duration": 19,
    "start_time": "2022-08-16T14:42:02.861Z"
   },
   {
    "duration": 25,
    "start_time": "2022-08-16T14:42:13.740Z"
   },
   {
    "duration": 8,
    "start_time": "2022-08-16T14:42:19.093Z"
   },
   {
    "duration": 5,
    "start_time": "2022-08-16T14:44:27.324Z"
   },
   {
    "duration": 22,
    "start_time": "2022-08-16T14:44:30.020Z"
   },
   {
    "duration": 24,
    "start_time": "2022-08-16T14:44:40.836Z"
   },
   {
    "duration": 20,
    "start_time": "2022-08-16T14:44:45.036Z"
   },
   {
    "duration": 6,
    "start_time": "2022-08-16T16:49:57.423Z"
   },
   {
    "duration": 6,
    "start_time": "2022-08-16T16:50:54.707Z"
   },
   {
    "duration": 23,
    "start_time": "2022-08-16T16:50:58.102Z"
   },
   {
    "duration": 81,
    "start_time": "2022-08-16T16:54:45.188Z"
   },
   {
    "duration": 8,
    "start_time": "2022-08-16T16:54:50.691Z"
   },
   {
    "duration": 15,
    "start_time": "2022-08-16T16:54:56.443Z"
   },
   {
    "duration": 11,
    "start_time": "2022-08-16T16:55:13.459Z"
   },
   {
    "duration": 12,
    "start_time": "2022-08-16T16:55:34.506Z"
   },
   {
    "duration": 11,
    "start_time": "2022-08-16T16:55:39.275Z"
   },
   {
    "duration": 42,
    "start_time": "2022-08-16T20:02:02.860Z"
   },
   {
    "duration": 856,
    "start_time": "2022-08-16T20:02:06.881Z"
   },
   {
    "duration": 317,
    "start_time": "2022-08-16T20:02:07.740Z"
   },
   {
    "duration": 26,
    "start_time": "2022-08-16T20:02:08.058Z"
   },
   {
    "duration": 1164,
    "start_time": "2022-08-16T20:02:08.086Z"
   },
   {
    "duration": 4,
    "start_time": "2022-08-16T20:02:09.252Z"
   },
   {
    "duration": 13,
    "start_time": "2022-08-16T20:02:09.257Z"
   },
   {
    "duration": 8,
    "start_time": "2022-08-16T20:02:09.271Z"
   },
   {
    "duration": 6,
    "start_time": "2022-08-16T20:02:09.280Z"
   },
   {
    "duration": 26,
    "start_time": "2022-08-16T20:02:09.287Z"
   },
   {
    "duration": 20,
    "start_time": "2022-08-16T20:02:09.315Z"
   },
   {
    "duration": 980,
    "start_time": "2022-08-17T09:34:53.834Z"
   },
   {
    "duration": 179,
    "start_time": "2022-08-17T09:34:54.816Z"
   },
   {
    "duration": 29,
    "start_time": "2022-08-17T09:34:54.997Z"
   },
   {
    "duration": 1409,
    "start_time": "2022-08-17T09:34:55.028Z"
   },
   {
    "duration": 5,
    "start_time": "2022-08-17T09:34:56.439Z"
   },
   {
    "duration": 25,
    "start_time": "2022-08-17T09:34:56.445Z"
   },
   {
    "duration": 20,
    "start_time": "2022-08-17T09:34:56.472Z"
   },
   {
    "duration": 7,
    "start_time": "2022-08-17T09:34:56.495Z"
   },
   {
    "duration": 8,
    "start_time": "2022-08-17T09:34:56.505Z"
   },
   {
    "duration": 30,
    "start_time": "2022-08-17T09:34:56.515Z"
   },
   {
    "duration": 2237,
    "start_time": "2022-08-17T09:35:15.131Z"
   },
   {
    "duration": 95,
    "start_time": "2022-08-17T09:54:06.024Z"
   },
   {
    "duration": 11,
    "start_time": "2022-08-17T09:54:22.882Z"
   },
   {
    "duration": 11,
    "start_time": "2022-08-17T09:54:30.192Z"
   },
   {
    "duration": 95,
    "start_time": "2022-08-17T09:54:53.493Z"
   },
   {
    "duration": 11,
    "start_time": "2022-08-17T09:55:00.087Z"
   },
   {
    "duration": 39,
    "start_time": "2022-08-17T09:55:38.143Z"
   },
   {
    "duration": 21,
    "start_time": "2022-08-17T09:55:51.685Z"
   },
   {
    "duration": 24,
    "start_time": "2022-08-17T09:56:03.639Z"
   },
   {
    "duration": 32,
    "start_time": "2022-08-17T12:31:57.446Z"
   },
   {
    "duration": 8,
    "start_time": "2022-08-17T12:32:00.631Z"
   },
   {
    "duration": 48,
    "start_time": "2022-08-17T15:40:12.442Z"
   },
   {
    "duration": 1424,
    "start_time": "2022-08-17T15:40:15.493Z"
   },
   {
    "duration": 166,
    "start_time": "2022-08-17T15:40:16.919Z"
   },
   {
    "duration": 34,
    "start_time": "2022-08-17T15:40:17.087Z"
   },
   {
    "duration": 1652,
    "start_time": "2022-08-17T15:40:17.123Z"
   },
   {
    "duration": 19,
    "start_time": "2022-08-17T15:40:18.777Z"
   },
   {
    "duration": 23,
    "start_time": "2022-08-17T15:40:18.798Z"
   },
   {
    "duration": 27,
    "start_time": "2022-08-17T15:40:18.823Z"
   },
   {
    "duration": 2075,
    "start_time": "2022-08-17T15:40:27.175Z"
   },
   {
    "duration": 1983,
    "start_time": "2022-08-17T15:40:29.887Z"
   },
   {
    "duration": 13,
    "start_time": "2022-08-17T15:52:41.113Z"
   },
   {
    "duration": 23,
    "start_time": "2022-08-17T15:52:45.689Z"
   },
   {
    "duration": 133,
    "start_time": "2022-08-17T15:55:25.815Z"
   },
   {
    "duration": 3,
    "start_time": "2022-08-17T15:55:28.910Z"
   },
   {
    "duration": 105,
    "start_time": "2022-08-17T15:55:28.915Z"
   },
   {
    "duration": 23,
    "start_time": "2022-08-17T15:55:29.022Z"
   },
   {
    "duration": 1957,
    "start_time": "2022-08-17T15:55:29.046Z"
   },
   {
    "duration": 13,
    "start_time": "2022-08-17T15:55:31.005Z"
   },
   {
    "duration": 33,
    "start_time": "2022-08-17T15:55:31.019Z"
   },
   {
    "duration": 58,
    "start_time": "2022-08-17T15:55:31.055Z"
   },
   {
    "duration": 36,
    "start_time": "2022-08-17T15:56:13.654Z"
   },
   {
    "duration": 10,
    "start_time": "2022-08-17T15:56:27.447Z"
   },
   {
    "duration": 38,
    "start_time": "2022-08-17T15:57:05.022Z"
   },
   {
    "duration": 35,
    "start_time": "2022-08-17T15:57:25.894Z"
   },
   {
    "duration": 11,
    "start_time": "2022-08-17T15:57:56.342Z"
   },
   {
    "duration": 21,
    "start_time": "2022-08-17T15:57:59.218Z"
   },
   {
    "duration": 2,
    "start_time": "2022-08-17T16:45:57.707Z"
   },
   {
    "duration": 11,
    "start_time": "2022-08-17T16:46:09.243Z"
   },
   {
    "duration": 39,
    "start_time": "2022-08-17T16:48:14.384Z"
   },
   {
    "duration": 8,
    "start_time": "2022-08-17T16:48:38.593Z"
   },
   {
    "duration": 22,
    "start_time": "2022-08-17T16:51:31.232Z"
   },
   {
    "duration": 20,
    "start_time": "2022-08-17T16:51:35.871Z"
   },
   {
    "duration": 8,
    "start_time": "2022-08-17T16:51:52.521Z"
   },
   {
    "duration": 22,
    "start_time": "2022-08-17T16:51:55.219Z"
   },
   {
    "duration": 38,
    "start_time": "2022-08-17T16:52:20.839Z"
   },
   {
    "duration": 51,
    "start_time": "2022-08-17T16:52:24.399Z"
   },
   {
    "duration": 51,
    "start_time": "2022-08-17T16:52:36.231Z"
   },
   {
    "duration": 48,
    "start_time": "2022-08-17T16:52:43.910Z"
   },
   {
    "duration": 7,
    "start_time": "2022-08-17T16:55:31.030Z"
   },
   {
    "duration": 10,
    "start_time": "2022-08-17T16:58:08.109Z"
   },
   {
    "duration": 12,
    "start_time": "2022-08-17T16:58:17.604Z"
   },
   {
    "duration": 10,
    "start_time": "2022-08-17T16:58:24.948Z"
   },
   {
    "duration": 12,
    "start_time": "2022-08-17T17:00:41.204Z"
   },
   {
    "duration": 64,
    "start_time": "2022-08-17T20:46:09.598Z"
   },
   {
    "duration": 798,
    "start_time": "2022-08-17T20:46:14.785Z"
   },
   {
    "duration": 403,
    "start_time": "2022-08-17T20:46:15.585Z"
   },
   {
    "duration": 23,
    "start_time": "2022-08-17T20:46:15.990Z"
   },
   {
    "duration": 1891,
    "start_time": "2022-08-17T20:46:16.014Z"
   },
   {
    "duration": 15,
    "start_time": "2022-08-17T20:46:17.907Z"
   },
   {
    "duration": 48,
    "start_time": "2022-08-17T20:46:17.924Z"
   },
   {
    "duration": 33,
    "start_time": "2022-08-17T20:46:17.973Z"
   },
   {
    "duration": 83,
    "start_time": "2022-08-17T20:46:18.007Z"
   },
   {
    "duration": 51,
    "start_time": "2022-08-17T20:46:18.092Z"
   },
   {
    "duration": 43,
    "start_time": "2022-08-17T20:46:18.145Z"
   },
   {
    "duration": 10,
    "start_time": "2022-08-17T20:46:31.587Z"
   },
   {
    "duration": 921,
    "start_time": "2022-08-18T08:15:20.282Z"
   },
   {
    "duration": 337,
    "start_time": "2022-08-18T08:15:21.205Z"
   },
   {
    "duration": 28,
    "start_time": "2022-08-18T08:15:21.544Z"
   },
   {
    "duration": 2127,
    "start_time": "2022-08-18T08:15:21.575Z"
   },
   {
    "duration": 18,
    "start_time": "2022-08-18T08:15:23.705Z"
   },
   {
    "duration": 17,
    "start_time": "2022-08-18T08:15:23.725Z"
   },
   {
    "duration": 22,
    "start_time": "2022-08-18T08:15:23.744Z"
   },
   {
    "duration": 60,
    "start_time": "2022-08-18T08:15:23.768Z"
   },
   {
    "duration": 24,
    "start_time": "2022-08-18T08:15:23.831Z"
   },
   {
    "duration": 827,
    "start_time": "2022-08-18T09:33:02.472Z"
   },
   {
    "duration": 156,
    "start_time": "2022-08-18T09:33:03.302Z"
   },
   {
    "duration": 38,
    "start_time": "2022-08-18T09:33:03.460Z"
   },
   {
    "duration": 1960,
    "start_time": "2022-08-18T09:33:03.501Z"
   },
   {
    "duration": 15,
    "start_time": "2022-08-18T09:33:05.462Z"
   },
   {
    "duration": 11,
    "start_time": "2022-08-18T09:33:05.479Z"
   },
   {
    "duration": 14,
    "start_time": "2022-08-18T09:33:05.492Z"
   },
   {
    "duration": 83,
    "start_time": "2022-08-18T09:33:05.508Z"
   },
   {
    "duration": 0,
    "start_time": "2022-08-18T09:33:05.593Z"
   },
   {
    "duration": 0,
    "start_time": "2022-08-18T09:33:05.595Z"
   },
   {
    "duration": 4,
    "start_time": "2022-08-18T10:47:24.477Z"
   },
   {
    "duration": 119,
    "start_time": "2022-08-18T10:47:24.483Z"
   },
   {
    "duration": 23,
    "start_time": "2022-08-18T10:47:24.604Z"
   },
   {
    "duration": 2071,
    "start_time": "2022-08-18T10:47:24.630Z"
   },
   {
    "duration": 17,
    "start_time": "2022-08-18T10:47:26.704Z"
   },
   {
    "duration": 14,
    "start_time": "2022-08-18T10:47:26.723Z"
   },
   {
    "duration": 34,
    "start_time": "2022-08-18T10:47:26.739Z"
   },
   {
    "duration": 14,
    "start_time": "2022-08-18T10:47:26.774Z"
   },
   {
    "duration": 0,
    "start_time": "2022-08-18T10:47:26.790Z"
   },
   {
    "duration": 0,
    "start_time": "2022-08-18T10:47:26.791Z"
   },
   {
    "duration": 336,
    "start_time": "2022-08-18T10:47:44.469Z"
   },
   {
    "duration": 30,
    "start_time": "2022-08-18T10:47:59.186Z"
   },
   {
    "duration": 425,
    "start_time": "2022-08-18T10:49:53.593Z"
   },
   {
    "duration": 361,
    "start_time": "2022-08-18T10:50:43.561Z"
   },
   {
    "duration": 366,
    "start_time": "2022-08-18T10:50:50.232Z"
   },
   {
    "duration": 103,
    "start_time": "2022-08-18T10:51:26.921Z"
   },
   {
    "duration": 346,
    "start_time": "2022-08-18T10:52:07.096Z"
   },
   {
    "duration": 13,
    "start_time": "2022-08-18T11:26:06.993Z"
   },
   {
    "duration": 13,
    "start_time": "2022-08-18T11:26:14.560Z"
   },
   {
    "duration": 12,
    "start_time": "2022-08-18T11:26:25.920Z"
   },
   {
    "duration": 11,
    "start_time": "2022-08-18T11:31:42.014Z"
   },
   {
    "duration": 9,
    "start_time": "2022-08-18T13:05:05.418Z"
   },
   {
    "duration": 22,
    "start_time": "2022-08-18T13:05:13.328Z"
   },
   {
    "duration": 21,
    "start_time": "2022-08-18T13:07:42.984Z"
   },
   {
    "duration": 11,
    "start_time": "2022-08-18T13:56:13.878Z"
   },
   {
    "duration": 3,
    "start_time": "2022-08-18T16:02:50.598Z"
   },
   {
    "duration": 99,
    "start_time": "2022-08-18T16:02:50.604Z"
   },
   {
    "duration": 20,
    "start_time": "2022-08-18T16:02:50.704Z"
   },
   {
    "duration": 2092,
    "start_time": "2022-08-18T16:02:50.725Z"
   },
   {
    "duration": 14,
    "start_time": "2022-08-18T16:02:52.819Z"
   },
   {
    "duration": 38,
    "start_time": "2022-08-18T16:02:52.834Z"
   },
   {
    "duration": 10,
    "start_time": "2022-08-18T16:02:52.874Z"
   },
   {
    "duration": 13,
    "start_time": "2022-08-18T16:02:52.886Z"
   },
   {
    "duration": 114,
    "start_time": "2022-08-18T16:02:52.901Z"
   },
   {
    "duration": 0,
    "start_time": "2022-08-18T16:02:53.017Z"
   },
   {
    "duration": 0,
    "start_time": "2022-08-18T16:02:53.018Z"
   },
   {
    "duration": 214,
    "start_time": "2022-08-18T17:20:13.439Z"
   },
   {
    "duration": 27,
    "start_time": "2022-08-18T17:20:25.832Z"
   },
   {
    "duration": 11,
    "start_time": "2022-08-18T17:20:28.622Z"
   },
   {
    "duration": 24,
    "start_time": "2022-08-18T17:21:58.527Z"
   },
   {
    "duration": 16,
    "start_time": "2022-08-18T17:39:20.269Z"
   },
   {
    "duration": 12,
    "start_time": "2022-08-18T17:40:00.249Z"
   },
   {
    "duration": 10,
    "start_time": "2022-08-18T17:40:06.754Z"
   },
   {
    "duration": 3843,
    "start_time": "2022-08-18T17:58:04.282Z"
   },
   {
    "duration": 3738,
    "start_time": "2022-08-18T17:58:24.139Z"
   },
   {
    "duration": 933,
    "start_time": "2022-08-18T19:33:01.799Z"
   },
   {
    "duration": 332,
    "start_time": "2022-08-18T19:33:02.735Z"
   },
   {
    "duration": 27,
    "start_time": "2022-08-18T19:33:03.069Z"
   },
   {
    "duration": 2123,
    "start_time": "2022-08-18T19:33:03.098Z"
   },
   {
    "duration": 17,
    "start_time": "2022-08-18T19:33:05.223Z"
   },
   {
    "duration": 4559,
    "start_time": "2022-08-18T19:33:05.242Z"
   },
   {
    "duration": 0,
    "start_time": "2022-08-18T19:33:09.803Z"
   },
   {
    "duration": 0,
    "start_time": "2022-08-18T19:33:09.804Z"
   },
   {
    "duration": 0,
    "start_time": "2022-08-18T19:33:09.806Z"
   },
   {
    "duration": 0,
    "start_time": "2022-08-18T19:33:09.807Z"
   },
   {
    "duration": 0,
    "start_time": "2022-08-18T19:33:09.809Z"
   },
   {
    "duration": 0,
    "start_time": "2022-08-18T19:33:09.810Z"
   },
   {
    "duration": 22,
    "start_time": "2022-08-18T19:33:58.665Z"
   },
   {
    "duration": 9,
    "start_time": "2022-08-18T19:34:07.056Z"
   },
   {
    "duration": 28,
    "start_time": "2022-08-18T19:34:27.791Z"
   },
   {
    "duration": 10,
    "start_time": "2022-08-18T19:34:30.132Z"
   },
   {
    "duration": 3082,
    "start_time": "2022-08-18T19:55:00.531Z"
   },
   {
    "duration": 3,
    "start_time": "2022-08-18T19:55:33.475Z"
   },
   {
    "duration": 36,
    "start_time": "2022-08-18T19:55:36.034Z"
   },
   {
    "duration": 22,
    "start_time": "2022-08-18T19:57:18.119Z"
   },
   {
    "duration": 15,
    "start_time": "2022-08-18T19:59:27.344Z"
   },
   {
    "duration": 14,
    "start_time": "2022-08-18T19:59:33.784Z"
   },
   {
    "duration": 205,
    "start_time": "2022-08-18T19:59:37.056Z"
   },
   {
    "duration": 10,
    "start_time": "2022-08-18T19:59:43.183Z"
   },
   {
    "duration": 269,
    "start_time": "2022-08-18T20:05:24.964Z"
   },
   {
    "duration": 5,
    "start_time": "2022-08-18T20:05:39.693Z"
   },
   {
    "duration": 5,
    "start_time": "2022-08-18T20:05:48.934Z"
   },
   {
    "duration": 27,
    "start_time": "2022-08-18T20:06:48.337Z"
   },
   {
    "duration": 9,
    "start_time": "2022-08-18T20:06:49.940Z"
   },
   {
    "duration": 194,
    "start_time": "2022-08-18T20:09:48.542Z"
   },
   {
    "duration": 3,
    "start_time": "2022-08-18T20:12:27.202Z"
   },
   {
    "duration": 6,
    "start_time": "2022-08-18T20:15:25.834Z"
   },
   {
    "duration": 10,
    "start_time": "2022-08-18T20:21:35.284Z"
   },
   {
    "duration": 11,
    "start_time": "2022-08-18T20:22:38.547Z"
   },
   {
    "duration": 11,
    "start_time": "2022-08-18T20:22:57.875Z"
   },
   {
    "duration": 3,
    "start_time": "2022-08-18T20:23:33.934Z"
   },
   {
    "duration": 4,
    "start_time": "2022-08-18T20:23:47.347Z"
   },
   {
    "duration": 5,
    "start_time": "2022-08-18T20:23:56.444Z"
   },
   {
    "duration": 19,
    "start_time": "2022-08-18T20:30:18.045Z"
   },
   {
    "duration": 26,
    "start_time": "2022-08-18T20:30:48.704Z"
   },
   {
    "duration": 19,
    "start_time": "2022-08-18T20:30:52.655Z"
   },
   {
    "duration": 8,
    "start_time": "2022-08-18T20:32:28.445Z"
   },
   {
    "duration": 9,
    "start_time": "2022-08-18T20:32:33.006Z"
   },
   {
    "duration": 5,
    "start_time": "2022-08-18T20:32:37.255Z"
   },
   {
    "duration": 70,
    "start_time": "2022-08-18T20:33:08.573Z"
   },
   {
    "duration": 4,
    "start_time": "2022-08-18T22:42:10.267Z"
   },
   {
    "duration": 118,
    "start_time": "2022-08-18T22:42:10.274Z"
   },
   {
    "duration": 33,
    "start_time": "2022-08-18T22:42:10.394Z"
   },
   {
    "duration": 2034,
    "start_time": "2022-08-18T22:42:10.429Z"
   },
   {
    "duration": 14,
    "start_time": "2022-08-18T22:42:12.466Z"
   },
   {
    "duration": 23,
    "start_time": "2022-08-18T22:42:12.482Z"
   },
   {
    "duration": 32,
    "start_time": "2022-08-18T22:42:12.507Z"
   },
   {
    "duration": 18,
    "start_time": "2022-08-18T22:42:12.541Z"
   },
   {
    "duration": 25,
    "start_time": "2022-08-18T22:42:12.561Z"
   },
   {
    "duration": 44,
    "start_time": "2022-08-18T22:42:12.589Z"
   },
   {
    "duration": 4,
    "start_time": "2022-08-18T22:42:12.635Z"
   },
   {
    "duration": 17,
    "start_time": "2022-08-18T22:42:12.641Z"
   },
   {
    "duration": 14,
    "start_time": "2022-08-18T22:42:12.660Z"
   },
   {
    "duration": 37,
    "start_time": "2022-08-18T22:42:12.677Z"
   },
   {
    "duration": 24,
    "start_time": "2022-08-18T22:42:12.716Z"
   },
   {
    "duration": 5,
    "start_time": "2022-08-18T22:44:30.410Z"
   },
   {
    "duration": 9,
    "start_time": "2022-08-18T22:44:43.313Z"
   },
   {
    "duration": 6,
    "start_time": "2022-08-18T22:44:54.533Z"
   },
   {
    "duration": 4,
    "start_time": "2022-08-18T22:44:58.038Z"
   },
   {
    "duration": 115,
    "start_time": "2022-08-18T22:44:58.044Z"
   },
   {
    "duration": 23,
    "start_time": "2022-08-18T22:44:58.161Z"
   },
   {
    "duration": 2173,
    "start_time": "2022-08-18T22:44:58.186Z"
   },
   {
    "duration": 15,
    "start_time": "2022-08-18T22:45:00.361Z"
   },
   {
    "duration": 31,
    "start_time": "2022-08-18T22:45:00.378Z"
   },
   {
    "duration": 34,
    "start_time": "2022-08-18T22:45:00.411Z"
   },
   {
    "duration": 22,
    "start_time": "2022-08-18T22:45:00.447Z"
   },
   {
    "duration": 29,
    "start_time": "2022-08-18T22:45:00.470Z"
   },
   {
    "duration": 43,
    "start_time": "2022-08-18T22:45:00.500Z"
   },
   {
    "duration": 11,
    "start_time": "2022-08-18T22:45:00.545Z"
   },
   {
    "duration": 55,
    "start_time": "2022-08-18T22:45:00.558Z"
   },
   {
    "duration": 21,
    "start_time": "2022-08-18T22:45:00.615Z"
   },
   {
    "duration": 44,
    "start_time": "2022-08-18T22:45:00.637Z"
   },
   {
    "duration": 466,
    "start_time": "2022-08-18T22:46:44.169Z"
   },
   {
    "duration": 637,
    "start_time": "2022-08-18T22:51:21.086Z"
   },
   {
    "duration": 428,
    "start_time": "2022-08-18T22:53:47.093Z"
   },
   {
    "duration": 16,
    "start_time": "2022-08-18T22:53:50.443Z"
   },
   {
    "duration": 18,
    "start_time": "2022-08-18T22:53:54.436Z"
   },
   {
    "duration": 15,
    "start_time": "2022-08-18T22:53:57.562Z"
   },
   {
    "duration": 28,
    "start_time": "2022-08-18T22:54:56.187Z"
   },
   {
    "duration": 306,
    "start_time": "2022-08-18T22:55:33.323Z"
   },
   {
    "duration": 1256,
    "start_time": "2022-08-18T22:59:10.250Z"
   },
   {
    "duration": 59,
    "start_time": "2022-08-18T22:59:35.096Z"
   },
   {
    "duration": 47,
    "start_time": "2022-08-18T22:59:38.944Z"
   },
   {
    "duration": 1273,
    "start_time": "2022-08-18T23:00:03.176Z"
   },
   {
    "duration": 11,
    "start_time": "2022-08-18T23:03:54.077Z"
   },
   {
    "duration": 96,
    "start_time": "2022-08-18T23:04:09.518Z"
   },
   {
    "duration": 2,
    "start_time": "2022-08-18T23:04:16.110Z"
   },
   {
    "duration": 4,
    "start_time": "2022-08-18T23:04:19.617Z"
   },
   {
    "duration": 103,
    "start_time": "2022-08-18T23:04:19.622Z"
   },
   {
    "duration": 23,
    "start_time": "2022-08-18T23:04:19.727Z"
   },
   {
    "duration": 2047,
    "start_time": "2022-08-18T23:04:19.752Z"
   },
   {
    "duration": 19,
    "start_time": "2022-08-18T23:04:21.801Z"
   },
   {
    "duration": 5,
    "start_time": "2022-08-18T23:04:21.821Z"
   },
   {
    "duration": 19,
    "start_time": "2022-08-18T23:04:21.828Z"
   },
   {
    "duration": 11,
    "start_time": "2022-08-18T23:04:21.848Z"
   },
   {
    "duration": 42,
    "start_time": "2022-08-18T23:04:21.861Z"
   },
   {
    "duration": 30,
    "start_time": "2022-08-18T23:04:21.905Z"
   },
   {
    "duration": 6,
    "start_time": "2022-08-18T23:04:21.937Z"
   },
   {
    "duration": 9,
    "start_time": "2022-08-18T23:04:21.945Z"
   },
   {
    "duration": 12,
    "start_time": "2022-08-18T23:04:21.956Z"
   },
   {
    "duration": 37,
    "start_time": "2022-08-18T23:04:21.971Z"
   },
   {
    "duration": 29,
    "start_time": "2022-08-18T23:05:34.885Z"
   },
   {
    "duration": 27,
    "start_time": "2022-08-18T23:05:36.796Z"
   },
   {
    "duration": 29,
    "start_time": "2022-08-18T23:05:43.668Z"
   },
   {
    "duration": 10,
    "start_time": "2022-08-18T23:05:49.197Z"
   },
   {
    "duration": 7,
    "start_time": "2022-08-18T23:11:57.017Z"
   },
   {
    "duration": 4,
    "start_time": "2022-08-18T23:12:29.007Z"
   },
   {
    "duration": 111,
    "start_time": "2022-08-18T23:12:29.014Z"
   },
   {
    "duration": 22,
    "start_time": "2022-08-18T23:12:29.128Z"
   },
   {
    "duration": 1962,
    "start_time": "2022-08-18T23:12:29.152Z"
   },
   {
    "duration": 21,
    "start_time": "2022-08-18T23:12:31.116Z"
   },
   {
    "duration": 11,
    "start_time": "2022-08-18T23:12:31.139Z"
   },
   {
    "duration": 4,
    "start_time": "2022-08-18T23:12:47.887Z"
   },
   {
    "duration": 107,
    "start_time": "2022-08-18T23:12:47.893Z"
   },
   {
    "duration": 28,
    "start_time": "2022-08-18T23:12:48.001Z"
   },
   {
    "duration": 2206,
    "start_time": "2022-08-18T23:12:48.031Z"
   },
   {
    "duration": 21,
    "start_time": "2022-08-18T23:12:50.238Z"
   },
   {
    "duration": 6,
    "start_time": "2022-08-18T23:12:50.260Z"
   },
   {
    "duration": 14,
    "start_time": "2022-08-18T23:12:50.268Z"
   },
   {
    "duration": 6,
    "start_time": "2022-08-18T23:16:47.015Z"
   },
   {
    "duration": 5,
    "start_time": "2022-08-18T23:17:13.358Z"
   },
   {
    "duration": 19,
    "start_time": "2022-08-18T23:17:56.141Z"
   },
   {
    "duration": 7,
    "start_time": "2022-08-18T23:17:59.101Z"
   },
   {
    "duration": 5,
    "start_time": "2022-08-18T23:18:00.685Z"
   },
   {
    "duration": 15,
    "start_time": "2022-08-18T23:18:02.517Z"
   },
   {
    "duration": 9,
    "start_time": "2022-08-18T23:18:38.190Z"
   },
   {
    "duration": 143,
    "start_time": "2022-08-18T23:27:09.416Z"
   },
   {
    "duration": 10,
    "start_time": "2022-08-18T23:27:18.095Z"
   },
   {
    "duration": 5,
    "start_time": "2022-08-18T23:27:45.832Z"
   },
   {
    "duration": 3,
    "start_time": "2022-08-18T23:28:20.709Z"
   },
   {
    "duration": 105,
    "start_time": "2022-08-18T23:28:20.714Z"
   },
   {
    "duration": 23,
    "start_time": "2022-08-18T23:28:20.821Z"
   },
   {
    "duration": 1966,
    "start_time": "2022-08-18T23:28:20.845Z"
   },
   {
    "duration": 20,
    "start_time": "2022-08-18T23:28:22.815Z"
   },
   {
    "duration": 6,
    "start_time": "2022-08-18T23:28:22.837Z"
   },
   {
    "duration": 3,
    "start_time": "2022-08-18T23:28:22.845Z"
   },
   {
    "duration": 16,
    "start_time": "2022-08-18T23:28:22.849Z"
   },
   {
    "duration": 43,
    "start_time": "2022-08-18T23:28:22.867Z"
   },
   {
    "duration": 14,
    "start_time": "2022-08-18T23:28:22.912Z"
   },
   {
    "duration": 26,
    "start_time": "2022-08-18T23:28:22.928Z"
   },
   {
    "duration": 2,
    "start_time": "2022-08-18T23:28:22.956Z"
   },
   {
    "duration": 7,
    "start_time": "2022-08-18T23:28:22.960Z"
   },
   {
    "duration": 9,
    "start_time": "2022-08-18T23:28:22.969Z"
   },
   {
    "duration": 23,
    "start_time": "2022-08-18T23:28:23.002Z"
   },
   {
    "duration": 5,
    "start_time": "2022-08-18T23:28:44.788Z"
   },
   {
    "duration": 5,
    "start_time": "2022-08-18T23:28:55.019Z"
   },
   {
    "duration": 140,
    "start_time": "2022-08-18T23:29:26.611Z"
   },
   {
    "duration": 5,
    "start_time": "2022-08-18T23:29:30.443Z"
   },
   {
    "duration": 5,
    "start_time": "2022-08-18T23:30:24.122Z"
   },
   {
    "duration": 9,
    "start_time": "2022-08-18T23:30:34.018Z"
   },
   {
    "duration": 2,
    "start_time": "2022-08-18T23:33:19.904Z"
   },
   {
    "duration": 27,
    "start_time": "2022-08-18T23:33:39.226Z"
   },
   {
    "duration": 17,
    "start_time": "2022-08-18T23:37:22.330Z"
   },
   {
    "duration": 17,
    "start_time": "2022-08-18T23:37:27.570Z"
   },
   {
    "duration": 20,
    "start_time": "2022-08-18T23:37:31.362Z"
   },
   {
    "duration": 5,
    "start_time": "2022-08-18T23:49:32.419Z"
   },
   {
    "duration": 7,
    "start_time": "2022-08-18T23:49:47.308Z"
   },
   {
    "duration": 780,
    "start_time": "2022-08-19T07:52:01.776Z"
   },
   {
    "duration": 660,
    "start_time": "2022-08-19T07:52:02.559Z"
   },
   {
    "duration": 23,
    "start_time": "2022-08-19T07:52:03.221Z"
   },
   {
    "duration": 1901,
    "start_time": "2022-08-19T07:52:03.246Z"
   },
   {
    "duration": 22,
    "start_time": "2022-08-19T07:52:05.149Z"
   },
   {
    "duration": 27,
    "start_time": "2022-08-19T07:52:05.172Z"
   },
   {
    "duration": 5,
    "start_time": "2022-08-19T07:52:05.200Z"
   },
   {
    "duration": 29,
    "start_time": "2022-08-19T07:52:05.206Z"
   },
   {
    "duration": 10,
    "start_time": "2022-08-19T07:52:05.237Z"
   },
   {
    "duration": 30,
    "start_time": "2022-08-19T07:52:05.249Z"
   },
   {
    "duration": 28,
    "start_time": "2022-08-19T07:52:05.280Z"
   },
   {
    "duration": 3,
    "start_time": "2022-08-19T07:52:05.309Z"
   },
   {
    "duration": 9,
    "start_time": "2022-08-19T07:52:05.313Z"
   },
   {
    "duration": 24,
    "start_time": "2022-08-19T07:52:05.324Z"
   },
   {
    "duration": 23,
    "start_time": "2022-08-19T07:52:16.858Z"
   },
   {
    "duration": 5,
    "start_time": "2022-08-19T07:52:23.202Z"
   },
   {
    "duration": 7,
    "start_time": "2022-08-19T07:52:30.033Z"
   },
   {
    "duration": 22,
    "start_time": "2022-08-19T07:52:33.057Z"
   },
   {
    "duration": 2,
    "start_time": "2022-08-19T09:37:03.072Z"
   },
   {
    "duration": 22,
    "start_time": "2022-08-19T09:37:06.936Z"
   },
   {
    "duration": 5,
    "start_time": "2022-08-19T09:37:27.208Z"
   },
   {
    "duration": 6,
    "start_time": "2022-08-19T09:37:35.176Z"
   },
   {
    "duration": 4,
    "start_time": "2022-08-19T09:39:09.023Z"
   },
   {
    "duration": 42,
    "start_time": "2022-08-19T09:39:12.535Z"
   },
   {
    "duration": 2,
    "start_time": "2022-08-19T09:39:50.280Z"
   },
   {
    "duration": 6,
    "start_time": "2022-08-19T09:39:56.910Z"
   },
   {
    "duration": 38,
    "start_time": "2022-08-19T09:40:05.551Z"
   },
   {
    "duration": 6,
    "start_time": "2022-08-19T12:03:06.983Z"
   },
   {
    "duration": 6,
    "start_time": "2022-08-19T12:03:25.310Z"
   },
   {
    "duration": 210,
    "start_time": "2022-08-19T12:03:28.425Z"
   },
   {
    "duration": 3,
    "start_time": "2022-08-19T12:04:05.925Z"
   },
   {
    "duration": 17,
    "start_time": "2022-08-19T15:12:44.118Z"
   },
   {
    "duration": 17,
    "start_time": "2022-08-19T15:12:47.740Z"
   },
   {
    "duration": 17,
    "start_time": "2022-08-19T16:38:22.601Z"
   },
   {
    "duration": 731,
    "start_time": "2022-08-20T08:58:14.148Z"
   },
   {
    "duration": 339,
    "start_time": "2022-08-20T08:58:14.881Z"
   },
   {
    "duration": 22,
    "start_time": "2022-08-20T08:58:15.222Z"
   },
   {
    "duration": 21,
    "start_time": "2022-08-20T08:58:15.246Z"
   },
   {
    "duration": 15,
    "start_time": "2022-08-20T08:58:15.268Z"
   },
   {
    "duration": 3,
    "start_time": "2022-08-20T08:58:15.284Z"
   },
   {
    "duration": 24,
    "start_time": "2022-08-20T08:58:15.288Z"
   },
   {
    "duration": 20,
    "start_time": "2022-08-20T08:58:15.313Z"
   },
   {
    "duration": 10,
    "start_time": "2022-08-20T08:58:15.335Z"
   },
   {
    "duration": 10,
    "start_time": "2022-08-20T08:58:15.348Z"
   },
   {
    "duration": 51,
    "start_time": "2022-08-20T08:58:15.360Z"
   },
   {
    "duration": 2,
    "start_time": "2022-08-20T08:58:15.412Z"
   },
   {
    "duration": 7,
    "start_time": "2022-08-20T08:58:15.416Z"
   },
   {
    "duration": 4,
    "start_time": "2022-08-20T08:58:59.895Z"
   },
   {
    "duration": 5,
    "start_time": "2022-08-20T08:59:13.567Z"
   },
   {
    "duration": 5,
    "start_time": "2022-08-20T08:59:22.951Z"
   },
   {
    "duration": 16,
    "start_time": "2022-08-20T09:05:42.475Z"
   },
   {
    "duration": 16,
    "start_time": "2022-08-20T09:05:56.827Z"
   },
   {
    "duration": 1231,
    "start_time": "2022-08-20T21:20:12.617Z"
   },
   {
    "duration": 401,
    "start_time": "2022-08-20T21:20:13.851Z"
   },
   {
    "duration": 92,
    "start_time": "2022-08-20T21:20:14.254Z"
   },
   {
    "duration": 63,
    "start_time": "2022-08-20T21:20:14.348Z"
   },
   {
    "duration": 89,
    "start_time": "2022-08-20T21:20:14.415Z"
   },
   {
    "duration": 4,
    "start_time": "2022-08-20T21:20:14.506Z"
   },
   {
    "duration": 91,
    "start_time": "2022-08-20T21:20:14.514Z"
   },
   {
    "duration": 29,
    "start_time": "2022-08-20T21:20:14.607Z"
   },
   {
    "duration": 68,
    "start_time": "2022-08-20T21:20:14.638Z"
   },
   {
    "duration": 131,
    "start_time": "2022-08-20T21:20:14.707Z"
   },
   {
    "duration": 7,
    "start_time": "2022-08-20T21:20:14.842Z"
   },
   {
    "duration": 48,
    "start_time": "2022-08-20T21:20:14.851Z"
   },
   {
    "duration": 3,
    "start_time": "2022-08-20T21:21:54.265Z"
   },
   {
    "duration": 31,
    "start_time": "2022-08-20T21:22:02.712Z"
   },
   {
    "duration": 49,
    "start_time": "2022-08-20T21:22:11.745Z"
   },
   {
    "duration": 38,
    "start_time": "2022-08-20T21:25:46.915Z"
   },
   {
    "duration": 25,
    "start_time": "2022-08-20T21:26:20.421Z"
   },
   {
    "duration": 20,
    "start_time": "2022-08-20T21:26:23.350Z"
   },
   {
    "duration": 89,
    "start_time": "2022-08-20T21:27:24.278Z"
   },
   {
    "duration": 3,
    "start_time": "2022-08-20T21:31:18.980Z"
   },
   {
    "duration": 27,
    "start_time": "2022-08-20T21:34:24.745Z"
   },
   {
    "duration": 29,
    "start_time": "2022-08-20T21:34:39.585Z"
   },
   {
    "duration": 32,
    "start_time": "2022-08-20T21:34:56.473Z"
   },
   {
    "duration": 28,
    "start_time": "2022-08-20T21:35:04.801Z"
   },
   {
    "duration": 901,
    "start_time": "2022-08-26T10:39:07.497Z"
   },
   {
    "duration": 335,
    "start_time": "2022-08-26T10:39:08.401Z"
   },
   {
    "duration": 33,
    "start_time": "2022-08-26T10:39:08.739Z"
   },
   {
    "duration": 35,
    "start_time": "2022-08-26T10:39:08.774Z"
   },
   {
    "duration": 26,
    "start_time": "2022-08-26T10:39:08.812Z"
   },
   {
    "duration": 4,
    "start_time": "2022-08-26T10:39:08.840Z"
   },
   {
    "duration": 47,
    "start_time": "2022-08-26T10:39:08.847Z"
   },
   {
    "duration": 29,
    "start_time": "2022-08-26T10:39:08.897Z"
   },
   {
    "duration": 27,
    "start_time": "2022-08-26T10:39:08.928Z"
   },
   {
    "duration": 45,
    "start_time": "2022-08-26T10:39:08.958Z"
   },
   {
    "duration": 4,
    "start_time": "2022-08-26T10:39:09.005Z"
   },
   {
    "duration": 17,
    "start_time": "2022-08-26T10:39:09.011Z"
   },
   {
    "duration": 732,
    "start_time": "2022-08-29T16:37:26.912Z"
   },
   {
    "duration": 70,
    "start_time": "2022-08-29T16:37:27.646Z"
   },
   {
    "duration": 0,
    "start_time": "2022-08-29T16:37:27.718Z"
   },
   {
    "duration": 0,
    "start_time": "2022-08-29T16:37:27.719Z"
   },
   {
    "duration": 0,
    "start_time": "2022-08-29T16:37:27.720Z"
   },
   {
    "duration": 0,
    "start_time": "2022-08-29T16:37:27.721Z"
   },
   {
    "duration": 0,
    "start_time": "2022-08-29T16:37:27.722Z"
   },
   {
    "duration": 0,
    "start_time": "2022-08-29T16:37:27.722Z"
   },
   {
    "duration": 0,
    "start_time": "2022-08-29T16:37:27.723Z"
   },
   {
    "duration": 0,
    "start_time": "2022-08-29T16:37:27.724Z"
   },
   {
    "duration": 0,
    "start_time": "2022-08-29T16:37:27.725Z"
   },
   {
    "duration": 0,
    "start_time": "2022-08-29T16:37:27.725Z"
   },
   {
    "duration": 7,
    "start_time": "2022-08-29T17:45:59.807Z"
   },
   {
    "duration": 3,
    "start_time": "2022-08-29T17:46:08.209Z"
   },
   {
    "duration": 9,
    "start_time": "2022-08-29T17:46:08.214Z"
   },
   {
    "duration": 0,
    "start_time": "2022-08-29T17:46:08.225Z"
   },
   {
    "duration": 0,
    "start_time": "2022-08-29T17:46:08.226Z"
   },
   {
    "duration": 0,
    "start_time": "2022-08-29T17:46:08.228Z"
   },
   {
    "duration": 0,
    "start_time": "2022-08-29T17:46:08.229Z"
   },
   {
    "duration": 0,
    "start_time": "2022-08-29T17:46:08.230Z"
   },
   {
    "duration": 0,
    "start_time": "2022-08-29T17:46:08.231Z"
   },
   {
    "duration": 0,
    "start_time": "2022-08-29T17:46:08.232Z"
   },
   {
    "duration": 0,
    "start_time": "2022-08-29T17:46:08.233Z"
   },
   {
    "duration": 0,
    "start_time": "2022-08-29T17:46:08.234Z"
   },
   {
    "duration": 0,
    "start_time": "2022-08-29T17:46:08.235Z"
   },
   {
    "duration": 0,
    "start_time": "2022-08-29T17:46:08.236Z"
   },
   {
    "duration": 8,
    "start_time": "2022-08-29T18:30:09.541Z"
   },
   {
    "duration": 969,
    "start_time": "2022-09-01T14:44:45.248Z"
   },
   {
    "duration": 91,
    "start_time": "2022-09-01T14:44:46.220Z"
   },
   {
    "duration": 0,
    "start_time": "2022-09-01T14:44:46.313Z"
   },
   {
    "duration": 0,
    "start_time": "2022-09-01T14:44:46.315Z"
   },
   {
    "duration": 0,
    "start_time": "2022-09-01T14:44:46.317Z"
   },
   {
    "duration": 0,
    "start_time": "2022-09-01T14:44:46.318Z"
   },
   {
    "duration": 0,
    "start_time": "2022-09-01T14:44:46.320Z"
   },
   {
    "duration": 0,
    "start_time": "2022-09-01T14:44:46.322Z"
   },
   {
    "duration": 0,
    "start_time": "2022-09-01T14:44:46.323Z"
   },
   {
    "duration": 0,
    "start_time": "2022-09-01T14:44:46.325Z"
   },
   {
    "duration": 0,
    "start_time": "2022-09-01T14:44:46.327Z"
   },
   {
    "duration": 0,
    "start_time": "2022-09-01T14:44:46.328Z"
   },
   {
    "duration": 0,
    "start_time": "2022-09-01T14:44:46.329Z"
   },
   {
    "duration": 9,
    "start_time": "2022-09-01T14:44:59.992Z"
   },
   {
    "duration": 4,
    "start_time": "2022-09-01T14:45:11.837Z"
   },
   {
    "duration": 10,
    "start_time": "2022-09-01T14:45:15.592Z"
   },
   {
    "duration": 195,
    "start_time": "2022-09-01T14:45:37.833Z"
   },
   {
    "duration": 3,
    "start_time": "2022-09-01T14:45:48.537Z"
   },
   {
    "duration": 140,
    "start_time": "2022-09-01T14:45:48.542Z"
   },
   {
    "duration": 27,
    "start_time": "2022-09-01T14:45:48.684Z"
   },
   {
    "duration": 20,
    "start_time": "2022-09-01T14:45:48.713Z"
   },
   {
    "duration": 3,
    "start_time": "2022-09-01T14:45:48.736Z"
   },
   {
    "duration": 47,
    "start_time": "2022-09-01T14:45:48.740Z"
   },
   {
    "duration": 12,
    "start_time": "2022-09-01T14:45:48.789Z"
   },
   {
    "duration": 14,
    "start_time": "2022-09-01T14:45:48.803Z"
   },
   {
    "duration": 29,
    "start_time": "2022-09-01T14:45:48.819Z"
   },
   {
    "duration": 28,
    "start_time": "2022-09-01T14:45:48.849Z"
   },
   {
    "duration": 6,
    "start_time": "2022-09-01T14:45:48.880Z"
   },
   {
    "duration": 87,
    "start_time": "2022-09-01T14:45:48.887Z"
   },
   {
    "duration": 18,
    "start_time": "2022-09-01T14:46:11.984Z"
   },
   {
    "duration": 18,
    "start_time": "2022-09-01T14:46:13.608Z"
   },
   {
    "duration": 2,
    "start_time": "2022-09-01T15:17:11.906Z"
   },
   {
    "duration": 17,
    "start_time": "2022-09-01T16:40:34.221Z"
   },
   {
    "duration": 884,
    "start_time": "2022-09-02T13:18:01.507Z"
   },
   {
    "duration": 169,
    "start_time": "2022-09-02T13:18:03.330Z"
   },
   {
    "duration": 3,
    "start_time": "2022-09-02T13:18:06.074Z"
   },
   {
    "duration": 100,
    "start_time": "2022-09-02T13:18:06.079Z"
   },
   {
    "duration": 23,
    "start_time": "2022-09-02T13:18:06.181Z"
   },
   {
    "duration": 18,
    "start_time": "2022-09-02T13:18:06.206Z"
   },
   {
    "duration": 3,
    "start_time": "2022-09-02T13:18:06.226Z"
   },
   {
    "duration": 47,
    "start_time": "2022-09-02T13:18:06.230Z"
   },
   {
    "duration": 17,
    "start_time": "2022-09-02T13:18:06.279Z"
   },
   {
    "duration": 20,
    "start_time": "2022-09-02T13:18:06.299Z"
   },
   {
    "duration": 63,
    "start_time": "2022-09-02T13:18:06.321Z"
   },
   {
    "duration": 2,
    "start_time": "2022-09-02T13:18:06.386Z"
   },
   {
    "duration": 7,
    "start_time": "2022-09-02T13:18:06.390Z"
   },
   {
    "duration": 102,
    "start_time": "2022-09-02T13:18:06.399Z"
   },
   {
    "duration": 5,
    "start_time": "2022-09-02T14:35:30.463Z"
   },
   {
    "duration": 18,
    "start_time": "2022-09-02T14:35:36.159Z"
   },
   {
    "duration": 136,
    "start_time": "2022-09-02T14:41:00.980Z"
   },
   {
    "duration": 70,
    "start_time": "2022-09-02T14:41:12.396Z"
   },
   {
    "duration": 75,
    "start_time": "2022-09-02T14:41:42.371Z"
   },
   {
    "duration": 70,
    "start_time": "2022-09-02T14:41:49.211Z"
   },
   {
    "duration": 78,
    "start_time": "2022-09-02T14:41:58.339Z"
   },
   {
    "duration": 86,
    "start_time": "2022-09-02T14:42:09.779Z"
   },
   {
    "duration": 76,
    "start_time": "2022-09-02T14:42:14.204Z"
   },
   {
    "duration": 91,
    "start_time": "2022-09-02T14:43:11.514Z"
   },
   {
    "duration": 65,
    "start_time": "2022-09-02T14:43:15.410Z"
   },
   {
    "duration": 77,
    "start_time": "2022-09-02T14:43:41.714Z"
   },
   {
    "duration": 8,
    "start_time": "2022-09-02T14:44:00.163Z"
   },
   {
    "duration": 9,
    "start_time": "2022-09-02T14:44:13.570Z"
   },
   {
    "duration": 120,
    "start_time": "2022-09-02T14:45:13.557Z"
   },
   {
    "duration": 118,
    "start_time": "2022-09-02T14:49:09.799Z"
   },
   {
    "duration": 230,
    "start_time": "2022-09-02T15:03:50.501Z"
   },
   {
    "duration": 261,
    "start_time": "2022-09-02T15:04:34.636Z"
   },
   {
    "duration": 1262,
    "start_time": "2022-09-02T21:25:28.824Z"
   },
   {
    "duration": 352,
    "start_time": "2022-09-02T21:25:31.397Z"
   },
   {
    "duration": 4,
    "start_time": "2022-09-02T21:25:36.075Z"
   },
   {
    "duration": 125,
    "start_time": "2022-09-02T21:25:36.080Z"
   },
   {
    "duration": 26,
    "start_time": "2022-09-02T21:25:36.206Z"
   },
   {
    "duration": 26,
    "start_time": "2022-09-02T21:25:36.235Z"
   },
   {
    "duration": 3,
    "start_time": "2022-09-02T21:25:36.263Z"
   },
   {
    "duration": 25,
    "start_time": "2022-09-02T21:25:36.285Z"
   },
   {
    "duration": 11,
    "start_time": "2022-09-02T21:25:36.311Z"
   },
   {
    "duration": 14,
    "start_time": "2022-09-02T21:25:36.324Z"
   },
   {
    "duration": 69,
    "start_time": "2022-09-02T21:25:36.340Z"
   },
   {
    "duration": 3,
    "start_time": "2022-09-02T21:25:36.412Z"
   },
   {
    "duration": 291,
    "start_time": "2022-09-02T21:25:36.417Z"
   },
   {
    "duration": 3,
    "start_time": "2022-09-02T21:25:36.709Z"
   },
   {
    "duration": 719,
    "start_time": "2022-09-04T11:01:41.264Z"
   },
   {
    "duration": 326,
    "start_time": "2022-09-04T11:01:43.467Z"
   },
   {
    "duration": 3,
    "start_time": "2022-09-04T11:01:46.542Z"
   },
   {
    "duration": 102,
    "start_time": "2022-09-04T11:01:46.548Z"
   },
   {
    "duration": 21,
    "start_time": "2022-09-04T11:01:46.652Z"
   },
   {
    "duration": 17,
    "start_time": "2022-09-04T11:01:46.674Z"
   },
   {
    "duration": 17,
    "start_time": "2022-09-04T11:01:46.693Z"
   },
   {
    "duration": 23,
    "start_time": "2022-09-04T11:01:46.711Z"
   },
   {
    "duration": 11,
    "start_time": "2022-09-04T11:01:46.736Z"
   },
   {
    "duration": 14,
    "start_time": "2022-09-04T11:01:46.749Z"
   },
   {
    "duration": 51,
    "start_time": "2022-09-04T11:01:46.765Z"
   },
   {
    "duration": 3,
    "start_time": "2022-09-04T11:01:46.818Z"
   },
   {
    "duration": 277,
    "start_time": "2022-09-04T11:01:46.823Z"
   },
   {
    "duration": 2,
    "start_time": "2022-09-04T11:01:47.102Z"
   },
   {
    "duration": 18,
    "start_time": "2022-09-04T11:02:10.458Z"
   },
   {
    "duration": 3,
    "start_time": "2022-09-04T13:51:23.310Z"
   },
   {
    "duration": 94,
    "start_time": "2022-09-04T13:51:25.523Z"
   },
   {
    "duration": 13,
    "start_time": "2022-09-04T13:52:18.643Z"
   },
   {
    "duration": 90,
    "start_time": "2022-09-04T13:52:21.355Z"
   },
   {
    "duration": 3,
    "start_time": "2022-09-04T13:52:23.290Z"
   },
   {
    "duration": 4,
    "start_time": "2022-09-04T13:52:25.836Z"
   },
   {
    "duration": 89,
    "start_time": "2022-09-04T13:52:25.850Z"
   },
   {
    "duration": 16,
    "start_time": "2022-09-04T13:52:25.941Z"
   },
   {
    "duration": 21,
    "start_time": "2022-09-04T13:52:25.960Z"
   },
   {
    "duration": 35,
    "start_time": "2022-09-04T13:52:25.983Z"
   },
   {
    "duration": 3,
    "start_time": "2022-09-04T13:52:26.020Z"
   },
   {
    "duration": 33,
    "start_time": "2022-09-04T13:52:26.025Z"
   },
   {
    "duration": 13,
    "start_time": "2022-09-04T13:52:26.061Z"
   },
   {
    "duration": 19,
    "start_time": "2022-09-04T13:52:26.076Z"
   },
   {
    "duration": 28,
    "start_time": "2022-09-04T13:52:26.109Z"
   },
   {
    "duration": 3,
    "start_time": "2022-09-04T13:52:26.139Z"
   },
   {
    "duration": 261,
    "start_time": "2022-09-04T13:52:26.143Z"
   },
   {
    "duration": 2,
    "start_time": "2022-09-04T13:52:26.408Z"
   },
   {
    "duration": 3,
    "start_time": "2022-09-04T14:06:00.545Z"
   },
   {
    "duration": 808,
    "start_time": "2022-09-04T17:42:15.515Z"
   },
   {
    "duration": 338,
    "start_time": "2022-09-04T17:42:18.512Z"
   },
   {
    "duration": 15,
    "start_time": "2022-09-04T17:42:22.008Z"
   },
   {
    "duration": 771,
    "start_time": "2022-09-05T11:22:51.121Z"
   },
   {
    "duration": 298,
    "start_time": "2022-09-05T11:22:52.770Z"
   },
   {
    "duration": 2,
    "start_time": "2022-09-05T11:25:13.775Z"
   },
   {
    "duration": 1127,
    "start_time": "2022-09-05T11:26:15.350Z"
   },
   {
    "duration": 68,
    "start_time": "2022-09-05T11:26:52.356Z"
   },
   {
    "duration": 8,
    "start_time": "2022-09-05T11:27:01.317Z"
   },
   {
    "duration": 7,
    "start_time": "2022-09-05T11:27:48.603Z"
   },
   {
    "duration": 6,
    "start_time": "2022-09-05T11:27:54.574Z"
   },
   {
    "duration": 6,
    "start_time": "2022-09-05T11:28:10.875Z"
   },
   {
    "duration": 6,
    "start_time": "2022-09-05T11:28:23.124Z"
   },
   {
    "duration": 6,
    "start_time": "2022-09-05T11:28:35.426Z"
   },
   {
    "duration": 55,
    "start_time": "2022-09-06T13:35:00.022Z"
   },
   {
    "duration": 882,
    "start_time": "2022-09-06T13:35:05.177Z"
   },
   {
    "duration": 338,
    "start_time": "2022-09-06T13:35:06.528Z"
   },
   {
    "duration": 5,
    "start_time": "2022-09-06T13:35:08.847Z"
   },
   {
    "duration": 128,
    "start_time": "2022-09-06T13:35:08.855Z"
   },
   {
    "duration": 30,
    "start_time": "2022-09-06T13:35:08.985Z"
   },
   {
    "duration": 37,
    "start_time": "2022-09-06T13:35:09.016Z"
   },
   {
    "duration": 30,
    "start_time": "2022-09-06T13:35:09.057Z"
   },
   {
    "duration": 37,
    "start_time": "2022-09-06T13:35:09.089Z"
   },
   {
    "duration": 5,
    "start_time": "2022-09-06T13:35:09.128Z"
   },
   {
    "duration": 41,
    "start_time": "2022-09-06T13:35:09.135Z"
   },
   {
    "duration": 13,
    "start_time": "2022-09-06T13:35:09.178Z"
   },
   {
    "duration": 32,
    "start_time": "2022-09-06T13:35:09.193Z"
   },
   {
    "duration": 37,
    "start_time": "2022-09-06T13:35:09.226Z"
   },
   {
    "duration": 6,
    "start_time": "2022-09-06T13:35:09.265Z"
   },
   {
    "duration": 18,
    "start_time": "2022-09-06T13:35:51.840Z"
   },
   {
    "duration": 22,
    "start_time": "2022-09-06T13:39:52.721Z"
   },
   {
    "duration": 50,
    "start_time": "2022-09-06T20:10:29.586Z"
   },
   {
    "duration": 8,
    "start_time": "2022-09-06T20:11:16.178Z"
   },
   {
    "duration": 12,
    "start_time": "2022-09-06T20:11:20.115Z"
   },
   {
    "duration": 8,
    "start_time": "2022-09-06T20:11:55.854Z"
   },
   {
    "duration": 3,
    "start_time": "2022-09-06T20:12:01.259Z"
   },
   {
    "duration": 4,
    "start_time": "2022-09-06T20:12:11.368Z"
   },
   {
    "duration": 7,
    "start_time": "2022-09-06T20:12:18.832Z"
   },
   {
    "duration": 4,
    "start_time": "2022-09-06T21:39:43.712Z"
   },
   {
    "duration": 53,
    "start_time": "2022-09-06T21:39:48.964Z"
   },
   {
    "duration": 6,
    "start_time": "2022-09-06T21:39:52.311Z"
   },
   {
    "duration": 10,
    "start_time": "2022-09-06T21:40:39.031Z"
   },
   {
    "duration": 5,
    "start_time": "2022-09-06T21:40:43.960Z"
   },
   {
    "duration": 3,
    "start_time": "2022-09-06T21:47:42.673Z"
   },
   {
    "duration": 98,
    "start_time": "2022-09-06T21:47:42.678Z"
   },
   {
    "duration": 16,
    "start_time": "2022-09-06T21:47:42.778Z"
   },
   {
    "duration": 16,
    "start_time": "2022-09-06T21:47:42.796Z"
   },
   {
    "duration": 14,
    "start_time": "2022-09-06T21:47:42.814Z"
   },
   {
    "duration": 20,
    "start_time": "2022-09-06T21:47:42.830Z"
   },
   {
    "duration": 15,
    "start_time": "2022-09-06T21:47:42.851Z"
   },
   {
    "duration": 3,
    "start_time": "2022-09-06T21:47:42.868Z"
   },
   {
    "duration": 47,
    "start_time": "2022-09-06T21:47:42.874Z"
   },
   {
    "duration": 11,
    "start_time": "2022-09-06T21:47:42.923Z"
   },
   {
    "duration": 9,
    "start_time": "2022-09-06T21:47:42.936Z"
   },
   {
    "duration": 28,
    "start_time": "2022-09-06T21:47:42.947Z"
   },
   {
    "duration": 27,
    "start_time": "2022-09-06T21:47:42.977Z"
   },
   {
    "duration": 5,
    "start_time": "2022-09-06T21:47:43.006Z"
   },
   {
    "duration": 8,
    "start_time": "2022-09-06T21:49:15.263Z"
   },
   {
    "duration": 5,
    "start_time": "2022-09-06T21:49:22.524Z"
   },
   {
    "duration": 4,
    "start_time": "2022-09-06T21:49:26.570Z"
   },
   {
    "duration": 3,
    "start_time": "2022-09-06T21:49:35.908Z"
   },
   {
    "duration": 9,
    "start_time": "2022-09-06T21:49:40.436Z"
   },
   {
    "duration": 3,
    "start_time": "2022-09-06T21:49:46.388Z"
   },
   {
    "duration": 7,
    "start_time": "2022-09-06T21:50:12.367Z"
   },
   {
    "duration": 47,
    "start_time": "2022-09-06T21:50:32.183Z"
   },
   {
    "duration": 50,
    "start_time": "2022-09-06T21:50:55.269Z"
   },
   {
    "duration": 4,
    "start_time": "2022-09-06T21:51:24.591Z"
   },
   {
    "duration": 108,
    "start_time": "2022-09-06T21:51:24.598Z"
   },
   {
    "duration": 16,
    "start_time": "2022-09-06T21:51:24.708Z"
   },
   {
    "duration": 21,
    "start_time": "2022-09-06T21:51:24.726Z"
   },
   {
    "duration": 21,
    "start_time": "2022-09-06T21:51:24.749Z"
   },
   {
    "duration": 34,
    "start_time": "2022-09-06T21:51:24.772Z"
   },
   {
    "duration": 15,
    "start_time": "2022-09-06T21:51:24.808Z"
   },
   {
    "duration": 4,
    "start_time": "2022-09-06T21:51:24.825Z"
   },
   {
    "duration": 30,
    "start_time": "2022-09-06T21:51:24.830Z"
   },
   {
    "duration": 11,
    "start_time": "2022-09-06T21:51:24.863Z"
   },
   {
    "duration": 28,
    "start_time": "2022-09-06T21:51:24.876Z"
   },
   {
    "duration": 43,
    "start_time": "2022-09-06T21:51:24.906Z"
   },
   {
    "duration": 71,
    "start_time": "2022-09-06T21:51:24.952Z"
   },
   {
    "duration": 0,
    "start_time": "2022-09-06T21:51:25.025Z"
   },
   {
    "duration": 64,
    "start_time": "2022-09-06T21:51:32.389Z"
   },
   {
    "duration": 43,
    "start_time": "2022-09-06T21:51:50.574Z"
   },
   {
    "duration": 57,
    "start_time": "2022-09-06T21:52:02.293Z"
   },
   {
    "duration": 3,
    "start_time": "2022-09-06T21:52:25.493Z"
   },
   {
    "duration": 4,
    "start_time": "2022-09-06T21:52:47.015Z"
   },
   {
    "duration": 7,
    "start_time": "2022-09-06T21:55:38.186Z"
   },
   {
    "duration": 8,
    "start_time": "2022-09-06T21:55:46.218Z"
   },
   {
    "duration": 9,
    "start_time": "2022-09-06T21:55:53.490Z"
   },
   {
    "duration": 7,
    "start_time": "2022-09-06T21:58:14.170Z"
   },
   {
    "duration": 7,
    "start_time": "2022-09-06T21:58:29.577Z"
   },
   {
    "duration": 7,
    "start_time": "2022-09-06T21:58:41.659Z"
   },
   {
    "duration": 7,
    "start_time": "2022-09-06T21:58:53.884Z"
   },
   {
    "duration": 6,
    "start_time": "2022-09-06T22:00:32.068Z"
   },
   {
    "duration": 7,
    "start_time": "2022-09-06T22:00:42.191Z"
   },
   {
    "duration": 6,
    "start_time": "2022-09-06T22:00:46.199Z"
   },
   {
    "duration": 6,
    "start_time": "2022-09-06T22:02:37.965Z"
   },
   {
    "duration": 12,
    "start_time": "2022-09-06T22:07:25.767Z"
   },
   {
    "duration": 156,
    "start_time": "2022-09-06T22:09:49.616Z"
   },
   {
    "duration": 9,
    "start_time": "2022-09-06T22:11:07.689Z"
   },
   {
    "duration": 430,
    "start_time": "2022-09-06T22:11:16.362Z"
   },
   {
    "duration": 170,
    "start_time": "2022-09-06T22:12:09.191Z"
   },
   {
    "duration": 62,
    "start_time": "2022-09-06T22:12:31.968Z"
   },
   {
    "duration": 140,
    "start_time": "2022-09-06T22:12:40.963Z"
   },
   {
    "duration": 151,
    "start_time": "2022-09-06T22:12:50.264Z"
   },
   {
    "duration": 406,
    "start_time": "2022-09-06T22:12:57.535Z"
   },
   {
    "duration": 50,
    "start_time": "2022-09-06T22:14:53.964Z"
   },
   {
    "duration": 175,
    "start_time": "2022-09-06T22:15:00.190Z"
   },
   {
    "duration": 141,
    "start_time": "2022-09-06T22:15:24.753Z"
   },
   {
    "duration": 767,
    "start_time": "2022-09-07T08:25:26.079Z"
   },
   {
    "duration": 137,
    "start_time": "2022-09-07T08:25:26.848Z"
   },
   {
    "duration": 20,
    "start_time": "2022-09-07T08:25:26.988Z"
   },
   {
    "duration": 11,
    "start_time": "2022-09-07T08:25:27.010Z"
   },
   {
    "duration": 17,
    "start_time": "2022-09-07T08:25:27.023Z"
   },
   {
    "duration": 30,
    "start_time": "2022-09-07T08:25:27.041Z"
   },
   {
    "duration": 16,
    "start_time": "2022-09-07T08:25:27.072Z"
   },
   {
    "duration": 3,
    "start_time": "2022-09-07T08:25:27.089Z"
   },
   {
    "duration": 23,
    "start_time": "2022-09-07T08:25:27.093Z"
   },
   {
    "duration": 9,
    "start_time": "2022-09-07T08:25:27.117Z"
   },
   {
    "duration": 8,
    "start_time": "2022-09-07T08:25:27.127Z"
   },
   {
    "duration": 23,
    "start_time": "2022-09-07T08:25:27.155Z"
   },
   {
    "duration": 6,
    "start_time": "2022-09-07T08:25:27.180Z"
   },
   {
    "duration": 185,
    "start_time": "2022-09-07T08:25:27.188Z"
   },
   {
    "duration": 203,
    "start_time": "2022-09-07T10:39:38.422Z"
   },
   {
    "duration": 237,
    "start_time": "2022-09-07T10:39:55.835Z"
   },
   {
    "duration": 282,
    "start_time": "2022-09-07T10:40:03.236Z"
   },
   {
    "duration": 281,
    "start_time": "2022-09-07T10:40:09.739Z"
   },
   {
    "duration": 269,
    "start_time": "2022-09-07T10:40:31.892Z"
   },
   {
    "duration": 271,
    "start_time": "2022-09-07T10:40:42.724Z"
   },
   {
    "duration": 359,
    "start_time": "2022-09-07T10:40:48.330Z"
   },
   {
    "duration": 287,
    "start_time": "2022-09-07T10:41:23.894Z"
   },
   {
    "duration": 7,
    "start_time": "2022-09-07T10:41:52.930Z"
   },
   {
    "duration": 6,
    "start_time": "2022-09-07T10:47:09.593Z"
   },
   {
    "duration": 6,
    "start_time": "2022-09-07T10:47:58.510Z"
   },
   {
    "duration": 2,
    "start_time": "2022-09-07T11:14:50.201Z"
   },
   {
    "duration": 3,
    "start_time": "2022-09-07T11:14:51.668Z"
   },
   {
    "duration": 92,
    "start_time": "2022-09-07T11:14:51.673Z"
   },
   {
    "duration": 14,
    "start_time": "2022-09-07T11:14:51.767Z"
   },
   {
    "duration": 14,
    "start_time": "2022-09-07T11:14:51.782Z"
   },
   {
    "duration": 16,
    "start_time": "2022-09-07T11:14:51.797Z"
   },
   {
    "duration": 83,
    "start_time": "2022-09-07T11:14:51.814Z"
   },
   {
    "duration": 0,
    "start_time": "2022-09-07T11:14:51.899Z"
   },
   {
    "duration": 0,
    "start_time": "2022-09-07T11:14:51.900Z"
   },
   {
    "duration": 0,
    "start_time": "2022-09-07T11:14:51.901Z"
   },
   {
    "duration": 1,
    "start_time": "2022-09-07T11:14:51.901Z"
   },
   {
    "duration": 0,
    "start_time": "2022-09-07T11:14:51.903Z"
   },
   {
    "duration": 1,
    "start_time": "2022-09-07T11:14:51.903Z"
   },
   {
    "duration": 0,
    "start_time": "2022-09-07T11:14:51.904Z"
   },
   {
    "duration": 0,
    "start_time": "2022-09-07T11:14:51.905Z"
   },
   {
    "duration": 275,
    "start_time": "2022-09-07T11:15:54.254Z"
   },
   {
    "duration": 19,
    "start_time": "2022-09-07T11:16:06.853Z"
   },
   {
    "duration": 91,
    "start_time": "2022-09-07T16:51:25.912Z"
   },
   {
    "duration": 72,
    "start_time": "2022-09-07T16:51:37.033Z"
   },
   {
    "duration": 81,
    "start_time": "2022-09-07T16:51:45.913Z"
   },
   {
    "duration": 74,
    "start_time": "2022-09-07T16:51:58.017Z"
   },
   {
    "duration": 23,
    "start_time": "2022-09-07T16:52:18.665Z"
   },
   {
    "duration": 7,
    "start_time": "2022-09-07T17:00:49.618Z"
   },
   {
    "duration": 28,
    "start_time": "2022-09-07T17:07:26.086Z"
   },
   {
    "duration": 3,
    "start_time": "2022-09-07T18:00:27.882Z"
   },
   {
    "duration": 25,
    "start_time": "2022-09-07T18:00:34.298Z"
   },
   {
    "duration": 4,
    "start_time": "2022-09-07T18:01:06.677Z"
   },
   {
    "duration": 25,
    "start_time": "2022-09-07T18:01:12.587Z"
   },
   {
    "duration": 3,
    "start_time": "2022-09-07T18:02:06.354Z"
   },
   {
    "duration": 25,
    "start_time": "2022-09-07T18:02:11.770Z"
   },
   {
    "duration": 1034,
    "start_time": "2022-09-07T19:18:07.180Z"
   },
   {
    "duration": 971,
    "start_time": "2022-09-07T19:18:08.217Z"
   },
   {
    "duration": 28,
    "start_time": "2022-09-07T19:18:09.193Z"
   },
   {
    "duration": 49,
    "start_time": "2022-09-07T19:18:09.223Z"
   },
   {
    "duration": 161,
    "start_time": "2022-09-07T19:18:09.275Z"
   },
   {
    "duration": 86,
    "start_time": "2022-09-07T19:18:09.437Z"
   },
   {
    "duration": 1,
    "start_time": "2022-09-07T19:18:09.525Z"
   },
   {
    "duration": 0,
    "start_time": "2022-09-07T19:18:09.527Z"
   },
   {
    "duration": 0,
    "start_time": "2022-09-07T19:18:09.529Z"
   },
   {
    "duration": 0,
    "start_time": "2022-09-07T19:18:09.530Z"
   },
   {
    "duration": 0,
    "start_time": "2022-09-07T19:18:09.531Z"
   },
   {
    "duration": 0,
    "start_time": "2022-09-07T19:18:09.532Z"
   },
   {
    "duration": 0,
    "start_time": "2022-09-07T19:18:09.534Z"
   },
   {
    "duration": 0,
    "start_time": "2022-09-07T19:18:09.535Z"
   },
   {
    "duration": 0,
    "start_time": "2022-09-07T19:18:09.536Z"
   },
   {
    "duration": 47,
    "start_time": "2022-09-07T19:18:32.035Z"
   },
   {
    "duration": 53,
    "start_time": "2022-09-07T19:19:17.378Z"
   },
   {
    "duration": 50,
    "start_time": "2022-09-07T19:19:23.804Z"
   },
   {
    "duration": 53,
    "start_time": "2022-09-07T19:19:35.588Z"
   },
   {
    "duration": 25,
    "start_time": "2022-09-07T19:19:48.395Z"
   },
   {
    "duration": 39,
    "start_time": "2022-09-07T19:19:52.636Z"
   },
   {
    "duration": 3,
    "start_time": "2022-09-07T19:20:49.707Z"
   },
   {
    "duration": 4,
    "start_time": "2022-09-07T19:22:17.649Z"
   },
   {
    "duration": 30,
    "start_time": "2022-09-07T19:22:23.172Z"
   },
   {
    "duration": 5,
    "start_time": "2022-09-07T19:22:57.729Z"
   },
   {
    "duration": 5,
    "start_time": "2022-09-07T19:23:05.001Z"
   },
   {
    "duration": 54,
    "start_time": "2022-09-07T19:23:10.971Z"
   },
   {
    "duration": 4,
    "start_time": "2022-09-07T19:23:39.144Z"
   },
   {
    "duration": 5,
    "start_time": "2022-09-07T19:23:51.330Z"
   },
   {
    "duration": 28,
    "start_time": "2022-09-07T19:24:03.825Z"
   },
   {
    "duration": 3,
    "start_time": "2022-09-07T19:35:07.218Z"
   },
   {
    "duration": 5,
    "start_time": "2022-09-07T19:35:16.641Z"
   },
   {
    "duration": 5,
    "start_time": "2022-09-07T19:35:19.889Z"
   },
   {
    "duration": 5,
    "start_time": "2022-09-07T19:35:26.460Z"
   },
   {
    "duration": 4,
    "start_time": "2022-09-07T19:35:28.760Z"
   },
   {
    "duration": 28,
    "start_time": "2022-09-07T19:36:30.640Z"
   },
   {
    "duration": 10,
    "start_time": "2022-09-07T19:36:57.951Z"
   },
   {
    "duration": 7,
    "start_time": "2022-09-07T19:37:06.264Z"
   },
   {
    "duration": 7,
    "start_time": "2022-09-07T19:39:32.342Z"
   },
   {
    "duration": 71,
    "start_time": "2022-09-07T19:39:49.870Z"
   },
   {
    "duration": 6,
    "start_time": "2022-09-07T19:39:59.582Z"
   },
   {
    "duration": 15,
    "start_time": "2022-09-07T22:03:48.369Z"
   },
   {
    "duration": 6,
    "start_time": "2022-09-07T22:04:02.459Z"
   },
   {
    "duration": 5,
    "start_time": "2022-09-07T22:04:12.858Z"
   },
   {
    "duration": 4,
    "start_time": "2022-09-07T22:05:45.137Z"
   },
   {
    "duration": 106,
    "start_time": "2022-09-07T22:05:45.143Z"
   },
   {
    "duration": 15,
    "start_time": "2022-09-07T22:05:45.251Z"
   },
   {
    "duration": 22,
    "start_time": "2022-09-07T22:05:45.268Z"
   },
   {
    "duration": 15,
    "start_time": "2022-09-07T22:05:45.293Z"
   },
   {
    "duration": 22,
    "start_time": "2022-09-07T22:05:45.310Z"
   },
   {
    "duration": 28,
    "start_time": "2022-09-07T22:05:45.334Z"
   },
   {
    "duration": 4,
    "start_time": "2022-09-07T22:05:45.364Z"
   },
   {
    "duration": 38,
    "start_time": "2022-09-07T22:05:45.369Z"
   },
   {
    "duration": 7,
    "start_time": "2022-09-07T22:05:45.409Z"
   },
   {
    "duration": 16,
    "start_time": "2022-09-07T22:05:45.418Z"
   },
   {
    "duration": 42,
    "start_time": "2022-09-07T22:05:45.436Z"
   },
   {
    "duration": 2,
    "start_time": "2022-09-07T22:05:45.480Z"
   },
   {
    "duration": 12,
    "start_time": "2022-09-07T22:05:45.486Z"
   },
   {
    "duration": 11,
    "start_time": "2022-09-07T22:05:45.499Z"
   },
   {
    "duration": 2,
    "start_time": "2022-09-07T22:05:45.511Z"
   },
   {
    "duration": 16,
    "start_time": "2022-09-07T22:05:45.515Z"
   },
   {
    "duration": 8,
    "start_time": "2022-09-07T22:05:45.532Z"
   },
   {
    "duration": 78,
    "start_time": "2022-09-07T22:05:45.557Z"
   },
   {
    "duration": 0,
    "start_time": "2022-09-07T22:05:45.637Z"
   },
   {
    "duration": 0,
    "start_time": "2022-09-07T22:05:45.638Z"
   },
   {
    "duration": 784,
    "start_time": "2022-09-07T22:06:02.712Z"
   },
   {
    "duration": 4,
    "start_time": "2022-09-07T22:06:13.992Z"
   },
   {
    "duration": 5,
    "start_time": "2022-09-07T22:06:15.992Z"
   },
   {
    "duration": 15,
    "start_time": "2022-09-07T22:07:45.031Z"
   },
   {
    "duration": 38,
    "start_time": "2022-09-07T22:13:19.733Z"
   },
   {
    "duration": 58,
    "start_time": "2022-09-07T22:13:48.854Z"
   },
   {
    "duration": 5,
    "start_time": "2022-09-07T22:14:35.303Z"
   },
   {
    "duration": 123,
    "start_time": "2022-09-07T22:14:35.310Z"
   },
   {
    "duration": 16,
    "start_time": "2022-09-07T22:14:35.435Z"
   },
   {
    "duration": 46,
    "start_time": "2022-09-07T22:14:35.453Z"
   },
   {
    "duration": 55,
    "start_time": "2022-09-07T22:14:35.501Z"
   },
   {
    "duration": 40,
    "start_time": "2022-09-07T22:14:35.557Z"
   },
   {
    "duration": 19,
    "start_time": "2022-09-07T22:14:35.599Z"
   },
   {
    "duration": 17,
    "start_time": "2022-09-07T22:14:35.620Z"
   },
   {
    "duration": 46,
    "start_time": "2022-09-07T22:14:35.639Z"
   },
   {
    "duration": 8,
    "start_time": "2022-09-07T22:14:35.687Z"
   },
   {
    "duration": 42,
    "start_time": "2022-09-07T22:14:35.697Z"
   },
   {
    "duration": 66,
    "start_time": "2022-09-07T22:14:35.742Z"
   },
   {
    "duration": 2,
    "start_time": "2022-09-07T22:14:35.810Z"
   },
   {
    "duration": 29,
    "start_time": "2022-09-07T22:14:35.815Z"
   },
   {
    "duration": 21,
    "start_time": "2022-09-07T22:14:35.846Z"
   },
   {
    "duration": 25,
    "start_time": "2022-09-07T22:14:35.869Z"
   },
   {
    "duration": 32,
    "start_time": "2022-09-07T22:14:35.896Z"
   },
   {
    "duration": 19,
    "start_time": "2022-09-07T22:14:35.930Z"
   },
   {
    "duration": 81,
    "start_time": "2022-09-07T22:14:35.951Z"
   },
   {
    "duration": 0,
    "start_time": "2022-09-07T22:14:36.034Z"
   },
   {
    "duration": 0,
    "start_time": "2022-09-07T22:14:36.035Z"
   },
   {
    "duration": 50,
    "start_time": "2022-09-07T22:14:43.492Z"
   },
   {
    "duration": 59,
    "start_time": "2022-09-07T22:15:28.499Z"
   },
   {
    "duration": 5,
    "start_time": "2022-09-07T22:15:33.610Z"
   },
   {
    "duration": 5,
    "start_time": "2022-09-07T22:15:35.683Z"
   },
   {
    "duration": 6,
    "start_time": "2022-09-07T22:15:43.874Z"
   },
   {
    "duration": 3,
    "start_time": "2022-09-07T22:16:15.897Z"
   },
   {
    "duration": 107,
    "start_time": "2022-09-07T22:16:15.902Z"
   },
   {
    "duration": 15,
    "start_time": "2022-09-07T22:16:16.010Z"
   },
   {
    "duration": 36,
    "start_time": "2022-09-07T22:16:16.028Z"
   },
   {
    "duration": 20,
    "start_time": "2022-09-07T22:16:16.066Z"
   },
   {
    "duration": 30,
    "start_time": "2022-09-07T22:16:16.087Z"
   },
   {
    "duration": 15,
    "start_time": "2022-09-07T22:16:16.118Z"
   },
   {
    "duration": 2,
    "start_time": "2022-09-07T22:16:16.135Z"
   },
   {
    "duration": 26,
    "start_time": "2022-09-07T22:16:16.139Z"
   },
   {
    "duration": 6,
    "start_time": "2022-09-07T22:16:16.167Z"
   },
   {
    "duration": 15,
    "start_time": "2022-09-07T22:16:16.174Z"
   },
   {
    "duration": 26,
    "start_time": "2022-09-07T22:16:16.191Z"
   },
   {
    "duration": 3,
    "start_time": "2022-09-07T22:16:16.219Z"
   },
   {
    "duration": 12,
    "start_time": "2022-09-07T22:16:16.223Z"
   },
   {
    "duration": 6,
    "start_time": "2022-09-07T22:16:16.258Z"
   },
   {
    "duration": 8,
    "start_time": "2022-09-07T22:16:16.265Z"
   },
   {
    "duration": 60,
    "start_time": "2022-09-07T22:16:16.275Z"
   },
   {
    "duration": 3,
    "start_time": "2022-09-07T22:16:16.337Z"
   },
   {
    "duration": 16,
    "start_time": "2022-09-07T22:16:16.341Z"
   },
   {
    "duration": 1328,
    "start_time": "2022-09-07T22:16:16.359Z"
   },
   {
    "duration": 0,
    "start_time": "2022-09-07T22:16:17.689Z"
   },
   {
    "duration": 0,
    "start_time": "2022-09-07T22:16:17.691Z"
   },
   {
    "duration": 5,
    "start_time": "2022-09-07T22:17:51.866Z"
   },
   {
    "duration": 5,
    "start_time": "2022-09-07T22:17:53.337Z"
   },
   {
    "duration": 5,
    "start_time": "2022-09-07T22:17:57.643Z"
   },
   {
    "duration": 6,
    "start_time": "2022-09-07T22:18:00.329Z"
   },
   {
    "duration": 4,
    "start_time": "2022-09-07T22:57:34.226Z"
   },
   {
    "duration": 43,
    "start_time": "2022-09-07T22:57:39.906Z"
   },
   {
    "duration": 3,
    "start_time": "2022-09-07T22:57:46.802Z"
   },
   {
    "duration": 182,
    "start_time": "2022-09-07T22:58:57.418Z"
   },
   {
    "duration": 1236,
    "start_time": "2022-09-08T09:21:31.299Z"
   },
   {
    "duration": 955,
    "start_time": "2022-09-08T09:21:32.537Z"
   },
   {
    "duration": 18,
    "start_time": "2022-09-08T09:21:33.494Z"
   },
   {
    "duration": 13,
    "start_time": "2022-09-08T09:21:33.514Z"
   },
   {
    "duration": 14,
    "start_time": "2022-09-08T09:21:33.529Z"
   },
   {
    "duration": 26,
    "start_time": "2022-09-08T09:21:33.545Z"
   },
   {
    "duration": 30,
    "start_time": "2022-09-08T09:21:33.573Z"
   },
   {
    "duration": 3,
    "start_time": "2022-09-08T09:21:33.604Z"
   },
   {
    "duration": 24,
    "start_time": "2022-09-08T09:21:33.608Z"
   },
   {
    "duration": 6,
    "start_time": "2022-09-08T09:21:33.634Z"
   },
   {
    "duration": 51,
    "start_time": "2022-09-08T09:21:33.642Z"
   },
   {
    "duration": 27,
    "start_time": "2022-09-08T09:21:33.695Z"
   },
   {
    "duration": 8,
    "start_time": "2022-09-08T09:21:33.724Z"
   },
   {
    "duration": 15,
    "start_time": "2022-09-08T09:21:33.733Z"
   },
   {
    "duration": 10,
    "start_time": "2022-09-08T09:21:33.750Z"
   },
   {
    "duration": 36,
    "start_time": "2022-09-08T09:21:33.762Z"
   },
   {
    "duration": 60,
    "start_time": "2022-09-08T09:21:33.800Z"
   },
   {
    "duration": 6,
    "start_time": "2022-09-08T09:21:33.862Z"
   },
   {
    "duration": 32,
    "start_time": "2022-09-08T09:21:33.869Z"
   },
   {
    "duration": 1790,
    "start_time": "2022-09-08T09:21:33.902Z"
   },
   {
    "duration": 0,
    "start_time": "2022-09-08T09:21:35.694Z"
   },
   {
    "duration": 53,
    "start_time": "2022-09-08T09:21:54.208Z"
   },
   {
    "duration": 396,
    "start_time": "2022-09-08T09:22:35.040Z"
   },
   {
    "duration": 775,
    "start_time": "2022-09-08T20:02:36.950Z"
   },
   {
    "duration": 312,
    "start_time": "2022-09-08T20:02:37.728Z"
   },
   {
    "duration": 18,
    "start_time": "2022-09-08T20:02:38.042Z"
   },
   {
    "duration": 12,
    "start_time": "2022-09-08T20:02:38.061Z"
   },
   {
    "duration": 15,
    "start_time": "2022-09-08T20:02:38.074Z"
   },
   {
    "duration": 22,
    "start_time": "2022-09-08T20:02:38.091Z"
   },
   {
    "duration": 16,
    "start_time": "2022-09-08T20:02:38.115Z"
   },
   {
    "duration": 2,
    "start_time": "2022-09-08T20:02:38.133Z"
   },
   {
    "duration": 23,
    "start_time": "2022-09-08T20:02:38.137Z"
   },
   {
    "duration": 6,
    "start_time": "2022-09-08T20:02:38.163Z"
   },
   {
    "duration": 30,
    "start_time": "2022-09-08T20:02:38.170Z"
   },
   {
    "duration": 26,
    "start_time": "2022-09-08T20:02:38.201Z"
   },
   {
    "duration": 2,
    "start_time": "2022-09-08T20:02:38.228Z"
   },
   {
    "duration": 9,
    "start_time": "2022-09-08T20:02:38.232Z"
   },
   {
    "duration": 5,
    "start_time": "2022-09-08T20:02:38.242Z"
   },
   {
    "duration": 11,
    "start_time": "2022-09-08T20:02:38.249Z"
   },
   {
    "duration": 72,
    "start_time": "2022-09-08T20:02:38.262Z"
   },
   {
    "duration": 5,
    "start_time": "2022-09-08T20:02:38.336Z"
   },
   {
    "duration": 5,
    "start_time": "2022-09-08T20:02:38.343Z"
   },
   {
    "duration": 352,
    "start_time": "2022-09-08T20:02:38.350Z"
   },
   {
    "duration": 0,
    "start_time": "2022-09-08T20:02:38.704Z"
   },
   {
    "duration": 22,
    "start_time": "2022-09-08T20:26:14.970Z"
   },
   {
    "duration": 8,
    "start_time": "2022-09-08T20:26:53.714Z"
   },
   {
    "duration": 68,
    "start_time": "2022-09-08T20:27:28.408Z"
   },
   {
    "duration": 3,
    "start_time": "2022-09-08T20:27:40.692Z"
   },
   {
    "duration": 91,
    "start_time": "2022-09-08T20:27:42.952Z"
   },
   {
    "duration": 13,
    "start_time": "2022-09-08T20:27:47.808Z"
   },
   {
    "duration": 8,
    "start_time": "2022-09-08T20:27:50.640Z"
   },
   {
    "duration": 4,
    "start_time": "2022-09-08T20:35:41.736Z"
   },
   {
    "duration": 92,
    "start_time": "2022-09-08T20:35:41.742Z"
   },
   {
    "duration": 14,
    "start_time": "2022-09-08T20:35:41.836Z"
   },
   {
    "duration": 14,
    "start_time": "2022-09-08T20:35:41.852Z"
   },
   {
    "duration": 13,
    "start_time": "2022-09-08T20:35:41.867Z"
   },
   {
    "duration": 26,
    "start_time": "2022-09-08T20:35:41.881Z"
   },
   {
    "duration": 22,
    "start_time": "2022-09-08T20:35:41.908Z"
   },
   {
    "duration": 17,
    "start_time": "2022-09-08T20:35:41.931Z"
   },
   {
    "duration": 2,
    "start_time": "2022-09-08T20:35:41.950Z"
   },
   {
    "duration": 24,
    "start_time": "2022-09-08T20:35:41.955Z"
   },
   {
    "duration": 5,
    "start_time": "2022-09-08T20:35:42.000Z"
   },
   {
    "duration": 12,
    "start_time": "2022-09-08T20:35:42.007Z"
   },
   {
    "duration": 27,
    "start_time": "2022-09-08T20:35:42.021Z"
   },
   {
    "duration": 2,
    "start_time": "2022-09-08T20:35:42.050Z"
   },
   {
    "duration": 12,
    "start_time": "2022-09-08T20:35:42.054Z"
   },
   {
    "duration": 7,
    "start_time": "2022-09-08T20:35:42.067Z"
   },
   {
    "duration": 3,
    "start_time": "2022-09-08T20:35:42.075Z"
   },
   {
    "duration": 60,
    "start_time": "2022-09-08T20:35:42.080Z"
   },
   {
    "duration": 5,
    "start_time": "2022-09-08T20:35:42.141Z"
   },
   {
    "duration": 5,
    "start_time": "2022-09-08T20:35:42.147Z"
   },
   {
    "duration": 179,
    "start_time": "2022-09-08T20:35:42.153Z"
   },
   {
    "duration": 0,
    "start_time": "2022-09-08T20:35:42.333Z"
   },
   {
    "duration": 198,
    "start_time": "2022-09-08T20:35:48.286Z"
   },
   {
    "duration": 29,
    "start_time": "2022-09-08T20:37:25.865Z"
   },
   {
    "duration": 209,
    "start_time": "2022-09-08T20:38:53.377Z"
   },
   {
    "duration": 196,
    "start_time": "2022-09-08T20:39:22.968Z"
   },
   {
    "duration": 232,
    "start_time": "2022-09-08T20:40:47.320Z"
   },
   {
    "duration": 202,
    "start_time": "2022-09-08T20:42:06.646Z"
   },
   {
    "duration": 2011,
    "start_time": "2022-09-08T20:42:19.956Z"
   },
   {
    "duration": 28,
    "start_time": "2022-09-08T20:42:22.889Z"
   },
   {
    "duration": 208,
    "start_time": "2022-09-08T20:43:06.598Z"
   },
   {
    "duration": 274,
    "start_time": "2022-09-08T20:43:12.191Z"
   },
   {
    "duration": 239,
    "start_time": "2022-09-08T20:43:30.877Z"
   },
   {
    "duration": 12,
    "start_time": "2022-09-08T20:44:51.116Z"
   },
   {
    "duration": 32,
    "start_time": "2022-09-08T20:44:53.452Z"
   },
   {
    "duration": 5,
    "start_time": "2022-09-08T20:45:04.756Z"
   },
   {
    "duration": 93,
    "start_time": "2022-09-08T20:45:04.763Z"
   },
   {
    "duration": 14,
    "start_time": "2022-09-08T20:45:04.858Z"
   },
   {
    "duration": 23,
    "start_time": "2022-09-08T20:45:04.874Z"
   },
   {
    "duration": 20,
    "start_time": "2022-09-08T20:45:04.899Z"
   },
   {
    "duration": 13,
    "start_time": "2022-09-08T20:45:04.920Z"
   },
   {
    "duration": 38,
    "start_time": "2022-09-08T20:45:04.934Z"
   },
   {
    "duration": 28,
    "start_time": "2022-09-08T20:45:04.973Z"
   },
   {
    "duration": 5,
    "start_time": "2022-09-08T20:45:05.003Z"
   },
   {
    "duration": 45,
    "start_time": "2022-09-08T20:45:05.010Z"
   },
   {
    "duration": 6,
    "start_time": "2022-09-08T20:45:05.056Z"
   },
   {
    "duration": 20,
    "start_time": "2022-09-08T20:45:05.063Z"
   },
   {
    "duration": 41,
    "start_time": "2022-09-08T20:45:05.084Z"
   },
   {
    "duration": 21,
    "start_time": "2022-09-08T20:45:05.127Z"
   },
   {
    "duration": 15,
    "start_time": "2022-09-08T20:45:05.150Z"
   },
   {
    "duration": 21,
    "start_time": "2022-09-08T20:45:05.166Z"
   },
   {
    "duration": 16,
    "start_time": "2022-09-08T20:45:05.189Z"
   },
   {
    "duration": 54,
    "start_time": "2022-09-08T20:45:05.207Z"
   },
   {
    "duration": 5,
    "start_time": "2022-09-08T20:45:05.263Z"
   },
   {
    "duration": 29,
    "start_time": "2022-09-08T20:45:05.269Z"
   },
   {
    "duration": 70,
    "start_time": "2022-09-08T20:45:05.300Z"
   },
   {
    "duration": 0,
    "start_time": "2022-09-08T20:45:05.372Z"
   },
   {
    "duration": 0,
    "start_time": "2022-09-08T20:45:05.373Z"
   },
   {
    "duration": 24,
    "start_time": "2022-09-08T20:45:08.290Z"
   },
   {
    "duration": 16,
    "start_time": "2022-09-08T20:55:14.453Z"
   },
   {
    "duration": 27,
    "start_time": "2022-09-08T20:55:16.310Z"
   },
   {
    "duration": 210,
    "start_time": "2022-09-08T20:55:34.277Z"
   },
   {
    "duration": 217,
    "start_time": "2022-09-08T20:57:34.237Z"
   },
   {
    "duration": 13,
    "start_time": "2022-09-08T20:57:42.420Z"
   },
   {
    "duration": 25,
    "start_time": "2022-09-08T20:57:45.740Z"
   },
   {
    "duration": 21,
    "start_time": "2022-09-08T20:57:56.444Z"
   },
   {
    "duration": 3,
    "start_time": "2022-09-08T20:58:39.235Z"
   },
   {
    "duration": 90,
    "start_time": "2022-09-08T20:58:39.240Z"
   },
   {
    "duration": 13,
    "start_time": "2022-09-08T20:58:39.332Z"
   },
   {
    "duration": 15,
    "start_time": "2022-09-08T20:58:39.347Z"
   },
   {
    "duration": 11,
    "start_time": "2022-09-08T20:58:39.364Z"
   },
   {
    "duration": 24,
    "start_time": "2022-09-08T20:58:39.376Z"
   },
   {
    "duration": 20,
    "start_time": "2022-09-08T20:58:39.401Z"
   },
   {
    "duration": 17,
    "start_time": "2022-09-08T20:58:39.422Z"
   },
   {
    "duration": 3,
    "start_time": "2022-09-08T20:58:39.441Z"
   },
   {
    "duration": 30,
    "start_time": "2022-09-08T20:58:39.446Z"
   },
   {
    "duration": 5,
    "start_time": "2022-09-08T20:58:39.477Z"
   },
   {
    "duration": 23,
    "start_time": "2022-09-08T20:58:39.483Z"
   },
   {
    "duration": 22,
    "start_time": "2022-09-08T20:58:39.508Z"
   },
   {
    "duration": 2,
    "start_time": "2022-09-08T20:58:39.532Z"
   },
   {
    "duration": 8,
    "start_time": "2022-09-08T20:58:39.536Z"
   },
   {
    "duration": 4,
    "start_time": "2022-09-08T20:58:39.546Z"
   },
   {
    "duration": 4,
    "start_time": "2022-09-08T20:58:39.552Z"
   },
   {
    "duration": 68,
    "start_time": "2022-09-08T20:58:39.558Z"
   },
   {
    "duration": 4,
    "start_time": "2022-09-08T20:58:39.628Z"
   },
   {
    "duration": 9,
    "start_time": "2022-09-08T20:58:39.633Z"
   },
   {
    "duration": 74,
    "start_time": "2022-09-08T20:58:39.643Z"
   },
   {
    "duration": 0,
    "start_time": "2022-09-08T20:58:39.718Z"
   },
   {
    "duration": 0,
    "start_time": "2022-09-08T20:58:39.721Z"
   },
   {
    "duration": 20,
    "start_time": "2022-09-08T20:58:46.443Z"
   },
   {
    "duration": 8,
    "start_time": "2022-09-08T20:59:30.746Z"
   },
   {
    "duration": 19,
    "start_time": "2022-09-08T20:59:32.356Z"
   },
   {
    "duration": 5,
    "start_time": "2022-09-08T21:00:00.723Z"
   },
   {
    "duration": 5,
    "start_time": "2022-09-08T21:00:06.074Z"
   },
   {
    "duration": 5,
    "start_time": "2022-09-08T21:00:15.562Z"
   },
   {
    "duration": 8,
    "start_time": "2022-09-08T21:00:20.931Z"
   },
   {
    "duration": 5,
    "start_time": "2022-09-08T21:00:26.195Z"
   },
   {
    "duration": 81,
    "start_time": "2022-09-08T21:00:51.657Z"
   },
   {
    "duration": 3,
    "start_time": "2022-09-08T21:00:53.920Z"
   },
   {
    "duration": 84,
    "start_time": "2022-09-08T21:00:53.925Z"
   },
   {
    "duration": 13,
    "start_time": "2022-09-08T21:00:54.010Z"
   },
   {
    "duration": 13,
    "start_time": "2022-09-08T21:00:54.025Z"
   },
   {
    "duration": 12,
    "start_time": "2022-09-08T21:00:54.039Z"
   },
   {
    "duration": 7,
    "start_time": "2022-09-08T21:00:54.053Z"
   },
   {
    "duration": 38,
    "start_time": "2022-09-08T21:00:54.062Z"
   },
   {
    "duration": 16,
    "start_time": "2022-09-08T21:00:54.102Z"
   },
   {
    "duration": 3,
    "start_time": "2022-09-08T21:00:54.119Z"
   },
   {
    "duration": 23,
    "start_time": "2022-09-08T21:00:54.124Z"
   },
   {
    "duration": 6,
    "start_time": "2022-09-08T21:00:54.148Z"
   },
   {
    "duration": 19,
    "start_time": "2022-09-08T21:00:54.156Z"
   },
   {
    "duration": 49,
    "start_time": "2022-09-08T21:00:54.177Z"
   },
   {
    "duration": 2,
    "start_time": "2022-09-08T21:00:54.228Z"
   },
   {
    "duration": 16,
    "start_time": "2022-09-08T21:00:54.231Z"
   },
   {
    "duration": 8,
    "start_time": "2022-09-08T21:00:54.248Z"
   },
   {
    "duration": 4,
    "start_time": "2022-09-08T21:00:54.257Z"
   },
   {
    "duration": 59,
    "start_time": "2022-09-08T21:00:54.262Z"
   },
   {
    "duration": 4,
    "start_time": "2022-09-08T21:00:54.323Z"
   },
   {
    "duration": 5,
    "start_time": "2022-09-08T21:00:54.329Z"
   },
   {
    "duration": 1715,
    "start_time": "2022-09-08T21:00:54.335Z"
   },
   {
    "duration": 6,
    "start_time": "2022-09-08T21:00:56.051Z"
   },
   {
    "duration": 7,
    "start_time": "2022-09-08T21:00:56.058Z"
   },
   {
    "duration": 5,
    "start_time": "2022-09-08T21:00:57.481Z"
   },
   {
    "duration": 4,
    "start_time": "2022-09-08T21:01:33.266Z"
   },
   {
    "duration": 62,
    "start_time": "2022-09-08T21:01:54.442Z"
   },
   {
    "duration": 135,
    "start_time": "2022-09-08T21:02:16.225Z"
   },
   {
    "duration": 1636,
    "start_time": "2022-09-08T21:02:25.400Z"
   },
   {
    "duration": 29,
    "start_time": "2022-09-08T21:03:07.624Z"
   },
   {
    "duration": 280,
    "start_time": "2022-09-08T21:03:46.391Z"
   },
   {
    "duration": 5,
    "start_time": "2022-09-08T21:03:48.391Z"
   },
   {
    "duration": 4,
    "start_time": "2022-09-08T21:03:50.944Z"
   },
   {
    "duration": 17,
    "start_time": "2022-09-08T21:04:08.824Z"
   },
   {
    "duration": 4,
    "start_time": "2022-09-08T21:04:24.635Z"
   },
   {
    "duration": 83,
    "start_time": "2022-09-08T21:04:24.640Z"
   },
   {
    "duration": 13,
    "start_time": "2022-09-08T21:04:24.724Z"
   },
   {
    "duration": 13,
    "start_time": "2022-09-08T21:04:24.738Z"
   },
   {
    "duration": 13,
    "start_time": "2022-09-08T21:04:24.752Z"
   },
   {
    "duration": 7,
    "start_time": "2022-09-08T21:04:24.766Z"
   },
   {
    "duration": 38,
    "start_time": "2022-09-08T21:04:24.774Z"
   },
   {
    "duration": 15,
    "start_time": "2022-09-08T21:04:24.813Z"
   },
   {
    "duration": 3,
    "start_time": "2022-09-08T21:04:24.830Z"
   },
   {
    "duration": 31,
    "start_time": "2022-09-08T21:04:24.835Z"
   },
   {
    "duration": 5,
    "start_time": "2022-09-08T21:04:24.867Z"
   },
   {
    "duration": 10,
    "start_time": "2022-09-08T21:04:24.874Z"
   },
   {
    "duration": 33,
    "start_time": "2022-09-08T21:04:24.885Z"
   },
   {
    "duration": 2,
    "start_time": "2022-09-08T21:04:24.920Z"
   },
   {
    "duration": 8,
    "start_time": "2022-09-08T21:04:24.923Z"
   },
   {
    "duration": 5,
    "start_time": "2022-09-08T21:04:24.933Z"
   },
   {
    "duration": 3,
    "start_time": "2022-09-08T21:04:24.939Z"
   },
   {
    "duration": 70,
    "start_time": "2022-09-08T21:04:24.943Z"
   },
   {
    "duration": 5,
    "start_time": "2022-09-08T21:04:25.014Z"
   },
   {
    "duration": 9,
    "start_time": "2022-09-08T21:04:25.021Z"
   },
   {
    "duration": 303,
    "start_time": "2022-09-08T21:04:25.031Z"
   },
   {
    "duration": 21,
    "start_time": "2022-09-08T21:04:25.335Z"
   },
   {
    "duration": 3,
    "start_time": "2022-09-08T21:04:25.358Z"
   },
   {
    "duration": 19,
    "start_time": "2022-09-08T21:04:30.768Z"
   },
   {
    "duration": 4,
    "start_time": "2022-09-08T21:53:19.859Z"
   },
   {
    "duration": 22,
    "start_time": "2022-09-08T21:53:33.202Z"
   },
   {
    "duration": 93,
    "start_time": "2022-09-11T20:13:57.767Z"
   },
   {
    "duration": 71,
    "start_time": "2022-09-11T20:14:01.717Z"
   },
   {
    "duration": 36,
    "start_time": "2022-09-11T20:14:11.321Z"
   },
   {
    "duration": 7,
    "start_time": "2022-09-11T20:14:14.045Z"
   },
   {
    "duration": 776,
    "start_time": "2022-09-11T20:14:16.909Z"
   },
   {
    "duration": 150,
    "start_time": "2022-09-11T20:14:17.687Z"
   },
   {
    "duration": 19,
    "start_time": "2022-09-11T20:14:17.838Z"
   },
   {
    "duration": 12,
    "start_time": "2022-09-11T20:14:17.859Z"
   },
   {
    "duration": 16,
    "start_time": "2022-09-11T20:14:17.873Z"
   },
   {
    "duration": 19,
    "start_time": "2022-09-11T20:14:17.890Z"
   },
   {
    "duration": 22,
    "start_time": "2022-09-11T20:14:17.911Z"
   },
   {
    "duration": 17,
    "start_time": "2022-09-11T20:14:17.934Z"
   },
   {
    "duration": 3,
    "start_time": "2022-09-11T20:14:17.953Z"
   },
   {
    "duration": 27,
    "start_time": "2022-09-11T20:14:17.958Z"
   },
   {
    "duration": 22,
    "start_time": "2022-09-11T20:14:17.986Z"
   },
   {
    "duration": 12,
    "start_time": "2022-09-11T20:14:18.010Z"
   },
   {
    "duration": 28,
    "start_time": "2022-09-11T20:14:18.023Z"
   },
   {
    "duration": 2,
    "start_time": "2022-09-11T20:14:18.053Z"
   },
   {
    "duration": 10,
    "start_time": "2022-09-11T20:14:18.057Z"
   },
   {
    "duration": 6,
    "start_time": "2022-09-11T20:14:18.068Z"
   },
   {
    "duration": 4,
    "start_time": "2022-09-11T20:14:18.107Z"
   },
   {
    "duration": 52,
    "start_time": "2022-09-11T20:14:18.113Z"
   },
   {
    "duration": 5,
    "start_time": "2022-09-11T20:14:18.167Z"
   },
   {
    "duration": 5,
    "start_time": "2022-09-11T20:14:18.173Z"
   },
   {
    "duration": 329,
    "start_time": "2022-09-11T20:14:18.180Z"
   },
   {
    "duration": 19,
    "start_time": "2022-09-11T20:14:18.511Z"
   },
   {
    "duration": 5,
    "start_time": "2022-09-11T20:14:18.531Z"
   },
   {
    "duration": 335,
    "start_time": "2022-09-11T20:15:37.604Z"
   },
   {
    "duration": 294,
    "start_time": "2022-09-11T20:15:48.003Z"
   },
   {
    "duration": 9,
    "start_time": "2022-09-11T20:16:05.763Z"
   },
   {
    "duration": 10,
    "start_time": "2022-09-11T20:16:19.339Z"
   },
   {
    "duration": 9,
    "start_time": "2022-09-11T20:16:22.746Z"
   },
   {
    "duration": 819,
    "start_time": "2022-09-12T14:03:32.034Z"
   },
   {
    "duration": 312,
    "start_time": "2022-09-12T14:03:34.018Z"
   },
   {
    "duration": 17,
    "start_time": "2022-09-12T14:03:36.299Z"
   },
   {
    "duration": 13,
    "start_time": "2022-09-12T14:03:39.713Z"
   },
   {
    "duration": 93,
    "start_time": "2022-09-12T14:03:54.569Z"
   },
   {
    "duration": 7,
    "start_time": "2022-09-12T14:04:21.931Z"
   },
   {
    "duration": 9,
    "start_time": "2022-09-12T14:04:24.856Z"
   },
   {
    "duration": 19,
    "start_time": "2022-09-12T14:04:42.232Z"
   },
   {
    "duration": 5,
    "start_time": "2022-09-12T14:05:00.864Z"
   },
   {
    "duration": 13,
    "start_time": "2022-09-12T14:05:06.976Z"
   },
   {
    "duration": 8,
    "start_time": "2022-09-12T14:05:21.776Z"
   },
   {
    "duration": 505,
    "start_time": "2022-09-12T16:09:33.074Z"
   },
   {
    "duration": 16,
    "start_time": "2022-09-12T16:09:39.145Z"
   },
   {
    "duration": 4,
    "start_time": "2022-09-12T16:09:40.985Z"
   },
   {
    "duration": 14,
    "start_time": "2022-09-12T16:09:43.089Z"
   },
   {
    "duration": 7,
    "start_time": "2022-09-12T16:09:45.170Z"
   },
   {
    "duration": 4,
    "start_time": "2022-09-12T16:10:34.306Z"
   },
   {
    "duration": 26,
    "start_time": "2022-09-12T16:10:38.544Z"
   },
   {
    "duration": 20,
    "start_time": "2022-09-12T16:20:18.092Z"
   },
   {
    "duration": 52,
    "start_time": "2022-09-12T16:20:46.099Z"
   },
   {
    "duration": 105,
    "start_time": "2022-09-12T16:25:02.441Z"
   },
   {
    "duration": 913,
    "start_time": "2022-09-12T16:25:06.921Z"
   },
   {
    "duration": 9,
    "start_time": "2022-09-12T16:25:13.256Z"
   },
   {
    "duration": 22,
    "start_time": "2022-09-12T16:31:37.293Z"
   },
   {
    "duration": 13,
    "start_time": "2022-09-12T17:45:36.642Z"
   },
   {
    "duration": 7,
    "start_time": "2022-09-12T17:45:39.921Z"
   },
   {
    "duration": 5,
    "start_time": "2022-09-12T17:47:07.377Z"
   },
   {
    "duration": 5,
    "start_time": "2022-09-12T17:47:14.593Z"
   },
   {
    "duration": 5,
    "start_time": "2022-09-12T17:47:18.304Z"
   },
   {
    "duration": 5,
    "start_time": "2022-09-12T17:58:47.835Z"
   },
   {
    "duration": 57,
    "start_time": "2022-09-12T18:08:06.484Z"
   },
   {
    "duration": 7,
    "start_time": "2022-09-12T20:00:51.344Z"
   },
   {
    "duration": 9,
    "start_time": "2022-09-12T20:01:06.709Z"
   },
   {
    "duration": 7,
    "start_time": "2022-09-12T20:08:37.747Z"
   },
   {
    "duration": 2157,
    "start_time": "2022-09-12T20:08:50.776Z"
   },
   {
    "duration": 5,
    "start_time": "2022-09-12T20:09:42.127Z"
   },
   {
    "duration": 5,
    "start_time": "2022-09-12T20:09:48.127Z"
   },
   {
    "duration": 5,
    "start_time": "2022-09-12T20:10:07.463Z"
   },
   {
    "duration": 4,
    "start_time": "2022-09-12T20:10:41.642Z"
   },
   {
    "duration": 156,
    "start_time": "2022-09-12T20:10:41.648Z"
   },
   {
    "duration": 12,
    "start_time": "2022-09-12T20:10:41.806Z"
   },
   {
    "duration": 11,
    "start_time": "2022-09-12T20:10:41.820Z"
   },
   {
    "duration": 13,
    "start_time": "2022-09-12T20:10:41.833Z"
   },
   {
    "duration": 8,
    "start_time": "2022-09-12T20:10:41.848Z"
   },
   {
    "duration": 19,
    "start_time": "2022-09-12T20:10:41.857Z"
   },
   {
    "duration": 33,
    "start_time": "2022-09-12T20:10:41.877Z"
   },
   {
    "duration": 14,
    "start_time": "2022-09-12T20:10:41.911Z"
   },
   {
    "duration": 5,
    "start_time": "2022-09-12T20:10:41.927Z"
   },
   {
    "duration": 11,
    "start_time": "2022-09-12T20:10:52.286Z"
   },
   {
    "duration": 4,
    "start_time": "2022-09-12T20:18:30.962Z"
   },
   {
    "duration": 22,
    "start_time": "2022-09-12T20:27:00.205Z"
   },
   {
    "duration": 6,
    "start_time": "2022-09-12T20:27:45.774Z"
   },
   {
    "duration": 6,
    "start_time": "2022-09-12T20:27:51.636Z"
   },
   {
    "duration": 1244,
    "start_time": "2022-09-14T18:08:21.556Z"
   },
   {
    "duration": 293,
    "start_time": "2022-09-14T18:08:22.804Z"
   },
   {
    "duration": 24,
    "start_time": "2022-09-14T18:08:23.099Z"
   },
   {
    "duration": 13,
    "start_time": "2022-09-14T18:08:23.124Z"
   },
   {
    "duration": 17,
    "start_time": "2022-09-14T18:08:23.138Z"
   },
   {
    "duration": 10,
    "start_time": "2022-09-14T18:08:23.157Z"
   },
   {
    "duration": 61,
    "start_time": "2022-09-14T18:08:23.168Z"
   },
   {
    "duration": 12,
    "start_time": "2022-09-14T18:08:23.230Z"
   },
   {
    "duration": 14,
    "start_time": "2022-09-14T18:08:23.243Z"
   },
   {
    "duration": 5,
    "start_time": "2022-09-14T18:08:23.259Z"
   },
   {
    "duration": 4,
    "start_time": "2022-09-14T18:08:23.265Z"
   },
   {
    "duration": 86,
    "start_time": "2022-09-14T18:09:25.634Z"
   },
   {
    "duration": 4,
    "start_time": "2022-09-14T18:09:38.034Z"
   },
   {
    "duration": 4,
    "start_time": "2022-09-14T18:10:34.002Z"
   },
   {
    "duration": 5,
    "start_time": "2022-09-14T18:10:38.427Z"
   },
   {
    "duration": 7,
    "start_time": "2022-09-14T18:10:51.099Z"
   },
   {
    "duration": 4,
    "start_time": "2022-09-14T18:10:55.250Z"
   },
   {
    "duration": 5,
    "start_time": "2022-09-14T18:11:12.794Z"
   },
   {
    "duration": 5,
    "start_time": "2022-09-14T18:13:22.968Z"
   },
   {
    "duration": 5,
    "start_time": "2022-09-14T18:13:46.943Z"
   },
   {
    "duration": 8,
    "start_time": "2022-09-14T18:13:49.191Z"
   },
   {
    "duration": 4,
    "start_time": "2022-09-14T18:13:54.752Z"
   },
   {
    "duration": 8,
    "start_time": "2022-09-14T18:13:59.015Z"
   },
   {
    "duration": 5,
    "start_time": "2022-09-14T18:15:23.694Z"
   },
   {
    "duration": 9,
    "start_time": "2022-09-14T18:15:30.574Z"
   },
   {
    "duration": 6,
    "start_time": "2022-09-14T18:16:14.526Z"
   },
   {
    "duration": 5,
    "start_time": "2022-09-14T18:16:29.069Z"
   },
   {
    "duration": 8,
    "start_time": "2022-09-14T18:16:30.526Z"
   },
   {
    "duration": 28,
    "start_time": "2022-09-14T18:18:24.501Z"
   },
   {
    "duration": 20,
    "start_time": "2022-09-14T18:18:50.700Z"
   },
   {
    "duration": 13,
    "start_time": "2022-09-14T18:19:12.428Z"
   },
   {
    "duration": 14,
    "start_time": "2022-09-14T18:19:27.240Z"
   },
   {
    "duration": 216,
    "start_time": "2022-09-14T18:20:02.317Z"
   },
   {
    "duration": 65,
    "start_time": "2022-09-14T18:20:06.627Z"
   },
   {
    "duration": 8,
    "start_time": "2022-09-14T18:21:36.997Z"
   },
   {
    "duration": 14,
    "start_time": "2022-09-14T18:22:16.789Z"
   },
   {
    "duration": 14,
    "start_time": "2022-09-14T18:22:31.346Z"
   },
   {
    "duration": 8,
    "start_time": "2022-09-14T18:22:46.586Z"
   },
   {
    "duration": 9,
    "start_time": "2022-09-14T18:22:48.729Z"
   },
   {
    "duration": 18,
    "start_time": "2022-09-14T18:22:58.115Z"
   },
   {
    "duration": 10,
    "start_time": "2022-09-14T18:29:32.148Z"
   },
   {
    "duration": 17,
    "start_time": "2022-09-14T18:30:17.099Z"
   },
   {
    "duration": 9,
    "start_time": "2022-09-14T18:31:49.340Z"
   },
   {
    "duration": 16,
    "start_time": "2022-09-14T18:31:54.479Z"
   },
   {
    "duration": 27,
    "start_time": "2022-09-14T18:32:01.147Z"
   },
   {
    "duration": 6,
    "start_time": "2022-09-14T18:32:10.436Z"
   },
   {
    "duration": 34,
    "start_time": "2022-09-14T18:32:44.110Z"
   },
   {
    "duration": 13,
    "start_time": "2022-09-14T18:37:26.912Z"
   },
   {
    "duration": 10,
    "start_time": "2022-09-14T18:37:40.151Z"
   },
   {
    "duration": 9,
    "start_time": "2022-09-14T18:38:03.648Z"
   },
   {
    "duration": 5,
    "start_time": "2022-09-14T18:39:15.655Z"
   },
   {
    "duration": 9,
    "start_time": "2022-09-14T18:48:17.133Z"
   },
   {
    "duration": 5,
    "start_time": "2022-09-14T18:49:19.100Z"
   },
   {
    "duration": 5,
    "start_time": "2022-09-14T18:49:36.144Z"
   },
   {
    "duration": 2,
    "start_time": "2022-09-14T18:51:25.459Z"
   },
   {
    "duration": 3,
    "start_time": "2022-09-14T19:16:40.842Z"
   },
   {
    "duration": 121,
    "start_time": "2022-09-14T19:25:39.603Z"
   },
   {
    "duration": 104,
    "start_time": "2022-09-14T19:26:13.089Z"
   },
   {
    "duration": 205,
    "start_time": "2022-09-14T19:26:21.535Z"
   },
   {
    "duration": 163,
    "start_time": "2022-09-14T19:29:42.906Z"
   },
   {
    "duration": 6,
    "start_time": "2022-09-14T19:31:01.163Z"
   },
   {
    "duration": 5,
    "start_time": "2022-09-14T19:31:12.260Z"
   },
   {
    "duration": 102,
    "start_time": "2022-09-14T19:31:21.652Z"
   },
   {
    "duration": 115,
    "start_time": "2022-09-14T19:31:25.417Z"
   },
   {
    "duration": 181,
    "start_time": "2022-09-14T19:31:31.867Z"
   },
   {
    "duration": 99,
    "start_time": "2022-09-14T19:31:34.685Z"
   },
   {
    "duration": 104,
    "start_time": "2022-09-14T19:31:39.887Z"
   },
   {
    "duration": 127,
    "start_time": "2022-09-14T19:31:48.117Z"
   },
   {
    "duration": 108,
    "start_time": "2022-09-14T19:31:51.306Z"
   },
   {
    "duration": 120,
    "start_time": "2022-09-14T19:31:53.820Z"
   },
   {
    "duration": 49,
    "start_time": "2022-09-18T11:31:39.754Z"
   },
   {
    "duration": 1354,
    "start_time": "2022-09-19T10:15:39.056Z"
   },
   {
    "duration": 297,
    "start_time": "2022-09-19T10:15:40.411Z"
   },
   {
    "duration": 23,
    "start_time": "2022-09-19T10:15:40.710Z"
   },
   {
    "duration": 15,
    "start_time": "2022-09-19T10:15:40.735Z"
   },
   {
    "duration": 31,
    "start_time": "2022-09-19T10:15:40.752Z"
   },
   {
    "duration": 25,
    "start_time": "2022-09-19T10:15:40.784Z"
   },
   {
    "duration": 34,
    "start_time": "2022-09-19T10:15:40.811Z"
   },
   {
    "duration": 6,
    "start_time": "2022-09-19T10:15:40.847Z"
   },
   {
    "duration": 39,
    "start_time": "2022-09-19T10:15:40.855Z"
   },
   {
    "duration": 8,
    "start_time": "2022-09-19T10:15:40.897Z"
   },
   {
    "duration": 11,
    "start_time": "2022-09-19T10:15:40.906Z"
   },
   {
    "duration": 7,
    "start_time": "2022-09-19T10:15:40.920Z"
   },
   {
    "duration": 7,
    "start_time": "2022-09-19T10:15:40.928Z"
   },
   {
    "duration": 16,
    "start_time": "2022-09-19T10:15:40.937Z"
   },
   {
    "duration": 10,
    "start_time": "2022-09-19T10:15:40.955Z"
   },
   {
    "duration": 44,
    "start_time": "2022-09-19T10:15:40.966Z"
   },
   {
    "duration": 7,
    "start_time": "2022-09-19T10:15:41.012Z"
   },
   {
    "duration": 20,
    "start_time": "2022-09-19T10:15:41.020Z"
   },
   {
    "duration": 31,
    "start_time": "2022-09-19T10:15:41.042Z"
   },
   {
    "duration": 8,
    "start_time": "2022-09-19T10:15:41.075Z"
   },
   {
    "duration": 7,
    "start_time": "2022-09-19T10:15:41.109Z"
   },
   {
    "duration": 5,
    "start_time": "2022-09-19T10:15:41.118Z"
   },
   {
    "duration": 84,
    "start_time": "2022-09-19T10:15:41.125Z"
   },
   {
    "duration": 4,
    "start_time": "2022-09-19T10:15:41.211Z"
   },
   {
    "duration": 6,
    "start_time": "2022-09-19T10:15:41.217Z"
   },
   {
    "duration": 375,
    "start_time": "2022-09-19T10:15:41.224Z"
   },
   {
    "duration": 30,
    "start_time": "2022-09-19T10:15:41.601Z"
   },
   {
    "duration": 4,
    "start_time": "2022-09-19T10:15:41.634Z"
   },
   {
    "duration": 160,
    "start_time": "2022-09-19T10:15:41.640Z"
   },
   {
    "duration": 2,
    "start_time": "2022-09-19T10:18:58.300Z"
   },
   {
    "duration": 3,
    "start_time": "2022-09-19T10:19:15.822Z"
   },
   {
    "duration": 144,
    "start_time": "2022-09-19T10:19:39.015Z"
   },
   {
    "duration": 106,
    "start_time": "2022-09-19T11:01:00.791Z"
   },
   {
    "duration": 134,
    "start_time": "2022-09-19T11:01:06.966Z"
   },
   {
    "duration": 4,
    "start_time": "2022-09-20T15:14:55.360Z"
   },
   {
    "duration": 51,
    "start_time": "2022-09-20T15:23:10.170Z"
   },
   {
    "duration": 1461,
    "start_time": "2022-09-20T15:23:17.105Z"
   },
   {
    "duration": 299,
    "start_time": "2022-09-20T15:23:18.568Z"
   },
   {
    "duration": 18,
    "start_time": "2022-09-20T15:23:18.869Z"
   },
   {
    "duration": 13,
    "start_time": "2022-09-20T15:23:18.889Z"
   },
   {
    "duration": 14,
    "start_time": "2022-09-20T15:23:18.905Z"
   },
   {
    "duration": 9,
    "start_time": "2022-09-20T15:23:18.922Z"
   },
   {
    "duration": 22,
    "start_time": "2022-09-20T15:23:18.933Z"
   },
   {
    "duration": 6,
    "start_time": "2022-09-20T15:23:18.957Z"
   },
   {
    "duration": 13,
    "start_time": "2022-09-20T15:23:18.965Z"
   },
   {
    "duration": 30,
    "start_time": "2022-09-20T15:23:18.980Z"
   },
   {
    "duration": 3,
    "start_time": "2022-09-20T15:23:19.011Z"
   },
   {
    "duration": 6,
    "start_time": "2022-09-20T15:23:19.016Z"
   },
   {
    "duration": 5,
    "start_time": "2022-09-20T15:23:19.024Z"
   },
   {
    "duration": 17,
    "start_time": "2022-09-20T15:23:19.031Z"
   },
   {
    "duration": 7,
    "start_time": "2022-09-20T15:23:19.049Z"
   },
   {
    "duration": 16,
    "start_time": "2022-09-20T15:23:19.058Z"
   },
   {
    "duration": 34,
    "start_time": "2022-09-20T15:23:19.076Z"
   },
   {
    "duration": 11,
    "start_time": "2022-09-20T15:23:19.112Z"
   },
   {
    "duration": 29,
    "start_time": "2022-09-20T15:23:19.125Z"
   },
   {
    "duration": 6,
    "start_time": "2022-09-20T15:23:19.156Z"
   },
   {
    "duration": 8,
    "start_time": "2022-09-20T15:23:19.163Z"
   },
   {
    "duration": 3,
    "start_time": "2022-09-20T15:23:19.172Z"
   },
   {
    "duration": 78,
    "start_time": "2022-09-20T15:23:19.177Z"
   },
   {
    "duration": 5,
    "start_time": "2022-09-20T15:23:19.256Z"
   },
   {
    "duration": 11,
    "start_time": "2022-09-20T15:23:19.262Z"
   },
   {
    "duration": 340,
    "start_time": "2022-09-20T15:23:20.450Z"
   },
   {
    "duration": 21,
    "start_time": "2022-09-20T15:23:23.106Z"
   },
   {
    "duration": 4,
    "start_time": "2022-09-20T15:24:40.835Z"
   },
   {
    "duration": 29,
    "start_time": "2022-09-20T15:24:49.968Z"
   },
   {
    "duration": 7,
    "start_time": "2022-09-20T15:27:55.711Z"
   },
   {
    "duration": 10,
    "start_time": "2022-09-20T15:28:25.979Z"
   },
   {
    "duration": 117,
    "start_time": "2022-09-20T15:32:37.018Z"
   },
   {
    "duration": 128,
    "start_time": "2022-09-20T15:32:40.246Z"
   },
   {
    "duration": 124,
    "start_time": "2022-09-20T15:32:45.461Z"
   },
   {
    "duration": 115,
    "start_time": "2022-09-20T15:32:48.884Z"
   },
   {
    "duration": 126,
    "start_time": "2022-09-20T15:33:33.149Z"
   },
   {
    "duration": 161,
    "start_time": "2022-09-20T15:33:40.874Z"
   },
   {
    "duration": 2,
    "start_time": "2022-09-20T16:02:53.566Z"
   },
   {
    "duration": 1267,
    "start_time": "2022-09-22T20:32:33.874Z"
   },
   {
    "duration": 198,
    "start_time": "2022-09-22T20:32:35.152Z"
   },
   {
    "duration": 18,
    "start_time": "2022-09-22T20:32:35.353Z"
   },
   {
    "duration": 13,
    "start_time": "2022-09-22T20:32:35.373Z"
   },
   {
    "duration": 37,
    "start_time": "2022-09-22T20:32:35.387Z"
   },
   {
    "duration": 20,
    "start_time": "2022-09-22T20:32:35.431Z"
   },
   {
    "duration": 29,
    "start_time": "2022-09-22T20:32:35.453Z"
   },
   {
    "duration": 4,
    "start_time": "2022-09-22T20:32:35.484Z"
   },
   {
    "duration": 31,
    "start_time": "2022-09-22T20:32:35.490Z"
   },
   {
    "duration": 35,
    "start_time": "2022-09-22T20:32:35.527Z"
   },
   {
    "duration": 14,
    "start_time": "2022-09-22T20:32:35.564Z"
   },
   {
    "duration": 25,
    "start_time": "2022-09-22T20:32:35.579Z"
   },
   {
    "duration": 24,
    "start_time": "2022-09-22T20:32:35.605Z"
   },
   {
    "duration": 55,
    "start_time": "2022-09-22T20:32:35.630Z"
   },
   {
    "duration": 12,
    "start_time": "2022-09-22T20:32:35.687Z"
   },
   {
    "duration": 30,
    "start_time": "2022-09-22T20:32:35.700Z"
   },
   {
    "duration": 24,
    "start_time": "2022-09-22T20:32:35.736Z"
   },
   {
    "duration": 30,
    "start_time": "2022-09-22T20:32:35.761Z"
   },
   {
    "duration": 51,
    "start_time": "2022-09-22T20:32:35.792Z"
   },
   {
    "duration": 42,
    "start_time": "2022-09-22T20:32:35.852Z"
   },
   {
    "duration": 28,
    "start_time": "2022-09-22T20:32:35.896Z"
   },
   {
    "duration": 5,
    "start_time": "2022-09-22T20:32:54.466Z"
   },
   {
    "duration": 16,
    "start_time": "2022-09-22T20:32:57.924Z"
   },
   {
    "duration": 6,
    "start_time": "2022-09-22T20:33:15.666Z"
   },
   {
    "duration": 12,
    "start_time": "2022-09-22T20:33:19.323Z"
   },
   {
    "duration": 5,
    "start_time": "2022-09-22T20:33:22.194Z"
   },
   {
    "duration": 38,
    "start_time": "2022-09-22T20:33:30.667Z"
   },
   {
    "duration": 7,
    "start_time": "2022-09-22T20:34:08.578Z"
   },
   {
    "duration": 32,
    "start_time": "2022-09-22T20:34:12.053Z"
   },
   {
    "duration": 104,
    "start_time": "2022-09-22T20:34:16.606Z"
   },
   {
    "duration": 9,
    "start_time": "2022-09-22T20:34:21.354Z"
   },
   {
    "duration": 42,
    "start_time": "2022-09-22T20:34:23.244Z"
   },
   {
    "duration": 9,
    "start_time": "2022-09-22T20:34:54.666Z"
   },
   {
    "duration": 36,
    "start_time": "2022-09-22T20:34:56.412Z"
   },
   {
    "duration": 12,
    "start_time": "2022-09-22T20:35:47.741Z"
   },
   {
    "duration": 6,
    "start_time": "2022-09-22T20:35:51.843Z"
   },
   {
    "duration": 113,
    "start_time": "2022-09-22T20:35:51.851Z"
   },
   {
    "duration": 14,
    "start_time": "2022-09-22T20:35:51.966Z"
   },
   {
    "duration": 16,
    "start_time": "2022-09-22T20:35:51.981Z"
   },
   {
    "duration": 22,
    "start_time": "2022-09-22T20:35:52.000Z"
   },
   {
    "duration": 14,
    "start_time": "2022-09-22T20:35:52.029Z"
   },
   {
    "duration": 41,
    "start_time": "2022-09-22T20:35:52.046Z"
   },
   {
    "duration": 4,
    "start_time": "2022-09-22T20:35:52.088Z"
   },
   {
    "duration": 14,
    "start_time": "2022-09-22T20:35:52.094Z"
   },
   {
    "duration": 4,
    "start_time": "2022-09-22T20:35:52.110Z"
   },
   {
    "duration": 3,
    "start_time": "2022-09-22T20:35:52.116Z"
   },
   {
    "duration": 36,
    "start_time": "2022-09-22T20:35:52.120Z"
   },
   {
    "duration": 7,
    "start_time": "2022-09-22T20:35:52.157Z"
   },
   {
    "duration": 11,
    "start_time": "2022-09-22T20:35:52.166Z"
   },
   {
    "duration": 9,
    "start_time": "2022-09-22T20:35:52.179Z"
   },
   {
    "duration": 21,
    "start_time": "2022-09-22T20:35:52.190Z"
   },
   {
    "duration": 6,
    "start_time": "2022-09-22T20:35:52.212Z"
   },
   {
    "duration": 39,
    "start_time": "2022-09-22T20:35:52.220Z"
   },
   {
    "duration": 28,
    "start_time": "2022-09-22T20:35:52.260Z"
   },
   {
    "duration": 5,
    "start_time": "2022-09-22T20:35:52.290Z"
   },
   {
    "duration": 8,
    "start_time": "2022-09-22T20:35:52.297Z"
   },
   {
    "duration": 28,
    "start_time": "2022-09-22T20:35:53.979Z"
   },
   {
    "duration": 9,
    "start_time": "2022-09-22T20:35:55.552Z"
   },
   {
    "duration": 27,
    "start_time": "2022-09-22T20:35:57.082Z"
   },
   {
    "duration": 5,
    "start_time": "2022-09-22T20:36:57.936Z"
   },
   {
    "duration": 8,
    "start_time": "2022-09-22T20:37:27.497Z"
   },
   {
    "duration": 9,
    "start_time": "2022-09-22T20:37:28.890Z"
   },
   {
    "duration": 5,
    "start_time": "2022-09-22T20:37:46.304Z"
   },
   {
    "duration": 3,
    "start_time": "2022-09-22T20:38:13.969Z"
   },
   {
    "duration": 93,
    "start_time": "2022-09-22T20:38:13.974Z"
   },
   {
    "duration": 13,
    "start_time": "2022-09-22T20:38:14.069Z"
   },
   {
    "duration": 14,
    "start_time": "2022-09-22T20:38:14.084Z"
   },
   {
    "duration": 38,
    "start_time": "2022-09-22T20:38:14.100Z"
   },
   {
    "duration": 8,
    "start_time": "2022-09-22T20:38:14.140Z"
   },
   {
    "duration": 24,
    "start_time": "2022-09-22T20:38:14.150Z"
   },
   {
    "duration": 5,
    "start_time": "2022-09-22T20:38:14.176Z"
   },
   {
    "duration": 16,
    "start_time": "2022-09-22T20:38:14.183Z"
   },
   {
    "duration": 27,
    "start_time": "2022-09-22T20:38:14.201Z"
   },
   {
    "duration": 14,
    "start_time": "2022-09-22T20:38:14.229Z"
   },
   {
    "duration": 5,
    "start_time": "2022-09-22T20:38:14.245Z"
   },
   {
    "duration": 6,
    "start_time": "2022-09-22T20:38:14.252Z"
   },
   {
    "duration": 15,
    "start_time": "2022-09-22T20:38:14.259Z"
   },
   {
    "duration": 10,
    "start_time": "2022-09-22T20:38:14.275Z"
   },
   {
    "duration": 19,
    "start_time": "2022-09-22T20:38:14.287Z"
   },
   {
    "duration": 19,
    "start_time": "2022-09-22T20:38:14.308Z"
   },
   {
    "duration": 19,
    "start_time": "2022-09-22T20:38:14.328Z"
   },
   {
    "duration": 31,
    "start_time": "2022-09-22T20:38:14.349Z"
   },
   {
    "duration": 10,
    "start_time": "2022-09-22T20:38:14.382Z"
   },
   {
    "duration": 8,
    "start_time": "2022-09-22T20:38:14.393Z"
   },
   {
    "duration": 22,
    "start_time": "2022-09-22T20:38:14.403Z"
   },
   {
    "duration": 7,
    "start_time": "2022-09-22T20:38:14.437Z"
   },
   {
    "duration": 7,
    "start_time": "2022-09-22T20:38:14.446Z"
   },
   {
    "duration": 47,
    "start_time": "2022-09-22T20:38:14.455Z"
   },
   {
    "duration": 5,
    "start_time": "2022-09-22T20:38:14.503Z"
   },
   {
    "duration": 18,
    "start_time": "2022-09-22T20:38:14.510Z"
   },
   {
    "duration": 303,
    "start_time": "2022-09-22T20:38:14.531Z"
   },
   {
    "duration": 21,
    "start_time": "2022-09-22T20:38:14.836Z"
   },
   {
    "duration": 105,
    "start_time": "2022-09-22T20:38:14.859Z"
   },
   {
    "duration": 0,
    "start_time": "2022-09-22T20:38:14.965Z"
   },
   {
    "duration": 0,
    "start_time": "2022-09-22T20:38:14.966Z"
   },
   {
    "duration": 0,
    "start_time": "2022-09-22T20:38:14.967Z"
   },
   {
    "duration": 0,
    "start_time": "2022-09-22T20:38:14.968Z"
   },
   {
    "duration": 152,
    "start_time": "2022-09-22T20:38:27.056Z"
   },
   {
    "duration": 214,
    "start_time": "2022-09-22T20:38:47.160Z"
   },
   {
    "duration": 258,
    "start_time": "2022-09-22T20:38:54.800Z"
   },
   {
    "duration": 193,
    "start_time": "2022-09-22T20:38:59.035Z"
   },
   {
    "duration": 9,
    "start_time": "2022-09-22T20:39:11.552Z"
   },
   {
    "duration": 149,
    "start_time": "2022-09-22T20:39:45.751Z"
   },
   {
    "duration": 126,
    "start_time": "2022-09-22T20:39:54.183Z"
   },
   {
    "duration": 136,
    "start_time": "2022-09-22T20:40:00.103Z"
   },
   {
    "duration": 8,
    "start_time": "2022-09-22T20:40:11.478Z"
   },
   {
    "duration": 6,
    "start_time": "2022-09-22T20:40:58.062Z"
   },
   {
    "duration": 6,
    "start_time": "2022-09-22T20:47:26.554Z"
   },
   {
    "duration": 6,
    "start_time": "2022-09-22T20:47:33.547Z"
   },
   {
    "duration": 153,
    "start_time": "2022-09-22T20:47:53.378Z"
   },
   {
    "duration": 103,
    "start_time": "2022-09-22T20:48:53.579Z"
   },
   {
    "duration": 80,
    "start_time": "2022-09-22T20:48:56.170Z"
   },
   {
    "duration": 5,
    "start_time": "2022-09-22T20:49:04.761Z"
   },
   {
    "duration": 4,
    "start_time": "2022-09-22T20:49:21.040Z"
   },
   {
    "duration": 96,
    "start_time": "2022-09-22T20:49:21.047Z"
   },
   {
    "duration": 21,
    "start_time": "2022-09-22T20:49:21.145Z"
   },
   {
    "duration": 14,
    "start_time": "2022-09-22T20:49:21.168Z"
   },
   {
    "duration": 12,
    "start_time": "2022-09-22T20:49:21.184Z"
   },
   {
    "duration": 29,
    "start_time": "2022-09-22T20:49:21.198Z"
   },
   {
    "duration": 21,
    "start_time": "2022-09-22T20:49:21.235Z"
   },
   {
    "duration": 6,
    "start_time": "2022-09-22T20:49:21.258Z"
   },
   {
    "duration": 20,
    "start_time": "2022-09-22T20:49:21.268Z"
   },
   {
    "duration": 6,
    "start_time": "2022-09-22T20:49:21.289Z"
   },
   {
    "duration": 15,
    "start_time": "2022-09-22T20:49:21.325Z"
   },
   {
    "duration": 7,
    "start_time": "2022-09-22T20:49:21.342Z"
   },
   {
    "duration": 8,
    "start_time": "2022-09-22T20:49:21.351Z"
   },
   {
    "duration": 10,
    "start_time": "2022-09-22T20:49:21.360Z"
   },
   {
    "duration": 9,
    "start_time": "2022-09-22T20:49:21.372Z"
   },
   {
    "duration": 34,
    "start_time": "2022-09-22T20:49:21.382Z"
   },
   {
    "duration": 18,
    "start_time": "2022-09-22T20:49:21.418Z"
   },
   {
    "duration": 17,
    "start_time": "2022-09-22T20:49:21.442Z"
   },
   {
    "duration": 25,
    "start_time": "2022-09-22T20:49:21.461Z"
   },
   {
    "duration": 6,
    "start_time": "2022-09-22T20:49:21.487Z"
   },
   {
    "duration": 7,
    "start_time": "2022-09-22T20:49:21.495Z"
   },
   {
    "duration": 24,
    "start_time": "2022-09-22T20:49:21.504Z"
   },
   {
    "duration": 7,
    "start_time": "2022-09-22T20:49:21.534Z"
   },
   {
    "duration": 11,
    "start_time": "2022-09-22T20:49:21.544Z"
   },
   {
    "duration": 63,
    "start_time": "2022-09-22T20:49:21.557Z"
   },
   {
    "duration": 5,
    "start_time": "2022-09-22T20:49:21.622Z"
   },
   {
    "duration": 99,
    "start_time": "2022-09-22T20:49:21.629Z"
   },
   {
    "duration": 6,
    "start_time": "2022-09-22T20:49:21.734Z"
   },
   {
    "duration": 8,
    "start_time": "2022-09-22T20:49:21.742Z"
   },
   {
    "duration": 304,
    "start_time": "2022-09-22T20:49:21.752Z"
   },
   {
    "duration": 19,
    "start_time": "2022-09-22T20:49:22.058Z"
   },
   {
    "duration": 78,
    "start_time": "2022-09-22T20:49:22.079Z"
   },
   {
    "duration": 1,
    "start_time": "2022-09-22T20:49:22.158Z"
   },
   {
    "duration": 0,
    "start_time": "2022-09-22T20:49:22.160Z"
   },
   {
    "duration": 0,
    "start_time": "2022-09-22T20:49:22.161Z"
   },
   {
    "duration": 0,
    "start_time": "2022-09-22T20:49:22.163Z"
   },
   {
    "duration": 0,
    "start_time": "2022-09-22T20:49:22.164Z"
   },
   {
    "duration": 0,
    "start_time": "2022-09-22T20:49:22.165Z"
   },
   {
    "duration": 0,
    "start_time": "2022-09-22T20:49:22.166Z"
   },
   {
    "duration": 0,
    "start_time": "2022-09-22T20:49:22.168Z"
   },
   {
    "duration": 0,
    "start_time": "2022-09-22T20:49:22.169Z"
   },
   {
    "duration": 6,
    "start_time": "2022-09-22T20:49:40.724Z"
   },
   {
    "duration": 9,
    "start_time": "2022-09-22T20:57:05.181Z"
   },
   {
    "duration": 4,
    "start_time": "2022-09-22T20:57:15.079Z"
   },
   {
    "duration": 85,
    "start_time": "2022-09-22T20:57:15.086Z"
   },
   {
    "duration": 13,
    "start_time": "2022-09-22T20:57:15.173Z"
   },
   {
    "duration": 18,
    "start_time": "2022-09-22T20:57:15.188Z"
   },
   {
    "duration": 32,
    "start_time": "2022-09-22T20:57:15.208Z"
   },
   {
    "duration": 11,
    "start_time": "2022-09-22T20:57:15.241Z"
   },
   {
    "duration": 19,
    "start_time": "2022-09-22T20:57:15.254Z"
   },
   {
    "duration": 4,
    "start_time": "2022-09-22T20:57:15.275Z"
   },
   {
    "duration": 44,
    "start_time": "2022-09-22T20:57:15.282Z"
   },
   {
    "duration": 9,
    "start_time": "2022-09-22T20:57:15.328Z"
   },
   {
    "duration": 13,
    "start_time": "2022-09-22T20:57:15.339Z"
   },
   {
    "duration": 13,
    "start_time": "2022-09-22T20:57:15.354Z"
   },
   {
    "duration": 14,
    "start_time": "2022-09-22T20:57:15.368Z"
   },
   {
    "duration": 16,
    "start_time": "2022-09-22T20:57:15.384Z"
   },
   {
    "duration": 7,
    "start_time": "2022-09-22T20:57:15.402Z"
   },
   {
    "duration": 20,
    "start_time": "2022-09-22T20:57:15.411Z"
   },
   {
    "duration": 11,
    "start_time": "2022-09-22T20:57:15.433Z"
   },
   {
    "duration": 21,
    "start_time": "2022-09-22T20:57:15.446Z"
   },
   {
    "duration": 41,
    "start_time": "2022-09-22T20:57:15.469Z"
   },
   {
    "duration": 15,
    "start_time": "2022-09-22T20:57:15.511Z"
   },
   {
    "duration": 9,
    "start_time": "2022-09-22T20:57:29.041Z"
   },
   {
    "duration": 10,
    "start_time": "2022-09-22T20:57:35.522Z"
   },
   {
    "duration": 6,
    "start_time": "2022-09-22T20:57:49.034Z"
   },
   {
    "duration": 85,
    "start_time": "2022-09-22T20:58:19.961Z"
   },
   {
    "duration": 8,
    "start_time": "2022-09-22T20:58:24.218Z"
   },
   {
    "duration": 5,
    "start_time": "2022-09-22T20:58:53.900Z"
   },
   {
    "duration": 6,
    "start_time": "2022-09-22T21:00:02.280Z"
   },
   {
    "duration": 4,
    "start_time": "2022-09-22T21:00:10.904Z"
   },
   {
    "duration": 96,
    "start_time": "2022-09-22T21:00:10.909Z"
   },
   {
    "duration": 21,
    "start_time": "2022-09-22T21:00:11.008Z"
   },
   {
    "duration": 52,
    "start_time": "2022-09-22T21:00:11.030Z"
   },
   {
    "duration": 36,
    "start_time": "2022-09-22T21:00:11.084Z"
   },
   {
    "duration": 24,
    "start_time": "2022-09-22T21:00:11.121Z"
   },
   {
    "duration": 19,
    "start_time": "2022-09-22T21:00:11.146Z"
   },
   {
    "duration": 4,
    "start_time": "2022-09-22T21:00:11.166Z"
   },
   {
    "duration": 23,
    "start_time": "2022-09-22T21:00:11.171Z"
   },
   {
    "duration": 4,
    "start_time": "2022-09-22T21:00:11.195Z"
   },
   {
    "duration": 4,
    "start_time": "2022-09-22T21:00:11.201Z"
   },
   {
    "duration": 20,
    "start_time": "2022-09-22T21:00:11.206Z"
   },
   {
    "duration": 5,
    "start_time": "2022-09-22T21:00:11.232Z"
   },
   {
    "duration": 11,
    "start_time": "2022-09-22T21:00:11.238Z"
   },
   {
    "duration": 8,
    "start_time": "2022-09-22T21:00:11.251Z"
   },
   {
    "duration": 19,
    "start_time": "2022-09-22T21:00:11.260Z"
   },
   {
    "duration": 6,
    "start_time": "2022-09-22T21:00:11.280Z"
   },
   {
    "duration": 24,
    "start_time": "2022-09-22T21:00:11.287Z"
   },
   {
    "duration": 37,
    "start_time": "2022-09-22T21:00:11.312Z"
   },
   {
    "duration": 11,
    "start_time": "2022-09-22T21:00:11.351Z"
   },
   {
    "duration": 18,
    "start_time": "2022-09-22T21:00:11.363Z"
   },
   {
    "duration": 13,
    "start_time": "2022-09-22T21:00:11.383Z"
   },
   {
    "duration": 6,
    "start_time": "2022-09-22T21:00:11.397Z"
   },
   {
    "duration": 12,
    "start_time": "2022-09-22T21:00:11.404Z"
   },
   {
    "duration": 23,
    "start_time": "2022-09-22T21:00:11.417Z"
   },
   {
    "duration": 8,
    "start_time": "2022-09-22T21:00:11.442Z"
   },
   {
    "duration": 8,
    "start_time": "2022-09-22T21:00:11.452Z"
   },
   {
    "duration": 73,
    "start_time": "2022-09-22T21:00:11.462Z"
   },
   {
    "duration": 7,
    "start_time": "2022-09-22T21:00:11.538Z"
   },
   {
    "duration": 47,
    "start_time": "2022-09-22T21:00:11.547Z"
   },
   {
    "duration": 354,
    "start_time": "2022-09-22T21:00:11.596Z"
   },
   {
    "duration": 18,
    "start_time": "2022-09-22T21:00:11.952Z"
   },
   {
    "duration": 78,
    "start_time": "2022-09-22T21:00:11.972Z"
   },
   {
    "duration": 0,
    "start_time": "2022-09-22T21:00:12.052Z"
   },
   {
    "duration": 0,
    "start_time": "2022-09-22T21:00:12.053Z"
   },
   {
    "duration": 0,
    "start_time": "2022-09-22T21:00:12.055Z"
   },
   {
    "duration": 0,
    "start_time": "2022-09-22T21:00:12.056Z"
   },
   {
    "duration": 0,
    "start_time": "2022-09-22T21:00:12.058Z"
   },
   {
    "duration": 0,
    "start_time": "2022-09-22T21:00:12.059Z"
   },
   {
    "duration": 0,
    "start_time": "2022-09-22T21:00:12.060Z"
   },
   {
    "duration": 0,
    "start_time": "2022-09-22T21:00:12.061Z"
   },
   {
    "duration": 0,
    "start_time": "2022-09-22T21:00:12.062Z"
   },
   {
    "duration": 4,
    "start_time": "2022-09-22T21:02:44.671Z"
   },
   {
    "duration": 96,
    "start_time": "2022-09-22T21:02:44.676Z"
   },
   {
    "duration": 13,
    "start_time": "2022-09-22T21:02:44.774Z"
   },
   {
    "duration": 37,
    "start_time": "2022-09-22T21:02:44.789Z"
   },
   {
    "duration": 16,
    "start_time": "2022-09-22T21:02:44.828Z"
   },
   {
    "duration": 8,
    "start_time": "2022-09-22T21:02:44.846Z"
   },
   {
    "duration": 18,
    "start_time": "2022-09-22T21:02:44.855Z"
   },
   {
    "duration": 5,
    "start_time": "2022-09-22T21:02:44.875Z"
   },
   {
    "duration": 47,
    "start_time": "2022-09-22T21:02:44.882Z"
   },
   {
    "duration": 10,
    "start_time": "2022-09-22T21:02:44.931Z"
   },
   {
    "duration": 7,
    "start_time": "2022-09-22T21:02:44.943Z"
   },
   {
    "duration": 7,
    "start_time": "2022-09-22T21:02:44.951Z"
   },
   {
    "duration": 5,
    "start_time": "2022-09-22T21:02:44.960Z"
   },
   {
    "duration": 9,
    "start_time": "2022-09-22T21:02:44.967Z"
   },
   {
    "duration": 7,
    "start_time": "2022-09-22T21:02:44.977Z"
   },
   {
    "duration": 44,
    "start_time": "2022-09-22T21:02:44.985Z"
   },
   {
    "duration": 10,
    "start_time": "2022-09-22T21:02:45.031Z"
   },
   {
    "duration": 41,
    "start_time": "2022-09-22T21:02:45.043Z"
   },
   {
    "duration": 54,
    "start_time": "2022-09-22T21:02:45.086Z"
   },
   {
    "duration": 28,
    "start_time": "2022-09-22T21:02:45.143Z"
   },
   {
    "duration": 28,
    "start_time": "2022-09-22T21:02:45.173Z"
   },
   {
    "duration": 46,
    "start_time": "2022-09-22T21:02:45.203Z"
   },
   {
    "duration": 38,
    "start_time": "2022-09-22T21:02:45.251Z"
   },
   {
    "duration": 27,
    "start_time": "2022-09-22T21:02:45.291Z"
   },
   {
    "duration": 58,
    "start_time": "2022-09-22T21:02:45.320Z"
   },
   {
    "duration": 30,
    "start_time": "2022-09-22T21:02:45.380Z"
   },
   {
    "duration": 28,
    "start_time": "2022-09-22T21:02:45.411Z"
   },
   {
    "duration": 78,
    "start_time": "2022-09-22T21:02:45.441Z"
   },
   {
    "duration": 7,
    "start_time": "2022-09-22T21:02:45.520Z"
   },
   {
    "duration": 42,
    "start_time": "2022-09-22T21:02:45.529Z"
   },
   {
    "duration": 407,
    "start_time": "2022-09-22T21:02:45.572Z"
   },
   {
    "duration": 23,
    "start_time": "2022-09-22T21:02:45.980Z"
   },
   {
    "duration": 84,
    "start_time": "2022-09-22T21:02:46.005Z"
   },
   {
    "duration": 0,
    "start_time": "2022-09-22T21:02:46.091Z"
   },
   {
    "duration": 0,
    "start_time": "2022-09-22T21:02:46.092Z"
   },
   {
    "duration": 0,
    "start_time": "2022-09-22T21:02:46.094Z"
   },
   {
    "duration": 0,
    "start_time": "2022-09-22T21:02:46.095Z"
   },
   {
    "duration": 1,
    "start_time": "2022-09-22T21:02:46.096Z"
   },
   {
    "duration": 0,
    "start_time": "2022-09-22T21:02:46.098Z"
   },
   {
    "duration": 0,
    "start_time": "2022-09-22T21:02:46.099Z"
   },
   {
    "duration": 0,
    "start_time": "2022-09-22T21:02:46.100Z"
   },
   {
    "duration": 0,
    "start_time": "2022-09-22T21:02:46.101Z"
   },
   {
    "duration": 5,
    "start_time": "2022-09-22T21:02:56.409Z"
   },
   {
    "duration": 116,
    "start_time": "2022-09-22T21:02:56.416Z"
   },
   {
    "duration": 16,
    "start_time": "2022-09-22T21:02:56.534Z"
   },
   {
    "duration": 17,
    "start_time": "2022-09-22T21:02:56.553Z"
   },
   {
    "duration": 16,
    "start_time": "2022-09-22T21:02:56.572Z"
   },
   {
    "duration": 9,
    "start_time": "2022-09-22T21:02:56.590Z"
   },
   {
    "duration": 52,
    "start_time": "2022-09-22T21:02:56.600Z"
   },
   {
    "duration": 4,
    "start_time": "2022-09-22T21:02:56.654Z"
   },
   {
    "duration": 16,
    "start_time": "2022-09-22T21:02:56.660Z"
   },
   {
    "duration": 6,
    "start_time": "2022-09-22T21:02:56.678Z"
   },
   {
    "duration": 4,
    "start_time": "2022-09-22T21:02:56.685Z"
   },
   {
    "duration": 4,
    "start_time": "2022-09-22T21:02:56.691Z"
   },
   {
    "duration": 33,
    "start_time": "2022-09-22T21:02:56.697Z"
   },
   {
    "duration": 11,
    "start_time": "2022-09-22T21:02:56.736Z"
   },
   {
    "duration": 8,
    "start_time": "2022-09-22T21:02:56.748Z"
   },
   {
    "duration": 16,
    "start_time": "2022-09-22T21:02:56.758Z"
   },
   {
    "duration": 8,
    "start_time": "2022-09-22T21:02:56.775Z"
   },
   {
    "duration": 14,
    "start_time": "2022-09-22T21:02:56.785Z"
   },
   {
    "duration": 44,
    "start_time": "2022-09-22T21:02:56.823Z"
   },
   {
    "duration": 8,
    "start_time": "2022-09-22T21:02:56.869Z"
   },
   {
    "duration": 9,
    "start_time": "2022-09-22T21:02:56.878Z"
   },
   {
    "duration": 8,
    "start_time": "2022-09-22T21:02:56.889Z"
   },
   {
    "duration": 32,
    "start_time": "2022-09-22T21:02:56.898Z"
   },
   {
    "duration": 11,
    "start_time": "2022-09-22T21:02:56.931Z"
   },
   {
    "duration": 10,
    "start_time": "2022-09-22T21:02:56.943Z"
   },
   {
    "duration": 14,
    "start_time": "2022-09-22T21:02:56.954Z"
   },
   {
    "duration": 11,
    "start_time": "2022-09-22T21:02:56.970Z"
   },
   {
    "duration": 55,
    "start_time": "2022-09-22T21:02:56.985Z"
   },
   {
    "duration": 5,
    "start_time": "2022-09-22T21:02:57.042Z"
   },
   {
    "duration": 8,
    "start_time": "2022-09-22T21:02:57.049Z"
   },
   {
    "duration": 320,
    "start_time": "2022-09-22T21:02:57.058Z"
   },
   {
    "duration": 23,
    "start_time": "2022-09-22T21:02:57.379Z"
   },
   {
    "duration": 7,
    "start_time": "2022-09-22T21:02:57.403Z"
   },
   {
    "duration": 138,
    "start_time": "2022-09-22T21:02:57.411Z"
   },
   {
    "duration": 9,
    "start_time": "2022-09-22T21:02:57.550Z"
   },
   {
    "duration": 165,
    "start_time": "2022-09-22T21:02:57.560Z"
   },
   {
    "duration": 10,
    "start_time": "2022-09-22T21:02:57.735Z"
   },
   {
    "duration": 151,
    "start_time": "2022-09-22T21:02:57.746Z"
   },
   {
    "duration": 136,
    "start_time": "2022-09-22T21:02:57.899Z"
   },
   {
    "duration": 9,
    "start_time": "2022-09-22T21:02:58.040Z"
   },
   {
    "duration": 137,
    "start_time": "2022-09-22T21:02:58.051Z"
   },
   {
    "duration": 8,
    "start_time": "2022-09-22T21:02:58.189Z"
   },
   {
    "duration": 8,
    "start_time": "2022-09-22T21:03:45.396Z"
   },
   {
    "duration": 117,
    "start_time": "2022-09-22T21:03:46.956Z"
   },
   {
    "duration": 191,
    "start_time": "2022-09-22T21:04:11.820Z"
   },
   {
    "duration": 8,
    "start_time": "2022-09-22T21:04:22.757Z"
   },
   {
    "duration": 119,
    "start_time": "2022-09-22T21:04:51.156Z"
   },
   {
    "duration": 7,
    "start_time": "2022-09-22T21:04:54.212Z"
   },
   {
    "duration": 124,
    "start_time": "2022-09-22T21:18:08.507Z"
   },
   {
    "duration": 137,
    "start_time": "2022-09-22T21:18:12.845Z"
   },
   {
    "duration": 155,
    "start_time": "2022-09-22T21:18:16.907Z"
   },
   {
    "duration": 199,
    "start_time": "2022-09-22T21:18:39.611Z"
   },
   {
    "duration": 9,
    "start_time": "2022-09-22T21:18:58.083Z"
   },
   {
    "duration": 7,
    "start_time": "2022-09-22T21:24:36.038Z"
   },
   {
    "duration": 161,
    "start_time": "2022-09-22T21:24:59.755Z"
   },
   {
    "duration": 7,
    "start_time": "2022-09-22T21:31:17.915Z"
   },
   {
    "duration": 7,
    "start_time": "2022-09-22T21:33:01.154Z"
   },
   {
    "duration": 4,
    "start_time": "2022-09-22T21:33:06.866Z"
   },
   {
    "duration": 163,
    "start_time": "2022-09-22T21:33:29.713Z"
   },
   {
    "duration": 122,
    "start_time": "2022-09-22T21:33:56.866Z"
   },
   {
    "duration": 151,
    "start_time": "2022-09-22T21:34:01.954Z"
   },
   {
    "duration": 8,
    "start_time": "2022-09-22T21:34:25.985Z"
   },
   {
    "duration": 135,
    "start_time": "2022-09-22T21:34:39.713Z"
   },
   {
    "duration": 244,
    "start_time": "2022-09-22T21:34:47.698Z"
   },
   {
    "duration": 127,
    "start_time": "2022-09-22T21:35:04.914Z"
   },
   {
    "duration": 15,
    "start_time": "2022-09-22T21:35:09.229Z"
   },
   {
    "duration": 128,
    "start_time": "2022-09-22T21:35:11.849Z"
   },
   {
    "duration": 135,
    "start_time": "2022-09-22T21:35:28.937Z"
   },
   {
    "duration": 10,
    "start_time": "2022-09-22T21:39:54.529Z"
   },
   {
    "duration": 155,
    "start_time": "2022-09-22T21:42:28.493Z"
   },
   {
    "duration": 8,
    "start_time": "2022-09-22T21:42:42.293Z"
   },
   {
    "duration": 1484,
    "start_time": "2022-09-22T21:44:01.248Z"
   },
   {
    "duration": 8,
    "start_time": "2022-09-22T21:44:14.180Z"
   },
   {
    "duration": 18,
    "start_time": "2022-09-22T21:44:40.643Z"
   },
   {
    "duration": 9,
    "start_time": "2022-09-22T21:44:56.810Z"
   },
   {
    "duration": 9,
    "start_time": "2022-09-22T21:44:58.950Z"
   },
   {
    "duration": 8,
    "start_time": "2022-09-22T21:45:04.786Z"
   },
   {
    "duration": 1915,
    "start_time": "2022-09-22T21:47:47.890Z"
   },
   {
    "duration": 94,
    "start_time": "2022-09-22T21:49:06.552Z"
   },
   {
    "duration": 206,
    "start_time": "2022-09-22T21:49:46.253Z"
   },
   {
    "duration": 13,
    "start_time": "2022-09-22T21:50:43.862Z"
   },
   {
    "duration": 94,
    "start_time": "2022-09-22T22:01:19.680Z"
   },
   {
    "duration": 272,
    "start_time": "2022-09-22T22:01:31.664Z"
   },
   {
    "duration": 321,
    "start_time": "2022-09-22T22:01:41.663Z"
   },
   {
    "duration": 300,
    "start_time": "2022-09-22T22:01:44.642Z"
   },
   {
    "duration": 205,
    "start_time": "2022-09-22T22:01:47.463Z"
   },
   {
    "duration": 210,
    "start_time": "2022-09-22T22:01:51.272Z"
   },
   {
    "duration": 239,
    "start_time": "2022-09-22T22:01:54.752Z"
   },
   {
    "duration": 272,
    "start_time": "2022-09-22T22:02:21.111Z"
   },
   {
    "duration": 249,
    "start_time": "2022-09-22T22:02:25.158Z"
   },
   {
    "duration": 231,
    "start_time": "2022-09-22T22:05:36.693Z"
   },
   {
    "duration": 134,
    "start_time": "2022-09-22T22:05:47.468Z"
   },
   {
    "duration": 9,
    "start_time": "2022-09-22T22:06:04.241Z"
   },
   {
    "duration": 0,
    "start_time": "2022-09-22T22:18:00.295Z"
   },
   {
    "duration": 0,
    "start_time": "2022-09-22T22:18:00.295Z"
   },
   {
    "duration": 0,
    "start_time": "2022-09-22T22:18:00.321Z"
   },
   {
    "duration": 0,
    "start_time": "2022-09-22T22:18:00.322Z"
   },
   {
    "duration": 0,
    "start_time": "2022-09-22T22:18:00.323Z"
   },
   {
    "duration": 0,
    "start_time": "2022-09-22T22:18:00.325Z"
   },
   {
    "duration": 0,
    "start_time": "2022-09-22T22:18:00.325Z"
   },
   {
    "duration": 0,
    "start_time": "2022-09-22T22:18:00.326Z"
   },
   {
    "duration": 0,
    "start_time": "2022-09-22T22:18:00.327Z"
   },
   {
    "duration": 0,
    "start_time": "2022-09-22T22:18:00.328Z"
   },
   {
    "duration": 0,
    "start_time": "2022-09-22T22:18:00.329Z"
   },
   {
    "duration": 0,
    "start_time": "2022-09-22T22:18:00.330Z"
   },
   {
    "duration": 0,
    "start_time": "2022-09-22T22:18:00.330Z"
   },
   {
    "duration": 0,
    "start_time": "2022-09-22T22:18:00.332Z"
   },
   {
    "duration": 0,
    "start_time": "2022-09-22T22:18:00.333Z"
   },
   {
    "duration": 0,
    "start_time": "2022-09-22T22:18:00.334Z"
   },
   {
    "duration": 0,
    "start_time": "2022-09-22T22:18:00.335Z"
   },
   {
    "duration": 0,
    "start_time": "2022-09-22T22:18:00.336Z"
   },
   {
    "duration": 0,
    "start_time": "2022-09-22T22:18:00.337Z"
   },
   {
    "duration": 0,
    "start_time": "2022-09-22T22:18:00.338Z"
   },
   {
    "duration": 0,
    "start_time": "2022-09-22T22:18:00.339Z"
   },
   {
    "duration": 0,
    "start_time": "2022-09-22T22:18:00.340Z"
   },
   {
    "duration": 0,
    "start_time": "2022-09-22T22:18:00.341Z"
   },
   {
    "duration": 0,
    "start_time": "2022-09-22T22:18:00.342Z"
   },
   {
    "duration": 0,
    "start_time": "2022-09-22T22:18:00.344Z"
   },
   {
    "duration": 0,
    "start_time": "2022-09-22T22:18:00.345Z"
   },
   {
    "duration": 0,
    "start_time": "2022-09-22T22:18:00.346Z"
   },
   {
    "duration": 0,
    "start_time": "2022-09-22T22:18:00.347Z"
   },
   {
    "duration": 0,
    "start_time": "2022-09-22T22:18:00.348Z"
   },
   {
    "duration": 0,
    "start_time": "2022-09-22T22:18:00.350Z"
   },
   {
    "duration": 0,
    "start_time": "2022-09-22T22:18:00.351Z"
   },
   {
    "duration": 0,
    "start_time": "2022-09-22T22:18:00.352Z"
   },
   {
    "duration": 0,
    "start_time": "2022-09-22T22:18:00.353Z"
   },
   {
    "duration": 0,
    "start_time": "2022-09-22T22:18:00.355Z"
   },
   {
    "duration": 0,
    "start_time": "2022-09-22T22:18:00.356Z"
   },
   {
    "duration": 0,
    "start_time": "2022-09-22T22:18:00.357Z"
   },
   {
    "duration": 0,
    "start_time": "2022-09-22T22:18:00.359Z"
   },
   {
    "duration": 0,
    "start_time": "2022-09-22T22:18:00.360Z"
   },
   {
    "duration": 0,
    "start_time": "2022-09-22T22:18:00.362Z"
   },
   {
    "duration": 1,
    "start_time": "2022-09-22T22:18:00.364Z"
   },
   {
    "duration": 0,
    "start_time": "2022-09-22T22:18:00.424Z"
   },
   {
    "duration": 0,
    "start_time": "2022-09-22T22:18:00.426Z"
   },
   {
    "duration": 0,
    "start_time": "2022-09-22T22:18:00.429Z"
   },
   {
    "duration": 0,
    "start_time": "2022-09-22T22:18:00.431Z"
   },
   {
    "duration": 0,
    "start_time": "2022-09-22T22:18:00.434Z"
   },
   {
    "duration": 0,
    "start_time": "2022-09-22T22:18:00.434Z"
   },
   {
    "duration": 0,
    "start_time": "2022-09-22T22:18:00.435Z"
   },
   {
    "duration": 0,
    "start_time": "2022-09-22T22:18:00.436Z"
   },
   {
    "duration": 0,
    "start_time": "2022-09-22T22:18:00.437Z"
   },
   {
    "duration": 0,
    "start_time": "2022-09-22T22:18:00.437Z"
   },
   {
    "duration": 0,
    "start_time": "2022-09-22T22:18:00.438Z"
   },
   {
    "duration": 0,
    "start_time": "2022-09-22T22:18:00.439Z"
   },
   {
    "duration": 0,
    "start_time": "2022-09-22T22:18:00.440Z"
   },
   {
    "duration": 0,
    "start_time": "2022-09-22T22:18:00.441Z"
   },
   {
    "duration": 0,
    "start_time": "2022-09-22T22:18:00.443Z"
   },
   {
    "duration": 0,
    "start_time": "2022-09-22T22:18:00.444Z"
   },
   {
    "duration": 0,
    "start_time": "2022-09-22T22:18:00.445Z"
   },
   {
    "duration": 0,
    "start_time": "2022-09-22T22:18:00.446Z"
   },
   {
    "duration": 0,
    "start_time": "2022-09-22T22:18:00.447Z"
   },
   {
    "duration": 0,
    "start_time": "2022-09-22T22:18:00.448Z"
   },
   {
    "duration": 0,
    "start_time": "2022-09-22T22:18:00.449Z"
   },
   {
    "duration": 0,
    "start_time": "2022-09-22T22:18:00.450Z"
   },
   {
    "duration": 0,
    "start_time": "2022-09-22T22:18:00.451Z"
   },
   {
    "duration": 0,
    "start_time": "2022-09-22T22:18:00.452Z"
   },
   {
    "duration": 0,
    "start_time": "2022-09-22T22:18:00.453Z"
   },
   {
    "duration": 0,
    "start_time": "2022-09-22T22:18:00.455Z"
   },
   {
    "duration": 0,
    "start_time": "2022-09-22T22:18:00.456Z"
   },
   {
    "duration": 0,
    "start_time": "2022-09-22T22:18:00.457Z"
   },
   {
    "duration": 4,
    "start_time": "2022-09-22T22:18:52.067Z"
   },
   {
    "duration": 102,
    "start_time": "2022-09-22T22:18:52.072Z"
   },
   {
    "duration": 14,
    "start_time": "2022-09-22T22:18:52.176Z"
   },
   {
    "duration": 17,
    "start_time": "2022-09-22T22:18:52.191Z"
   },
   {
    "duration": 31,
    "start_time": "2022-09-22T22:18:52.210Z"
   },
   {
    "duration": 8,
    "start_time": "2022-09-22T22:18:52.243Z"
   },
   {
    "duration": 19,
    "start_time": "2022-09-22T22:18:52.252Z"
   },
   {
    "duration": 4,
    "start_time": "2022-09-22T22:18:52.274Z"
   },
   {
    "duration": 20,
    "start_time": "2022-09-22T22:18:52.280Z"
   },
   {
    "duration": 29,
    "start_time": "2022-09-22T22:18:52.301Z"
   },
   {
    "duration": 16,
    "start_time": "2022-09-22T22:18:52.337Z"
   },
   {
    "duration": 5,
    "start_time": "2022-09-22T22:18:52.355Z"
   },
   {
    "duration": 7,
    "start_time": "2022-09-22T22:18:52.362Z"
   },
   {
    "duration": 10,
    "start_time": "2022-09-22T22:18:52.370Z"
   },
   {
    "duration": 8,
    "start_time": "2022-09-22T22:18:52.382Z"
   },
   {
    "duration": 16,
    "start_time": "2022-09-22T22:18:52.392Z"
   },
   {
    "duration": 13,
    "start_time": "2022-09-22T22:18:52.428Z"
   },
   {
    "duration": 18,
    "start_time": "2022-09-22T22:18:52.443Z"
   },
   {
    "duration": 26,
    "start_time": "2022-09-22T22:18:52.462Z"
   },
   {
    "duration": 8,
    "start_time": "2022-09-22T22:18:52.489Z"
   },
   {
    "duration": 10,
    "start_time": "2022-09-22T22:18:52.498Z"
   },
   {
    "duration": 23,
    "start_time": "2022-09-22T22:18:52.509Z"
   },
   {
    "duration": 14,
    "start_time": "2022-09-22T22:18:52.535Z"
   },
   {
    "duration": 8,
    "start_time": "2022-09-22T22:18:52.550Z"
   },
   {
    "duration": 7,
    "start_time": "2022-09-22T22:18:52.560Z"
   },
   {
    "duration": 6,
    "start_time": "2022-09-22T22:18:52.572Z"
   },
   {
    "duration": 68,
    "start_time": "2022-09-22T22:18:52.579Z"
   },
   {
    "duration": 6,
    "start_time": "2022-09-22T22:18:52.649Z"
   },
   {
    "duration": 9,
    "start_time": "2022-09-22T22:18:52.657Z"
   },
   {
    "duration": 4,
    "start_time": "2022-09-22T22:18:52.668Z"
   },
   {
    "duration": 177,
    "start_time": "2022-09-22T22:18:52.674Z"
   },
   {
    "duration": 7,
    "start_time": "2022-09-22T22:18:52.853Z"
   },
   {
    "duration": 61,
    "start_time": "2022-09-22T22:18:52.862Z"
   },
   {
    "duration": 1218,
    "start_time": "2022-09-22T22:18:52.929Z"
   },
   {
    "duration": 81,
    "start_time": "2022-09-22T22:18:54.149Z"
   },
   {
    "duration": 12,
    "start_time": "2022-09-22T22:18:54.232Z"
   },
   {
    "duration": 282,
    "start_time": "2022-09-22T22:18:54.246Z"
   },
   {
    "duration": 10,
    "start_time": "2022-09-22T22:18:54.536Z"
   },
   {
    "duration": 131,
    "start_time": "2022-09-22T22:18:54.548Z"
   },
   {
    "duration": 8,
    "start_time": "2022-09-22T22:18:54.681Z"
   },
   {
    "duration": 141,
    "start_time": "2022-09-22T22:18:54.691Z"
   },
   {
    "duration": 122,
    "start_time": "2022-09-22T22:18:54.833Z"
   },
   {
    "duration": 8,
    "start_time": "2022-09-22T22:18:54.957Z"
   },
   {
    "duration": 137,
    "start_time": "2022-09-22T22:18:54.967Z"
   },
   {
    "duration": 22,
    "start_time": "2022-09-22T22:18:55.106Z"
   },
   {
    "duration": 124,
    "start_time": "2022-09-22T22:18:55.133Z"
   },
   {
    "duration": 18,
    "start_time": "2022-09-22T22:18:55.260Z"
   },
   {
    "duration": 136,
    "start_time": "2022-09-22T22:18:55.281Z"
   },
   {
    "duration": 8,
    "start_time": "2022-09-22T22:18:55.424Z"
   },
   {
    "duration": 126,
    "start_time": "2022-09-22T22:18:55.434Z"
   },
   {
    "duration": 9,
    "start_time": "2022-09-22T22:18:55.562Z"
   },
   {
    "duration": 148,
    "start_time": "2022-09-22T22:18:55.573Z"
   },
   {
    "duration": 12,
    "start_time": "2022-09-22T22:18:55.728Z"
   },
   {
    "duration": 120,
    "start_time": "2022-09-22T22:18:55.744Z"
   },
   {
    "duration": 9,
    "start_time": "2022-09-22T22:18:55.865Z"
   },
   {
    "duration": 134,
    "start_time": "2022-09-22T22:18:55.876Z"
   },
   {
    "duration": 19,
    "start_time": "2022-09-22T22:18:56.013Z"
   },
   {
    "duration": 218,
    "start_time": "2022-09-22T22:18:56.035Z"
   },
   {
    "duration": 8,
    "start_time": "2022-09-22T22:18:56.255Z"
   },
   {
    "duration": 2,
    "start_time": "2022-09-22T22:18:56.264Z"
   },
   {
    "duration": 11,
    "start_time": "2022-09-22T22:18:56.544Z"
   },
   {
    "duration": 17,
    "start_time": "2022-09-22T22:18:56.556Z"
   },
   {
    "duration": 7,
    "start_time": "2022-09-22T22:18:56.575Z"
   },
   {
    "duration": 170,
    "start_time": "2022-09-22T22:18:56.584Z"
   },
   {
    "duration": 8,
    "start_time": "2022-09-22T22:18:56.756Z"
   },
   {
    "duration": 1591,
    "start_time": "2022-09-22T22:19:37.787Z"
   },
   {
    "duration": 282,
    "start_time": "2022-09-22T22:19:39.379Z"
   },
   {
    "duration": 5,
    "start_time": "2022-09-22T22:21:01.484Z"
   },
   {
    "duration": 112,
    "start_time": "2022-09-22T22:21:01.491Z"
   },
   {
    "duration": 15,
    "start_time": "2022-09-22T22:21:01.605Z"
   },
   {
    "duration": 36,
    "start_time": "2022-09-22T22:21:01.627Z"
   },
   {
    "duration": 21,
    "start_time": "2022-09-22T22:21:01.666Z"
   },
   {
    "duration": 11,
    "start_time": "2022-09-22T22:21:01.691Z"
   },
   {
    "duration": 25,
    "start_time": "2022-09-22T22:21:01.704Z"
   },
   {
    "duration": 7,
    "start_time": "2022-09-22T22:21:01.734Z"
   },
   {
    "duration": 40,
    "start_time": "2022-09-22T22:21:01.744Z"
   },
   {
    "duration": 6,
    "start_time": "2022-09-22T22:21:01.786Z"
   },
   {
    "duration": 5,
    "start_time": "2022-09-22T22:21:01.793Z"
   },
   {
    "duration": 5,
    "start_time": "2022-09-22T22:21:01.800Z"
   },
   {
    "duration": 7,
    "start_time": "2022-09-22T22:21:01.807Z"
   },
   {
    "duration": 14,
    "start_time": "2022-09-22T22:21:01.827Z"
   },
   {
    "duration": 12,
    "start_time": "2022-09-22T22:21:01.842Z"
   },
   {
    "duration": 19,
    "start_time": "2022-09-22T22:21:01.856Z"
   },
   {
    "duration": 7,
    "start_time": "2022-09-22T22:21:01.876Z"
   },
   {
    "duration": 41,
    "start_time": "2022-09-22T22:21:01.884Z"
   },
   {
    "duration": 68,
    "start_time": "2022-09-22T22:21:01.929Z"
   },
   {
    "duration": 8,
    "start_time": "2022-09-22T22:21:01.999Z"
   },
   {
    "duration": 19,
    "start_time": "2022-09-22T22:21:02.009Z"
   },
   {
    "duration": 23,
    "start_time": "2022-09-22T22:21:02.029Z"
   },
   {
    "duration": 19,
    "start_time": "2022-09-22T22:21:02.054Z"
   },
   {
    "duration": 26,
    "start_time": "2022-09-22T22:21:02.075Z"
   },
   {
    "duration": 10,
    "start_time": "2022-09-22T22:21:02.103Z"
   },
   {
    "duration": 24,
    "start_time": "2022-09-22T22:21:02.116Z"
   },
   {
    "duration": 6,
    "start_time": "2022-09-22T22:21:02.146Z"
   },
   {
    "duration": 10,
    "start_time": "2022-09-22T22:21:02.153Z"
   },
   {
    "duration": 14,
    "start_time": "2022-09-22T22:21:02.165Z"
   },
   {
    "duration": 7,
    "start_time": "2022-09-22T22:21:02.180Z"
   },
   {
    "duration": 59,
    "start_time": "2022-09-22T22:21:02.188Z"
   },
   {
    "duration": 5,
    "start_time": "2022-09-22T22:21:02.249Z"
   },
   {
    "duration": 5,
    "start_time": "2022-09-22T22:21:02.256Z"
   },
   {
    "duration": 312,
    "start_time": "2022-09-22T22:21:02.262Z"
   },
   {
    "duration": 19,
    "start_time": "2022-09-22T22:21:02.576Z"
   },
   {
    "duration": 31,
    "start_time": "2022-09-22T22:21:02.597Z"
   },
   {
    "duration": 134,
    "start_time": "2022-09-22T22:21:02.629Z"
   },
   {
    "duration": 8,
    "start_time": "2022-09-22T22:21:02.765Z"
   },
   {
    "duration": 166,
    "start_time": "2022-09-22T22:21:02.774Z"
   },
   {
    "duration": 10,
    "start_time": "2022-09-22T22:21:02.942Z"
   },
   {
    "duration": 127,
    "start_time": "2022-09-22T22:21:02.954Z"
   },
   {
    "duration": 135,
    "start_time": "2022-09-22T22:21:03.083Z"
   },
   {
    "duration": 21,
    "start_time": "2022-09-22T22:21:03.221Z"
   },
   {
    "duration": 147,
    "start_time": "2022-09-22T22:21:03.244Z"
   },
   {
    "duration": 12,
    "start_time": "2022-09-22T22:21:03.394Z"
   },
   {
    "duration": 148,
    "start_time": "2022-09-22T22:21:03.408Z"
   },
   {
    "duration": 15,
    "start_time": "2022-09-22T22:21:03.566Z"
   },
   {
    "duration": 129,
    "start_time": "2022-09-22T22:21:03.583Z"
   },
   {
    "duration": 19,
    "start_time": "2022-09-22T22:21:03.714Z"
   },
   {
    "duration": 129,
    "start_time": "2022-09-22T22:21:03.736Z"
   },
   {
    "duration": 9,
    "start_time": "2022-09-22T22:21:03.867Z"
   },
   {
    "duration": 157,
    "start_time": "2022-09-22T22:21:03.877Z"
   },
   {
    "duration": 17,
    "start_time": "2022-09-22T22:21:04.043Z"
   },
   {
    "duration": 1029,
    "start_time": "2022-09-22T22:21:04.063Z"
   },
   {
    "duration": 8,
    "start_time": "2022-09-22T22:21:05.094Z"
   },
   {
    "duration": 138,
    "start_time": "2022-09-22T22:21:05.104Z"
   },
   {
    "duration": 8,
    "start_time": "2022-09-22T22:21:05.244Z"
   },
   {
    "duration": 175,
    "start_time": "2022-09-22T22:21:05.254Z"
   },
   {
    "duration": 11,
    "start_time": "2022-09-22T22:21:05.431Z"
   },
   {
    "duration": 11,
    "start_time": "2022-09-22T22:21:05.443Z"
   },
   {
    "duration": 6,
    "start_time": "2022-09-22T22:21:05.456Z"
   },
   {
    "duration": 6,
    "start_time": "2022-09-22T22:21:05.464Z"
   },
   {
    "duration": 6,
    "start_time": "2022-09-22T22:21:05.472Z"
   },
   {
    "duration": 8,
    "start_time": "2022-09-22T22:21:05.480Z"
   },
   {
    "duration": 163,
    "start_time": "2022-09-22T22:21:05.489Z"
   },
   {
    "duration": 9,
    "start_time": "2022-09-22T22:21:05.654Z"
   },
   {
    "duration": 39585,
    "start_time": "2022-09-22T22:21:05.665Z"
   },
   {
    "duration": 69,
    "start_time": "2022-09-22T22:21:56.241Z"
   },
   {
    "duration": 144,
    "start_time": "2022-09-22T22:22:02.641Z"
   },
   {
    "duration": 10,
    "start_time": "2022-09-22T22:22:12.320Z"
   },
   {
    "duration": 1787,
    "start_time": "2022-09-23T08:50:03.511Z"
   },
   {
    "duration": 308,
    "start_time": "2022-09-23T08:50:05.300Z"
   },
   {
    "duration": 17,
    "start_time": "2022-09-23T08:50:05.609Z"
   },
   {
    "duration": 13,
    "start_time": "2022-09-23T08:50:05.629Z"
   },
   {
    "duration": 13,
    "start_time": "2022-09-23T08:50:05.644Z"
   },
   {
    "duration": 8,
    "start_time": "2022-09-23T08:50:05.658Z"
   },
   {
    "duration": 48,
    "start_time": "2022-09-23T08:50:05.667Z"
   },
   {
    "duration": 5,
    "start_time": "2022-09-23T08:50:05.716Z"
   },
   {
    "duration": 20,
    "start_time": "2022-09-23T08:50:05.722Z"
   },
   {
    "duration": 4,
    "start_time": "2022-09-23T08:50:05.745Z"
   },
   {
    "duration": 4,
    "start_time": "2022-09-23T08:50:05.751Z"
   },
   {
    "duration": 6,
    "start_time": "2022-09-23T08:50:05.757Z"
   },
   {
    "duration": 7,
    "start_time": "2022-09-23T08:50:05.764Z"
   },
   {
    "duration": 40,
    "start_time": "2022-09-23T08:50:05.773Z"
   },
   {
    "duration": 10,
    "start_time": "2022-09-23T08:50:05.814Z"
   },
   {
    "duration": 23,
    "start_time": "2022-09-23T08:50:05.826Z"
   },
   {
    "duration": 10,
    "start_time": "2022-09-23T08:50:05.851Z"
   },
   {
    "duration": 18,
    "start_time": "2022-09-23T08:50:05.862Z"
   },
   {
    "duration": 52,
    "start_time": "2022-09-23T08:50:05.882Z"
   },
   {
    "duration": 13,
    "start_time": "2022-09-23T08:50:05.936Z"
   },
   {
    "duration": 7,
    "start_time": "2022-09-23T08:50:05.951Z"
   },
   {
    "duration": 6,
    "start_time": "2022-09-23T08:50:05.960Z"
   },
   {
    "duration": 7,
    "start_time": "2022-09-23T08:50:05.968Z"
   },
   {
    "duration": 6,
    "start_time": "2022-09-23T08:50:05.976Z"
   },
   {
    "duration": 7,
    "start_time": "2022-09-23T08:50:06.008Z"
   },
   {
    "duration": 6,
    "start_time": "2022-09-23T08:50:06.017Z"
   },
   {
    "duration": 9,
    "start_time": "2022-09-23T08:50:06.025Z"
   },
   {
    "duration": 4,
    "start_time": "2022-09-23T08:50:06.037Z"
   },
   {
    "duration": 7,
    "start_time": "2022-09-23T08:50:06.043Z"
   },
   {
    "duration": 4,
    "start_time": "2022-09-23T08:50:06.051Z"
   },
   {
    "duration": 74,
    "start_time": "2022-09-23T08:50:06.056Z"
   },
   {
    "duration": 4,
    "start_time": "2022-09-23T08:50:06.131Z"
   },
   {
    "duration": 8,
    "start_time": "2022-09-23T08:50:06.137Z"
   },
   {
    "duration": 355,
    "start_time": "2022-09-23T08:50:06.146Z"
   },
   {
    "duration": 24,
    "start_time": "2022-09-23T08:50:06.502Z"
   },
   {
    "duration": 5,
    "start_time": "2022-09-23T08:50:06.528Z"
   },
   {
    "duration": 145,
    "start_time": "2022-09-23T08:50:06.534Z"
   },
   {
    "duration": 8,
    "start_time": "2022-09-23T08:50:06.680Z"
   },
   {
    "duration": 144,
    "start_time": "2022-09-23T08:50:06.690Z"
   },
   {
    "duration": 8,
    "start_time": "2022-09-23T08:50:06.835Z"
   },
   {
    "duration": 131,
    "start_time": "2022-09-23T08:50:06.844Z"
   },
   {
    "duration": 138,
    "start_time": "2022-09-23T08:50:06.977Z"
   },
   {
    "duration": 9,
    "start_time": "2022-09-23T08:50:07.117Z"
   },
   {
    "duration": 168,
    "start_time": "2022-09-23T08:50:07.128Z"
   },
   {
    "duration": 11,
    "start_time": "2022-09-23T08:50:07.298Z"
   },
   {
    "duration": 180,
    "start_time": "2022-09-23T08:50:07.311Z"
   },
   {
    "duration": 15,
    "start_time": "2022-09-23T08:50:07.494Z"
   },
   {
    "duration": 134,
    "start_time": "2022-09-23T08:50:07.511Z"
   },
   {
    "duration": 8,
    "start_time": "2022-09-23T08:50:07.647Z"
   },
   {
    "duration": 128,
    "start_time": "2022-09-23T08:50:07.656Z"
   },
   {
    "duration": 8,
    "start_time": "2022-09-23T08:50:07.786Z"
   },
   {
    "duration": 137,
    "start_time": "2022-09-23T08:50:07.795Z"
   },
   {
    "duration": 8,
    "start_time": "2022-09-23T08:50:07.933Z"
   },
   {
    "duration": 153,
    "start_time": "2022-09-23T08:50:07.942Z"
   },
   {
    "duration": 14,
    "start_time": "2022-09-23T08:50:08.097Z"
   },
   {
    "duration": 181,
    "start_time": "2022-09-23T08:50:08.113Z"
   },
   {
    "duration": 20,
    "start_time": "2022-09-23T08:50:08.296Z"
   },
   {
    "duration": 161,
    "start_time": "2022-09-23T08:50:08.317Z"
   },
   {
    "duration": 8,
    "start_time": "2022-09-23T08:50:08.480Z"
   },
   {
    "duration": 118,
    "start_time": "2022-09-23T08:50:15.035Z"
   },
   {
    "duration": 2,
    "start_time": "2022-09-23T09:04:10.902Z"
   },
   {
    "duration": 135,
    "start_time": "2022-09-23T09:04:20.371Z"
   },
   {
    "duration": 185,
    "start_time": "2022-09-23T09:04:28.490Z"
   },
   {
    "duration": 1183,
    "start_time": "2022-09-23T09:12:07.095Z"
   },
   {
    "duration": 93,
    "start_time": "2022-09-23T09:12:08.280Z"
   },
   {
    "duration": 17,
    "start_time": "2022-09-23T09:12:08.374Z"
   },
   {
    "duration": 17,
    "start_time": "2022-09-23T09:12:08.393Z"
   },
   {
    "duration": 16,
    "start_time": "2022-09-23T09:12:08.412Z"
   },
   {
    "duration": 8,
    "start_time": "2022-09-23T09:12:08.430Z"
   },
   {
    "duration": 21,
    "start_time": "2022-09-23T09:12:08.439Z"
   },
   {
    "duration": 4,
    "start_time": "2022-09-23T09:12:08.462Z"
   },
   {
    "duration": 42,
    "start_time": "2022-09-23T09:12:08.467Z"
   },
   {
    "duration": 5,
    "start_time": "2022-09-23T09:12:08.510Z"
   },
   {
    "duration": 6,
    "start_time": "2022-09-23T09:12:08.517Z"
   },
   {
    "duration": 6,
    "start_time": "2022-09-23T09:12:08.524Z"
   },
   {
    "duration": 8,
    "start_time": "2022-09-23T09:12:08.531Z"
   },
   {
    "duration": 28,
    "start_time": "2022-09-23T09:12:08.542Z"
   },
   {
    "duration": 8,
    "start_time": "2022-09-23T09:12:08.572Z"
   },
   {
    "duration": 22,
    "start_time": "2022-09-23T09:12:08.582Z"
   },
   {
    "duration": 9,
    "start_time": "2022-09-23T09:12:08.608Z"
   },
   {
    "duration": 15,
    "start_time": "2022-09-23T09:12:08.619Z"
   },
   {
    "duration": 30,
    "start_time": "2022-09-23T09:12:08.636Z"
   },
   {
    "duration": 7,
    "start_time": "2022-09-23T09:12:08.668Z"
   },
   {
    "duration": 36,
    "start_time": "2022-09-23T09:12:08.676Z"
   },
   {
    "duration": 9,
    "start_time": "2022-09-23T09:12:08.713Z"
   },
   {
    "duration": 5,
    "start_time": "2022-09-23T09:12:08.724Z"
   },
   {
    "duration": 7,
    "start_time": "2022-09-23T09:12:08.730Z"
   },
   {
    "duration": 11,
    "start_time": "2022-09-23T09:12:08.739Z"
   },
   {
    "duration": 10,
    "start_time": "2022-09-23T09:12:08.751Z"
   },
   {
    "duration": 7,
    "start_time": "2022-09-23T09:12:08.763Z"
   },
   {
    "duration": 8,
    "start_time": "2022-09-23T09:12:08.772Z"
   },
   {
    "duration": 28,
    "start_time": "2022-09-23T09:12:08.781Z"
   },
   {
    "duration": 4,
    "start_time": "2022-09-23T09:12:08.810Z"
   },
   {
    "duration": 59,
    "start_time": "2022-09-23T09:12:08.816Z"
   },
   {
    "duration": 5,
    "start_time": "2022-09-23T09:12:08.876Z"
   },
   {
    "duration": 5,
    "start_time": "2022-09-23T09:12:08.908Z"
   },
   {
    "duration": 388,
    "start_time": "2022-09-23T09:12:08.914Z"
   },
   {
    "duration": 21,
    "start_time": "2022-09-23T09:12:09.304Z"
   },
   {
    "duration": 3,
    "start_time": "2022-09-23T09:12:09.327Z"
   },
   {
    "duration": 149,
    "start_time": "2022-09-23T09:12:09.331Z"
   },
   {
    "duration": 8,
    "start_time": "2022-09-23T09:12:09.481Z"
   },
   {
    "duration": 133,
    "start_time": "2022-09-23T09:12:09.491Z"
   },
   {
    "duration": 8,
    "start_time": "2022-09-23T09:12:09.625Z"
   },
   {
    "duration": 151,
    "start_time": "2022-09-23T09:12:09.637Z"
   },
   {
    "duration": 150,
    "start_time": "2022-09-23T09:12:09.790Z"
   },
   {
    "duration": 7,
    "start_time": "2022-09-23T09:12:09.942Z"
   },
   {
    "duration": 152,
    "start_time": "2022-09-23T09:12:09.951Z"
   },
   {
    "duration": 10,
    "start_time": "2022-09-23T09:12:10.104Z"
   },
   {
    "duration": 192,
    "start_time": "2022-09-23T09:12:10.115Z"
   },
   {
    "duration": 10,
    "start_time": "2022-09-23T09:12:10.309Z"
   },
   {
    "duration": 131,
    "start_time": "2022-09-23T09:12:10.321Z"
   },
   {
    "duration": 7,
    "start_time": "2022-09-23T09:12:10.454Z"
   },
   {
    "duration": 128,
    "start_time": "2022-09-23T09:12:10.462Z"
   },
   {
    "duration": 17,
    "start_time": "2022-09-23T09:12:10.592Z"
   },
   {
    "duration": 140,
    "start_time": "2022-09-23T09:12:10.610Z"
   },
   {
    "duration": 7,
    "start_time": "2022-09-23T09:12:10.752Z"
   },
   {
    "duration": 136,
    "start_time": "2022-09-23T09:12:10.761Z"
   },
   {
    "duration": 14,
    "start_time": "2022-09-23T09:12:10.899Z"
   },
   {
    "duration": 139,
    "start_time": "2022-09-23T09:12:10.915Z"
   },
   {
    "duration": 9,
    "start_time": "2022-09-23T09:12:11.056Z"
   },
   {
    "duration": 154,
    "start_time": "2022-09-23T09:12:11.066Z"
   },
   {
    "duration": 7,
    "start_time": "2022-09-23T09:12:11.222Z"
   },
   {
    "duration": 3,
    "start_time": "2022-09-23T09:12:11.232Z"
   },
   {
    "duration": 7,
    "start_time": "2022-09-23T09:12:11.237Z"
   },
   {
    "duration": 9,
    "start_time": "2022-09-23T09:12:11.246Z"
   },
   {
    "duration": 9,
    "start_time": "2022-09-23T09:12:11.256Z"
   },
   {
    "duration": 7,
    "start_time": "2022-09-23T09:12:11.268Z"
   },
   {
    "duration": 171,
    "start_time": "2022-09-23T09:12:11.277Z"
   },
   {
    "duration": 10,
    "start_time": "2022-09-23T09:12:11.450Z"
   },
   {
    "duration": 2,
    "start_time": "2022-09-23T09:12:11.461Z"
   },
   {
    "duration": 126,
    "start_time": "2022-09-23T09:12:25.532Z"
   },
   {
    "duration": 1896,
    "start_time": "2022-09-23T09:13:19.260Z"
   },
   {
    "duration": 1833,
    "start_time": "2022-09-23T09:13:26.099Z"
   },
   {
    "duration": 115,
    "start_time": "2022-09-23T09:13:42.211Z"
   },
   {
    "duration": 139,
    "start_time": "2022-09-23T09:13:48.050Z"
   },
   {
    "duration": 138,
    "start_time": "2022-09-23T09:14:01.082Z"
   },
   {
    "duration": 257,
    "start_time": "2022-09-23T09:14:11.203Z"
   },
   {
    "duration": 137,
    "start_time": "2022-09-23T09:14:22.402Z"
   },
   {
    "duration": 138,
    "start_time": "2022-09-23T09:14:30.122Z"
   },
   {
    "duration": 110,
    "start_time": "2022-09-23T09:16:26.937Z"
   },
   {
    "duration": 16,
    "start_time": "2022-09-23T09:16:32.650Z"
   },
   {
    "duration": 18,
    "start_time": "2022-09-23T09:16:47.065Z"
   },
   {
    "duration": 215,
    "start_time": "2022-09-23T09:16:53.466Z"
   },
   {
    "duration": 8,
    "start_time": "2022-09-23T09:21:43.102Z"
   },
   {
    "duration": 1145,
    "start_time": "2022-09-23T09:21:50.750Z"
   },
   {
    "duration": 2,
    "start_time": "2022-09-23T09:29:26.281Z"
   },
   {
    "duration": 9,
    "start_time": "2022-09-23T12:09:44.000Z"
   },
   {
    "duration": 9,
    "start_time": "2022-09-23T12:09:47.512Z"
   },
   {
    "duration": 1266,
    "start_time": "2022-09-23T12:09:51.096Z"
   },
   {
    "duration": 4,
    "start_time": "2022-09-23T12:10:19.445Z"
   },
   {
    "duration": 98,
    "start_time": "2022-09-23T12:10:19.451Z"
   },
   {
    "duration": 17,
    "start_time": "2022-09-23T12:10:19.551Z"
   },
   {
    "duration": 41,
    "start_time": "2022-09-23T12:10:19.569Z"
   },
   {
    "duration": 15,
    "start_time": "2022-09-23T12:10:19.613Z"
   },
   {
    "duration": 9,
    "start_time": "2022-09-23T12:10:19.629Z"
   },
   {
    "duration": 20,
    "start_time": "2022-09-23T12:10:19.639Z"
   },
   {
    "duration": 5,
    "start_time": "2022-09-23T12:10:19.661Z"
   },
   {
    "duration": 52,
    "start_time": "2022-09-23T12:10:19.667Z"
   },
   {
    "duration": 5,
    "start_time": "2022-09-23T12:10:19.721Z"
   },
   {
    "duration": 3,
    "start_time": "2022-09-23T12:10:19.729Z"
   },
   {
    "duration": 5,
    "start_time": "2022-09-23T12:10:19.734Z"
   },
   {
    "duration": 5,
    "start_time": "2022-09-23T12:10:19.741Z"
   },
   {
    "duration": 10,
    "start_time": "2022-09-23T12:10:19.748Z"
   },
   {
    "duration": 10,
    "start_time": "2022-09-23T12:10:19.760Z"
   },
   {
    "duration": 59,
    "start_time": "2022-09-23T12:10:19.772Z"
   },
   {
    "duration": 9,
    "start_time": "2022-09-23T12:10:19.833Z"
   },
   {
    "duration": 16,
    "start_time": "2022-09-23T12:10:19.844Z"
   },
   {
    "duration": 53,
    "start_time": "2022-09-23T12:10:19.862Z"
   },
   {
    "duration": 10,
    "start_time": "2022-09-23T12:10:19.916Z"
   },
   {
    "duration": 15,
    "start_time": "2022-09-23T12:10:19.929Z"
   },
   {
    "duration": 6,
    "start_time": "2022-09-23T12:10:19.946Z"
   },
   {
    "duration": 7,
    "start_time": "2022-09-23T12:10:19.954Z"
   },
   {
    "duration": 6,
    "start_time": "2022-09-23T12:10:19.962Z"
   },
   {
    "duration": 39,
    "start_time": "2022-09-23T12:10:19.970Z"
   },
   {
    "duration": 8,
    "start_time": "2022-09-23T12:10:20.011Z"
   },
   {
    "duration": 14,
    "start_time": "2022-09-23T12:10:20.021Z"
   },
   {
    "duration": 10,
    "start_time": "2022-09-23T12:10:20.037Z"
   },
   {
    "duration": 14,
    "start_time": "2022-09-23T12:10:20.054Z"
   },
   {
    "duration": 7,
    "start_time": "2022-09-23T12:10:20.071Z"
   },
   {
    "duration": 97,
    "start_time": "2022-09-23T12:10:20.080Z"
   },
   {
    "duration": 5,
    "start_time": "2022-09-23T12:10:20.179Z"
   },
   {
    "duration": 21,
    "start_time": "2022-09-23T12:10:20.185Z"
   },
   {
    "duration": 343,
    "start_time": "2022-09-23T12:10:20.209Z"
   },
   {
    "duration": 30,
    "start_time": "2022-09-23T12:10:20.554Z"
   },
   {
    "duration": 5,
    "start_time": "2022-09-23T12:10:20.586Z"
   },
   {
    "duration": 148,
    "start_time": "2022-09-23T12:10:20.592Z"
   },
   {
    "duration": 8,
    "start_time": "2022-09-23T12:10:20.742Z"
   },
   {
    "duration": 164,
    "start_time": "2022-09-23T12:10:20.752Z"
   },
   {
    "duration": 8,
    "start_time": "2022-09-23T12:10:20.918Z"
   },
   {
    "duration": 142,
    "start_time": "2022-09-23T12:10:20.928Z"
   },
   {
    "duration": 160,
    "start_time": "2022-09-23T12:10:21.073Z"
   },
   {
    "duration": 8,
    "start_time": "2022-09-23T12:10:21.235Z"
   },
   {
    "duration": 237,
    "start_time": "2022-09-23T12:10:21.245Z"
   },
   {
    "duration": 8,
    "start_time": "2022-09-23T12:10:21.483Z"
   },
   {
    "duration": 141,
    "start_time": "2022-09-23T12:10:21.493Z"
   },
   {
    "duration": 9,
    "start_time": "2022-09-23T12:10:21.635Z"
   },
   {
    "duration": 140,
    "start_time": "2022-09-23T12:10:21.645Z"
   },
   {
    "duration": 9,
    "start_time": "2022-09-23T12:10:21.787Z"
   },
   {
    "duration": 142,
    "start_time": "2022-09-23T12:10:21.798Z"
   },
   {
    "duration": 8,
    "start_time": "2022-09-23T12:10:21.942Z"
   },
   {
    "duration": 146,
    "start_time": "2022-09-23T12:10:21.951Z"
   },
   {
    "duration": 12,
    "start_time": "2022-09-23T12:10:22.098Z"
   },
   {
    "duration": 140,
    "start_time": "2022-09-23T12:10:22.111Z"
   },
   {
    "duration": 11,
    "start_time": "2022-09-23T12:10:22.253Z"
   },
   {
    "duration": 130,
    "start_time": "2022-09-23T12:10:22.266Z"
   },
   {
    "duration": 17,
    "start_time": "2022-09-23T12:10:22.398Z"
   },
   {
    "duration": 165,
    "start_time": "2022-09-23T12:10:22.417Z"
   },
   {
    "duration": 227,
    "start_time": "2022-09-23T12:10:22.584Z"
   },
   {
    "duration": 10,
    "start_time": "2022-09-23T12:10:22.813Z"
   },
   {
    "duration": 26,
    "start_time": "2022-09-23T12:10:22.825Z"
   },
   {
    "duration": 29,
    "start_time": "2022-09-23T12:10:22.853Z"
   },
   {
    "duration": 12,
    "start_time": "2022-09-23T12:10:22.884Z"
   },
   {
    "duration": 7,
    "start_time": "2022-09-23T12:10:22.897Z"
   },
   {
    "duration": 5,
    "start_time": "2022-09-23T12:10:22.905Z"
   },
   {
    "duration": 140,
    "start_time": "2022-09-23T12:10:22.911Z"
   },
   {
    "duration": 9,
    "start_time": "2022-09-23T12:10:23.052Z"
   },
   {
    "duration": 4,
    "start_time": "2022-09-23T12:10:23.063Z"
   },
   {
    "duration": 165,
    "start_time": "2022-09-23T12:10:23.068Z"
   },
   {
    "duration": 1107,
    "start_time": "2022-09-23T12:10:23.236Z"
   },
   {
    "duration": 24,
    "start_time": "2022-09-23T12:10:52.008Z"
   },
   {
    "duration": 1302,
    "start_time": "2022-09-24T10:40:46.002Z"
   },
   {
    "duration": 291,
    "start_time": "2022-09-24T10:40:47.305Z"
   },
   {
    "duration": 16,
    "start_time": "2022-09-24T10:40:47.598Z"
   },
   {
    "duration": 12,
    "start_time": "2022-09-24T10:40:47.617Z"
   },
   {
    "duration": 17,
    "start_time": "2022-09-24T10:40:47.630Z"
   },
   {
    "duration": 8,
    "start_time": "2022-09-24T10:40:47.649Z"
   },
   {
    "duration": 21,
    "start_time": "2022-09-24T10:40:47.658Z"
   },
   {
    "duration": 29,
    "start_time": "2022-09-24T10:40:47.681Z"
   },
   {
    "duration": 14,
    "start_time": "2022-09-24T10:40:47.712Z"
   },
   {
    "duration": 4,
    "start_time": "2022-09-24T10:40:47.728Z"
   },
   {
    "duration": 4,
    "start_time": "2022-09-24T10:40:47.734Z"
   },
   {
    "duration": 6,
    "start_time": "2022-09-24T10:40:47.740Z"
   },
   {
    "duration": 8,
    "start_time": "2022-09-24T10:40:47.747Z"
   },
   {
    "duration": 12,
    "start_time": "2022-09-24T10:40:47.756Z"
   },
   {
    "duration": 8,
    "start_time": "2022-09-24T10:40:47.769Z"
   },
   {
    "duration": 46,
    "start_time": "2022-09-24T10:40:47.778Z"
   },
   {
    "duration": 6,
    "start_time": "2022-09-24T10:40:47.826Z"
   },
   {
    "duration": 11,
    "start_time": "2022-09-24T10:40:47.834Z"
   },
   {
    "duration": 26,
    "start_time": "2022-09-24T10:40:47.846Z"
   },
   {
    "duration": 11,
    "start_time": "2022-09-24T10:40:47.873Z"
   },
   {
    "duration": 26,
    "start_time": "2022-09-24T10:40:47.886Z"
   },
   {
    "duration": 6,
    "start_time": "2022-09-24T10:40:47.914Z"
   },
   {
    "duration": 8,
    "start_time": "2022-09-24T10:40:47.922Z"
   },
   {
    "duration": 4,
    "start_time": "2022-09-24T10:40:47.932Z"
   },
   {
    "duration": 6,
    "start_time": "2022-09-24T10:40:47.938Z"
   },
   {
    "duration": 8,
    "start_time": "2022-09-24T10:40:47.946Z"
   },
   {
    "duration": 5,
    "start_time": "2022-09-24T10:40:47.955Z"
   },
   {
    "duration": 4,
    "start_time": "2022-09-24T10:40:47.963Z"
   },
   {
    "duration": 41,
    "start_time": "2022-09-24T10:40:47.968Z"
   },
   {
    "duration": 7,
    "start_time": "2022-09-24T10:40:48.010Z"
   },
   {
    "duration": 49,
    "start_time": "2022-09-24T10:40:48.018Z"
   },
   {
    "duration": 4,
    "start_time": "2022-09-24T10:40:48.068Z"
   },
   {
    "duration": 6,
    "start_time": "2022-09-24T10:40:48.074Z"
   },
   {
    "duration": 353,
    "start_time": "2022-09-24T10:40:48.081Z"
   },
   {
    "duration": 19,
    "start_time": "2022-09-24T10:40:48.435Z"
   },
   {
    "duration": 7,
    "start_time": "2022-09-24T10:40:48.455Z"
   },
   {
    "duration": 142,
    "start_time": "2022-09-24T10:40:48.464Z"
   },
   {
    "duration": 7,
    "start_time": "2022-09-24T10:40:48.609Z"
   },
   {
    "duration": 135,
    "start_time": "2022-09-24T10:40:48.618Z"
   },
   {
    "duration": 7,
    "start_time": "2022-09-24T10:40:48.755Z"
   },
   {
    "duration": 135,
    "start_time": "2022-09-24T10:40:48.763Z"
   },
   {
    "duration": 132,
    "start_time": "2022-09-24T10:40:48.900Z"
   },
   {
    "duration": 9,
    "start_time": "2022-09-24T10:40:49.034Z"
   },
   {
    "duration": 153,
    "start_time": "2022-09-24T10:40:49.045Z"
   },
   {
    "duration": 14,
    "start_time": "2022-09-24T10:40:49.200Z"
   },
   {
    "duration": 176,
    "start_time": "2022-09-24T10:40:49.216Z"
   },
   {
    "duration": 7,
    "start_time": "2022-09-24T10:40:49.394Z"
   },
   {
    "duration": 120,
    "start_time": "2022-09-24T10:40:49.409Z"
   },
   {
    "duration": 7,
    "start_time": "2022-09-24T10:40:49.531Z"
   },
   {
    "duration": 120,
    "start_time": "2022-09-24T10:40:49.539Z"
   },
   {
    "duration": 7,
    "start_time": "2022-09-24T10:40:49.660Z"
   },
   {
    "duration": 131,
    "start_time": "2022-09-24T10:40:49.669Z"
   },
   {
    "duration": 12,
    "start_time": "2022-09-24T10:40:49.801Z"
   },
   {
    "duration": 130,
    "start_time": "2022-09-24T10:40:49.815Z"
   },
   {
    "duration": 8,
    "start_time": "2022-09-24T10:40:49.947Z"
   },
   {
    "duration": 125,
    "start_time": "2022-09-24T10:40:49.956Z"
   },
   {
    "duration": 8,
    "start_time": "2022-09-24T10:40:50.082Z"
   },
   {
    "duration": 148,
    "start_time": "2022-09-24T10:40:50.091Z"
   },
   {
    "duration": 150,
    "start_time": "2022-09-24T10:40:50.241Z"
   },
   {
    "duration": 8,
    "start_time": "2022-09-24T10:40:50.393Z"
   },
   {
    "duration": 7,
    "start_time": "2022-09-24T10:40:50.402Z"
   },
   {
    "duration": 5,
    "start_time": "2022-09-24T10:40:50.411Z"
   },
   {
    "duration": 8,
    "start_time": "2022-09-24T10:40:50.417Z"
   },
   {
    "duration": 8,
    "start_time": "2022-09-24T10:40:50.426Z"
   },
   {
    "duration": 14,
    "start_time": "2022-09-24T10:40:50.436Z"
   },
   {
    "duration": 140,
    "start_time": "2022-09-24T10:40:50.451Z"
   },
   {
    "duration": 8,
    "start_time": "2022-09-24T10:40:50.593Z"
   },
   {
    "duration": 2,
    "start_time": "2022-09-24T10:40:50.609Z"
   },
   {
    "duration": 171,
    "start_time": "2022-09-24T10:40:53.075Z"
   },
   {
    "duration": 218,
    "start_time": "2022-09-24T10:43:16.652Z"
   },
   {
    "duration": 260,
    "start_time": "2022-09-24T10:43:23.130Z"
   },
   {
    "duration": 205,
    "start_time": "2022-09-24T10:43:41.875Z"
   },
   {
    "duration": 11,
    "start_time": "2022-09-24T11:23:31.938Z"
   },
   {
    "duration": 9,
    "start_time": "2022-09-24T11:23:34.074Z"
   },
   {
    "duration": 8,
    "start_time": "2022-09-24T11:23:36.266Z"
   },
   {
    "duration": 3,
    "start_time": "2022-09-24T11:38:34.897Z"
   },
   {
    "duration": 4,
    "start_time": "2022-09-24T11:38:45.506Z"
   },
   {
    "duration": 17,
    "start_time": "2022-09-24T11:39:41.097Z"
   },
   {
    "duration": 17,
    "start_time": "2022-09-24T11:40:43.257Z"
   },
   {
    "duration": 16,
    "start_time": "2022-09-24T11:40:57.567Z"
   },
   {
    "duration": 15,
    "start_time": "2022-09-24T11:42:46.877Z"
   },
   {
    "duration": 18,
    "start_time": "2022-09-24T11:43:01.855Z"
   },
   {
    "duration": 145,
    "start_time": "2022-09-24T11:44:08.518Z"
   },
   {
    "duration": 125,
    "start_time": "2022-09-24T11:44:48.198Z"
   },
   {
    "duration": 188,
    "start_time": "2022-09-24T11:44:52.630Z"
   },
   {
    "duration": 147,
    "start_time": "2022-09-24T11:44:55.738Z"
   },
   {
    "duration": 108,
    "start_time": "2022-09-24T12:07:28.402Z"
   },
   {
    "duration": 9,
    "start_time": "2022-09-24T12:07:37.224Z"
   },
   {
    "duration": 18260,
    "start_time": "2022-09-24T12:07:44.047Z"
   },
   {
    "duration": 0,
    "start_time": "2022-09-24T12:08:02.313Z"
   },
   {
    "duration": 139,
    "start_time": "2022-09-24T12:08:04.704Z"
   },
   {
    "duration": 4,
    "start_time": "2022-09-24T12:08:09.480Z"
   },
   {
    "duration": 109,
    "start_time": "2022-09-24T12:08:09.487Z"
   },
   {
    "duration": 16,
    "start_time": "2022-09-24T12:08:09.598Z"
   },
   {
    "duration": 31,
    "start_time": "2022-09-24T12:08:09.616Z"
   },
   {
    "duration": 36,
    "start_time": "2022-09-24T12:08:09.648Z"
   },
   {
    "duration": 17,
    "start_time": "2022-09-24T12:08:09.686Z"
   },
   {
    "duration": 32,
    "start_time": "2022-09-24T12:08:09.705Z"
   },
   {
    "duration": 17,
    "start_time": "2022-09-24T12:08:09.739Z"
   },
   {
    "duration": 24,
    "start_time": "2022-09-24T12:08:09.759Z"
   },
   {
    "duration": 11,
    "start_time": "2022-09-24T12:08:09.785Z"
   },
   {
    "duration": 11,
    "start_time": "2022-09-24T12:08:09.797Z"
   },
   {
    "duration": 29,
    "start_time": "2022-09-24T12:08:09.810Z"
   },
   {
    "duration": 19,
    "start_time": "2022-09-24T12:08:09.841Z"
   },
   {
    "duration": 25,
    "start_time": "2022-09-24T12:08:09.862Z"
   },
   {
    "duration": 48,
    "start_time": "2022-09-24T12:08:09.889Z"
   },
   {
    "duration": 29,
    "start_time": "2022-09-24T12:08:09.938Z"
   },
   {
    "duration": 8,
    "start_time": "2022-09-24T12:08:09.969Z"
   },
   {
    "duration": 20,
    "start_time": "2022-09-24T12:08:09.979Z"
   },
   {
    "duration": 46,
    "start_time": "2022-09-24T12:08:10.001Z"
   },
   {
    "duration": 10,
    "start_time": "2022-09-24T12:08:10.049Z"
   },
   {
    "duration": 30,
    "start_time": "2022-09-24T12:08:10.060Z"
   },
   {
    "duration": 24,
    "start_time": "2022-09-24T12:08:10.091Z"
   },
   {
    "duration": 18,
    "start_time": "2022-09-24T12:08:10.118Z"
   },
   {
    "duration": 10,
    "start_time": "2022-09-24T12:08:10.140Z"
   },
   {
    "duration": 27,
    "start_time": "2022-09-24T12:08:10.152Z"
   },
   {
    "duration": 26,
    "start_time": "2022-09-24T12:08:10.180Z"
   },
   {
    "duration": 18,
    "start_time": "2022-09-24T12:08:10.208Z"
   },
   {
    "duration": 25,
    "start_time": "2022-09-24T12:08:10.227Z"
   },
   {
    "duration": 18,
    "start_time": "2022-09-24T12:08:10.254Z"
   },
   {
    "duration": 24,
    "start_time": "2022-09-24T12:08:10.273Z"
   },
   {
    "duration": 74,
    "start_time": "2022-09-24T12:08:10.299Z"
   },
   {
    "duration": 4,
    "start_time": "2022-09-24T12:08:10.375Z"
   },
   {
    "duration": 14,
    "start_time": "2022-09-24T12:08:10.381Z"
   },
   {
    "duration": 389,
    "start_time": "2022-09-24T12:08:10.397Z"
   },
   {
    "duration": 23,
    "start_time": "2022-09-24T12:08:10.787Z"
   },
   {
    "duration": 34,
    "start_time": "2022-09-24T12:08:10.812Z"
   },
   {
    "duration": 148,
    "start_time": "2022-09-24T12:08:10.848Z"
   },
   {
    "duration": 7,
    "start_time": "2022-09-24T12:08:10.997Z"
   },
   {
    "duration": 152,
    "start_time": "2022-09-24T12:08:11.006Z"
   },
   {
    "duration": 13,
    "start_time": "2022-09-24T12:08:11.160Z"
   },
   {
    "duration": 151,
    "start_time": "2022-09-24T12:08:11.175Z"
   },
   {
    "duration": 146,
    "start_time": "2022-09-24T12:08:11.328Z"
   },
   {
    "duration": 8,
    "start_time": "2022-09-24T12:08:11.476Z"
   },
   {
    "duration": 434,
    "start_time": "2022-09-24T12:08:11.486Z"
   },
   {
    "duration": 11,
    "start_time": "2022-09-24T12:08:11.922Z"
   },
   {
    "duration": 307,
    "start_time": "2022-09-24T12:08:11.935Z"
   },
   {
    "duration": 8,
    "start_time": "2022-09-24T12:08:12.244Z"
   },
   {
    "duration": 304,
    "start_time": "2022-09-24T12:08:12.308Z"
   },
   {
    "duration": 12,
    "start_time": "2022-09-24T12:08:12.617Z"
   },
   {
    "duration": 322,
    "start_time": "2022-09-24T12:08:12.632Z"
   },
   {
    "duration": 12,
    "start_time": "2022-09-24T12:08:13.009Z"
   },
   {
    "duration": 318,
    "start_time": "2022-09-24T12:08:13.023Z"
   },
   {
    "duration": 8,
    "start_time": "2022-09-24T12:08:13.342Z"
   },
   {
    "duration": 361,
    "start_time": "2022-09-24T12:08:13.351Z"
   },
   {
    "duration": 17,
    "start_time": "2022-09-24T12:08:13.714Z"
   },
   {
    "duration": 402,
    "start_time": "2022-09-24T12:08:13.732Z"
   },
   {
    "duration": 9,
    "start_time": "2022-09-24T12:08:14.136Z"
   },
   {
    "duration": 399,
    "start_time": "2022-09-24T12:08:14.146Z"
   },
   {
    "duration": 380,
    "start_time": "2022-09-24T12:08:14.547Z"
   },
   {
    "duration": 9,
    "start_time": "2022-09-24T12:08:14.929Z"
   },
   {
    "duration": 69,
    "start_time": "2022-09-24T12:08:14.940Z"
   },
   {
    "duration": 40,
    "start_time": "2022-09-24T12:08:15.012Z"
   },
   {
    "duration": 66,
    "start_time": "2022-09-24T12:08:15.053Z"
   },
   {
    "duration": 31,
    "start_time": "2022-09-24T12:08:15.121Z"
   },
   {
    "duration": 56,
    "start_time": "2022-09-24T12:08:15.154Z"
   },
   {
    "duration": 327,
    "start_time": "2022-09-24T12:08:15.213Z"
   },
   {
    "duration": 7,
    "start_time": "2022-09-24T12:08:15.541Z"
   },
   {
    "duration": 2,
    "start_time": "2022-09-24T12:08:15.550Z"
   },
   {
    "duration": 381,
    "start_time": "2022-09-24T12:08:15.614Z"
   },
   {
    "duration": 152,
    "start_time": "2022-09-24T12:08:15.997Z"
   },
   {
    "duration": 20,
    "start_time": "2022-09-24T12:08:16.150Z"
   },
   {
    "duration": 0,
    "start_time": "2022-09-24T12:08:16.172Z"
   },
   {
    "duration": 262,
    "start_time": "2022-09-24T12:09:01.336Z"
   },
   {
    "duration": 48,
    "start_time": "2022-09-24T12:09:52.826Z"
   },
   {
    "duration": 127,
    "start_time": "2022-09-24T12:10:00.565Z"
   },
   {
    "duration": 144,
    "start_time": "2022-09-24T12:10:12.350Z"
   },
   {
    "duration": 153,
    "start_time": "2022-09-24T12:10:19.905Z"
   },
   {
    "duration": 145,
    "start_time": "2022-09-24T12:10:33.694Z"
   },
   {
    "duration": 136,
    "start_time": "2022-09-24T12:12:15.557Z"
   },
   {
    "duration": 2,
    "start_time": "2022-09-24T12:13:50.053Z"
   },
   {
    "duration": 2,
    "start_time": "2022-09-24T12:14:18.821Z"
   },
   {
    "duration": 2,
    "start_time": "2022-09-24T12:14:20.460Z"
   },
   {
    "duration": 125,
    "start_time": "2022-09-24T12:15:14.533Z"
   },
   {
    "duration": 3,
    "start_time": "2022-09-24T12:16:01.691Z"
   },
   {
    "duration": 3,
    "start_time": "2022-09-24T12:16:46.955Z"
   },
   {
    "duration": 206,
    "start_time": "2022-09-24T12:18:51.834Z"
   },
   {
    "duration": 203,
    "start_time": "2022-09-24T12:19:08.274Z"
   },
   {
    "duration": 222,
    "start_time": "2022-09-24T12:19:13.058Z"
   },
   {
    "duration": 492,
    "start_time": "2022-09-24T12:19:29.641Z"
   },
   {
    "duration": 202,
    "start_time": "2022-09-24T12:19:49.785Z"
   },
   {
    "duration": 198,
    "start_time": "2022-09-24T12:20:28.392Z"
   },
   {
    "duration": 201,
    "start_time": "2022-09-24T12:20:38.488Z"
   },
   {
    "duration": 121,
    "start_time": "2022-09-24T12:20:45.648Z"
   },
   {
    "duration": 114,
    "start_time": "2022-09-24T12:20:55.761Z"
   },
   {
    "duration": 277,
    "start_time": "2022-09-24T12:20:59.360Z"
   },
   {
    "duration": 132,
    "start_time": "2022-09-24T12:21:03.400Z"
   },
   {
    "duration": 190,
    "start_time": "2022-09-24T12:21:06.929Z"
   },
   {
    "duration": 757,
    "start_time": "2022-09-24T12:21:50.608Z"
   },
   {
    "duration": 222,
    "start_time": "2022-09-24T12:22:14.064Z"
   },
   {
    "duration": 141,
    "start_time": "2022-09-24T12:22:46.776Z"
   },
   {
    "duration": 26,
    "start_time": "2022-09-24T12:28:41.780Z"
   },
   {
    "duration": 17,
    "start_time": "2022-09-24T12:28:50.876Z"
   },
   {
    "duration": 73,
    "start_time": "2022-09-24T12:29:47.619Z"
   },
   {
    "duration": 20,
    "start_time": "2022-09-24T12:29:51.611Z"
   },
   {
    "duration": 76,
    "start_time": "2022-09-24T12:30:06.140Z"
   },
   {
    "duration": 144,
    "start_time": "2022-09-24T12:30:09.332Z"
   },
   {
    "duration": 147,
    "start_time": "2022-09-24T12:30:29.834Z"
   },
   {
    "duration": 23,
    "start_time": "2022-09-24T12:34:52.152Z"
   },
   {
    "duration": 187,
    "start_time": "2022-09-24T12:35:12.616Z"
   },
   {
    "duration": 169,
    "start_time": "2022-09-24T12:43:27.163Z"
   },
   {
    "duration": 153,
    "start_time": "2022-09-24T12:43:36.274Z"
   },
   {
    "duration": 1383,
    "start_time": "2022-09-27T12:42:35.163Z"
   },
   {
    "duration": 298,
    "start_time": "2022-09-27T12:42:36.549Z"
   },
   {
    "duration": 20,
    "start_time": "2022-09-27T12:42:36.849Z"
   },
   {
    "duration": 14,
    "start_time": "2022-09-27T12:42:36.871Z"
   },
   {
    "duration": 17,
    "start_time": "2022-09-27T12:42:36.887Z"
   },
   {
    "duration": 22,
    "start_time": "2022-09-27T12:42:36.906Z"
   },
   {
    "duration": 28,
    "start_time": "2022-09-27T12:42:36.930Z"
   },
   {
    "duration": 5,
    "start_time": "2022-09-27T12:42:36.960Z"
   },
   {
    "duration": 20,
    "start_time": "2022-09-27T12:42:36.967Z"
   },
   {
    "duration": 30,
    "start_time": "2022-09-27T12:42:36.990Z"
   },
   {
    "duration": 4,
    "start_time": "2022-09-27T12:42:37.022Z"
   },
   {
    "duration": 4,
    "start_time": "2022-09-27T12:42:37.033Z"
   },
   {
    "duration": 11,
    "start_time": "2022-09-27T12:42:37.039Z"
   },
   {
    "duration": 18,
    "start_time": "2022-09-27T12:42:37.052Z"
   },
   {
    "duration": 17,
    "start_time": "2022-09-27T12:42:37.072Z"
   },
   {
    "duration": 20,
    "start_time": "2022-09-27T12:42:37.091Z"
   },
   {
    "duration": 9,
    "start_time": "2022-09-27T12:42:37.121Z"
   },
   {
    "duration": 21,
    "start_time": "2022-09-27T12:42:37.133Z"
   },
   {
    "duration": 60,
    "start_time": "2022-09-27T12:42:37.156Z"
   },
   {
    "duration": 7,
    "start_time": "2022-09-27T12:42:37.221Z"
   },
   {
    "duration": 11,
    "start_time": "2022-09-27T12:42:37.230Z"
   },
   {
    "duration": 9,
    "start_time": "2022-09-27T12:42:37.243Z"
   },
   {
    "duration": 7,
    "start_time": "2022-09-27T12:42:37.254Z"
   },
   {
    "duration": 5,
    "start_time": "2022-09-27T12:42:37.262Z"
   },
   {
    "duration": 8,
    "start_time": "2022-09-27T12:42:37.268Z"
   },
   {
    "duration": 9,
    "start_time": "2022-09-27T12:42:37.278Z"
   },
   {
    "duration": 5,
    "start_time": "2022-09-27T12:42:37.321Z"
   },
   {
    "duration": 5,
    "start_time": "2022-09-27T12:42:37.330Z"
   },
   {
    "duration": 11,
    "start_time": "2022-09-27T12:42:37.337Z"
   },
   {
    "duration": 4,
    "start_time": "2022-09-27T12:42:37.350Z"
   },
   {
    "duration": 80,
    "start_time": "2022-09-27T12:42:37.356Z"
   },
   {
    "duration": 5,
    "start_time": "2022-09-27T12:42:37.438Z"
   },
   {
    "duration": 18,
    "start_time": "2022-09-27T12:42:37.445Z"
   },
   {
    "duration": 333,
    "start_time": "2022-09-27T12:42:37.465Z"
   },
   {
    "duration": 31,
    "start_time": "2022-09-27T12:42:37.800Z"
   },
   {
    "duration": 5,
    "start_time": "2022-09-27T12:42:37.833Z"
   },
   {
    "duration": 164,
    "start_time": "2022-09-27T12:42:37.840Z"
   },
   {
    "duration": 172,
    "start_time": "2022-09-27T12:42:38.006Z"
   },
   {
    "duration": 9,
    "start_time": "2022-09-27T12:42:38.179Z"
   },
   {
    "duration": 163,
    "start_time": "2022-09-27T12:42:38.190Z"
   },
   {
    "duration": 9,
    "start_time": "2022-09-27T12:42:38.355Z"
   },
   {
    "duration": 158,
    "start_time": "2022-09-27T12:42:38.365Z"
   },
   {
    "duration": 157,
    "start_time": "2022-09-27T12:42:38.525Z"
   },
   {
    "duration": 9,
    "start_time": "2022-09-27T12:42:38.684Z"
   },
   {
    "duration": 256,
    "start_time": "2022-09-27T12:42:38.694Z"
   },
   {
    "duration": 11,
    "start_time": "2022-09-27T12:42:38.952Z"
   },
   {
    "duration": 202,
    "start_time": "2022-09-27T12:42:38.965Z"
   },
   {
    "duration": 12,
    "start_time": "2022-09-27T12:42:39.170Z"
   },
   {
    "duration": 163,
    "start_time": "2022-09-27T12:42:39.185Z"
   },
   {
    "duration": 8,
    "start_time": "2022-09-27T12:42:39.349Z"
   },
   {
    "duration": 140,
    "start_time": "2022-09-27T12:42:39.359Z"
   },
   {
    "duration": 23,
    "start_time": "2022-09-27T12:42:39.501Z"
   },
   {
    "duration": 157,
    "start_time": "2022-09-27T12:42:39.526Z"
   },
   {
    "duration": 10,
    "start_time": "2022-09-27T12:42:39.686Z"
   },
   {
    "duration": 165,
    "start_time": "2022-09-27T12:42:39.698Z"
   },
   {
    "duration": 10,
    "start_time": "2022-09-27T12:42:39.864Z"
   },
   {
    "duration": 154,
    "start_time": "2022-09-27T12:42:39.876Z"
   },
   {
    "duration": 10,
    "start_time": "2022-09-27T12:42:40.032Z"
   },
   {
    "duration": 177,
    "start_time": "2022-09-27T12:42:40.043Z"
   },
   {
    "duration": 174,
    "start_time": "2022-09-27T12:42:40.222Z"
   },
   {
    "duration": 8,
    "start_time": "2022-09-27T12:42:40.398Z"
   },
   {
    "duration": 4,
    "start_time": "2022-09-27T12:42:40.420Z"
   },
   {
    "duration": 12,
    "start_time": "2022-09-27T12:42:40.426Z"
   },
   {
    "duration": 16,
    "start_time": "2022-09-27T12:42:40.440Z"
   },
   {
    "duration": 16,
    "start_time": "2022-09-27T12:42:40.458Z"
   },
   {
    "duration": 10,
    "start_time": "2022-09-27T12:42:40.475Z"
   },
   {
    "duration": 175,
    "start_time": "2022-09-27T12:42:40.487Z"
   },
   {
    "duration": 10,
    "start_time": "2022-09-27T12:42:40.664Z"
   },
   {
    "duration": 244,
    "start_time": "2022-09-27T12:42:40.676Z"
   },
   {
    "duration": 334,
    "start_time": "2022-09-27T12:42:40.922Z"
   },
   {
    "duration": 215,
    "start_time": "2022-09-27T12:42:41.258Z"
   },
   {
    "duration": 240,
    "start_time": "2022-09-27T12:42:41.475Z"
   },
   {
    "duration": 248,
    "start_time": "2022-09-27T12:42:41.716Z"
   },
   {
    "duration": 154,
    "start_time": "2022-09-27T12:42:41.966Z"
   },
   {
    "duration": 126,
    "start_time": "2022-09-27T12:42:42.122Z"
   },
   {
    "duration": 0,
    "start_time": "2022-09-27T12:42:42.250Z"
   },
   {
    "duration": 0,
    "start_time": "2022-09-27T12:42:42.252Z"
   },
   {
    "duration": 0,
    "start_time": "2022-09-27T12:42:42.253Z"
   },
   {
    "duration": 150,
    "start_time": "2022-09-27T13:03:24.561Z"
   },
   {
    "duration": 230,
    "start_time": "2022-09-27T13:03:47.313Z"
   },
   {
    "duration": 150,
    "start_time": "2022-09-27T13:04:15.900Z"
   },
   {
    "duration": 214,
    "start_time": "2022-09-27T13:04:35.577Z"
   },
   {
    "duration": 237,
    "start_time": "2022-09-27T13:04:44.416Z"
   },
   {
    "duration": 28,
    "start_time": "2022-09-27T13:08:11.822Z"
   },
   {
    "duration": 181,
    "start_time": "2022-09-27T13:08:30.629Z"
   },
   {
    "duration": 125,
    "start_time": "2022-09-27T13:09:10.592Z"
   },
   {
    "duration": 299,
    "start_time": "2022-09-27T13:09:30.470Z"
   },
   {
    "duration": 173,
    "start_time": "2022-09-27T13:09:54.525Z"
   },
   {
    "duration": 1313,
    "start_time": "2022-09-28T08:20:13.597Z"
   },
   {
    "duration": 324,
    "start_time": "2022-09-28T08:20:14.912Z"
   },
   {
    "duration": 17,
    "start_time": "2022-09-28T08:20:15.238Z"
   },
   {
    "duration": 11,
    "start_time": "2022-09-28T08:20:15.257Z"
   },
   {
    "duration": 21,
    "start_time": "2022-09-28T08:20:15.269Z"
   },
   {
    "duration": 9,
    "start_time": "2022-09-28T08:20:15.292Z"
   },
   {
    "duration": 21,
    "start_time": "2022-09-28T08:20:15.303Z"
   },
   {
    "duration": 28,
    "start_time": "2022-09-28T08:20:15.326Z"
   },
   {
    "duration": 21,
    "start_time": "2022-09-28T08:20:15.355Z"
   },
   {
    "duration": 15,
    "start_time": "2022-09-28T08:20:15.378Z"
   },
   {
    "duration": 6,
    "start_time": "2022-09-28T08:20:15.394Z"
   },
   {
    "duration": 12,
    "start_time": "2022-09-28T08:20:15.401Z"
   },
   {
    "duration": 24,
    "start_time": "2022-09-28T08:20:15.414Z"
   },
   {
    "duration": 25,
    "start_time": "2022-09-28T08:20:15.439Z"
   },
   {
    "duration": 19,
    "start_time": "2022-09-28T08:20:15.465Z"
   },
   {
    "duration": 20,
    "start_time": "2022-09-28T08:20:15.485Z"
   },
   {
    "duration": 6,
    "start_time": "2022-09-28T08:20:15.507Z"
   },
   {
    "duration": 31,
    "start_time": "2022-09-28T08:20:15.514Z"
   },
   {
    "duration": 34,
    "start_time": "2022-09-28T08:20:15.546Z"
   },
   {
    "duration": 5,
    "start_time": "2022-09-28T08:20:15.582Z"
   },
   {
    "duration": 31,
    "start_time": "2022-09-28T08:20:15.589Z"
   },
   {
    "duration": 9,
    "start_time": "2022-09-28T08:20:15.622Z"
   },
   {
    "duration": 12,
    "start_time": "2022-09-28T08:20:15.632Z"
   },
   {
    "duration": 30,
    "start_time": "2022-09-28T08:20:15.646Z"
   },
   {
    "duration": 16,
    "start_time": "2022-09-28T08:20:15.678Z"
   },
   {
    "duration": 18,
    "start_time": "2022-09-28T08:20:15.695Z"
   },
   {
    "duration": 21,
    "start_time": "2022-09-28T08:20:15.715Z"
   },
   {
    "duration": 17,
    "start_time": "2022-09-28T08:20:15.741Z"
   },
   {
    "duration": 8,
    "start_time": "2022-09-28T08:20:15.759Z"
   },
   {
    "duration": 6,
    "start_time": "2022-09-28T08:20:15.768Z"
   },
   {
    "duration": 49,
    "start_time": "2022-09-28T08:20:15.775Z"
   },
   {
    "duration": 4,
    "start_time": "2022-09-28T08:20:15.826Z"
   },
   {
    "duration": 8,
    "start_time": "2022-09-28T08:20:15.831Z"
   },
   {
    "duration": 334,
    "start_time": "2022-09-28T08:20:15.840Z"
   },
   {
    "duration": 20,
    "start_time": "2022-09-28T08:20:16.176Z"
   },
   {
    "duration": 12,
    "start_time": "2022-09-28T08:20:16.198Z"
   },
   {
    "duration": 138,
    "start_time": "2022-09-28T08:20:16.212Z"
   },
   {
    "duration": 149,
    "start_time": "2022-09-28T08:20:16.351Z"
   },
   {
    "duration": 12,
    "start_time": "2022-09-28T08:20:16.502Z"
   },
   {
    "duration": 132,
    "start_time": "2022-09-28T08:20:16.516Z"
   },
   {
    "duration": 7,
    "start_time": "2022-09-28T08:20:16.650Z"
   },
   {
    "duration": 139,
    "start_time": "2022-09-28T08:20:16.659Z"
   },
   {
    "duration": 131,
    "start_time": "2022-09-28T08:20:16.799Z"
   },
   {
    "duration": 7,
    "start_time": "2022-09-28T08:20:16.932Z"
   },
   {
    "duration": 200,
    "start_time": "2022-09-28T08:20:16.941Z"
   },
   {
    "duration": 7,
    "start_time": "2022-09-28T08:20:17.142Z"
   },
   {
    "duration": 134,
    "start_time": "2022-09-28T08:20:17.151Z"
   },
   {
    "duration": 8,
    "start_time": "2022-09-28T08:20:17.286Z"
   },
   {
    "duration": 127,
    "start_time": "2022-09-28T08:20:17.295Z"
   },
   {
    "duration": 7,
    "start_time": "2022-09-28T08:20:17.423Z"
   },
   {
    "duration": 118,
    "start_time": "2022-09-28T08:20:17.432Z"
   },
   {
    "duration": 7,
    "start_time": "2022-09-28T08:20:17.551Z"
   },
   {
    "duration": 140,
    "start_time": "2022-09-28T08:20:17.560Z"
   },
   {
    "duration": 12,
    "start_time": "2022-09-28T08:20:17.701Z"
   },
   {
    "duration": 136,
    "start_time": "2022-09-28T08:20:17.715Z"
   },
   {
    "duration": 8,
    "start_time": "2022-09-28T08:20:17.853Z"
   },
   {
    "duration": 126,
    "start_time": "2022-09-28T08:20:17.863Z"
   },
   {
    "duration": 18,
    "start_time": "2022-09-28T08:20:17.991Z"
   },
   {
    "duration": 142,
    "start_time": "2022-09-28T08:20:18.011Z"
   },
   {
    "duration": 154,
    "start_time": "2022-09-28T08:20:18.154Z"
   },
   {
    "duration": 7,
    "start_time": "2022-09-28T08:20:18.310Z"
   },
   {
    "duration": 3,
    "start_time": "2022-09-28T08:20:18.318Z"
   },
   {
    "duration": 9,
    "start_time": "2022-09-28T08:20:18.322Z"
   },
   {
    "duration": 14,
    "start_time": "2022-09-28T08:20:18.332Z"
   },
   {
    "duration": 24,
    "start_time": "2022-09-28T08:20:18.347Z"
   },
   {
    "duration": 6,
    "start_time": "2022-09-28T08:20:18.373Z"
   },
   {
    "duration": 141,
    "start_time": "2022-09-28T08:20:18.381Z"
   },
   {
    "duration": 8,
    "start_time": "2022-09-28T08:20:18.524Z"
   },
   {
    "duration": 242,
    "start_time": "2022-09-28T08:20:18.533Z"
   },
   {
    "duration": 282,
    "start_time": "2022-09-28T08:20:18.776Z"
   },
   {
    "duration": 205,
    "start_time": "2022-09-28T08:20:19.060Z"
   },
   {
    "duration": 212,
    "start_time": "2022-09-28T08:20:19.267Z"
   },
   {
    "duration": 204,
    "start_time": "2022-09-28T08:20:19.480Z"
   },
   {
    "duration": 134,
    "start_time": "2022-09-28T08:20:19.686Z"
   },
   {
    "duration": 130,
    "start_time": "2022-09-28T08:20:19.822Z"
   },
   {
    "duration": 0,
    "start_time": "2022-09-28T08:20:19.953Z"
   },
   {
    "duration": 0,
    "start_time": "2022-09-28T08:20:19.955Z"
   },
   {
    "duration": 22,
    "start_time": "2022-09-28T08:20:40.032Z"
   },
   {
    "duration": 22,
    "start_time": "2022-09-28T08:20:44.536Z"
   },
   {
    "duration": 25,
    "start_time": "2022-09-28T08:20:50.440Z"
   },
   {
    "duration": 16,
    "start_time": "2022-09-28T08:21:47.315Z"
   },
   {
    "duration": 18,
    "start_time": "2022-09-28T08:56:57.702Z"
   },
   {
    "duration": 265,
    "start_time": "2022-09-28T13:37:12.807Z"
   },
   {
    "duration": 238,
    "start_time": "2022-09-28T13:38:31.423Z"
   },
   {
    "duration": 58,
    "start_time": "2022-09-28T13:41:49.814Z"
   },
   {
    "duration": 8,
    "start_time": "2022-09-28T13:53:03.990Z"
   },
   {
    "duration": 137,
    "start_time": "2022-09-28T13:55:15.781Z"
   },
   {
    "duration": 137,
    "start_time": "2022-09-28T13:55:20.645Z"
   },
   {
    "duration": 43,
    "start_time": "2022-09-28T13:55:48.396Z"
   },
   {
    "duration": 4,
    "start_time": "2022-09-28T15:16:54.042Z"
   },
   {
    "duration": 28,
    "start_time": "2022-09-28T15:16:58.361Z"
   },
   {
    "duration": 203,
    "start_time": "2022-09-28T15:17:24.820Z"
   },
   {
    "duration": 121,
    "start_time": "2022-09-28T15:17:36.969Z"
   },
   {
    "duration": 137,
    "start_time": "2022-09-28T15:18:07.226Z"
   },
   {
    "duration": 75,
    "start_time": "2022-09-28T15:28:47.993Z"
   },
   {
    "duration": 49,
    "start_time": "2022-09-28T15:29:50.041Z"
   },
   {
    "duration": 21,
    "start_time": "2022-09-28T15:32:14.600Z"
   },
   {
    "duration": 18,
    "start_time": "2022-09-28T15:33:22.391Z"
   },
   {
    "duration": 20,
    "start_time": "2022-09-28T15:33:32.400Z"
   },
   {
    "duration": 19,
    "start_time": "2022-09-28T15:33:39.864Z"
   },
   {
    "duration": 19,
    "start_time": "2022-09-28T15:34:26.502Z"
   },
   {
    "duration": 18,
    "start_time": "2022-09-28T15:34:30.783Z"
   },
   {
    "duration": 21,
    "start_time": "2022-09-28T15:34:41.159Z"
   },
   {
    "duration": 20,
    "start_time": "2022-09-28T15:34:49.623Z"
   },
   {
    "duration": 11,
    "start_time": "2022-09-28T15:35:52.542Z"
   },
   {
    "duration": 143,
    "start_time": "2022-09-28T15:35:55.406Z"
   },
   {
    "duration": 11,
    "start_time": "2022-09-28T15:36:22.162Z"
   },
   {
    "duration": 10,
    "start_time": "2022-09-28T15:36:40.415Z"
   },
   {
    "duration": 9,
    "start_time": "2022-09-28T15:37:31.541Z"
   },
   {
    "duration": 9,
    "start_time": "2022-09-28T15:37:39.877Z"
   },
   {
    "duration": 9,
    "start_time": "2022-09-28T15:37:57.493Z"
   },
   {
    "duration": 147,
    "start_time": "2022-09-28T15:39:21.230Z"
   },
   {
    "duration": 145,
    "start_time": "2022-09-28T15:40:15.252Z"
   },
   {
    "duration": 1186,
    "start_time": "2022-09-28T15:41:28.675Z"
   },
   {
    "duration": 9,
    "start_time": "2022-09-28T15:42:42.082Z"
   },
   {
    "duration": 24,
    "start_time": "2022-09-28T15:42:45.481Z"
   },
   {
    "duration": 879,
    "start_time": "2022-09-28T15:42:50.874Z"
   },
   {
    "duration": 163,
    "start_time": "2022-09-28T15:43:01.770Z"
   },
   {
    "duration": 146,
    "start_time": "2022-09-28T15:43:51.216Z"
   },
   {
    "duration": 124,
    "start_time": "2022-09-28T17:07:19.077Z"
   },
   {
    "duration": 122,
    "start_time": "2022-09-28T17:07:34.719Z"
   },
   {
    "duration": 177,
    "start_time": "2022-09-28T18:05:40.747Z"
   },
   {
    "duration": 305,
    "start_time": "2022-09-28T18:05:48.235Z"
   },
   {
    "duration": 217,
    "start_time": "2022-09-28T18:06:15.587Z"
   },
   {
    "duration": 101,
    "start_time": "2022-09-28T19:28:05.127Z"
   },
   {
    "duration": 197,
    "start_time": "2022-09-28T19:28:23.150Z"
   },
   {
    "duration": 207,
    "start_time": "2022-09-28T19:28:29.534Z"
   },
   {
    "duration": 208,
    "start_time": "2022-09-28T19:28:35.503Z"
   },
   {
    "duration": 223,
    "start_time": "2022-09-28T19:28:38.918Z"
   },
   {
    "duration": 225,
    "start_time": "2022-09-28T19:28:57.919Z"
   },
   {
    "duration": 219,
    "start_time": "2022-09-28T19:29:04.153Z"
   },
   {
    "duration": 267,
    "start_time": "2022-09-28T19:29:23.326Z"
   },
   {
    "duration": 6,
    "start_time": "2022-09-28T19:30:02.446Z"
   },
   {
    "duration": 5,
    "start_time": "2022-09-28T19:30:13.509Z"
   },
   {
    "duration": 5,
    "start_time": "2022-09-28T19:30:22.358Z"
   },
   {
    "duration": 177,
    "start_time": "2022-09-28T19:30:52.157Z"
   },
   {
    "duration": 207,
    "start_time": "2022-09-28T19:30:58.062Z"
   },
   {
    "duration": 278,
    "start_time": "2022-09-28T19:31:14.509Z"
   },
   {
    "duration": 207,
    "start_time": "2022-09-28T19:31:31.285Z"
   },
   {
    "duration": 343,
    "start_time": "2022-09-28T19:34:05.963Z"
   },
   {
    "duration": 5,
    "start_time": "2022-09-28T19:35:00.731Z"
   },
   {
    "duration": 138,
    "start_time": "2022-09-28T19:38:17.149Z"
   },
   {
    "duration": 57,
    "start_time": "2022-09-28T19:46:58.332Z"
   },
   {
    "duration": 66,
    "start_time": "2022-09-28T19:47:21.805Z"
   },
   {
    "duration": 150,
    "start_time": "2022-09-28T19:58:38.022Z"
   },
   {
    "duration": 13,
    "start_time": "2022-09-28T20:12:59.077Z"
   },
   {
    "duration": 151,
    "start_time": "2022-09-28T20:13:22.996Z"
   },
   {
    "duration": 225,
    "start_time": "2022-09-28T20:26:23.901Z"
   },
   {
    "duration": 218,
    "start_time": "2022-09-28T20:26:30.700Z"
   },
   {
    "duration": 202,
    "start_time": "2022-09-28T20:26:39.507Z"
   },
   {
    "duration": 180,
    "start_time": "2022-09-28T20:27:49.147Z"
   },
   {
    "duration": 135,
    "start_time": "2022-09-28T20:28:41.650Z"
   },
   {
    "duration": 57,
    "start_time": "2022-09-28T20:29:03.026Z"
   },
   {
    "duration": 130,
    "start_time": "2022-09-28T20:29:12.646Z"
   },
   {
    "duration": 916,
    "start_time": "2022-09-28T20:32:25.512Z"
   },
   {
    "duration": 151,
    "start_time": "2022-09-28T20:32:43.615Z"
   },
   {
    "duration": 47,
    "start_time": "2022-09-28T20:33:06.671Z"
   },
   {
    "duration": 69,
    "start_time": "2022-09-28T20:33:16.055Z"
   },
   {
    "duration": 56,
    "start_time": "2022-09-28T20:33:38.535Z"
   },
   {
    "duration": 220,
    "start_time": "2022-09-28T20:33:40.727Z"
   },
   {
    "duration": 66,
    "start_time": "2022-09-28T20:33:43.679Z"
   },
   {
    "duration": 23,
    "start_time": "2022-09-28T20:33:55.774Z"
   },
   {
    "duration": 168,
    "start_time": "2022-09-28T20:34:49.823Z"
   },
   {
    "duration": 175,
    "start_time": "2022-09-28T20:35:06.734Z"
   },
   {
    "duration": 183,
    "start_time": "2022-09-28T20:35:34.126Z"
   },
   {
    "duration": 1091,
    "start_time": "2022-09-28T21:24:20.335Z"
   },
   {
    "duration": 85,
    "start_time": "2022-09-28T21:24:21.427Z"
   },
   {
    "duration": 17,
    "start_time": "2022-09-28T21:24:21.513Z"
   },
   {
    "duration": 12,
    "start_time": "2022-09-28T21:24:21.532Z"
   },
   {
    "duration": 14,
    "start_time": "2022-09-28T21:24:21.545Z"
   },
   {
    "duration": 7,
    "start_time": "2022-09-28T21:24:21.561Z"
   },
   {
    "duration": 20,
    "start_time": "2022-09-28T21:24:21.569Z"
   },
   {
    "duration": 4,
    "start_time": "2022-09-28T21:24:21.590Z"
   },
   {
    "duration": 15,
    "start_time": "2022-09-28T21:24:21.621Z"
   },
   {
    "duration": 5,
    "start_time": "2022-09-28T21:24:21.639Z"
   },
   {
    "duration": 5,
    "start_time": "2022-09-28T21:24:21.645Z"
   },
   {
    "duration": 11,
    "start_time": "2022-09-28T21:24:21.651Z"
   },
   {
    "duration": 7,
    "start_time": "2022-09-28T21:24:21.663Z"
   },
   {
    "duration": 22,
    "start_time": "2022-09-28T21:24:21.672Z"
   },
   {
    "duration": 8,
    "start_time": "2022-09-28T21:24:21.695Z"
   },
   {
    "duration": 24,
    "start_time": "2022-09-28T21:24:21.704Z"
   },
   {
    "duration": 6,
    "start_time": "2022-09-28T21:24:21.730Z"
   },
   {
    "duration": 13,
    "start_time": "2022-09-28T21:24:21.739Z"
   },
   {
    "duration": 24,
    "start_time": "2022-09-28T21:24:21.753Z"
   },
   {
    "duration": 7,
    "start_time": "2022-09-28T21:24:21.779Z"
   },
   {
    "duration": 34,
    "start_time": "2022-09-28T21:24:21.787Z"
   },
   {
    "duration": 7,
    "start_time": "2022-09-28T21:24:21.823Z"
   },
   {
    "duration": 7,
    "start_time": "2022-09-28T21:24:21.831Z"
   },
   {
    "duration": 7,
    "start_time": "2022-09-28T21:24:21.839Z"
   },
   {
    "duration": 6,
    "start_time": "2022-09-28T21:24:21.848Z"
   },
   {
    "duration": 8,
    "start_time": "2022-09-28T21:24:21.855Z"
   },
   {
    "duration": 7,
    "start_time": "2022-09-28T21:24:21.864Z"
   },
   {
    "duration": 4,
    "start_time": "2022-09-28T21:24:21.875Z"
   },
   {
    "duration": 7,
    "start_time": "2022-09-28T21:24:21.880Z"
   },
   {
    "duration": 35,
    "start_time": "2022-09-28T21:24:21.889Z"
   },
   {
    "duration": 48,
    "start_time": "2022-09-28T21:24:21.925Z"
   },
   {
    "duration": 6,
    "start_time": "2022-09-28T21:24:21.974Z"
   },
   {
    "duration": 5,
    "start_time": "2022-09-28T21:24:21.982Z"
   },
   {
    "duration": 309,
    "start_time": "2022-09-28T21:24:21.988Z"
   },
   {
    "duration": 25,
    "start_time": "2022-09-28T21:24:22.298Z"
   },
   {
    "duration": 4,
    "start_time": "2022-09-28T21:24:22.324Z"
   },
   {
    "duration": 10,
    "start_time": "2022-09-28T21:24:22.329Z"
   },
   {
    "duration": 133,
    "start_time": "2022-09-28T21:24:22.340Z"
   },
   {
    "duration": 135,
    "start_time": "2022-09-28T21:24:22.474Z"
   },
   {
    "duration": 14,
    "start_time": "2022-09-28T21:24:22.610Z"
   },
   {
    "duration": 126,
    "start_time": "2022-09-28T21:24:22.625Z"
   },
   {
    "duration": 7,
    "start_time": "2022-09-28T21:24:22.753Z"
   },
   {
    "duration": 120,
    "start_time": "2022-09-28T21:24:22.762Z"
   },
   {
    "duration": 8,
    "start_time": "2022-09-28T21:24:22.883Z"
   },
   {
    "duration": 120,
    "start_time": "2022-09-28T21:24:22.892Z"
   },
   {
    "duration": 16,
    "start_time": "2022-09-28T21:24:23.013Z"
   },
   {
    "duration": 202,
    "start_time": "2022-09-28T21:24:23.031Z"
   },
   {
    "duration": 144,
    "start_time": "2022-09-28T21:24:23.235Z"
   },
   {
    "duration": 8,
    "start_time": "2022-09-28T21:24:23.382Z"
   },
   {
    "duration": 123,
    "start_time": "2022-09-28T21:24:23.392Z"
   },
   {
    "duration": 7,
    "start_time": "2022-09-28T21:24:23.517Z"
   },
   {
    "duration": 114,
    "start_time": "2022-09-28T21:24:23.525Z"
   },
   {
    "duration": 6,
    "start_time": "2022-09-28T21:24:23.641Z"
   },
   {
    "duration": 117,
    "start_time": "2022-09-28T21:24:23.649Z"
   },
   {
    "duration": 7,
    "start_time": "2022-09-28T21:24:23.767Z"
   },
   {
    "duration": 128,
    "start_time": "2022-09-28T21:24:23.776Z"
   },
   {
    "duration": 16,
    "start_time": "2022-09-28T21:24:23.906Z"
   },
   {
    "duration": 115,
    "start_time": "2022-09-28T21:24:23.923Z"
   },
   {
    "duration": 8,
    "start_time": "2022-09-28T21:24:24.040Z"
   },
   {
    "duration": 125,
    "start_time": "2022-09-28T21:24:24.049Z"
   },
   {
    "duration": 8,
    "start_time": "2022-09-28T21:24:24.175Z"
   },
   {
    "duration": 139,
    "start_time": "2022-09-28T21:24:24.184Z"
   },
   {
    "duration": 140,
    "start_time": "2022-09-28T21:24:24.325Z"
   },
   {
    "duration": 7,
    "start_time": "2022-09-28T21:24:24.467Z"
   },
   {
    "duration": 2,
    "start_time": "2022-09-28T21:24:24.475Z"
   },
   {
    "duration": 324,
    "start_time": "2022-09-28T21:24:24.479Z"
   },
   {
    "duration": 9,
    "start_time": "2022-09-28T21:24:24.804Z"
   },
   {
    "duration": 8,
    "start_time": "2022-09-28T21:24:24.821Z"
   },
   {
    "duration": 6,
    "start_time": "2022-09-28T21:24:24.831Z"
   },
   {
    "duration": 143,
    "start_time": "2022-09-28T21:24:24.838Z"
   },
   {
    "duration": 7,
    "start_time": "2022-09-28T21:24:24.983Z"
   },
   {
    "duration": 208,
    "start_time": "2022-09-28T21:24:24.991Z"
   },
   {
    "duration": 5,
    "start_time": "2022-09-28T21:24:25.200Z"
   },
   {
    "duration": 247,
    "start_time": "2022-09-28T21:24:25.206Z"
   },
   {
    "duration": 4,
    "start_time": "2022-09-28T21:24:25.454Z"
   },
   {
    "duration": 250,
    "start_time": "2022-09-28T21:24:25.460Z"
   },
   {
    "duration": 170,
    "start_time": "2022-09-28T21:24:25.711Z"
   },
   {
    "duration": 277,
    "start_time": "2022-09-28T21:24:25.882Z"
   },
   {
    "duration": 131,
    "start_time": "2022-09-28T21:24:26.161Z"
   },
   {
    "duration": 140,
    "start_time": "2022-09-28T21:24:26.294Z"
   },
   {
    "duration": 119,
    "start_time": "2022-09-28T21:24:26.435Z"
   },
   {
    "duration": 11,
    "start_time": "2022-09-28T21:24:26.558Z"
   },
   {
    "duration": 17,
    "start_time": "2022-09-28T21:24:26.571Z"
   },
   {
    "duration": 179,
    "start_time": "2022-09-28T21:24:26.589Z"
   },
   {
    "duration": 14,
    "start_time": "2022-09-28T21:26:40.619Z"
   },
   {
    "duration": 18,
    "start_time": "2022-09-28T21:27:25.244Z"
   },
   {
    "duration": 4,
    "start_time": "2022-09-28T21:27:56.896Z"
   },
   {
    "duration": 5,
    "start_time": "2022-09-28T21:28:04.273Z"
   },
   {
    "duration": 297,
    "start_time": "2022-09-28T21:29:20.581Z"
   },
   {
    "duration": 12,
    "start_time": "2022-09-28T21:32:16.914Z"
   },
   {
    "duration": 161,
    "start_time": "2022-09-28T21:33:01.973Z"
   },
   {
    "duration": 168,
    "start_time": "2022-09-28T21:33:09.095Z"
   },
   {
    "duration": 1249,
    "start_time": "2022-09-29T14:56:56.741Z"
   },
   {
    "duration": 111,
    "start_time": "2022-09-29T14:57:00.968Z"
   },
   {
    "duration": 334,
    "start_time": "2022-09-29T14:57:03.033Z"
   },
   {
    "duration": 30,
    "start_time": "2022-09-29T14:57:04.545Z"
   },
   {
    "duration": 99,
    "start_time": "2022-09-29T14:57:09.968Z"
   },
   {
    "duration": 20,
    "start_time": "2022-09-29T14:57:11.871Z"
   },
   {
    "duration": 3,
    "start_time": "2022-09-29T14:57:18.848Z"
   },
   {
    "duration": 91,
    "start_time": "2022-09-29T14:57:18.854Z"
   },
   {
    "duration": 14,
    "start_time": "2022-09-29T14:57:18.948Z"
   },
   {
    "duration": 14,
    "start_time": "2022-09-29T14:57:18.964Z"
   },
   {
    "duration": 39,
    "start_time": "2022-09-29T14:57:18.980Z"
   },
   {
    "duration": 1134,
    "start_time": "2022-09-29T14:57:19.020Z"
   },
   {
    "duration": 9,
    "start_time": "2022-09-29T14:57:20.155Z"
   },
   {
    "duration": 94,
    "start_time": "2022-09-29T14:57:20.166Z"
   },
   {
    "duration": 5,
    "start_time": "2022-09-29T14:57:20.261Z"
   },
   {
    "duration": 21,
    "start_time": "2022-09-29T14:57:20.267Z"
   },
   {
    "duration": 4,
    "start_time": "2022-09-29T14:57:20.290Z"
   },
   {
    "duration": 27,
    "start_time": "2022-09-29T14:57:20.295Z"
   },
   {
    "duration": 5,
    "start_time": "2022-09-29T14:57:20.324Z"
   },
   {
    "duration": 5,
    "start_time": "2022-09-29T14:57:20.332Z"
   },
   {
    "duration": 11,
    "start_time": "2022-09-29T14:57:20.338Z"
   },
   {
    "duration": 10,
    "start_time": "2022-09-29T14:57:20.350Z"
   },
   {
    "duration": 18,
    "start_time": "2022-09-29T14:57:20.361Z"
   },
   {
    "duration": 38,
    "start_time": "2022-09-29T14:57:20.381Z"
   },
   {
    "duration": 12,
    "start_time": "2022-09-29T14:57:20.424Z"
   },
   {
    "duration": 49,
    "start_time": "2022-09-29T14:57:20.438Z"
   },
   {
    "duration": 6,
    "start_time": "2022-09-29T14:57:20.489Z"
   },
   {
    "duration": 33,
    "start_time": "2022-09-29T14:57:20.497Z"
   },
   {
    "duration": 8,
    "start_time": "2022-09-29T14:57:20.531Z"
   },
   {
    "duration": 11,
    "start_time": "2022-09-29T14:57:20.540Z"
   },
   {
    "duration": 11,
    "start_time": "2022-09-29T14:57:20.552Z"
   },
   {
    "duration": 8,
    "start_time": "2022-09-29T14:57:20.565Z"
   },
   {
    "duration": 12,
    "start_time": "2022-09-29T14:57:20.574Z"
   },
   {
    "duration": 6,
    "start_time": "2022-09-29T14:57:20.588Z"
   },
   {
    "duration": 5,
    "start_time": "2022-09-29T14:57:20.596Z"
   },
   {
    "duration": 28,
    "start_time": "2022-09-29T14:57:20.602Z"
   },
   {
    "duration": 4,
    "start_time": "2022-09-29T14:57:20.632Z"
   },
   {
    "duration": 49,
    "start_time": "2022-09-29T14:57:20.638Z"
   },
   {
    "duration": 4,
    "start_time": "2022-09-29T14:57:20.689Z"
   },
   {
    "duration": 24,
    "start_time": "2022-09-29T14:57:20.695Z"
   },
   {
    "duration": 351,
    "start_time": "2022-09-29T14:57:20.721Z"
   },
   {
    "duration": 22,
    "start_time": "2022-09-29T14:57:21.074Z"
   },
   {
    "duration": 20,
    "start_time": "2022-09-29T14:57:21.098Z"
   },
   {
    "duration": 34,
    "start_time": "2022-09-29T14:57:21.120Z"
   },
   {
    "duration": 121,
    "start_time": "2022-09-29T14:57:21.156Z"
   },
   {
    "duration": 169,
    "start_time": "2022-09-29T14:57:21.279Z"
   },
   {
    "duration": 8,
    "start_time": "2022-09-29T14:57:21.452Z"
   },
   {
    "duration": 135,
    "start_time": "2022-09-29T14:57:21.461Z"
   },
   {
    "duration": 12,
    "start_time": "2022-09-29T14:57:21.598Z"
   },
   {
    "duration": 144,
    "start_time": "2022-09-29T14:57:21.611Z"
   },
   {
    "duration": 7,
    "start_time": "2022-09-29T14:57:21.757Z"
   },
   {
    "duration": 121,
    "start_time": "2022-09-29T14:57:21.765Z"
   },
   {
    "duration": 7,
    "start_time": "2022-09-29T14:57:21.887Z"
   },
   {
    "duration": 139,
    "start_time": "2022-09-29T14:57:21.896Z"
   },
   {
    "duration": 133,
    "start_time": "2022-09-29T14:57:22.037Z"
   },
   {
    "duration": 7,
    "start_time": "2022-09-29T14:57:22.171Z"
   },
   {
    "duration": 139,
    "start_time": "2022-09-29T14:57:22.180Z"
   },
   {
    "duration": 8,
    "start_time": "2022-09-29T14:57:22.321Z"
   },
   {
    "duration": 194,
    "start_time": "2022-09-29T14:57:22.330Z"
   },
   {
    "duration": 9,
    "start_time": "2022-09-29T14:57:22.525Z"
   },
   {
    "duration": 118,
    "start_time": "2022-09-29T14:57:22.536Z"
   },
   {
    "duration": 8,
    "start_time": "2022-09-29T14:57:22.655Z"
   },
   {
    "duration": 128,
    "start_time": "2022-09-29T14:57:22.664Z"
   },
   {
    "duration": 21,
    "start_time": "2022-09-29T14:57:22.794Z"
   },
   {
    "duration": 129,
    "start_time": "2022-09-29T14:57:22.816Z"
   },
   {
    "duration": 8,
    "start_time": "2022-09-29T14:57:22.947Z"
   },
   {
    "duration": 127,
    "start_time": "2022-09-29T14:57:22.957Z"
   },
   {
    "duration": 8,
    "start_time": "2022-09-29T14:57:23.085Z"
   },
   {
    "duration": 145,
    "start_time": "2022-09-29T14:57:23.094Z"
   },
   {
    "duration": 155,
    "start_time": "2022-09-29T14:57:23.240Z"
   },
   {
    "duration": 28,
    "start_time": "2022-09-29T14:57:23.397Z"
   },
   {
    "duration": 13,
    "start_time": "2022-09-29T14:57:23.426Z"
   },
   {
    "duration": 245,
    "start_time": "2022-09-29T14:57:23.441Z"
   },
   {
    "duration": 9,
    "start_time": "2022-09-29T14:57:23.688Z"
   },
   {
    "duration": 24,
    "start_time": "2022-09-29T14:57:23.698Z"
   },
   {
    "duration": 7,
    "start_time": "2022-09-29T14:57:23.723Z"
   },
   {
    "duration": 135,
    "start_time": "2022-09-29T14:57:23.732Z"
   },
   {
    "duration": 7,
    "start_time": "2022-09-29T14:57:23.869Z"
   },
   {
    "duration": 210,
    "start_time": "2022-09-29T14:57:23.877Z"
   },
   {
    "duration": 4,
    "start_time": "2022-09-29T14:57:24.089Z"
   },
   {
    "duration": 272,
    "start_time": "2022-09-29T14:57:24.094Z"
   },
   {
    "duration": 4,
    "start_time": "2022-09-29T14:57:24.368Z"
   },
   {
    "duration": 454,
    "start_time": "2022-09-29T14:57:24.374Z"
   },
   {
    "duration": 185,
    "start_time": "2022-09-29T14:57:24.830Z"
   },
   {
    "duration": 292,
    "start_time": "2022-09-29T14:57:25.016Z"
   },
   {
    "duration": 139,
    "start_time": "2022-09-29T14:57:25.310Z"
   },
   {
    "duration": 151,
    "start_time": "2022-09-29T14:57:25.451Z"
   },
   {
    "duration": 129,
    "start_time": "2022-09-29T14:57:25.609Z"
   },
   {
    "duration": 10,
    "start_time": "2022-09-29T14:57:25.740Z"
   },
   {
    "duration": 18,
    "start_time": "2022-09-29T14:57:25.751Z"
   },
   {
    "duration": 190,
    "start_time": "2022-09-29T14:57:25.770Z"
   },
   {
    "duration": 1712,
    "start_time": "2022-09-29T14:58:01.984Z"
   },
   {
    "duration": 1941,
    "start_time": "2022-09-29T14:58:17.640Z"
   },
   {
    "duration": 2257,
    "start_time": "2022-09-29T14:58:28.095Z"
   },
   {
    "duration": 140,
    "start_time": "2022-09-29T16:57:13.136Z"
   },
   {
    "duration": 13,
    "start_time": "2022-09-29T16:57:19.622Z"
   },
   {
    "duration": 96,
    "start_time": "2022-09-29T16:57:19.637Z"
   },
   {
    "duration": 16,
    "start_time": "2022-09-29T16:57:19.734Z"
   },
   {
    "duration": 14,
    "start_time": "2022-09-29T16:57:19.751Z"
   },
   {
    "duration": 14,
    "start_time": "2022-09-29T16:57:19.767Z"
   },
   {
    "duration": 1723,
    "start_time": "2022-09-29T16:57:19.782Z"
   },
   {
    "duration": 30,
    "start_time": "2022-09-29T16:57:21.506Z"
   },
   {
    "duration": 30,
    "start_time": "2022-09-29T16:57:21.537Z"
   },
   {
    "duration": 4,
    "start_time": "2022-09-29T16:57:21.568Z"
   },
   {
    "duration": 28,
    "start_time": "2022-09-29T16:57:21.574Z"
   },
   {
    "duration": 5,
    "start_time": "2022-09-29T16:57:21.604Z"
   },
   {
    "duration": 29,
    "start_time": "2022-09-29T16:57:21.613Z"
   },
   {
    "duration": 38,
    "start_time": "2022-09-29T16:57:21.644Z"
   },
   {
    "duration": 17,
    "start_time": "2022-09-29T16:57:21.685Z"
   },
   {
    "duration": 28,
    "start_time": "2022-09-29T16:57:21.703Z"
   },
   {
    "duration": 15,
    "start_time": "2022-09-29T16:57:21.732Z"
   },
   {
    "duration": 20,
    "start_time": "2022-09-29T16:57:21.749Z"
   },
   {
    "duration": 7,
    "start_time": "2022-09-29T16:57:21.771Z"
   },
   {
    "duration": 12,
    "start_time": "2022-09-29T16:57:21.780Z"
   },
   {
    "duration": 47,
    "start_time": "2022-09-29T16:57:21.794Z"
   },
   {
    "duration": 6,
    "start_time": "2022-09-29T16:57:21.843Z"
   },
   {
    "duration": 6,
    "start_time": "2022-09-29T16:57:21.851Z"
   },
   {
    "duration": 8,
    "start_time": "2022-09-29T16:57:21.859Z"
   },
   {
    "duration": 6,
    "start_time": "2022-09-29T16:57:21.869Z"
   },
   {
    "duration": 9,
    "start_time": "2022-09-29T16:57:21.877Z"
   },
   {
    "duration": 15,
    "start_time": "2022-09-29T16:57:21.887Z"
   },
   {
    "duration": 24,
    "start_time": "2022-09-29T16:57:21.903Z"
   },
   {
    "duration": 43,
    "start_time": "2022-09-29T16:57:21.928Z"
   },
   {
    "duration": 12,
    "start_time": "2022-09-29T16:57:21.972Z"
   },
   {
    "duration": 9,
    "start_time": "2022-09-29T16:57:21.986Z"
   },
   {
    "duration": 9,
    "start_time": "2022-09-29T16:57:21.996Z"
   },
   {
    "duration": 78,
    "start_time": "2022-09-29T16:57:22.006Z"
   },
   {
    "duration": 5,
    "start_time": "2022-09-29T16:57:22.085Z"
   },
   {
    "duration": 11,
    "start_time": "2022-09-29T16:57:22.091Z"
   },
   {
    "duration": 370,
    "start_time": "2022-09-29T16:57:22.103Z"
   },
   {
    "duration": 20,
    "start_time": "2022-09-29T16:57:22.474Z"
   },
   {
    "duration": 21,
    "start_time": "2022-09-29T16:57:22.496Z"
   },
   {
    "duration": 27,
    "start_time": "2022-09-29T16:57:22.519Z"
   },
   {
    "duration": 154,
    "start_time": "2022-09-29T16:57:22.548Z"
   },
   {
    "duration": 148,
    "start_time": "2022-09-29T16:57:22.704Z"
   },
   {
    "duration": 8,
    "start_time": "2022-09-29T16:57:22.856Z"
   },
   {
    "duration": 165,
    "start_time": "2022-09-29T16:57:22.866Z"
   },
   {
    "duration": 13,
    "start_time": "2022-09-29T16:57:23.035Z"
   },
   {
    "duration": 126,
    "start_time": "2022-09-29T16:57:23.049Z"
   },
   {
    "duration": 8,
    "start_time": "2022-09-29T16:57:23.177Z"
   },
   {
    "duration": 267,
    "start_time": "2022-09-29T16:57:23.187Z"
   },
   {
    "duration": 9,
    "start_time": "2022-09-29T16:57:23.456Z"
   },
   {
    "duration": 154,
    "start_time": "2022-09-29T16:57:23.466Z"
   },
   {
    "duration": 155,
    "start_time": "2022-09-29T16:57:23.621Z"
   },
   {
    "duration": 7,
    "start_time": "2022-09-29T16:57:23.778Z"
   },
   {
    "duration": 146,
    "start_time": "2022-09-29T16:57:23.787Z"
   },
   {
    "duration": 7,
    "start_time": "2022-09-29T16:57:23.937Z"
   },
   {
    "duration": 124,
    "start_time": "2022-09-29T16:57:23.946Z"
   },
   {
    "duration": 7,
    "start_time": "2022-09-29T16:57:24.072Z"
   },
   {
    "duration": 114,
    "start_time": "2022-09-29T16:57:24.080Z"
   },
   {
    "duration": 7,
    "start_time": "2022-09-29T16:57:24.196Z"
   },
   {
    "duration": 143,
    "start_time": "2022-09-29T16:57:24.204Z"
   },
   {
    "duration": 7,
    "start_time": "2022-09-29T16:57:24.348Z"
   },
   {
    "duration": 130,
    "start_time": "2022-09-29T16:57:24.356Z"
   },
   {
    "duration": 8,
    "start_time": "2022-09-29T16:57:24.488Z"
   },
   {
    "duration": 156,
    "start_time": "2022-09-29T16:57:24.498Z"
   },
   {
    "duration": 9,
    "start_time": "2022-09-29T16:57:24.656Z"
   },
   {
    "duration": 180,
    "start_time": "2022-09-29T16:57:24.667Z"
   },
   {
    "duration": 182,
    "start_time": "2022-09-29T16:57:24.849Z"
   },
   {
    "duration": 7,
    "start_time": "2022-09-29T16:57:25.032Z"
   },
   {
    "duration": 2,
    "start_time": "2022-09-29T16:57:25.041Z"
   },
   {
    "duration": 234,
    "start_time": "2022-09-29T16:57:25.044Z"
   },
   {
    "duration": 11,
    "start_time": "2022-09-29T16:57:25.279Z"
   },
   {
    "duration": 40,
    "start_time": "2022-09-29T16:57:25.291Z"
   },
   {
    "duration": 16,
    "start_time": "2022-09-29T16:57:25.332Z"
   },
   {
    "duration": 255,
    "start_time": "2022-09-29T16:57:25.349Z"
   },
   {
    "duration": 35,
    "start_time": "2022-09-29T16:57:25.606Z"
   },
   {
    "duration": 276,
    "start_time": "2022-09-29T16:57:25.643Z"
   },
   {
    "duration": 14,
    "start_time": "2022-09-29T16:57:25.929Z"
   },
   {
    "duration": 302,
    "start_time": "2022-09-29T16:57:25.945Z"
   },
   {
    "duration": 6,
    "start_time": "2022-09-29T16:57:26.249Z"
   },
   {
    "duration": 306,
    "start_time": "2022-09-29T16:57:26.257Z"
   },
   {
    "duration": 209,
    "start_time": "2022-09-29T16:57:26.564Z"
   },
   {
    "duration": 160,
    "start_time": "2022-09-29T16:57:26.774Z"
   },
   {
    "duration": 0,
    "start_time": "2022-09-29T16:57:26.936Z"
   },
   {
    "duration": 0,
    "start_time": "2022-09-29T16:57:26.936Z"
   },
   {
    "duration": 0,
    "start_time": "2022-09-29T16:57:26.937Z"
   },
   {
    "duration": 0,
    "start_time": "2022-09-29T16:57:26.938Z"
   },
   {
    "duration": 0,
    "start_time": "2022-09-29T16:57:26.938Z"
   },
   {
    "duration": 0,
    "start_time": "2022-09-29T16:57:26.940Z"
   },
   {
    "duration": 0,
    "start_time": "2022-09-29T17:00:40.860Z"
   },
   {
    "duration": 4,
    "start_time": "2022-09-29T17:00:49.243Z"
   },
   {
    "duration": 109,
    "start_time": "2022-09-29T17:00:49.248Z"
   },
   {
    "duration": 13,
    "start_time": "2022-09-29T17:00:49.358Z"
   },
   {
    "duration": 12,
    "start_time": "2022-09-29T17:00:49.373Z"
   },
   {
    "duration": 40,
    "start_time": "2022-09-29T17:00:49.387Z"
   },
   {
    "duration": 1712,
    "start_time": "2022-09-29T17:00:49.428Z"
   },
   {
    "duration": 8,
    "start_time": "2022-09-29T17:00:51.142Z"
   },
   {
    "duration": 20,
    "start_time": "2022-09-29T17:00:51.152Z"
   },
   {
    "duration": 4,
    "start_time": "2022-09-29T17:00:51.174Z"
   },
   {
    "duration": 13,
    "start_time": "2022-09-29T17:00:51.180Z"
   },
   {
    "duration": 28,
    "start_time": "2022-09-29T17:00:51.195Z"
   },
   {
    "duration": 8,
    "start_time": "2022-09-29T17:00:51.232Z"
   },
   {
    "duration": 5,
    "start_time": "2022-09-29T17:00:51.242Z"
   },
   {
    "duration": 8,
    "start_time": "2022-09-29T17:00:51.248Z"
   },
   {
    "duration": 9,
    "start_time": "2022-09-29T17:00:51.257Z"
   },
   {
    "duration": 8,
    "start_time": "2022-09-29T17:00:51.267Z"
   },
   {
    "duration": 16,
    "start_time": "2022-09-29T17:00:51.277Z"
   },
   {
    "duration": 30,
    "start_time": "2022-09-29T17:00:51.295Z"
   },
   {
    "duration": 13,
    "start_time": "2022-09-29T17:00:51.328Z"
   },
   {
    "duration": 30,
    "start_time": "2022-09-29T17:00:51.342Z"
   },
   {
    "duration": 6,
    "start_time": "2022-09-29T17:00:51.373Z"
   },
   {
    "duration": 8,
    "start_time": "2022-09-29T17:00:51.380Z"
   },
   {
    "duration": 9,
    "start_time": "2022-09-29T17:00:51.389Z"
   },
   {
    "duration": 17,
    "start_time": "2022-09-29T17:00:51.419Z"
   },
   {
    "duration": 8,
    "start_time": "2022-09-29T17:00:51.438Z"
   },
   {
    "duration": 19,
    "start_time": "2022-09-29T17:00:51.448Z"
   },
   {
    "duration": 8,
    "start_time": "2022-09-29T17:00:51.468Z"
   },
   {
    "duration": 5,
    "start_time": "2022-09-29T17:00:51.478Z"
   },
   {
    "duration": 6,
    "start_time": "2022-09-29T17:00:51.485Z"
   },
   {
    "duration": 7,
    "start_time": "2022-09-29T17:00:51.492Z"
   },
   {
    "duration": 4,
    "start_time": "2022-09-29T17:00:51.501Z"
   },
   {
    "duration": 77,
    "start_time": "2022-09-29T17:00:51.506Z"
   },
   {
    "duration": 4,
    "start_time": "2022-09-29T17:00:51.585Z"
   },
   {
    "duration": 11,
    "start_time": "2022-09-29T17:00:51.590Z"
   },
   {
    "duration": 366,
    "start_time": "2022-09-29T17:00:51.602Z"
   },
   {
    "duration": 20,
    "start_time": "2022-09-29T17:00:51.970Z"
   },
   {
    "duration": 5,
    "start_time": "2022-09-29T17:00:51.992Z"
   },
   {
    "duration": 13,
    "start_time": "2022-09-29T17:00:52.014Z"
   },
   {
    "duration": 159,
    "start_time": "2022-09-29T17:00:52.035Z"
   },
   {
    "duration": 155,
    "start_time": "2022-09-29T17:00:52.195Z"
   },
   {
    "duration": 7,
    "start_time": "2022-09-29T17:00:52.352Z"
   },
   {
    "duration": 141,
    "start_time": "2022-09-29T17:00:52.360Z"
   },
   {
    "duration": 32,
    "start_time": "2022-09-29T17:00:52.503Z"
   },
   {
    "duration": 127,
    "start_time": "2022-09-29T17:00:52.537Z"
   },
   {
    "duration": 8,
    "start_time": "2022-09-29T17:00:52.666Z"
   },
   {
    "duration": 147,
    "start_time": "2022-09-29T17:00:52.676Z"
   },
   {
    "duration": 10,
    "start_time": "2022-09-29T17:00:52.824Z"
   },
   {
    "duration": 166,
    "start_time": "2022-09-29T17:00:52.835Z"
   },
   {
    "duration": 150,
    "start_time": "2022-09-29T17:00:53.003Z"
   },
   {
    "duration": 8,
    "start_time": "2022-09-29T17:00:53.154Z"
   },
   {
    "duration": 130,
    "start_time": "2022-09-29T17:00:53.163Z"
   },
   {
    "duration": 36,
    "start_time": "2022-09-29T17:00:53.295Z"
   },
   {
    "duration": 129,
    "start_time": "2022-09-29T17:00:53.333Z"
   },
   {
    "duration": 10,
    "start_time": "2022-09-29T17:00:53.464Z"
   },
   {
    "duration": 127,
    "start_time": "2022-09-29T17:00:53.476Z"
   },
   {
    "duration": 26,
    "start_time": "2022-09-29T17:00:53.605Z"
   },
   {
    "duration": 140,
    "start_time": "2022-09-29T17:00:53.640Z"
   },
   {
    "duration": 8,
    "start_time": "2022-09-29T17:00:53.782Z"
   },
   {
    "duration": 151,
    "start_time": "2022-09-29T17:00:53.792Z"
   },
   {
    "duration": 9,
    "start_time": "2022-09-29T17:00:53.945Z"
   },
   {
    "duration": 2442,
    "start_time": "2022-09-29T17:00:53.956Z"
   },
   {
    "duration": 21,
    "start_time": "2022-09-29T17:00:56.415Z"
   },
   {
    "duration": 145,
    "start_time": "2022-09-29T17:00:56.438Z"
   },
   {
    "duration": 150,
    "start_time": "2022-09-29T17:00:56.585Z"
   },
   {
    "duration": 8,
    "start_time": "2022-09-29T17:00:56.737Z"
   },
   {
    "duration": 2,
    "start_time": "2022-09-29T17:00:56.747Z"
   },
   {
    "duration": 269,
    "start_time": "2022-09-29T17:00:56.751Z"
   },
   {
    "duration": 30,
    "start_time": "2022-09-29T17:00:57.021Z"
   },
   {
    "duration": 9,
    "start_time": "2022-09-29T17:00:57.058Z"
   },
   {
    "duration": 9,
    "start_time": "2022-09-29T17:00:57.069Z"
   },
   {
    "duration": 163,
    "start_time": "2022-09-29T17:00:57.079Z"
   },
   {
    "duration": 9,
    "start_time": "2022-09-29T17:00:57.243Z"
   },
   {
    "duration": 237,
    "start_time": "2022-09-29T17:00:57.253Z"
   },
   {
    "duration": 5,
    "start_time": "2022-09-29T17:00:57.492Z"
   },
   {
    "duration": 325,
    "start_time": "2022-09-29T17:00:57.498Z"
   },
   {
    "duration": 8,
    "start_time": "2022-09-29T17:00:57.827Z"
   },
   {
    "duration": 286,
    "start_time": "2022-09-29T17:00:57.837Z"
   },
   {
    "duration": 217,
    "start_time": "2022-09-29T17:00:58.124Z"
   },
   {
    "duration": 201,
    "start_time": "2022-09-29T17:00:58.342Z"
   },
   {
    "duration": 190,
    "start_time": "2022-09-29T17:00:58.545Z"
   },
   {
    "duration": 160,
    "start_time": "2022-09-29T17:00:58.737Z"
   },
   {
    "duration": 150,
    "start_time": "2022-09-29T17:00:58.899Z"
   },
   {
    "duration": 9,
    "start_time": "2022-09-29T17:00:59.051Z"
   },
   {
    "duration": 15,
    "start_time": "2022-09-29T17:00:59.061Z"
   },
   {
    "duration": 220,
    "start_time": "2022-09-29T17:00:59.078Z"
   },
   {
    "duration": 8,
    "start_time": "2022-09-29T17:13:52.778Z"
   },
   {
    "duration": 6,
    "start_time": "2022-09-29T18:12:20.538Z"
   },
   {
    "duration": 123,
    "start_time": "2022-09-29T18:12:20.546Z"
   },
   {
    "duration": 25,
    "start_time": "2022-09-29T18:12:20.671Z"
   },
   {
    "duration": 68,
    "start_time": "2022-09-29T18:12:20.710Z"
   },
   {
    "duration": 68,
    "start_time": "2022-09-29T18:12:20.781Z"
   },
   {
    "duration": 2117,
    "start_time": "2022-09-29T18:12:20.851Z"
   },
   {
    "duration": 15,
    "start_time": "2022-09-29T18:12:22.971Z"
   },
   {
    "duration": 45,
    "start_time": "2022-09-29T18:12:22.989Z"
   },
   {
    "duration": 31,
    "start_time": "2022-09-29T18:12:23.042Z"
   },
   {
    "duration": 24,
    "start_time": "2022-09-29T18:12:23.076Z"
   },
   {
    "duration": 13,
    "start_time": "2022-09-29T18:12:23.102Z"
   },
   {
    "duration": 49,
    "start_time": "2022-09-29T18:12:23.124Z"
   },
   {
    "duration": 28,
    "start_time": "2022-09-29T18:12:23.176Z"
   },
   {
    "duration": 53,
    "start_time": "2022-09-29T18:12:23.208Z"
   },
   {
    "duration": 18,
    "start_time": "2022-09-29T18:12:23.263Z"
   },
   {
    "duration": 11,
    "start_time": "2022-09-29T18:12:23.284Z"
   },
   {
    "duration": 58,
    "start_time": "2022-09-29T18:12:23.297Z"
   },
   {
    "duration": 41,
    "start_time": "2022-09-29T18:12:23.357Z"
   },
   {
    "duration": 11,
    "start_time": "2022-09-29T18:12:23.400Z"
   },
   {
    "duration": 38,
    "start_time": "2022-09-29T18:12:23.423Z"
   },
   {
    "duration": 75,
    "start_time": "2022-09-29T18:12:23.463Z"
   },
   {
    "duration": 16,
    "start_time": "2022-09-29T18:12:23.540Z"
   },
   {
    "duration": 16,
    "start_time": "2022-09-29T18:12:23.558Z"
   },
   {
    "duration": 9,
    "start_time": "2022-09-29T18:12:23.576Z"
   },
   {
    "duration": 14,
    "start_time": "2022-09-29T18:12:23.587Z"
   },
   {
    "duration": 19,
    "start_time": "2022-09-29T18:12:23.603Z"
   },
   {
    "duration": 53,
    "start_time": "2022-09-29T18:12:23.624Z"
   },
   {
    "duration": 18,
    "start_time": "2022-09-29T18:12:23.679Z"
   },
   {
    "duration": 6,
    "start_time": "2022-09-29T18:12:23.699Z"
   },
   {
    "duration": 49,
    "start_time": "2022-09-29T18:12:23.707Z"
   },
   {
    "duration": 12,
    "start_time": "2022-09-29T18:12:23.758Z"
   },
   {
    "duration": 16,
    "start_time": "2022-09-29T18:12:23.772Z"
   },
   {
    "duration": 84,
    "start_time": "2022-09-29T18:12:23.790Z"
   },
   {
    "duration": 6,
    "start_time": "2022-09-29T18:12:23.876Z"
   },
   {
    "duration": 22,
    "start_time": "2022-09-29T18:12:23.883Z"
   },
   {
    "duration": 1237,
    "start_time": "2022-09-29T18:12:23.906Z"
   },
   {
    "duration": 39,
    "start_time": "2022-09-29T18:12:25.144Z"
   },
   {
    "duration": 3,
    "start_time": "2022-09-29T18:12:25.228Z"
   },
   {
    "duration": 79,
    "start_time": "2022-09-29T18:12:25.232Z"
   },
   {
    "duration": 401,
    "start_time": "2022-09-29T18:12:25.316Z"
   },
   {
    "duration": 408,
    "start_time": "2022-09-29T18:12:25.727Z"
   },
   {
    "duration": 18,
    "start_time": "2022-09-29T18:12:26.137Z"
   },
   {
    "duration": 287,
    "start_time": "2022-09-29T18:12:26.157Z"
   },
   {
    "duration": 13,
    "start_time": "2022-09-29T18:12:26.446Z"
   },
   {
    "duration": 203,
    "start_time": "2022-09-29T18:12:26.461Z"
   },
   {
    "duration": 13,
    "start_time": "2022-09-29T18:12:26.666Z"
   },
   {
    "duration": 191,
    "start_time": "2022-09-29T18:12:26.681Z"
   },
   {
    "duration": 8,
    "start_time": "2022-09-29T18:12:26.874Z"
   },
   {
    "duration": 171,
    "start_time": "2022-09-29T18:12:26.884Z"
   },
   {
    "duration": 185,
    "start_time": "2022-09-29T18:12:27.058Z"
   },
   {
    "duration": 14,
    "start_time": "2022-09-29T18:12:27.252Z"
   },
   {
    "duration": 185,
    "start_time": "2022-09-29T18:12:27.268Z"
   },
   {
    "duration": 10,
    "start_time": "2022-09-29T18:12:27.456Z"
   },
   {
    "duration": 232,
    "start_time": "2022-09-29T18:12:27.467Z"
   },
   {
    "duration": 38,
    "start_time": "2022-09-29T18:12:27.701Z"
   },
   {
    "duration": 141,
    "start_time": "2022-09-29T18:12:27.747Z"
   },
   {
    "duration": 10,
    "start_time": "2022-09-29T18:12:27.890Z"
   },
   {
    "duration": 199,
    "start_time": "2022-09-29T18:12:27.902Z"
   },
   {
    "duration": 32,
    "start_time": "2022-09-29T18:12:28.103Z"
   },
   {
    "duration": 216,
    "start_time": "2022-09-29T18:12:28.138Z"
   },
   {
    "duration": 9,
    "start_time": "2022-09-29T18:12:28.356Z"
   },
   {
    "duration": 131,
    "start_time": "2022-09-29T18:12:28.367Z"
   },
   {
    "duration": 19,
    "start_time": "2022-09-29T18:12:28.499Z"
   },
   {
    "duration": 163,
    "start_time": "2022-09-29T18:12:28.526Z"
   },
   {
    "duration": 164,
    "start_time": "2022-09-29T18:12:28.691Z"
   },
   {
    "duration": 10,
    "start_time": "2022-09-29T18:12:28.857Z"
   },
   {
    "duration": 3,
    "start_time": "2022-09-29T18:12:28.870Z"
   },
   {
    "duration": 298,
    "start_time": "2022-09-29T18:12:28.875Z"
   },
   {
    "duration": 15,
    "start_time": "2022-09-29T18:12:29.175Z"
   },
   {
    "duration": 35,
    "start_time": "2022-09-29T18:12:29.192Z"
   },
   {
    "duration": 71,
    "start_time": "2022-09-29T18:12:29.228Z"
   },
   {
    "duration": 217,
    "start_time": "2022-09-29T18:12:29.301Z"
   },
   {
    "duration": 11,
    "start_time": "2022-09-29T18:12:29.527Z"
   },
   {
    "duration": 256,
    "start_time": "2022-09-29T18:12:29.539Z"
   },
   {
    "duration": 6,
    "start_time": "2022-09-29T18:12:29.796Z"
   },
   {
    "duration": 301,
    "start_time": "2022-09-29T18:12:29.811Z"
   },
   {
    "duration": 16,
    "start_time": "2022-09-29T18:12:30.123Z"
   },
   {
    "duration": 406,
    "start_time": "2022-09-29T18:12:30.149Z"
   },
   {
    "duration": 231,
    "start_time": "2022-09-29T18:12:30.557Z"
   },
   {
    "duration": 2,
    "start_time": "2022-09-29T18:12:30.789Z"
   },
   {
    "duration": 205,
    "start_time": "2022-09-29T18:12:30.793Z"
   },
   {
    "duration": 243,
    "start_time": "2022-09-29T18:12:31.000Z"
   },
   {
    "duration": 174,
    "start_time": "2022-09-29T18:12:31.245Z"
   },
   {
    "duration": 30,
    "start_time": "2022-09-29T18:12:31.423Z"
   },
   {
    "duration": 44,
    "start_time": "2022-09-29T18:12:31.455Z"
   },
   {
    "duration": 276,
    "start_time": "2022-09-29T18:12:31.501Z"
   },
   {
    "duration": 12,
    "start_time": "2022-09-29T18:15:38.568Z"
   },
   {
    "duration": 7,
    "start_time": "2022-09-29T18:15:42.797Z"
   },
   {
    "duration": 10,
    "start_time": "2022-09-29T18:15:49.972Z"
   },
   {
    "duration": 108,
    "start_time": "2022-09-29T18:22:18.833Z"
   },
   {
    "duration": 23,
    "start_time": "2022-09-29T18:22:23.095Z"
   },
   {
    "duration": 27,
    "start_time": "2022-09-29T18:22:35.126Z"
   },
   {
    "duration": 19,
    "start_time": "2022-09-29T18:22:39.401Z"
   },
   {
    "duration": 14,
    "start_time": "2022-09-29T18:23:47.983Z"
   },
   {
    "duration": 42,
    "start_time": "2022-09-29T18:37:26.347Z"
   },
   {
    "duration": 1336,
    "start_time": "2022-09-29T21:14:54.662Z"
   },
   {
    "duration": 332,
    "start_time": "2022-09-29T21:14:56.001Z"
   },
   {
    "duration": 16,
    "start_time": "2022-09-29T21:14:56.335Z"
   },
   {
    "duration": 16,
    "start_time": "2022-09-29T21:14:56.355Z"
   },
   {
    "duration": 13,
    "start_time": "2022-09-29T21:14:56.372Z"
   },
   {
    "duration": 1670,
    "start_time": "2022-09-29T21:14:56.387Z"
   },
   {
    "duration": 8,
    "start_time": "2022-09-29T21:14:58.058Z"
   },
   {
    "duration": 19,
    "start_time": "2022-09-29T21:14:58.068Z"
   },
   {
    "duration": 4,
    "start_time": "2022-09-29T21:14:58.089Z"
   },
   {
    "duration": 23,
    "start_time": "2022-09-29T21:14:58.095Z"
   },
   {
    "duration": 4,
    "start_time": "2022-09-29T21:14:58.119Z"
   },
   {
    "duration": 3,
    "start_time": "2022-09-29T21:14:58.125Z"
   },
   {
    "duration": 5,
    "start_time": "2022-09-29T21:14:58.129Z"
   },
   {
    "duration": 7,
    "start_time": "2022-09-29T21:14:58.136Z"
   },
   {
    "duration": 15,
    "start_time": "2022-09-29T21:14:58.145Z"
   },
   {
    "duration": 7,
    "start_time": "2022-09-29T21:14:58.161Z"
   },
   {
    "duration": 17,
    "start_time": "2022-09-29T21:14:58.169Z"
   },
   {
    "duration": 19,
    "start_time": "2022-09-29T21:14:58.208Z"
   },
   {
    "duration": 6,
    "start_time": "2022-09-29T21:14:58.229Z"
   },
   {
    "duration": 10,
    "start_time": "2022-09-29T21:14:58.237Z"
   },
   {
    "duration": 26,
    "start_time": "2022-09-29T21:14:58.248Z"
   },
   {
    "duration": 34,
    "start_time": "2022-09-29T21:14:58.275Z"
   },
   {
    "duration": 7,
    "start_time": "2022-09-29T21:14:58.311Z"
   },
   {
    "duration": 7,
    "start_time": "2022-09-29T21:14:58.319Z"
   },
   {
    "duration": 18,
    "start_time": "2022-09-29T21:14:58.328Z"
   },
   {
    "duration": 4,
    "start_time": "2022-09-29T21:14:58.348Z"
   },
   {
    "duration": 7,
    "start_time": "2022-09-29T21:14:58.354Z"
   },
   {
    "duration": 5,
    "start_time": "2022-09-29T21:14:58.365Z"
   },
   {
    "duration": 5,
    "start_time": "2022-09-29T21:14:58.371Z"
   },
   {
    "duration": 4,
    "start_time": "2022-09-29T21:14:58.377Z"
   },
   {
    "duration": 6,
    "start_time": "2022-09-29T21:14:58.409Z"
   },
   {
    "duration": 5,
    "start_time": "2022-09-29T21:14:58.417Z"
   },
   {
    "duration": 55,
    "start_time": "2022-09-29T21:14:58.423Z"
   },
   {
    "duration": 4,
    "start_time": "2022-09-29T21:14:58.480Z"
   },
   {
    "duration": 26,
    "start_time": "2022-09-29T21:14:58.486Z"
   },
   {
    "duration": 336,
    "start_time": "2022-09-29T21:14:58.513Z"
   },
   {
    "duration": 20,
    "start_time": "2022-09-29T21:14:58.850Z"
   },
   {
    "duration": 5,
    "start_time": "2022-09-29T21:14:58.871Z"
   },
   {
    "duration": 4,
    "start_time": "2022-09-29T21:14:58.878Z"
   },
   {
    "duration": 130,
    "start_time": "2022-09-29T21:14:58.883Z"
   },
   {
    "duration": 144,
    "start_time": "2022-09-29T21:14:59.015Z"
   },
   {
    "duration": 7,
    "start_time": "2022-09-29T21:14:59.161Z"
   },
   {
    "duration": 139,
    "start_time": "2022-09-29T21:14:59.170Z"
   },
   {
    "duration": 7,
    "start_time": "2022-09-29T21:14:59.311Z"
   },
   {
    "duration": 136,
    "start_time": "2022-09-29T21:14:59.320Z"
   },
   {
    "duration": 8,
    "start_time": "2022-09-29T21:14:59.457Z"
   },
   {
    "duration": 134,
    "start_time": "2022-09-29T21:14:59.467Z"
   },
   {
    "duration": 12,
    "start_time": "2022-09-29T21:14:59.602Z"
   },
   {
    "duration": 137,
    "start_time": "2022-09-29T21:14:59.616Z"
   },
   {
    "duration": 143,
    "start_time": "2022-09-29T21:14:59.754Z"
   },
   {
    "duration": 12,
    "start_time": "2022-09-29T21:14:59.899Z"
   },
   {
    "duration": 219,
    "start_time": "2022-09-29T21:14:59.912Z"
   },
   {
    "duration": 8,
    "start_time": "2022-09-29T21:15:00.132Z"
   },
   {
    "duration": 120,
    "start_time": "2022-09-29T21:15:00.141Z"
   },
   {
    "duration": 7,
    "start_time": "2022-09-29T21:15:00.263Z"
   },
   {
    "duration": 133,
    "start_time": "2022-09-29T21:15:00.271Z"
   },
   {
    "duration": 9,
    "start_time": "2022-09-29T21:15:00.405Z"
   },
   {
    "duration": 164,
    "start_time": "2022-09-29T21:15:00.415Z"
   },
   {
    "duration": 7,
    "start_time": "2022-09-29T21:15:00.581Z"
   },
   {
    "duration": 128,
    "start_time": "2022-09-29T21:15:00.590Z"
   },
   {
    "duration": 8,
    "start_time": "2022-09-29T21:15:00.720Z"
   },
   {
    "duration": 145,
    "start_time": "2022-09-29T21:15:00.730Z"
   },
   {
    "duration": 8,
    "start_time": "2022-09-29T21:15:00.877Z"
   },
   {
    "duration": 144,
    "start_time": "2022-09-29T21:15:00.886Z"
   },
   {
    "duration": 155,
    "start_time": "2022-09-29T21:15:01.032Z"
   },
   {
    "duration": 7,
    "start_time": "2022-09-29T21:15:01.189Z"
   },
   {
    "duration": 14,
    "start_time": "2022-09-29T21:15:01.197Z"
   },
   {
    "duration": 251,
    "start_time": "2022-09-29T21:15:01.213Z"
   },
   {
    "duration": 9,
    "start_time": "2022-09-29T21:15:01.466Z"
   },
   {
    "duration": 13,
    "start_time": "2022-09-29T21:15:01.476Z"
   },
   {
    "duration": 20,
    "start_time": "2022-09-29T21:15:01.490Z"
   },
   {
    "duration": 168,
    "start_time": "2022-09-29T21:15:01.511Z"
   },
   {
    "duration": 8,
    "start_time": "2022-09-29T21:15:01.681Z"
   },
   {
    "duration": 307,
    "start_time": "2022-09-29T21:15:01.690Z"
   },
   {
    "duration": 13,
    "start_time": "2022-09-29T21:15:01.998Z"
   },
   {
    "duration": 310,
    "start_time": "2022-09-29T21:15:02.013Z"
   },
   {
    "duration": 4,
    "start_time": "2022-09-29T21:15:02.325Z"
   },
   {
    "duration": 307,
    "start_time": "2022-09-29T21:15:02.331Z"
   },
   {
    "duration": 227,
    "start_time": "2022-09-29T21:15:02.640Z"
   },
   {
    "duration": 2,
    "start_time": "2022-09-29T21:15:02.869Z"
   },
   {
    "duration": 158,
    "start_time": "2022-09-29T21:15:02.873Z"
   },
   {
    "duration": 158,
    "start_time": "2022-09-29T21:15:03.037Z"
   },
   {
    "duration": 138,
    "start_time": "2022-09-29T21:15:03.197Z"
   },
   {
    "duration": 131,
    "start_time": "2022-09-29T21:15:09.316Z"
   },
   {
    "duration": 28,
    "start_time": "2022-09-29T21:15:30.772Z"
   },
   {
    "duration": 109,
    "start_time": "2022-09-29T21:20:49.308Z"
   },
   {
    "duration": 53,
    "start_time": "2022-09-29T21:29:18.003Z"
   },
   {
    "duration": 226,
    "start_time": "2022-09-29T21:31:08.353Z"
   },
   {
    "duration": 132,
    "start_time": "2022-09-29T21:31:59.633Z"
   },
   {
    "duration": 212,
    "start_time": "2022-09-29T21:33:11.257Z"
   },
   {
    "duration": 320,
    "start_time": "2022-09-29T21:33:27.272Z"
   },
   {
    "duration": 447,
    "start_time": "2022-09-29T21:37:30.903Z"
   },
   {
    "duration": 336,
    "start_time": "2022-09-29T21:37:34.622Z"
   },
   {
    "duration": 71,
    "start_time": "2022-09-29T21:39:47.789Z"
   },
   {
    "duration": 148,
    "start_time": "2022-09-29T21:40:59.211Z"
   },
   {
    "duration": 715,
    "start_time": "2022-09-29T22:31:26.101Z"
   },
   {
    "duration": 12,
    "start_time": "2022-09-29T22:32:15.780Z"
   },
   {
    "duration": 110,
    "start_time": "2022-09-29T22:32:36.485Z"
   },
   {
    "duration": 96,
    "start_time": "2022-09-29T22:32:51.940Z"
   },
   {
    "duration": 95,
    "start_time": "2022-09-29T22:33:00.732Z"
   },
   {
    "duration": 97,
    "start_time": "2022-09-29T22:33:03.548Z"
   },
   {
    "duration": 97,
    "start_time": "2022-09-29T22:33:11.875Z"
   },
   {
    "duration": 91,
    "start_time": "2022-09-29T22:33:35.467Z"
   },
   {
    "duration": 99,
    "start_time": "2022-09-29T22:34:05.514Z"
   },
   {
    "duration": 1379,
    "start_time": "2022-09-30T08:07:31.252Z"
   },
   {
    "duration": 409,
    "start_time": "2022-09-30T08:07:32.637Z"
   },
   {
    "duration": 21,
    "start_time": "2022-09-30T08:07:33.047Z"
   },
   {
    "duration": 27,
    "start_time": "2022-09-30T08:07:33.071Z"
   },
   {
    "duration": 39,
    "start_time": "2022-09-30T08:07:33.100Z"
   },
   {
    "duration": 1924,
    "start_time": "2022-09-30T08:07:33.141Z"
   },
   {
    "duration": 9,
    "start_time": "2022-09-30T08:07:35.066Z"
   },
   {
    "duration": 64,
    "start_time": "2022-09-30T08:07:35.077Z"
   },
   {
    "duration": 26,
    "start_time": "2022-09-30T08:07:35.143Z"
   },
   {
    "duration": 5,
    "start_time": "2022-09-30T08:07:35.173Z"
   },
   {
    "duration": 17,
    "start_time": "2022-09-30T08:07:35.180Z"
   },
   {
    "duration": 28,
    "start_time": "2022-09-30T08:07:35.208Z"
   },
   {
    "duration": 16,
    "start_time": "2022-09-30T08:07:35.237Z"
   },
   {
    "duration": 8,
    "start_time": "2022-09-30T08:07:35.255Z"
   },
   {
    "duration": 42,
    "start_time": "2022-09-30T08:07:35.264Z"
   },
   {
    "duration": 46,
    "start_time": "2022-09-30T08:07:35.308Z"
   },
   {
    "duration": 16,
    "start_time": "2022-09-30T08:07:35.355Z"
   },
   {
    "duration": 21,
    "start_time": "2022-09-30T08:07:35.372Z"
   },
   {
    "duration": 21,
    "start_time": "2022-09-30T08:07:35.394Z"
   },
   {
    "duration": 30,
    "start_time": "2022-09-30T08:07:35.417Z"
   },
   {
    "duration": 17,
    "start_time": "2022-09-30T08:07:35.448Z"
   },
   {
    "duration": 32,
    "start_time": "2022-09-30T08:07:35.466Z"
   },
   {
    "duration": 102,
    "start_time": "2022-09-30T08:07:35.500Z"
   },
   {
    "duration": 24,
    "start_time": "2022-09-30T08:07:35.603Z"
   },
   {
    "duration": 26,
    "start_time": "2022-09-30T08:07:35.628Z"
   },
   {
    "duration": 9,
    "start_time": "2022-09-30T08:07:35.656Z"
   },
   {
    "duration": 10,
    "start_time": "2022-09-30T08:07:35.667Z"
   },
   {
    "duration": 6,
    "start_time": "2022-09-30T08:07:35.682Z"
   },
   {
    "duration": 9,
    "start_time": "2022-09-30T08:07:35.690Z"
   },
   {
    "duration": 10,
    "start_time": "2022-09-30T08:07:35.701Z"
   },
   {
    "duration": 129,
    "start_time": "2022-09-30T08:07:35.724Z"
   },
   {
    "duration": 4,
    "start_time": "2022-09-30T08:07:35.855Z"
   },
   {
    "duration": 10,
    "start_time": "2022-09-30T08:07:35.861Z"
   },
   {
    "duration": 11,
    "start_time": "2022-09-30T08:07:35.872Z"
   },
   {
    "duration": 9,
    "start_time": "2022-09-30T08:07:35.884Z"
   },
   {
    "duration": 85,
    "start_time": "2022-09-30T08:07:35.894Z"
   },
   {
    "duration": 4,
    "start_time": "2022-09-30T08:07:35.980Z"
   },
   {
    "duration": 33,
    "start_time": "2022-09-30T08:07:35.986Z"
   },
   {
    "duration": 366,
    "start_time": "2022-09-30T08:07:36.020Z"
   },
   {
    "duration": 46,
    "start_time": "2022-09-30T08:07:36.388Z"
   },
   {
    "duration": 4,
    "start_time": "2022-09-30T08:07:36.436Z"
   },
   {
    "duration": 8,
    "start_time": "2022-09-30T08:07:36.441Z"
   },
   {
    "duration": 147,
    "start_time": "2022-09-30T08:07:36.450Z"
   },
   {
    "duration": 158,
    "start_time": "2022-09-30T08:07:36.598Z"
   },
   {
    "duration": 9,
    "start_time": "2022-09-30T08:07:36.758Z"
   },
   {
    "duration": 174,
    "start_time": "2022-09-30T08:07:36.769Z"
   },
   {
    "duration": 10,
    "start_time": "2022-09-30T08:07:36.945Z"
   },
   {
    "duration": 148,
    "start_time": "2022-09-30T08:07:36.957Z"
   },
   {
    "duration": 20,
    "start_time": "2022-09-30T08:07:37.107Z"
   },
   {
    "duration": 263,
    "start_time": "2022-09-30T08:07:37.128Z"
   },
   {
    "duration": 7,
    "start_time": "2022-09-30T08:07:37.392Z"
   },
   {
    "duration": 150,
    "start_time": "2022-09-30T08:07:37.401Z"
   },
   {
    "duration": 147,
    "start_time": "2022-09-30T08:07:37.552Z"
   },
   {
    "duration": 38,
    "start_time": "2022-09-30T08:07:37.701Z"
   },
   {
    "duration": 142,
    "start_time": "2022-09-30T08:07:37.741Z"
   },
   {
    "duration": 10,
    "start_time": "2022-09-30T08:07:37.885Z"
   },
   {
    "duration": 146,
    "start_time": "2022-09-30T08:07:37.897Z"
   },
   {
    "duration": 8,
    "start_time": "2022-09-30T08:07:38.045Z"
   },
   {
    "duration": 190,
    "start_time": "2022-09-30T08:07:38.054Z"
   },
   {
    "duration": 8,
    "start_time": "2022-09-30T08:07:38.246Z"
   },
   {
    "duration": 184,
    "start_time": "2022-09-30T08:07:38.256Z"
   },
   {
    "duration": 10,
    "start_time": "2022-09-30T08:07:38.445Z"
   },
   {
    "duration": 142,
    "start_time": "2022-09-30T08:07:38.457Z"
   },
   {
    "duration": 27,
    "start_time": "2022-09-30T08:07:38.601Z"
   },
   {
    "duration": 149,
    "start_time": "2022-09-30T08:07:38.632Z"
   },
   {
    "duration": 9,
    "start_time": "2022-09-30T08:07:38.782Z"
   },
   {
    "duration": 209,
    "start_time": "2022-09-30T08:07:38.792Z"
   },
   {
    "duration": 149,
    "start_time": "2022-09-30T08:07:39.002Z"
   },
   {
    "duration": 9,
    "start_time": "2022-09-30T08:07:39.153Z"
   },
   {
    "duration": 27,
    "start_time": "2022-09-30T08:07:39.163Z"
   },
   {
    "duration": 350,
    "start_time": "2022-09-30T08:07:39.191Z"
   },
   {
    "duration": 13,
    "start_time": "2022-09-30T08:07:39.542Z"
   },
   {
    "duration": 33,
    "start_time": "2022-09-30T08:07:39.557Z"
   },
   {
    "duration": 46,
    "start_time": "2022-09-30T08:07:39.592Z"
   },
   {
    "duration": 190,
    "start_time": "2022-09-30T08:07:39.641Z"
   },
   {
    "duration": 361,
    "start_time": "2022-09-30T08:07:39.833Z"
   },
   {
    "duration": 8,
    "start_time": "2022-09-30T08:07:40.195Z"
   },
   {
    "duration": 269,
    "start_time": "2022-09-30T08:07:40.208Z"
   },
   {
    "duration": 6,
    "start_time": "2022-09-30T08:07:40.479Z"
   },
   {
    "duration": 362,
    "start_time": "2022-09-30T08:07:40.487Z"
   },
   {
    "duration": 6,
    "start_time": "2022-09-30T08:07:40.851Z"
   },
   {
    "duration": 371,
    "start_time": "2022-09-30T08:07:40.864Z"
   },
   {
    "duration": 255,
    "start_time": "2022-09-30T08:07:41.237Z"
   },
   {
    "duration": 161,
    "start_time": "2022-09-30T08:07:41.494Z"
   },
   {
    "duration": 240,
    "start_time": "2022-09-30T08:07:41.657Z"
   },
   {
    "duration": 177,
    "start_time": "2022-09-30T08:07:41.899Z"
   },
   {
    "duration": 154,
    "start_time": "2022-09-30T08:07:42.078Z"
   },
   {
    "duration": 157,
    "start_time": "2022-09-30T08:07:42.234Z"
   },
   {
    "duration": 0,
    "start_time": "2022-09-30T08:07:42.393Z"
   },
   {
    "duration": 0,
    "start_time": "2022-09-30T08:07:42.394Z"
   },
   {
    "duration": 22,
    "start_time": "2022-09-30T08:12:30.807Z"
   },
   {
    "duration": 9,
    "start_time": "2022-09-30T08:12:35.752Z"
   },
   {
    "duration": 29,
    "start_time": "2022-09-30T08:14:20.271Z"
   },
   {
    "duration": 32,
    "start_time": "2022-09-30T08:18:05.622Z"
   },
   {
    "duration": 30,
    "start_time": "2022-09-30T08:18:12.468Z"
   },
   {
    "duration": 33,
    "start_time": "2022-09-30T08:18:27.320Z"
   },
   {
    "duration": 41,
    "start_time": "2022-09-30T08:19:42.499Z"
   },
   {
    "duration": 140,
    "start_time": "2022-09-30T08:25:35.045Z"
   },
   {
    "duration": 28,
    "start_time": "2022-09-30T08:25:40.456Z"
   },
   {
    "duration": 20,
    "start_time": "2022-09-30T08:33:58.504Z"
   },
   {
    "duration": 43,
    "start_time": "2022-09-30T08:34:24.052Z"
   },
   {
    "duration": 22,
    "start_time": "2022-09-30T08:53:55.708Z"
   },
   {
    "duration": 9,
    "start_time": "2022-09-30T08:55:26.635Z"
   },
   {
    "duration": 23,
    "start_time": "2022-09-30T08:55:37.056Z"
   },
   {
    "duration": 26,
    "start_time": "2022-09-30T09:15:06.304Z"
   },
   {
    "duration": 4,
    "start_time": "2022-09-30T09:15:13.527Z"
   },
   {
    "duration": 98,
    "start_time": "2022-09-30T09:15:13.534Z"
   },
   {
    "duration": 12,
    "start_time": "2022-09-30T09:15:13.634Z"
   },
   {
    "duration": 15,
    "start_time": "2022-09-30T09:15:13.648Z"
   },
   {
    "duration": 13,
    "start_time": "2022-09-30T09:15:13.665Z"
   },
   {
    "duration": 1736,
    "start_time": "2022-09-30T09:15:13.679Z"
   },
   {
    "duration": 8,
    "start_time": "2022-09-30T09:15:15.417Z"
   },
   {
    "duration": 32,
    "start_time": "2022-09-30T09:15:15.426Z"
   },
   {
    "duration": 26,
    "start_time": "2022-09-30T09:15:15.460Z"
   },
   {
    "duration": 24,
    "start_time": "2022-09-30T09:15:15.488Z"
   },
   {
    "duration": 24,
    "start_time": "2022-09-30T09:15:15.516Z"
   },
   {
    "duration": 13,
    "start_time": "2022-09-30T09:15:15.542Z"
   },
   {
    "duration": 9,
    "start_time": "2022-09-30T09:15:15.557Z"
   },
   {
    "duration": 19,
    "start_time": "2022-09-30T09:15:15.567Z"
   },
   {
    "duration": 16,
    "start_time": "2022-09-30T09:15:15.588Z"
   },
   {
    "duration": 24,
    "start_time": "2022-09-30T09:15:15.605Z"
   },
   {
    "duration": 19,
    "start_time": "2022-09-30T09:15:15.630Z"
   },
   {
    "duration": 28,
    "start_time": "2022-09-30T09:15:15.651Z"
   },
   {
    "duration": 18,
    "start_time": "2022-09-30T09:15:15.681Z"
   },
   {
    "duration": 8,
    "start_time": "2022-09-30T09:15:15.701Z"
   },
   {
    "duration": 15,
    "start_time": "2022-09-30T09:15:15.711Z"
   },
   {
    "duration": 45,
    "start_time": "2022-09-30T09:15:15.728Z"
   },
   {
    "duration": 8,
    "start_time": "2022-09-30T09:15:15.774Z"
   },
   {
    "duration": 20,
    "start_time": "2022-09-30T09:15:15.783Z"
   },
   {
    "duration": 23,
    "start_time": "2022-09-30T09:15:15.805Z"
   },
   {
    "duration": 10,
    "start_time": "2022-09-30T09:15:15.830Z"
   },
   {
    "duration": 28,
    "start_time": "2022-09-30T09:15:15.842Z"
   },
   {
    "duration": 17,
    "start_time": "2022-09-30T09:15:15.872Z"
   },
   {
    "duration": 17,
    "start_time": "2022-09-30T09:15:15.894Z"
   },
   {
    "duration": 111,
    "start_time": "2022-09-30T09:15:15.913Z"
   },
   {
    "duration": 5,
    "start_time": "2022-09-30T09:15:16.026Z"
   },
   {
    "duration": 14,
    "start_time": "2022-09-30T09:15:16.033Z"
   },
   {
    "duration": 27,
    "start_time": "2022-09-30T09:15:16.049Z"
   },
   {
    "duration": 17,
    "start_time": "2022-09-30T09:15:16.077Z"
   },
   {
    "duration": 73,
    "start_time": "2022-09-30T09:15:16.095Z"
   },
   {
    "duration": 5,
    "start_time": "2022-09-30T09:15:16.170Z"
   },
   {
    "duration": 16,
    "start_time": "2022-09-30T09:15:16.177Z"
   },
   {
    "duration": 356,
    "start_time": "2022-09-30T09:15:16.194Z"
   },
   {
    "duration": 19,
    "start_time": "2022-09-30T09:15:16.552Z"
   },
   {
    "duration": 4,
    "start_time": "2022-09-30T09:15:16.573Z"
   },
   {
    "duration": 42,
    "start_time": "2022-09-30T09:15:16.579Z"
   },
   {
    "duration": 134,
    "start_time": "2022-09-30T09:15:16.622Z"
   },
   {
    "duration": 143,
    "start_time": "2022-09-30T09:15:16.758Z"
   },
   {
    "duration": 12,
    "start_time": "2022-09-30T09:15:16.903Z"
   },
   {
    "duration": 145,
    "start_time": "2022-09-30T09:15:16.916Z"
   },
   {
    "duration": 9,
    "start_time": "2022-09-30T09:15:17.063Z"
   },
   {
    "duration": 133,
    "start_time": "2022-09-30T09:15:17.073Z"
   },
   {
    "duration": 7,
    "start_time": "2022-09-30T09:15:17.209Z"
   },
   {
    "duration": 131,
    "start_time": "2022-09-30T09:15:17.218Z"
   },
   {
    "duration": 7,
    "start_time": "2022-09-30T09:15:17.351Z"
   },
   {
    "duration": 149,
    "start_time": "2022-09-30T09:15:17.360Z"
   },
   {
    "duration": 239,
    "start_time": "2022-09-30T09:15:17.510Z"
   },
   {
    "duration": 8,
    "start_time": "2022-09-30T09:15:17.751Z"
   },
   {
    "duration": 134,
    "start_time": "2022-09-30T09:15:17.760Z"
   },
   {
    "duration": 14,
    "start_time": "2022-09-30T09:15:17.895Z"
   },
   {
    "duration": 120,
    "start_time": "2022-09-30T09:15:17.910Z"
   },
   {
    "duration": 8,
    "start_time": "2022-09-30T09:15:18.032Z"
   },
   {
    "duration": 132,
    "start_time": "2022-09-30T09:15:18.042Z"
   },
   {
    "duration": 7,
    "start_time": "2022-09-30T09:15:18.175Z"
   },
   {
    "duration": 138,
    "start_time": "2022-09-30T09:15:18.184Z"
   },
   {
    "duration": 8,
    "start_time": "2022-09-30T09:15:18.324Z"
   },
   {
    "duration": 139,
    "start_time": "2022-09-30T09:15:18.334Z"
   },
   {
    "duration": 9,
    "start_time": "2022-09-30T09:15:18.475Z"
   },
   {
    "duration": 131,
    "start_time": "2022-09-30T09:15:18.485Z"
   },
   {
    "duration": 9,
    "start_time": "2022-09-30T09:15:18.617Z"
   },
   {
    "duration": 152,
    "start_time": "2022-09-30T09:15:18.628Z"
   },
   {
    "duration": 149,
    "start_time": "2022-09-30T09:15:18.782Z"
   },
   {
    "duration": 8,
    "start_time": "2022-09-30T09:15:18.932Z"
   },
   {
    "duration": 2,
    "start_time": "2022-09-30T09:15:18.941Z"
   },
   {
    "duration": 248,
    "start_time": "2022-09-30T09:15:18.945Z"
   },
   {
    "duration": 15,
    "start_time": "2022-09-30T09:15:19.194Z"
   },
   {
    "duration": 14,
    "start_time": "2022-09-30T09:15:19.211Z"
   },
   {
    "duration": 7,
    "start_time": "2022-09-30T09:15:19.227Z"
   },
   {
    "duration": 221,
    "start_time": "2022-09-30T09:15:19.236Z"
   },
   {
    "duration": 329,
    "start_time": "2022-09-30T09:15:19.458Z"
   },
   {
    "duration": 8,
    "start_time": "2022-09-30T09:15:19.789Z"
   },
   {
    "duration": 230,
    "start_time": "2022-09-30T09:15:19.809Z"
   },
   {
    "duration": 6,
    "start_time": "2022-09-30T09:15:20.041Z"
   },
   {
    "duration": 381,
    "start_time": "2022-09-30T09:15:20.048Z"
   },
   {
    "duration": 6,
    "start_time": "2022-09-30T09:15:20.430Z"
   },
   {
    "duration": 603,
    "start_time": "2022-09-30T09:15:20.437Z"
   },
   {
    "duration": 396,
    "start_time": "2022-09-30T09:15:21.041Z"
   },
   {
    "duration": 209,
    "start_time": "2022-09-30T09:15:21.442Z"
   },
   {
    "duration": 298,
    "start_time": "2022-09-30T09:15:21.652Z"
   },
   {
    "duration": 223,
    "start_time": "2022-09-30T09:15:21.952Z"
   },
   {
    "duration": 207,
    "start_time": "2022-09-30T09:15:22.177Z"
   },
   {
    "duration": 32,
    "start_time": "2022-09-30T09:15:22.385Z"
   },
   {
    "duration": 15,
    "start_time": "2022-09-30T09:15:22.418Z"
   },
   {
    "duration": 231,
    "start_time": "2022-09-30T09:15:22.434Z"
   },
   {
    "duration": 5,
    "start_time": "2022-09-30T11:01:55.602Z"
   },
   {
    "duration": 103,
    "start_time": "2022-09-30T11:01:55.609Z"
   },
   {
    "duration": 14,
    "start_time": "2022-09-30T11:01:55.713Z"
   },
   {
    "duration": 15,
    "start_time": "2022-09-30T11:01:55.729Z"
   },
   {
    "duration": 26,
    "start_time": "2022-09-30T11:01:55.746Z"
   },
   {
    "duration": 1779,
    "start_time": "2022-09-30T11:01:55.774Z"
   },
   {
    "duration": 16,
    "start_time": "2022-09-30T11:01:57.556Z"
   },
   {
    "duration": 43,
    "start_time": "2022-09-30T11:01:57.574Z"
   },
   {
    "duration": 147,
    "start_time": "2022-09-30T11:01:57.619Z"
   },
   {
    "duration": 7,
    "start_time": "2022-09-30T11:01:57.768Z"
   },
   {
    "duration": 35,
    "start_time": "2022-09-30T11:01:57.777Z"
   },
   {
    "duration": 8,
    "start_time": "2022-09-30T11:01:57.815Z"
   },
   {
    "duration": 4,
    "start_time": "2022-09-30T11:01:57.828Z"
   },
   {
    "duration": 5,
    "start_time": "2022-09-30T11:01:57.834Z"
   },
   {
    "duration": 7,
    "start_time": "2022-09-30T11:01:57.841Z"
   },
   {
    "duration": 9,
    "start_time": "2022-09-30T11:01:57.850Z"
   },
   {
    "duration": 9,
    "start_time": "2022-09-30T11:01:57.861Z"
   },
   {
    "duration": 60,
    "start_time": "2022-09-30T11:01:57.872Z"
   },
   {
    "duration": 19,
    "start_time": "2022-09-30T11:01:57.934Z"
   },
   {
    "duration": 9,
    "start_time": "2022-09-30T11:01:57.955Z"
   },
   {
    "duration": 52,
    "start_time": "2022-09-30T11:01:57.966Z"
   },
   {
    "duration": 35,
    "start_time": "2022-09-30T11:01:58.020Z"
   },
   {
    "duration": 8,
    "start_time": "2022-09-30T11:01:58.057Z"
   },
   {
    "duration": 14,
    "start_time": "2022-09-30T11:01:58.066Z"
   },
   {
    "duration": 27,
    "start_time": "2022-09-30T11:01:58.082Z"
   },
   {
    "duration": 6,
    "start_time": "2022-09-30T11:01:58.111Z"
   },
   {
    "duration": 13,
    "start_time": "2022-09-30T11:01:58.118Z"
   },
   {
    "duration": 19,
    "start_time": "2022-09-30T11:01:58.133Z"
   },
   {
    "duration": 9,
    "start_time": "2022-09-30T11:01:58.154Z"
   },
   {
    "duration": 152,
    "start_time": "2022-09-30T11:01:58.165Z"
   },
   {
    "duration": 5,
    "start_time": "2022-09-30T11:01:58.319Z"
   },
   {
    "duration": 10,
    "start_time": "2022-09-30T11:01:58.326Z"
   },
   {
    "duration": 12,
    "start_time": "2022-09-30T11:01:58.337Z"
   },
   {
    "duration": 5,
    "start_time": "2022-09-30T11:01:58.351Z"
   },
   {
    "duration": 98,
    "start_time": "2022-09-30T11:01:58.358Z"
   },
   {
    "duration": 4,
    "start_time": "2022-09-30T11:01:58.458Z"
   },
   {
    "duration": 77,
    "start_time": "2022-09-30T11:01:58.466Z"
   },
   {
    "duration": 344,
    "start_time": "2022-09-30T11:01:58.544Z"
   },
   {
    "duration": 23,
    "start_time": "2022-09-30T11:01:58.890Z"
   },
   {
    "duration": 30,
    "start_time": "2022-09-30T11:01:58.915Z"
   },
   {
    "duration": 7,
    "start_time": "2022-09-30T11:01:58.946Z"
   },
   {
    "duration": 133,
    "start_time": "2022-09-30T11:01:58.955Z"
   },
   {
    "duration": 147,
    "start_time": "2022-09-30T11:01:59.090Z"
   },
   {
    "duration": 9,
    "start_time": "2022-09-30T11:01:59.239Z"
   },
   {
    "duration": 206,
    "start_time": "2022-09-30T11:01:59.249Z"
   },
   {
    "duration": 9,
    "start_time": "2022-09-30T11:01:59.456Z"
   },
   {
    "duration": 147,
    "start_time": "2022-09-30T11:01:59.466Z"
   },
   {
    "duration": 10,
    "start_time": "2022-09-30T11:01:59.614Z"
   },
   {
    "duration": 143,
    "start_time": "2022-09-30T11:01:59.626Z"
   },
   {
    "duration": 9,
    "start_time": "2022-09-30T11:01:59.771Z"
   },
   {
    "duration": 148,
    "start_time": "2022-09-30T11:01:59.782Z"
   },
   {
    "duration": 214,
    "start_time": "2022-09-30T11:01:59.932Z"
   },
   {
    "duration": 9,
    "start_time": "2022-09-30T11:02:00.148Z"
   },
   {
    "duration": 297,
    "start_time": "2022-09-30T11:02:00.159Z"
   },
   {
    "duration": 11,
    "start_time": "2022-09-30T11:02:00.457Z"
   },
   {
    "duration": 149,
    "start_time": "2022-09-30T11:02:00.470Z"
   },
   {
    "duration": 11,
    "start_time": "2022-09-30T11:02:00.621Z"
   },
   {
    "duration": 200,
    "start_time": "2022-09-30T11:02:00.634Z"
   },
   {
    "duration": 9,
    "start_time": "2022-09-30T11:02:00.835Z"
   },
   {
    "duration": 195,
    "start_time": "2022-09-30T11:02:00.846Z"
   },
   {
    "duration": 9,
    "start_time": "2022-09-30T11:02:01.043Z"
   },
   {
    "duration": 230,
    "start_time": "2022-09-30T11:02:01.055Z"
   },
   {
    "duration": 23,
    "start_time": "2022-09-30T11:02:01.287Z"
   },
   {
    "duration": 202,
    "start_time": "2022-09-30T11:02:01.312Z"
   },
   {
    "duration": 12,
    "start_time": "2022-09-30T11:02:01.515Z"
   },
   {
    "duration": 170,
    "start_time": "2022-09-30T11:02:01.528Z"
   },
   {
    "duration": 147,
    "start_time": "2022-09-30T11:02:01.700Z"
   },
   {
    "duration": 8,
    "start_time": "2022-09-30T11:02:01.849Z"
   },
   {
    "duration": 8,
    "start_time": "2022-09-30T11:02:01.859Z"
   },
   {
    "duration": 371,
    "start_time": "2022-09-30T11:02:01.869Z"
   },
   {
    "duration": 12,
    "start_time": "2022-09-30T11:02:02.242Z"
   },
   {
    "duration": 16,
    "start_time": "2022-09-30T11:02:02.256Z"
   },
   {
    "duration": 27,
    "start_time": "2022-09-30T11:02:02.273Z"
   },
   {
    "duration": 235,
    "start_time": "2022-09-30T11:02:02.302Z"
   },
   {
    "duration": 674,
    "start_time": "2022-09-30T11:02:02.539Z"
   },
   {
    "duration": 9,
    "start_time": "2022-09-30T11:02:03.215Z"
   },
   {
    "duration": 484,
    "start_time": "2022-09-30T11:02:03.225Z"
   },
   {
    "duration": 6,
    "start_time": "2022-09-30T11:02:03.712Z"
   },
   {
    "duration": 597,
    "start_time": "2022-09-30T11:02:03.720Z"
   },
   {
    "duration": 5,
    "start_time": "2022-09-30T11:02:04.318Z"
   },
   {
    "duration": 589,
    "start_time": "2022-09-30T11:02:04.325Z"
   },
   {
    "duration": 351,
    "start_time": "2022-09-30T11:02:04.916Z"
   },
   {
    "duration": 137,
    "start_time": "2022-09-30T11:02:05.269Z"
   },
   {
    "duration": 154,
    "start_time": "2022-09-30T11:02:05.409Z"
   },
   {
    "duration": 165,
    "start_time": "2022-09-30T11:02:05.565Z"
   },
   {
    "duration": 139,
    "start_time": "2022-09-30T11:02:05.732Z"
   },
   {
    "duration": 23,
    "start_time": "2022-09-30T11:02:05.873Z"
   },
   {
    "duration": 27,
    "start_time": "2022-09-30T11:02:05.913Z"
   },
   {
    "duration": 289,
    "start_time": "2022-09-30T11:02:05.942Z"
   },
   {
    "duration": 333,
    "start_time": "2022-09-30T11:02:30.162Z"
   },
   {
    "duration": 7,
    "start_time": "2022-09-30T11:04:36.554Z"
   },
   {
    "duration": 27,
    "start_time": "2022-09-30T11:04:46.273Z"
   },
   {
    "duration": 47,
    "start_time": "2022-09-30T11:09:14.607Z"
   },
   {
    "duration": 21,
    "start_time": "2022-09-30T11:09:22.567Z"
   },
   {
    "duration": 45,
    "start_time": "2022-09-30T11:19:28.113Z"
   },
   {
    "duration": 5,
    "start_time": "2022-09-30T11:19:34.946Z"
   },
   {
    "duration": 110,
    "start_time": "2022-09-30T11:19:34.953Z"
   },
   {
    "duration": 13,
    "start_time": "2022-09-30T11:19:35.065Z"
   },
   {
    "duration": 34,
    "start_time": "2022-09-30T11:19:35.080Z"
   },
   {
    "duration": 22,
    "start_time": "2022-09-30T11:19:35.117Z"
   },
   {
    "duration": 1670,
    "start_time": "2022-09-30T11:19:35.141Z"
   },
   {
    "duration": 13,
    "start_time": "2022-09-30T11:19:36.813Z"
   },
   {
    "duration": 30,
    "start_time": "2022-09-30T11:19:36.828Z"
   },
   {
    "duration": 25,
    "start_time": "2022-09-30T11:19:36.859Z"
   },
   {
    "duration": 24,
    "start_time": "2022-09-30T11:19:36.886Z"
   },
   {
    "duration": 13,
    "start_time": "2022-09-30T11:19:36.913Z"
   },
   {
    "duration": 10,
    "start_time": "2022-09-30T11:19:36.928Z"
   },
   {
    "duration": 3,
    "start_time": "2022-09-30T11:19:36.940Z"
   },
   {
    "duration": 10,
    "start_time": "2022-09-30T11:19:36.945Z"
   },
   {
    "duration": 25,
    "start_time": "2022-09-30T11:19:36.957Z"
   },
   {
    "duration": 10,
    "start_time": "2022-09-30T11:19:36.984Z"
   },
   {
    "duration": 20,
    "start_time": "2022-09-30T11:19:36.996Z"
   },
   {
    "duration": 26,
    "start_time": "2022-09-30T11:19:37.018Z"
   },
   {
    "duration": 28,
    "start_time": "2022-09-30T11:19:37.046Z"
   },
   {
    "duration": 9,
    "start_time": "2022-09-30T11:19:37.076Z"
   },
   {
    "duration": 29,
    "start_time": "2022-09-30T11:19:37.087Z"
   },
   {
    "duration": 32,
    "start_time": "2022-09-30T11:19:37.118Z"
   },
   {
    "duration": 7,
    "start_time": "2022-09-30T11:19:37.152Z"
   },
   {
    "duration": 7,
    "start_time": "2022-09-30T11:19:37.160Z"
   },
   {
    "duration": 7,
    "start_time": "2022-09-30T11:19:37.169Z"
   },
   {
    "duration": 5,
    "start_time": "2022-09-30T11:19:37.178Z"
   },
   {
    "duration": 26,
    "start_time": "2022-09-30T11:19:37.184Z"
   },
   {
    "duration": 8,
    "start_time": "2022-09-30T11:19:37.211Z"
   },
   {
    "duration": 9,
    "start_time": "2022-09-30T11:19:37.223Z"
   },
   {
    "duration": 107,
    "start_time": "2022-09-30T11:19:37.233Z"
   },
   {
    "duration": 5,
    "start_time": "2022-09-30T11:19:37.341Z"
   },
   {
    "duration": 13,
    "start_time": "2022-09-30T11:19:37.348Z"
   },
   {
    "duration": 16,
    "start_time": "2022-09-30T11:19:37.362Z"
   },
   {
    "duration": 22,
    "start_time": "2022-09-30T11:19:37.379Z"
   },
   {
    "duration": 47,
    "start_time": "2022-09-30T11:19:37.403Z"
   },
   {
    "duration": 5,
    "start_time": "2022-09-30T11:19:37.451Z"
   },
   {
    "duration": 7,
    "start_time": "2022-09-30T11:19:37.458Z"
   },
   {
    "duration": 361,
    "start_time": "2022-09-30T11:19:37.466Z"
   },
   {
    "duration": 19,
    "start_time": "2022-09-30T11:19:37.829Z"
   },
   {
    "duration": 6,
    "start_time": "2022-09-30T11:19:37.850Z"
   },
   {
    "duration": 20,
    "start_time": "2022-09-30T11:19:37.857Z"
   },
   {
    "duration": 119,
    "start_time": "2022-09-30T11:19:37.879Z"
   },
   {
    "duration": 145,
    "start_time": "2022-09-30T11:19:38.000Z"
   },
   {
    "duration": 9,
    "start_time": "2022-09-30T11:19:38.147Z"
   },
   {
    "duration": 151,
    "start_time": "2022-09-30T11:19:38.158Z"
   },
   {
    "duration": 12,
    "start_time": "2022-09-30T11:19:38.310Z"
   },
   {
    "duration": 166,
    "start_time": "2022-09-30T11:19:38.323Z"
   },
   {
    "duration": 8,
    "start_time": "2022-09-30T11:19:38.490Z"
   },
   {
    "duration": 211,
    "start_time": "2022-09-30T11:19:38.509Z"
   },
   {
    "duration": 7,
    "start_time": "2022-09-30T11:19:38.721Z"
   },
   {
    "duration": 164,
    "start_time": "2022-09-30T11:19:38.729Z"
   },
   {
    "duration": 157,
    "start_time": "2022-09-30T11:19:38.894Z"
   },
   {
    "duration": 7,
    "start_time": "2022-09-30T11:19:39.053Z"
   },
   {
    "duration": 134,
    "start_time": "2022-09-30T11:19:39.062Z"
   },
   {
    "duration": 15,
    "start_time": "2022-09-30T11:19:39.198Z"
   },
   {
    "duration": 133,
    "start_time": "2022-09-30T11:19:39.215Z"
   },
   {
    "duration": 8,
    "start_time": "2022-09-30T11:19:39.349Z"
   },
   {
    "duration": 129,
    "start_time": "2022-09-30T11:19:39.358Z"
   },
   {
    "duration": 7,
    "start_time": "2022-09-30T11:19:39.489Z"
   },
   {
    "duration": 140,
    "start_time": "2022-09-30T11:19:39.509Z"
   },
   {
    "duration": 9,
    "start_time": "2022-09-30T11:19:39.650Z"
   },
   {
    "duration": 132,
    "start_time": "2022-09-30T11:19:39.661Z"
   },
   {
    "duration": 17,
    "start_time": "2022-09-30T11:19:39.794Z"
   },
   {
    "duration": 135,
    "start_time": "2022-09-30T11:19:39.813Z"
   },
   {
    "duration": 9,
    "start_time": "2022-09-30T11:19:39.950Z"
   },
   {
    "duration": 203,
    "start_time": "2022-09-30T11:19:39.961Z"
   },
   {
    "duration": 151,
    "start_time": "2022-09-30T11:19:40.166Z"
   },
   {
    "duration": 7,
    "start_time": "2022-09-30T11:19:40.319Z"
   },
   {
    "duration": 2,
    "start_time": "2022-09-30T11:19:40.328Z"
   },
   {
    "duration": 355,
    "start_time": "2022-09-30T11:19:40.332Z"
   },
   {
    "duration": 10,
    "start_time": "2022-09-30T11:19:40.688Z"
   },
   {
    "duration": 16,
    "start_time": "2022-09-30T11:19:40.699Z"
   },
   {
    "duration": 8,
    "start_time": "2022-09-30T11:19:40.716Z"
   },
   {
    "duration": 167,
    "start_time": "2022-09-30T11:19:40.725Z"
   },
   {
    "duration": 325,
    "start_time": "2022-09-30T11:19:40.893Z"
   },
   {
    "duration": 7,
    "start_time": "2022-09-30T11:19:41.220Z"
   },
   {
    "duration": 237,
    "start_time": "2022-09-30T11:19:41.229Z"
   },
   {
    "duration": 5,
    "start_time": "2022-09-30T11:19:41.468Z"
   },
   {
    "duration": 292,
    "start_time": "2022-09-30T11:19:41.474Z"
   },
   {
    "duration": 5,
    "start_time": "2022-09-30T11:19:41.767Z"
   },
   {
    "duration": 288,
    "start_time": "2022-09-30T11:19:41.773Z"
   },
   {
    "duration": 190,
    "start_time": "2022-09-30T11:19:42.063Z"
   },
   {
    "duration": 117,
    "start_time": "2022-09-30T11:19:42.258Z"
   },
   {
    "duration": 240,
    "start_time": "2022-09-30T11:19:42.377Z"
   },
   {
    "duration": 196,
    "start_time": "2022-09-30T11:19:42.619Z"
   },
   {
    "duration": 145,
    "start_time": "2022-09-30T11:19:42.817Z"
   },
   {
    "duration": 22,
    "start_time": "2022-09-30T11:19:42.964Z"
   },
   {
    "duration": 28,
    "start_time": "2022-09-30T11:19:42.988Z"
   },
   {
    "duration": 204,
    "start_time": "2022-09-30T11:19:43.018Z"
   },
   {
    "duration": 26,
    "start_time": "2022-09-30T11:20:01.943Z"
   },
   {
    "duration": 33,
    "start_time": "2022-09-30T11:20:08.358Z"
   },
   {
    "duration": 39,
    "start_time": "2022-09-30T11:20:15.007Z"
   },
   {
    "duration": 53,
    "start_time": "2022-09-30T11:21:06.914Z"
   },
   {
    "duration": 44,
    "start_time": "2022-09-30T11:21:34.855Z"
   },
   {
    "duration": 1202,
    "start_time": "2022-09-30T14:05:34.860Z"
   },
   {
    "duration": 116,
    "start_time": "2022-09-30T14:05:36.064Z"
   },
   {
    "duration": 18,
    "start_time": "2022-09-30T14:05:36.181Z"
   },
   {
    "duration": 12,
    "start_time": "2022-09-30T14:05:36.200Z"
   },
   {
    "duration": 37,
    "start_time": "2022-09-30T14:05:36.214Z"
   },
   {
    "duration": 1923,
    "start_time": "2022-09-30T14:05:36.253Z"
   },
   {
    "duration": 11,
    "start_time": "2022-09-30T14:05:38.178Z"
   },
   {
    "duration": 80,
    "start_time": "2022-09-30T14:05:38.191Z"
   },
   {
    "duration": 24,
    "start_time": "2022-09-30T14:05:38.272Z"
   },
   {
    "duration": 5,
    "start_time": "2022-09-30T14:05:38.299Z"
   },
   {
    "duration": 38,
    "start_time": "2022-09-30T14:05:38.305Z"
   },
   {
    "duration": 12,
    "start_time": "2022-09-30T14:05:38.347Z"
   },
   {
    "duration": 15,
    "start_time": "2022-09-30T14:05:38.361Z"
   },
   {
    "duration": 7,
    "start_time": "2022-09-30T14:05:38.377Z"
   },
   {
    "duration": 8,
    "start_time": "2022-09-30T14:05:38.386Z"
   },
   {
    "duration": 16,
    "start_time": "2022-09-30T14:05:38.395Z"
   },
   {
    "duration": 8,
    "start_time": "2022-09-30T14:05:38.412Z"
   },
   {
    "duration": 28,
    "start_time": "2022-09-30T14:05:38.421Z"
   },
   {
    "duration": 29,
    "start_time": "2022-09-30T14:05:38.451Z"
   },
   {
    "duration": 8,
    "start_time": "2022-09-30T14:05:38.483Z"
   },
   {
    "duration": 21,
    "start_time": "2022-09-30T14:05:38.492Z"
   },
   {
    "duration": 51,
    "start_time": "2022-09-30T14:05:38.515Z"
   },
   {
    "duration": 6,
    "start_time": "2022-09-30T14:05:38.568Z"
   },
   {
    "duration": 23,
    "start_time": "2022-09-30T14:05:38.576Z"
   },
   {
    "duration": 9,
    "start_time": "2022-09-30T14:05:38.602Z"
   },
   {
    "duration": 18,
    "start_time": "2022-09-30T14:05:38.614Z"
   },
   {
    "duration": 27,
    "start_time": "2022-09-30T14:05:38.641Z"
   },
   {
    "duration": 16,
    "start_time": "2022-09-30T14:05:38.675Z"
   },
   {
    "duration": 13,
    "start_time": "2022-09-30T14:05:38.693Z"
   },
   {
    "duration": 115,
    "start_time": "2022-09-30T14:05:38.708Z"
   },
   {
    "duration": 4,
    "start_time": "2022-09-30T14:05:38.825Z"
   },
   {
    "duration": 7,
    "start_time": "2022-09-30T14:05:38.831Z"
   },
   {
    "duration": 27,
    "start_time": "2022-09-30T14:05:38.839Z"
   },
   {
    "duration": 5,
    "start_time": "2022-09-30T14:05:38.867Z"
   },
   {
    "duration": 51,
    "start_time": "2022-09-30T14:05:38.874Z"
   },
   {
    "duration": 20,
    "start_time": "2022-09-30T14:05:38.927Z"
   },
   {
    "duration": 10,
    "start_time": "2022-09-30T14:05:38.948Z"
   },
   {
    "duration": 322,
    "start_time": "2022-09-30T14:05:38.960Z"
   },
   {
    "duration": 19,
    "start_time": "2022-09-30T14:05:39.284Z"
   },
   {
    "duration": 9,
    "start_time": "2022-09-30T14:05:39.305Z"
   },
   {
    "duration": 11,
    "start_time": "2022-09-30T14:05:39.315Z"
   },
   {
    "duration": 157,
    "start_time": "2022-09-30T14:05:39.328Z"
   },
   {
    "duration": 173,
    "start_time": "2022-09-30T14:05:39.487Z"
   },
   {
    "duration": 9,
    "start_time": "2022-09-30T14:05:39.662Z"
   },
   {
    "duration": 159,
    "start_time": "2022-09-30T14:05:39.673Z"
   },
   {
    "duration": 17,
    "start_time": "2022-09-30T14:05:39.833Z"
   },
   {
    "duration": 143,
    "start_time": "2022-09-30T14:05:39.853Z"
   },
   {
    "duration": 8,
    "start_time": "2022-09-30T14:05:39.998Z"
   },
   {
    "duration": 161,
    "start_time": "2022-09-30T14:05:40.007Z"
   },
   {
    "duration": 8,
    "start_time": "2022-09-30T14:05:40.169Z"
   },
   {
    "duration": 279,
    "start_time": "2022-09-30T14:05:40.179Z"
   },
   {
    "duration": 147,
    "start_time": "2022-09-30T14:05:40.460Z"
   },
   {
    "duration": 7,
    "start_time": "2022-09-30T14:05:40.609Z"
   },
   {
    "duration": 141,
    "start_time": "2022-09-30T14:05:40.618Z"
   },
   {
    "duration": 8,
    "start_time": "2022-09-30T14:05:40.761Z"
   },
   {
    "duration": 130,
    "start_time": "2022-09-30T14:05:40.771Z"
   },
   {
    "duration": 8,
    "start_time": "2022-09-30T14:05:40.903Z"
   },
   {
    "duration": 143,
    "start_time": "2022-09-30T14:05:40.912Z"
   },
   {
    "duration": 8,
    "start_time": "2022-09-30T14:05:41.056Z"
   },
   {
    "duration": 140,
    "start_time": "2022-09-30T14:05:41.066Z"
   },
   {
    "duration": 8,
    "start_time": "2022-09-30T14:05:41.208Z"
   },
   {
    "duration": 140,
    "start_time": "2022-09-30T14:05:41.218Z"
   },
   {
    "duration": 10,
    "start_time": "2022-09-30T14:05:41.359Z"
   },
   {
    "duration": 140,
    "start_time": "2022-09-30T14:05:41.370Z"
   },
   {
    "duration": 11,
    "start_time": "2022-09-30T14:05:41.512Z"
   },
   {
    "duration": 169,
    "start_time": "2022-09-30T14:05:41.524Z"
   },
   {
    "duration": 170,
    "start_time": "2022-09-30T14:05:41.695Z"
   },
   {
    "duration": 8,
    "start_time": "2022-09-30T14:05:41.867Z"
   },
   {
    "duration": 9,
    "start_time": "2022-09-30T14:05:41.876Z"
   },
   {
    "duration": 264,
    "start_time": "2022-09-30T14:05:41.886Z"
   },
   {
    "duration": 10,
    "start_time": "2022-09-30T14:05:42.153Z"
   },
   {
    "duration": 11,
    "start_time": "2022-09-30T14:05:42.164Z"
   },
   {
    "duration": 8,
    "start_time": "2022-09-30T14:05:42.177Z"
   },
   {
    "duration": 248,
    "start_time": "2022-09-30T14:05:42.186Z"
   },
   {
    "duration": 347,
    "start_time": "2022-09-30T14:05:42.441Z"
   },
   {
    "duration": 7,
    "start_time": "2022-09-30T14:05:42.790Z"
   },
   {
    "duration": 233,
    "start_time": "2022-09-30T14:05:42.799Z"
   },
   {
    "duration": 18,
    "start_time": "2022-09-30T14:05:43.038Z"
   },
   {
    "duration": 269,
    "start_time": "2022-09-30T14:05:43.057Z"
   },
   {
    "duration": 21,
    "start_time": "2022-09-30T14:05:43.327Z"
   },
   {
    "duration": 263,
    "start_time": "2022-09-30T14:05:43.351Z"
   },
   {
    "duration": 203,
    "start_time": "2022-09-30T14:05:43.620Z"
   },
   {
    "duration": 105,
    "start_time": "2022-09-30T14:05:43.824Z"
   },
   {
    "duration": 154,
    "start_time": "2022-09-30T14:05:43.931Z"
   },
   {
    "duration": 164,
    "start_time": "2022-09-30T14:05:44.087Z"
   },
   {
    "duration": 233,
    "start_time": "2022-09-30T14:05:44.253Z"
   },
   {
    "duration": 24,
    "start_time": "2022-09-30T14:05:44.488Z"
   },
   {
    "duration": 34,
    "start_time": "2022-09-30T14:05:44.513Z"
   },
   {
    "duration": 189,
    "start_time": "2022-09-30T14:05:44.551Z"
   },
   {
    "duration": 1100,
    "start_time": "2022-09-30T14:06:46.371Z"
   },
   {
    "duration": 113,
    "start_time": "2022-09-30T14:06:47.474Z"
   },
   {
    "duration": 23,
    "start_time": "2022-09-30T14:06:47.589Z"
   },
   {
    "duration": 28,
    "start_time": "2022-09-30T14:06:47.615Z"
   },
   {
    "duration": 15,
    "start_time": "2022-09-30T14:06:47.644Z"
   },
   {
    "duration": 1749,
    "start_time": "2022-09-30T14:06:47.661Z"
   },
   {
    "duration": 10,
    "start_time": "2022-09-30T14:06:49.412Z"
   },
   {
    "duration": 64,
    "start_time": "2022-09-30T14:06:49.439Z"
   },
   {
    "duration": 41,
    "start_time": "2022-09-30T14:06:49.505Z"
   },
   {
    "duration": 4,
    "start_time": "2022-09-30T14:06:49.549Z"
   },
   {
    "duration": 19,
    "start_time": "2022-09-30T14:06:49.555Z"
   },
   {
    "duration": 5,
    "start_time": "2022-09-30T14:06:49.576Z"
   },
   {
    "duration": 5,
    "start_time": "2022-09-30T14:06:49.582Z"
   },
   {
    "duration": 6,
    "start_time": "2022-09-30T14:06:49.588Z"
   },
   {
    "duration": 6,
    "start_time": "2022-09-30T14:06:49.595Z"
   },
   {
    "duration": 12,
    "start_time": "2022-09-30T14:06:49.602Z"
   },
   {
    "duration": 30,
    "start_time": "2022-09-30T14:06:49.615Z"
   },
   {
    "duration": 19,
    "start_time": "2022-09-30T14:06:49.647Z"
   },
   {
    "duration": 20,
    "start_time": "2022-09-30T14:06:49.668Z"
   },
   {
    "duration": 6,
    "start_time": "2022-09-30T14:06:49.689Z"
   },
   {
    "duration": 42,
    "start_time": "2022-09-30T14:06:49.697Z"
   },
   {
    "duration": 27,
    "start_time": "2022-09-30T14:06:49.740Z"
   },
   {
    "duration": 6,
    "start_time": "2022-09-30T14:06:49.768Z"
   },
   {
    "duration": 10,
    "start_time": "2022-09-30T14:06:49.776Z"
   },
   {
    "duration": 7,
    "start_time": "2022-09-30T14:06:49.787Z"
   },
   {
    "duration": 6,
    "start_time": "2022-09-30T14:06:49.796Z"
   },
   {
    "duration": 34,
    "start_time": "2022-09-30T14:06:49.804Z"
   },
   {
    "duration": 6,
    "start_time": "2022-09-30T14:06:49.844Z"
   },
   {
    "duration": 12,
    "start_time": "2022-09-30T14:06:49.852Z"
   },
   {
    "duration": 108,
    "start_time": "2022-09-30T14:06:49.865Z"
   },
   {
    "duration": 4,
    "start_time": "2022-09-30T14:06:49.975Z"
   },
   {
    "duration": 7,
    "start_time": "2022-09-30T14:06:49.980Z"
   },
   {
    "duration": 7,
    "start_time": "2022-09-30T14:06:49.989Z"
   },
   {
    "duration": 4,
    "start_time": "2022-09-30T14:06:49.997Z"
   },
   {
    "duration": 69,
    "start_time": "2022-09-30T14:06:50.002Z"
   },
   {
    "duration": 5,
    "start_time": "2022-09-30T14:06:50.072Z"
   },
   {
    "duration": 10,
    "start_time": "2022-09-30T14:06:50.078Z"
   },
   {
    "duration": 309,
    "start_time": "2022-09-30T14:06:50.089Z"
   },
   {
    "duration": 29,
    "start_time": "2022-09-30T14:06:50.400Z"
   },
   {
    "duration": 4,
    "start_time": "2022-09-30T14:06:50.438Z"
   },
   {
    "duration": 7,
    "start_time": "2022-09-30T14:06:50.444Z"
   },
   {
    "duration": 128,
    "start_time": "2022-09-30T14:06:50.452Z"
   },
   {
    "duration": 146,
    "start_time": "2022-09-30T14:06:50.581Z"
   },
   {
    "duration": 15,
    "start_time": "2022-09-30T14:06:50.729Z"
   },
   {
    "duration": 135,
    "start_time": "2022-09-30T14:06:50.745Z"
   },
   {
    "duration": 9,
    "start_time": "2022-09-30T14:06:50.881Z"
   },
   {
    "duration": 134,
    "start_time": "2022-09-30T14:06:50.891Z"
   },
   {
    "duration": 16,
    "start_time": "2022-09-30T14:06:51.027Z"
   },
   {
    "duration": 129,
    "start_time": "2022-09-30T14:06:51.044Z"
   },
   {
    "duration": 7,
    "start_time": "2022-09-30T14:06:51.175Z"
   },
   {
    "duration": 274,
    "start_time": "2022-09-30T14:06:51.184Z"
   },
   {
    "duration": 188,
    "start_time": "2022-09-30T14:06:51.459Z"
   },
   {
    "duration": 9,
    "start_time": "2022-09-30T14:06:51.649Z"
   },
   {
    "duration": 150,
    "start_time": "2022-09-30T14:06:51.659Z"
   },
   {
    "duration": 9,
    "start_time": "2022-09-30T14:06:51.810Z"
   },
   {
    "duration": 138,
    "start_time": "2022-09-30T14:06:51.821Z"
   },
   {
    "duration": 8,
    "start_time": "2022-09-30T14:06:51.961Z"
   },
   {
    "duration": 140,
    "start_time": "2022-09-30T14:06:51.970Z"
   },
   {
    "duration": 9,
    "start_time": "2022-09-30T14:06:52.111Z"
   },
   {
    "duration": 148,
    "start_time": "2022-09-30T14:06:52.122Z"
   },
   {
    "duration": 8,
    "start_time": "2022-09-30T14:06:52.272Z"
   },
   {
    "duration": 150,
    "start_time": "2022-09-30T14:06:52.282Z"
   },
   {
    "duration": 14,
    "start_time": "2022-09-30T14:06:52.433Z"
   },
   {
    "duration": 139,
    "start_time": "2022-09-30T14:06:52.449Z"
   },
   {
    "duration": 10,
    "start_time": "2022-09-30T14:06:52.589Z"
   },
   {
    "duration": 163,
    "start_time": "2022-09-30T14:06:52.600Z"
   },
   {
    "duration": 146,
    "start_time": "2022-09-30T14:06:52.765Z"
   },
   {
    "duration": 8,
    "start_time": "2022-09-30T14:06:52.912Z"
   },
   {
    "duration": 20,
    "start_time": "2022-09-30T14:06:52.921Z"
   },
   {
    "duration": 247,
    "start_time": "2022-09-30T14:06:52.943Z"
   },
   {
    "duration": 10,
    "start_time": "2022-09-30T14:06:53.192Z"
   },
   {
    "duration": 19,
    "start_time": "2022-09-30T14:06:53.204Z"
   },
   {
    "duration": 15,
    "start_time": "2022-09-30T14:06:53.224Z"
   },
   {
    "duration": 232,
    "start_time": "2022-09-30T14:06:53.240Z"
   },
   {
    "duration": 335,
    "start_time": "2022-09-30T14:06:53.473Z"
   },
   {
    "duration": 9,
    "start_time": "2022-09-30T14:06:53.811Z"
   },
   {
    "duration": 222,
    "start_time": "2022-09-30T14:06:53.822Z"
   },
   {
    "duration": 7,
    "start_time": "2022-09-30T14:06:54.046Z"
   },
   {
    "duration": 284,
    "start_time": "2022-09-30T14:06:54.054Z"
   },
   {
    "duration": 6,
    "start_time": "2022-09-30T14:06:54.340Z"
   },
   {
    "duration": 286,
    "start_time": "2022-09-30T14:06:54.348Z"
   },
   {
    "duration": 193,
    "start_time": "2022-09-30T14:06:54.639Z"
   },
   {
    "duration": 107,
    "start_time": "2022-09-30T14:06:54.833Z"
   },
   {
    "duration": 146,
    "start_time": "2022-09-30T14:06:54.942Z"
   },
   {
    "duration": 154,
    "start_time": "2022-09-30T14:06:55.089Z"
   },
   {
    "duration": 227,
    "start_time": "2022-09-30T14:06:55.245Z"
   },
   {
    "duration": 25,
    "start_time": "2022-09-30T14:06:55.473Z"
   },
   {
    "duration": 16,
    "start_time": "2022-09-30T14:06:55.500Z"
   },
   {
    "duration": 205,
    "start_time": "2022-09-30T14:06:55.517Z"
   },
   {
    "duration": 5,
    "start_time": "2022-09-30T14:13:39.755Z"
   },
   {
    "duration": 53,
    "start_time": "2022-09-30T15:10:30.801Z"
   },
   {
    "duration": 1322,
    "start_time": "2022-09-30T15:10:34.798Z"
   },
   {
    "duration": 292,
    "start_time": "2022-09-30T15:10:36.122Z"
   },
   {
    "duration": 17,
    "start_time": "2022-09-30T15:10:36.416Z"
   },
   {
    "duration": 13,
    "start_time": "2022-09-30T15:10:36.434Z"
   },
   {
    "duration": 18,
    "start_time": "2022-09-30T15:10:36.448Z"
   },
   {
    "duration": 2601,
    "start_time": "2022-09-30T15:10:36.468Z"
   },
   {
    "duration": 10,
    "start_time": "2022-09-30T15:10:39.071Z"
   },
   {
    "duration": 57,
    "start_time": "2022-09-30T15:10:39.083Z"
   },
   {
    "duration": 27,
    "start_time": "2022-09-30T15:10:39.142Z"
   },
   {
    "duration": 16,
    "start_time": "2022-09-30T15:10:39.171Z"
   },
   {
    "duration": 17,
    "start_time": "2022-09-30T15:10:39.189Z"
   },
   {
    "duration": 7,
    "start_time": "2022-09-30T15:10:39.208Z"
   },
   {
    "duration": 12,
    "start_time": "2022-09-30T15:10:39.216Z"
   },
   {
    "duration": 21,
    "start_time": "2022-09-30T15:10:39.229Z"
   },
   {
    "duration": 29,
    "start_time": "2022-09-30T15:10:39.252Z"
   },
   {
    "duration": 14,
    "start_time": "2022-09-30T15:10:39.283Z"
   },
   {
    "duration": 19,
    "start_time": "2022-09-30T15:10:39.299Z"
   },
   {
    "duration": 31,
    "start_time": "2022-09-30T15:10:39.320Z"
   },
   {
    "duration": 25,
    "start_time": "2022-09-30T15:10:39.353Z"
   },
   {
    "duration": 7,
    "start_time": "2022-09-30T15:10:39.380Z"
   },
   {
    "duration": 14,
    "start_time": "2022-09-30T15:10:39.388Z"
   },
   {
    "duration": 37,
    "start_time": "2022-09-30T15:10:39.403Z"
   },
   {
    "duration": 9,
    "start_time": "2022-09-30T15:10:39.442Z"
   },
   {
    "duration": 12,
    "start_time": "2022-09-30T15:10:39.453Z"
   },
   {
    "duration": 12,
    "start_time": "2022-09-30T15:10:39.466Z"
   },
   {
    "duration": 23,
    "start_time": "2022-09-30T15:10:39.479Z"
   },
   {
    "duration": 4,
    "start_time": "2022-09-30T15:10:39.504Z"
   },
   {
    "duration": 6,
    "start_time": "2022-09-30T15:10:39.512Z"
   },
   {
    "duration": 8,
    "start_time": "2022-09-30T15:10:39.519Z"
   },
   {
    "duration": 110,
    "start_time": "2022-09-30T15:10:39.528Z"
   },
   {
    "duration": 4,
    "start_time": "2022-09-30T15:10:39.639Z"
   },
   {
    "duration": 8,
    "start_time": "2022-09-30T15:10:39.645Z"
   },
   {
    "duration": 9,
    "start_time": "2022-09-30T15:10:39.654Z"
   },
   {
    "duration": 9,
    "start_time": "2022-09-30T15:10:39.664Z"
   },
   {
    "duration": 62,
    "start_time": "2022-09-30T15:10:39.675Z"
   },
   {
    "duration": 5,
    "start_time": "2022-09-30T15:10:39.738Z"
   },
   {
    "duration": 6,
    "start_time": "2022-09-30T15:10:39.744Z"
   },
   {
    "duration": 345,
    "start_time": "2022-09-30T15:10:39.751Z"
   },
   {
    "duration": 23,
    "start_time": "2022-09-30T15:10:40.098Z"
   },
   {
    "duration": 3,
    "start_time": "2022-09-30T15:10:40.123Z"
   },
   {
    "duration": 8,
    "start_time": "2022-09-30T15:10:40.127Z"
   },
   {
    "duration": 128,
    "start_time": "2022-09-30T15:10:40.136Z"
   },
   {
    "duration": 143,
    "start_time": "2022-09-30T15:10:40.266Z"
   },
   {
    "duration": 7,
    "start_time": "2022-09-30T15:10:40.410Z"
   },
   {
    "duration": 135,
    "start_time": "2022-09-30T15:10:40.419Z"
   },
   {
    "duration": 7,
    "start_time": "2022-09-30T15:10:40.555Z"
   },
   {
    "duration": 129,
    "start_time": "2022-09-30T15:10:40.564Z"
   },
   {
    "duration": 14,
    "start_time": "2022-09-30T15:10:40.695Z"
   },
   {
    "duration": 125,
    "start_time": "2022-09-30T15:10:40.710Z"
   },
   {
    "duration": 8,
    "start_time": "2022-09-30T15:10:40.837Z"
   },
   {
    "duration": 248,
    "start_time": "2022-09-30T15:10:40.847Z"
   },
   {
    "duration": 142,
    "start_time": "2022-09-30T15:10:41.097Z"
   },
   {
    "duration": 7,
    "start_time": "2022-09-30T15:10:41.240Z"
   },
   {
    "duration": 126,
    "start_time": "2022-09-30T15:10:41.249Z"
   },
   {
    "duration": 7,
    "start_time": "2022-09-30T15:10:41.376Z"
   },
   {
    "duration": 126,
    "start_time": "2022-09-30T15:10:41.385Z"
   },
   {
    "duration": 7,
    "start_time": "2022-09-30T15:10:41.513Z"
   },
   {
    "duration": 137,
    "start_time": "2022-09-30T15:10:41.521Z"
   },
   {
    "duration": 9,
    "start_time": "2022-09-30T15:10:41.659Z"
   },
   {
    "duration": 154,
    "start_time": "2022-09-30T15:10:41.669Z"
   },
   {
    "duration": 7,
    "start_time": "2022-09-30T15:10:41.825Z"
   },
   {
    "duration": 141,
    "start_time": "2022-09-30T15:10:41.833Z"
   },
   {
    "duration": 11,
    "start_time": "2022-09-30T15:10:41.976Z"
   },
   {
    "duration": 142,
    "start_time": "2022-09-30T15:10:41.989Z"
   },
   {
    "duration": 8,
    "start_time": "2022-09-30T15:10:42.133Z"
   },
   {
    "duration": 142,
    "start_time": "2022-09-30T15:10:42.143Z"
   },
   {
    "duration": 146,
    "start_time": "2022-09-30T15:10:42.287Z"
   },
   {
    "duration": 7,
    "start_time": "2022-09-30T15:10:42.435Z"
   },
   {
    "duration": 4,
    "start_time": "2022-09-30T15:10:42.444Z"
   },
   {
    "duration": 297,
    "start_time": "2022-09-30T15:10:42.450Z"
   },
   {
    "duration": 10,
    "start_time": "2022-09-30T15:10:42.749Z"
   },
   {
    "duration": 11,
    "start_time": "2022-09-30T15:10:42.760Z"
   },
   {
    "duration": 6,
    "start_time": "2022-09-30T15:10:42.773Z"
   },
   {
    "duration": 235,
    "start_time": "2022-09-30T15:10:42.781Z"
   },
   {
    "duration": 320,
    "start_time": "2022-09-30T15:10:43.018Z"
   },
   {
    "duration": 7,
    "start_time": "2022-09-30T15:10:43.340Z"
   },
   {
    "duration": 219,
    "start_time": "2022-09-30T15:10:43.349Z"
   },
   {
    "duration": 4,
    "start_time": "2022-09-30T15:10:43.570Z"
   },
   {
    "duration": 290,
    "start_time": "2022-09-30T15:10:43.576Z"
   },
   {
    "duration": 7,
    "start_time": "2022-09-30T15:10:43.867Z"
   },
   {
    "duration": 319,
    "start_time": "2022-09-30T15:10:43.876Z"
   },
   {
    "duration": 196,
    "start_time": "2022-09-30T15:10:44.202Z"
   },
   {
    "duration": 113,
    "start_time": "2022-09-30T15:10:44.399Z"
   },
   {
    "duration": 144,
    "start_time": "2022-09-30T15:10:44.514Z"
   },
   {
    "duration": 174,
    "start_time": "2022-09-30T15:10:44.660Z"
   },
   {
    "duration": 221,
    "start_time": "2022-09-30T15:10:44.836Z"
   },
   {
    "duration": 24,
    "start_time": "2022-09-30T15:10:45.059Z"
   },
   {
    "duration": 31,
    "start_time": "2022-09-30T15:10:45.084Z"
   },
   {
    "duration": 212,
    "start_time": "2022-09-30T15:10:45.116Z"
   },
   {
    "duration": 28,
    "start_time": "2022-09-30T15:11:07.757Z"
   },
   {
    "duration": 18,
    "start_time": "2022-09-30T15:13:37.108Z"
   },
   {
    "duration": 18,
    "start_time": "2022-09-30T15:13:44.707Z"
   },
   {
    "duration": 24,
    "start_time": "2022-09-30T15:14:01.979Z"
   },
   {
    "duration": 141,
    "start_time": "2022-09-30T15:14:32.628Z"
   },
   {
    "duration": 25,
    "start_time": "2022-09-30T15:14:49.091Z"
   },
   {
    "duration": 30,
    "start_time": "2022-09-30T15:14:52.714Z"
   },
   {
    "duration": 25,
    "start_time": "2022-09-30T15:23:32.838Z"
   },
   {
    "duration": 24,
    "start_time": "2022-09-30T15:30:15.778Z"
   },
   {
    "duration": 18,
    "start_time": "2022-09-30T15:30:47.928Z"
   },
   {
    "duration": 23,
    "start_time": "2022-09-30T15:30:53.656Z"
   },
   {
    "duration": 21,
    "start_time": "2022-09-30T15:31:05.104Z"
   },
   {
    "duration": 20,
    "start_time": "2022-09-30T15:31:12.160Z"
   },
   {
    "duration": 51,
    "start_time": "2022-09-30T15:31:52.111Z"
   },
   {
    "duration": 28,
    "start_time": "2022-09-30T15:40:53.057Z"
   },
   {
    "duration": 4,
    "start_time": "2022-09-30T15:40:55.957Z"
   },
   {
    "duration": 104,
    "start_time": "2022-09-30T15:40:55.963Z"
   },
   {
    "duration": 15,
    "start_time": "2022-09-30T15:40:56.069Z"
   },
   {
    "duration": 45,
    "start_time": "2022-09-30T15:40:56.086Z"
   },
   {
    "duration": 15,
    "start_time": "2022-09-30T15:40:56.133Z"
   },
   {
    "duration": 1657,
    "start_time": "2022-09-30T15:40:56.149Z"
   },
   {
    "duration": 18,
    "start_time": "2022-09-30T15:40:57.807Z"
   },
   {
    "duration": 32,
    "start_time": "2022-09-30T15:40:57.826Z"
   },
   {
    "duration": 110,
    "start_time": "2022-09-30T15:40:57.861Z"
   },
   {
    "duration": 6,
    "start_time": "2022-09-30T15:40:57.973Z"
   },
   {
    "duration": 38,
    "start_time": "2022-09-30T15:40:57.982Z"
   },
   {
    "duration": 5,
    "start_time": "2022-09-30T15:40:58.022Z"
   },
   {
    "duration": 20,
    "start_time": "2022-09-30T15:40:58.028Z"
   },
   {
    "duration": 29,
    "start_time": "2022-09-30T15:40:58.049Z"
   },
   {
    "duration": 19,
    "start_time": "2022-09-30T15:40:58.080Z"
   },
   {
    "duration": 34,
    "start_time": "2022-09-30T15:40:58.101Z"
   },
   {
    "duration": 25,
    "start_time": "2022-09-30T15:40:58.136Z"
   },
   {
    "duration": 37,
    "start_time": "2022-09-30T15:40:58.163Z"
   },
   {
    "duration": 35,
    "start_time": "2022-09-30T15:40:58.202Z"
   },
   {
    "duration": 29,
    "start_time": "2022-09-30T15:40:58.238Z"
   },
   {
    "duration": 23,
    "start_time": "2022-09-30T15:40:58.268Z"
   },
   {
    "duration": 38,
    "start_time": "2022-09-30T15:40:58.292Z"
   },
   {
    "duration": 7,
    "start_time": "2022-09-30T15:40:58.332Z"
   },
   {
    "duration": 32,
    "start_time": "2022-09-30T15:40:58.341Z"
   },
   {
    "duration": 19,
    "start_time": "2022-09-30T15:40:58.375Z"
   },
   {
    "duration": 51,
    "start_time": "2022-09-30T15:40:58.397Z"
   },
   {
    "duration": 20,
    "start_time": "2022-09-30T15:40:58.450Z"
   },
   {
    "duration": 29,
    "start_time": "2022-09-30T15:40:58.472Z"
   },
   {
    "duration": 42,
    "start_time": "2022-09-30T15:40:58.506Z"
   },
   {
    "duration": 116,
    "start_time": "2022-09-30T15:40:58.550Z"
   },
   {
    "duration": 5,
    "start_time": "2022-09-30T15:40:58.668Z"
   },
   {
    "duration": 13,
    "start_time": "2022-09-30T15:40:58.675Z"
   },
   {
    "duration": 15,
    "start_time": "2022-09-30T15:40:58.690Z"
   },
   {
    "duration": 25,
    "start_time": "2022-09-30T15:40:58.706Z"
   },
   {
    "duration": 60,
    "start_time": "2022-09-30T15:40:58.733Z"
   },
   {
    "duration": 6,
    "start_time": "2022-09-30T15:40:58.795Z"
   },
   {
    "duration": 33,
    "start_time": "2022-09-30T15:40:58.802Z"
   },
   {
    "duration": 346,
    "start_time": "2022-09-30T15:40:58.837Z"
   },
   {
    "duration": 37,
    "start_time": "2022-09-30T15:40:59.184Z"
   },
   {
    "duration": 4,
    "start_time": "2022-09-30T15:40:59.223Z"
   },
   {
    "duration": 41,
    "start_time": "2022-09-30T15:40:59.229Z"
   },
   {
    "duration": 8,
    "start_time": "2022-09-30T15:40:59.272Z"
   },
   {
    "duration": 141,
    "start_time": "2022-09-30T15:40:59.282Z"
   },
   {
    "duration": 138,
    "start_time": "2022-09-30T15:40:59.425Z"
   },
   {
    "duration": 7,
    "start_time": "2022-09-30T15:40:59.565Z"
   },
   {
    "duration": 149,
    "start_time": "2022-09-30T15:40:59.574Z"
   },
   {
    "duration": 9,
    "start_time": "2022-09-30T15:40:59.725Z"
   },
   {
    "duration": 130,
    "start_time": "2022-09-30T15:40:59.736Z"
   },
   {
    "duration": 9,
    "start_time": "2022-09-30T15:40:59.868Z"
   },
   {
    "duration": 145,
    "start_time": "2022-09-30T15:40:59.878Z"
   },
   {
    "duration": 9,
    "start_time": "2022-09-30T15:41:00.025Z"
   },
   {
    "duration": 157,
    "start_time": "2022-09-30T15:41:00.035Z"
   },
   {
    "duration": 148,
    "start_time": "2022-09-30T15:41:00.193Z"
   },
   {
    "duration": 7,
    "start_time": "2022-09-30T15:41:00.343Z"
   },
   {
    "duration": 220,
    "start_time": "2022-09-30T15:41:00.351Z"
   },
   {
    "duration": 7,
    "start_time": "2022-09-30T15:41:00.572Z"
   },
   {
    "duration": 138,
    "start_time": "2022-09-30T15:41:00.581Z"
   },
   {
    "duration": 8,
    "start_time": "2022-09-30T15:41:00.721Z"
   },
   {
    "duration": 135,
    "start_time": "2022-09-30T15:41:00.730Z"
   },
   {
    "duration": 8,
    "start_time": "2022-09-30T15:41:00.867Z"
   },
   {
    "duration": 152,
    "start_time": "2022-09-30T15:41:00.876Z"
   },
   {
    "duration": 8,
    "start_time": "2022-09-30T15:41:01.029Z"
   },
   {
    "duration": 154,
    "start_time": "2022-09-30T15:41:01.038Z"
   },
   {
    "duration": 9,
    "start_time": "2022-09-30T15:41:01.193Z"
   },
   {
    "duration": 137,
    "start_time": "2022-09-30T15:41:01.204Z"
   },
   {
    "duration": 9,
    "start_time": "2022-09-30T15:41:01.343Z"
   },
   {
    "duration": 155,
    "start_time": "2022-09-30T15:41:01.353Z"
   },
   {
    "duration": 145,
    "start_time": "2022-09-30T15:41:01.512Z"
   },
   {
    "duration": 6,
    "start_time": "2022-09-30T15:41:01.659Z"
   },
   {
    "duration": 141,
    "start_time": "2022-09-30T15:41:01.667Z"
   },
   {
    "duration": 263,
    "start_time": "2022-09-30T15:41:01.810Z"
   },
   {
    "duration": 11,
    "start_time": "2022-09-30T15:41:02.074Z"
   },
   {
    "duration": 12,
    "start_time": "2022-09-30T15:41:02.086Z"
   },
   {
    "duration": 27,
    "start_time": "2022-09-30T15:41:02.099Z"
   },
   {
    "duration": 193,
    "start_time": "2022-09-30T15:41:02.127Z"
   },
   {
    "duration": 419,
    "start_time": "2022-09-30T15:41:02.322Z"
   },
   {
    "duration": 9,
    "start_time": "2022-09-30T15:41:02.743Z"
   },
   {
    "duration": 275,
    "start_time": "2022-09-30T15:41:02.753Z"
   },
   {
    "duration": 5,
    "start_time": "2022-09-30T15:41:03.030Z"
   },
   {
    "duration": 363,
    "start_time": "2022-09-30T15:41:03.036Z"
   },
   {
    "duration": 8,
    "start_time": "2022-09-30T15:41:03.401Z"
   },
   {
    "duration": 307,
    "start_time": "2022-09-30T15:41:03.411Z"
   },
   {
    "duration": 207,
    "start_time": "2022-09-30T15:41:03.725Z"
   },
   {
    "duration": 106,
    "start_time": "2022-09-30T15:41:03.934Z"
   },
   {
    "duration": 156,
    "start_time": "2022-09-30T15:41:04.042Z"
   },
   {
    "duration": 166,
    "start_time": "2022-09-30T15:41:04.200Z"
   },
   {
    "duration": 127,
    "start_time": "2022-09-30T15:41:04.367Z"
   },
   {
    "duration": 125,
    "start_time": "2022-09-30T15:41:04.496Z"
   },
   {
    "duration": 15,
    "start_time": "2022-09-30T15:41:04.623Z"
   },
   {
    "duration": 201,
    "start_time": "2022-09-30T15:41:04.640Z"
   },
   {
    "duration": 3,
    "start_time": "2022-09-30T15:42:06.176Z"
   },
   {
    "duration": 27,
    "start_time": "2022-09-30T15:42:09.158Z"
   },
   {
    "duration": 1291,
    "start_time": "2022-10-27T11:09:38.689Z"
   },
   {
    "duration": 305,
    "start_time": "2022-10-27T11:09:39.982Z"
   },
   {
    "duration": 18,
    "start_time": "2022-10-27T11:09:40.288Z"
   },
   {
    "duration": 19,
    "start_time": "2022-10-27T11:09:40.307Z"
   },
   {
    "duration": 20,
    "start_time": "2022-10-27T11:09:40.328Z"
   },
   {
    "duration": 1807,
    "start_time": "2022-10-27T11:09:40.349Z"
   },
   {
    "duration": 9,
    "start_time": "2022-10-27T11:09:42.158Z"
   },
   {
    "duration": 53,
    "start_time": "2022-10-27T11:09:42.169Z"
   },
   {
    "duration": 23,
    "start_time": "2022-10-27T11:09:42.224Z"
   },
   {
    "duration": 6,
    "start_time": "2022-10-27T11:09:42.248Z"
   },
   {
    "duration": 31,
    "start_time": "2022-10-27T11:09:42.256Z"
   },
   {
    "duration": 5,
    "start_time": "2022-10-27T11:09:42.289Z"
   },
   {
    "duration": 8,
    "start_time": "2022-10-27T11:09:42.296Z"
   },
   {
    "duration": 6,
    "start_time": "2022-10-27T11:09:42.307Z"
   },
   {
    "duration": 13,
    "start_time": "2022-10-27T11:09:42.314Z"
   },
   {
    "duration": 21,
    "start_time": "2022-10-27T11:09:42.329Z"
   },
   {
    "duration": 42,
    "start_time": "2022-10-28T13:14:18.805Z"
   },
   {
    "duration": 1219,
    "start_time": "2022-10-28T13:14:24.497Z"
   },
   {
    "duration": 137,
    "start_time": "2022-10-28T13:14:25.718Z"
   },
   {
    "duration": 18,
    "start_time": "2022-10-28T13:14:25.856Z"
   },
   {
    "duration": 22,
    "start_time": "2022-10-28T13:14:25.877Z"
   },
   {
    "duration": 48,
    "start_time": "2022-10-28T13:14:25.900Z"
   },
   {
    "duration": 1691,
    "start_time": "2022-10-28T13:14:25.949Z"
   },
   {
    "duration": 8,
    "start_time": "2022-10-28T13:14:27.641Z"
   },
   {
    "duration": 53,
    "start_time": "2022-10-28T13:14:27.650Z"
   },
   {
    "duration": 21,
    "start_time": "2022-10-28T13:14:27.705Z"
   },
   {
    "duration": 4,
    "start_time": "2022-10-28T13:14:27.728Z"
   },
   {
    "duration": 19,
    "start_time": "2022-10-28T13:14:27.733Z"
   },
   {
    "duration": 5,
    "start_time": "2022-10-28T13:14:28.152Z"
   },
   {
    "duration": 63,
    "start_time": "2022-10-28T13:14:33.706Z"
   }
  ],
  "kernelspec": {
   "display_name": "Python 3 (ipykernel)",
   "language": "python",
   "name": "python3"
  },
  "language_info": {
   "codemirror_mode": {
    "name": "ipython",
    "version": 3
   },
   "file_extension": ".py",
   "mimetype": "text/x-python",
   "name": "python",
   "nbconvert_exporter": "python",
   "pygments_lexer": "ipython3",
   "version": "3.9.7"
  },
  "toc": {
   "base_numbering": 1,
   "nav_menu": {
    "height": "237px",
    "width": "477px"
   },
   "number_sections": true,
   "sideBar": true,
   "skip_h1_title": true,
   "title_cell": "Table of Contents",
   "title_sidebar": "Contents",
   "toc_cell": false,
   "toc_position": {
    "height": "calc(100% - 180px)",
    "left": "10px",
    "top": "150px",
    "width": "341px"
   },
   "toc_section_display": true,
   "toc_window_display": true
  }
 },
 "nbformat": 4,
 "nbformat_minor": 2
}
